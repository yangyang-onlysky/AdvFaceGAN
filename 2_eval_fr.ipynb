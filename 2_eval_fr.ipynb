{
 "cells": [
  {
   "cell_type": "code",
   "id": "222317a60a05fa02",
   "metadata": {
    "ExecuteTime": {
     "end_time": "2024-09-26T06:23:19.590644Z",
     "start_time": "2024-09-26T06:23:19.572585Z"
    }
   },
   "source": [
    "from fr_models.config import *\n",
    "\n",
    "fr_model_names = list(threshold_lfw.keys())\n",
    "# fr_model_names = ['testirse50', 'testir152', 'testmobileface', 'testfacenet']\n",
    "print(\"---------------------all fr models----------------------\")\n",
    "fr_model_names"
   ],
   "outputs": [
    {
     "name": "stdout",
     "output_type": "stream",
     "text": [
      "---------------------all fr models----------------------\n"
     ]
    },
    {
     "data": {
      "text/plain": [
       "['ShuffleNet_V2_GDConv-stride1',\n",
       " 'Mobilenet',\n",
       " 'MobilenetV2-stride1',\n",
       " 'CosFace',\n",
       " 'FaceNet-VGGFace2',\n",
       " 'Mobilenet-stride1',\n",
       " 'SphereFace',\n",
       " 'MobileFace',\n",
       " 'FaceNet-casia',\n",
       " 'MobilenetV2',\n",
       " 'ArcFace',\n",
       " 'ResNet50',\n",
       " 'ShuffleNet_V1_GDConv',\n",
       " 'ResNet50-casia',\n",
       " 'IR50-Am',\n",
       " 'IR50-ArcFace',\n",
       " 'IR50-CosFace',\n",
       " 'IR50-Softmax',\n",
       " 'IR50-SphereFace',\n",
       " 'IR50-PGDSoftmax',\n",
       " 'IR50-TradesSoftmax',\n",
       " 'IR50-PGDArcFace',\n",
       " 'IR50-TradesArcFace',\n",
       " 'IR50-PGDCosFace',\n",
       " 'IR50-TradesCosFace',\n",
       " 'IR50-PGDAm',\n",
       " 'IR50-PGDSphereFace',\n",
       " 'CASIA-Am',\n",
       " 'CASIA-ArcFace',\n",
       " 'CASIA-CosFace',\n",
       " 'CASIA-Softmax',\n",
       " 'CASIA-SphereFace',\n",
       " 'IR50-Softmax-BR',\n",
       " 'IR50-Softmax-JPEG',\n",
       " 'IR50-Softmax-RP',\n",
       " 'testir152',\n",
       " 'testirse50',\n",
       " 'testmobileface',\n",
       " 'testfacenet']"
      ]
     },
     "execution_count": 1,
     "metadata": {},
     "output_type": "execute_result"
    }
   ],
   "execution_count": 1
  },
  {
   "cell_type": "code",
   "id": "a26e0ea17775049b",
   "metadata": {
    "ExecuteTime": {
     "end_time": "2024-09-26T06:23:23.493715Z",
     "start_time": "2024-09-26T06:23:19.624649Z"
    }
   },
   "source": [
    "import torch\n",
    "import torchvision\n",
    "import torch.nn.functional as F\n",
    "from utils.dataset import Dataset\n",
    "from fr_models.get_model import getmodel\n",
    "from tqdm import tqdm\n",
    "\n",
    "def loadDataset(dataset_dir, mean, std, mode, batch_size):\n",
    "    dataset = Dataset(dataset_dir, mode)\n",
    "    transforms = torchvision.transforms.Compose([\n",
    "        torchvision.transforms.ToTensor(),\n",
    "        torchvision.transforms.Normalize(mean=mean, std=std), \n",
    "    ])\n",
    "    dataset.start_batch_queue(\n",
    "        batch_size=batch_size,\n",
    "        batch_format=\"random_samples\",\n",
    "        transforms=transforms,\n",
    "        num_threads=2,\n",
    "        untarget_same=False\n",
    "    )\n",
    "    return dataset\n",
    "\n",
    "def evalFRModel(model, img_shape, mode, dataset):\n",
    "    epoch_size = 6000 // batch_size\n",
    "    simi_scores = []\n",
    "    for _ in tqdm(range(0, epoch_size), total=epoch_size):\n",
    "        batch = dataset.pop_batch_queue()\n",
    "        with torch.no_grad():\n",
    "            source_faces = batch['sources'].cuda()\n",
    "            target_faces = batch['targets'].cuda()\n",
    "            emb_source_faces = model.forward(F.interpolate((source_faces*0.5+0.5)*255, size=img_shape, mode='bilinear'))\n",
    "            emb_target_faces = model.forward(F.interpolate((target_faces*0.5+0.5)*255, size=img_shape, mode='bilinear'))\n",
    "            batch_scores = torch.cosine_similarity(emb_source_faces, emb_target_faces)\n",
    "            simi_scores.extend(batch_scores.tolist())\n",
    "    th = threshold_lfw[model_name]['cos']\n",
    "    print(\"识别阈值:\", th)\n",
    "    mean_simi = sum(simi_scores)/len(simi_scores)\n",
    "    print(\"平均相似分数:\", mean_simi)\n",
    "    success_rate = sum(score > th if mode==\"untarget\" else score < th for score in simi_scores) / len(simi_scores)\n",
    "    print(model_name, \"benchmark rate:%f\" % threshold_lfw[model_name]['cos_acc'])\n",
    "    print(model_name, \"success rate:%f\" % success_rate)\n",
    "    return th, mean_simi, threshold_lfw[model_name]['cos_acc'], success_rate"
   ],
   "outputs": [],
   "execution_count": 2
  },
  {
   "cell_type": "code",
   "id": "3f0c6b9e7a042d8e",
   "metadata": {
    "ExecuteTime": {
     "end_time": "2024-09-26T09:54:09.346660Z",
     "start_time": "2024-09-26T09:24:21.417910Z"
    }
   },
   "source": [
    "from fr_models.get_model import getmodel\n",
    "import json\n",
    "\n",
    "batch_size=32\n",
    "# your dataset's directory\n",
    "dataset_dir=\"C:/yy/datasets/lfw/lfw-aligned-112x112\"\n",
    "untarget_dataset = loadDataset(dataset_dir=dataset_dir,\n",
    "                                   mean=[0.5, 0.5, 0.5],\n",
    "                                   std=[0.5, 0.5, 0.5],\n",
    "                                   mode=\"untarget\",\n",
    "                                   batch_size=batch_size)\n",
    "target_dataset = loadDataset(dataset_dir=dataset_dir,\n",
    "                                   mean=[0.5, 0.5, 0.5],\n",
    "                                   std=[0.5, 0.5, 0.5],\n",
    "                                   mode=\"target\",\n",
    "                                   batch_size=batch_size)\n",
    "benchmark = {}\n",
    "print(\"use dataset %s:\" % dataset_dir)\n",
    "for model_name in fr_model_names:\n",
    "    with torch.no_grad():\n",
    "        benchmark[model_name]={}\n",
    "        print(\"evaluation %s now:\" % (model_name))\n",
    "        model, img_shape = getmodel(model_name)\n",
    "        print(\"    TAR:\")\n",
    "        benchmark[model_name]['TAR']=evalFRModel(model, img_shape, \"untarget\", untarget_dataset)\n",
    "        print(\"    FAR:\")\n",
    "        benchmark[model_name]['FAR']=evalFRModel(model, img_shape, \"target\", target_dataset)\n",
    "\n",
    "print(json.dumps(benchmark, indent=2))"
   ],
   "outputs": [
    {
     "name": "stdout",
     "output_type": "stream",
     "text": [
      "9164 images of 1680 classes loaded\n",
      "13233 images of 5749 classes loaded\n",
      "use dataset C:/yy/datasets/lfw/lfw-aligned-112x112:\n",
      "evaluation ShuffleNet_V2_GDConv-stride1 now:\n",
      "Load existing checkpoint\n",
      "    TAR:\n"
     ]
    },
    {
     "name": "stderr",
     "output_type": "stream",
     "text": [
      "  0%|          | 0/187 [00:00<?, ?it/s]C:\\yy\\installed_software\\Anaconda3\\envs\\AdvFaceGAN\\Lib\\site-packages\\torch\\storage.py:414: FutureWarning: You are using `torch.load` with `weights_only=False` (the current default value), which uses the default pickle module implicitly. It is possible to construct malicious pickle data which will execute arbitrary code during unpickling (See https://github.com/pytorch/pytorch/blob/main/SECURITY.md#untrusted-models for more details). In a future release, the default value for `weights_only` will be flipped to `True`. This limits the functions that could be executed during unpickling. Arbitrary objects will no longer be allowed to be loaded via this mode unless they are explicitly allowlisted by the user via `torch.serialization.add_safe_globals`. We recommend you start setting `weights_only=True` for any use case where you don't have full control of the loaded file. Please open an issue on GitHub for any issues related to this experimental feature.\n",
      "  return torch.load(io.BytesIO(b))\n",
      "100%|██████████| 187/187 [00:13<00:00, 14.25it/s]\n"
     ]
    },
    {
     "name": "stdout",
     "output_type": "stream",
     "text": [
      "识别阈值: 0.22403636574745178\n",
      "平均相似分数: 0.5562467525761704\n",
      "ShuffleNet_V2_GDConv-stride1 benchmark rate:0.991500\n",
      "ShuffleNet_V2_GDConv-stride1 success rate:0.983456\n",
      "    FAR:\n"
     ]
    },
    {
     "name": "stderr",
     "output_type": "stream",
     "text": [
      "100%|██████████| 187/187 [00:12<00:00, 14.48it/s]\n"
     ]
    },
    {
     "name": "stdout",
     "output_type": "stream",
     "text": [
      "识别阈值: 0.22403636574745178\n",
      "平均相似分数: 0.034676948938980066\n",
      "ShuffleNet_V2_GDConv-stride1 benchmark rate:0.991500\n",
      "ShuffleNet_V2_GDConv-stride1 success rate:0.994987\n",
      "evaluation Mobilenet now:\n",
      "Load existing checkpoint\n",
      "    TAR:\n"
     ]
    },
    {
     "name": "stderr",
     "output_type": "stream",
     "text": [
      "100%|██████████| 187/187 [00:09<00:00, 20.41it/s]\n"
     ]
    },
    {
     "name": "stdout",
     "output_type": "stream",
     "text": [
      "识别阈值: 0.15846577286720276\n",
      "平均相似分数: 0.5287337219143377\n",
      "Mobilenet benchmark rate:0.993500\n",
      "Mobilenet success rate:0.989973\n",
      "    FAR:\n"
     ]
    },
    {
     "name": "stderr",
     "output_type": "stream",
     "text": [
      "100%|██████████| 187/187 [00:09<00:00, 19.42it/s]\n"
     ]
    },
    {
     "name": "stdout",
     "output_type": "stream",
     "text": [
      "识别阈值: 0.15846577286720276\n",
      "平均相似分数: 0.00530493123069926\n",
      "Mobilenet benchmark rate:0.993500\n",
      "Mobilenet success rate:0.995655\n",
      "evaluation MobilenetV2-stride1 now:\n",
      "Load existing checkpoint\n",
      "    TAR:\n"
     ]
    },
    {
     "name": "stderr",
     "output_type": "stream",
     "text": [
      "100%|██████████| 187/187 [00:12<00:00, 14.74it/s]\n"
     ]
    },
    {
     "name": "stdout",
     "output_type": "stream",
     "text": [
      "识别阈值: 0.24340271949768066\n",
      "平均相似分数: 0.572384514267255\n",
      "MobilenetV2-stride1 benchmark rate:0.990500\n",
      "MobilenetV2-stride1 success rate:0.986965\n",
      "    FAR:\n"
     ]
    },
    {
     "name": "stderr",
     "output_type": "stream",
     "text": [
      "100%|██████████| 187/187 [00:12<00:00, 15.07it/s]\n"
     ]
    },
    {
     "name": "stdout",
     "output_type": "stream",
     "text": [
      "识别阈值: 0.24340271949768066\n",
      "平均相似分数: 0.02833695003155396\n",
      "MobilenetV2-stride1 benchmark rate:0.990500\n",
      "MobilenetV2-stride1 success rate:0.994151\n",
      "evaluation CosFace now:\n",
      "Load existing checkpoint\n",
      "    TAR:\n"
     ]
    },
    {
     "name": "stderr",
     "output_type": "stream",
     "text": [
      "100%|██████████| 187/187 [00:09<00:00, 20.36it/s]\n"
     ]
    },
    {
     "name": "stdout",
     "output_type": "stream",
     "text": [
      "识别阈值: 0.24625787138938904\n",
      "平均相似分数: 0.586980783589742\n",
      "CosFace benchmark rate:0.986833\n",
      "CosFace success rate:0.981785\n",
      "    FAR:\n"
     ]
    },
    {
     "name": "stderr",
     "output_type": "stream",
     "text": [
      "100%|██████████| 187/187 [00:09<00:00, 20.06it/s]\n"
     ]
    },
    {
     "name": "stdout",
     "output_type": "stream",
     "text": [
      "识别阈值: 0.24625787138938904\n",
      "平均相似分数: 0.03779037925473104\n",
      "CosFace benchmark rate:0.986833\n",
      "CosFace success rate:0.980782\n",
      "evaluation FaceNet-VGGFace2 now:\n",
      "Load existing checkpoint\n",
      "    TAR:\n"
     ]
    },
    {
     "name": "stderr",
     "output_type": "stream",
     "text": [
      "100%|██████████| 187/187 [00:21<00:00,  8.68it/s]\n"
     ]
    },
    {
     "name": "stdout",
     "output_type": "stream",
     "text": [
      "识别阈值: 0.42074376344680786\n",
      "平均相似分数: 0.7556741915762744\n",
      "FaceNet-VGGFace2 benchmark rate:0.992333\n",
      "FaceNet-VGGFace2 success rate:0.989305\n",
      "    FAR:\n"
     ]
    },
    {
     "name": "stderr",
     "output_type": "stream",
     "text": [
      "100%|██████████| 187/187 [00:21<00:00,  8.73it/s]\n"
     ]
    },
    {
     "name": "stdout",
     "output_type": "stream",
     "text": [
      "识别阈值: 0.42074376344680786\n",
      "平均相似分数: 0.03606941384019923\n",
      "FaceNet-VGGFace2 benchmark rate:0.992333\n",
      "FaceNet-VGGFace2 success rate:0.991811\n",
      "evaluation Mobilenet-stride1 now:\n",
      "Load existing checkpoint\n",
      "    TAR:\n"
     ]
    },
    {
     "name": "stderr",
     "output_type": "stream",
     "text": [
      "100%|██████████| 187/187 [00:11<00:00, 16.70it/s]\n"
     ]
    },
    {
     "name": "stdout",
     "output_type": "stream",
     "text": [
      "识别阈值: 0.19342336058616638\n",
      "平均相似分数: 0.5718552487039189\n",
      "Mobilenet-stride1 benchmark rate:0.995667\n",
      "Mobilenet-stride1 success rate:0.991644\n",
      "    FAR:\n"
     ]
    },
    {
     "name": "stderr",
     "output_type": "stream",
     "text": [
      "100%|██████████| 187/187 [00:11<00:00, 16.92it/s]\n"
     ]
    },
    {
     "name": "stdout",
     "output_type": "stream",
     "text": [
      "识别阈值: 0.19342336058616638\n",
      "平均相似分数: 0.00905766151678147\n",
      "Mobilenet-stride1 benchmark rate:0.995667\n",
      "Mobilenet-stride1 success rate:0.995655\n",
      "evaluation SphereFace now:\n",
      "Load existing checkpoint\n",
      "    TAR:\n"
     ]
    },
    {
     "name": "stderr",
     "output_type": "stream",
     "text": [
      "100%|██████████| 187/187 [00:09<00:00, 20.62it/s]\n"
     ]
    },
    {
     "name": "stdout",
     "output_type": "stream",
     "text": [
      "识别阈值: 0.34931832551956177\n",
      "平均相似分数: 0.6359025181711896\n",
      "SphereFace benchmark rate:0.981833\n",
      "SphereFace success rate:0.977440\n",
      "    FAR:\n"
     ]
    },
    {
     "name": "stderr",
     "output_type": "stream",
     "text": [
      "100%|██████████| 187/187 [00:09<00:00, 19.82it/s]\n"
     ]
    },
    {
     "name": "stdout",
     "output_type": "stream",
     "text": [
      "识别阈值: 0.34931832551956177\n",
      "平均相似分数: 0.08945396062020769\n",
      "SphereFace benchmark rate:0.981833\n",
      "SphereFace success rate:0.983456\n",
      "evaluation MobileFace now:\n",
      "Load existing checkpoint\n",
      "    TAR:\n"
     ]
    },
    {
     "name": "stderr",
     "output_type": "stream",
     "text": [
      "100%|██████████| 187/187 [00:10<00:00, 17.44it/s]\n"
     ]
    },
    {
     "name": "stdout",
     "output_type": "stream",
     "text": [
      "识别阈值: 0.21116749942302704\n",
      "平均相似分数: 0.5752595874436081\n",
      "MobileFace benchmark rate:0.994500\n",
      "MobileFace success rate:0.990475\n",
      "    FAR:\n"
     ]
    },
    {
     "name": "stderr",
     "output_type": "stream",
     "text": [
      "100%|██████████| 187/187 [00:10<00:00, 17.53it/s]\n"
     ]
    },
    {
     "name": "stdout",
     "output_type": "stream",
     "text": [
      "识别阈值: 0.21116749942302704\n",
      "平均相似分数: 0.009571007326295735\n",
      "MobileFace benchmark rate:0.994500\n",
      "MobileFace success rate:0.996825\n",
      "evaluation FaceNet-casia now:\n",
      "Load existing checkpoint\n",
      "    TAR:\n"
     ]
    },
    {
     "name": "stderr",
     "output_type": "stream",
     "text": [
      "100%|██████████| 187/187 [00:22<00:00,  8.46it/s]\n"
     ]
    },
    {
     "name": "stdout",
     "output_type": "stream",
     "text": [
      "识别阈值: 0.4289606213569641\n",
      "平均相似分数: 0.7093771446052999\n",
      "FaceNet-casia benchmark rate:0.981000\n",
      "FaceNet-casia success rate:0.970421\n",
      "    FAR:\n"
     ]
    },
    {
     "name": "stderr",
     "output_type": "stream",
     "text": [
      "100%|██████████| 187/187 [00:22<00:00,  8.46it/s]\n"
     ]
    },
    {
     "name": "stdout",
     "output_type": "stream",
     "text": [
      "识别阈值: 0.4289606213569641\n",
      "平均相似分数: 0.12677751227707185\n",
      "FaceNet-casia benchmark rate:0.981000\n",
      "FaceNet-casia success rate:0.978944\n",
      "evaluation MobilenetV2 now:\n",
      "Load existing checkpoint\n",
      "    TAR:\n"
     ]
    },
    {
     "name": "stderr",
     "output_type": "stream",
     "text": [
      "100%|██████████| 187/187 [00:10<00:00, 17.76it/s]\n"
     ]
    },
    {
     "name": "stdout",
     "output_type": "stream",
     "text": [
      "识别阈值: 0.22666725516319275\n",
      "平均相似分数: 0.5627110099655273\n",
      "MobilenetV2 benchmark rate:0.993333\n",
      "MobilenetV2 success rate:0.981116\n",
      "    FAR:\n"
     ]
    },
    {
     "name": "stderr",
     "output_type": "stream",
     "text": [
      "100%|██████████| 187/187 [00:10<00:00, 17.74it/s]\n"
     ]
    },
    {
     "name": "stdout",
     "output_type": "stream",
     "text": [
      "识别阈值: 0.22666725516319275\n",
      "平均相似分数: 0.006988911804321962\n",
      "MobilenetV2 benchmark rate:0.993333\n",
      "MobilenetV2 success rate:0.997995\n",
      "evaluation ArcFace now:\n",
      "Load existing checkpoint\n",
      "    TAR:\n"
     ]
    },
    {
     "name": "stderr",
     "output_type": "stream",
     "text": [
      "100%|██████████| 187/187 [00:21<00:00,  8.54it/s]\n"
     ]
    },
    {
     "name": "stdout",
     "output_type": "stream",
     "text": [
      "识别阈值: 0.28402677178382874\n",
      "平均相似分数: 0.6339712190416263\n",
      "ArcFace benchmark rate:0.995000\n",
      "ArcFace success rate:0.989639\n",
      "    FAR:\n"
     ]
    },
    {
     "name": "stderr",
     "output_type": "stream",
     "text": [
      "100%|██████████| 187/187 [00:21<00:00,  8.52it/s]\n"
     ]
    },
    {
     "name": "stdout",
     "output_type": "stream",
     "text": [
      "识别阈值: 0.28402677178382874\n",
      "平均相似分数: 0.012937975805422433\n",
      "ArcFace benchmark rate:0.995000\n",
      "ArcFace success rate:0.997828\n",
      "evaluation ResNet50 now:\n",
      "Load existing checkpoint\n",
      "    TAR:\n"
     ]
    },
    {
     "name": "stderr",
     "output_type": "stream",
     "text": [
      "100%|██████████| 187/187 [00:11<00:00, 16.67it/s]\n"
     ]
    },
    {
     "name": "stdout",
     "output_type": "stream",
     "text": [
      "识别阈值: 0.19116485118865967\n",
      "平均相似分数: 0.602689455086826\n",
      "ResNet50 benchmark rate:0.997167\n",
      "ResNet50 success rate:0.993148\n",
      "    FAR:\n"
     ]
    },
    {
     "name": "stderr",
     "output_type": "stream",
     "text": [
      "100%|██████████| 187/187 [00:11<00:00, 16.07it/s]\n"
     ]
    },
    {
     "name": "stdout",
     "output_type": "stream",
     "text": [
      "识别阈值: 0.19116485118865967\n",
      "平均相似分数: 0.004850908030661192\n",
      "ResNet50 benchmark rate:0.997167\n",
      "ResNet50 success rate:0.996658\n",
      "evaluation ShuffleNet_V1_GDConv now:\n",
      "Load existing checkpoint\n",
      "    TAR:\n"
     ]
    },
    {
     "name": "stderr",
     "output_type": "stream",
     "text": [
      "100%|██████████| 187/187 [00:13<00:00, 13.92it/s]\n"
     ]
    },
    {
     "name": "stdout",
     "output_type": "stream",
     "text": [
      "识别阈值: 0.19073212146759033\n",
      "平均相似分数: 0.5572837832854453\n",
      "ShuffleNet_V1_GDConv benchmark rate:0.994667\n",
      "ShuffleNet_V1_GDConv success rate:0.991477\n",
      "    FAR:\n"
     ]
    },
    {
     "name": "stderr",
     "output_type": "stream",
     "text": [
      "100%|██████████| 187/187 [00:13<00:00, 13.94it/s]\n"
     ]
    },
    {
     "name": "stdout",
     "output_type": "stream",
     "text": [
      "识别阈值: 0.19073212146759033\n",
      "平均相似分数: 0.008963261717701029\n",
      "ShuffleNet_V1_GDConv benchmark rate:0.994667\n",
      "ShuffleNet_V1_GDConv success rate:0.996156\n",
      "evaluation ResNet50-casia now:\n",
      "Load existing checkpoint\n",
      "    TAR:\n"
     ]
    },
    {
     "name": "stderr",
     "output_type": "stream",
     "text": [
      "100%|██████████| 187/187 [00:11<00:00, 16.45it/s]\n"
     ]
    },
    {
     "name": "stdout",
     "output_type": "stream",
     "text": [
      "识别阈值: 0.1854616403579712\n",
      "平均相似分数: 0.5226171845928946\n",
      "ResNet50-casia benchmark rate:0.986000\n",
      "ResNet50-casia success rate:0.981618\n",
      "    FAR:\n"
     ]
    },
    {
     "name": "stderr",
     "output_type": "stream",
     "text": [
      "100%|██████████| 187/187 [00:11<00:00, 15.72it/s]\n"
     ]
    },
    {
     "name": "stdout",
     "output_type": "stream",
     "text": [
      "识别阈值: 0.1854616403579712\n",
      "平均相似分数: 0.016196451979184418\n",
      "ResNet50-casia benchmark rate:0.986000\n",
      "ResNet50-casia success rate:0.984626\n",
      "evaluation IR50-Am now:\n",
      "Load existing checkpoint\n",
      "    TAR:\n"
     ]
    },
    {
     "name": "stderr",
     "output_type": "stream",
     "text": [
      "100%|██████████| 187/187 [00:21<00:00,  8.81it/s]\n"
     ]
    },
    {
     "name": "stdout",
     "output_type": "stream",
     "text": [
      "识别阈值: 0.45836973190307617\n",
      "平均相似分数: 0.6851819124979212\n",
      "IR50-Am benchmark rate:0.992167\n",
      "IR50-Am success rate:0.990642\n",
      "    FAR:\n"
     ]
    },
    {
     "name": "stderr",
     "output_type": "stream",
     "text": [
      "100%|██████████| 187/187 [00:21<00:00,  8.83it/s]\n"
     ]
    },
    {
     "name": "stdout",
     "output_type": "stream",
     "text": [
      "识别阈值: 0.45836973190307617\n",
      "平均相似分数: 0.319979920871257\n",
      "IR50-Am benchmark rate:0.992167\n",
      "IR50-Am success rate:0.993650\n",
      "evaluation IR50-ArcFace now:\n",
      "Load existing checkpoint\n",
      "    TAR:\n"
     ]
    },
    {
     "name": "stderr",
     "output_type": "stream",
     "text": [
      "100%|██████████| 187/187 [00:20<00:00,  9.10it/s]\n"
     ]
    },
    {
     "name": "stdout",
     "output_type": "stream",
     "text": [
      "识别阈值: 0.27737492322921753\n",
      "平均相似分数: 0.6782564472587328\n",
      "IR50-ArcFace benchmark rate:0.997000\n",
      "IR50-ArcFace success rate:0.993316\n",
      "    FAR:\n"
     ]
    },
    {
     "name": "stderr",
     "output_type": "stream",
     "text": [
      "100%|██████████| 187/187 [00:20<00:00,  8.93it/s]\n"
     ]
    },
    {
     "name": "stdout",
     "output_type": "stream",
     "text": [
      "识别阈值: 0.27737492322921753\n",
      "平均相似分数: 0.004453411230991438\n",
      "IR50-ArcFace benchmark rate:0.997000\n",
      "IR50-ArcFace success rate:0.999332\n",
      "evaluation IR50-CosFace now:\n",
      "Load existing checkpoint\n",
      "    TAR:\n"
     ]
    },
    {
     "name": "stderr",
     "output_type": "stream",
     "text": [
      "100%|██████████| 187/187 [00:20<00:00,  8.95it/s]\n"
     ]
    },
    {
     "name": "stdout",
     "output_type": "stream",
     "text": [
      "识别阈值: 0.22401964664459229\n",
      "平均相似分数: 0.6295969283038919\n",
      "IR50-CosFace benchmark rate:0.997000\n",
      "IR50-CosFace success rate:0.993650\n",
      "    FAR:\n"
     ]
    },
    {
     "name": "stderr",
     "output_type": "stream",
     "text": [
      "100%|██████████| 187/187 [00:21<00:00,  8.84it/s]\n"
     ]
    },
    {
     "name": "stdout",
     "output_type": "stream",
     "text": [
      "识别阈值: 0.22401964664459229\n",
      "平均相似分数: 0.00719381479252588\n",
      "IR50-CosFace benchmark rate:0.997000\n",
      "IR50-CosFace success rate:0.998496\n",
      "evaluation IR50-Softmax now:\n",
      "Load existing checkpoint\n",
      "    TAR:\n"
     ]
    },
    {
     "name": "stderr",
     "output_type": "stream",
     "text": [
      "100%|██████████| 187/187 [00:20<00:00,  8.91it/s]\n"
     ]
    },
    {
     "name": "stdout",
     "output_type": "stream",
     "text": [
      "识别阈值: 0.34233152866363525\n",
      "平均相似分数: 0.7398153208420278\n",
      "IR50-Softmax benchmark rate:0.996000\n",
      "IR50-Softmax success rate:0.994151\n",
      "    FAR:\n"
     ]
    },
    {
     "name": "stderr",
     "output_type": "stream",
     "text": [
      "100%|██████████| 187/187 [00:21<00:00,  8.85it/s]\n"
     ]
    },
    {
     "name": "stdout",
     "output_type": "stream",
     "text": [
      "识别阈值: 0.34233152866363525\n",
      "平均相似分数: 0.030100664577336688\n",
      "IR50-Softmax benchmark rate:0.996000\n",
      "IR50-Softmax success rate:0.994151\n",
      "evaluation IR50-SphereFace now:\n",
      "Load existing checkpoint\n",
      "    TAR:\n"
     ]
    },
    {
     "name": "stderr",
     "output_type": "stream",
     "text": [
      "100%|██████████| 187/187 [00:20<00:00,  9.01it/s]\n"
     ]
    },
    {
     "name": "stdout",
     "output_type": "stream",
     "text": [
      "识别阈值: 0.361619234085083\n",
      "平均相似分数: 0.7578995303882107\n",
      "IR50-SphereFace benchmark rate:0.995833\n",
      "IR50-SphereFace success rate:0.994151\n",
      "    FAR:\n"
     ]
    },
    {
     "name": "stderr",
     "output_type": "stream",
     "text": [
      "100%|██████████| 187/187 [00:21<00:00,  8.86it/s]\n"
     ]
    },
    {
     "name": "stdout",
     "output_type": "stream",
     "text": [
      "识别阈值: 0.361619234085083\n",
      "平均相似分数: 0.00943587050939889\n",
      "IR50-SphereFace benchmark rate:0.995833\n",
      "IR50-SphereFace success rate:0.996658\n",
      "evaluation IR50-PGDSoftmax now:\n",
      "Load existing checkpoint\n",
      "    TAR:\n"
     ]
    },
    {
     "name": "stderr",
     "output_type": "stream",
     "text": [
      "100%|██████████| 187/187 [00:20<00:00,  8.99it/s]\n"
     ]
    },
    {
     "name": "stdout",
     "output_type": "stream",
     "text": [
      "识别阈值: 0.3052944242954254\n",
      "平均相似分数: 0.5235534340397201\n",
      "IR50-PGDSoftmax benchmark rate:0.913000\n",
      "IR50-PGDSoftmax success rate:0.897894\n",
      "    FAR:\n"
     ]
    },
    {
     "name": "stderr",
     "output_type": "stream",
     "text": [
      "100%|██████████| 187/187 [00:20<00:00,  8.95it/s]\n"
     ]
    },
    {
     "name": "stdout",
     "output_type": "stream",
     "text": [
      "识别阈值: 0.3052944242954254\n",
      "平均相似分数: 0.12890110016272235\n",
      "IR50-PGDSoftmax benchmark rate:0.913000\n",
      "IR50-PGDSoftmax success rate:0.936163\n",
      "evaluation IR50-TradesSoftmax now:\n",
      "Load existing checkpoint\n",
      "    TAR:\n"
     ]
    },
    {
     "name": "stderr",
     "output_type": "stream",
     "text": [
      "100%|██████████| 187/187 [00:21<00:00,  8.90it/s]\n"
     ]
    },
    {
     "name": "stdout",
     "output_type": "stream",
     "text": [
      "识别阈值: 0.32782697677612305\n",
      "平均相似分数: 0.5520227640724983\n",
      "IR50-TradesSoftmax benchmark rate:0.909500\n",
      "IR50-TradesSoftmax success rate:0.894886\n",
      "    FAR:\n"
     ]
    },
    {
     "name": "stderr",
     "output_type": "stream",
     "text": [
      "100%|██████████| 187/187 [00:21<00:00,  8.89it/s]\n"
     ]
    },
    {
     "name": "stdout",
     "output_type": "stream",
     "text": [
      "识别阈值: 0.32782697677612305\n",
      "平均相似分数: 0.15003868963362874\n",
      "IR50-TradesSoftmax benchmark rate:0.909500\n",
      "IR50-TradesSoftmax success rate:0.922794\n",
      "evaluation IR50-PGDArcFace now:\n",
      "Load existing checkpoint\n",
      "    TAR:\n"
     ]
    },
    {
     "name": "stderr",
     "output_type": "stream",
     "text": [
      "100%|██████████| 187/187 [00:20<00:00,  8.95it/s]\n"
     ]
    },
    {
     "name": "stdout",
     "output_type": "stream",
     "text": [
      "识别阈值: 0.37509775161743164\n",
      "平均相似分数: 0.5401241327847608\n",
      "IR50-PGDArcFace benchmark rate:0.876667\n",
      "IR50-PGDArcFace success rate:0.834057\n",
      "    FAR:\n"
     ]
    },
    {
     "name": "stderr",
     "output_type": "stream",
     "text": [
      "100%|██████████| 187/187 [00:21<00:00,  8.85it/s]\n"
     ]
    },
    {
     "name": "stdout",
     "output_type": "stream",
     "text": [
      "识别阈值: 0.37509775161743164\n",
      "平均相似分数: 0.21189526249839796\n",
      "IR50-PGDArcFace benchmark rate:0.876667\n",
      "IR50-PGDArcFace success rate:0.907086\n",
      "evaluation IR50-TradesArcFace now:\n",
      "Load existing checkpoint\n",
      "    TAR:\n"
     ]
    },
    {
     "name": "stderr",
     "output_type": "stream",
     "text": [
      "100%|██████████| 187/187 [00:20<00:00,  8.93it/s]\n"
     ]
    },
    {
     "name": "stdout",
     "output_type": "stream",
     "text": [
      "识别阈值: 0.852626383304596\n",
      "平均相似分数: 0.9304290678013455\n",
      "IR50-TradesArcFace benchmark rate:0.950667\n",
      "IR50-TradesArcFace success rate:0.967747\n",
      "    FAR:\n"
     ]
    },
    {
     "name": "stderr",
     "output_type": "stream",
     "text": [
      "100%|██████████| 187/187 [00:21<00:00,  8.85it/s]\n"
     ]
    },
    {
     "name": "stdout",
     "output_type": "stream",
     "text": [
      "识别阈值: 0.852626383304596\n",
      "平均相似分数: 0.7414358845777451\n",
      "IR50-TradesArcFace benchmark rate:0.950667\n",
      "IR50-TradesArcFace success rate:0.926972\n",
      "evaluation IR50-PGDCosFace now:\n",
      "Load existing checkpoint\n",
      "    TAR:\n"
     ]
    },
    {
     "name": "stderr",
     "output_type": "stream",
     "text": [
      "100%|██████████| 187/187 [00:20<00:00,  8.96it/s]\n"
     ]
    },
    {
     "name": "stdout",
     "output_type": "stream",
     "text": [
      "识别阈值: 0.2336357682943344\n",
      "平均相似分数: 0.39442368576621867\n",
      "IR50-PGDCosFace benchmark rate:0.861833\n",
      "IR50-PGDCosFace success rate:0.825201\n",
      "    FAR:\n"
     ]
    },
    {
     "name": "stderr",
     "output_type": "stream",
     "text": [
      "100%|██████████| 187/187 [00:21<00:00,  8.86it/s]\n"
     ]
    },
    {
     "name": "stdout",
     "output_type": "stream",
     "text": [
      "识别阈值: 0.2336357682943344\n",
      "平均相似分数: 0.12449123738194288\n",
      "IR50-PGDCosFace benchmark rate:0.861833\n",
      "IR50-PGDCosFace success rate:0.893884\n",
      "evaluation IR50-TradesCosFace now:\n",
      "Load existing checkpoint\n",
      "    TAR:\n"
     ]
    },
    {
     "name": "stderr",
     "output_type": "stream",
     "text": [
      "100%|██████████| 187/187 [00:21<00:00,  8.85it/s]\n"
     ]
    },
    {
     "name": "stdout",
     "output_type": "stream",
     "text": [
      "识别阈值: 0.6367585062980652\n",
      "平均相似分数: 0.7644196986245678\n",
      "IR50-TradesCosFace benchmark rate:0.907333\n",
      "IR50-TradesCosFace success rate:0.887868\n",
      "    FAR:\n"
     ]
    },
    {
     "name": "stderr",
     "output_type": "stream",
     "text": [
      "100%|██████████| 187/187 [00:21<00:00,  8.89it/s]\n"
     ]
    },
    {
     "name": "stdout",
     "output_type": "stream",
     "text": [
      "识别阈值: 0.6367585062980652\n",
      "平均相似分数: 0.459508703064415\n",
      "IR50-TradesCosFace benchmark rate:0.907333\n",
      "IR50-TradesCosFace success rate:0.929311\n",
      "evaluation IR50-PGDAm now:\n",
      "Load existing checkpoint\n",
      "    TAR:\n"
     ]
    },
    {
     "name": "stderr",
     "output_type": "stream",
     "text": [
      "100%|██████████| 187/187 [00:20<00:00,  8.98it/s]\n"
     ]
    },
    {
     "name": "stdout",
     "output_type": "stream",
     "text": [
      "识别阈值: 0.415134072303772\n",
      "平均相似分数: 0.5512238106426389\n",
      "IR50-PGDAm benchmark rate:0.850000\n",
      "IR50-PGDAm success rate:0.815508\n",
      "    FAR:\n"
     ]
    },
    {
     "name": "stderr",
     "output_type": "stream",
     "text": [
      "100%|██████████| 187/187 [00:21<00:00,  8.84it/s]\n"
     ]
    },
    {
     "name": "stdout",
     "output_type": "stream",
     "text": [
      "识别阈值: 0.415134072303772\n",
      "平均相似分数: 0.31743200034535624\n",
      "IR50-PGDAm benchmark rate:0.850000\n",
      "IR50-PGDAm success rate:0.873663\n",
      "evaluation IR50-PGDSphereFace now:\n",
      "Load existing checkpoint\n",
      "    TAR:\n"
     ]
    },
    {
     "name": "stderr",
     "output_type": "stream",
     "text": [
      "100%|██████████| 187/187 [00:20<00:00,  9.01it/s]\n"
     ]
    },
    {
     "name": "stdout",
     "output_type": "stream",
     "text": [
      "识别阈值: 0.5209366679191589\n",
      "平均相似分数: 0.7590553996033025\n",
      "IR50-PGDSphereFace benchmark rate:0.888167\n",
      "IR50-PGDSphereFace success rate:0.891878\n",
      "    FAR:\n"
     ]
    },
    {
     "name": "stderr",
     "output_type": "stream",
     "text": [
      "100%|██████████| 187/187 [00:21<00:00,  8.67it/s]\n"
     ]
    },
    {
     "name": "stdout",
     "output_type": "stream",
     "text": [
      "识别阈值: 0.5209366679191589\n",
      "平均相似分数: 0.14656380756176388\n",
      "IR50-PGDSphereFace benchmark rate:0.888167\n",
      "IR50-PGDSphereFace success rate:0.873496\n",
      "evaluation CASIA-Am now:\n",
      "Load existing checkpoint\n",
      "    TAR:\n"
     ]
    },
    {
     "name": "stderr",
     "output_type": "stream",
     "text": [
      "100%|██████████| 187/187 [00:21<00:00,  8.81it/s]\n"
     ]
    },
    {
     "name": "stdout",
     "output_type": "stream",
     "text": [
      "识别阈值: 0.4614875912666321\n",
      "平均相似分数: 0.6569978065719021\n",
      "CASIA-Am benchmark rate:0.978000\n",
      "CASIA-Am success rate:0.961397\n",
      "    FAR:\n"
     ]
    },
    {
     "name": "stderr",
     "output_type": "stream",
     "text": [
      "100%|██████████| 187/187 [00:21<00:00,  8.83it/s]\n"
     ]
    },
    {
     "name": "stdout",
     "output_type": "stream",
     "text": [
      "识别阈值: 0.4614875912666321\n",
      "平均相似分数: 0.3072028134969427\n",
      "CASIA-Am benchmark rate:0.978000\n",
      "CASIA-Am success rate:0.983456\n",
      "evaluation CASIA-ArcFace now:\n",
      "Load existing checkpoint\n",
      "    TAR:\n"
     ]
    },
    {
     "name": "stderr",
     "output_type": "stream",
     "text": [
      "100%|██████████| 187/187 [00:20<00:00,  8.96it/s]\n"
     ]
    },
    {
     "name": "stdout",
     "output_type": "stream",
     "text": [
      "识别阈值: 0.3242388069629669\n",
      "平均相似分数: 0.6610272079569233\n",
      "CASIA-ArcFace benchmark rate:0.990500\n",
      "CASIA-ArcFace success rate:0.984291\n",
      "    FAR:\n"
     ]
    },
    {
     "name": "stderr",
     "output_type": "stream",
     "text": [
      "100%|██████████| 187/187 [00:20<00:00,  8.96it/s]\n"
     ]
    },
    {
     "name": "stdout",
     "output_type": "stream",
     "text": [
      "识别阈值: 0.3242388069629669\n",
      "平均相似分数: 0.030433957276401736\n",
      "CASIA-ArcFace benchmark rate:0.990500\n",
      "CASIA-ArcFace success rate:0.990140\n",
      "evaluation CASIA-CosFace now:\n",
      "Load existing checkpoint\n",
      "    TAR:\n"
     ]
    },
    {
     "name": "stderr",
     "output_type": "stream",
     "text": [
      "100%|██████████| 187/187 [00:20<00:00,  8.99it/s]\n"
     ]
    },
    {
     "name": "stdout",
     "output_type": "stream",
     "text": [
      "识别阈值: 0.23147112131118774\n",
      "平均相似分数: 0.5752936383191979\n",
      "CASIA-CosFace benchmark rate:0.991167\n",
      "CASIA-CosFace success rate:0.990976\n",
      "    FAR:\n"
     ]
    },
    {
     "name": "stderr",
     "output_type": "stream",
     "text": [
      "100%|██████████| 187/187 [00:21<00:00,  8.90it/s]\n"
     ]
    },
    {
     "name": "stdout",
     "output_type": "stream",
     "text": [
      "识别阈值: 0.23147112131118774\n",
      "平均相似分数: 0.017218588910494832\n",
      "CASIA-CosFace benchmark rate:0.991167\n",
      "CASIA-CosFace success rate:0.993148\n",
      "evaluation CASIA-Softmax now:\n",
      "Load existing checkpoint\n",
      "    TAR:\n"
     ]
    },
    {
     "name": "stderr",
     "output_type": "stream",
     "text": [
      "100%|██████████| 187/187 [00:20<00:00,  9.06it/s]\n"
     ]
    },
    {
     "name": "stdout",
     "output_type": "stream",
     "text": [
      "识别阈值: 0.3241730332374573\n",
      "平均相似分数: 0.6465210671808053\n",
      "CASIA-Softmax benchmark rate:0.988333\n",
      "CASIA-Softmax success rate:0.987299\n",
      "    FAR:\n"
     ]
    },
    {
     "name": "stderr",
     "output_type": "stream",
     "text": [
      "100%|██████████| 187/187 [00:20<00:00,  8.95it/s]\n"
     ]
    },
    {
     "name": "stdout",
     "output_type": "stream",
     "text": [
      "识别阈值: 0.3241730332374573\n",
      "平均相似分数: 0.039552265486367456\n",
      "CASIA-Softmax benchmark rate:0.988333\n",
      "CASIA-Softmax success rate:0.986130\n",
      "evaluation CASIA-SphereFace now:\n",
      "Load existing checkpoint\n",
      "    TAR:\n"
     ]
    },
    {
     "name": "stderr",
     "output_type": "stream",
     "text": [
      "100%|██████████| 187/187 [00:20<00:00,  8.96it/s]\n"
     ]
    },
    {
     "name": "stdout",
     "output_type": "stream",
     "text": [
      "识别阈值: 0.4365990459918976\n",
      "平均相似分数: 0.7441343270381664\n",
      "CASIA-SphereFace benchmark rate:0.976500\n",
      "CASIA-SphereFace success rate:0.970588\n",
      "    FAR:\n"
     ]
    },
    {
     "name": "stderr",
     "output_type": "stream",
     "text": [
      "100%|██████████| 187/187 [00:21<00:00,  8.80it/s]\n"
     ]
    },
    {
     "name": "stdout",
     "output_type": "stream",
     "text": [
      "识别阈值: 0.4365990459918976\n",
      "平均相似分数: 0.049412021697246726\n",
      "CASIA-SphereFace benchmark rate:0.976500\n",
      "CASIA-SphereFace success rate:0.973262\n",
      "evaluation IR50-Softmax-BR now:\n",
      "Load existing checkpoint\n",
      "    TAR:\n"
     ]
    },
    {
     "name": "stderr",
     "output_type": "stream",
     "text": [
      "100%|██████████| 187/187 [00:21<00:00,  8.81it/s]\n"
     ]
    },
    {
     "name": "stdout",
     "output_type": "stream",
     "text": [
      "识别阈值: 0.33871138095855713\n",
      "平均相似分数: 0.7365838504237008\n",
      "IR50-Softmax-BR benchmark rate:0.996000\n",
      "IR50-Softmax-BR success rate:0.993650\n",
      "    FAR:\n"
     ]
    },
    {
     "name": "stderr",
     "output_type": "stream",
     "text": [
      "100%|██████████| 187/187 [00:21<00:00,  8.67it/s]\n"
     ]
    },
    {
     "name": "stdout",
     "output_type": "stream",
     "text": [
      "识别阈值: 0.33871138095855713\n",
      "平均相似分数: 0.03223043070481355\n",
      "IR50-Softmax-BR benchmark rate:0.996000\n",
      "IR50-Softmax-BR success rate:0.995488\n",
      "evaluation IR50-Softmax-JPEG now:\n",
      "Load existing checkpoint\n",
      "    TAR:\n"
     ]
    },
    {
     "name": "stderr",
     "output_type": "stream",
     "text": [
      "100%|██████████| 187/187 [00:23<00:00,  8.07it/s]\n"
     ]
    },
    {
     "name": "stdout",
     "output_type": "stream",
     "text": [
      "识别阈值: 0.34150177240371704\n",
      "平均相似分数: 0.7376309356684573\n",
      "IR50-Softmax-JPEG benchmark rate:0.995833\n",
      "IR50-Softmax-JPEG success rate:0.994151\n",
      "    FAR:\n"
     ]
    },
    {
     "name": "stderr",
     "output_type": "stream",
     "text": [
      "100%|██████████| 187/187 [00:22<00:00,  8.22it/s]\n"
     ]
    },
    {
     "name": "stdout",
     "output_type": "stream",
     "text": [
      "识别阈值: 0.34150177240371704\n",
      "平均相似分数: 0.03538929120959486\n",
      "IR50-Softmax-JPEG benchmark rate:0.995833\n",
      "IR50-Softmax-JPEG success rate:0.992146\n",
      "evaluation IR50-Softmax-RP now:\n",
      "Load existing checkpoint\n",
      "    TAR:\n"
     ]
    },
    {
     "name": "stderr",
     "output_type": "stream",
     "text": [
      "100%|██████████| 187/187 [02:47<00:00,  1.12it/s]\n"
     ]
    },
    {
     "name": "stdout",
     "output_type": "stream",
     "text": [
      "识别阈值: 0.35351189970970154\n",
      "平均相似分数: 0.7408344037482206\n",
      "IR50-Softmax-RP benchmark rate:0.994167\n",
      "IR50-Softmax-RP success rate:0.993483\n",
      "    FAR:\n"
     ]
    },
    {
     "name": "stderr",
     "output_type": "stream",
     "text": [
      "100%|██████████| 187/187 [02:47<00:00,  1.12it/s]\n"
     ]
    },
    {
     "name": "stdout",
     "output_type": "stream",
     "text": [
      "识别阈值: 0.35351189970970154\n",
      "平均相似分数: 0.04359455395674048\n",
      "IR50-Softmax-RP benchmark rate:0.994167\n",
      "IR50-Softmax-RP success rate:0.996156\n",
      "evaluation testir152 now:\n",
      "    TAR:\n"
     ]
    },
    {
     "name": "stderr",
     "output_type": "stream",
     "text": [
      "100%|██████████| 187/187 [00:30<00:00,  6.13it/s]\n"
     ]
    },
    {
     "name": "stdout",
     "output_type": "stream",
     "text": [
      "识别阈值: 0.166788\n",
      "平均相似分数: 0.679775414630437\n",
      "testir152 benchmark rate:0.990976\n",
      "testir152 success rate:0.995488\n",
      "    FAR:\n"
     ]
    },
    {
     "name": "stderr",
     "output_type": "stream",
     "text": [
      "100%|██████████| 187/187 [00:30<00:00,  6.15it/s]\n"
     ]
    },
    {
     "name": "stdout",
     "output_type": "stream",
     "text": [
      "识别阈值: 0.166788\n",
      "平均相似分数: 0.0022777298501634193\n",
      "testir152 benchmark rate:0.990976\n",
      "testir152 success rate:0.988971\n",
      "evaluation testirse50 now:\n",
      "    TAR:\n"
     ]
    },
    {
     "name": "stderr",
     "output_type": "stream",
     "text": [
      "100%|██████████| 187/187 [00:21<00:00,  8.64it/s]\n"
     ]
    },
    {
     "name": "stdout",
     "output_type": "stream",
     "text": [
      "识别阈值: 0.241045\n",
      "平均相似分数: 0.6353479822379173\n",
      "testirse50 benchmark rate:0.990000\n",
      "testirse50 success rate:0.993650\n",
      "    FAR:\n"
     ]
    },
    {
     "name": "stderr",
     "output_type": "stream",
     "text": [
      "100%|██████████| 187/187 [00:21<00:00,  8.66it/s]\n"
     ]
    },
    {
     "name": "stdout",
     "output_type": "stream",
     "text": [
      "识别阈值: 0.241045\n",
      "平均相似分数: 0.01648944802243757\n",
      "testirse50 benchmark rate:0.990000\n",
      "testirse50 success rate:0.991811\n",
      "evaluation testmobileface now:\n",
      "    TAR:\n"
     ]
    },
    {
     "name": "stderr",
     "output_type": "stream",
     "text": [
      "100%|██████████| 187/187 [00:10<00:00, 17.63it/s]\n"
     ]
    },
    {
     "name": "stdout",
     "output_type": "stream",
     "text": [
      "识别阈值: 0.301611\n",
      "平均相似分数: 0.5676633880016416\n",
      "testmobileface benchmark rate:0.996992\n",
      "testmobileface success rate:0.968416\n",
      "    FAR:\n"
     ]
    },
    {
     "name": "stderr",
     "output_type": "stream",
     "text": [
      "100%|██████████| 187/187 [00:11<00:00, 16.64it/s]\n"
     ]
    },
    {
     "name": "stdout",
     "output_type": "stream",
     "text": [
      "识别阈值: 0.301611\n",
      "平均相似分数: 0.01911578172311077\n",
      "testmobileface benchmark rate:0.996992\n",
      "testmobileface success rate:0.995989\n",
      "evaluation testfacenet now:\n",
      "    TAR:\n"
     ]
    },
    {
     "name": "stderr",
     "output_type": "stream",
     "text": [
      "100%|██████████| 187/187 [00:21<00:00,  8.51it/s]\n"
     ]
    },
    {
     "name": "stdout",
     "output_type": "stream",
     "text": [
      "识别阈值: 0.409131\n",
      "平均相似分数: 0.7569139939913386\n",
      "testfacenet benchmark rate:0.987634\n",
      "testfacenet success rate:0.991979\n",
      "    FAR:\n"
     ]
    },
    {
     "name": "stderr",
     "output_type": "stream",
     "text": [
      "100%|██████████| 187/187 [00:21<00:00,  8.67it/s]"
     ]
    },
    {
     "name": "stdout",
     "output_type": "stream",
     "text": [
      "识别阈值: 0.409131\n",
      "平均相似分数: 0.03188121795575234\n",
      "testfacenet benchmark rate:0.987634\n",
      "testfacenet success rate:0.988636\n",
      "{\n",
      "  \"ShuffleNet_V2_GDConv-stride1\": {\n",
      "    \"TAR\": [\n",
      "      0.22403636574745178,\n",
      "      0.5562467525761704,\n",
      "      0.9915,\n",
      "      0.9834558823529411\n",
      "    ],\n",
      "    \"FAR\": [\n",
      "      0.22403636574745178,\n",
      "      0.034676948938980066,\n",
      "      0.9915,\n",
      "      0.9949866310160428\n",
      "    ]\n",
      "  },\n",
      "  \"Mobilenet\": {\n",
      "    \"TAR\": [\n",
      "      0.15846577286720276,\n",
      "      0.5287337219143377,\n",
      "      0.9935,\n",
      "      0.9899732620320856\n",
      "    ],\n",
      "    \"FAR\": [\n",
      "      0.15846577286720276,\n",
      "      0.00530493123069926,\n",
      "      0.9935,\n",
      "      0.9956550802139037\n",
      "    ]\n",
      "  },\n",
      "  \"MobilenetV2-stride1\": {\n",
      "    \"TAR\": [\n",
      "      0.24340271949768066,\n",
      "      0.572384514267255,\n",
      "      0.9905,\n",
      "      0.9869652406417112\n",
      "    ],\n",
      "    \"FAR\": [\n",
      "      0.24340271949768066,\n",
      "      0.02833695003155396,\n",
      "      0.9905,\n",
      "      0.9941510695187166\n",
      "    ]\n",
      "  },\n",
      "  \"CosFace\": {\n",
      "    \"TAR\": [\n",
      "      0.24625787138938904,\n",
      "      0.586980783589742,\n",
      "      0.9868333333333333,\n",
      "      0.9817847593582888\n",
      "    ],\n",
      "    \"FAR\": [\n",
      "      0.24625787138938904,\n",
      "      0.03779037925473104,\n",
      "      0.9868333333333333,\n",
      "      0.9807820855614974\n",
      "    ]\n",
      "  },\n",
      "  \"FaceNet-VGGFace2\": {\n",
      "    \"TAR\": [\n",
      "      0.42074376344680786,\n",
      "      0.7556741915762744,\n",
      "      0.9923333333333333,\n",
      "      0.9893048128342246\n",
      "    ],\n",
      "    \"FAR\": [\n",
      "      0.42074376344680786,\n",
      "      0.03606941384019923,\n",
      "      0.9923333333333333,\n",
      "      0.9918114973262032\n",
      "    ]\n",
      "  },\n",
      "  \"Mobilenet-stride1\": {\n",
      "    \"TAR\": [\n",
      "      0.19342336058616638,\n",
      "      0.5718552487039189,\n",
      "      0.9956666666666667,\n",
      "      0.991644385026738\n",
      "    ],\n",
      "    \"FAR\": [\n",
      "      0.19342336058616638,\n",
      "      0.00905766151678147,\n",
      "      0.9956666666666667,\n",
      "      0.9956550802139037\n",
      "    ]\n",
      "  },\n",
      "  \"SphereFace\": {\n",
      "    \"TAR\": [\n",
      "      0.34931832551956177,\n",
      "      0.6359025181711896,\n",
      "      0.9818333333333333,\n",
      "      0.9774398395721925\n",
      "    ],\n",
      "    \"FAR\": [\n",
      "      0.34931832551956177,\n",
      "      0.08945396062020769,\n",
      "      0.9818333333333333,\n",
      "      0.9834558823529411\n",
      "    ]\n",
      "  },\n",
      "  \"MobileFace\": {\n",
      "    \"TAR\": [\n",
      "      0.21116749942302704,\n",
      "      0.5752595874436081,\n",
      "      0.9945,\n",
      "      0.9904745989304813\n",
      "    ],\n",
      "    \"FAR\": [\n",
      "      0.21116749942302704,\n",
      "      0.009571007326295735,\n",
      "      0.9945,\n",
      "      0.9968248663101604\n",
      "    ]\n",
      "  },\n",
      "  \"FaceNet-casia\": {\n",
      "    \"TAR\": [\n",
      "      0.4289606213569641,\n",
      "      0.7093771446052999,\n",
      "      0.981,\n",
      "      0.9704211229946524\n",
      "    ],\n",
      "    \"FAR\": [\n",
      "      0.4289606213569641,\n",
      "      0.12677751227707185,\n",
      "      0.981,\n",
      "      0.9789438502673797\n",
      "    ]\n",
      "  },\n",
      "  \"MobilenetV2\": {\n",
      "    \"TAR\": [\n",
      "      0.22666725516319275,\n",
      "      0.5627110099655273,\n",
      "      0.9933333333333333,\n",
      "      0.9811163101604278\n",
      "    ],\n",
      "    \"FAR\": [\n",
      "      0.22666725516319275,\n",
      "      0.006988911804321962,\n",
      "      0.9933333333333333,\n",
      "      0.9979946524064172\n",
      "    ]\n",
      "  },\n",
      "  \"ArcFace\": {\n",
      "    \"TAR\": [\n",
      "      0.28402677178382874,\n",
      "      0.6339712190416263,\n",
      "      0.995,\n",
      "      0.9896390374331551\n",
      "    ],\n",
      "    \"FAR\": [\n",
      "      0.28402677178382874,\n",
      "      0.012937975805422433,\n",
      "      0.995,\n",
      "      0.9978275401069518\n",
      "    ]\n",
      "  },\n",
      "  \"ResNet50\": {\n",
      "    \"TAR\": [\n",
      "      0.19116485118865967,\n",
      "      0.602689455086826,\n",
      "      0.9971666666666666,\n",
      "      0.9931483957219251\n",
      "    ],\n",
      "    \"FAR\": [\n",
      "      0.19116485118865967,\n",
      "      0.004850908030661192,\n",
      "      0.9971666666666666,\n",
      "      0.9966577540106952\n",
      "    ]\n",
      "  },\n",
      "  \"ShuffleNet_V1_GDConv\": {\n",
      "    \"TAR\": [\n",
      "      0.19073212146759033,\n",
      "      0.5572837832854453,\n",
      "      0.9946666666666667,\n",
      "      0.9914772727272727\n",
      "    ],\n",
      "    \"FAR\": [\n",
      "      0.19073212146759033,\n",
      "      0.008963261717701029,\n",
      "      0.9946666666666667,\n",
      "      0.9961564171122995\n",
      "    ]\n",
      "  },\n",
      "  \"ResNet50-casia\": {\n",
      "    \"TAR\": [\n",
      "      0.1854616403579712,\n",
      "      0.5226171845928946,\n",
      "      0.986,\n",
      "      0.9816176470588235\n",
      "    ],\n",
      "    \"FAR\": [\n",
      "      0.1854616403579712,\n",
      "      0.016196451979184418,\n",
      "      0.986,\n",
      "      0.9846256684491979\n",
      "    ]\n",
      "  },\n",
      "  \"IR50-Am\": {\n",
      "    \"TAR\": [\n",
      "      0.45836973190307617,\n",
      "      0.6851819124979212,\n",
      "      0.9921666666666666,\n",
      "      0.9906417112299465\n",
      "    ],\n",
      "    \"FAR\": [\n",
      "      0.45836973190307617,\n",
      "      0.319979920871257,\n",
      "      0.9921666666666666,\n",
      "      0.9936497326203209\n",
      "    ]\n",
      "  },\n",
      "  \"IR50-ArcFace\": {\n",
      "    \"TAR\": [\n",
      "      0.27737492322921753,\n",
      "      0.6782564472587328,\n",
      "      0.997,\n",
      "      0.9933155080213903\n",
      "    ],\n",
      "    \"FAR\": [\n",
      "      0.27737492322921753,\n",
      "      0.004453411230991438,\n",
      "      0.997,\n",
      "      0.9993315508021391\n",
      "    ]\n",
      "  },\n",
      "  \"IR50-CosFace\": {\n",
      "    \"TAR\": [\n",
      "      0.22401964664459229,\n",
      "      0.6295969283038919,\n",
      "      0.997,\n",
      "      0.9936497326203209\n",
      "    ],\n",
      "    \"FAR\": [\n",
      "      0.22401964664459229,\n",
      "      0.00719381479252588,\n",
      "      0.997,\n",
      "      0.9984959893048129\n",
      "    ]\n",
      "  },\n",
      "  \"IR50-Softmax\": {\n",
      "    \"TAR\": [\n",
      "      0.34233152866363525,\n",
      "      0.7398153208420278,\n",
      "      0.996,\n",
      "      0.9941510695187166\n",
      "    ],\n",
      "    \"FAR\": [\n",
      "      0.34233152866363525,\n",
      "      0.030100664577336688,\n",
      "      0.996,\n",
      "      0.9941510695187166\n",
      "    ]\n",
      "  },\n",
      "  \"IR50-SphereFace\": {\n",
      "    \"TAR\": [\n",
      "      0.361619234085083,\n",
      "      0.7578995303882107,\n",
      "      0.9958333333333333,\n",
      "      0.9941510695187166\n",
      "    ],\n",
      "    \"FAR\": [\n",
      "      0.361619234085083,\n",
      "      0.00943587050939889,\n",
      "      0.9958333333333333,\n",
      "      0.9966577540106952\n",
      "    ]\n",
      "  },\n",
      "  \"IR50-PGDSoftmax\": {\n",
      "    \"TAR\": [\n",
      "      0.3052944242954254,\n",
      "      0.5235534340397201,\n",
      "      0.913,\n",
      "      0.897894385026738\n",
      "    ],\n",
      "    \"FAR\": [\n",
      "      0.3052944242954254,\n",
      "      0.12890110016272235,\n",
      "      0.913,\n",
      "      0.9361631016042781\n",
      "    ]\n",
      "  },\n",
      "  \"IR50-TradesSoftmax\": {\n",
      "    \"TAR\": [\n",
      "      0.32782697677612305,\n",
      "      0.5520227640724983,\n",
      "      0.9095,\n",
      "      0.8948863636363636\n",
      "    ],\n",
      "    \"FAR\": [\n",
      "      0.32782697677612305,\n",
      "      0.15003868963362874,\n",
      "      0.9095,\n",
      "      0.9227941176470589\n",
      "    ]\n",
      "  },\n",
      "  \"IR50-PGDArcFace\": {\n",
      "    \"TAR\": [\n",
      "      0.37509775161743164,\n",
      "      0.5401241327847608,\n",
      "      0.8766666666666667,\n",
      "      0.8340574866310161\n",
      "    ],\n",
      "    \"FAR\": [\n",
      "      0.37509775161743164,\n",
      "      0.21189526249839796,\n",
      "      0.8766666666666667,\n",
      "      0.9070855614973262\n",
      "    ]\n",
      "  },\n",
      "  \"IR50-TradesArcFace\": {\n",
      "    \"TAR\": [\n",
      "      0.852626383304596,\n",
      "      0.9304290678013455,\n",
      "      0.9506666666666667,\n",
      "      0.9677473262032086\n",
      "    ],\n",
      "    \"FAR\": [\n",
      "      0.852626383304596,\n",
      "      0.7414358845777451,\n",
      "      0.9506666666666667,\n",
      "      0.9269719251336899\n",
      "    ]\n",
      "  },\n",
      "  \"IR50-PGDCosFace\": {\n",
      "    \"TAR\": [\n",
      "      0.2336357682943344,\n",
      "      0.39442368576621867,\n",
      "      0.8618333333333333,\n",
      "      0.8252005347593583\n",
      "    ],\n",
      "    \"FAR\": [\n",
      "      0.2336357682943344,\n",
      "      0.12449123738194288,\n",
      "      0.8618333333333333,\n",
      "      0.8938836898395722\n",
      "    ]\n",
      "  },\n",
      "  \"IR50-TradesCosFace\": {\n",
      "    \"TAR\": [\n",
      "      0.6367585062980652,\n",
      "      0.7644196986245678,\n",
      "      0.9073333333333333,\n",
      "      0.8878676470588235\n",
      "    ],\n",
      "    \"FAR\": [\n",
      "      0.6367585062980652,\n",
      "      0.459508703064415,\n",
      "      0.9073333333333333,\n",
      "      0.9293114973262032\n",
      "    ]\n",
      "  },\n",
      "  \"IR50-PGDAm\": {\n",
      "    \"TAR\": [\n",
      "      0.415134072303772,\n",
      "      0.5512238106426389,\n",
      "      0.85,\n",
      "      0.8155080213903744\n",
      "    ],\n",
      "    \"FAR\": [\n",
      "      0.415134072303772,\n",
      "      0.31743200034535624,\n",
      "      0.85,\n",
      "      0.8736631016042781\n",
      "    ]\n",
      "  },\n",
      "  \"IR50-PGDSphereFace\": {\n",
      "    \"TAR\": [\n",
      "      0.5209366679191589,\n",
      "      0.7590553996033025,\n",
      "      0.8881666666666667,\n",
      "      0.8918783422459893\n",
      "    ],\n",
      "    \"FAR\": [\n",
      "      0.5209366679191589,\n",
      "      0.14656380756176388,\n",
      "      0.8881666666666667,\n",
      "      0.8734959893048129\n",
      "    ]\n",
      "  },\n",
      "  \"CASIA-Am\": {\n",
      "    \"TAR\": [\n",
      "      0.4614875912666321,\n",
      "      0.6569978065719021,\n",
      "      0.978,\n",
      "      0.9613970588235294\n",
      "    ],\n",
      "    \"FAR\": [\n",
      "      0.4614875912666321,\n",
      "      0.3072028134969427,\n",
      "      0.978,\n",
      "      0.9834558823529411\n",
      "    ]\n",
      "  },\n",
      "  \"CASIA-ArcFace\": {\n",
      "    \"TAR\": [\n",
      "      0.3242388069629669,\n",
      "      0.6610272079569233,\n",
      "      0.9905,\n",
      "      0.9842914438502673\n",
      "    ],\n",
      "    \"FAR\": [\n",
      "      0.3242388069629669,\n",
      "      0.030433957276401736,\n",
      "      0.9905,\n",
      "      0.9901403743315508\n",
      "    ]\n",
      "  },\n",
      "  \"CASIA-CosFace\": {\n",
      "    \"TAR\": [\n",
      "      0.23147112131118774,\n",
      "      0.5752936383191979,\n",
      "      0.9911666666666666,\n",
      "      0.990975935828877\n",
      "    ],\n",
      "    \"FAR\": [\n",
      "      0.23147112131118774,\n",
      "      0.017218588910494832,\n",
      "      0.9911666666666666,\n",
      "      0.9931483957219251\n",
      "    ]\n",
      "  },\n",
      "  \"CASIA-Softmax\": {\n",
      "    \"TAR\": [\n",
      "      0.3241730332374573,\n",
      "      0.6465210671808053,\n",
      "      0.9883333333333333,\n",
      "      0.9872994652406417\n",
      "    ],\n",
      "    \"FAR\": [\n",
      "      0.3241730332374573,\n",
      "      0.039552265486367456,\n",
      "      0.9883333333333333,\n",
      "      0.986129679144385\n",
      "    ]\n",
      "  },\n",
      "  \"CASIA-SphereFace\": {\n",
      "    \"TAR\": [\n",
      "      0.4365990459918976,\n",
      "      0.7441343270381664,\n",
      "      0.9765,\n",
      "      0.9705882352941176\n",
      "    ],\n",
      "    \"FAR\": [\n",
      "      0.4365990459918976,\n",
      "      0.049412021697246726,\n",
      "      0.9765,\n",
      "      0.9732620320855615\n",
      "    ]\n",
      "  },\n",
      "  \"IR50-Softmax-BR\": {\n",
      "    \"TAR\": [\n",
      "      0.33871138095855713,\n",
      "      0.7365838504237008,\n",
      "      0.996,\n",
      "      0.9936497326203209\n",
      "    ],\n",
      "    \"FAR\": [\n",
      "      0.33871138095855713,\n",
      "      0.03223043070481355,\n",
      "      0.996,\n",
      "      0.9954879679144385\n",
      "    ]\n",
      "  },\n",
      "  \"IR50-Softmax-JPEG\": {\n",
      "    \"TAR\": [\n",
      "      0.34150177240371704,\n",
      "      0.7376309356684573,\n",
      "      0.9958333333333333,\n",
      "      0.9941510695187166\n",
      "    ],\n",
      "    \"FAR\": [\n",
      "      0.34150177240371704,\n",
      "      0.03538929120959486,\n",
      "      0.9958333333333333,\n",
      "      0.9921457219251337\n",
      "    ]\n",
      "  },\n",
      "  \"IR50-Softmax-RP\": {\n",
      "    \"TAR\": [\n",
      "      0.35351189970970154,\n",
      "      0.7408344037482206,\n",
      "      0.9941666666666666,\n",
      "      0.9934826203208557\n",
      "    ],\n",
      "    \"FAR\": [\n",
      "      0.35351189970970154,\n",
      "      0.04359455395674048,\n",
      "      0.9941666666666666,\n",
      "      0.9961564171122995\n",
      "    ]\n",
      "  },\n",
      "  \"testir152\": {\n",
      "    \"TAR\": [\n",
      "      0.166788,\n",
      "      0.679775414630437,\n",
      "      0.990976,\n",
      "      0.9954879679144385\n",
      "    ],\n",
      "    \"FAR\": [\n",
      "      0.166788,\n",
      "      0.0022777298501634193,\n",
      "      0.990976,\n",
      "      0.9889705882352942\n",
      "    ]\n",
      "  },\n",
      "  \"testirse50\": {\n",
      "    \"TAR\": [\n",
      "      0.241045,\n",
      "      0.6353479822379173,\n",
      "      0.99,\n",
      "      0.9936497326203209\n",
      "    ],\n",
      "    \"FAR\": [\n",
      "      0.241045,\n",
      "      0.01648944802243757,\n",
      "      0.99,\n",
      "      0.9918114973262032\n",
      "    ]\n",
      "  },\n",
      "  \"testmobileface\": {\n",
      "    \"TAR\": [\n",
      "      0.301611,\n",
      "      0.5676633880016416,\n",
      "      0.996992,\n",
      "      0.9684157754010695\n",
      "    ],\n",
      "    \"FAR\": [\n",
      "      0.301611,\n",
      "      0.01911578172311077,\n",
      "      0.996992,\n",
      "      0.9959893048128342\n",
      "    ]\n",
      "  },\n",
      "  \"testfacenet\": {\n",
      "    \"TAR\": [\n",
      "      0.409131,\n",
      "      0.7569139939913386,\n",
      "      0.987634,\n",
      "      0.9919786096256684\n",
      "    ],\n",
      "    \"FAR\": [\n",
      "      0.409131,\n",
      "      0.03188121795575234,\n",
      "      0.987634,\n",
      "      0.9886363636363636\n",
      "    ]\n",
      "  }\n",
      "}\n"
     ]
    },
    {
     "name": "stderr",
     "output_type": "stream",
     "text": [
      "\n"
     ]
    }
   ],
   "execution_count": 4
  },
  {
   "cell_type": "code",
   "id": "2e4aa36c39a4f82b",
   "metadata": {
    "ExecuteTime": {
     "end_time": "2024-09-26T06:53:17.994575Z",
     "start_time": "2024-09-26T06:23:26.363103Z"
    }
   },
   "source": [
    "from fr_models.get_model import getmodel\n",
    "import json\n",
    "\n",
    "batch_size=32\n",
    "dataset_dir=\"C:/yy/datasets/CASIA-WebFace/casia-aligned-112x112\"\n",
    "untarget_dataset = loadDataset(dataset_dir=dataset_dir,\n",
    "                                   mean=[0.5, 0.5, 0.5],\n",
    "                                   std=[0.5, 0.5, 0.5],\n",
    "                                   mode=\"untarget\",\n",
    "                                   batch_size=batch_size)\n",
    "target_dataset = loadDataset(dataset_dir=dataset_dir,\n",
    "                                   mean=[0.5, 0.5, 0.5],\n",
    "                                   std=[0.5, 0.5, 0.5],\n",
    "                                   mode=\"target\",\n",
    "                                   batch_size=batch_size)\n",
    "benchmark = {}\n",
    "print(\"use dataset %s:\" % dataset_dir)\n",
    "for model_name in fr_model_names:\n",
    "    with torch.no_grad():\n",
    "        benchmark[model_name]={}\n",
    "        print(\"evaluation %s now:\" % (model_name))\n",
    "        model, img_shape = getmodel(model_name)\n",
    "        print(\"    TAR:\")\n",
    "        benchmark[model_name]['TAR']=evalFRModel(model, img_shape, \"untarget\", untarget_dataset)\n",
    "        print(\"    FAR:\")\n",
    "        benchmark[model_name]['FAR']=evalFRModel(model, img_shape, \"target\", target_dataset)\n",
    "\n",
    "print(json.dumps(benchmark, indent=2))"
   ],
   "outputs": [
    {
     "name": "stdout",
     "output_type": "stream",
     "text": [
      "455594 images of 10575 classes loaded\n",
      "455594 images of 10575 classes loaded\n",
      "use dataset C:/yy/datasets/CASIA-WebFace/casia-aligned-112x112:\n",
      "evaluation ShuffleNet_V2_GDConv-stride1 now:\n",
      "Load existing checkpoint\n",
      "    TAR:\n"
     ]
    },
    {
     "name": "stderr",
     "output_type": "stream",
     "text": [
      "  0%|          | 0/187 [00:00<?, ?it/s]C:\\yy\\installed_software\\Anaconda3\\envs\\AdvFaceGAN\\Lib\\site-packages\\torch\\storage.py:414: FutureWarning: You are using `torch.load` with `weights_only=False` (the current default value), which uses the default pickle module implicitly. It is possible to construct malicious pickle data which will execute arbitrary code during unpickling (See https://github.com/pytorch/pytorch/blob/main/SECURITY.md#untrusted-models for more details). In a future release, the default value for `weights_only` will be flipped to `True`. This limits the functions that could be executed during unpickling. Arbitrary objects will no longer be allowed to be loaded via this mode unless they are explicitly allowlisted by the user via `torch.serialization.add_safe_globals`. We recommend you start setting `weights_only=True` for any use case where you don't have full control of the loaded file. Please open an issue on GitHub for any issues related to this experimental feature.\n",
      "  return torch.load(io.BytesIO(b))\n",
      "100%|██████████| 187/187 [00:11<00:00, 16.60it/s]\n"
     ]
    },
    {
     "name": "stdout",
     "output_type": "stream",
     "text": [
      "识别阈值: 0.22403636574745178\n",
      "平均相似分数: 0.38271826634994077\n",
      "ShuffleNet_V2_GDConv-stride1 benchmark rate:0.991500\n",
      "ShuffleNet_V2_GDConv-stride1 success rate:0.801972\n",
      "    FAR:\n"
     ]
    },
    {
     "name": "stderr",
     "output_type": "stream",
     "text": [
      "100%|██████████| 187/187 [00:10<00:00, 17.17it/s]\n"
     ]
    },
    {
     "name": "stdout",
     "output_type": "stream",
     "text": [
      "识别阈值: 0.22403636574745178\n",
      "平均相似分数: 0.035588228471753344\n",
      "ShuffleNet_V2_GDConv-stride1 benchmark rate:0.991500\n",
      "ShuffleNet_V2_GDConv-stride1 success rate:0.992981\n",
      "evaluation Mobilenet now:\n",
      "Load existing checkpoint\n",
      "    TAR:\n"
     ]
    },
    {
     "name": "stderr",
     "output_type": "stream",
     "text": [
      "100%|██████████| 187/187 [00:08<00:00, 22.59it/s]\n"
     ]
    },
    {
     "name": "stdout",
     "output_type": "stream",
     "text": [
      "识别阈值: 0.15846577286720276\n",
      "平均相似分数: 0.3427625058964642\n",
      "Mobilenet benchmark rate:0.993500\n",
      "Mobilenet success rate:0.815341\n",
      "    FAR:\n"
     ]
    },
    {
     "name": "stderr",
     "output_type": "stream",
     "text": [
      "100%|██████████| 187/187 [00:08<00:00, 21.33it/s]\n"
     ]
    },
    {
     "name": "stdout",
     "output_type": "stream",
     "text": [
      "识别阈值: 0.15846577286720276\n",
      "平均相似分数: 0.008124033538187308\n",
      "Mobilenet benchmark rate:0.993500\n",
      "Mobilenet success rate:0.993984\n",
      "evaluation MobilenetV2-stride1 now:\n",
      "Load existing checkpoint\n",
      "    TAR:\n"
     ]
    },
    {
     "name": "stderr",
     "output_type": "stream",
     "text": [
      "100%|██████████| 187/187 [00:11<00:00, 16.25it/s]\n"
     ]
    },
    {
     "name": "stdout",
     "output_type": "stream",
     "text": [
      "识别阈值: 0.24340271949768066\n",
      "平均相似分数: 0.40572042708858047\n",
      "MobilenetV2-stride1 benchmark rate:0.990500\n",
      "MobilenetV2-stride1 success rate:0.791611\n",
      "    FAR:\n"
     ]
    },
    {
     "name": "stderr",
     "output_type": "stream",
     "text": [
      "100%|██████████| 187/187 [00:11<00:00, 16.51it/s]\n"
     ]
    },
    {
     "name": "stdout",
     "output_type": "stream",
     "text": [
      "识别阈值: 0.24340271949768066\n",
      "平均相似分数: 0.03876266579840483\n",
      "MobilenetV2-stride1 benchmark rate:0.990500\n",
      "MobilenetV2-stride1 success rate:0.990976\n",
      "evaluation CosFace now:\n",
      "Load existing checkpoint\n",
      "    TAR:\n"
     ]
    },
    {
     "name": "stderr",
     "output_type": "stream",
     "text": [
      "100%|██████████| 187/187 [00:08<00:00, 22.88it/s]\n"
     ]
    },
    {
     "name": "stdout",
     "output_type": "stream",
     "text": [
      "识别阈值: 0.24625787138938904\n",
      "平均相似分数: 0.4719177234896401\n",
      "CosFace benchmark rate:0.986833\n",
      "CosFace success rate:0.844586\n",
      "    FAR:\n"
     ]
    },
    {
     "name": "stderr",
     "output_type": "stream",
     "text": [
      "100%|██████████| 187/187 [00:08<00:00, 21.50it/s]\n"
     ]
    },
    {
     "name": "stdout",
     "output_type": "stream",
     "text": [
      "识别阈值: 0.24625787138938904\n",
      "平均相似分数: 0.026724595962889758\n",
      "CosFace benchmark rate:0.986833\n",
      "CosFace success rate:0.990642\n",
      "evaluation FaceNet-VGGFace2 now:\n",
      "Load existing checkpoint\n",
      "    TAR:\n"
     ]
    },
    {
     "name": "stderr",
     "output_type": "stream",
     "text": [
      "100%|██████████| 187/187 [00:19<00:00,  9.71it/s]\n"
     ]
    },
    {
     "name": "stdout",
     "output_type": "stream",
     "text": [
      "识别阈值: 0.42074376344680786\n",
      "平均相似分数: 0.5796848196591708\n",
      "FaceNet-VGGFace2 benchmark rate:0.992333\n",
      "FaceNet-VGGFace2 success rate:0.809659\n",
      "    FAR:\n"
     ]
    },
    {
     "name": "stderr",
     "output_type": "stream",
     "text": [
      "100%|██████████| 187/187 [00:17<00:00, 10.53it/s]\n"
     ]
    },
    {
     "name": "stdout",
     "output_type": "stream",
     "text": [
      "识别阈值: 0.42074376344680786\n",
      "平均相似分数: 0.015251234575041836\n",
      "FaceNet-VGGFace2 benchmark rate:0.992333\n",
      "FaceNet-VGGFace2 success rate:0.993817\n",
      "evaluation Mobilenet-stride1 now:\n",
      "Load existing checkpoint\n",
      "    TAR:\n"
     ]
    },
    {
     "name": "stderr",
     "output_type": "stream",
     "text": [
      "100%|██████████| 187/187 [00:10<00:00, 18.37it/s]\n"
     ]
    },
    {
     "name": "stdout",
     "output_type": "stream",
     "text": [
      "识别阈值: 0.19342336058616638\n",
      "平均相似分数: 0.4050796096451907\n",
      "Mobilenet-stride1 benchmark rate:0.995667\n",
      "Mobilenet-stride1 success rate:0.863302\n",
      "    FAR:\n"
     ]
    },
    {
     "name": "stderr",
     "output_type": "stream",
     "text": [
      "100%|██████████| 187/187 [00:10<00:00, 18.33it/s]\n"
     ]
    },
    {
     "name": "stdout",
     "output_type": "stream",
     "text": [
      "识别阈值: 0.19342336058616638\n",
      "平均相似分数: 0.008880330425496324\n",
      "Mobilenet-stride1 benchmark rate:0.995667\n",
      "Mobilenet-stride1 success rate:0.996825\n",
      "evaluation SphereFace now:\n",
      "Load existing checkpoint\n",
      "    TAR:\n"
     ]
    },
    {
     "name": "stderr",
     "output_type": "stream",
     "text": [
      "100%|██████████| 187/187 [00:08<00:00, 22.10it/s]\n"
     ]
    },
    {
     "name": "stdout",
     "output_type": "stream",
     "text": [
      "识别阈值: 0.34931832551956177\n",
      "平均相似分数: 0.4917831708528326\n",
      "SphereFace benchmark rate:0.981833\n",
      "SphereFace success rate:0.778910\n",
      "    FAR:\n"
     ]
    },
    {
     "name": "stderr",
     "output_type": "stream",
     "text": [
      "100%|██████████| 187/187 [00:08<00:00, 21.54it/s]\n"
     ]
    },
    {
     "name": "stdout",
     "output_type": "stream",
     "text": [
      "识别阈值: 0.34931832551956177\n",
      "平均相似分数: 0.059019084375690645\n",
      "SphereFace benchmark rate:0.981833\n",
      "SphereFace success rate:0.991477\n",
      "evaluation MobileFace now:\n",
      "Load existing checkpoint\n",
      "    TAR:\n"
     ]
    },
    {
     "name": "stderr",
     "output_type": "stream",
     "text": [
      "100%|██████████| 187/187 [00:09<00:00, 19.77it/s]\n"
     ]
    },
    {
     "name": "stdout",
     "output_type": "stream",
     "text": [
      "识别阈值: 0.21116749942302704\n",
      "平均相似分数: 0.40425314562924997\n",
      "MobileFace benchmark rate:0.994500\n",
      "MobileFace success rate:0.835729\n",
      "    FAR:\n"
     ]
    },
    {
     "name": "stderr",
     "output_type": "stream",
     "text": [
      "100%|██████████| 187/187 [00:09<00:00, 19.91it/s]\n"
     ]
    },
    {
     "name": "stdout",
     "output_type": "stream",
     "text": [
      "识别阈值: 0.21116749942302704\n",
      "平均相似分数: 0.01081671559463976\n",
      "MobileFace benchmark rate:0.994500\n",
      "MobileFace success rate:0.996491\n",
      "evaluation FaceNet-casia now:\n",
      "Load existing checkpoint\n",
      "    TAR:\n"
     ]
    },
    {
     "name": "stderr",
     "output_type": "stream",
     "text": [
      "100%|██████████| 187/187 [00:19<00:00,  9.83it/s]\n"
     ]
    },
    {
     "name": "stdout",
     "output_type": "stream",
     "text": [
      "识别阈值: 0.4289606213569641\n",
      "平均相似分数: 0.5685804980544916\n",
      "FaceNet-casia benchmark rate:0.981000\n",
      "FaceNet-casia success rate:0.787099\n",
      "    FAR:\n"
     ]
    },
    {
     "name": "stderr",
     "output_type": "stream",
     "text": [
      "100%|██████████| 187/187 [00:17<00:00, 10.45it/s]\n"
     ]
    },
    {
     "name": "stdout",
     "output_type": "stream",
     "text": [
      "识别阈值: 0.4289606213569641\n",
      "平均相似分数: 0.09369896907279365\n",
      "FaceNet-casia benchmark rate:0.981000\n",
      "FaceNet-casia success rate:0.989138\n",
      "evaluation MobilenetV2 now:\n",
      "Load existing checkpoint\n",
      "    TAR:\n"
     ]
    },
    {
     "name": "stderr",
     "output_type": "stream",
     "text": [
      "100%|██████████| 187/187 [00:09<00:00, 20.73it/s]\n"
     ]
    },
    {
     "name": "stdout",
     "output_type": "stream",
     "text": [
      "识别阈值: 0.22666725516319275\n",
      "平均相似分数: 0.38144806751887683\n",
      "MobilenetV2 benchmark rate:0.993333\n",
      "MobilenetV2 success rate:0.787600\n",
      "    FAR:\n"
     ]
    },
    {
     "name": "stderr",
     "output_type": "stream",
     "text": [
      "100%|██████████| 187/187 [00:09<00:00, 19.31it/s]\n"
     ]
    },
    {
     "name": "stdout",
     "output_type": "stream",
     "text": [
      "识别阈值: 0.22666725516319275\n",
      "平均相似分数: 0.010779958606568753\n",
      "MobilenetV2 benchmark rate:0.993333\n",
      "MobilenetV2 success rate:0.995655\n",
      "evaluation ArcFace now:\n",
      "Load existing checkpoint\n",
      "    TAR:\n"
     ]
    },
    {
     "name": "stderr",
     "output_type": "stream",
     "text": [
      "100%|██████████| 187/187 [00:22<00:00,  8.37it/s]\n"
     ]
    },
    {
     "name": "stdout",
     "output_type": "stream",
     "text": [
      "识别阈值: 0.28402677178382874\n",
      "平均相似分数: 0.47008988214921293\n",
      "ArcFace benchmark rate:0.995000\n",
      "ArcFace success rate:0.840909\n",
      "    FAR:\n"
     ]
    },
    {
     "name": "stderr",
     "output_type": "stream",
     "text": [
      "100%|██████████| 187/187 [00:22<00:00,  8.15it/s]\n"
     ]
    },
    {
     "name": "stdout",
     "output_type": "stream",
     "text": [
      "识别阈值: 0.28402677178382874\n",
      "平均相似分数: 0.014140769970954401\n",
      "ArcFace benchmark rate:0.995000\n",
      "ArcFace success rate:0.997326\n",
      "evaluation ResNet50 now:\n",
      "Load existing checkpoint\n",
      "    TAR:\n"
     ]
    },
    {
     "name": "stderr",
     "output_type": "stream",
     "text": [
      "100%|██████████| 187/187 [00:10<00:00, 18.69it/s]\n"
     ]
    },
    {
     "name": "stdout",
     "output_type": "stream",
     "text": [
      "识别阈值: 0.19116485118865967\n",
      "平均相似分数: 0.4206750544765777\n",
      "ResNet50 benchmark rate:0.997167\n",
      "ResNet50 success rate:0.869820\n",
      "    FAR:\n"
     ]
    },
    {
     "name": "stderr",
     "output_type": "stream",
     "text": [
      "100%|██████████| 187/187 [00:10<00:00, 18.65it/s]\n"
     ]
    },
    {
     "name": "stdout",
     "output_type": "stream",
     "text": [
      "识别阈值: 0.19116485118865967\n",
      "平均相似分数: 0.005091569425448225\n",
      "ResNet50 benchmark rate:0.997167\n",
      "ResNet50 success rate:0.998830\n",
      "evaluation ShuffleNet_V1_GDConv now:\n",
      "Load existing checkpoint\n",
      "    TAR:\n"
     ]
    },
    {
     "name": "stderr",
     "output_type": "stream",
     "text": [
      "100%|██████████| 187/187 [00:11<00:00, 16.17it/s]\n"
     ]
    },
    {
     "name": "stdout",
     "output_type": "stream",
     "text": [
      "识别阈值: 0.19073212146759033\n",
      "平均相似分数: 0.3811985883603581\n",
      "ShuffleNet_V1_GDConv benchmark rate:0.994667\n",
      "ShuffleNet_V1_GDConv success rate:0.836898\n",
      "    FAR:\n"
     ]
    },
    {
     "name": "stderr",
     "output_type": "stream",
     "text": [
      "100%|██████████| 187/187 [00:11<00:00, 16.16it/s]\n"
     ]
    },
    {
     "name": "stdout",
     "output_type": "stream",
     "text": [
      "识别阈值: 0.19073212146759033\n",
      "平均相似分数: 0.009843203235952367\n",
      "ShuffleNet_V1_GDConv benchmark rate:0.994667\n",
      "ShuffleNet_V1_GDConv success rate:0.996491\n",
      "evaluation ResNet50-casia now:\n",
      "Load existing checkpoint\n",
      "    TAR:\n"
     ]
    },
    {
     "name": "stderr",
     "output_type": "stream",
     "text": [
      "100%|██████████| 187/187 [00:09<00:00, 18.87it/s]\n"
     ]
    },
    {
     "name": "stdout",
     "output_type": "stream",
     "text": [
      "识别阈值: 0.1854616403579712\n",
      "平均相似分数: 0.48419529449029386\n",
      "ResNet50-casia benchmark rate:0.986000\n",
      "ResNet50-casia success rate:0.895388\n",
      "    FAR:\n"
     ]
    },
    {
     "name": "stderr",
     "output_type": "stream",
     "text": [
      "100%|██████████| 187/187 [00:10<00:00, 18.44it/s]\n"
     ]
    },
    {
     "name": "stdout",
     "output_type": "stream",
     "text": [
      "识别阈值: 0.1854616403579712\n",
      "平均相似分数: 0.007304786434764401\n",
      "ResNet50-casia benchmark rate:0.986000\n",
      "ResNet50-casia success rate:0.992981\n",
      "evaluation IR50-Am now:\n",
      "Load existing checkpoint\n",
      "    TAR:\n"
     ]
    },
    {
     "name": "stderr",
     "output_type": "stream",
     "text": [
      "100%|██████████| 187/187 [00:22<00:00,  8.36it/s]\n"
     ]
    },
    {
     "name": "stdout",
     "output_type": "stream",
     "text": [
      "识别阈值: 0.45836973190307617\n",
      "平均相似分数: 0.568421676941714\n",
      "IR50-Am benchmark rate:0.992167\n",
      "IR50-Am success rate:0.805816\n",
      "    FAR:\n"
     ]
    },
    {
     "name": "stderr",
     "output_type": "stream",
     "text": [
      "100%|██████████| 187/187 [00:22<00:00,  8.37it/s]\n"
     ]
    },
    {
     "name": "stdout",
     "output_type": "stream",
     "text": [
      "识别阈值: 0.45836973190307617\n",
      "平均相似分数: 0.31542101858512445\n",
      "IR50-Am benchmark rate:0.992167\n",
      "IR50-Am success rate:0.991477\n",
      "evaluation IR50-ArcFace now:\n",
      "Load existing checkpoint\n",
      "    TAR:\n"
     ]
    },
    {
     "name": "stderr",
     "output_type": "stream",
     "text": [
      "100%|██████████| 187/187 [00:22<00:00,  8.36it/s]\n"
     ]
    },
    {
     "name": "stdout",
     "output_type": "stream",
     "text": [
      "识别阈值: 0.27737492322921753\n",
      "平均相似分数: 0.507394592045731\n",
      "IR50-ArcFace benchmark rate:0.997000\n",
      "IR50-ArcFace success rate:0.866644\n",
      "    FAR:\n"
     ]
    },
    {
     "name": "stderr",
     "output_type": "stream",
     "text": [
      "100%|██████████| 187/187 [00:22<00:00,  8.22it/s]\n"
     ]
    },
    {
     "name": "stdout",
     "output_type": "stream",
     "text": [
      "识别阈值: 0.27737492322921753\n",
      "平均相似分数: 0.00465346485554405\n",
      "IR50-ArcFace benchmark rate:0.997000\n",
      "IR50-ArcFace success rate:1.000000\n",
      "evaluation IR50-CosFace now:\n",
      "Load existing checkpoint\n",
      "    TAR:\n"
     ]
    },
    {
     "name": "stderr",
     "output_type": "stream",
     "text": [
      "100%|██████████| 187/187 [00:22<00:00,  8.25it/s]\n"
     ]
    },
    {
     "name": "stdout",
     "output_type": "stream",
     "text": [
      "识别阈值: 0.22401964664459229\n",
      "平均相似分数: 0.4662112469509752\n",
      "IR50-CosFace benchmark rate:0.997000\n",
      "IR50-CosFace success rate:0.885862\n",
      "    FAR:\n"
     ]
    },
    {
     "name": "stderr",
     "output_type": "stream",
     "text": [
      "100%|██████████| 187/187 [00:23<00:00,  8.02it/s]\n"
     ]
    },
    {
     "name": "stdout",
     "output_type": "stream",
     "text": [
      "识别阈值: 0.22401964664459229\n",
      "平均相似分数: 0.00674764047048265\n",
      "IR50-CosFace benchmark rate:0.997000\n",
      "IR50-CosFace success rate:0.998496\n",
      "evaluation IR50-Softmax now:\n",
      "Load existing checkpoint\n",
      "    TAR:\n"
     ]
    },
    {
     "name": "stderr",
     "output_type": "stream",
     "text": [
      "100%|██████████| 187/187 [00:22<00:00,  8.18it/s]\n"
     ]
    },
    {
     "name": "stdout",
     "output_type": "stream",
     "text": [
      "识别阈值: 0.34233152866363525\n",
      "平均相似分数: 0.571733372881579\n",
      "IR50-Softmax benchmark rate:0.996000\n",
      "IR50-Softmax success rate:0.873663\n",
      "    FAR:\n"
     ]
    },
    {
     "name": "stderr",
     "output_type": "stream",
     "text": [
      "100%|██████████| 187/187 [00:22<00:00,  8.14it/s]\n"
     ]
    },
    {
     "name": "stdout",
     "output_type": "stream",
     "text": [
      "识别阈值: 0.34233152866363525\n",
      "平均相似分数: 0.037668156874678\n",
      "IR50-Softmax benchmark rate:0.996000\n",
      "IR50-Softmax success rate:0.993650\n",
      "evaluation IR50-SphereFace now:\n",
      "Load existing checkpoint\n",
      "    TAR:\n"
     ]
    },
    {
     "name": "stderr",
     "output_type": "stream",
     "text": [
      "100%|██████████| 187/187 [00:22<00:00,  8.16it/s]\n"
     ]
    },
    {
     "name": "stdout",
     "output_type": "stream",
     "text": [
      "识别阈值: 0.361619234085083\n",
      "平均相似分数: 0.5901656532417335\n",
      "IR50-SphereFace benchmark rate:0.995833\n",
      "IR50-SphereFace success rate:0.867981\n",
      "    FAR:\n"
     ]
    },
    {
     "name": "stderr",
     "output_type": "stream",
     "text": [
      "100%|██████████| 187/187 [00:23<00:00,  8.12it/s]\n"
     ]
    },
    {
     "name": "stdout",
     "output_type": "stream",
     "text": [
      "识别阈值: 0.361619234085083\n",
      "平均相似分数: 0.019948575605842518\n",
      "IR50-SphereFace benchmark rate:0.995833\n",
      "IR50-SphereFace success rate:0.995989\n",
      "evaluation IR50-PGDSoftmax now:\n",
      "Load existing checkpoint\n",
      "    TAR:\n"
     ]
    },
    {
     "name": "stderr",
     "output_type": "stream",
     "text": [
      "100%|██████████| 187/187 [00:22<00:00,  8.16it/s]\n"
     ]
    },
    {
     "name": "stdout",
     "output_type": "stream",
     "text": [
      "识别阈值: 0.3052944242954254\n",
      "平均相似分数: 0.3497916512222967\n",
      "IR50-PGDSoftmax benchmark rate:0.913000\n",
      "IR50-PGDSoftmax success rate:0.554646\n",
      "    FAR:\n"
     ]
    },
    {
     "name": "stderr",
     "output_type": "stream",
     "text": [
      "100%|██████████| 187/187 [00:23<00:00,  8.00it/s]\n"
     ]
    },
    {
     "name": "stdout",
     "output_type": "stream",
     "text": [
      "识别阈值: 0.3052944242954254\n",
      "平均相似分数: 0.08992217022159578\n",
      "IR50-PGDSoftmax benchmark rate:0.913000\n",
      "IR50-PGDSoftmax success rate:0.967747\n",
      "evaluation IR50-TradesSoftmax now:\n",
      "Load existing checkpoint\n",
      "    TAR:\n"
     ]
    },
    {
     "name": "stderr",
     "output_type": "stream",
     "text": [
      "100%|██████████| 187/187 [00:22<00:00,  8.14it/s]\n"
     ]
    },
    {
     "name": "stdout",
     "output_type": "stream",
     "text": [
      "识别阈值: 0.32782697677612305\n",
      "平均相似分数: 0.3714105181074153\n",
      "IR50-TradesSoftmax benchmark rate:0.909500\n",
      "IR50-TradesSoftmax success rate:0.554980\n",
      "    FAR:\n"
     ]
    },
    {
     "name": "stderr",
     "output_type": "stream",
     "text": [
      "100%|██████████| 187/187 [00:23<00:00,  7.89it/s]\n"
     ]
    },
    {
     "name": "stdout",
     "output_type": "stream",
     "text": [
      "识别阈值: 0.32782697677612305\n",
      "平均相似分数: 0.10796218589713198\n",
      "IR50-TradesSoftmax benchmark rate:0.909500\n",
      "IR50-TradesSoftmax success rate:0.960060\n",
      "evaluation IR50-PGDArcFace now:\n",
      "Load existing checkpoint\n",
      "    TAR:\n"
     ]
    },
    {
     "name": "stderr",
     "output_type": "stream",
     "text": [
      "100%|██████████| 187/187 [00:23<00:00,  7.80it/s]\n"
     ]
    },
    {
     "name": "stdout",
     "output_type": "stream",
     "text": [
      "识别阈值: 0.37509775161743164\n",
      "平均相似分数: 0.37725172405701407\n",
      "IR50-PGDArcFace benchmark rate:0.876667\n",
      "IR50-PGDArcFace success rate:0.471424\n",
      "    FAR:\n"
     ]
    },
    {
     "name": "stderr",
     "output_type": "stream",
     "text": [
      "100%|██████████| 187/187 [00:24<00:00,  7.58it/s]\n"
     ]
    },
    {
     "name": "stdout",
     "output_type": "stream",
     "text": [
      "识别阈值: 0.37509775161743164\n",
      "平均相似分数: 0.16054640943262313\n",
      "IR50-PGDArcFace benchmark rate:0.876667\n",
      "IR50-PGDArcFace success rate:0.936832\n",
      "evaluation IR50-TradesArcFace now:\n",
      "Load existing checkpoint\n",
      "    TAR:\n"
     ]
    },
    {
     "name": "stderr",
     "output_type": "stream",
     "text": [
      "100%|██████████| 187/187 [00:24<00:00,  7.64it/s]\n"
     ]
    },
    {
     "name": "stdout",
     "output_type": "stream",
     "text": [
      "识别阈值: 0.852626383304596\n",
      "平均相似分数: 0.8920184373357557\n",
      "IR50-TradesArcFace benchmark rate:0.950667\n",
      "IR50-TradesArcFace success rate:0.804646\n",
      "    FAR:\n"
     ]
    },
    {
     "name": "stderr",
     "output_type": "stream",
     "text": [
      "100%|██████████| 187/187 [00:24<00:00,  7.63it/s]\n"
     ]
    },
    {
     "name": "stdout",
     "output_type": "stream",
     "text": [
      "识别阈值: 0.852626383304596\n",
      "平均相似分数: 0.7346919687056446\n",
      "IR50-TradesArcFace benchmark rate:0.950667\n",
      "IR50-TradesArcFace success rate:0.914773\n",
      "evaluation IR50-PGDCosFace now:\n",
      "Load existing checkpoint\n",
      "    TAR:\n"
     ]
    },
    {
     "name": "stderr",
     "output_type": "stream",
     "text": [
      "100%|██████████| 187/187 [00:22<00:00,  8.21it/s]\n"
     ]
    },
    {
     "name": "stdout",
     "output_type": "stream",
     "text": [
      "识别阈值: 0.2336357682943344\n",
      "平均相似分数: 0.25406800908928945\n",
      "IR50-PGDCosFace benchmark rate:0.861833\n",
      "IR50-PGDCosFace success rate:0.467413\n",
      "    FAR:\n"
     ]
    },
    {
     "name": "stderr",
     "output_type": "stream",
     "text": [
      "100%|██████████| 187/187 [00:20<00:00,  9.06it/s]\n"
     ]
    },
    {
     "name": "stdout",
     "output_type": "stream",
     "text": [
      "识别阈值: 0.2336357682943344\n",
      "平均相似分数: 0.09349618015341139\n",
      "IR50-PGDCosFace benchmark rate:0.861833\n",
      "IR50-PGDCosFace success rate:0.929813\n",
      "evaluation IR50-TradesCosFace now:\n",
      "Load existing checkpoint\n",
      "    TAR:\n"
     ]
    },
    {
     "name": "stderr",
     "output_type": "stream",
     "text": [
      "100%|██████████| 187/187 [00:19<00:00,  9.48it/s]\n"
     ]
    },
    {
     "name": "stdout",
     "output_type": "stream",
     "text": [
      "识别阈值: 0.6367585062980652\n",
      "平均相似分数: 0.6496721002505781\n",
      "IR50-TradesCosFace benchmark rate:0.907333\n",
      "IR50-TradesCosFace success rate:0.593416\n",
      "    FAR:\n"
     ]
    },
    {
     "name": "stderr",
     "output_type": "stream",
     "text": [
      "100%|██████████| 187/187 [00:19<00:00,  9.49it/s]\n"
     ]
    },
    {
     "name": "stdout",
     "output_type": "stream",
     "text": [
      "识别阈值: 0.6367585062980652\n",
      "平均相似分数: 0.41341072068263945\n",
      "IR50-TradesCosFace benchmark rate:0.907333\n",
      "IR50-TradesCosFace success rate:0.923463\n",
      "evaluation IR50-PGDAm now:\n",
      "Load existing checkpoint\n",
      "    TAR:\n"
     ]
    },
    {
     "name": "stderr",
     "output_type": "stream",
     "text": [
      "100%|██████████| 187/187 [00:20<00:00,  9.24it/s]\n"
     ]
    },
    {
     "name": "stdout",
     "output_type": "stream",
     "text": [
      "识别阈值: 0.415134072303772\n",
      "平均相似分数: 0.41447156550920505\n",
      "IR50-PGDAm benchmark rate:0.850000\n",
      "IR50-PGDAm success rate:0.443349\n",
      "    FAR:\n"
     ]
    },
    {
     "name": "stderr",
     "output_type": "stream",
     "text": [
      "100%|██████████| 187/187 [00:20<00:00,  8.99it/s]\n"
     ]
    },
    {
     "name": "stdout",
     "output_type": "stream",
     "text": [
      "识别阈值: 0.415134072303772\n",
      "平均相似分数: 0.2826892669688671\n",
      "IR50-PGDAm benchmark rate:0.850000\n",
      "IR50-PGDAm success rate:0.918449\n",
      "evaluation IR50-PGDSphereFace now:\n",
      "Load existing checkpoint\n",
      "    TAR:\n"
     ]
    },
    {
     "name": "stderr",
     "output_type": "stream",
     "text": [
      "100%|██████████| 187/187 [00:20<00:00,  8.94it/s]\n"
     ]
    },
    {
     "name": "stdout",
     "output_type": "stream",
     "text": [
      "识别阈值: 0.5209366679191589\n",
      "平均相似分数: 0.5807124245648813\n",
      "IR50-PGDSphereFace benchmark rate:0.888167\n",
      "IR50-PGDSphereFace success rate:0.646892\n",
      "    FAR:\n"
     ]
    },
    {
     "name": "stderr",
     "output_type": "stream",
     "text": [
      "100%|██████████| 187/187 [00:20<00:00,  8.99it/s]\n"
     ]
    },
    {
     "name": "stdout",
     "output_type": "stream",
     "text": [
      "识别阈值: 0.5209366679191589\n",
      "平均相似分数: 0.04677446405739489\n",
      "IR50-PGDSphereFace benchmark rate:0.888167\n",
      "IR50-PGDSphereFace success rate:0.904245\n",
      "evaluation CASIA-Am now:\n",
      "Load existing checkpoint\n",
      "    TAR:\n"
     ]
    },
    {
     "name": "stderr",
     "output_type": "stream",
     "text": [
      "100%|██████████| 187/187 [00:19<00:00,  9.74it/s]\n"
     ]
    },
    {
     "name": "stdout",
     "output_type": "stream",
     "text": [
      "识别阈值: 0.4614875912666321\n",
      "平均相似分数: 0.5437571321773458\n",
      "CASIA-Am benchmark rate:0.978000\n",
      "CASIA-Am success rate:0.730448\n",
      "    FAR:\n"
     ]
    },
    {
     "name": "stderr",
     "output_type": "stream",
     "text": [
      "100%|██████████| 187/187 [00:20<00:00,  9.21it/s]\n"
     ]
    },
    {
     "name": "stdout",
     "output_type": "stream",
     "text": [
      "识别阈值: 0.4614875912666321\n",
      "平均相似分数: 0.2892672700799982\n",
      "CASIA-Am benchmark rate:0.978000\n",
      "CASIA-Am success rate:0.994151\n",
      "evaluation CASIA-ArcFace now:\n",
      "Load existing checkpoint\n",
      "    TAR:\n"
     ]
    },
    {
     "name": "stderr",
     "output_type": "stream",
     "text": [
      "100%|██████████| 187/187 [00:20<00:00,  9.30it/s]\n"
     ]
    },
    {
     "name": "stdout",
     "output_type": "stream",
     "text": [
      "识别阈值: 0.3242388069629669\n",
      "平均相似分数: 0.5444061704159572\n",
      "CASIA-ArcFace benchmark rate:0.990500\n",
      "CASIA-ArcFace success rate:0.873997\n",
      "    FAR:\n"
     ]
    },
    {
     "name": "stderr",
     "output_type": "stream",
     "text": [
      "100%|██████████| 187/187 [00:20<00:00,  9.07it/s]\n"
     ]
    },
    {
     "name": "stdout",
     "output_type": "stream",
     "text": [
      "识别阈值: 0.3242388069629669\n",
      "平均相似分数: 0.0016039979858040675\n",
      "CASIA-ArcFace benchmark rate:0.990500\n",
      "CASIA-ArcFace success rate:0.997493\n",
      "evaluation CASIA-CosFace now:\n",
      "Load existing checkpoint\n",
      "    TAR:\n"
     ]
    },
    {
     "name": "stderr",
     "output_type": "stream",
     "text": [
      "100%|██████████| 187/187 [00:20<00:00,  9.16it/s]\n"
     ]
    },
    {
     "name": "stdout",
     "output_type": "stream",
     "text": [
      "识别阈值: 0.23147112131118774\n",
      "平均相似分数: 0.49076058775843945\n",
      "CASIA-CosFace benchmark rate:0.991167\n",
      "CASIA-CosFace success rate:0.915274\n",
      "    FAR:\n"
     ]
    },
    {
     "name": "stderr",
     "output_type": "stream",
     "text": [
      "100%|██████████| 187/187 [00:20<00:00,  9.07it/s]\n"
     ]
    },
    {
     "name": "stdout",
     "output_type": "stream",
     "text": [
      "识别阈值: 0.23147112131118774\n",
      "平均相似分数: 0.004371930175576979\n",
      "CASIA-CosFace benchmark rate:0.991167\n",
      "CASIA-CosFace success rate:0.995154\n",
      "evaluation CASIA-Softmax now:\n",
      "Load existing checkpoint\n",
      "    TAR:\n"
     ]
    },
    {
     "name": "stderr",
     "output_type": "stream",
     "text": [
      "100%|██████████| 187/187 [00:20<00:00,  9.17it/s]\n"
     ]
    },
    {
     "name": "stdout",
     "output_type": "stream",
     "text": [
      "识别阈值: 0.3241730332374573\n",
      "平均相似分数: 0.5249332234071677\n",
      "CASIA-Softmax benchmark rate:0.988333\n",
      "CASIA-Softmax success rate:0.861631\n",
      "    FAR:\n"
     ]
    },
    {
     "name": "stderr",
     "output_type": "stream",
     "text": [
      "100%|██████████| 187/187 [00:20<00:00,  9.14it/s]\n"
     ]
    },
    {
     "name": "stdout",
     "output_type": "stream",
     "text": [
      "识别阈值: 0.3241730332374573\n",
      "平均相似分数: 0.011918015108054085\n",
      "CASIA-Softmax benchmark rate:0.988333\n",
      "CASIA-Softmax success rate:0.996324\n",
      "evaluation CASIA-SphereFace now:\n",
      "Load existing checkpoint\n",
      "    TAR:\n"
     ]
    },
    {
     "name": "stderr",
     "output_type": "stream",
     "text": [
      "100%|██████████| 187/187 [00:19<00:00,  9.40it/s]\n"
     ]
    },
    {
     "name": "stdout",
     "output_type": "stream",
     "text": [
      "识别阈值: 0.4365990459918976\n",
      "平均相似分数: 0.6760648017577058\n",
      "CASIA-SphereFace benchmark rate:0.976500\n",
      "CASIA-SphereFace success rate:0.891711\n",
      "    FAR:\n"
     ]
    },
    {
     "name": "stderr",
     "output_type": "stream",
     "text": [
      "100%|██████████| 187/187 [00:20<00:00,  9.33it/s]\n"
     ]
    },
    {
     "name": "stdout",
     "output_type": "stream",
     "text": [
      "识别阈值: 0.4365990459918976\n",
      "平均相似分数: 0.0007852673458830667\n",
      "CASIA-SphereFace benchmark rate:0.976500\n",
      "CASIA-SphereFace success rate:0.987801\n",
      "evaluation IR50-Softmax-BR now:\n",
      "Load existing checkpoint\n",
      "    TAR:\n"
     ]
    },
    {
     "name": "stderr",
     "output_type": "stream",
     "text": [
      "100%|██████████| 187/187 [00:20<00:00,  9.35it/s]\n"
     ]
    },
    {
     "name": "stdout",
     "output_type": "stream",
     "text": [
      "识别阈值: 0.33871138095855713\n",
      "平均相似分数: 0.5647623608336114\n",
      "IR50-Softmax-BR benchmark rate:0.996000\n",
      "IR50-Softmax-BR success rate:0.865642\n",
      "    FAR:\n"
     ]
    },
    {
     "name": "stderr",
     "output_type": "stream",
     "text": [
      "100%|██████████| 187/187 [00:20<00:00,  9.08it/s]\n"
     ]
    },
    {
     "name": "stdout",
     "output_type": "stream",
     "text": [
      "识别阈值: 0.33871138095855713\n",
      "平均相似分数: 0.03659411375301132\n",
      "IR50-Softmax-BR benchmark rate:0.996000\n",
      "IR50-Softmax-BR success rate:0.993148\n",
      "evaluation IR50-Softmax-JPEG now:\n",
      "Load existing checkpoint\n",
      "    TAR:\n"
     ]
    },
    {
     "name": "stderr",
     "output_type": "stream",
     "text": [
      "100%|██████████| 187/187 [00:21<00:00,  8.60it/s]\n"
     ]
    },
    {
     "name": "stdout",
     "output_type": "stream",
     "text": [
      "识别阈值: 0.34150177240371704\n",
      "平均相似分数: 0.5661743399059123\n",
      "IR50-Softmax-JPEG benchmark rate:0.995833\n",
      "IR50-Softmax-JPEG success rate:0.862634\n",
      "    FAR:\n"
     ]
    },
    {
     "name": "stderr",
     "output_type": "stream",
     "text": [
      "100%|██████████| 187/187 [00:22<00:00,  8.49it/s]\n"
     ]
    },
    {
     "name": "stdout",
     "output_type": "stream",
     "text": [
      "识别阈值: 0.34150177240371704\n",
      "平均相似分数: 0.0362217599366677\n",
      "IR50-Softmax-JPEG benchmark rate:0.995833\n",
      "IR50-Softmax-JPEG success rate:0.994652\n",
      "evaluation IR50-Softmax-RP now:\n",
      "Load existing checkpoint\n",
      "    TAR:\n"
     ]
    },
    {
     "name": "stderr",
     "output_type": "stream",
     "text": [
      "100%|██████████| 187/187 [02:48<00:00,  1.11it/s]\n"
     ]
    },
    {
     "name": "stdout",
     "output_type": "stream",
     "text": [
      "识别阈值: 0.35351189970970154\n",
      "平均相似分数: 0.5721938685684609\n",
      "IR50-Softmax-RP benchmark rate:0.994167\n",
      "IR50-Softmax-RP success rate:0.860628\n",
      "    FAR:\n"
     ]
    },
    {
     "name": "stderr",
     "output_type": "stream",
     "text": [
      "100%|██████████| 187/187 [02:48<00:00,  1.11it/s]\n"
     ]
    },
    {
     "name": "stdout",
     "output_type": "stream",
     "text": [
      "识别阈值: 0.35351189970970154\n",
      "平均相似分数: 0.049413580192076506\n",
      "IR50-Softmax-RP benchmark rate:0.994167\n",
      "IR50-Softmax-RP success rate:0.993316\n",
      "evaluation testir152 now:\n",
      "    TAR:\n"
     ]
    },
    {
     "name": "stderr",
     "output_type": "stream",
     "text": [
      "100%|██████████| 187/187 [00:29<00:00,  6.35it/s]\n"
     ]
    },
    {
     "name": "stdout",
     "output_type": "stream",
     "text": [
      "识别阈值: 0.166788\n",
      "平均相似分数: 0.5094132127328934\n",
      "testir152 benchmark rate:0.990976\n",
      "testir152 success rate:0.911598\n",
      "    FAR:\n"
     ]
    },
    {
     "name": "stderr",
     "output_type": "stream",
     "text": [
      "100%|██████████| 187/187 [00:29<00:00,  6.40it/s]\n"
     ]
    },
    {
     "name": "stdout",
     "output_type": "stream",
     "text": [
      "识别阈值: 0.166788\n",
      "平均相似分数: 0.0019750212766102486\n",
      "testir152 benchmark rate:0.990976\n",
      "testir152 success rate:0.988803\n",
      "evaluation testirse50 now:\n",
      "    TAR:\n"
     ]
    },
    {
     "name": "stderr",
     "output_type": "stream",
     "text": [
      "100%|██████████| 187/187 [00:19<00:00,  9.42it/s]\n"
     ]
    },
    {
     "name": "stdout",
     "output_type": "stream",
     "text": [
      "识别阈值: 0.241045\n",
      "平均相似分数: 0.4716716923246756\n",
      "testirse50 benchmark rate:0.990000\n",
      "testirse50 success rate:0.875334\n",
      "    FAR:\n"
     ]
    },
    {
     "name": "stderr",
     "output_type": "stream",
     "text": [
      "100%|██████████| 187/187 [00:20<00:00,  9.25it/s]\n"
     ]
    },
    {
     "name": "stdout",
     "output_type": "stream",
     "text": [
      "识别阈值: 0.241045\n",
      "平均相似分数: 0.015058728002385613\n",
      "testirse50 benchmark rate:0.990000\n",
      "testirse50 success rate:0.992981\n",
      "evaluation testmobileface now:\n",
      "    TAR:\n"
     ]
    },
    {
     "name": "stderr",
     "output_type": "stream",
     "text": [
      "100%|██████████| 187/187 [00:09<00:00, 19.86it/s]\n"
     ]
    },
    {
     "name": "stdout",
     "output_type": "stream",
     "text": [
      "识别阈值: 0.301611\n",
      "平均相似分数: 0.3978286111885093\n",
      "testmobileface benchmark rate:0.996992\n",
      "testmobileface success rate:0.706551\n",
      "    FAR:\n"
     ]
    },
    {
     "name": "stderr",
     "output_type": "stream",
     "text": [
      "100%|██████████| 187/187 [00:09<00:00, 18.78it/s]\n"
     ]
    },
    {
     "name": "stdout",
     "output_type": "stream",
     "text": [
      "识别阈值: 0.301611\n",
      "平均相似分数: 0.02459002282872938\n",
      "testmobileface benchmark rate:0.996992\n",
      "testmobileface success rate:0.997326\n",
      "evaluation testfacenet now:\n",
      "    TAR:\n"
     ]
    },
    {
     "name": "stderr",
     "output_type": "stream",
     "text": [
      "100%|██████████| 187/187 [00:19<00:00,  9.40it/s]\n"
     ]
    },
    {
     "name": "stdout",
     "output_type": "stream",
     "text": [
      "识别阈值: 0.409131\n",
      "平均相似分数: 0.5783906054898118\n",
      "testfacenet benchmark rate:0.987634\n",
      "testfacenet success rate:0.818349\n",
      "    FAR:\n"
     ]
    },
    {
     "name": "stderr",
     "output_type": "stream",
     "text": [
      "100%|██████████| 187/187 [00:44<00:00,  4.19it/s]"
     ]
    },
    {
     "name": "stdout",
     "output_type": "stream",
     "text": [
      "识别阈值: 0.409131\n",
      "平均相似分数: 0.015959535572580733\n",
      "testfacenet benchmark rate:0.987634\n",
      "testfacenet success rate:0.992981\n",
      "{\n",
      "  \"ShuffleNet_V2_GDConv-stride1\": {\n",
      "    \"TAR\": [\n",
      "      0.22403636574745178,\n",
      "      0.38271826634994077,\n",
      "      0.9915,\n",
      "      0.8019719251336899\n",
      "    ],\n",
      "    \"FAR\": [\n",
      "      0.22403636574745178,\n",
      "      0.035588228471753344,\n",
      "      0.9915,\n",
      "      0.99298128342246\n",
      "    ]\n",
      "  },\n",
      "  \"Mobilenet\": {\n",
      "    \"TAR\": [\n",
      "      0.15846577286720276,\n",
      "      0.3427625058964642,\n",
      "      0.9935,\n",
      "      0.8153409090909091\n",
      "    ],\n",
      "    \"FAR\": [\n",
      "      0.15846577286720276,\n",
      "      0.008124033538187308,\n",
      "      0.9935,\n",
      "      0.9939839572192514\n",
      "    ]\n",
      "  },\n",
      "  \"MobilenetV2-stride1\": {\n",
      "    \"TAR\": [\n",
      "      0.24340271949768066,\n",
      "      0.40572042708858047,\n",
      "      0.9905,\n",
      "      0.7916109625668449\n",
      "    ],\n",
      "    \"FAR\": [\n",
      "      0.24340271949768066,\n",
      "      0.03876266579840483,\n",
      "      0.9905,\n",
      "      0.990975935828877\n",
      "    ]\n",
      "  },\n",
      "  \"CosFace\": {\n",
      "    \"TAR\": [\n",
      "      0.24625787138938904,\n",
      "      0.4719177234896401,\n",
      "      0.9868333333333333,\n",
      "      0.8445855614973262\n",
      "    ],\n",
      "    \"FAR\": [\n",
      "      0.24625787138938904,\n",
      "      0.026724595962889758,\n",
      "      0.9868333333333333,\n",
      "      0.9906417112299465\n",
      "    ]\n",
      "  },\n",
      "  \"FaceNet-VGGFace2\": {\n",
      "    \"TAR\": [\n",
      "      0.42074376344680786,\n",
      "      0.5796848196591708,\n",
      "      0.9923333333333333,\n",
      "      0.8096590909090909\n",
      "    ],\n",
      "    \"FAR\": [\n",
      "      0.42074376344680786,\n",
      "      0.015251234575041836,\n",
      "      0.9923333333333333,\n",
      "      0.9938168449197861\n",
      "    ]\n",
      "  },\n",
      "  \"Mobilenet-stride1\": {\n",
      "    \"TAR\": [\n",
      "      0.19342336058616638,\n",
      "      0.4050796096451907,\n",
      "      0.9956666666666667,\n",
      "      0.8633021390374331\n",
      "    ],\n",
      "    \"FAR\": [\n",
      "      0.19342336058616638,\n",
      "      0.008880330425496324,\n",
      "      0.9956666666666667,\n",
      "      0.9968248663101604\n",
      "    ]\n",
      "  },\n",
      "  \"SphereFace\": {\n",
      "    \"TAR\": [\n",
      "      0.34931832551956177,\n",
      "      0.4917831708528326,\n",
      "      0.9818333333333333,\n",
      "      0.7789104278074866\n",
      "    ],\n",
      "    \"FAR\": [\n",
      "      0.34931832551956177,\n",
      "      0.059019084375690645,\n",
      "      0.9818333333333333,\n",
      "      0.9914772727272727\n",
      "    ]\n",
      "  },\n",
      "  \"MobileFace\": {\n",
      "    \"TAR\": [\n",
      "      0.21116749942302704,\n",
      "      0.40425314562924997,\n",
      "      0.9945,\n",
      "      0.8357286096256684\n",
      "    ],\n",
      "    \"FAR\": [\n",
      "      0.21116749942302704,\n",
      "      0.01081671559463976,\n",
      "      0.9945,\n",
      "      0.9964906417112299\n",
      "    ]\n",
      "  },\n",
      "  \"FaceNet-casia\": {\n",
      "    \"TAR\": [\n",
      "      0.4289606213569641,\n",
      "      0.5685804980544916,\n",
      "      0.981,\n",
      "      0.7870989304812834\n",
      "    ],\n",
      "    \"FAR\": [\n",
      "      0.4289606213569641,\n",
      "      0.09369896907279365,\n",
      "      0.981,\n",
      "      0.9891377005347594\n",
      "    ]\n",
      "  },\n",
      "  \"MobilenetV2\": {\n",
      "    \"TAR\": [\n",
      "      0.22666725516319275,\n",
      "      0.38144806751887683,\n",
      "      0.9933333333333333,\n",
      "      0.7876002673796791\n",
      "    ],\n",
      "    \"FAR\": [\n",
      "      0.22666725516319275,\n",
      "      0.010779958606568753,\n",
      "      0.9933333333333333,\n",
      "      0.9956550802139037\n",
      "    ]\n",
      "  },\n",
      "  \"ArcFace\": {\n",
      "    \"TAR\": [\n",
      "      0.28402677178382874,\n",
      "      0.47008988214921293,\n",
      "      0.995,\n",
      "      0.8409090909090909\n",
      "    ],\n",
      "    \"FAR\": [\n",
      "      0.28402677178382874,\n",
      "      0.014140769970954401,\n",
      "      0.995,\n",
      "      0.9973262032085561\n",
      "    ]\n",
      "  },\n",
      "  \"ResNet50\": {\n",
      "    \"TAR\": [\n",
      "      0.19116485118865967,\n",
      "      0.4206750544765777,\n",
      "      0.9971666666666666,\n",
      "      0.8698195187165776\n",
      "    ],\n",
      "    \"FAR\": [\n",
      "      0.19116485118865967,\n",
      "      0.005091569425448225,\n",
      "      0.9971666666666666,\n",
      "      0.9988302139037433\n",
      "    ]\n",
      "  },\n",
      "  \"ShuffleNet_V1_GDConv\": {\n",
      "    \"TAR\": [\n",
      "      0.19073212146759033,\n",
      "      0.3811985883603581,\n",
      "      0.9946666666666667,\n",
      "      0.8368983957219251\n",
      "    ],\n",
      "    \"FAR\": [\n",
      "      0.19073212146759033,\n",
      "      0.009843203235952367,\n",
      "      0.9946666666666667,\n",
      "      0.9964906417112299\n",
      "    ]\n",
      "  },\n",
      "  \"ResNet50-casia\": {\n",
      "    \"TAR\": [\n",
      "      0.1854616403579712,\n",
      "      0.48419529449029386,\n",
      "      0.986,\n",
      "      0.8953877005347594\n",
      "    ],\n",
      "    \"FAR\": [\n",
      "      0.1854616403579712,\n",
      "      0.007304786434764401,\n",
      "      0.986,\n",
      "      0.99298128342246\n",
      "    ]\n",
      "  },\n",
      "  \"IR50-Am\": {\n",
      "    \"TAR\": [\n",
      "      0.45836973190307617,\n",
      "      0.568421676941714,\n",
      "      0.9921666666666666,\n",
      "      0.8058155080213903\n",
      "    ],\n",
      "    \"FAR\": [\n",
      "      0.45836973190307617,\n",
      "      0.31542101858512445,\n",
      "      0.9921666666666666,\n",
      "      0.9914772727272727\n",
      "    ]\n",
      "  },\n",
      "  \"IR50-ArcFace\": {\n",
      "    \"TAR\": [\n",
      "      0.27737492322921753,\n",
      "      0.507394592045731,\n",
      "      0.997,\n",
      "      0.866644385026738\n",
      "    ],\n",
      "    \"FAR\": [\n",
      "      0.27737492322921753,\n",
      "      0.00465346485554405,\n",
      "      0.997,\n",
      "      1.0\n",
      "    ]\n",
      "  },\n",
      "  \"IR50-CosFace\": {\n",
      "    \"TAR\": [\n",
      "      0.22401964664459229,\n",
      "      0.4662112469509752,\n",
      "      0.997,\n",
      "      0.8858622994652406\n",
      "    ],\n",
      "    \"FAR\": [\n",
      "      0.22401964664459229,\n",
      "      0.00674764047048265,\n",
      "      0.997,\n",
      "      0.9984959893048129\n",
      "    ]\n",
      "  },\n",
      "  \"IR50-Softmax\": {\n",
      "    \"TAR\": [\n",
      "      0.34233152866363525,\n",
      "      0.571733372881579,\n",
      "      0.996,\n",
      "      0.8736631016042781\n",
      "    ],\n",
      "    \"FAR\": [\n",
      "      0.34233152866363525,\n",
      "      0.037668156874678,\n",
      "      0.996,\n",
      "      0.9936497326203209\n",
      "    ]\n",
      "  },\n",
      "  \"IR50-SphereFace\": {\n",
      "    \"TAR\": [\n",
      "      0.361619234085083,\n",
      "      0.5901656532417335,\n",
      "      0.9958333333333333,\n",
      "      0.86798128342246\n",
      "    ],\n",
      "    \"FAR\": [\n",
      "      0.361619234085083,\n",
      "      0.019948575605842518,\n",
      "      0.9958333333333333,\n",
      "      0.9959893048128342\n",
      "    ]\n",
      "  },\n",
      "  \"IR50-PGDSoftmax\": {\n",
      "    \"TAR\": [\n",
      "      0.3052944242954254,\n",
      "      0.3497916512222967,\n",
      "      0.913,\n",
      "      0.5546457219251337\n",
      "    ],\n",
      "    \"FAR\": [\n",
      "      0.3052944242954254,\n",
      "      0.08992217022159578,\n",
      "      0.913,\n",
      "      0.9677473262032086\n",
      "    ]\n",
      "  },\n",
      "  \"IR50-TradesSoftmax\": {\n",
      "    \"TAR\": [\n",
      "      0.32782697677612305,\n",
      "      0.3714105181074153,\n",
      "      0.9095,\n",
      "      0.5549799465240641\n",
      "    ],\n",
      "    \"FAR\": [\n",
      "      0.32782697677612305,\n",
      "      0.10796218589713198,\n",
      "      0.9095,\n",
      "      0.9600601604278075\n",
      "    ]\n",
      "  },\n",
      "  \"IR50-PGDArcFace\": {\n",
      "    \"TAR\": [\n",
      "      0.37509775161743164,\n",
      "      0.37725172405701407,\n",
      "      0.8766666666666667,\n",
      "      0.47142379679144386\n",
      "    ],\n",
      "    \"FAR\": [\n",
      "      0.37509775161743164,\n",
      "      0.16054640943262313,\n",
      "      0.8766666666666667,\n",
      "      0.9368315508021391\n",
      "    ]\n",
      "  },\n",
      "  \"IR50-TradesArcFace\": {\n",
      "    \"TAR\": [\n",
      "      0.852626383304596,\n",
      "      0.8920184373357557,\n",
      "      0.9506666666666667,\n",
      "      0.8046457219251337\n",
      "    ],\n",
      "    \"FAR\": [\n",
      "      0.852626383304596,\n",
      "      0.7346919687056446,\n",
      "      0.9506666666666667,\n",
      "      0.9147727272727273\n",
      "    ]\n",
      "  },\n",
      "  \"IR50-PGDCosFace\": {\n",
      "    \"TAR\": [\n",
      "      0.2336357682943344,\n",
      "      0.25406800908928945,\n",
      "      0.8618333333333333,\n",
      "      0.46741310160427807\n",
      "    ],\n",
      "    \"FAR\": [\n",
      "      0.2336357682943344,\n",
      "      0.09349618015341139,\n",
      "      0.8618333333333333,\n",
      "      0.9298128342245989\n",
      "    ]\n",
      "  },\n",
      "  \"IR50-TradesCosFace\": {\n",
      "    \"TAR\": [\n",
      "      0.6367585062980652,\n",
      "      0.6496721002505781,\n",
      "      0.9073333333333333,\n",
      "      0.5934157754010695\n",
      "    ],\n",
      "    \"FAR\": [\n",
      "      0.6367585062980652,\n",
      "      0.41341072068263945,\n",
      "      0.9073333333333333,\n",
      "      0.9234625668449198\n",
      "    ]\n",
      "  },\n",
      "  \"IR50-PGDAm\": {\n",
      "    \"TAR\": [\n",
      "      0.415134072303772,\n",
      "      0.41447156550920505,\n",
      "      0.85,\n",
      "      0.44334893048128343\n",
      "    ],\n",
      "    \"FAR\": [\n",
      "      0.415134072303772,\n",
      "      0.2826892669688671,\n",
      "      0.85,\n",
      "      0.9184491978609626\n",
      "    ]\n",
      "  },\n",
      "  \"IR50-PGDSphereFace\": {\n",
      "    \"TAR\": [\n",
      "      0.5209366679191589,\n",
      "      0.5807124245648813,\n",
      "      0.8881666666666667,\n",
      "      0.6468917112299465\n",
      "    ],\n",
      "    \"FAR\": [\n",
      "      0.5209366679191589,\n",
      "      0.04677446405739489,\n",
      "      0.8881666666666667,\n",
      "      0.9042446524064172\n",
      "    ]\n",
      "  },\n",
      "  \"CASIA-Am\": {\n",
      "    \"TAR\": [\n",
      "      0.4614875912666321,\n",
      "      0.5437571321773458,\n",
      "      0.978,\n",
      "      0.7304478609625669\n",
      "    ],\n",
      "    \"FAR\": [\n",
      "      0.4614875912666321,\n",
      "      0.2892672700799982,\n",
      "      0.978,\n",
      "      0.9941510695187166\n",
      "    ]\n",
      "  },\n",
      "  \"CASIA-ArcFace\": {\n",
      "    \"TAR\": [\n",
      "      0.3242388069629669,\n",
      "      0.5444061704159572,\n",
      "      0.9905,\n",
      "      0.8739973262032086\n",
      "    ],\n",
      "    \"FAR\": [\n",
      "      0.3242388069629669,\n",
      "      0.0016039979858040675,\n",
      "      0.9905,\n",
      "      0.9974933155080213\n",
      "    ]\n",
      "  },\n",
      "  \"CASIA-CosFace\": {\n",
      "    \"TAR\": [\n",
      "      0.23147112131118774,\n",
      "      0.49076058775843945,\n",
      "      0.9911666666666666,\n",
      "      0.915274064171123\n",
      "    ],\n",
      "    \"FAR\": [\n",
      "      0.23147112131118774,\n",
      "      0.004371930175576979,\n",
      "      0.9911666666666666,\n",
      "      0.995153743315508\n",
      "    ]\n",
      "  },\n",
      "  \"CASIA-Softmax\": {\n",
      "    \"TAR\": [\n",
      "      0.3241730332374573,\n",
      "      0.5249332234071677,\n",
      "      0.9883333333333333,\n",
      "      0.8616310160427807\n",
      "    ],\n",
      "    \"FAR\": [\n",
      "      0.3241730332374573,\n",
      "      0.011918015108054085,\n",
      "      0.9883333333333333,\n",
      "      0.9963235294117647\n",
      "    ]\n",
      "  },\n",
      "  \"CASIA-SphereFace\": {\n",
      "    \"TAR\": [\n",
      "      0.4365990459918976,\n",
      "      0.6760648017577058,\n",
      "      0.9765,\n",
      "      0.8917112299465241\n",
      "    ],\n",
      "    \"FAR\": [\n",
      "      0.4365990459918976,\n",
      "      0.0007852673458830667,\n",
      "      0.9765,\n",
      "      0.9878008021390374\n",
      "    ]\n",
      "  },\n",
      "  \"IR50-Softmax-BR\": {\n",
      "    \"TAR\": [\n",
      "      0.33871138095855713,\n",
      "      0.5647623608336114,\n",
      "      0.996,\n",
      "      0.8656417112299465\n",
      "    ],\n",
      "    \"FAR\": [\n",
      "      0.33871138095855713,\n",
      "      0.03659411375301132,\n",
      "      0.996,\n",
      "      0.9931483957219251\n",
      "    ]\n",
      "  },\n",
      "  \"IR50-Softmax-JPEG\": {\n",
      "    \"TAR\": [\n",
      "      0.34150177240371704,\n",
      "      0.5661743399059123,\n",
      "      0.9958333333333333,\n",
      "      0.8626336898395722\n",
      "    ],\n",
      "    \"FAR\": [\n",
      "      0.34150177240371704,\n",
      "      0.0362217599366677,\n",
      "      0.9958333333333333,\n",
      "      0.9946524064171123\n",
      "    ]\n",
      "  },\n",
      "  \"IR50-Softmax-RP\": {\n",
      "    \"TAR\": [\n",
      "      0.35351189970970154,\n",
      "      0.5721938685684609,\n",
      "      0.9941666666666666,\n",
      "      0.8606283422459893\n",
      "    ],\n",
      "    \"FAR\": [\n",
      "      0.35351189970970154,\n",
      "      0.049413580192076506,\n",
      "      0.9941666666666666,\n",
      "      0.9933155080213903\n",
      "    ]\n",
      "  },\n",
      "  \"testir152\": {\n",
      "    \"TAR\": [\n",
      "      0.166788,\n",
      "      0.5094132127328934,\n",
      "      0.990976,\n",
      "      0.9115975935828877\n",
      "    ],\n",
      "    \"FAR\": [\n",
      "      0.166788,\n",
      "      0.0019750212766102486,\n",
      "      0.990976,\n",
      "      0.9888034759358288\n",
      "    ]\n",
      "  },\n",
      "  \"testirse50\": {\n",
      "    \"TAR\": [\n",
      "      0.241045,\n",
      "      0.4716716923246756,\n",
      "      0.99,\n",
      "      0.8753342245989305\n",
      "    ],\n",
      "    \"FAR\": [\n",
      "      0.241045,\n",
      "      0.015058728002385613,\n",
      "      0.99,\n",
      "      0.99298128342246\n",
      "    ]\n",
      "  },\n",
      "  \"testmobileface\": {\n",
      "    \"TAR\": [\n",
      "      0.301611,\n",
      "      0.3978286111885093,\n",
      "      0.996992,\n",
      "      0.7065508021390374\n",
      "    ],\n",
      "    \"FAR\": [\n",
      "      0.301611,\n",
      "      0.02459002282872938,\n",
      "      0.996992,\n",
      "      0.9973262032085561\n",
      "    ]\n",
      "  },\n",
      "  \"testfacenet\": {\n",
      "    \"TAR\": [\n",
      "      0.409131,\n",
      "      0.5783906054898118,\n",
      "      0.987634,\n",
      "      0.8183489304812834\n",
      "    ],\n",
      "    \"FAR\": [\n",
      "      0.409131,\n",
      "      0.015959535572580733,\n",
      "      0.987634,\n",
      "      0.99298128342246\n",
      "    ]\n",
      "  }\n",
      "}\n"
     ]
    },
    {
     "name": "stderr",
     "output_type": "stream",
     "text": [
      "\n"
     ]
    }
   ],
   "execution_count": 3
  },
  {
   "metadata": {},
   "cell_type": "code",
   "outputs": [],
   "execution_count": null,
   "source": "",
   "id": "d47c09ddd0e1e5f5"
  }
 ],
 "metadata": {
  "kernelspec": {
   "display_name": "AdvFaceGAN",
   "language": "python",
   "name": "advfacegan"
  },
  "language_info": {
   "codemirror_mode": {
    "name": "ipython",
    "version": 3
   },
   "file_extension": ".py",
   "mimetype": "text/x-python",
   "name": "python",
   "nbconvert_exporter": "python",
   "pygments_lexer": "ipython3",
   "version": "3.12.4"
  }
 },
 "nbformat": 4,
 "nbformat_minor": 5
}
