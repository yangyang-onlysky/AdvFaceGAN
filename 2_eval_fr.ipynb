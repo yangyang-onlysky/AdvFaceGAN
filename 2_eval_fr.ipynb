{
 "cells": [
  {
   "cell_type": "code",
   "execution_count": 1,
   "id": "222317a60a05fa02",
   "metadata": {
    "ExecuteTime": {
     "end_time": "2024-07-11T10:24:57.192089Z",
     "start_time": "2024-07-11T10:24:57.168361Z"
    }
   },
   "outputs": [
    {
     "name": "stdout",
     "output_type": "stream",
     "text": [
      "---------------------fr模型----------------------\n"
     ]
    }
   ],
   "source": [
    "from fr_models.config import *\n",
    "\n",
    "print(\"---------------------fr模型----------------------\")\n",
    "fr_model_names = list(threshold_lfw.keys())\n",
    "# fr_model_names = ['testirse50', 'testir152', 'testmobileface', 'testfacenet']\n",
    "fr_model_names = ['IR50-PGDSoftmax','IR50-TradesCosFace']"
   ]
  },
  {
   "cell_type": "code",
   "execution_count": 2,
   "id": "a26e0ea17775049b",
   "metadata": {
    "ExecuteTime": {
     "end_time": "2024-07-11T10:25:02.558603Z",
     "start_time": "2024-07-11T10:24:57.195048Z"
    }
   },
   "outputs": [],
   "source": [
    "import torch\n",
    "import torchvision\n",
    "import torch.nn.functional as F\n",
    "from utils.dataset import Dataset\n",
    "from fr_models.get_model import getmodel\n",
    "from tqdm import tqdm\n",
    "\n",
    "def loadDataset(dataset_dir, mean, std, mode, batch_size):\n",
    "    dataset = Dataset(dataset_dir, mode)\n",
    "    transforms = torchvision.transforms.Compose([\n",
    "        torchvision.transforms.ToTensor(),  # 图片转为Tensor [0,1]\n",
    "        torchvision.transforms.Normalize(mean=mean, std=std),  # 归一化\n",
    "    ])\n",
    "    dataset.start_batch_queue(\n",
    "        batch_size=batch_size,\n",
    "        batch_format=\"random_samples\",\n",
    "        transforms=transforms,\n",
    "        num_threads=2,\n",
    "        untarget_same=False\n",
    "    )\n",
    "    return dataset\n",
    "\n",
    "def evalFRModel(model, img_shape, mode, dataset):\n",
    "    epoch_size = 6000 // batch_size\n",
    "    simi_scores = []\n",
    "    for _ in tqdm(range(0, epoch_size), total=epoch_size):\n",
    "        batch = dataset.pop_batch_queue()\n",
    "        with torch.no_grad():\n",
    "            # 获取对应的批次数据\n",
    "            source_faces = batch['sources'].cuda()\n",
    "            target_faces = batch['targets'].cuda()\n",
    "            emb_source_faces = model.forward(F.interpolate((source_faces*0.5+0.5)*255, size=img_shape, mode='bilinear'))\n",
    "            emb_target_faces = model.forward(F.interpolate((target_faces*0.5+0.5)*255, size=img_shape, mode='bilinear'))\n",
    "            batch_scores = torch.cosine_similarity(emb_source_faces, emb_target_faces)\n",
    "            simi_scores.extend(batch_scores.tolist())\n",
    "    th = threshold_lfw[model_name]['cos']\n",
    "    print(\"识别阈值:\", th)\n",
    "    mean_simi = sum(simi_scores)/len(simi_scores)\n",
    "    print(\"平均相似分数:\", mean_simi)\n",
    "    success_rate = sum(score > th if mode==\"untarget\" else score < th for score in simi_scores) / len(simi_scores)\n",
    "    print(model_name, \"benchmark rate:%f\" % threshold_lfw[model_name]['cos_acc'])\n",
    "    print(model_name, \"success rate:%f\" % success_rate)\n",
    "    return th, mean_simi, threshold_lfw[model_name]['cos_acc'], success_rate\n",
    "    "
   ]
  },
  {
   "cell_type": "code",
   "execution_count": 3,
   "id": "3f0c6b9e7a042d8e",
   "metadata": {
    "ExecuteTime": {
     "end_time": "2024-07-11T10:26:29.805245Z",
     "start_time": "2024-07-11T10:25:02.560363Z"
    }
   },
   "outputs": [
    {
     "name": "stdout",
     "output_type": "stream",
     "text": [
      "13233 images of 5749 classes loaded\n",
      "13233 images of 5749 classes loaded\n",
      "使用数据集 D:/datasets/lfw/lfw-aligned-112x112:\n",
      "评估testirse50中:\n",
      "    TAR:\n"
     ]
    },
    {
     "name": "stderr",
     "output_type": "stream",
     "text": [
      "  0%|          | 0/187 [01:00<?, ?it/s]\n"
     ]
    },
    {
     "ename": "Empty",
     "evalue": "",
     "output_type": "error",
     "traceback": [
      "\u001B[1;31m---------------------------------------------------------------------------\u001B[0m",
      "\u001B[1;31mEmpty\u001B[0m                                     Traceback (most recent call last)",
      "Cell \u001B[1;32mIn[3], line 23\u001B[0m\n\u001B[0;32m     21\u001B[0m model, img_shape \u001B[38;5;241m=\u001B[39m getmodel(model_name)\n\u001B[0;32m     22\u001B[0m \u001B[38;5;28mprint\u001B[39m(\u001B[38;5;124m\"\u001B[39m\u001B[38;5;124m    TAR:\u001B[39m\u001B[38;5;124m\"\u001B[39m)\n\u001B[1;32m---> 23\u001B[0m benchmark[model_name][\u001B[38;5;124m'\u001B[39m\u001B[38;5;124mTAR\u001B[39m\u001B[38;5;124m'\u001B[39m]\u001B[38;5;241m=\u001B[39m\u001B[43mevalFRModel\u001B[49m\u001B[43m(\u001B[49m\u001B[43mmodel\u001B[49m\u001B[43m,\u001B[49m\u001B[43m \u001B[49m\u001B[43mimg_shape\u001B[49m\u001B[43m,\u001B[49m\u001B[43m \u001B[49m\u001B[38;5;124;43m\"\u001B[39;49m\u001B[38;5;124;43muntarget\u001B[39;49m\u001B[38;5;124;43m\"\u001B[39;49m\u001B[43m,\u001B[49m\u001B[43m \u001B[49m\u001B[43muntarget_dataset\u001B[49m\u001B[43m)\u001B[49m\n\u001B[0;32m     24\u001B[0m \u001B[38;5;28mprint\u001B[39m(\u001B[38;5;124m\"\u001B[39m\u001B[38;5;124m    FAR:\u001B[39m\u001B[38;5;124m\"\u001B[39m)\n\u001B[0;32m     25\u001B[0m benchmark[model_name][\u001B[38;5;124m'\u001B[39m\u001B[38;5;124mFAR\u001B[39m\u001B[38;5;124m'\u001B[39m]\u001B[38;5;241m=\u001B[39mevalFRModel(model, img_shape, \u001B[38;5;124m\"\u001B[39m\u001B[38;5;124mtarget\u001B[39m\u001B[38;5;124m\"\u001B[39m, target_dataset)\n",
      "Cell \u001B[1;32mIn[2], line 27\u001B[0m, in \u001B[0;36mevalFRModel\u001B[1;34m(model, img_shape, mode, dataset)\u001B[0m\n\u001B[0;32m     25\u001B[0m simi_scores \u001B[38;5;241m=\u001B[39m []\n\u001B[0;32m     26\u001B[0m \u001B[38;5;28;01mfor\u001B[39;00m _ \u001B[38;5;129;01min\u001B[39;00m tqdm(\u001B[38;5;28mrange\u001B[39m(\u001B[38;5;241m0\u001B[39m, epoch_size), total\u001B[38;5;241m=\u001B[39mepoch_size):\n\u001B[1;32m---> 27\u001B[0m     batch \u001B[38;5;241m=\u001B[39m \u001B[43mdataset\u001B[49m\u001B[38;5;241;43m.\u001B[39;49m\u001B[43mpop_batch_queue\u001B[49m\u001B[43m(\u001B[49m\u001B[43m)\u001B[49m\n\u001B[0;32m     28\u001B[0m     \u001B[38;5;28;01mwith\u001B[39;00m torch\u001B[38;5;241m.\u001B[39mno_grad():\n\u001B[0;32m     29\u001B[0m         \u001B[38;5;66;03m# 获取对应的批次数据\u001B[39;00m\n\u001B[0;32m     30\u001B[0m         source_faces \u001B[38;5;241m=\u001B[39m batch[\u001B[38;5;124m'\u001B[39m\u001B[38;5;124msources\u001B[39m\u001B[38;5;124m'\u001B[39m]\u001B[38;5;241m.\u001B[39mcuda()\n",
      "File \u001B[1;32mD:\\yy\\source\\Desktop\\读研是一条艰苦的道路\\1. 论文\\做实验\\myCode\\4 FrAdv\\AdvFaceGAN\\utils\\dataset.py:225\u001B[0m, in \u001B[0;36mDataset.pop_batch_queue\u001B[1;34m(self, timeout)\u001B[0m\n\u001B[0;32m    224\u001B[0m \u001B[38;5;28;01mdef\u001B[39;00m \u001B[38;5;21mpop_batch_queue\u001B[39m(\u001B[38;5;28mself\u001B[39m, timeout\u001B[38;5;241m=\u001B[39m\u001B[38;5;241m60\u001B[39m):\n\u001B[1;32m--> 225\u001B[0m     \u001B[38;5;28;01mreturn\u001B[39;00m \u001B[38;5;28;43mself\u001B[39;49m\u001B[38;5;241;43m.\u001B[39;49m\u001B[43mbatch_queue\u001B[49m\u001B[38;5;241;43m.\u001B[39;49m\u001B[43mget\u001B[49m\u001B[43m(\u001B[49m\u001B[43mblock\u001B[49m\u001B[38;5;241;43m=\u001B[39;49m\u001B[38;5;28;43;01mTrue\u001B[39;49;00m\u001B[43m,\u001B[49m\u001B[43m \u001B[49m\u001B[43mtimeout\u001B[49m\u001B[38;5;241;43m=\u001B[39;49m\u001B[43mtimeout\u001B[49m\u001B[43m)\u001B[49m\n",
      "File \u001B[1;32mD:\\yy\\installed_software\\anaconda3\\envs\\AdvFaceGAN\\lib\\site-packages\\multiprocess\\queues.py:117\u001B[0m, in \u001B[0;36mQueue.get\u001B[1;34m(self, block, timeout)\u001B[0m\n\u001B[0;32m    115\u001B[0m     timeout \u001B[38;5;241m=\u001B[39m deadline \u001B[38;5;241m-\u001B[39m \u001B[38;5;28mgetattr\u001B[39m(time,\u001B[38;5;124m'\u001B[39m\u001B[38;5;124mmonotonic\u001B[39m\u001B[38;5;124m'\u001B[39m,time\u001B[38;5;241m.\u001B[39mtime)()\n\u001B[0;32m    116\u001B[0m     \u001B[38;5;28;01mif\u001B[39;00m \u001B[38;5;129;01mnot\u001B[39;00m \u001B[38;5;28mself\u001B[39m\u001B[38;5;241m.\u001B[39m_poll(timeout):\n\u001B[1;32m--> 117\u001B[0m         \u001B[38;5;28;01mraise\u001B[39;00m Empty\n\u001B[0;32m    118\u001B[0m \u001B[38;5;28;01melif\u001B[39;00m \u001B[38;5;129;01mnot\u001B[39;00m \u001B[38;5;28mself\u001B[39m\u001B[38;5;241m.\u001B[39m_poll():\n\u001B[0;32m    119\u001B[0m     \u001B[38;5;28;01mraise\u001B[39;00m Empty\n",
      "\u001B[1;31mEmpty\u001B[0m: "
     ]
    }
   ],
   "source": [
    "from fr_models.get_model import getmodel\n",
    "\n",
    "batch_size=32\n",
    "dataset_dir=\"D:/datasets/lfw/lfw-aligned-112x112\"\n",
    "untarget_dataset = loadDataset(dataset_dir=dataset_dir,\n",
    "                                   mean=[0.5, 0.5, 0.5],\n",
    "                                   std=[0.5, 0.5, 0.5],\n",
    "                                   mode=\"untarget\",\n",
    "                                   batch_size=batch_size)\n",
    "target_dataset = loadDataset(dataset_dir=dataset_dir,\n",
    "                                   mean=[0.5, 0.5, 0.5],\n",
    "                                   std=[0.5, 0.5, 0.5],\n",
    "                                   mode=\"target\",\n",
    "                                   batch_size=batch_size)\n",
    "benchmark = {}\n",
    "print(\"使用数据集 %s:\" % dataset_dir)\n",
    "for model_name in fr_model_names:\n",
    "    with torch.no_grad():\n",
    "        benchmark[model_name]={}\n",
    "        print(\"评估%s中:\" % (model_name))\n",
    "        model, img_shape = getmodel(model_name)\n",
    "        print(\"    TAR:\")\n",
    "        benchmark[model_name]['TAR']=evalFRModel(model, img_shape, \"untarget\", untarget_dataset)\n",
    "        print(\"    FAR:\")\n",
    "        benchmark[model_name]['FAR']=evalFRModel(model, img_shape, \"target\", target_dataset)\n",
    "import json\n",
    "print(json.dumps(benchmark, indent=2))\n",
    "'''\n",
    "{\n",
    "  \"ShuffleNet_V2_GDConv-stride1\": {\n",
    "    \"TAR\": [\n",
    "      0.22403636574745178,\n",
    "      0.5545654333306148,\n",
    "      0.9915,\n",
    "      0.9856283422459893\n",
    "    ],\n",
    "    \"FAR\": [\n",
    "      0.22403636574745178,\n",
    "      0.035012854338475105,\n",
    "      0.9915,\n",
    "      0.9956550802139037\n",
    "    ]\n",
    "  },\n",
    "  \"Mobilenet\": {\n",
    "    \"TAR\": [\n",
    "      0.15846577286720276,\n",
    "      0.5271046995350289,\n",
    "      0.9935,\n",
    "      0.9883021390374331\n",
    "    ],\n",
    "    \"FAR\": [\n",
    "      0.15846577286720276,\n",
    "      0.00574880088655369,\n",
    "      0.9935,\n",
    "      0.9953208556149733\n",
    "    ]\n",
    "  },\n",
    "  \"MobilenetV2-stride1\": {\n",
    "    \"TAR\": [\n",
    "      0.24340271949768066,\n",
    "      0.5736437767481352,\n",
    "      0.9905,\n",
    "      0.9879679144385026\n",
    "    ],\n",
    "    \"FAR\": [\n",
    "      0.24340271949768066,\n",
    "      0.029356853724751473,\n",
    "      0.9905,\n",
    "      0.9939839572192514\n",
    "    ]\n",
    "  },\n",
    "  \"CosFace\": {\n",
    "    \"TAR\": [\n",
    "      0.24625787138938904,\n",
    "      0.5870342402420764,\n",
    "      0.9868333333333333,\n",
    "      0.982620320855615\n",
    "    ],\n",
    "    \"FAR\": [\n",
    "      0.24625787138938904,\n",
    "      0.0388618732872528,\n",
    "      0.9868333333333333,\n",
    "      0.982620320855615\n",
    "    ]\n",
    "  },\n",
    "  \"FaceNet-VGGFace2\": {\n",
    "    \"TAR\": [\n",
    "      0.42074376344680786,\n",
    "      0.7559484232822185,\n",
    "      0.9923333333333333,\n",
    "      0.9893048128342246\n",
    "    ],\n",
    "    \"FAR\": [\n",
    "      0.42074376344680786,\n",
    "      0.035508966864877936,\n",
    "      0.9923333333333333,\n",
    "      0.9895719251336899\n",
    "    ]\n",
    "  },\n",
    "  \"Mobilenet-stride1\": {\n",
    "    \"TAR\": [\n",
    "      0.19342336058616638,\n",
    "      0.5710021915610874,\n",
    "      0.9956666666666667,\n",
    "      0.9919786096256684\n",
    "    ],\n",
    "    \"FAR\": [\n",
    "      0.19342336058616638,\n",
    "      0.008473093308955692,\n",
    "      0.9956666666666667,\n",
    "      0.9971590909090909\n",
    "    ]\n",
    "  },\n",
    "  \"SphereFace\": {\n",
    "    \"TAR\": [\n",
    "      0.34931832551956177,\n",
    "      0.6346463531873283,\n",
    "      0.9818333333333333,\n",
    "      0.9751002673796791\n",
    "    ],\n",
    "    \"FAR\": [\n",
    "      0.34931832551956177,\n",
    "      0.09115480367472628,\n",
    "      0.9818333333333333,\n",
    "      0.9807820855614974\n",
    "    ]\n",
    "  },\n",
    "  \"MobileFace\": {\n",
    "    \"TAR\": [\n",
    "      0.21116749942302704,\n",
    "      0.5738695791809207,\n",
    "      0.9945,\n",
    "      0.9914772727272727\n",
    "    ],\n",
    "    \"FAR\": [\n",
    "      0.21116749942302704,\n",
    "      0.009152118811879698,\n",
    "      0.9945,\n",
    "      0.9963235294117647\n",
    "    ]\n",
    "  },\n",
    "  \"FaceNet-casia\": {\n",
    "    \"TAR\": [\n",
    "      0.4289606213569641,\n",
    "      0.7107233562417089,\n",
    "      0.981,\n",
    "      0.972927807486631\n",
    "    ],\n",
    "    \"FAR\": [\n",
    "      0.4289606213569641,\n",
    "      0.1309350894319026,\n",
    "      0.981,\n",
    "      0.9794451871657754\n",
    "    ]\n",
    "  },\n",
    "  \"MobilenetV2\": {\n",
    "    \"TAR\": [\n",
    "      0.22666725516319275,\n",
    "      0.5640347774564176,\n",
    "      0.9933333333333333,\n",
    "      0.9841243315508021\n",
    "    ],\n",
    "    \"FAR\": [\n",
    "      0.22666725516319275,\n",
    "      0.007508023444035235,\n",
    "      0.9933333333333333,\n",
    "      0.9953208556149733\n",
    "    ]\n",
    "  },\n",
    "  \"ArcFace\": {\n",
    "    \"TAR\": [\n",
    "      0.28402677178382874,\n",
    "      0.633667108417927,\n",
    "      0.995,\n",
    "      0.9891377005347594\n",
    "    ],\n",
    "    \"FAR\": [\n",
    "      0.28402677178382874,\n",
    "      0.0140841106766988,\n",
    "      0.995,\n",
    "      0.9978275401069518\n",
    "    ]\n",
    "  },\n",
    "  \"ResNet50\": {\n",
    "    \"TAR\": [\n",
    "      0.19116485118865967,\n",
    "      0.6031841859433122,\n",
    "      0.9971666666666666,\n",
    "      0.9938168449197861\n",
    "    ],\n",
    "    \"FAR\": [\n",
    "      0.19116485118865967,\n",
    "      0.003980067884020338,\n",
    "      0.9971666666666666,\n",
    "      0.9981617647058824\n",
    "    ]\n",
    "  },\n",
    "  \"ShuffleNet_V1_GDConv\": {\n",
    "    \"TAR\": [\n",
    "      0.19073212146759033,\n",
    "      0.5581226770873157,\n",
    "      0.9946666666666667,\n",
    "      0.9904745989304813\n",
    "    ],\n",
    "    \"FAR\": [\n",
    "      0.19073212146759033,\n",
    "      0.011514300876538291,\n",
    "      0.9946666666666667,\n",
    "      0.9953208556149733\n",
    "    ]\n",
    "  },\n",
    "  \"ResNet50-casia\": {\n",
    "    \"TAR\": [\n",
    "      0.1854616403579712,\n",
    "      0.5236097511327713,\n",
    "      0.986,\n",
    "      0.9829545454545454\n",
    "    ],\n",
    "    \"FAR\": [\n",
    "      0.1854616403579712,\n",
    "      0.020249963900857832,\n",
    "      0.986,\n",
    "      0.9762700534759359\n",
    "    ]\n",
    "  },\n",
    "  \"IR50-Am\": {\n",
    "    \"TAR\": [\n",
    "      0.45836973190307617,\n",
    "      0.686318062992896,\n",
    "      0.9921666666666666,\n",
    "      0.9899732620320856\n",
    "    ],\n",
    "    \"FAR\": [\n",
    "      0.45836973190307617,\n",
    "      0.3194407504861228,\n",
    "      0.9921666666666666,\n",
    "      0.9913101604278075\n",
    "    ]\n",
    "  },\n",
    "  \"IR50-ArcFace\": {\n",
    "    \"TAR\": [\n",
    "      0.27737492322921753,\n",
    "      0.678309206876351,\n",
    "      0.997,\n",
    "      0.9936497326203209\n",
    "    ],\n",
    "    \"FAR\": [\n",
    "      0.27737492322921753,\n",
    "      0.00801246330797402,\n",
    "      0.997,\n",
    "      0.9991644385026738\n",
    "    ]\n",
    "  },\n",
    "  \"IR50-CosFace\": {\n",
    "    \"TAR\": [\n",
    "      0.22401964664459229,\n",
    "      0.6294404039885301,\n",
    "      0.997,\n",
    "      0.9938168449197861\n",
    "    ],\n",
    "    \"FAR\": [\n",
    "      0.22401964664459229,\n",
    "      0.00664144790894632,\n",
    "      0.997,\n",
    "      0.9986631016042781\n",
    "    ]\n",
    "  },\n",
    "  \"IR50-Softmax\": {\n",
    "    \"TAR\": [\n",
    "      0.34233152866363525,\n",
    "      0.7387041095213125,\n",
    "      0.996,\n",
    "      0.9936497326203209\n",
    "    ],\n",
    "    \"FAR\": [\n",
    "      0.34233152866363525,\n",
    "      0.03411596298114587,\n",
    "      0.996,\n",
    "      0.9954879679144385\n",
    "    ]\n",
    "  },\n",
    "  \"IR50-SphereFace\": {\n",
    "    \"TAR\": [\n",
    "      0.361619234085083,\n",
    "      0.7571889617241282,\n",
    "      0.9958333333333333,\n",
    "      0.9941510695187166\n",
    "    ],\n",
    "    \"FAR\": [\n",
    "      0.361619234085083,\n",
    "      0.012270002187963359,\n",
    "      0.9958333333333333,\n",
    "      0.9956550802139037\n",
    "    ]\n",
    "  },\n",
    "  \"IR50-PGDSoftmax\": {\n",
    "    \"TAR\": [\n",
    "      0.3052944242954254,\n",
    "      0.5224100640166568,\n",
    "      0.913,\n",
    "      0.8913770053475936\n",
    "    ],\n",
    "    \"FAR\": [\n",
    "      0.3052944242954254,\n",
    "      0.13586034558705343,\n",
    "      0.913,\n",
    "      0.9286430481283422\n",
    "    ]\n",
    "  },\n",
    "  \"IR50-TradesSoftmax\": {\n",
    "    \"TAR\": [\n",
    "      0.32782697677612305,\n",
    "      0.5474989166592851,\n",
    "      0.9095,\n",
    "      0.8920454545454546\n",
    "    ],\n",
    "    \"FAR\": [\n",
    "      0.32782697677612305,\n",
    "      0.15139548837701866,\n",
    "      0.9095,\n",
    "      0.9266377005347594\n",
    "    ]\n",
    "  },\n",
    "  \"IR50-PGDArcFace\": {\n",
    "    \"TAR\": [\n",
    "      0.37509775161743164,\n",
    "      0.5403258596960315,\n",
    "      0.8766666666666667,\n",
    "      0.8288770053475936\n",
    "    ],\n",
    "    \"FAR\": [\n",
    "      0.37509775161743164,\n",
    "      0.21964961855802567,\n",
    "      0.8766666666666667,\n",
    "      0.8997326203208557\n",
    "    ]\n",
    "  },\n",
    "  \"IR50-TradesArcFace\": {\n",
    "    \"TAR\": [\n",
    "      0.852626383304596,\n",
    "      0.9300553913422447,\n",
    "      0.9506666666666667,\n",
    "      0.9667446524064172\n",
    "    ],\n",
    "    \"FAR\": [\n",
    "      0.852626383304596,\n",
    "      0.7430060774107827,\n",
    "      0.9506666666666667,\n",
    "      0.9314839572192514\n",
    "    ]\n",
    "  },\n",
    "  \"IR50-PGDCosFace\": {\n",
    "    \"TAR\": [\n",
    "      0.2336357682943344,\n",
    "      0.39558989097838,\n",
    "      0.8618333333333333,\n",
    "      0.8295454545454546\n",
    "    ],\n",
    "    \"FAR\": [\n",
    "      0.2336357682943344,\n",
    "      0.13054349993801934,\n",
    "      0.8618333333333333,\n",
    "      0.8751671122994652\n",
    "    ]\n",
    "  },\n",
    "  \"IR50-TradesCosFace\": {\n",
    "    \"TAR\": [\n",
    "      0.6367585062980652,\n",
    "      0.7639066341487482,\n",
    "      0.9073333333333333,\n",
    "      0.8846925133689839\n",
    "    ],\n",
    "    \"FAR\": [\n",
    "      0.6367585062980652,\n",
    "      0.4596707873428639,\n",
    "      0.9073333333333333,\n",
    "      0.9296457219251337\n",
    "    ]\n",
    "  },\n",
    "  \"IR50-PGDAm\": {\n",
    "    \"TAR\": [\n",
    "      0.415134072303772,\n",
    "      0.5527289948540735,\n",
    "      0.85,\n",
    "      0.8136697860962567\n",
    "    ],\n",
    "    \"FAR\": [\n",
    "      0.415134072303772,\n",
    "      0.32055265119767445,\n",
    "      0.85,\n",
    "      0.8713235294117647\n",
    "    ]\n",
    "  },\n",
    "  \"IR50-PGDSphereFace\": {\n",
    "    \"TAR\": [\n",
    "      0.5209366679191589,\n",
    "      0.7586736102698354,\n",
    "      0.8881666666666667,\n",
    "      0.893048128342246\n",
    "    ],\n",
    "    \"FAR\": [\n",
    "      0.5209366679191589,\n",
    "      0.14576010059845138,\n",
    "      0.8881666666666667,\n",
    "      0.8688168449197861\n",
    "    ]\n",
    "  },\n",
    "  \"CASIA-Am\": {\n",
    "    \"TAR\": [\n",
    "      0.4614875912666321,\n",
    "      0.6570319125757498,\n",
    "      0.978,\n",
    "      0.9632352941176471\n",
    "    ],\n",
    "    \"FAR\": [\n",
    "      0.4614875912666321,\n",
    "      0.31093917002174304,\n",
    "      0.978,\n",
    "      0.9837901069518716\n",
    "    ]\n",
    "  },\n",
    "  \"CASIA-ArcFace\": {\n",
    "    \"TAR\": [\n",
    "      0.3242388069629669,\n",
    "      0.6606621580138643,\n",
    "      0.9905,\n",
    "      0.984792780748663\n",
    "    ],\n",
    "    \"FAR\": [\n",
    "      0.3242388069629669,\n",
    "      0.032969968659348196,\n",
    "      0.9905,\n",
    "      0.9899732620320856\n",
    "    ]\n",
    "  },\n",
    "  \"CASIA-CosFace\": {\n",
    "    \"TAR\": [\n",
    "      0.23147112131118774,\n",
    "      0.57475772034657,\n",
    "      0.9911666666666666,\n",
    "      0.9914772727272727\n",
    "    ],\n",
    "    \"FAR\": [\n",
    "      0.23147112131118774,\n",
    "      0.019781857927782427,\n",
    "      0.9911666666666666,\n",
    "      0.9899732620320856\n",
    "    ]\n",
    "  },\n",
    "  \"CASIA-Softmax\": {\n",
    "    \"TAR\": [\n",
    "      0.3241730332374573,\n",
    "      0.6462740708742649,\n",
    "      0.9883333333333333,\n",
    "      0.9857954545454546\n",
    "    ],\n",
    "    \"FAR\": [\n",
    "      0.3241730332374573,\n",
    "      0.04384005715596467,\n",
    "      0.9883333333333333,\n",
    "      0.986129679144385\n",
    "    ]\n",
    "  },\n",
    "  \"CASIA-SphereFace\": {\n",
    "    \"TAR\": [\n",
    "      0.4365990459918976,\n",
    "      0.7471717953221887,\n",
    "      0.9765,\n",
    "      0.9727606951871658\n",
    "    ],\n",
    "    \"FAR\": [\n",
    "      0.4365990459918976,\n",
    "      0.05307389100470996,\n",
    "      0.9765,\n",
    "      0.9717580213903744\n",
    "    ]\n",
    "  },\n",
    "  \"IR50-Softmax-BR\": {\n",
    "    \"TAR\": [\n",
    "      0.33871138095855713,\n",
    "      0.7380299227073152,\n",
    "      0.996,\n",
    "      0.9943181818181818\n",
    "    ],\n",
    "    \"FAR\": [\n",
    "      0.33871138095855713,\n",
    "      0.03434138125578131,\n",
    "      0.996,\n",
    "      0.9944852941176471\n",
    "    ]\n",
    "  },\n",
    "  \"IR50-Softmax-JPEG\": {\n",
    "    \"TAR\": [\n",
    "      0.34150177240371704,\n",
    "      0.7373340896350695,\n",
    "      0.9958333333333333,\n",
    "      0.99298128342246\n",
    "    ],\n",
    "    \"FAR\": [\n",
    "      0.34150177240371704,\n",
    "      0.0344092214981889,\n",
    "      0.9958333333333333,\n",
    "      0.9956550802139037\n",
    "    ]\n",
    "  },\n",
    "  \"IR50-Softmax-RP\": {\n",
    "    \"TAR\": [\n",
    "      0.35351189970970154,\n",
    "      0.7394883740994641,\n",
    "      0.9941666666666666,\n",
    "      0.9934826203208557\n",
    "    ],\n",
    "    \"FAR\": [\n",
    "      0.35351189970970154,\n",
    "      0.04619174555339664,\n",
    "      0.9941666666666666,\n",
    "      0.995153743315508\n",
    "    ]\n",
    "  }\n",
    "}\n",
    "'''"
   ]
  },
  {
   "cell_type": "code",
   "execution_count": 3,
   "id": "2e4aa36c39a4f82b",
   "metadata": {},
   "outputs": [
    {
     "name": "stdout",
     "output_type": "stream",
     "text": [
      "455594 images of 10575 classes loaded\n",
      "455594 images of 10575 classes loaded\n",
      "使用数据集 /home/com/yy/datasets/CASIA-WebFace/casia-aligned-112x112/:\n",
      "评估ShuffleNet_V2_GDConv-stride1中:\n",
      "Load existing checkpoint\n",
      "    TAR:\n"
     ]
    },
    {
     "name": "stderr",
     "output_type": "stream",
     "text": [
      "100%|██████████| 187/187 [00:48<00:00,  3.85it/s]\n"
     ]
    },
    {
     "name": "stdout",
     "output_type": "stream",
     "text": [
      "识别阈值: 0.22403636574745178\n",
      "平均相似分数: 0.38950889972352953\n",
      "ShuffleNet_V2_GDConv-stride1 benchmark rate:0.991500\n",
      "ShuffleNet_V2_GDConv-stride1 success rate:0.807988\n",
      "    FAR:\n"
     ]
    },
    {
     "name": "stderr",
     "output_type": "stream",
     "text": [
      "100%|██████████| 187/187 [01:47<00:00,  1.74it/s]\n"
     ]
    },
    {
     "name": "stdout",
     "output_type": "stream",
     "text": [
      "识别阈值: 0.22403636574745178\n",
      "平均相似分数: 0.03514139656262923\n",
      "ShuffleNet_V2_GDConv-stride1 benchmark rate:0.991500\n",
      "ShuffleNet_V2_GDConv-stride1 success rate:0.992981\n",
      "评估Mobilenet中:\n",
      "Load existing checkpoint\n",
      "    TAR:\n"
     ]
    },
    {
     "name": "stderr",
     "output_type": "stream",
     "text": [
      "100%|██████████| 187/187 [00:06<00:00, 30.62it/s]\n"
     ]
    },
    {
     "name": "stdout",
     "output_type": "stream",
     "text": [
      "识别阈值: 0.15846577286720276\n",
      "平均相似分数: 0.33970919899009966\n",
      "Mobilenet benchmark rate:0.993500\n",
      "Mobilenet success rate:0.815341\n",
      "    FAR:\n"
     ]
    },
    {
     "name": "stderr",
     "output_type": "stream",
     "text": [
      "100%|██████████| 187/187 [00:22<00:00,  8.25it/s]\n"
     ]
    },
    {
     "name": "stdout",
     "output_type": "stream",
     "text": [
      "识别阈值: 0.15846577286720276\n",
      "平均相似分数: 0.007424565412303032\n",
      "Mobilenet benchmark rate:0.993500\n",
      "Mobilenet success rate:0.994485\n",
      "评估MobilenetV2-stride1中:\n",
      "Load existing checkpoint\n",
      "    TAR:\n"
     ]
    },
    {
     "name": "stderr",
     "output_type": "stream",
     "text": [
      "100%|██████████| 187/187 [00:14<00:00, 12.71it/s]\n"
     ]
    },
    {
     "name": "stdout",
     "output_type": "stream",
     "text": [
      "识别阈值: 0.24340271949768066\n",
      "平均相似分数: 0.4057902479143521\n",
      "MobilenetV2-stride1 benchmark rate:0.990500\n",
      "MobilenetV2-stride1 success rate:0.797293\n",
      "    FAR:\n"
     ]
    },
    {
     "name": "stderr",
     "output_type": "stream",
     "text": [
      "100%|██████████| 187/187 [00:14<00:00, 12.69it/s]\n"
     ]
    },
    {
     "name": "stdout",
     "output_type": "stream",
     "text": [
      "识别阈值: 0.24340271949768066\n",
      "平均相似分数: 0.03793284978065764\n",
      "MobilenetV2-stride1 benchmark rate:0.990500\n",
      "MobilenetV2-stride1 success rate:0.991477\n",
      "评估CosFace中:\n",
      "Load existing checkpoint\n",
      "    TAR:\n"
     ]
    },
    {
     "name": "stderr",
     "output_type": "stream",
     "text": [
      "100%|██████████| 187/187 [00:08<00:00, 22.15it/s]\n"
     ]
    },
    {
     "name": "stdout",
     "output_type": "stream",
     "text": [
      "识别阈值: 0.24625787138938904\n",
      "平均相似分数: 0.4757590359064407\n",
      "CosFace benchmark rate:0.986833\n",
      "CosFace success rate:0.849265\n",
      "    FAR:\n"
     ]
    },
    {
     "name": "stderr",
     "output_type": "stream",
     "text": [
      "100%|██████████| 187/187 [00:08<00:00, 22.61it/s]\n"
     ]
    },
    {
     "name": "stdout",
     "output_type": "stream",
     "text": [
      "识别阈值: 0.24625787138938904\n",
      "平均相似分数: 0.02677795590409034\n",
      "CosFace benchmark rate:0.986833\n",
      "CosFace success rate:0.991644\n",
      "评估FaceNet-VGGFace2中:\n",
      "Load existing checkpoint\n",
      "    TAR:\n"
     ]
    },
    {
     "name": "stderr",
     "output_type": "stream",
     "text": [
      "  0%|          | 0/187 [00:00<?, ?it/s]/home/com/anaconda3/envs/SE-AdvFaces/lib/python3.12/site-packages/torch/nn/modules/conv.py:456: UserWarning: Plan failed with a cudnnException: CUDNN_BACKEND_EXECUTION_PLAN_DESCRIPTOR: cudnnFinalize Descriptor Failed cudnn_status: CUDNN_STATUS_NOT_SUPPORTED (Triggered internally at /opt/conda/conda-bld/pytorch_1712608847532/work/aten/src/ATen/native/cudnn/Conv_v8.cpp:919.)\n",
      "  return F.conv2d(input, weight, bias, self.stride,\n",
      "100%|██████████| 187/187 [00:15<00:00, 11.82it/s]\n"
     ]
    },
    {
     "name": "stdout",
     "output_type": "stream",
     "text": [
      "识别阈值: 0.42074376344680786\n",
      "平均相似分数: 0.5777556795582056\n",
      "FaceNet-VGGFace2 benchmark rate:0.992333\n",
      "FaceNet-VGGFace2 success rate:0.805147\n",
      "    FAR:\n"
     ]
    },
    {
     "name": "stderr",
     "output_type": "stream",
     "text": [
      "100%|██████████| 187/187 [00:15<00:00, 11.94it/s]\n"
     ]
    },
    {
     "name": "stdout",
     "output_type": "stream",
     "text": [
      "识别阈值: 0.42074376344680786\n",
      "平均相似分数: 0.015297117367778085\n",
      "FaceNet-VGGFace2 benchmark rate:0.992333\n",
      "FaceNet-VGGFace2 success rate:0.994820\n",
      "评估Mobilenet-stride1中:\n",
      "Load existing checkpoint\n",
      "    TAR:\n"
     ]
    },
    {
     "name": "stderr",
     "output_type": "stream",
     "text": [
      "100%|██████████| 187/187 [00:12<00:00, 15.23it/s]\n"
     ]
    },
    {
     "name": "stdout",
     "output_type": "stream",
     "text": [
      "识别阈值: 0.19342336058616638\n",
      "平均相似分数: 0.40369698638633394\n",
      "Mobilenet-stride1 benchmark rate:0.995667\n",
      "Mobilenet-stride1 success rate:0.855949\n",
      "    FAR:\n"
     ]
    },
    {
     "name": "stderr",
     "output_type": "stream",
     "text": [
      "100%|██████████| 187/187 [00:12<00:00, 15.32it/s]\n"
     ]
    },
    {
     "name": "stdout",
     "output_type": "stream",
     "text": [
      "识别阈值: 0.19342336058616638\n",
      "平均相似分数: 0.010004957837765765\n",
      "Mobilenet-stride1 benchmark rate:0.995667\n",
      "Mobilenet-stride1 success rate:0.997326\n",
      "评估SphereFace中:\n",
      "Load existing checkpoint\n",
      "    TAR:\n"
     ]
    },
    {
     "name": "stderr",
     "output_type": "stream",
     "text": [
      "100%|██████████| 187/187 [00:08<00:00, 21.56it/s]\n"
     ]
    },
    {
     "name": "stdout",
     "output_type": "stream",
     "text": [
      "识别阈值: 0.34931832551956177\n",
      "平均相似分数: 0.4916775505866838\n",
      "SphereFace benchmark rate:0.981833\n",
      "SphereFace success rate:0.779913\n",
      "    FAR:\n"
     ]
    },
    {
     "name": "stderr",
     "output_type": "stream",
     "text": [
      "100%|██████████| 187/187 [00:08<00:00, 21.60it/s]\n"
     ]
    },
    {
     "name": "stdout",
     "output_type": "stream",
     "text": [
      "识别阈值: 0.34931832551956177\n",
      "平均相似分数: 0.05791943540088808\n",
      "SphereFace benchmark rate:0.981833\n",
      "SphereFace success rate:0.992313\n",
      "评估MobileFace中:\n",
      "Load existing checkpoint\n",
      "    TAR:\n"
     ]
    },
    {
     "name": "stderr",
     "output_type": "stream",
     "text": [
      "100%|██████████| 187/187 [00:07<00:00, 23.65it/s]\n"
     ]
    },
    {
     "name": "stdout",
     "output_type": "stream",
     "text": [
      "识别阈值: 0.21116749942302704\n",
      "平均相似分数: 0.40472915966241474\n",
      "MobileFace benchmark rate:0.994500\n",
      "MobileFace success rate:0.846090\n",
      "    FAR:\n"
     ]
    },
    {
     "name": "stderr",
     "output_type": "stream",
     "text": [
      "100%|██████████| 187/187 [00:07<00:00, 23.72it/s]\n"
     ]
    },
    {
     "name": "stdout",
     "output_type": "stream",
     "text": [
      "识别阈值: 0.21116749942302704\n",
      "平均相似分数: 0.011561774252750475\n",
      "MobileFace benchmark rate:0.994500\n",
      "MobileFace success rate:0.996156\n",
      "评估FaceNet-casia中:\n",
      "Load existing checkpoint\n",
      "    TAR:\n"
     ]
    },
    {
     "name": "stderr",
     "output_type": "stream",
     "text": [
      "100%|██████████| 187/187 [00:15<00:00, 12.08it/s]\n"
     ]
    },
    {
     "name": "stdout",
     "output_type": "stream",
     "text": [
      "识别阈值: 0.4289606213569641\n",
      "平均相似分数: 0.5683028281381214\n",
      "FaceNet-casia benchmark rate:0.981000\n",
      "FaceNet-casia success rate:0.782921\n",
      "    FAR:\n"
     ]
    },
    {
     "name": "stderr",
     "output_type": "stream",
     "text": [
      "100%|██████████| 187/187 [00:15<00:00, 12.10it/s]\n"
     ]
    },
    {
     "name": "stdout",
     "output_type": "stream",
     "text": [
      "识别阈值: 0.4289606213569641\n",
      "平均相似分数: 0.0940956809953444\n",
      "FaceNet-casia benchmark rate:0.981000\n",
      "FaceNet-casia success rate:0.990642\n",
      "评估MobilenetV2中:\n",
      "Load existing checkpoint\n",
      "    TAR:\n"
     ]
    },
    {
     "name": "stderr",
     "output_type": "stream",
     "text": [
      "100%|██████████| 187/187 [00:06<00:00, 30.10it/s]\n"
     ]
    },
    {
     "name": "stdout",
     "output_type": "stream",
     "text": [
      "识别阈值: 0.22666725516319275\n",
      "平均相似分数: 0.3839497219179421\n",
      "MobilenetV2 benchmark rate:0.993333\n",
      "MobilenetV2 success rate:0.787600\n",
      "    FAR:\n"
     ]
    },
    {
     "name": "stderr",
     "output_type": "stream",
     "text": [
      "100%|██████████| 187/187 [00:21<00:00,  8.58it/s]\n"
     ]
    },
    {
     "name": "stdout",
     "output_type": "stream",
     "text": [
      "识别阈值: 0.22666725516319275\n",
      "平均相似分数: 0.011135533766651072\n",
      "MobilenetV2 benchmark rate:0.993333\n",
      "MobilenetV2 success rate:0.996491\n",
      "评估ArcFace中:\n",
      "Load existing checkpoint\n",
      "    TAR:\n"
     ]
    },
    {
     "name": "stderr",
     "output_type": "stream",
     "text": [
      "100%|██████████| 187/187 [00:31<00:00,  6.01it/s]\n"
     ]
    },
    {
     "name": "stdout",
     "output_type": "stream",
     "text": [
      "识别阈值: 0.28402677178382874\n",
      "平均相似分数: 0.46903507017901225\n",
      "ArcFace benchmark rate:0.995000\n",
      "ArcFace success rate:0.838904\n",
      "    FAR:\n"
     ]
    },
    {
     "name": "stderr",
     "output_type": "stream",
     "text": [
      "100%|██████████| 187/187 [00:31<00:00,  6.01it/s]\n"
     ]
    },
    {
     "name": "stdout",
     "output_type": "stream",
     "text": [
      "识别阈值: 0.28402677178382874\n",
      "平均相似分数: 0.015232160427107384\n",
      "ArcFace benchmark rate:0.995000\n",
      "ArcFace success rate:0.998496\n",
      "评估ResNet50中:\n",
      "Load existing checkpoint\n",
      "    TAR:\n"
     ]
    },
    {
     "name": "stderr",
     "output_type": "stream",
     "text": [
      "100%|██████████| 187/187 [00:12<00:00, 15.25it/s]\n"
     ]
    },
    {
     "name": "stdout",
     "output_type": "stream",
     "text": [
      "识别阈值: 0.19116485118865967\n",
      "平均相似分数: 0.4209562875198158\n",
      "ResNet50 benchmark rate:0.997167\n",
      "ResNet50 success rate:0.863302\n",
      "    FAR:\n"
     ]
    },
    {
     "name": "stderr",
     "output_type": "stream",
     "text": [
      "100%|██████████| 187/187 [00:12<00:00, 15.38it/s]\n"
     ]
    },
    {
     "name": "stdout",
     "output_type": "stream",
     "text": [
      "识别阈值: 0.19116485118865967\n",
      "平均相似分数: 0.004434230873452432\n",
      "ResNet50 benchmark rate:0.997167\n",
      "ResNet50 success rate:0.997660\n",
      "评估ShuffleNet_V1_GDConv中:\n",
      "Load existing checkpoint\n",
      "    TAR:\n"
     ]
    },
    {
     "name": "stderr",
     "output_type": "stream",
     "text": [
      "100%|██████████| 187/187 [00:10<00:00, 17.00it/s]\n"
     ]
    },
    {
     "name": "stdout",
     "output_type": "stream",
     "text": [
      "识别阈值: 0.19073212146759033\n",
      "平均相似分数: 0.3839922117439465\n",
      "ShuffleNet_V1_GDConv benchmark rate:0.994667\n",
      "ShuffleNet_V1_GDConv success rate:0.840575\n",
      "    FAR:\n"
     ]
    },
    {
     "name": "stderr",
     "output_type": "stream",
     "text": [
      "100%|██████████| 187/187 [00:10<00:00, 17.10it/s]\n"
     ]
    },
    {
     "name": "stdout",
     "output_type": "stream",
     "text": [
      "识别阈值: 0.19073212146759033\n",
      "平均相似分数: 0.01115297027235573\n",
      "ShuffleNet_V1_GDConv benchmark rate:0.994667\n",
      "ShuffleNet_V1_GDConv success rate:0.994151\n",
      "评估ResNet50-casia中:\n",
      "Load existing checkpoint\n",
      "    TAR:\n"
     ]
    },
    {
     "name": "stderr",
     "output_type": "stream",
     "text": [
      "100%|██████████| 187/187 [00:53<00:00,  3.48it/s]\n"
     ]
    },
    {
     "name": "stdout",
     "output_type": "stream",
     "text": [
      "识别阈值: 0.1854616403579712\n",
      "平均相似分数: 0.4882652428374924\n",
      "ResNet50-casia benchmark rate:0.986000\n",
      "ResNet50-casia success rate:0.900234\n",
      "    FAR:\n"
     ]
    },
    {
     "name": "stderr",
     "output_type": "stream",
     "text": [
      "100%|██████████| 187/187 [01:57<00:00,  1.59it/s]\n"
     ]
    },
    {
     "name": "stdout",
     "output_type": "stream",
     "text": [
      "识别阈值: 0.1854616403579712\n",
      "平均相似分数: 0.00643784274680342\n",
      "ResNet50-casia benchmark rate:0.986000\n",
      "ResNet50-casia success rate:0.992981\n",
      "评估IR50-Am中:\n",
      "Load existing checkpoint\n",
      "    TAR:\n"
     ]
    },
    {
     "name": "stderr",
     "output_type": "stream",
     "text": [
      "100%|██████████| 187/187 [00:27<00:00,  6.73it/s]\n"
     ]
    },
    {
     "name": "stdout",
     "output_type": "stream",
     "text": [
      "识别阈值: 0.45836973190307617\n",
      "平均相似分数: 0.5704550902847261\n",
      "IR50-Am benchmark rate:0.992167\n",
      "IR50-Am success rate:0.818850\n",
      "    FAR:\n"
     ]
    },
    {
     "name": "stderr",
     "output_type": "stream",
     "text": [
      "100%|██████████| 187/187 [00:30<00:00,  6.14it/s]\n"
     ]
    },
    {
     "name": "stdout",
     "output_type": "stream",
     "text": [
      "识别阈值: 0.45836973190307617\n",
      "平均相似分数: 0.31482831996063737\n",
      "IR50-Am benchmark rate:0.992167\n",
      "IR50-Am success rate:0.989973\n",
      "评估IR50-ArcFace中:\n",
      "Load existing checkpoint\n",
      "    TAR:\n"
     ]
    },
    {
     "name": "stderr",
     "output_type": "stream",
     "text": [
      "100%|██████████| 187/187 [00:30<00:00,  6.14it/s]\n"
     ]
    },
    {
     "name": "stdout",
     "output_type": "stream",
     "text": [
      "识别阈值: 0.27737492322921753\n",
      "平均相似分数: 0.5110677213923673\n",
      "IR50-ArcFace benchmark rate:0.997000\n",
      "IR50-ArcFace success rate:0.870488\n",
      "    FAR:\n"
     ]
    },
    {
     "name": "stderr",
     "output_type": "stream",
     "text": [
      "100%|██████████| 187/187 [00:30<00:00,  6.18it/s]\n"
     ]
    },
    {
     "name": "stdout",
     "output_type": "stream",
     "text": [
      "识别阈值: 0.27737492322921753\n",
      "平均相似分数: 0.003643383801055488\n",
      "IR50-ArcFace benchmark rate:0.997000\n",
      "IR50-ArcFace success rate:0.997995\n",
      "评估IR50-CosFace中:\n",
      "Load existing checkpoint\n",
      "    TAR:\n"
     ]
    },
    {
     "name": "stderr",
     "output_type": "stream",
     "text": [
      "100%|██████████| 187/187 [00:29<00:00,  6.27it/s]\n"
     ]
    },
    {
     "name": "stdout",
     "output_type": "stream",
     "text": [
      "识别阈值: 0.22401964664459229\n",
      "平均相似分数: 0.46094690714084996\n",
      "IR50-CosFace benchmark rate:0.997000\n",
      "IR50-CosFace success rate:0.880849\n",
      "    FAR:\n"
     ]
    },
    {
     "name": "stderr",
     "output_type": "stream",
     "text": [
      "100%|██████████| 187/187 [00:29<00:00,  6.31it/s]\n"
     ]
    },
    {
     "name": "stdout",
     "output_type": "stream",
     "text": [
      "识别阈值: 0.22401964664459229\n",
      "平均相似分数: 0.005503477108086469\n",
      "IR50-CosFace benchmark rate:0.997000\n",
      "IR50-CosFace success rate:0.998329\n",
      "评估IR50-Softmax中:\n",
      "Load existing checkpoint\n",
      "    TAR:\n"
     ]
    },
    {
     "name": "stderr",
     "output_type": "stream",
     "text": [
      "100%|██████████| 187/187 [00:29<00:00,  6.31it/s]\n"
     ]
    },
    {
     "name": "stdout",
     "output_type": "stream",
     "text": [
      "识别阈值: 0.34233152866363525\n",
      "平均相似分数: 0.5712125343809098\n",
      "IR50-Softmax benchmark rate:0.996000\n",
      "IR50-Softmax success rate:0.864806\n",
      "    FAR:\n"
     ]
    },
    {
     "name": "stderr",
     "output_type": "stream",
     "text": [
      "100%|██████████| 187/187 [00:29<00:00,  6.41it/s]\n"
     ]
    },
    {
     "name": "stdout",
     "output_type": "stream",
     "text": [
      "识别阈值: 0.34233152866363525\n",
      "平均相似分数: 0.0364527001526091\n",
      "IR50-Softmax benchmark rate:0.996000\n",
      "IR50-Softmax success rate:0.993483\n",
      "评估IR50-SphereFace中:\n",
      "Load existing checkpoint\n",
      "    TAR:\n"
     ]
    },
    {
     "name": "stderr",
     "output_type": "stream",
     "text": [
      "100%|██████████| 187/187 [00:29<00:00,  6.43it/s]\n"
     ]
    },
    {
     "name": "stdout",
     "output_type": "stream",
     "text": [
      "识别阈值: 0.361619234085083\n",
      "平均相似分数: 0.5931625330537734\n",
      "IR50-SphereFace benchmark rate:0.995833\n",
      "IR50-SphereFace success rate:0.872493\n",
      "    FAR:\n"
     ]
    },
    {
     "name": "stderr",
     "output_type": "stream",
     "text": [
      "100%|██████████| 187/187 [00:28<00:00,  6.46it/s]\n"
     ]
    },
    {
     "name": "stdout",
     "output_type": "stream",
     "text": [
      "识别阈值: 0.361619234085083\n",
      "平均相似分数: 0.021256128760826037\n",
      "IR50-SphereFace benchmark rate:0.995833\n",
      "IR50-SphereFace success rate:0.992981\n",
      "评估IR50-PGDSoftmax中:\n",
      "Load existing checkpoint\n",
      "    TAR:\n"
     ]
    },
    {
     "name": "stderr",
     "output_type": "stream",
     "text": [
      "100%|██████████| 187/187 [00:28<00:00,  6.49it/s]\n"
     ]
    },
    {
     "name": "stdout",
     "output_type": "stream",
     "text": [
      "识别阈值: 0.3052944242954254\n",
      "平均相似分数: 0.3509319506831969\n",
      "IR50-PGDSoftmax benchmark rate:0.913000\n",
      "IR50-PGDSoftmax success rate:0.559993\n",
      "    FAR:\n"
     ]
    },
    {
     "name": "stderr",
     "output_type": "stream",
     "text": [
      "100%|██████████| 187/187 [00:28<00:00,  6.47it/s]\n"
     ]
    },
    {
     "name": "stdout",
     "output_type": "stream",
     "text": [
      "识别阈值: 0.3052944242954254\n",
      "平均相似分数: 0.09187880892187193\n",
      "IR50-PGDSoftmax benchmark rate:0.913000\n",
      "IR50-PGDSoftmax success rate:0.968082\n",
      "评估IR50-TradesSoftmax中:\n",
      "Load existing checkpoint\n",
      "    TAR:\n"
     ]
    },
    {
     "name": "stderr",
     "output_type": "stream",
     "text": [
      "100%|██████████| 187/187 [00:28<00:00,  6.47it/s]\n"
     ]
    },
    {
     "name": "stdout",
     "output_type": "stream",
     "text": [
      "识别阈值: 0.32782697677612305\n",
      "平均相似分数: 0.3710630280098767\n",
      "IR50-TradesSoftmax benchmark rate:0.909500\n",
      "IR50-TradesSoftmax success rate:0.553476\n",
      "    FAR:\n"
     ]
    },
    {
     "name": "stderr",
     "output_type": "stream",
     "text": [
      "100%|██████████| 187/187 [01:19<00:00,  2.35it/s]\n"
     ]
    },
    {
     "name": "stdout",
     "output_type": "stream",
     "text": [
      "识别阈值: 0.32782697677612305\n",
      "平均相似分数: 0.10951530974440651\n",
      "IR50-TradesSoftmax benchmark rate:0.909500\n",
      "IR50-TradesSoftmax success rate:0.960896\n",
      "评估IR50-PGDArcFace中:\n",
      "Load existing checkpoint\n",
      "    TAR:\n"
     ]
    },
    {
     "name": "stderr",
     "output_type": "stream",
     "text": [
      "100%|██████████| 187/187 [01:11<00:00,  2.62it/s]\n"
     ]
    },
    {
     "name": "stdout",
     "output_type": "stream",
     "text": [
      "识别阈值: 0.37509775161743164\n",
      "平均相似分数: 0.370836918276749\n",
      "IR50-PGDArcFace benchmark rate:0.876667\n",
      "IR50-PGDArcFace success rate:0.461731\n",
      "    FAR:\n"
     ]
    },
    {
     "name": "stderr",
     "output_type": "stream",
     "text": [
      "100%|██████████| 187/187 [00:29<00:00,  6.27it/s]\n"
     ]
    },
    {
     "name": "stdout",
     "output_type": "stream",
     "text": [
      "识别阈值: 0.37509775161743164\n",
      "平均相似分数: 0.16079737244880937\n",
      "IR50-PGDArcFace benchmark rate:0.876667\n",
      "IR50-PGDArcFace success rate:0.933656\n",
      "评估IR50-TradesArcFace中:\n",
      "Load existing checkpoint\n",
      "    TAR:\n"
     ]
    },
    {
     "name": "stderr",
     "output_type": "stream",
     "text": [
      "100%|██████████| 187/187 [00:30<00:00,  6.20it/s]\n"
     ]
    },
    {
     "name": "stdout",
     "output_type": "stream",
     "text": [
      "识别阈值: 0.852626383304596\n",
      "平均相似分数: 0.8921198422975719\n",
      "IR50-TradesArcFace benchmark rate:0.950667\n",
      "IR50-TradesArcFace success rate:0.803810\n",
      "    FAR:\n"
     ]
    },
    {
     "name": "stderr",
     "output_type": "stream",
     "text": [
      "100%|██████████| 187/187 [00:30<00:00,  6.23it/s]\n"
     ]
    },
    {
     "name": "stdout",
     "output_type": "stream",
     "text": [
      "识别阈值: 0.852626383304596\n",
      "平均相似分数: 0.7322988682501217\n",
      "IR50-TradesArcFace benchmark rate:0.950667\n",
      "IR50-TradesArcFace success rate:0.914606\n",
      "评估IR50-PGDCosFace中:\n",
      "Load existing checkpoint\n",
      "    TAR:\n"
     ]
    },
    {
     "name": "stderr",
     "output_type": "stream",
     "text": [
      "100%|██████████| 187/187 [00:29<00:00,  6.28it/s]\n"
     ]
    },
    {
     "name": "stdout",
     "output_type": "stream",
     "text": [
      "识别阈值: 0.2336357682943344\n",
      "平均相似分数: 0.25343716062993227\n",
      "IR50-PGDCosFace benchmark rate:0.861833\n",
      "IR50-PGDCosFace success rate:0.468583\n",
      "    FAR:\n"
     ]
    },
    {
     "name": "stderr",
     "output_type": "stream",
     "text": [
      "100%|██████████| 187/187 [00:29<00:00,  6.33it/s]\n"
     ]
    },
    {
     "name": "stdout",
     "output_type": "stream",
     "text": [
      "识别阈值: 0.2336357682943344\n",
      "平均相似分数: 0.09355347970528448\n",
      "IR50-PGDCosFace benchmark rate:0.861833\n",
      "IR50-PGDCosFace success rate:0.930481\n",
      "评估IR50-TradesCosFace中:\n",
      "Load existing checkpoint\n",
      "    TAR:\n"
     ]
    },
    {
     "name": "stderr",
     "output_type": "stream",
     "text": [
      "100%|██████████| 187/187 [00:29<00:00,  6.36it/s]\n"
     ]
    },
    {
     "name": "stdout",
     "output_type": "stream",
     "text": [
      "识别阈值: 0.6367585062980652\n",
      "平均相似分数: 0.6468343956285171\n",
      "IR50-TradesCosFace benchmark rate:0.907333\n",
      "IR50-TradesCosFace success rate:0.584225\n",
      "    FAR:\n"
     ]
    },
    {
     "name": "stderr",
     "output_type": "stream",
     "text": [
      "100%|██████████| 187/187 [00:29<00:00,  6.40it/s]\n"
     ]
    },
    {
     "name": "stdout",
     "output_type": "stream",
     "text": [
      "识别阈值: 0.6367585062980652\n",
      "平均相似分数: 0.41287724130977144\n",
      "IR50-TradesCosFace benchmark rate:0.907333\n",
      "IR50-TradesCosFace success rate:0.926805\n",
      "评估IR50-PGDAm中:\n",
      "Load existing checkpoint\n",
      "    TAR:\n"
     ]
    },
    {
     "name": "stderr",
     "output_type": "stream",
     "text": [
      "100%|██████████| 187/187 [00:29<00:00,  6.44it/s]\n"
     ]
    },
    {
     "name": "stdout",
     "output_type": "stream",
     "text": [
      "识别阈值: 0.415134072303772\n",
      "平均相似分数: 0.4146073014116821\n",
      "IR50-PGDAm benchmark rate:0.850000\n",
      "IR50-PGDAm success rate:0.440508\n",
      "    FAR:\n"
     ]
    },
    {
     "name": "stderr",
     "output_type": "stream",
     "text": [
      "100%|██████████| 187/187 [00:28<00:00,  6.46it/s]\n"
     ]
    },
    {
     "name": "stdout",
     "output_type": "stream",
     "text": [
      "识别阈值: 0.415134072303772\n",
      "平均相似分数: 0.2796455072562763\n",
      "IR50-PGDAm benchmark rate:0.850000\n",
      "IR50-PGDAm success rate:0.925468\n",
      "评估IR50-PGDSphereFace中:\n",
      "Load existing checkpoint\n",
      "    TAR:\n"
     ]
    },
    {
     "name": "stderr",
     "output_type": "stream",
     "text": [
      "100%|██████████| 187/187 [00:28<00:00,  6.50it/s]\n"
     ]
    },
    {
     "name": "stdout",
     "output_type": "stream",
     "text": [
      "识别阈值: 0.5209366679191589\n",
      "平均相似分数: 0.5811544464018481\n",
      "IR50-PGDSphereFace benchmark rate:0.888167\n",
      "IR50-PGDSphereFace success rate:0.647560\n",
      "    FAR:\n"
     ]
    },
    {
     "name": "stderr",
     "output_type": "stream",
     "text": [
      "100%|██████████| 187/187 [00:28<00:00,  6.48it/s]\n"
     ]
    },
    {
     "name": "stdout",
     "output_type": "stream",
     "text": [
      "识别阈值: 0.5209366679191589\n",
      "平均相似分数: 0.04542567590362066\n",
      "IR50-PGDSphereFace benchmark rate:0.888167\n",
      "IR50-PGDSphereFace success rate:0.905582\n",
      "评估CASIA-Am中:\n",
      "Load existing checkpoint\n",
      "    TAR:\n"
     ]
    },
    {
     "name": "stderr",
     "output_type": "stream",
     "text": [
      "100%|██████████| 187/187 [00:28<00:00,  6.47it/s]\n"
     ]
    },
    {
     "name": "stdout",
     "output_type": "stream",
     "text": [
      "识别阈值: 0.4614875912666321\n",
      "平均相似分数: 0.5446289519749502\n",
      "CASIA-Am benchmark rate:0.978000\n",
      "CASIA-Am success rate:0.736965\n",
      "    FAR:\n"
     ]
    },
    {
     "name": "stderr",
     "output_type": "stream",
     "text": [
      "100%|██████████| 187/187 [00:27<00:00,  6.72it/s]\n"
     ]
    },
    {
     "name": "stdout",
     "output_type": "stream",
     "text": [
      "识别阈值: 0.4614875912666321\n",
      "平均相似分数: 0.2900612007877615\n",
      "CASIA-Am benchmark rate:0.978000\n",
      "CASIA-Am success rate:0.993316\n",
      "评估CASIA-ArcFace中:\n",
      "Load existing checkpoint\n",
      "    TAR:\n"
     ]
    },
    {
     "name": "stderr",
     "output_type": "stream",
     "text": [
      "100%|██████████| 187/187 [01:44<00:00,  1.78it/s]\n"
     ]
    },
    {
     "name": "stdout",
     "output_type": "stream",
     "text": [
      "识别阈值: 0.3242388069629669\n",
      "平均相似分数: 0.5455540836874936\n",
      "CASIA-ArcFace benchmark rate:0.990500\n",
      "CASIA-ArcFace success rate:0.881183\n",
      "    FAR:\n"
     ]
    },
    {
     "name": "stderr",
     "output_type": "stream",
     "text": [
      "100%|██████████| 187/187 [00:28<00:00,  6.50it/s]\n"
     ]
    },
    {
     "name": "stdout",
     "output_type": "stream",
     "text": [
      "识别阈值: 0.3242388069629669\n",
      "平均相似分数: 0.004610521347708016\n",
      "CASIA-ArcFace benchmark rate:0.990500\n",
      "CASIA-ArcFace success rate:0.995822\n",
      "评估CASIA-CosFace中:\n",
      "Load existing checkpoint\n",
      "    TAR:\n"
     ]
    },
    {
     "name": "stderr",
     "output_type": "stream",
     "text": [
      "100%|██████████| 187/187 [00:30<00:00,  6.15it/s]\n"
     ]
    },
    {
     "name": "stdout",
     "output_type": "stream",
     "text": [
      "识别阈值: 0.23147112131118774\n",
      "平均相似分数: 0.4875467206836419\n",
      "CASIA-CosFace benchmark rate:0.991167\n",
      "CASIA-CosFace success rate:0.912600\n",
      "    FAR:\n"
     ]
    },
    {
     "name": "stderr",
     "output_type": "stream",
     "text": [
      "100%|██████████| 187/187 [00:30<00:00,  6.20it/s]\n"
     ]
    },
    {
     "name": "stdout",
     "output_type": "stream",
     "text": [
      "识别阈值: 0.23147112131118774\n",
      "平均相似分数: 0.0042326239056814895\n",
      "CASIA-CosFace benchmark rate:0.991167\n",
      "CASIA-CosFace success rate:0.996825\n",
      "评估CASIA-Softmax中:\n",
      "Load existing checkpoint\n",
      "    TAR:\n"
     ]
    },
    {
     "name": "stderr",
     "output_type": "stream",
     "text": [
      "100%|██████████| 187/187 [00:29<00:00,  6.25it/s]\n"
     ]
    },
    {
     "name": "stdout",
     "output_type": "stream",
     "text": [
      "识别阈值: 0.3241730332374573\n",
      "平均相似分数: 0.5245274235506108\n",
      "CASIA-Softmax benchmark rate:0.988333\n",
      "CASIA-Softmax success rate:0.871658\n",
      "    FAR:\n"
     ]
    },
    {
     "name": "stderr",
     "output_type": "stream",
     "text": [
      "100%|██████████| 187/187 [00:29<00:00,  6.29it/s]\n"
     ]
    },
    {
     "name": "stdout",
     "output_type": "stream",
     "text": [
      "识别阈值: 0.3241730332374573\n",
      "平均相似分数: 0.014037041079987869\n",
      "CASIA-Softmax benchmark rate:0.988333\n",
      "CASIA-Softmax success rate:0.993817\n",
      "评估CASIA-SphereFace中:\n",
      "Load existing checkpoint\n",
      "    TAR:\n"
     ]
    },
    {
     "name": "stderr",
     "output_type": "stream",
     "text": [
      "100%|██████████| 187/187 [00:29<00:00,  6.32it/s]\n"
     ]
    },
    {
     "name": "stdout",
     "output_type": "stream",
     "text": [
      "识别阈值: 0.4365990459918976\n",
      "平均相似分数: 0.6730080748601465\n",
      "CASIA-SphereFace benchmark rate:0.976500\n",
      "CASIA-SphereFace success rate:0.880515\n",
      "    FAR:\n"
     ]
    },
    {
     "name": "stderr",
     "output_type": "stream",
     "text": [
      "100%|██████████| 187/187 [00:29<00:00,  6.37it/s]\n"
     ]
    },
    {
     "name": "stdout",
     "output_type": "stream",
     "text": [
      "识别阈值: 0.4365990459918976\n",
      "平均相似分数: 0.0007960228080177097\n",
      "CASIA-SphereFace benchmark rate:0.976500\n",
      "CASIA-SphereFace success rate:0.988636\n",
      "评估IR50-Softmax-BR中:\n",
      "Load existing checkpoint\n",
      "    TAR:\n"
     ]
    },
    {
     "name": "stderr",
     "output_type": "stream",
     "text": [
      "100%|██████████| 187/187 [00:29<00:00,  6.37it/s]\n"
     ]
    },
    {
     "name": "stdout",
     "output_type": "stream",
     "text": [
      "识别阈值: 0.33871138095855713\n",
      "平均相似分数: 0.564035907398628\n",
      "IR50-Softmax-BR benchmark rate:0.996000\n",
      "IR50-Softmax-BR success rate:0.862801\n",
      "    FAR:\n"
     ]
    },
    {
     "name": "stderr",
     "output_type": "stream",
     "text": [
      "100%|██████████| 187/187 [00:29<00:00,  6.41it/s]\n"
     ]
    },
    {
     "name": "stdout",
     "output_type": "stream",
     "text": [
      "识别阈值: 0.33871138095855713\n",
      "平均相似分数: 0.03576667112213333\n",
      "IR50-Softmax-BR benchmark rate:0.996000\n",
      "IR50-Softmax-BR success rate:0.995655\n",
      "评估IR50-Softmax-JPEG中:\n",
      "Load existing checkpoint\n",
      "    TAR:\n"
     ]
    },
    {
     "name": "stderr",
     "output_type": "stream",
     "text": [
      "100%|██████████| 187/187 [00:30<00:00,  6.15it/s]\n"
     ]
    },
    {
     "name": "stdout",
     "output_type": "stream",
     "text": [
      "识别阈值: 0.34150177240371704\n",
      "平均相似分数: 0.5678213814094962\n",
      "IR50-Softmax-JPEG benchmark rate:0.995833\n",
      "IR50-Softmax-JPEG success rate:0.862467\n",
      "    FAR:\n"
     ]
    },
    {
     "name": "stderr",
     "output_type": "stream",
     "text": [
      "100%|██████████| 187/187 [00:30<00:00,  6.17it/s]\n"
     ]
    },
    {
     "name": "stdout",
     "output_type": "stream",
     "text": [
      "识别阈值: 0.34150177240371704\n",
      "平均相似分数: 0.0390969421559687\n",
      "IR50-Softmax-JPEG benchmark rate:0.995833\n",
      "IR50-Softmax-JPEG success rate:0.994151\n",
      "评估IR50-Softmax-RP中:\n",
      "Load existing checkpoint\n",
      "    TAR:\n"
     ]
    },
    {
     "name": "stderr",
     "output_type": "stream",
     "text": [
      "100%|██████████| 187/187 [03:45<00:00,  1.21s/it]\n"
     ]
    },
    {
     "name": "stdout",
     "output_type": "stream",
     "text": [
      "识别阈值: 0.35351189970970154\n",
      "平均相似分数: 0.5682759490413504\n",
      "IR50-Softmax-RP benchmark rate:0.994167\n",
      "IR50-Softmax-RP success rate:0.857119\n",
      "    FAR:\n"
     ]
    },
    {
     "name": "stderr",
     "output_type": "stream",
     "text": [
      "100%|██████████| 187/187 [03:50<00:00,  1.23s/it]"
     ]
    },
    {
     "name": "stdout",
     "output_type": "stream",
     "text": [
      "识别阈值: 0.35351189970970154\n",
      "平均相似分数: 0.05020130523418999\n",
      "IR50-Softmax-RP benchmark rate:0.994167\n",
      "IR50-Softmax-RP success rate:0.993650\n",
      "{\n",
      "  \"ShuffleNet_V2_GDConv-stride1\": {\n",
      "    \"TAR\": [\n",
      "      0.22403636574745178,\n",
      "      0.38950889972352953,\n",
      "      0.9915,\n",
      "      0.8079879679144385\n",
      "    ],\n",
      "    \"FAR\": [\n",
      "      0.22403636574745178,\n",
      "      0.03514139656262923,\n",
      "      0.9915,\n",
      "      0.99298128342246\n",
      "    ]\n",
      "  },\n",
      "  \"Mobilenet\": {\n",
      "    \"TAR\": [\n",
      "      0.15846577286720276,\n",
      "      0.33970919899009966,\n",
      "      0.9935,\n",
      "      0.8153409090909091\n",
      "    ],\n",
      "    \"FAR\": [\n",
      "      0.15846577286720276,\n",
      "      0.007424565412303032,\n",
      "      0.9935,\n",
      "      0.9944852941176471\n",
      "    ]\n",
      "  },\n",
      "  \"MobilenetV2-stride1\": {\n",
      "    \"TAR\": [\n",
      "      0.24340271949768066,\n",
      "      0.4057902479143521,\n",
      "      0.9905,\n",
      "      0.797292780748663\n",
      "    ],\n",
      "    \"FAR\": [\n",
      "      0.24340271949768066,\n",
      "      0.03793284978065764,\n",
      "      0.9905,\n",
      "      0.9914772727272727\n",
      "    ]\n",
      "  },\n",
      "  \"CosFace\": {\n",
      "    \"TAR\": [\n",
      "      0.24625787138938904,\n",
      "      0.4757590359064407,\n",
      "      0.9868333333333333,\n",
      "      0.8492647058823529\n",
      "    ],\n",
      "    \"FAR\": [\n",
      "      0.24625787138938904,\n",
      "      0.02677795590409034,\n",
      "      0.9868333333333333,\n",
      "      0.991644385026738\n",
      "    ]\n",
      "  },\n",
      "  \"FaceNet-VGGFace2\": {\n",
      "    \"TAR\": [\n",
      "      0.42074376344680786,\n",
      "      0.5777556795582056,\n",
      "      0.9923333333333333,\n",
      "      0.8051470588235294\n",
      "    ],\n",
      "    \"FAR\": [\n",
      "      0.42074376344680786,\n",
      "      0.015297117367778085,\n",
      "      0.9923333333333333,\n",
      "      0.9948195187165776\n",
      "    ]\n",
      "  },\n",
      "  \"Mobilenet-stride1\": {\n",
      "    \"TAR\": [\n",
      "      0.19342336058616638,\n",
      "      0.40369698638633394,\n",
      "      0.9956666666666667,\n",
      "      0.8559491978609626\n",
      "    ],\n",
      "    \"FAR\": [\n",
      "      0.19342336058616638,\n",
      "      0.010004957837765765,\n",
      "      0.9956666666666667,\n",
      "      0.9973262032085561\n",
      "    ]\n",
      "  },\n",
      "  \"SphereFace\": {\n",
      "    \"TAR\": [\n",
      "      0.34931832551956177,\n",
      "      0.4916775505866838,\n",
      "      0.9818333333333333,\n",
      "      0.7799131016042781\n",
      "    ],\n",
      "    \"FAR\": [\n",
      "      0.34931832551956177,\n",
      "      0.05791943540088808,\n",
      "      0.9818333333333333,\n",
      "      0.9923128342245989\n",
      "    ]\n",
      "  },\n",
      "  \"MobileFace\": {\n",
      "    \"TAR\": [\n",
      "      0.21116749942302704,\n",
      "      0.40472915966241474,\n",
      "      0.9945,\n",
      "      0.8460895721925134\n",
      "    ],\n",
      "    \"FAR\": [\n",
      "      0.21116749942302704,\n",
      "      0.011561774252750475,\n",
      "      0.9945,\n",
      "      0.9961564171122995\n",
      "    ]\n",
      "  },\n",
      "  \"FaceNet-casia\": {\n",
      "    \"TAR\": [\n",
      "      0.4289606213569641,\n",
      "      0.5683028281381214,\n",
      "      0.981,\n",
      "      0.7829211229946524\n",
      "    ],\n",
      "    \"FAR\": [\n",
      "      0.4289606213569641,\n",
      "      0.0940956809953444,\n",
      "      0.981,\n",
      "      0.9906417112299465\n",
      "    ]\n",
      "  },\n",
      "  \"MobilenetV2\": {\n",
      "    \"TAR\": [\n",
      "      0.22666725516319275,\n",
      "      0.3839497219179421,\n",
      "      0.9933333333333333,\n",
      "      0.7876002673796791\n",
      "    ],\n",
      "    \"FAR\": [\n",
      "      0.22666725516319275,\n",
      "      0.011135533766651072,\n",
      "      0.9933333333333333,\n",
      "      0.9964906417112299\n",
      "    ]\n",
      "  },\n",
      "  \"ArcFace\": {\n",
      "    \"TAR\": [\n",
      "      0.28402677178382874,\n",
      "      0.46903507017901225,\n",
      "      0.995,\n",
      "      0.838903743315508\n",
      "    ],\n",
      "    \"FAR\": [\n",
      "      0.28402677178382874,\n",
      "      0.015232160427107384,\n",
      "      0.995,\n",
      "      0.9984959893048129\n",
      "    ]\n",
      "  },\n",
      "  \"ResNet50\": {\n",
      "    \"TAR\": [\n",
      "      0.19116485118865967,\n",
      "      0.4209562875198158,\n",
      "      0.9971666666666666,\n",
      "      0.8633021390374331\n",
      "    ],\n",
      "    \"FAR\": [\n",
      "      0.19116485118865967,\n",
      "      0.004434230873452432,\n",
      "      0.9971666666666666,\n",
      "      0.9976604278074866\n",
      "    ]\n",
      "  },\n",
      "  \"ShuffleNet_V1_GDConv\": {\n",
      "    \"TAR\": [\n",
      "      0.19073212146759033,\n",
      "      0.3839922117439465,\n",
      "      0.9946666666666667,\n",
      "      0.8405748663101604\n",
      "    ],\n",
      "    \"FAR\": [\n",
      "      0.19073212146759033,\n",
      "      0.01115297027235573,\n",
      "      0.9946666666666667,\n",
      "      0.9941510695187166\n",
      "    ]\n",
      "  },\n",
      "  \"ResNet50-casia\": {\n",
      "    \"TAR\": [\n",
      "      0.1854616403579712,\n",
      "      0.4882652428374924,\n",
      "      0.986,\n",
      "      0.9002339572192514\n",
      "    ],\n",
      "    \"FAR\": [\n",
      "      0.1854616403579712,\n",
      "      0.00643784274680342,\n",
      "      0.986,\n",
      "      0.99298128342246\n",
      "    ]\n",
      "  },\n",
      "  \"IR50-Am\": {\n",
      "    \"TAR\": [\n",
      "      0.45836973190307617,\n",
      "      0.5704550902847261,\n",
      "      0.9921666666666666,\n",
      "      0.8188502673796791\n",
      "    ],\n",
      "    \"FAR\": [\n",
      "      0.45836973190307617,\n",
      "      0.31482831996063737,\n",
      "      0.9921666666666666,\n",
      "      0.9899732620320856\n",
      "    ]\n",
      "  },\n",
      "  \"IR50-ArcFace\": {\n",
      "    \"TAR\": [\n",
      "      0.27737492322921753,\n",
      "      0.5110677213923673,\n",
      "      0.997,\n",
      "      0.8704879679144385\n",
      "    ],\n",
      "    \"FAR\": [\n",
      "      0.27737492322921753,\n",
      "      0.003643383801055488,\n",
      "      0.997,\n",
      "      0.9979946524064172\n",
      "    ]\n",
      "  },\n",
      "  \"IR50-CosFace\": {\n",
      "    \"TAR\": [\n",
      "      0.22401964664459229,\n",
      "      0.46094690714084996,\n",
      "      0.997,\n",
      "      0.8808489304812834\n",
      "    ],\n",
      "    \"FAR\": [\n",
      "      0.22401964664459229,\n",
      "      0.005503477108086469,\n",
      "      0.997,\n",
      "      0.9983288770053476\n",
      "    ]\n",
      "  },\n",
      "  \"IR50-Softmax\": {\n",
      "    \"TAR\": [\n",
      "      0.34233152866363525,\n",
      "      0.5712125343809098,\n",
      "      0.996,\n",
      "      0.8648061497326203\n",
      "    ],\n",
      "    \"FAR\": [\n",
      "      0.34233152866363525,\n",
      "      0.0364527001526091,\n",
      "      0.996,\n",
      "      0.9934826203208557\n",
      "    ]\n",
      "  },\n",
      "  \"IR50-SphereFace\": {\n",
      "    \"TAR\": [\n",
      "      0.361619234085083,\n",
      "      0.5931625330537734,\n",
      "      0.9958333333333333,\n",
      "      0.8724933155080213\n",
      "    ],\n",
      "    \"FAR\": [\n",
      "      0.361619234085083,\n",
      "      0.021256128760826037,\n",
      "      0.9958333333333333,\n",
      "      0.99298128342246\n",
      "    ]\n",
      "  },\n",
      "  \"IR50-PGDSoftmax\": {\n",
      "    \"TAR\": [\n",
      "      0.3052944242954254,\n",
      "      0.3509319506831969,\n",
      "      0.913,\n",
      "      0.5599933155080213\n",
      "    ],\n",
      "    \"FAR\": [\n",
      "      0.3052944242954254,\n",
      "      0.09187880892187193,\n",
      "      0.913,\n",
      "      0.9680815508021391\n",
      "    ]\n",
      "  },\n",
      "  \"IR50-TradesSoftmax\": {\n",
      "    \"TAR\": [\n",
      "      0.32782697677612305,\n",
      "      0.3710630280098767,\n",
      "      0.9095,\n",
      "      0.553475935828877\n",
      "    ],\n",
      "    \"FAR\": [\n",
      "      0.32782697677612305,\n",
      "      0.10951530974440651,\n",
      "      0.9095,\n",
      "      0.9608957219251337\n",
      "    ]\n",
      "  },\n",
      "  \"IR50-PGDArcFace\": {\n",
      "    \"TAR\": [\n",
      "      0.37509775161743164,\n",
      "      0.370836918276749,\n",
      "      0.8766666666666667,\n",
      "      0.4617312834224599\n",
      "    ],\n",
      "    \"FAR\": [\n",
      "      0.37509775161743164,\n",
      "      0.16079737244880937,\n",
      "      0.8766666666666667,\n",
      "      0.9336564171122995\n",
      "    ]\n",
      "  },\n",
      "  \"IR50-TradesArcFace\": {\n",
      "    \"TAR\": [\n",
      "      0.852626383304596,\n",
      "      0.8921198422975719,\n",
      "      0.9506666666666667,\n",
      "      0.8038101604278075\n",
      "    ],\n",
      "    \"FAR\": [\n",
      "      0.852626383304596,\n",
      "      0.7322988682501217,\n",
      "      0.9506666666666667,\n",
      "      0.914605614973262\n",
      "    ]\n",
      "  },\n",
      "  \"IR50-PGDCosFace\": {\n",
      "    \"TAR\": [\n",
      "      0.2336357682943344,\n",
      "      0.25343716062993227,\n",
      "      0.8618333333333333,\n",
      "      0.46858288770053474\n",
      "    ],\n",
      "    \"FAR\": [\n",
      "      0.2336357682943344,\n",
      "      0.09355347970528448,\n",
      "      0.8618333333333333,\n",
      "      0.93048128342246\n",
      "    ]\n",
      "  },\n",
      "  \"IR50-TradesCosFace\": {\n",
      "    \"TAR\": [\n",
      "      0.6367585062980652,\n",
      "      0.6468343956285171,\n",
      "      0.9073333333333333,\n",
      "      0.5842245989304813\n",
      "    ],\n",
      "    \"FAR\": [\n",
      "      0.6367585062980652,\n",
      "      0.41287724130977144,\n",
      "      0.9073333333333333,\n",
      "      0.9268048128342246\n",
      "    ]\n",
      "  },\n",
      "  \"IR50-PGDAm\": {\n",
      "    \"TAR\": [\n",
      "      0.415134072303772,\n",
      "      0.4146073014116821,\n",
      "      0.85,\n",
      "      0.4405080213903743\n",
      "    ],\n",
      "    \"FAR\": [\n",
      "      0.415134072303772,\n",
      "      0.2796455072562763,\n",
      "      0.85,\n",
      "      0.9254679144385026\n",
      "    ]\n",
      "  },\n",
      "  \"IR50-PGDSphereFace\": {\n",
      "    \"TAR\": [\n",
      "      0.5209366679191589,\n",
      "      0.5811544464018481,\n",
      "      0.8881666666666667,\n",
      "      0.6475601604278075\n",
      "    ],\n",
      "    \"FAR\": [\n",
      "      0.5209366679191589,\n",
      "      0.04542567590362066,\n",
      "      0.8881666666666667,\n",
      "      0.9055815508021391\n",
      "    ]\n",
      "  },\n",
      "  \"CASIA-Am\": {\n",
      "    \"TAR\": [\n",
      "      0.4614875912666321,\n",
      "      0.5446289519749502,\n",
      "      0.978,\n",
      "      0.7369652406417112\n",
      "    ],\n",
      "    \"FAR\": [\n",
      "      0.4614875912666321,\n",
      "      0.2900612007877615,\n",
      "      0.978,\n",
      "      0.9933155080213903\n",
      "    ]\n",
      "  },\n",
      "  \"CASIA-ArcFace\": {\n",
      "    \"TAR\": [\n",
      "      0.3242388069629669,\n",
      "      0.5455540836874936,\n",
      "      0.9905,\n",
      "      0.8811831550802139\n",
      "    ],\n",
      "    \"FAR\": [\n",
      "      0.3242388069629669,\n",
      "      0.004610521347708016,\n",
      "      0.9905,\n",
      "      0.995822192513369\n",
      "    ]\n",
      "  },\n",
      "  \"CASIA-CosFace\": {\n",
      "    \"TAR\": [\n",
      "      0.23147112131118774,\n",
      "      0.4875467206836419,\n",
      "      0.9911666666666666,\n",
      "      0.9126002673796791\n",
      "    ],\n",
      "    \"FAR\": [\n",
      "      0.23147112131118774,\n",
      "      0.0042326239056814895,\n",
      "      0.9911666666666666,\n",
      "      0.9968248663101604\n",
      "    ]\n",
      "  },\n",
      "  \"CASIA-Softmax\": {\n",
      "    \"TAR\": [\n",
      "      0.3241730332374573,\n",
      "      0.5245274235506108,\n",
      "      0.9883333333333333,\n",
      "      0.8716577540106952\n",
      "    ],\n",
      "    \"FAR\": [\n",
      "      0.3241730332374573,\n",
      "      0.014037041079987869,\n",
      "      0.9883333333333333,\n",
      "      0.9938168449197861\n",
      "    ]\n",
      "  },\n",
      "  \"CASIA-SphereFace\": {\n",
      "    \"TAR\": [\n",
      "      0.4365990459918976,\n",
      "      0.6730080748601465,\n",
      "      0.9765,\n",
      "      0.8805147058823529\n",
      "    ],\n",
      "    \"FAR\": [\n",
      "      0.4365990459918976,\n",
      "      0.0007960228080177097,\n",
      "      0.9765,\n",
      "      0.9886363636363636\n",
      "    ]\n",
      "  },\n",
      "  \"IR50-Softmax-BR\": {\n",
      "    \"TAR\": [\n",
      "      0.33871138095855713,\n",
      "      0.564035907398628,\n",
      "      0.996,\n",
      "      0.8628008021390374\n",
      "    ],\n",
      "    \"FAR\": [\n",
      "      0.33871138095855713,\n",
      "      0.03576667112213333,\n",
      "      0.996,\n",
      "      0.9956550802139037\n",
      "    ]\n",
      "  },\n",
      "  \"IR50-Softmax-JPEG\": {\n",
      "    \"TAR\": [\n",
      "      0.34150177240371704,\n",
      "      0.5678213814094962,\n",
      "      0.9958333333333333,\n",
      "      0.8624665775401069\n",
      "    ],\n",
      "    \"FAR\": [\n",
      "      0.34150177240371704,\n",
      "      0.0390969421559687,\n",
      "      0.9958333333333333,\n",
      "      0.9941510695187166\n",
      "    ]\n",
      "  },\n",
      "  \"IR50-Softmax-RP\": {\n",
      "    \"TAR\": [\n",
      "      0.35351189970970154,\n",
      "      0.5682759490413504,\n",
      "      0.9941666666666666,\n",
      "      0.8571189839572193\n",
      "    ],\n",
      "    \"FAR\": [\n",
      "      0.35351189970970154,\n",
      "      0.05020130523418999,\n",
      "      0.9941666666666666,\n",
      "      0.9936497326203209\n",
      "    ]\n",
      "  }\n",
      "}\n"
     ]
    },
    {
     "name": "stderr",
     "output_type": "stream",
     "text": [
      "\n"
     ]
    }
   ],
   "source": [
    "from fr_models.get_model import getmodel\n",
    "\n",
    "batch_size=32\n",
    "dataset_dir=\"/home/com/yy/datasets/CASIA-WebFace/casia-aligned-112x112/\"\n",
    "untarget_dataset = loadDataset(dataset_dir=dataset_dir,\n",
    "                                   mean=[0.5, 0.5, 0.5],\n",
    "                                   std=[0.5, 0.5, 0.5],\n",
    "                                   mode=\"untarget\",\n",
    "                                   batch_size=batch_size)\n",
    "target_dataset = loadDataset(dataset_dir=dataset_dir,\n",
    "                                   mean=[0.5, 0.5, 0.5],\n",
    "                                   std=[0.5, 0.5, 0.5],\n",
    "                                   mode=\"target\",\n",
    "                                   batch_size=batch_size)\n",
    "benchmark = {}\n",
    "print(\"使用数据集 %s:\" % dataset_dir)\n",
    "for model_name in fr_model_names:\n",
    "    with torch.no_grad():\n",
    "        benchmark[model_name]={}\n",
    "        print(\"评估%s中:\" % (model_name))\n",
    "        model, img_shape = getmodel(model_name)\n",
    "        print(\"    TAR:\")\n",
    "        benchmark[model_name]['TAR']=evalFRModel(model, img_shape, \"untarget\", untarget_dataset)\n",
    "        print(\"    FAR:\")\n",
    "        benchmark[model_name]['FAR']=evalFRModel(model, img_shape, \"target\", target_dataset)\n",
    "import json\n",
    "print(json.dumps(benchmark, indent=2))\n",
    "'''\n",
    "{\n",
    "  \"ShuffleNet_V2_GDConv-stride1\": {\n",
    "    \"TAR\": [\n",
    "      0.22403636574745178,\n",
    "      0.38950889972352953,\n",
    "      0.9915,\n",
    "      0.8079879679144385\n",
    "    ],\n",
    "    \"FAR\": [\n",
    "      0.22403636574745178,\n",
    "      0.03514139656262923,\n",
    "      0.9915,\n",
    "      0.99298128342246\n",
    "    ]\n",
    "  },\n",
    "  \"Mobilenet\": {\n",
    "    \"TAR\": [\n",
    "      0.15846577286720276,\n",
    "      0.33970919899009966,\n",
    "      0.9935,\n",
    "      0.8153409090909091\n",
    "    ],\n",
    "    \"FAR\": [\n",
    "      0.15846577286720276,\n",
    "      0.007424565412303032,\n",
    "      0.9935,\n",
    "      0.9944852941176471\n",
    "    ]\n",
    "  },\n",
    "  \"MobilenetV2-stride1\": {\n",
    "    \"TAR\": [\n",
    "      0.24340271949768066,\n",
    "      0.4057902479143521,\n",
    "      0.9905,\n",
    "      0.797292780748663\n",
    "    ],\n",
    "    \"FAR\": [\n",
    "      0.24340271949768066,\n",
    "      0.03793284978065764,\n",
    "      0.9905,\n",
    "      0.9914772727272727\n",
    "    ]\n",
    "  },\n",
    "  \"CosFace\": {\n",
    "    \"TAR\": [\n",
    "      0.24625787138938904,\n",
    "      0.4757590359064407,\n",
    "      0.9868333333333333,\n",
    "      0.8492647058823529\n",
    "    ],\n",
    "    \"FAR\": [\n",
    "      0.24625787138938904,\n",
    "      0.02677795590409034,\n",
    "      0.9868333333333333,\n",
    "      0.991644385026738\n",
    "    ]\n",
    "  },\n",
    "  \"FaceNet-VGGFace2\": {\n",
    "    \"TAR\": [\n",
    "      0.42074376344680786,\n",
    "      0.5777556795582056,\n",
    "      0.9923333333333333,\n",
    "      0.8051470588235294\n",
    "    ],\n",
    "    \"FAR\": [\n",
    "      0.42074376344680786,\n",
    "      0.015297117367778085,\n",
    "      0.9923333333333333,\n",
    "      0.9948195187165776\n",
    "    ]\n",
    "  },\n",
    "  \"Mobilenet-stride1\": {\n",
    "    \"TAR\": [\n",
    "      0.19342336058616638,\n",
    "      0.40369698638633394,\n",
    "      0.9956666666666667,\n",
    "      0.8559491978609626\n",
    "    ],\n",
    "    \"FAR\": [\n",
    "      0.19342336058616638,\n",
    "      0.010004957837765765,\n",
    "      0.9956666666666667,\n",
    "      0.9973262032085561\n",
    "    ]\n",
    "  },\n",
    "  \"SphereFace\": {\n",
    "    \"TAR\": [\n",
    "      0.34931832551956177,\n",
    "      0.4916775505866838,\n",
    "      0.9818333333333333,\n",
    "      0.7799131016042781\n",
    "    ],\n",
    "    \"FAR\": [\n",
    "      0.34931832551956177,\n",
    "      0.05791943540088808,\n",
    "      0.9818333333333333,\n",
    "      0.9923128342245989\n",
    "    ]\n",
    "  },\n",
    "  \"MobileFace\": {\n",
    "    \"TAR\": [\n",
    "      0.21116749942302704,\n",
    "      0.40472915966241474,\n",
    "      0.9945,\n",
    "      0.8460895721925134\n",
    "    ],\n",
    "    \"FAR\": [\n",
    "      0.21116749942302704,\n",
    "      0.011561774252750475,\n",
    "      0.9945,\n",
    "      0.9961564171122995\n",
    "    ]\n",
    "  },\n",
    "  \"FaceNet-casia\": {\n",
    "    \"TAR\": [\n",
    "      0.4289606213569641,\n",
    "      0.5683028281381214,\n",
    "      0.981,\n",
    "      0.7829211229946524\n",
    "    ],\n",
    "    \"FAR\": [\n",
    "      0.4289606213569641,\n",
    "      0.0940956809953444,\n",
    "      0.981,\n",
    "      0.9906417112299465\n",
    "    ]\n",
    "  },\n",
    "  \"MobilenetV2\": {\n",
    "    \"TAR\": [\n",
    "      0.22666725516319275,\n",
    "      0.3839497219179421,\n",
    "      0.9933333333333333,\n",
    "      0.7876002673796791\n",
    "    ],\n",
    "    \"FAR\": [\n",
    "      0.22666725516319275,\n",
    "      0.011135533766651072,\n",
    "      0.9933333333333333,\n",
    "      0.9964906417112299\n",
    "    ]\n",
    "  },\n",
    "  \"ArcFace\": {\n",
    "    \"TAR\": [\n",
    "      0.28402677178382874,\n",
    "      0.46903507017901225,\n",
    "      0.995,\n",
    "      0.838903743315508\n",
    "    ],\n",
    "    \"FAR\": [\n",
    "      0.28402677178382874,\n",
    "      0.015232160427107384,\n",
    "      0.995,\n",
    "      0.9984959893048129\n",
    "    ]\n",
    "  },\n",
    "  \"ResNet50\": {\n",
    "    \"TAR\": [\n",
    "      0.19116485118865967,\n",
    "      0.4209562875198158,\n",
    "      0.9971666666666666,\n",
    "      0.8633021390374331\n",
    "    ],\n",
    "    \"FAR\": [\n",
    "      0.19116485118865967,\n",
    "      0.004434230873452432,\n",
    "      0.9971666666666666,\n",
    "      0.9976604278074866\n",
    "    ]\n",
    "  },\n",
    "  \"ShuffleNet_V1_GDConv\": {\n",
    "    \"TAR\": [\n",
    "      0.19073212146759033,\n",
    "      0.3839922117439465,\n",
    "      0.9946666666666667,\n",
    "      0.8405748663101604\n",
    "    ],\n",
    "    \"FAR\": [\n",
    "      0.19073212146759033,\n",
    "      0.01115297027235573,\n",
    "      0.9946666666666667,\n",
    "      0.9941510695187166\n",
    "    ]\n",
    "  },\n",
    "  \"ResNet50-casia\": {\n",
    "    \"TAR\": [\n",
    "      0.1854616403579712,\n",
    "      0.4882652428374924,\n",
    "      0.986,\n",
    "      0.9002339572192514\n",
    "    ],\n",
    "    \"FAR\": [\n",
    "      0.1854616403579712,\n",
    "      0.00643784274680342,\n",
    "      0.986,\n",
    "      0.99298128342246\n",
    "    ]\n",
    "  },\n",
    "  \"IR50-Am\": {\n",
    "    \"TAR\": [\n",
    "      0.45836973190307617,\n",
    "      0.5704550902847261,\n",
    "      0.9921666666666666,\n",
    "      0.8188502673796791\n",
    "    ],\n",
    "    \"FAR\": [\n",
    "      0.45836973190307617,\n",
    "      0.31482831996063737,\n",
    "      0.9921666666666666,\n",
    "      0.9899732620320856\n",
    "    ]\n",
    "  },\n",
    "  \"IR50-ArcFace\": {\n",
    "    \"TAR\": [\n",
    "      0.27737492322921753,\n",
    "      0.5110677213923673,\n",
    "      0.997,\n",
    "      0.8704879679144385\n",
    "    ],\n",
    "    \"FAR\": [\n",
    "      0.27737492322921753,\n",
    "      0.003643383801055488,\n",
    "      0.997,\n",
    "      0.9979946524064172\n",
    "    ]\n",
    "  },\n",
    "  \"IR50-CosFace\": {\n",
    "    \"TAR\": [\n",
    "      0.22401964664459229,\n",
    "      0.46094690714084996,\n",
    "      0.997,\n",
    "      0.8808489304812834\n",
    "    ],\n",
    "    \"FAR\": [\n",
    "      0.22401964664459229,\n",
    "      0.005503477108086469,\n",
    "      0.997,\n",
    "      0.9983288770053476\n",
    "    ]\n",
    "  },\n",
    "  \"IR50-Softmax\": {\n",
    "    \"TAR\": [\n",
    "      0.34233152866363525,\n",
    "      0.5712125343809098,\n",
    "      0.996,\n",
    "      0.8648061497326203\n",
    "    ],\n",
    "    \"FAR\": [\n",
    "      0.34233152866363525,\n",
    "      0.0364527001526091,\n",
    "      0.996,\n",
    "      0.9934826203208557\n",
    "    ]\n",
    "  },\n",
    "  \"IR50-SphereFace\": {\n",
    "    \"TAR\": [\n",
    "      0.361619234085083,\n",
    "      0.5931625330537734,\n",
    "      0.9958333333333333,\n",
    "      0.8724933155080213\n",
    "    ],\n",
    "    \"FAR\": [\n",
    "      0.361619234085083,\n",
    "      0.021256128760826037,\n",
    "      0.9958333333333333,\n",
    "      0.99298128342246\n",
    "    ]\n",
    "  },\n",
    "  \"IR50-PGDSoftmax\": {\n",
    "    \"TAR\": [\n",
    "      0.3052944242954254,\n",
    "      0.3509319506831969,\n",
    "      0.913,\n",
    "      0.5599933155080213\n",
    "    ],\n",
    "    \"FAR\": [\n",
    "      0.3052944242954254,\n",
    "      0.09187880892187193,\n",
    "      0.913,\n",
    "      0.9680815508021391\n",
    "    ]\n",
    "  },\n",
    "  \"IR50-TradesSoftmax\": {\n",
    "    \"TAR\": [\n",
    "      0.32782697677612305,\n",
    "      0.3710630280098767,\n",
    "      0.9095,\n",
    "      0.553475935828877\n",
    "    ],\n",
    "    \"FAR\": [\n",
    "      0.32782697677612305,\n",
    "      0.10951530974440651,\n",
    "      0.9095,\n",
    "      0.9608957219251337\n",
    "    ]\n",
    "  },\n",
    "  \"IR50-PGDArcFace\": {\n",
    "    \"TAR\": [\n",
    "      0.37509775161743164,\n",
    "      0.370836918276749,\n",
    "      0.8766666666666667,\n",
    "      0.4617312834224599\n",
    "    ],\n",
    "    \"FAR\": [\n",
    "      0.37509775161743164,\n",
    "      0.16079737244880937,\n",
    "      0.8766666666666667,\n",
    "      0.9336564171122995\n",
    "    ]\n",
    "  },\n",
    "  \"IR50-TradesArcFace\": {\n",
    "    \"TAR\": [\n",
    "      0.852626383304596,\n",
    "      0.8921198422975719,\n",
    "      0.9506666666666667,\n",
    "      0.8038101604278075\n",
    "    ],\n",
    "    \"FAR\": [\n",
    "      0.852626383304596,\n",
    "      0.7322988682501217,\n",
    "      0.9506666666666667,\n",
    "      0.914605614973262\n",
    "    ]\n",
    "  },\n",
    "  \"IR50-PGDCosFace\": {\n",
    "    \"TAR\": [\n",
    "      0.2336357682943344,\n",
    "      0.25343716062993227,\n",
    "      0.8618333333333333,\n",
    "      0.46858288770053474\n",
    "    ],\n",
    "    \"FAR\": [\n",
    "      0.2336357682943344,\n",
    "      0.09355347970528448,\n",
    "      0.8618333333333333,\n",
    "      0.93048128342246\n",
    "    ]\n",
    "  },\n",
    "  \"IR50-TradesCosFace\": {\n",
    "    \"TAR\": [\n",
    "      0.6367585062980652,\n",
    "      0.6468343956285171,\n",
    "      0.9073333333333333,\n",
    "      0.5842245989304813\n",
    "    ],\n",
    "    \"FAR\": [\n",
    "      0.6367585062980652,\n",
    "      0.41287724130977144,\n",
    "      0.9073333333333333,\n",
    "      0.9268048128342246\n",
    "    ]\n",
    "  },\n",
    "  \"IR50-PGDAm\": {\n",
    "    \"TAR\": [\n",
    "      0.415134072303772,\n",
    "      0.4146073014116821,\n",
    "      0.85,\n",
    "      0.4405080213903743\n",
    "    ],\n",
    "    \"FAR\": [\n",
    "      0.415134072303772,\n",
    "      0.2796455072562763,\n",
    "      0.85,\n",
    "      0.9254679144385026\n",
    "    ]\n",
    "  },\n",
    "  \"IR50-PGDSphereFace\": {\n",
    "    \"TAR\": [\n",
    "      0.5209366679191589,\n",
    "      0.5811544464018481,\n",
    "      0.8881666666666667,\n",
    "      0.6475601604278075\n",
    "    ],\n",
    "    \"FAR\": [\n",
    "      0.5209366679191589,\n",
    "      0.04542567590362066,\n",
    "      0.8881666666666667,\n",
    "      0.9055815508021391\n",
    "    ]\n",
    "  },\n",
    "  \"CASIA-Am\": {\n",
    "    \"TAR\": [\n",
    "      0.4614875912666321,\n",
    "      0.5446289519749502,\n",
    "      0.978,\n",
    "      0.7369652406417112\n",
    "    ],\n",
    "    \"FAR\": [\n",
    "      0.4614875912666321,\n",
    "      0.2900612007877615,\n",
    "      0.978,\n",
    "      0.9933155080213903\n",
    "    ]\n",
    "  },\n",
    "  \"CASIA-ArcFace\": {\n",
    "    \"TAR\": [\n",
    "      0.3242388069629669,\n",
    "      0.5455540836874936,\n",
    "      0.9905,\n",
    "      0.8811831550802139\n",
    "    ],\n",
    "    \"FAR\": [\n",
    "      0.3242388069629669,\n",
    "      0.004610521347708016,\n",
    "      0.9905,\n",
    "      0.995822192513369\n",
    "    ]\n",
    "  },\n",
    "  \"CASIA-CosFace\": {\n",
    "    \"TAR\": [\n",
    "      0.23147112131118774,\n",
    "      0.4875467206836419,\n",
    "      0.9911666666666666,\n",
    "      0.9126002673796791\n",
    "    ],\n",
    "    \"FAR\": [\n",
    "      0.23147112131118774,\n",
    "      0.0042326239056814895,\n",
    "      0.9911666666666666,\n",
    "      0.9968248663101604\n",
    "    ]\n",
    "  },\n",
    "  \"CASIA-Softmax\": {\n",
    "    \"TAR\": [\n",
    "      0.3241730332374573,\n",
    "      0.5245274235506108,\n",
    "      0.9883333333333333,\n",
    "      0.8716577540106952\n",
    "    ],\n",
    "    \"FAR\": [\n",
    "      0.3241730332374573,\n",
    "      0.014037041079987869,\n",
    "      0.9883333333333333,\n",
    "      0.9938168449197861\n",
    "    ]\n",
    "  },\n",
    "  \"CASIA-SphereFace\": {\n",
    "    \"TAR\": [\n",
    "      0.4365990459918976,\n",
    "      0.6730080748601465,\n",
    "      0.9765,\n",
    "      0.8805147058823529\n",
    "    ],\n",
    "    \"FAR\": [\n",
    "      0.4365990459918976,\n",
    "      0.0007960228080177097,\n",
    "      0.9765,\n",
    "      0.9886363636363636\n",
    "    ]\n",
    "  },\n",
    "  \"IR50-Softmax-BR\": {\n",
    "    \"TAR\": [\n",
    "      0.33871138095855713,\n",
    "      0.564035907398628,\n",
    "      0.996,\n",
    "      0.8628008021390374\n",
    "    ],\n",
    "    \"FAR\": [\n",
    "      0.33871138095855713,\n",
    "      0.03576667112213333,\n",
    "      0.996,\n",
    "      0.9956550802139037\n",
    "    ]\n",
    "  },\n",
    "  \"IR50-Softmax-JPEG\": {\n",
    "    \"TAR\": [\n",
    "      0.34150177240371704,\n",
    "      0.5678213814094962,\n",
    "      0.9958333333333333,\n",
    "      0.8624665775401069\n",
    "    ],\n",
    "    \"FAR\": [\n",
    "      0.34150177240371704,\n",
    "      0.0390969421559687,\n",
    "      0.9958333333333333,\n",
    "      0.9941510695187166\n",
    "    ]\n",
    "  },\n",
    "  \"IR50-Softmax-RP\": {\n",
    "    \"TAR\": [\n",
    "      0.35351189970970154,\n",
    "      0.5682759490413504,\n",
    "      0.9941666666666666,\n",
    "      0.8571189839572193\n",
    "    ],\n",
    "    \"FAR\": [\n",
    "      0.35351189970970154,\n",
    "      0.05020130523418999,\n",
    "      0.9941666666666666,\n",
    "      0.9936497326203209\n",
    "    ]\n",
    "  }\n",
    "}\n",
    "'''"
   ]
  },
  {
   "cell_type": "code",
   "execution_count": null,
   "id": "a5bcd8f0-75cd-47af-9889-aa9c05d3d78f",
   "metadata": {},
   "outputs": [],
   "source": []
  }
 ],
 "metadata": {
  "kernelspec": {
   "display_name": "AdvFaceGAN",
   "language": "python",
   "name": "advfacegan"
  },
  "language_info": {
   "codemirror_mode": {
    "name": "ipython",
    "version": 3
   },
   "file_extension": ".py",
   "mimetype": "text/x-python",
   "name": "python",
   "nbconvert_exporter": "python",
   "pygments_lexer": "ipython3",
   "version": "3.12.3"
  }
 },
 "nbformat": 4,
 "nbformat_minor": 5
}
