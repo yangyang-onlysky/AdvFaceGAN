{
 "cells": [
  {
   "cell_type": "code",
   "id": "116bdd1a230f648c",
   "metadata": {
    "ExecuteTime": {
     "end_time": "2024-09-18T13:24:21.182936Z",
     "start_time": "2024-09-18T11:45:02.069195Z"
    }
   },
   "source": [
    "import numpy as np\n",
    "import torch\n",
    "import torchvision\n",
    "from tqdm import tqdm\n",
    "from official_api.aliyun import face_compare\n",
    "\n",
    "from AdvFaceGAN import Generator\n",
    "from utils.dataset import Dataset\n",
    "\n",
    "print(\"--------------------load test Dataset--------------------\")\n",
    "test_set = Dataset(\"C:/yy/datasets/lfw/lfw-aligned-112x112/\", \"target\")\n",
    "print(\"--------------------start batch queue--------------------\")\n",
    "batch_size = 8\n",
    "test_set.start_batch_queue(\n",
    "    batch_size=batch_size,\n",
    "    batch_format=\"random_samples\",\n",
    "    transforms=torchvision.transforms.Compose([\n",
    "        torchvision.transforms.Resize((112,112)),  # 调整图片大小\n",
    "        torchvision.transforms.ToTensor(),  # 图片转为Tensor [0,1]\n",
    "        torchvision.transforms.Normalize(mean=[0.5, 0.5, 0.5], std=[0.5, 0.5, 0.5]),  # 归一化\n",
    "    ]),\n",
    "    num_threads=3,\n",
    ")\n",
    "print(\"-------------------load Generator-----------------------\")\n",
    "fake_generator = Generator(is_target=True).eval().cuda()\n",
    "model_generator_dict = torch.load(r\"C:\\yy\\source\\Desktop\\读研是一条艰苦的道路\\1. 论文\\做实验\\myCode\\myCode\\4 FrAdv\\AdvFaceGAN\\save_dir\\target 4 8白盒 奇怪ssim 97ssim\\model\\00990_generator.pth\", weights_only=True)\n",
    "fake_generator.load_state_dict(model_generator_dict)\n",
    "\n",
    "print(\"-----------------start api evaluation-------------------\")\n",
    "with torch.no_grad():\n",
    "    epoch = 750\n",
    "    after = []\n",
    "    x=0\n",
    "    for i in tqdm(range(0, epoch), total=epoch):\n",
    "        batch = test_set.pop_batch_queue()\n",
    "        source_faces = batch['sources'].cuda()\n",
    "        target_faces = batch['targets'].cuda()\n",
    "        perts, fake_afters = fake_generator.forward(source_faces, target_faces)\n",
    "        for j in range(0, batch_size):\n",
    "            torchvision.utils.save_image([target_faces[j] * 0.5 + 0.5], './test2/target.png', nrow=1)\n",
    "            torchvision.utils.save_image([fake_afters[j] * 0.5 + 0.5], './test2/fake.png', nrow=1)\n",
    "            res = face_compare(face1_path='./test2/target.png', face2_path='./test2/fake.png')\n",
    "            if res is None:\n",
    "                x = x+1\n",
    "                torchvision.utils.save_image([source_faces[j] * 0.5 + 0.5], './wrong2/source{}_{}.png'.format(x, batch['sources_name'][j]), nrow=1)\n",
    "                torchvision.utils.save_image([target_faces[j] * 0.5 + 0.5], './wrong2/target{}_{}.png'.format(x, batch['targets_name'][j]), nrow=1)\n",
    "            else:\n",
    "                after.append(res)\n",
    "    \n",
    "    print(np.mean(after))\n",
    "    after = np.array(after)\n",
    "    print(np.sum(after > 61) / len(after))\n",
    "    print(np.sum(after > 69) / len(after))\n",
    "    print(np.sum(after > 75) / len(after))\n",
    "    \n",
    "'''\n",
    "lfw:\n",
    "同人 TAR\n",
    "84.8268018281406\n",
    "0.008348639171814994\n",
    "0.01302387710803139\n",
    "0.03623309400567708\n",
    "非同人 FAR\n",
    "4.331548709577778\n",
    "1.0\n",
    "1.0\n",
    "1.0 \n",
    "攻击\n",
    "3 650 8白盒:\n",
    "59.346987898603686\n",
    "0.6284902190269186\n",
    "0.30630329376358467\n",
    "0.06554087945159673\n",
    "0.9401924349466959\n",
    "\n",
    "4 650 8白盒:\n",
    "66.44565342554391\n",
    "0.8005345806882727\n",
    "0.5325760106916138\n",
    "0.1944537253591714\n",
    "0.9092922599315644\n",
    "\n",
    "target 4 8白盒 奇怪ssim 97ssim\n",
    "63.01459567335537\n",
    "0.7244147157190636\n",
    "0.40100334448160535\n",
    "0.10518394648829431\n",
    "\n",
    "celeba-hq:\n",
    "攻击\n",
    "3 700:\n",
    "61.69760178467954\n",
    "0.6906086663294554\n",
    "0.40870005058168946\n",
    "0.13791940650817738\n",
    "0.953\n",
    "4 650 8白盒无SE:\n",
    "67.93522777581455\n",
    "0.8257575757575758\n",
    "0.6073232323232324\n",
    "0.2967171717171717\n",
    "0.9243021523952484\n",
    "4 650 8白盒有SE\n",
    "67.20090152697185\n",
    "0.8108448928121059\n",
    "0.5687263556116016\n",
    "0.24968474148802017\n",
    "0.926848818063736\n",
    "'''"
   ],
   "outputs": [
    {
     "name": "stdout",
     "output_type": "stream",
     "text": [
      "------------------------加载测试集-------------------------\n",
      "13233 images of 5749 classes loaded\n",
      "-----------------------启动分批队列------------------------\n"
     ]
    },
    {
     "name": "stderr",
     "output_type": "stream",
     "text": [
      "C:\\Users\\28769\\AppData\\Local\\Temp\\ipykernel_26192\\2023120153.py:26: FutureWarning: You are using `torch.load` with `weights_only=False` (the current default value), which uses the default pickle module implicitly. It is possible to construct malicious pickle data which will execute arbitrary code during unpickling (See https://github.com/pytorch/pytorch/blob/main/SECURITY.md#untrusted-models for more details). In a future release, the default value for `weights_only` will be flipped to `True`. This limits the functions that could be executed during unpickling. Arbitrary objects will no longer be allowed to be loaded via this mode unless they are explicitly allowlisted by the user via `torch.serialization.add_safe_globals`. We recommend you start setting `weights_only=True` for any use case where you don't have full control of the loaded file. Please open an issue on GitHub for any issues related to this experimental feature.\n",
      "  model_generator_dict = torch.load(r\"C:\\yy\\source\\Desktop\\读研是一条艰苦的道路\\1. 论文\\做实验\\myCode\\myCode\\4 FrAdv\\AdvFaceGAN\\save_dir\\target 4 8白盒 奇怪ssim 97ssim\\model\\00990_generator.pth\", weights_only=True)\n"
     ]
    },
    {
     "name": "stdout",
     "output_type": "stream",
     "text": [
      "-----------------------加载生成器------------------------\n",
      "-----------------------开始api测试------------------------\n"
     ]
    },
    {
     "name": "stderr",
     "output_type": "stream",
     "text": [
      "  0%|          | 0/750 [00:00<?, ?it/s]C:\\yy\\installed_software\\Anaconda3\\envs\\AdvFaceGAN\\Lib\\site-packages\\torch\\storage.py:414: FutureWarning: You are using `torch.load` with `weights_only=False` (the current default value), which uses the default pickle module implicitly. It is possible to construct malicious pickle data which will execute arbitrary code during unpickling (See https://github.com/pytorch/pytorch/blob/main/SECURITY.md#untrusted-models for more details). In a future release, the default value for `weights_only` will be flipped to `True`. This limits the functions that could be executed during unpickling. Arbitrary objects will no longer be allowed to be loaded via this mode unless they are explicitly allowlisted by the user via `torch.serialization.add_safe_globals`. We recommend you start setting `weights_only=True` for any use case where you don't have full control of the loaded file. Please open an issue on GitHub for any issues related to this experimental feature.\n",
      "  return torch.load(io.BytesIO(b))\n",
      "  6%|▋         | 47/750 [05:49<1:28:47,  7.58s/it]"
     ]
    },
    {
     "name": "stdout",
     "output_type": "stream",
     "text": [
      "Error: InvalidImage.NotFoundFace code: 404, 图像中没找到人脸，请检查您的图像中是否包含人脸或人脸太小 - 没有检测到人脸，可能是输入图片没有人脸、人脸太小(人脸占比应超过64*64像素)、图像中人脸质量较低或图像过度拉伸等导致。请检查是否存在人脸、人脸大小和图像人脸质量后再次尝试。 - EAS_FACE_NOT_EXIST request id: B7DF2538-E478-5FC3-AD23-CB2D33360F56 Response: {'RequestId': 'B7DF2538-E478-5FC3-AD23-CB2D33360F56', 'HostId': 'facebody.cn-shanghai.aliyuncs.com', 'Code': 'InvalidImage.NotFoundFace', 'Message': '图像中没找到人脸，请检查您的图像中是否包含人脸或人脸太小 - 没有检测到人脸，可能是输入图片没有人脸、人脸太小(人脸占比应超过64*64像素)、图像中人脸质量较低或图像过度拉伸等导致。请检查是否存在人脸、人脸大小和图像人脸质量后再次尝试。 - EAS_FACE_NOT_EXIST', 'Recommend': 'https://api.aliyun.com/troubleshoot?q=InvalidImage.NotFoundFace&product=facebody&requestId=B7DF2538-E478-5FC3-AD23-CB2D33360F56', 'statusCode': 404}\n"
     ]
    },
    {
     "name": "stderr",
     "output_type": "stream",
     "text": [
      " 20%|█▉        | 148/750 [18:24<1:14:21,  7.41s/it]"
     ]
    },
    {
     "name": "stdout",
     "output_type": "stream",
     "text": [
      "('Connection aborted.', ConnectionAbortedError(10053, '你的主机中的软件中止了一个已建立的连接。', None, 10053, None))\n"
     ]
    },
    {
     "name": "stderr",
     "output_type": "stream",
     "text": [
      " 22%|██▏       | 166/750 [20:36<1:10:53,  7.28s/it]"
     ]
    },
    {
     "name": "stdout",
     "output_type": "stream",
     "text": [
      "Error: InvalidImage.NotFoundFace code: 404, 图像中没找到人脸，请检查您的图像中是否包含人脸或人脸太小 - 没有检测到人脸，可能是输入图片没有人脸、人脸太小(人脸占比应超过64*64像素)、图像中人脸质量较低或图像过度拉伸等导致。请检查是否存在人脸、人脸大小和图像人脸质量后再次尝试。 - EAS_FACE_NOT_EXIST request id: 43DBEAB9-1A76-55D4-8CC3-B12CFC10C868 Response: {'RequestId': '43DBEAB9-1A76-55D4-8CC3-B12CFC10C868', 'HostId': 'facebody.cn-shanghai.aliyuncs.com', 'Code': 'InvalidImage.NotFoundFace', 'Message': '图像中没找到人脸，请检查您的图像中是否包含人脸或人脸太小 - 没有检测到人脸，可能是输入图片没有人脸、人脸太小(人脸占比应超过64*64像素)、图像中人脸质量较低或图像过度拉伸等导致。请检查是否存在人脸、人脸大小和图像人脸质量后再次尝试。 - EAS_FACE_NOT_EXIST', 'Recommend': 'https://api.aliyun.com/troubleshoot?q=InvalidImage.NotFoundFace&product=facebody&requestId=43DBEAB9-1A76-55D4-8CC3-B12CFC10C868', 'statusCode': 404}\n"
     ]
    },
    {
     "name": "stderr",
     "output_type": "stream",
     "text": [
      " 24%|██▎       | 178/750 [22:05<1:10:56,  7.44s/it]"
     ]
    },
    {
     "name": "stdout",
     "output_type": "stream",
     "text": [
      "('Connection aborted.', RemoteDisconnected('Remote end closed connection without response'))\n"
     ]
    },
    {
     "name": "stderr",
     "output_type": "stream",
     "text": [
      " 25%|██▍       | 184/750 [23:00<1:14:31,  7.90s/it]"
     ]
    },
    {
     "name": "stdout",
     "output_type": "stream",
     "text": [
      "HTTPSConnectionPool(host='facebody.cn-shanghai.aliyuncs.com', port=443): Read timed out. (read timeout=10.0)\n"
     ]
    },
    {
     "name": "stderr",
     "output_type": "stream",
     "text": [
      " 25%|██▌       | 190/750 [23:53<1:13:48,  7.91s/it]"
     ]
    },
    {
     "name": "stdout",
     "output_type": "stream",
     "text": [
      "HTTPSConnectionPool(host='facebody.cn-shanghai.aliyuncs.com', port=443): Read timed out. (read timeout=10.0)\n"
     ]
    },
    {
     "name": "stderr",
     "output_type": "stream",
     "text": [
      " 26%|██▌       | 196/750 [24:46<1:12:46,  7.88s/it]"
     ]
    },
    {
     "name": "stdout",
     "output_type": "stream",
     "text": [
      "HTTPSConnectionPool(host='facebody.cn-shanghai.aliyuncs.com', port=443): Read timed out. (read timeout=10.0)\n"
     ]
    },
    {
     "name": "stderr",
     "output_type": "stream",
     "text": [
      " 29%|██▉       | 220/750 [27:55<1:04:45,  7.33s/it]"
     ]
    },
    {
     "name": "stdout",
     "output_type": "stream",
     "text": [
      "Error: InvalidImage.NotFoundFace code: 404, 图像中没找到人脸，请检查您的图像中是否包含人脸或人脸太小 - 没有检测到人脸，可能是输入图片没有人脸、人脸太小(人脸占比应超过64*64像素)、图像中人脸质量较低或图像过度拉伸等导致。请检查是否存在人脸、人脸大小和图像人脸质量后再次尝试。 - EAS_FACE_NOT_EXIST request id: B44FAA2B-4DAA-5F66-80CF-8545A580FD5A Response: {'RequestId': 'B44FAA2B-4DAA-5F66-80CF-8545A580FD5A', 'HostId': 'facebody.cn-shanghai.aliyuncs.com', 'Code': 'InvalidImage.NotFoundFace', 'Message': '图像中没找到人脸，请检查您的图像中是否包含人脸或人脸太小 - 没有检测到人脸，可能是输入图片没有人脸、人脸太小(人脸占比应超过64*64像素)、图像中人脸质量较低或图像过度拉伸等导致。请检查是否存在人脸、人脸大小和图像人脸质量后再次尝试。 - EAS_FACE_NOT_EXIST', 'Recommend': 'https://api.aliyun.com/troubleshoot?q=InvalidImage.NotFoundFace&product=facebody&requestId=B44FAA2B-4DAA-5F66-80CF-8545A580FD5A', 'statusCode': 404}\n"
     ]
    },
    {
     "name": "stderr",
     "output_type": "stream",
     "text": [
      " 32%|███▏      | 240/750 [30:25<1:03:52,  7.51s/it]"
     ]
    },
    {
     "name": "stdout",
     "output_type": "stream",
     "text": [
      "Error: InvalidImage.NotFoundFace code: 404, 图像中没找到人脸，请检查您的图像中是否包含人脸或人脸太小 - 没有检测到人脸，可能是输入图片没有人脸、人脸太小(人脸占比应超过64*64像素)、图像中人脸质量较低或图像过度拉伸等导致。请检查是否存在人脸、人脸大小和图像人脸质量后再次尝试。 - EAS_FACE_NOT_EXIST request id: A94A51E2-8ACD-5C8F-A8F7-70CC9A4707E2 Response: {'RequestId': 'A94A51E2-8ACD-5C8F-A8F7-70CC9A4707E2', 'HostId': 'facebody.cn-shanghai.aliyuncs.com', 'Code': 'InvalidImage.NotFoundFace', 'Message': '图像中没找到人脸，请检查您的图像中是否包含人脸或人脸太小 - 没有检测到人脸，可能是输入图片没有人脸、人脸太小(人脸占比应超过64*64像素)、图像中人脸质量较低或图像过度拉伸等导致。请检查是否存在人脸、人脸大小和图像人脸质量后再次尝试。 - EAS_FACE_NOT_EXIST', 'Recommend': 'https://api.aliyun.com/troubleshoot?q=InvalidImage.NotFoundFace&product=facebody&requestId=A94A51E2-8ACD-5C8F-A8F7-70CC9A4707E2', 'statusCode': 404}\n"
     ]
    },
    {
     "name": "stderr",
     "output_type": "stream",
     "text": [
      " 34%|███▍      | 257/750 [32:39<1:02:19,  7.58s/it]"
     ]
    },
    {
     "name": "stdout",
     "output_type": "stream",
     "text": [
      "('Connection aborted.', RemoteDisconnected('Remote end closed connection without response'))\n"
     ]
    },
    {
     "name": "stderr",
     "output_type": "stream",
     "text": [
      " 35%|███▍      | 259/750 [33:05<1:22:46, 10.12s/it]"
     ]
    },
    {
     "name": "stdout",
     "output_type": "stream",
     "text": [
      "HTTPSConnectionPool(host='facebody.cn-shanghai.aliyuncs.com', port=443): Read timed out. (read timeout=10.0)\n"
     ]
    },
    {
     "name": "stderr",
     "output_type": "stream",
     "text": [
      " 35%|███▍      | 261/750 [33:29<1:26:24, 10.60s/it]"
     ]
    },
    {
     "name": "stdout",
     "output_type": "stream",
     "text": [
      "HTTPSConnectionPool(host='facebody.cn-shanghai.aliyuncs.com', port=443): Read timed out. (read timeout=10.0)\n"
     ]
    },
    {
     "name": "stderr",
     "output_type": "stream",
     "text": [
      " 35%|███▌      | 263/750 [33:54<1:29:24, 11.01s/it]"
     ]
    },
    {
     "name": "stdout",
     "output_type": "stream",
     "text": [
      "HTTPConnectionPool(host='viapi-customer-pop.oss-cn-shanghai.aliyuncs.com', port=80): Read timed out. (read timeout=10.0)\n"
     ]
    },
    {
     "name": "stderr",
     "output_type": "stream",
     "text": [
      " 36%|███▌      | 268/750 [34:49<1:31:20, 11.37s/it]"
     ]
    },
    {
     "name": "stdout",
     "output_type": "stream",
     "text": [
      "HTTPConnectionPool(host='viapi-customer-pop.oss-cn-shanghai.aliyuncs.com', port=80): Read timed out. (read timeout=10.0)\n"
     ]
    },
    {
     "name": "stderr",
     "output_type": "stream",
     "text": [
      " 36%|███▌      | 271/750 [35:10<1:09:01,  8.65s/it]"
     ]
    },
    {
     "name": "stdout",
     "output_type": "stream",
     "text": [
      "HTTPConnectionPool(host='viapi-customer-pop.oss-cn-shanghai.aliyuncs.com', port=80): Read timed out. (read timeout=10.0)\n"
     ]
    },
    {
     "name": "stderr",
     "output_type": "stream",
     "text": [
      " 37%|███▋      | 274/750 [35:42<1:15:16,  9.49s/it]"
     ]
    },
    {
     "name": "stdout",
     "output_type": "stream",
     "text": [
      "HTTPConnectionPool(host='viapi-customer-pop.oss-cn-shanghai.aliyuncs.com', port=80): Read timed out. (read timeout=10.0)\n"
     ]
    },
    {
     "name": "stderr",
     "output_type": "stream",
     "text": [
      " 37%|███▋      | 277/750 [36:15<1:16:49,  9.74s/it]"
     ]
    },
    {
     "name": "stdout",
     "output_type": "stream",
     "text": [
      "HTTPConnectionPool(host='viapi-customer-pop.oss-cn-shanghai.aliyuncs.com', port=80): Read timed out. (read timeout=10.0)\n"
     ]
    },
    {
     "name": "stderr",
     "output_type": "stream",
     "text": [
      " 41%|████▏     | 311/750 [40:31<52:57,  7.24s/it]  "
     ]
    },
    {
     "name": "stdout",
     "output_type": "stream",
     "text": [
      "Error: InvalidImage.NotFoundFace code: 404, 图像中没找到人脸，请检查您的图像中是否包含人脸或人脸太小 - 没有检测到人脸，可能是输入图片没有人脸、人脸太小(人脸占比应超过64*64像素)、图像中人脸质量较低或图像过度拉伸等导致。请检查是否存在人脸、人脸大小和图像人脸质量后再次尝试。 - EAS_FACE_NOT_EXIST request id: 73B4AF39-4367-5E8A-A60D-593E8559475C Response: {'RequestId': '73B4AF39-4367-5E8A-A60D-593E8559475C', 'HostId': 'facebody.cn-shanghai.aliyuncs.com', 'Code': 'InvalidImage.NotFoundFace', 'Message': '图像中没找到人脸，请检查您的图像中是否包含人脸或人脸太小 - 没有检测到人脸，可能是输入图片没有人脸、人脸太小(人脸占比应超过64*64像素)、图像中人脸质量较低或图像过度拉伸等导致。请检查是否存在人脸、人脸大小和图像人脸质量后再次尝试。 - EAS_FACE_NOT_EXIST', 'Recommend': 'https://api.aliyun.com/troubleshoot?q=InvalidImage.NotFoundFace&product=facebody&requestId=73B4AF39-4367-5E8A-A60D-593E8559475C', 'statusCode': 404}\n"
     ]
    },
    {
     "name": "stderr",
     "output_type": "stream",
     "text": [
      " 42%|████▏     | 317/750 [41:14<52:00,  7.21s/it]"
     ]
    },
    {
     "name": "stdout",
     "output_type": "stream",
     "text": [
      "Error: InvalidImage.NotFoundFace code: 404, 图像中没找到人脸，请检查您的图像中是否包含人脸或人脸太小 - 没有检测到人脸，可能是输入图片没有人脸、人脸太小(人脸占比应超过64*64像素)、图像中人脸质量较低或图像过度拉伸等导致。请检查是否存在人脸、人脸大小和图像人脸质量后再次尝试。 - EAS_FACE_NOT_EXIST request id: AED38979-5565-5565-BD68-51774E997689 Response: {'RequestId': 'AED38979-5565-5565-BD68-51774E997689', 'HostId': 'facebody.cn-shanghai.aliyuncs.com', 'Code': 'InvalidImage.NotFoundFace', 'Message': '图像中没找到人脸，请检查您的图像中是否包含人脸或人脸太小 - 没有检测到人脸，可能是输入图片没有人脸、人脸太小(人脸占比应超过64*64像素)、图像中人脸质量较低或图像过度拉伸等导致。请检查是否存在人脸、人脸大小和图像人脸质量后再次尝试。 - EAS_FACE_NOT_EXIST', 'Recommend': 'https://api.aliyun.com/troubleshoot?q=InvalidImage.NotFoundFace&product=facebody&requestId=AED38979-5565-5565-BD68-51774E997689', 'statusCode': 404}\n"
     ]
    },
    {
     "name": "stderr",
     "output_type": "stream",
     "text": [
      " 43%|████▎     | 326/750 [42:21<52:41,  7.46s/it]"
     ]
    },
    {
     "name": "stdout",
     "output_type": "stream",
     "text": [
      "Error: InvalidImage.NotFoundFace code: 404, 图像中没找到人脸，请检查您的图像中是否包含人脸或人脸太小 - 没有检测到人脸，可能是输入图片没有人脸、人脸太小(人脸占比应超过64*64像素)、图像中人脸质量较低或图像过度拉伸等导致。请检查是否存在人脸、人脸大小和图像人脸质量后再次尝试。 - EAS_FACE_NOT_EXIST request id: 4FA5FBEA-3E3B-5048-96F9-7175DAB56F95 Response: {'RequestId': '4FA5FBEA-3E3B-5048-96F9-7175DAB56F95', 'HostId': 'facebody.cn-shanghai.aliyuncs.com', 'Code': 'InvalidImage.NotFoundFace', 'Message': '图像中没找到人脸，请检查您的图像中是否包含人脸或人脸太小 - 没有检测到人脸，可能是输入图片没有人脸、人脸太小(人脸占比应超过64*64像素)、图像中人脸质量较低或图像过度拉伸等导致。请检查是否存在人脸、人脸大小和图像人脸质量后再次尝试。 - EAS_FACE_NOT_EXIST', 'Recommend': 'https://api.aliyun.com/troubleshoot?q=InvalidImage.NotFoundFace&product=facebody&requestId=4FA5FBEA-3E3B-5048-96F9-7175DAB56F95', 'statusCode': 404}\n"
     ]
    },
    {
     "name": "stderr",
     "output_type": "stream",
     "text": [
      " 45%|████▍     | 336/750 [43:35<50:11,  7.27s/it]"
     ]
    },
    {
     "name": "stdout",
     "output_type": "stream",
     "text": [
      "HTTPSConnectionPool(host='facebody.cn-shanghai.aliyuncs.com', port=443): Read timed out. (read timeout=10.0)\n"
     ]
    },
    {
     "name": "stderr",
     "output_type": "stream",
     "text": [
      " 45%|████▍     | 337/750 [43:52<1:09:28, 10.09s/it]"
     ]
    },
    {
     "name": "stdout",
     "output_type": "stream",
     "text": [
      "Error: InvalidImage.NotFoundFace code: 404, 图像中没找到人脸，请检查您的图像中是否包含人脸或人脸太小 - 没有检测到人脸，可能是输入图片没有人脸、人脸太小(人脸占比应超过64*64像素)、图像中人脸质量较低或图像过度拉伸等导致。请检查是否存在人脸、人脸大小和图像人脸质量后再次尝试。 - EAS_FACE_NOT_EXIST request id: 5230675F-E1B9-550C-93BC-E2055FBEB976 Response: {'RequestId': '5230675F-E1B9-550C-93BC-E2055FBEB976', 'HostId': 'facebody.cn-shanghai.aliyuncs.com', 'Code': 'InvalidImage.NotFoundFace', 'Message': '图像中没找到人脸，请检查您的图像中是否包含人脸或人脸太小 - 没有检测到人脸，可能是输入图片没有人脸、人脸太小(人脸占比应超过64*64像素)、图像中人脸质量较低或图像过度拉伸等导致。请检查是否存在人脸、人脸大小和图像人脸质量后再次尝试。 - EAS_FACE_NOT_EXIST', 'Recommend': 'https://api.aliyun.com/troubleshoot?q=InvalidImage.NotFoundFace&product=facebody&requestId=5230675F-E1B9-550C-93BC-E2055FBEB976', 'statusCode': 404}\n"
     ]
    },
    {
     "name": "stderr",
     "output_type": "stream",
     "text": [
      " 45%|████▌     | 341/750 [44:20<53:26,  7.84s/it]  "
     ]
    },
    {
     "name": "stdout",
     "output_type": "stream",
     "text": [
      "HTTPConnectionPool(host='viapi-customer-pop.oss-cn-shanghai.aliyuncs.com', port=80): Read timed out. (read timeout=10.0)\n"
     ]
    },
    {
     "name": "stderr",
     "output_type": "stream",
     "text": [
      " 46%|████▌     | 344/750 [44:51<59:47,  8.84s/it]  "
     ]
    },
    {
     "name": "stdout",
     "output_type": "stream",
     "text": [
      "Error: InvalidImage.NotFoundFace code: 404, 图像中没找到人脸，请检查您的图像中是否包含人脸或人脸太小 - 没有检测到人脸，可能是输入图片没有人脸、人脸太小(人脸占比应超过64*64像素)、图像中人脸质量较低或图像过度拉伸等导致。请检查是否存在人脸、人脸大小和图像人脸质量后再次尝试。 - EAS_FACE_NOT_EXIST request id: 110D5C94-120D-589D-845D-7D7A9357C6FB Response: {'RequestId': '110D5C94-120D-589D-845D-7D7A9357C6FB', 'HostId': 'facebody.cn-shanghai.aliyuncs.com', 'Code': 'InvalidImage.NotFoundFace', 'Message': '图像中没找到人脸，请检查您的图像中是否包含人脸或人脸太小 - 没有检测到人脸，可能是输入图片没有人脸、人脸太小(人脸占比应超过64*64像素)、图像中人脸质量较低或图像过度拉伸等导致。请检查是否存在人脸、人脸大小和图像人脸质量后再次尝试。 - EAS_FACE_NOT_EXIST', 'Recommend': 'https://api.aliyun.com/troubleshoot?q=InvalidImage.NotFoundFace&product=facebody&requestId=110D5C94-120D-589D-845D-7D7A9357C6FB', 'statusCode': 404}\n"
     ]
    },
    {
     "name": "stderr",
     "output_type": "stream",
     "text": [
      " 46%|████▌     | 345/750 [44:58<56:08,  8.32s/it]"
     ]
    },
    {
     "name": "stdout",
     "output_type": "stream",
     "text": [
      "HTTPConnectionPool(host='viapi-customer-pop.oss-cn-shanghai.aliyuncs.com', port=80): Read timed out. (read timeout=10.0)\n",
      "HTTPSConnectionPool(host='openplatform.aliyuncs.com', port=443): Read timed out. (read timeout=10.0)\n"
     ]
    },
    {
     "name": "stderr",
     "output_type": "stream",
     "text": [
      " 47%|████▋     | 351/750 [46:00<54:50,  8.25s/it]  "
     ]
    },
    {
     "name": "stdout",
     "output_type": "stream",
     "text": [
      "('Connection aborted.', RemoteDisconnected('Remote end closed connection without response'))\n"
     ]
    },
    {
     "name": "stderr",
     "output_type": "stream",
     "text": [
      " 47%|████▋     | 356/750 [46:37<48:32,  7.39s/it]"
     ]
    },
    {
     "name": "stdout",
     "output_type": "stream",
     "text": [
      "HTTPSConnectionPool(host='openplatform.aliyuncs.com', port=443): Read timed out. (read timeout=10.0)\n"
     ]
    },
    {
     "name": "stderr",
     "output_type": "stream",
     "text": [
      " 48%|████▊     | 361/750 [47:21<50:46,  7.83s/it]  "
     ]
    },
    {
     "name": "stdout",
     "output_type": "stream",
     "text": [
      "HTTPSConnectionPool(host='facebody.cn-shanghai.aliyuncs.com', port=443): Read timed out. (read timeout=10.0)\n"
     ]
    },
    {
     "name": "stderr",
     "output_type": "stream",
     "text": [
      " 55%|█████▍    | 412/750 [53:43<41:20,  7.34s/it]  "
     ]
    },
    {
     "name": "stdout",
     "output_type": "stream",
     "text": [
      "Error: InvalidImage.NotFoundFace code: 404, 图像中没找到人脸，请检查您的图像中是否包含人脸或人脸太小 - 没有检测到人脸，可能是输入图片没有人脸、人脸太小(人脸占比应超过64*64像素)、图像中人脸质量较低或图像过度拉伸等导致。请检查是否存在人脸、人脸大小和图像人脸质量后再次尝试。 - EAS_FACE_NOT_EXIST request id: 90740A70-03B8-58F9-B7CB-15A62DDFE47F Response: {'RequestId': '90740A70-03B8-58F9-B7CB-15A62DDFE47F', 'HostId': 'facebody.cn-shanghai.aliyuncs.com', 'Code': 'InvalidImage.NotFoundFace', 'Message': '图像中没找到人脸，请检查您的图像中是否包含人脸或人脸太小 - 没有检测到人脸，可能是输入图片没有人脸、人脸太小(人脸占比应超过64*64像素)、图像中人脸质量较低或图像过度拉伸等导致。请检查是否存在人脸、人脸大小和图像人脸质量后再次尝试。 - EAS_FACE_NOT_EXIST', 'Recommend': 'https://api.aliyun.com/troubleshoot?q=InvalidImage.NotFoundFace&product=facebody&requestId=90740A70-03B8-58F9-B7CB-15A62DDFE47F', 'statusCode': 404}\n"
     ]
    },
    {
     "name": "stderr",
     "output_type": "stream",
     "text": [
      " 56%|█████▌    | 419/750 [54:34<40:18,  7.31s/it]"
     ]
    },
    {
     "name": "stdout",
     "output_type": "stream",
     "text": [
      "HTTPConnectionPool(host='viapi-customer-pop.oss-cn-shanghai.aliyuncs.com', port=80): Read timed out. (read timeout=10.0)\n"
     ]
    },
    {
     "name": "stderr",
     "output_type": "stream",
     "text": [
      " 56%|█████▌    | 421/750 [54:58<51:26,  9.38s/it]"
     ]
    },
    {
     "name": "stdout",
     "output_type": "stream",
     "text": [
      "HTTPSConnectionPool(host='openplatform.aliyuncs.com', port=443): Read timed out. (read timeout=10.0)\n"
     ]
    },
    {
     "name": "stderr",
     "output_type": "stream",
     "text": [
      " 56%|█████▋    | 423/750 [55:22<55:42, 10.22s/it]  "
     ]
    },
    {
     "name": "stdout",
     "output_type": "stream",
     "text": [
      "HTTPConnectionPool(host='viapi-customer-pop.oss-cn-shanghai.aliyuncs.com', port=80): Read timed out. (read timeout=10.0)\n"
     ]
    },
    {
     "name": "stderr",
     "output_type": "stream",
     "text": [
      " 57%|█████▋    | 427/750 [56:01<48:34,  9.02s/it]  "
     ]
    },
    {
     "name": "stdout",
     "output_type": "stream",
     "text": [
      "HTTPConnectionPool(host='viapi-customer-pop.oss-cn-shanghai.aliyuncs.com', port=80): Read timed out. (read timeout=10.0)\n"
     ]
    },
    {
     "name": "stderr",
     "output_type": "stream",
     "text": [
      " 57%|█████▋    | 430/750 [56:32<49:32,  9.29s/it]  "
     ]
    },
    {
     "name": "stdout",
     "output_type": "stream",
     "text": [
      "HTTPSConnectionPool(host='openplatform.aliyuncs.com', port=443): Read timed out. (read timeout=10.0)\n"
     ]
    },
    {
     "name": "stderr",
     "output_type": "stream",
     "text": [
      " 58%|█████▊    | 435/750 [57:18<43:17,  8.25s/it]  "
     ]
    },
    {
     "name": "stdout",
     "output_type": "stream",
     "text": [
      "HTTPConnectionPool(host='viapi-customer-pop.oss-cn-shanghai.aliyuncs.com', port=80): Read timed out. (read timeout=10.0)\n"
     ]
    },
    {
     "name": "stderr",
     "output_type": "stream",
     "text": [
      " 67%|██████▋   | 500/750 [1:05:42<42:08, 10.11s/it]"
     ]
    },
    {
     "name": "stdout",
     "output_type": "stream",
     "text": [
      "HTTPSConnectionPool(host='openplatform.aliyuncs.com', port=443): Read timed out. (read timeout=10.0)\n"
     ]
    },
    {
     "name": "stderr",
     "output_type": "stream",
     "text": [
      " 67%|██████▋   | 505/750 [1:06:18<31:47,  7.79s/it]"
     ]
    },
    {
     "name": "stdout",
     "output_type": "stream",
     "text": [
      "HTTPSConnectionPool(host='facebody.cn-shanghai.aliyuncs.com', port=443): Read timed out. (read timeout=10.0)\n"
     ]
    },
    {
     "name": "stderr",
     "output_type": "stream",
     "text": [
      " 68%|██████▊   | 511/750 [1:07:14<31:57,  8.02s/it]"
     ]
    },
    {
     "name": "stdout",
     "output_type": "stream",
     "text": [
      "('Connection aborted.', RemoteDisconnected('Remote end closed connection without response'))\n"
     ]
    },
    {
     "name": "stderr",
     "output_type": "stream",
     "text": [
      " 68%|██████▊   | 513/750 [1:07:33<33:48,  8.56s/it]"
     ]
    },
    {
     "name": "stdout",
     "output_type": "stream",
     "text": [
      "HTTPConnectionPool(host='viapi-customer-pop.oss-cn-shanghai.aliyuncs.com', port=80): Read timed out. (read timeout=10.0)\n"
     ]
    },
    {
     "name": "stderr",
     "output_type": "stream",
     "text": [
      " 69%|██████▉   | 517/750 [1:08:11<32:56,  8.48s/it]"
     ]
    },
    {
     "name": "stdout",
     "output_type": "stream",
     "text": [
      "HTTPSConnectionPool(host='facebody.cn-shanghai.aliyuncs.com', port=443): Read timed out. (read timeout=10.0)\n"
     ]
    },
    {
     "name": "stderr",
     "output_type": "stream",
     "text": [
      " 75%|███████▌  | 564/750 [1:14:08<22:59,  7.42s/it]"
     ]
    },
    {
     "name": "stdout",
     "output_type": "stream",
     "text": [
      "Error: InvalidImage.NotFoundFace code: 404, 图像中没找到人脸，请检查您的图像中是否包含人脸或人脸太小 - 没有检测到人脸，可能是输入图片没有人脸、人脸太小(人脸占比应超过64*64像素)、图像中人脸质量较低或图像过度拉伸等导致。请检查是否存在人脸、人脸大小和图像人脸质量后再次尝试。 - EAS_FACE_NOT_EXIST request id: F39F8D81-2544-5988-ADB6-5F3D7778FFFF Response: {'RequestId': 'F39F8D81-2544-5988-ADB6-5F3D7778FFFF', 'HostId': 'facebody.cn-shanghai.aliyuncs.com', 'Code': 'InvalidImage.NotFoundFace', 'Message': '图像中没找到人脸，请检查您的图像中是否包含人脸或人脸太小 - 没有检测到人脸，可能是输入图片没有人脸、人脸太小(人脸占比应超过64*64像素)、图像中人脸质量较低或图像过度拉伸等导致。请检查是否存在人脸、人脸大小和图像人脸质量后再次尝试。 - EAS_FACE_NOT_EXIST', 'Recommend': 'https://api.aliyun.com/troubleshoot?q=InvalidImage.NotFoundFace&product=facebody&requestId=F39F8D81-2544-5988-ADB6-5F3D7778FFFF', 'statusCode': 404}\n"
     ]
    },
    {
     "name": "stderr",
     "output_type": "stream",
     "text": [
      " 77%|███████▋  | 577/750 [1:15:44<22:07,  7.67s/it]"
     ]
    },
    {
     "name": "stdout",
     "output_type": "stream",
     "text": [
      "HTTPSConnectionPool(host='facebody.cn-shanghai.aliyuncs.com', port=443): Read timed out. (read timeout=10.0)\n"
     ]
    },
    {
     "name": "stderr",
     "output_type": "stream",
     "text": [
      " 78%|███████▊  | 582/750 [1:16:31<22:52,  8.17s/it]"
     ]
    },
    {
     "name": "stdout",
     "output_type": "stream",
     "text": [
      "HTTPSConnectionPool(host='facebody.cn-shanghai.aliyuncs.com', port=443): Read timed out. (read timeout=10.0)\n"
     ]
    },
    {
     "name": "stderr",
     "output_type": "stream",
     "text": [
      " 78%|███████▊  | 588/750 [1:17:24<21:07,  7.83s/it]"
     ]
    },
    {
     "name": "stdout",
     "output_type": "stream",
     "text": [
      "('Connection aborted.', RemoteDisconnected('Remote end closed connection without response'))\n"
     ]
    },
    {
     "name": "stderr",
     "output_type": "stream",
     "text": [
      " 79%|███████▉  | 593/750 [1:18:10<24:32,  9.38s/it]"
     ]
    },
    {
     "name": "stdout",
     "output_type": "stream",
     "text": [
      "('Connection aborted.', RemoteDisconnected('Remote end closed connection without response'))\n"
     ]
    },
    {
     "name": "stderr",
     "output_type": "stream",
     "text": [
      " 80%|███████▉  | 597/750 [1:18:39<19:31,  7.66s/it]"
     ]
    },
    {
     "name": "stdout",
     "output_type": "stream",
     "text": [
      "HTTPConnectionPool(host='viapi-customer-pop.oss-cn-shanghai.aliyuncs.com', port=80): Read timed out. (read timeout=10.0)\n"
     ]
    },
    {
     "name": "stderr",
     "output_type": "stream",
     "text": [
      " 87%|████████▋ | 654/750 [1:25:55<11:35,  7.24s/it]"
     ]
    },
    {
     "name": "stdout",
     "output_type": "stream",
     "text": [
      "HTTPSConnectionPool(host='facebody.cn-shanghai.aliyuncs.com', port=443): Read timed out. (read timeout=10.0)\n"
     ]
    },
    {
     "name": "stderr",
     "output_type": "stream",
     "text": [
      " 88%|████████▊ | 658/750 [1:26:34<12:44,  8.31s/it]"
     ]
    },
    {
     "name": "stdout",
     "output_type": "stream",
     "text": [
      "Error: InvalidImage.NotFoundFace code: 404, 图像中没找到人脸，请检查您的图像中是否包含人脸或人脸太小 - 没有检测到人脸，可能是输入图片没有人脸、人脸太小(人脸占比应超过64*64像素)、图像中人脸质量较低或图像过度拉伸等导致。请检查是否存在人脸、人脸大小和图像人脸质量后再次尝试。 - EAS_FACE_NOT_EXIST request id: 033A7462-27EC-567E-A43D-4D17D62AAA0F Response: {'RequestId': '033A7462-27EC-567E-A43D-4D17D62AAA0F', 'HostId': 'facebody.cn-shanghai.aliyuncs.com', 'Code': 'InvalidImage.NotFoundFace', 'Message': '图像中没找到人脸，请检查您的图像中是否包含人脸或人脸太小 - 没有检测到人脸，可能是输入图片没有人脸、人脸太小(人脸占比应超过64*64像素)、图像中人脸质量较低或图像过度拉伸等导致。请检查是否存在人脸、人脸大小和图像人脸质量后再次尝试。 - EAS_FACE_NOT_EXIST', 'Recommend': 'https://api.aliyun.com/troubleshoot?q=InvalidImage.NotFoundFace&product=facebody&requestId=033A7462-27EC-567E-A43D-4D17D62AAA0F', 'statusCode': 404}\n"
     ]
    },
    {
     "name": "stderr",
     "output_type": "stream",
     "text": [
      " 88%|████████▊ | 662/750 [1:27:03<11:10,  7.62s/it]"
     ]
    },
    {
     "name": "stdout",
     "output_type": "stream",
     "text": [
      "('Connection aborted.', RemoteDisconnected('Remote end closed connection without response'))\n"
     ]
    },
    {
     "name": "stderr",
     "output_type": "stream",
     "text": [
      " 89%|████████▉ | 669/750 [1:27:59<09:59,  7.41s/it]"
     ]
    },
    {
     "name": "stdout",
     "output_type": "stream",
     "text": [
      "HTTPSConnectionPool(host='facebody.cn-shanghai.aliyuncs.com', port=443): Read timed out. (read timeout=10.0)\n"
     ]
    },
    {
     "name": "stderr",
     "output_type": "stream",
     "text": [
      " 90%|█████████ | 678/750 [1:29:16<08:57,  7.46s/it]"
     ]
    },
    {
     "name": "stdout",
     "output_type": "stream",
     "text": [
      "('Connection aborted.', RemoteDisconnected('Remote end closed connection without response'))\n"
     ]
    },
    {
     "name": "stderr",
     "output_type": "stream",
     "text": [
      " 93%|█████████▎| 694/750 [1:31:20<06:49,  7.31s/it]"
     ]
    },
    {
     "name": "stdout",
     "output_type": "stream",
     "text": [
      "Error: InvalidImage.NotFoundFace code: 404, 图像中没找到人脸，请检查您的图像中是否包含人脸或人脸太小 - 没有检测到人脸，可能是输入图片没有人脸、人脸太小(人脸占比应超过64*64像素)、图像中人脸质量较低或图像过度拉伸等导致。请检查是否存在人脸、人脸大小和图像人脸质量后再次尝试。 - EAS_FACE_NOT_EXIST request id: 65046E02-CC77-5BAF-8C11-9475CE3F6375 Response: {'RequestId': '65046E02-CC77-5BAF-8C11-9475CE3F6375', 'HostId': 'facebody.cn-shanghai.aliyuncs.com', 'Code': 'InvalidImage.NotFoundFace', 'Message': '图像中没找到人脸，请检查您的图像中是否包含人脸或人脸太小 - 没有检测到人脸，可能是输入图片没有人脸、人脸太小(人脸占比应超过64*64像素)、图像中人脸质量较低或图像过度拉伸等导致。请检查是否存在人脸、人脸大小和图像人脸质量后再次尝试。 - EAS_FACE_NOT_EXIST', 'Recommend': 'https://api.aliyun.com/troubleshoot?q=InvalidImage.NotFoundFace&product=facebody&requestId=65046E02-CC77-5BAF-8C11-9475CE3F6375', 'statusCode': 404}\n"
     ]
    },
    {
     "name": "stderr",
     "output_type": "stream",
     "text": [
      " 95%|█████████▌| 716/750 [1:34:04<04:12,  7.42s/it]"
     ]
    },
    {
     "name": "stdout",
     "output_type": "stream",
     "text": [
      "Error: InvalidImage.NotFoundFace code: 404, 图像中没找到人脸，请检查您的图像中是否包含人脸或人脸太小 - 没有检测到人脸，可能是输入图片没有人脸、人脸太小(人脸占比应超过64*64像素)、图像中人脸质量较低或图像过度拉伸等导致。请检查是否存在人脸、人脸大小和图像人脸质量后再次尝试。 - EAS_FACE_NOT_EXIST request id: 690C8E56-D40A-5E52-80C5-69520073234D Response: {'RequestId': '690C8E56-D40A-5E52-80C5-69520073234D', 'HostId': 'facebody.cn-shanghai.aliyuncs.com', 'Code': 'InvalidImage.NotFoundFace', 'Message': '图像中没找到人脸，请检查您的图像中是否包含人脸或人脸太小 - 没有检测到人脸，可能是输入图片没有人脸、人脸太小(人脸占比应超过64*64像素)、图像中人脸质量较低或图像过度拉伸等导致。请检查是否存在人脸、人脸大小和图像人脸质量后再次尝试。 - EAS_FACE_NOT_EXIST', 'Recommend': 'https://api.aliyun.com/troubleshoot?q=InvalidImage.NotFoundFace&product=facebody&requestId=690C8E56-D40A-5E52-80C5-69520073234D', 'statusCode': 404}\n"
     ]
    },
    {
     "name": "stderr",
     "output_type": "stream",
     "text": [
      " 98%|█████████▊| 732/750 [1:36:05<02:15,  7.53s/it]"
     ]
    },
    {
     "name": "stdout",
     "output_type": "stream",
     "text": [
      "Error: InvalidImage.NotFoundFace code: 404, 图像中没找到人脸，请检查您的图像中是否包含人脸或人脸太小 - 没有检测到人脸，可能是输入图片没有人脸、人脸太小(人脸占比应超过64*64像素)、图像中人脸质量较低或图像过度拉伸等导致。请检查是否存在人脸、人脸大小和图像人脸质量后再次尝试。 - EAS_FACE_NOT_EXIST request id: 13803C24-5DE3-57E7-AF99-EA7C0411BFBF Response: {'RequestId': '13803C24-5DE3-57E7-AF99-EA7C0411BFBF', 'HostId': 'facebody.cn-shanghai.aliyuncs.com', 'Code': 'InvalidImage.NotFoundFace', 'Message': '图像中没找到人脸，请检查您的图像中是否包含人脸或人脸太小 - 没有检测到人脸，可能是输入图片没有人脸、人脸太小(人脸占比应超过64*64像素)、图像中人脸质量较低或图像过度拉伸等导致。请检查是否存在人脸、人脸大小和图像人脸质量后再次尝试。 - EAS_FACE_NOT_EXIST', 'Recommend': 'https://api.aliyun.com/troubleshoot?q=InvalidImage.NotFoundFace&product=facebody&requestId=13803C24-5DE3-57E7-AF99-EA7C0411BFBF', 'statusCode': 404}\n"
     ]
    },
    {
     "name": "stderr",
     "output_type": "stream",
     "text": [
      " 98%|█████████▊| 733/750 [1:36:13<02:13,  7.87s/it]"
     ]
    },
    {
     "name": "stdout",
     "output_type": "stream",
     "text": [
      "HTTPSConnectionPool(host='facebody.cn-shanghai.aliyuncs.com', port=443): Read timed out. (read timeout=10.0)\n"
     ]
    },
    {
     "name": "stderr",
     "output_type": "stream",
     "text": [
      " 98%|█████████▊| 735/750 [1:36:38<02:24,  9.64s/it]"
     ]
    },
    {
     "name": "stdout",
     "output_type": "stream",
     "text": [
      "('Connection aborted.', ConnectionResetError(10054, '远程主机强迫关闭了一个现有的连接。', None, 10054, None))\n"
     ]
    },
    {
     "name": "stderr",
     "output_type": "stream",
     "text": [
      " 99%|█████████▊| 740/750 [1:37:18<01:18,  7.85s/it]"
     ]
    },
    {
     "name": "stdout",
     "output_type": "stream",
     "text": [
      "HTTPSConnectionPool(host='openplatform.aliyuncs.com', port=443): Read timed out. (read timeout=10.0)\n"
     ]
    },
    {
     "name": "stderr",
     "output_type": "stream",
     "text": [
      " 99%|█████████▉| 744/750 [1:38:05<01:07, 11.21s/it]"
     ]
    },
    {
     "name": "stdout",
     "output_type": "stream",
     "text": [
      "HTTPSConnectionPool(host='openplatform.aliyuncs.com', port=443): Read timed out. (read timeout=10.0)\n"
     ]
    },
    {
     "name": "stderr",
     "output_type": "stream",
     "text": [
      "100%|█████████▉| 748/750 [1:38:35<00:16,  8.31s/it]"
     ]
    },
    {
     "name": "stdout",
     "output_type": "stream",
     "text": [
      "HTTPSConnectionPool(host='facebody.cn-shanghai.aliyuncs.com', port=443): Read timed out. (read timeout=10.0)\n"
     ]
    },
    {
     "name": "stderr",
     "output_type": "stream",
     "text": [
      "100%|██████████| 750/750 [1:38:59<00:00,  7.92s/it]"
     ]
    },
    {
     "name": "stdout",
     "output_type": "stream",
     "text": [
      "62.65134572926595\n",
      "0.7191919191919192\n",
      "0.40185185185185185\n",
      "0.10858585858585859\n"
     ]
    },
    {
     "name": "stderr",
     "output_type": "stream",
     "text": [
      "\n"
     ]
    },
    {
     "data": {
      "text/plain": [
       "'\\nlfw:\\n同人 TAR\\n84.8268018281406\\n0.008348639171814994\\n0.01302387710803139\\n0.03623309400567708\\n非同人 FAR\\n4.331548709577778\\n1.0\\n1.0\\n1.0 \\n攻击\\n3 650 8白盒:\\n59.346987898603686\\n0.6284902190269186\\n0.30630329376358467\\n0.06554087945159673\\n0.9401924349466959\\n\\n4 650 8白盒:\\n66.44565342554391\\n0.8005345806882727\\n0.5325760106916138\\n0.1944537253591714\\n0.9092922599315644\\n\\n\\nceleba-hq:\\n攻击\\n3 700:\\n61.69760178467954\\n0.6906086663294554\\n0.40870005058168946\\n0.13791940650817738\\n0.953\\n4 650 8白盒无SE:\\n67.93522777581455\\n0.8257575757575758\\n0.6073232323232324\\n0.2967171717171717\\n0.9243021523952484\\n4 650 8白盒有SE\\n67.20090152697185\\n0.8108448928121059\\n0.5687263556116016\\n0.24968474148802017\\n0.926848818063736\\n'"
      ]
     },
     "execution_count": 5,
     "metadata": {},
     "output_type": "execute_result"
    }
   ],
   "execution_count": 5
  },
  {
   "cell_type": "code",
   "execution_count": 1,
   "id": "5a596af3effa8649",
   "metadata": {
    "ExecuteTime": {
     "end_time": "2024-06-25T04:26:05.448280Z",
     "start_time": "2024-06-25T02:37:32.224821Z"
    }
   },
   "outputs": [
    {
     "name": "stdout",
     "output_type": "stream",
     "text": [
      "------------------------加载测试集-------------------------\n",
      "9164 images of 1680 classes loaded\n",
      "-----------------------启动分批队列------------------------\n",
      "-----------------------加载生成器------------------------\n",
      "-----------------------开始api测试------------------------\n"
     ]
    },
    {
     "name": "stderr",
     "output_type": "stream",
     "text": [
      "  1%|          | 7/750 [00:53<1:33:45,  7.57s/it]"
     ]
    },
    {
     "name": "stdout",
     "output_type": "stream",
     "text": [
      "Error: InvalidImage.NotFoundFace code: 404, 图像中没找到人脸，请检查您的图像中是否包含人脸或人脸太小 - 没有检测到人脸，可能是输入图片没有人脸、人脸太小(人脸占比应超过64*64像素)、图像中人脸质量较低或图像过度拉伸等导致。请检查是否存在人脸、人脸大小和图像人脸质量后再次尝试。 - EAS_FACE_NOT_EXIST request id: 87F6AB14-DD35-5D73-AAF3-762F0D50E24B Response: {'RequestId': '87F6AB14-DD35-5D73-AAF3-762F0D50E24B', 'HostId': 'facebody.cn-shanghai.aliyuncs.com', 'Code': 'InvalidImage.NotFoundFace', 'Message': '图像中没找到人脸，请检查您的图像中是否包含人脸或人脸太小 - 没有检测到人脸，可能是输入图片没有人脸、人脸太小(人脸占比应超过64*64像素)、图像中人脸质量较低或图像过度拉伸等导致。请检查是否存在人脸、人脸大小和图像人脸质量后再次尝试。 - EAS_FACE_NOT_EXIST', 'Recommend': 'https://api.aliyun.com/troubleshoot?q=InvalidImage.NotFoundFace&product=facebody&requestId=87F6AB14-DD35-5D73-AAF3-762F0D50E24B', 'statusCode': 404}\n",
      "./test/target.png  和  ./test/source.png\n"
     ]
    },
    {
     "name": "stderr",
     "output_type": "stream",
     "text": [
      "  7%|▋         | 56/750 [07:02<1:25:06,  7.36s/it]"
     ]
    },
    {
     "name": "stdout",
     "output_type": "stream",
     "text": [
      "Error: InvalidImage.NotFoundFace code: 404, 图像中没找到人脸，请检查您的图像中是否包含人脸或人脸太小 - 没有检测到人脸，可能是输入图片没有人脸、人脸太小(人脸占比应超过64*64像素)、图像中人脸质量较低或图像过度拉伸等导致。请检查是否存在人脸、人脸大小和图像人脸质量后再次尝试。 - EAS_FACE_NOT_EXIST request id: CFABBCCD-1B2F-5460-91E1-993DC528CE51 Response: {'RequestId': 'CFABBCCD-1B2F-5460-91E1-993DC528CE51', 'HostId': 'facebody.cn-shanghai.aliyuncs.com', 'Code': 'InvalidImage.NotFoundFace', 'Message': '图像中没找到人脸，请检查您的图像中是否包含人脸或人脸太小 - 没有检测到人脸，可能是输入图片没有人脸、人脸太小(人脸占比应超过64*64像素)、图像中人脸质量较低或图像过度拉伸等导致。请检查是否存在人脸、人脸大小和图像人脸质量后再次尝试。 - EAS_FACE_NOT_EXIST', 'Recommend': 'https://api.aliyun.com/troubleshoot?q=InvalidImage.NotFoundFace&product=facebody&requestId=CFABBCCD-1B2F-5460-91E1-993DC528CE51', 'statusCode': 404}\n",
      "./test/target.png  和  ./test/source.png\n"
     ]
    },
    {
     "name": "stderr",
     "output_type": "stream",
     "text": [
      " 20%|█▉        | 147/750 [18:24<1:15:48,  7.54s/it]"
     ]
    },
    {
     "name": "stdout",
     "output_type": "stream",
     "text": [
      "Error: InvalidImage.NotFoundFace code: 404, 图像中没找到人脸，请检查您的图像中是否包含人脸或人脸太小 - 没有检测到人脸，可能是输入图片没有人脸、人脸太小(人脸占比应超过64*64像素)、图像中人脸质量较低或图像过度拉伸等导致。请检查是否存在人脸、人脸大小和图像人脸质量后再次尝试。 - EAS_FACE_NOT_EXIST request id: 0E5FAF33-288B-560F-A0DE-73AD7AD6009D Response: {'RequestId': '0E5FAF33-288B-560F-A0DE-73AD7AD6009D', 'HostId': 'facebody.cn-shanghai.aliyuncs.com', 'Code': 'InvalidImage.NotFoundFace', 'Message': '图像中没找到人脸，请检查您的图像中是否包含人脸或人脸太小 - 没有检测到人脸，可能是输入图片没有人脸、人脸太小(人脸占比应超过64*64像素)、图像中人脸质量较低或图像过度拉伸等导致。请检查是否存在人脸、人脸大小和图像人脸质量后再次尝试。 - EAS_FACE_NOT_EXIST', 'Recommend': 'https://api.aliyun.com/troubleshoot?q=InvalidImage.NotFoundFace&product=facebody&requestId=0E5FAF33-288B-560F-A0DE-73AD7AD6009D', 'statusCode': 404}\n",
      "./test/target.png  和  ./test/source.png\n"
     ]
    },
    {
     "name": "stderr",
     "output_type": "stream",
     "text": [
      " 26%|██▌       | 194/750 [24:18<1:10:53,  7.65s/it]"
     ]
    },
    {
     "name": "stdout",
     "output_type": "stream",
     "text": [
      "Error: InvalidImage.NotFoundFace code: 404, 图像中没找到人脸，请检查您的图像中是否包含人脸或人脸太小 - 没有检测到人脸，可能是输入图片没有人脸、人脸太小(人脸占比应超过64*64像素)、图像中人脸质量较低或图像过度拉伸等导致。请检查是否存在人脸、人脸大小和图像人脸质量后再次尝试。 - EAS_FACE_NOT_EXIST request id: 9C890BBE-2682-5052-B011-67C4991910B9 Response: {'RequestId': '9C890BBE-2682-5052-B011-67C4991910B9', 'HostId': 'facebody.cn-shanghai.aliyuncs.com', 'Code': 'InvalidImage.NotFoundFace', 'Message': '图像中没找到人脸，请检查您的图像中是否包含人脸或人脸太小 - 没有检测到人脸，可能是输入图片没有人脸、人脸太小(人脸占比应超过64*64像素)、图像中人脸质量较低或图像过度拉伸等导致。请检查是否存在人脸、人脸大小和图像人脸质量后再次尝试。 - EAS_FACE_NOT_EXIST', 'Recommend': 'https://api.aliyun.com/troubleshoot?q=InvalidImage.NotFoundFace&product=facebody&requestId=9C890BBE-2682-5052-B011-67C4991910B9', 'statusCode': 404}\n",
      "./test/target.png  和  ./test/source.png\n"
     ]
    },
    {
     "name": "stderr",
     "output_type": "stream",
     "text": [
      " 27%|██▋       | 203/750 [25:27<1:09:36,  7.64s/it]"
     ]
    },
    {
     "name": "stdout",
     "output_type": "stream",
     "text": [
      "Error: InvalidImage.NotFoundFace code: 404, 图像中没找到人脸，请检查您的图像中是否包含人脸或人脸太小 - 没有检测到人脸，可能是输入图片没有人脸、人脸太小(人脸占比应超过64*64像素)、图像中人脸质量较低或图像过度拉伸等导致。请检查是否存在人脸、人脸大小和图像人脸质量后再次尝试。 - EAS_FACE_NOT_EXIST request id: B73576FD-C4D9-5225-8868-7115B14B890F Response: {'RequestId': 'B73576FD-C4D9-5225-8868-7115B14B890F', 'HostId': 'facebody.cn-shanghai.aliyuncs.com', 'Code': 'InvalidImage.NotFoundFace', 'Message': '图像中没找到人脸，请检查您的图像中是否包含人脸或人脸太小 - 没有检测到人脸，可能是输入图片没有人脸、人脸太小(人脸占比应超过64*64像素)、图像中人脸质量较低或图像过度拉伸等导致。请检查是否存在人脸、人脸大小和图像人脸质量后再次尝试。 - EAS_FACE_NOT_EXIST', 'Recommend': 'https://api.aliyun.com/troubleshoot?q=InvalidImage.NotFoundFace&product=facebody&requestId=B73576FD-C4D9-5225-8868-7115B14B890F', 'statusCode': 404}\n",
      "./test/target.png  和  ./test/source.png\n"
     ]
    },
    {
     "name": "stderr",
     "output_type": "stream",
     "text": [
      " 32%|███▏      | 237/750 [29:48<1:07:15,  7.87s/it]"
     ]
    },
    {
     "name": "stdout",
     "output_type": "stream",
     "text": [
      "Error: InvalidImage.NotFoundFace code: 404, 图像中没找到人脸，请检查您的图像中是否包含人脸或人脸太小 - 没有检测到人脸，可能是输入图片没有人脸、人脸太小(人脸占比应超过64*64像素)、图像中人脸质量较低或图像过度拉伸等导致。请检查是否存在人脸、人脸大小和图像人脸质量后再次尝试。 - EAS_FACE_NOT_EXIST request id: 2CF135E0-A14D-565F-AA47-B932B87A6993 Response: {'RequestId': '2CF135E0-A14D-565F-AA47-B932B87A6993', 'HostId': 'facebody.cn-shanghai.aliyuncs.com', 'Code': 'InvalidImage.NotFoundFace', 'Message': '图像中没找到人脸，请检查您的图像中是否包含人脸或人脸太小 - 没有检测到人脸，可能是输入图片没有人脸、人脸太小(人脸占比应超过64*64像素)、图像中人脸质量较低或图像过度拉伸等导致。请检查是否存在人脸、人脸大小和图像人脸质量后再次尝试。 - EAS_FACE_NOT_EXIST', 'Recommend': 'https://api.aliyun.com/troubleshoot?q=InvalidImage.NotFoundFace&product=facebody&requestId=2CF135E0-A14D-565F-AA47-B932B87A6993', 'statusCode': 404}\n",
      "./test/target.png  和  ./test/source.png\n"
     ]
    },
    {
     "name": "stderr",
     "output_type": "stream",
     "text": [
      " 48%|████▊     | 363/750 [45:22<48:06,  7.46s/it]  "
     ]
    },
    {
     "name": "stdout",
     "output_type": "stream",
     "text": [
      "Error: InvalidImage.NotFoundFace code: 404, 图像中没找到人脸，请检查您的图像中是否包含人脸或人脸太小 - 没有检测到人脸，可能是输入图片没有人脸、人脸太小(人脸占比应超过64*64像素)、图像中人脸质量较低或图像过度拉伸等导致。请检查是否存在人脸、人脸大小和图像人脸质量后再次尝试。 - EAS_FACE_NOT_EXIST request id: 1A7B339D-2847-505F-807A-FC3ED8623071 Response: {'RequestId': '1A7B339D-2847-505F-807A-FC3ED8623071', 'HostId': 'facebody.cn-shanghai.aliyuncs.com', 'Code': 'InvalidImage.NotFoundFace', 'Message': '图像中没找到人脸，请检查您的图像中是否包含人脸或人脸太小 - 没有检测到人脸，可能是输入图片没有人脸、人脸太小(人脸占比应超过64*64像素)、图像中人脸质量较低或图像过度拉伸等导致。请检查是否存在人脸、人脸大小和图像人脸质量后再次尝试。 - EAS_FACE_NOT_EXIST', 'Recommend': 'https://api.aliyun.com/troubleshoot?q=InvalidImage.NotFoundFace&product=facebody&requestId=1A7B339D-2847-505F-807A-FC3ED8623071', 'statusCode': 404}\n",
      "./test/target.png  和  ./test/source.png\n"
     ]
    },
    {
     "name": "stderr",
     "output_type": "stream",
     "text": [
      " 53%|█████▎    | 399/750 [49:50<50:35,  8.65s/it]"
     ]
    },
    {
     "name": "stdout",
     "output_type": "stream",
     "text": [
      "Error: InternalError.Timeout code: 500, 算法服务报错，请稍后重试 request id: 2DF8BFC7-CF64-52F5-90FF-5337FE7791BD Response: {'RequestId': '2DF8BFC7-CF64-52F5-90FF-5337FE7791BD', 'HostId': 'facebody.cn-shanghai.aliyuncs.com', 'Code': 'InternalError.Timeout', 'Message': '算法服务报错，请稍后重试', 'Recommend': 'https://api.aliyun.com/troubleshoot?q=InternalError.Timeout&product=facebody&requestId=2DF8BFC7-CF64-52F5-90FF-5337FE7791BD', 'statusCode': 500}\n",
      "./test/target.png  和  ./test/source.png\n"
     ]
    },
    {
     "name": "stderr",
     "output_type": "stream",
     "text": [
      " 68%|██████▊   | 512/750 [1:07:20<54:20, 13.70s/it]  "
     ]
    },
    {
     "name": "stdout",
     "output_type": "stream",
     "text": [
      "Error: InvalidImage.NotFoundFace code: 404, 图像中没找到人脸，请检查您的图像中是否包含人脸或人脸太小 - 没有检测到人脸，可能是输入图片没有人脸、人脸太小(人脸占比应超过64*64像素)、图像中人脸质量较低或图像过度拉伸等导致。请检查是否存在人脸、人脸大小和图像人脸质量后再次尝试。 - EAS_FACE_NOT_EXIST request id: 600E972F-6075-5118-8FA0-9C3C19AFCFBB Response: {'RequestId': '600E972F-6075-5118-8FA0-9C3C19AFCFBB', 'HostId': 'facebody.cn-shanghai.aliyuncs.com', 'Code': 'InvalidImage.NotFoundFace', 'Message': '图像中没找到人脸，请检查您的图像中是否包含人脸或人脸太小 - 没有检测到人脸，可能是输入图片没有人脸、人脸太小(人脸占比应超过64*64像素)、图像中人脸质量较低或图像过度拉伸等导致。请检查是否存在人脸、人脸大小和图像人脸质量后再次尝试。 - EAS_FACE_NOT_EXIST', 'Recommend': 'https://api.aliyun.com/troubleshoot?q=InvalidImage.NotFoundFace&product=facebody&requestId=600E972F-6075-5118-8FA0-9C3C19AFCFBB', 'statusCode': 404}\n",
      "./test/target.png  和  ./test/source.png\n"
     ]
    },
    {
     "name": "stderr",
     "output_type": "stream",
     "text": [
      " 69%|██████▉   | 519/750 [1:08:14<30:48,  8.00s/it]"
     ]
    },
    {
     "name": "stdout",
     "output_type": "stream",
     "text": [
      "Error: InvalidImage.NotFoundFace code: 404, 图像中没找到人脸，请检查您的图像中是否包含人脸或人脸太小 - 没有检测到人脸，可能是输入图片没有人脸、人脸太小(人脸占比应超过64*64像素)、图像中人脸质量较低或图像过度拉伸等导致。请检查是否存在人脸、人脸大小和图像人脸质量后再次尝试。 - EAS_FACE_NOT_EXIST request id: 511F997C-FAE8-52CF-8B63-9E2D12C41FFE Response: {'RequestId': '511F997C-FAE8-52CF-8B63-9E2D12C41FFE', 'HostId': 'facebody.cn-shanghai.aliyuncs.com', 'Code': 'InvalidImage.NotFoundFace', 'Message': '图像中没找到人脸，请检查您的图像中是否包含人脸或人脸太小 - 没有检测到人脸，可能是输入图片没有人脸、人脸太小(人脸占比应超过64*64像素)、图像中人脸质量较低或图像过度拉伸等导致。请检查是否存在人脸、人脸大小和图像人脸质量后再次尝试。 - EAS_FACE_NOT_EXIST', 'Recommend': 'https://api.aliyun.com/troubleshoot?q=InvalidImage.NotFoundFace&product=facebody&requestId=511F997C-FAE8-52CF-8B63-9E2D12C41FFE', 'statusCode': 404}\n",
      "./test/target.png  和  ./test/source.png\n"
     ]
    },
    {
     "name": "stderr",
     "output_type": "stream",
     "text": [
      " 70%|███████   | 528/750 [1:09:21<28:10,  7.61s/it]"
     ]
    },
    {
     "name": "stdout",
     "output_type": "stream",
     "text": [
      "Error: InvalidImage.NotFoundFace code: 404, 图像中没找到人脸，请检查您的图像中是否包含人脸或人脸太小 - 没有检测到人脸，可能是输入图片没有人脸、人脸太小(人脸占比应超过64*64像素)、图像中人脸质量较低或图像过度拉伸等导致。请检查是否存在人脸、人脸大小和图像人脸质量后再次尝试。 - EAS_FACE_NOT_EXIST request id: 59ED9824-9F72-532F-9658-C67C3AFB425B Response: {'RequestId': '59ED9824-9F72-532F-9658-C67C3AFB425B', 'HostId': 'facebody.cn-shanghai.aliyuncs.com', 'Code': 'InvalidImage.NotFoundFace', 'Message': '图像中没找到人脸，请检查您的图像中是否包含人脸或人脸太小 - 没有检测到人脸，可能是输入图片没有人脸、人脸太小(人脸占比应超过64*64像素)、图像中人脸质量较低或图像过度拉伸等导致。请检查是否存在人脸、人脸大小和图像人脸质量后再次尝试。 - EAS_FACE_NOT_EXIST', 'Recommend': 'https://api.aliyun.com/troubleshoot?q=InvalidImage.NotFoundFace&product=facebody&requestId=59ED9824-9F72-532F-9658-C67C3AFB425B', 'statusCode': 404}\n",
      "./test/target.png  和  ./test/source.png\n"
     ]
    },
    {
     "name": "stderr",
     "output_type": "stream",
     "text": [
      " 72%|███████▏  | 541/750 [1:12:45<52:40, 15.12s/it]  "
     ]
    },
    {
     "name": "stdout",
     "output_type": "stream",
     "text": [
      "Error: InvalidImage.NotFoundFace code: 404, 图像中没找到人脸，请检查您的图像中是否包含人脸或人脸太小 - 没有检测到人脸，可能是输入图片没有人脸、人脸太小(人脸占比应超过64*64像素)、图像中人脸质量较低或图像过度拉伸等导致。请检查是否存在人脸、人脸大小和图像人脸质量后再次尝试。 - EAS_FACE_NOT_EXIST request id: E6E3200C-61A7-5D0B-8258-4FDF0D8E460A Response: {'RequestId': 'E6E3200C-61A7-5D0B-8258-4FDF0D8E460A', 'HostId': 'facebody.cn-shanghai.aliyuncs.com', 'Code': 'InvalidImage.NotFoundFace', 'Message': '图像中没找到人脸，请检查您的图像中是否包含人脸或人脸太小 - 没有检测到人脸，可能是输入图片没有人脸、人脸太小(人脸占比应超过64*64像素)、图像中人脸质量较低或图像过度拉伸等导致。请检查是否存在人脸、人脸大小和图像人脸质量后再次尝试。 - EAS_FACE_NOT_EXIST', 'Recommend': 'https://api.aliyun.com/troubleshoot?q=InvalidImage.NotFoundFace&product=facebody&requestId=E6E3200C-61A7-5D0B-8258-4FDF0D8E460A', 'statusCode': 404}\n",
      "./test/target.png  和  ./test/source.png\n"
     ]
    },
    {
     "name": "stderr",
     "output_type": "stream",
     "text": [
      " 96%|█████████▌| 717/750 [1:43:57<03:55,  7.13s/it]  "
     ]
    },
    {
     "name": "stdout",
     "output_type": "stream",
     "text": [
      "Error: InvalidImage.NotFoundFace code: 404, 图像中没找到人脸，请检查您的图像中是否包含人脸或人脸太小 - 没有检测到人脸，可能是输入图片没有人脸、人脸太小(人脸占比应超过64*64像素)、图像中人脸质量较低或图像过度拉伸等导致。请检查是否存在人脸、人脸大小和图像人脸质量后再次尝试。 - EAS_FACE_NOT_EXIST request id: 46D62C30-0B28-5043-A4AB-125D2B1A96B7 Response: {'RequestId': '46D62C30-0B28-5043-A4AB-125D2B1A96B7', 'HostId': 'facebody.cn-shanghai.aliyuncs.com', 'Code': 'InvalidImage.NotFoundFace', 'Message': '图像中没找到人脸，请检查您的图像中是否包含人脸或人脸太小 - 没有检测到人脸，可能是输入图片没有人脸、人脸太小(人脸占比应超过64*64像素)、图像中人脸质量较低或图像过度拉伸等导致。请检查是否存在人脸、人脸大小和图像人脸质量后再次尝试。 - EAS_FACE_NOT_EXIST', 'Recommend': 'https://api.aliyun.com/troubleshoot?q=InvalidImage.NotFoundFace&product=facebody&requestId=46D62C30-0B28-5043-A4AB-125D2B1A96B7', 'statusCode': 404}\n",
      "./test/target.png  和  ./test/source.png\n"
     ]
    },
    {
     "name": "stderr",
     "output_type": "stream",
     "text": [
      "100%|██████████| 750/750 [1:47:55<00:00,  8.63s/it]"
     ]
    },
    {
     "name": "stdout",
     "output_type": "stream",
     "text": [
      "4.5995807754643065\n",
      "0.9996659428762318\n",
      "1.0\n",
      "1.0\n"
     ]
    },
    {
     "name": "stderr",
     "output_type": "stream",
     "text": [
      "\n"
     ]
    }
   ],
   "source": [
    "# calculate FAR\n",
    "import numpy as np\n",
    "import torch\n",
    "import torchvision\n",
    "from tqdm import tqdm\n",
    "from official_api.aliyun import face_compare\n",
    "\n",
    "from utils.dataset import Dataset\n",
    "\n",
    "print(\"-----------------------load test Dataset-------------------------\")\n",
    "test_set = Dataset(\"D:/datasets/lfw/lfw-aligned-112x112/\", \"target\")\n",
    "print(\"-----------------------start batch queue------------------------\")\n",
    "batch_size = 8\n",
    "test_set.start_batch_queue(\n",
    "    batch_size=batch_size,\n",
    "    batch_format=\"random_samples\",\n",
    "    transforms=torchvision.transforms.Compose([\n",
    "        torchvision.transforms.Resize((112,112)),  # 调整图片大小\n",
    "        torchvision.transforms.ToTensor(),  # 图片转为Tensor [0,1]\n",
    "        torchvision.transforms.Normalize(mean=[0.5, 0.5, 0.5], std=[0.5, 0.5, 0.5]),  # 归一化\n",
    "    ]),\n",
    "    num_threads=3,\n",
    "    untarget_same=False\n",
    ")\n",
    "\n",
    "print(\"--------------------start api evaluation---------------------\")\n",
    "with torch.no_grad():\n",
    "    epoch = 750\n",
    "    before = []\n",
    "    x=0\n",
    "    for i in tqdm(range(0, epoch), total=epoch):\n",
    "        batch = test_set.pop_batch_queue()\n",
    "        source_faces = batch['sources'].cuda()\n",
    "        target_faces = batch['targets'].cuda()\n",
    "        for j in range(0, batch_size):\n",
    "            torchvision.utils.save_image([source_faces[j] * 0.5 + 0.5], './test/source.png', nrow=1)\n",
    "            torchvision.utils.save_image([target_faces[j] * 0.5 + 0.5], './test/target.png', nrow=1)\n",
    "            res = face_compare(face1_path='./test/target.png', face2_path='./test/source.png')\n",
    "            if res is None:\n",
    "                x = x+1\n",
    "                torchvision.utils.save_image([source_faces[j] * 0.5 + 0.5], './wrong/source{}_{}.png'.format(x, batch['sources_name'][j]), nrow=1)\n",
    "                torchvision.utils.save_image([target_faces[j] * 0.5 + 0.5], './wrong/target{}_{}.png'.format(x, batch['targets_name'][j]), nrow=1)\n",
    "            if res is not None:\n",
    "                before.append(res)\n",
    "    print(np.mean(before))\n",
    "    before = np.array(before)\n",
    "    print(np.sum(before < 61) / len(before))\n",
    "    print(np.sum(before < 69) / len(before))\n",
    "    print(np.sum(before < 75) / len(before))"
   ]
  },
  {
   "cell_type": "code",
   "execution_count": 2,
   "id": "6a048aeffbc6a5b0",
   "metadata": {
    "ExecuteTime": {
     "end_time": "2024-06-25T06:22:34.590350Z",
     "start_time": "2024-06-25T04:50:29.980852Z"
    },
    "collapsed": false,
    "jupyter": {
     "outputs_hidden": false
    }
   },
   "outputs": [
    {
     "name": "stdout",
     "output_type": "stream",
     "text": [
      "------------------------加载测试集-------------------------\n",
      "9164 images of 1680 classes loaded\n",
      "-----------------------启动分批队列------------------------\n",
      "-----------------------开始api测试------------------------\n"
     ]
    },
    {
     "name": "stderr",
     "output_type": "stream",
     "text": [
      "  6%|▌         | 44/750 [05:21<1:24:09,  7.15s/it]"
     ]
    },
    {
     "name": "stdout",
     "output_type": "stream",
     "text": [
      "Error: InvalidImage.NotFoundFace code: 404, 图像中没找到人脸，请检查您的图像中是否包含人脸或人脸太小 - 没有检测到人脸，可能是输入图片没有人脸、人脸太小(人脸占比应超过64*64像素)、图像中人脸质量较低或图像过度拉伸等导致。请检查是否存在人脸、人脸大小和图像人脸质量后再次尝试。 - EAS_FACE_NOT_EXIST request id: 4F72C68B-23D9-52A5-90EB-FB001220DC7D Response: {'RequestId': '4F72C68B-23D9-52A5-90EB-FB001220DC7D', 'HostId': 'facebody.cn-shanghai.aliyuncs.com', 'Code': 'InvalidImage.NotFoundFace', 'Message': '图像中没找到人脸，请检查您的图像中是否包含人脸或人脸太小 - 没有检测到人脸，可能是输入图片没有人脸、人脸太小(人脸占比应超过64*64像素)、图像中人脸质量较低或图像过度拉伸等导致。请检查是否存在人脸、人脸大小和图像人脸质量后再次尝试。 - EAS_FACE_NOT_EXIST', 'Recommend': 'https://api.aliyun.com/troubleshoot?q=InvalidImage.NotFoundFace&product=facebody&requestId=4F72C68B-23D9-52A5-90EB-FB001220DC7D', 'statusCode': 404}\n",
      "./test/target.png  和  ./test/source.png\n"
     ]
    },
    {
     "name": "stderr",
     "output_type": "stream",
     "text": [
      "  7%|▋         | 51/750 [06:13<1:28:41,  7.61s/it]"
     ]
    },
    {
     "name": "stdout",
     "output_type": "stream",
     "text": [
      "Error: InvalidImage.NotFoundFace code: 404, 图像中没找到人脸，请检查您的图像中是否包含人脸或人脸太小 - 没有检测到人脸，可能是输入图片没有人脸、人脸太小(人脸占比应超过64*64像素)、图像中人脸质量较低或图像过度拉伸等导致。请检查是否存在人脸、人脸大小和图像人脸质量后再次尝试。 - EAS_FACE_NOT_EXIST request id: 9D1483AB-1578-57E0-A388-60421E499217 Response: {'RequestId': '9D1483AB-1578-57E0-A388-60421E499217', 'HostId': 'facebody.cn-shanghai.aliyuncs.com', 'Code': 'InvalidImage.NotFoundFace', 'Message': '图像中没找到人脸，请检查您的图像中是否包含人脸或人脸太小 - 没有检测到人脸，可能是输入图片没有人脸、人脸太小(人脸占比应超过64*64像素)、图像中人脸质量较低或图像过度拉伸等导致。请检查是否存在人脸、人脸大小和图像人脸质量后再次尝试。 - EAS_FACE_NOT_EXIST', 'Recommend': 'https://api.aliyun.com/troubleshoot?q=InvalidImage.NotFoundFace&product=facebody&requestId=9D1483AB-1578-57E0-A388-60421E499217', 'statusCode': 404}\n",
      "./test/target.png  和  ./test/source.png\n"
     ]
    },
    {
     "name": "stderr",
     "output_type": "stream",
     "text": [
      " 27%|██▋       | 203/750 [24:52<1:06:13,  7.26s/it]"
     ]
    },
    {
     "name": "stdout",
     "output_type": "stream",
     "text": [
      "Error: InvalidImage.NotFoundFace code: 404, 图像中没找到人脸，请检查您的图像中是否包含人脸或人脸太小 - 没有检测到人脸，可能是输入图片没有人脸、人脸太小(人脸占比应超过64*64像素)、图像中人脸质量较低或图像过度拉伸等导致。请检查是否存在人脸、人脸大小和图像人脸质量后再次尝试。 - EAS_FACE_NOT_EXIST request id: 68F2388E-BFBC-5489-BF64-A8220272BAE3 Response: {'RequestId': '68F2388E-BFBC-5489-BF64-A8220272BAE3', 'HostId': 'facebody.cn-shanghai.aliyuncs.com', 'Code': 'InvalidImage.NotFoundFace', 'Message': '图像中没找到人脸，请检查您的图像中是否包含人脸或人脸太小 - 没有检测到人脸，可能是输入图片没有人脸、人脸太小(人脸占比应超过64*64像素)、图像中人脸质量较低或图像过度拉伸等导致。请检查是否存在人脸、人脸大小和图像人脸质量后再次尝试。 - EAS_FACE_NOT_EXIST', 'Recommend': 'https://api.aliyun.com/troubleshoot?q=InvalidImage.NotFoundFace&product=facebody&requestId=68F2388E-BFBC-5489-BF64-A8220272BAE3', 'statusCode': 404}\n",
      "./test/target.png  和  ./test/source.png\n"
     ]
    },
    {
     "name": "stderr",
     "output_type": "stream",
     "text": [
      " 36%|███▌      | 268/750 [32:45<58:00,  7.22s/it]  "
     ]
    },
    {
     "name": "stdout",
     "output_type": "stream",
     "text": [
      "Error: InvalidImage.NotFoundFace code: 404, 图像中没找到人脸，请检查您的图像中是否包含人脸或人脸太小 - 没有检测到人脸，可能是输入图片没有人脸、人脸太小(人脸占比应超过64*64像素)、图像中人脸质量较低或图像过度拉伸等导致。请检查是否存在人脸、人脸大小和图像人脸质量后再次尝试。 - EAS_FACE_NOT_EXIST request id: D6015795-2F70-5798-99DA-CBAC62F600C8 Response: {'RequestId': 'D6015795-2F70-5798-99DA-CBAC62F600C8', 'HostId': 'facebody.cn-shanghai.aliyuncs.com', 'Code': 'InvalidImage.NotFoundFace', 'Message': '图像中没找到人脸，请检查您的图像中是否包含人脸或人脸太小 - 没有检测到人脸，可能是输入图片没有人脸、人脸太小(人脸占比应超过64*64像素)、图像中人脸质量较低或图像过度拉伸等导致。请检查是否存在人脸、人脸大小和图像人脸质量后再次尝试。 - EAS_FACE_NOT_EXIST', 'Recommend': 'https://api.aliyun.com/troubleshoot?q=InvalidImage.NotFoundFace&product=facebody&requestId=D6015795-2F70-5798-99DA-CBAC62F600C8', 'statusCode': 404}\n",
      "./test/target.png  和  ./test/source.png\n"
     ]
    },
    {
     "name": "stderr",
     "output_type": "stream",
     "text": [
      " 42%|████▏     | 318/750 [38:46<50:59,  7.08s/it]"
     ]
    },
    {
     "name": "stdout",
     "output_type": "stream",
     "text": [
      "Error: InternalError.Timeout code: 500, 算法服务报错，请稍后重试 request id: 12F95ECA-3062-56A7-BA2C-F414AAA219BD Response: {'RequestId': '12F95ECA-3062-56A7-BA2C-F414AAA219BD', 'HostId': 'facebody.cn-shanghai.aliyuncs.com', 'Code': 'InternalError.Timeout', 'Message': '算法服务报错，请稍后重试', 'Recommend': 'https://api.aliyun.com/troubleshoot?q=InternalError.Timeout&product=facebody&requestId=12F95ECA-3062-56A7-BA2C-F414AAA219BD', 'statusCode': 500}\n",
      "./test/target.png  和  ./test/source.png\n"
     ]
    },
    {
     "name": "stderr",
     "output_type": "stream",
     "text": [
      " 52%|█████▏    | 387/750 [47:20<45:16,  7.48s/it]  "
     ]
    },
    {
     "name": "stdout",
     "output_type": "stream",
     "text": [
      "Error: InvalidImage.NotFoundFace code: 404, 图像中没找到人脸，请检查您的图像中是否包含人脸或人脸太小 - 没有检测到人脸，可能是输入图片没有人脸、人脸太小(人脸占比应超过64*64像素)、图像中人脸质量较低或图像过度拉伸等导致。请检查是否存在人脸、人脸大小和图像人脸质量后再次尝试。 - EAS_FACE_NOT_EXIST request id: 901045DE-49E9-5643-AF6F-82EEF1C20649 Response: {'RequestId': '901045DE-49E9-5643-AF6F-82EEF1C20649', 'HostId': 'facebody.cn-shanghai.aliyuncs.com', 'Code': 'InvalidImage.NotFoundFace', 'Message': '图像中没找到人脸，请检查您的图像中是否包含人脸或人脸太小 - 没有检测到人脸，可能是输入图片没有人脸、人脸太小(人脸占比应超过64*64像素)、图像中人脸质量较低或图像过度拉伸等导致。请检查是否存在人脸、人脸大小和图像人脸质量后再次尝试。 - EAS_FACE_NOT_EXIST', 'Recommend': 'https://api.aliyun.com/troubleshoot?q=InvalidImage.NotFoundFace&product=facebody&requestId=901045DE-49E9-5643-AF6F-82EEF1C20649', 'statusCode': 404}\n",
      "./test/target.png  和  ./test/source.png\n"
     ]
    },
    {
     "name": "stderr",
     "output_type": "stream",
     "text": [
      " 62%|██████▏   | 465/750 [56:48<34:41,  7.30s/it]"
     ]
    },
    {
     "name": "stdout",
     "output_type": "stream",
     "text": [
      "Error: InvalidImage.NotFoundFace code: 404, 图像中没找到人脸，请检查您的图像中是否包含人脸或人脸太小 - 没有检测到人脸，可能是输入图片没有人脸、人脸太小(人脸占比应超过64*64像素)、图像中人脸质量较低或图像过度拉伸等导致。请检查是否存在人脸、人脸大小和图像人脸质量后再次尝试。 - EAS_FACE_NOT_EXIST request id: 895E6CBC-FCD5-50DF-92A4-B04CED0A99DC Response: {'RequestId': '895E6CBC-FCD5-50DF-92A4-B04CED0A99DC', 'HostId': 'facebody.cn-shanghai.aliyuncs.com', 'Code': 'InvalidImage.NotFoundFace', 'Message': '图像中没找到人脸，请检查您的图像中是否包含人脸或人脸太小 - 没有检测到人脸，可能是输入图片没有人脸、人脸太小(人脸占比应超过64*64像素)、图像中人脸质量较低或图像过度拉伸等导致。请检查是否存在人脸、人脸大小和图像人脸质量后再次尝试。 - EAS_FACE_NOT_EXIST', 'Recommend': 'https://api.aliyun.com/troubleshoot?q=InvalidImage.NotFoundFace&product=facebody&requestId=895E6CBC-FCD5-50DF-92A4-B04CED0A99DC', 'statusCode': 404}\n",
      "./test/target.png  和  ./test/source.png\n"
     ]
    },
    {
     "name": "stderr",
     "output_type": "stream",
     "text": [
      " 74%|███████▎  | 553/750 [1:07:34<24:29,  7.46s/it]"
     ]
    },
    {
     "name": "stdout",
     "output_type": "stream",
     "text": [
      "Error: InvalidImage.NotFoundFace code: 404, 图像中没找到人脸，请检查您的图像中是否包含人脸或人脸太小 - 没有检测到人脸，可能是输入图片没有人脸、人脸太小(人脸占比应超过64*64像素)、图像中人脸质量较低或图像过度拉伸等导致。请检查是否存在人脸、人脸大小和图像人脸质量后再次尝试。 - EAS_FACE_NOT_EXIST request id: 3DD828DD-D035-57B3-87D8-40E85DAFE10C Response: {'RequestId': '3DD828DD-D035-57B3-87D8-40E85DAFE10C', 'HostId': 'facebody.cn-shanghai.aliyuncs.com', 'Code': 'InvalidImage.NotFoundFace', 'Message': '图像中没找到人脸，请检查您的图像中是否包含人脸或人脸太小 - 没有检测到人脸，可能是输入图片没有人脸、人脸太小(人脸占比应超过64*64像素)、图像中人脸质量较低或图像过度拉伸等导致。请检查是否存在人脸、人脸大小和图像人脸质量后再次尝试。 - EAS_FACE_NOT_EXIST', 'Recommend': 'https://api.aliyun.com/troubleshoot?q=InvalidImage.NotFoundFace&product=facebody&requestId=3DD828DD-D035-57B3-87D8-40E85DAFE10C', 'statusCode': 404}\n",
      "./test/target.png  和  ./test/source.png\n"
     ]
    },
    {
     "name": "stderr",
     "output_type": "stream",
     "text": [
      " 82%|████████▏ | 615/750 [1:15:06<16:34,  7.37s/it]"
     ]
    },
    {
     "name": "stdout",
     "output_type": "stream",
     "text": [
      "Error: InvalidImage.NotFoundFace code: 404, 图像中没找到人脸，请检查您的图像中是否包含人脸或人脸太小 - 没有检测到人脸，可能是输入图片没有人脸、人脸太小(人脸占比应超过64*64像素)、图像中人脸质量较低或图像过度拉伸等导致。请检查是否存在人脸、人脸大小和图像人脸质量后再次尝试。 - EAS_FACE_NOT_EXIST request id: BA28B618-19CD-5030-8602-2882673F53D6 Response: {'RequestId': 'BA28B618-19CD-5030-8602-2882673F53D6', 'HostId': 'facebody.cn-shanghai.aliyuncs.com', 'Code': 'InvalidImage.NotFoundFace', 'Message': '图像中没找到人脸，请检查您的图像中是否包含人脸或人脸太小 - 没有检测到人脸，可能是输入图片没有人脸、人脸太小(人脸占比应超过64*64像素)、图像中人脸质量较低或图像过度拉伸等导致。请检查是否存在人脸、人脸大小和图像人脸质量后再次尝试。 - EAS_FACE_NOT_EXIST', 'Recommend': 'https://api.aliyun.com/troubleshoot?q=InvalidImage.NotFoundFace&product=facebody&requestId=BA28B618-19CD-5030-8602-2882673F53D6', 'statusCode': 404}\n",
      "./test/target.png  和  ./test/source.png\n"
     ]
    },
    {
     "name": "stderr",
     "output_type": "stream",
     "text": [
      " 83%|████████▎ | 622/750 [1:15:56<15:18,  7.18s/it]"
     ]
    },
    {
     "name": "stdout",
     "output_type": "stream",
     "text": [
      "Error: InvalidImage.NotFoundFace code: 404, 图像中没找到人脸，请检查您的图像中是否包含人脸或人脸太小 - 没有检测到人脸，可能是输入图片没有人脸、人脸太小(人脸占比应超过64*64像素)、图像中人脸质量较低或图像过度拉伸等导致。请检查是否存在人脸、人脸大小和图像人脸质量后再次尝试。 - EAS_FACE_NOT_EXIST request id: F64AFD4A-327B-5564-BC0C-69FC5C550CEF Response: {'RequestId': 'F64AFD4A-327B-5564-BC0C-69FC5C550CEF', 'HostId': 'facebody.cn-shanghai.aliyuncs.com', 'Code': 'InvalidImage.NotFoundFace', 'Message': '图像中没找到人脸，请检查您的图像中是否包含人脸或人脸太小 - 没有检测到人脸，可能是输入图片没有人脸、人脸太小(人脸占比应超过64*64像素)、图像中人脸质量较低或图像过度拉伸等导致。请检查是否存在人脸、人脸大小和图像人脸质量后再次尝试。 - EAS_FACE_NOT_EXIST', 'Recommend': 'https://api.aliyun.com/troubleshoot?q=InvalidImage.NotFoundFace&product=facebody&requestId=F64AFD4A-327B-5564-BC0C-69FC5C550CEF', 'statusCode': 404}\n",
      "./test/target.png  和  ./test/source.png\n"
     ]
    },
    {
     "name": "stderr",
     "output_type": "stream",
     "text": [
      " 91%|█████████ | 680/750 [1:23:05<08:38,  7.40s/it]"
     ]
    },
    {
     "name": "stdout",
     "output_type": "stream",
     "text": [
      "Error: InvalidImage.NotFoundFace code: 404, 图像中没找到人脸，请检查您的图像中是否包含人脸或人脸太小 - 没有检测到人脸，可能是输入图片没有人脸、人脸太小(人脸占比应超过64*64像素)、图像中人脸质量较低或图像过度拉伸等导致。请检查是否存在人脸、人脸大小和图像人脸质量后再次尝试。 - EAS_FACE_NOT_EXIST request id: 3F088FAD-B9A6-578F-84AE-DB41BB599A81 Response: {'RequestId': '3F088FAD-B9A6-578F-84AE-DB41BB599A81', 'HostId': 'facebody.cn-shanghai.aliyuncs.com', 'Code': 'InvalidImage.NotFoundFace', 'Message': '图像中没找到人脸，请检查您的图像中是否包含人脸或人脸太小 - 没有检测到人脸，可能是输入图片没有人脸、人脸太小(人脸占比应超过64*64像素)、图像中人脸质量较低或图像过度拉伸等导致。请检查是否存在人脸、人脸大小和图像人脸质量后再次尝试。 - EAS_FACE_NOT_EXIST', 'Recommend': 'https://api.aliyun.com/troubleshoot?q=InvalidImage.NotFoundFace&product=facebody&requestId=3F088FAD-B9A6-578F-84AE-DB41BB599A81', 'statusCode': 404}\n",
      "./test/target.png  和  ./test/source.png\n"
     ]
    },
    {
     "name": "stderr",
     "output_type": "stream",
     "text": [
      "100%|██████████| 750/750 [1:31:38<00:00,  7.33s/it]"
     ]
    },
    {
     "name": "stdout",
     "output_type": "stream",
     "text": [
      "84.8268018281406\n",
      "0.008348639171814994\n",
      "0.01302387710803139\n",
      "0.03623309400567708\n"
     ]
    },
    {
     "name": "stderr",
     "output_type": "stream",
     "text": [
      "\n"
     ]
    }
   ],
   "source": [
    "# calculate TAR\n",
    "import numpy as np\n",
    "import torch\n",
    "import torchvision\n",
    "from tqdm import tqdm\n",
    "from official_api.aliyun import face_compare\n",
    "\n",
    "from utils.dataset import Dataset\n",
    "\n",
    "print(\"-----------------------load test Dataset-------------------------\")\n",
    "test_set = Dataset(\"D:/datasets/lfw/lfw-aligned-112x112/\", \"untarget\")\n",
    "print(\"-----------------------start batch queue------------------------\")\n",
    "batch_size = 8\n",
    "test_set.start_batch_queue(\n",
    "    batch_size=batch_size,\n",
    "    batch_format=\"random_samples\",\n",
    "    transforms=torchvision.transforms.Compose([\n",
    "        torchvision.transforms.Resize((112,112)),  # 调整图片大小\n",
    "        torchvision.transforms.ToTensor(),  # 图片转为Tensor [0,1]\n",
    "        torchvision.transforms.Normalize(mean=[0.5, 0.5, 0.5], std=[0.5, 0.5, 0.5]),  # 归一化\n",
    "    ]),\n",
    "    num_threads=3,\n",
    "    untarget_same=False\n",
    ")\n",
    "\n",
    "print(\"----------------------start api evaluation---------------------\")\n",
    "with torch.no_grad():\n",
    "    epoch = 750\n",
    "    before = []\n",
    "    x=0\n",
    "    for i in tqdm(range(0, epoch), total=epoch):\n",
    "        batch = test_set.pop_batch_queue()\n",
    "        source_faces = batch['sources'].cuda()\n",
    "        target_faces = batch['targets'].cuda()\n",
    "        for j in range(0, batch_size):\n",
    "            torchvision.utils.save_image([source_faces[j] * 0.5 + 0.5], './test/source.png', nrow=1)\n",
    "            torchvision.utils.save_image([target_faces[j] * 0.5 + 0.5], './test/target.png', nrow=1)\n",
    "            res = face_compare(face1_path='./test/target.png', face2_path='./test/source.png')\n",
    "            if res is None:\n",
    "                x = x+1\n",
    "                torchvision.utils.save_image([source_faces[j] * 0.5 + 0.5], './wrong/source{}_{}.png'.format(x, batch['sources_name'][j]), nrow=1)\n",
    "                torchvision.utils.save_image([target_faces[j] * 0.5 + 0.5], './wrong/target{}_{}.png'.format(x, batch['targets_name'][j]), nrow=1)\n",
    "            before.append(res)\n",
    "    print(np.mean(before))\n",
    "    before = np.array(before)\n",
    "    print(np.sum(before < 61) / len(before))\n",
    "    print(np.sum(before < 69) / len(before))\n",
    "    print(np.sum(before < 75) / len(before))"
   ]
  },
  {
   "cell_type": "code",
   "execution_count": null,
   "id": "ea953eafe89003c6",
   "metadata": {
    "collapsed": false,
    "jupyter": {
     "outputs_hidden": false
    }
   },
   "outputs": [],
   "source": []
  }
 ],
 "metadata": {
  "kernelspec": {
   "display_name": "AdvFaceGAN",
   "language": "python",
   "name": "advfacegan"
  },
  "language_info": {
   "codemirror_mode": {
    "name": "ipython",
    "version": 3
   },
   "file_extension": ".py",
   "mimetype": "text/x-python",
   "name": "python",
   "nbconvert_exporter": "python",
   "pygments_lexer": "ipython3",
   "version": "3.12.4"
  }
 },
 "nbformat": 4,
 "nbformat_minor": 5
}
