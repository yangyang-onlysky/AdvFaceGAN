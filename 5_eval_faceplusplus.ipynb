{
 "cells": [
  {
   "cell_type": "code",
   "id": "initial_id",
   "metadata": {
    "collapsed": true,
    "ExecuteTime": {
     "end_time": "2024-09-12T09:52:35.392866Z",
     "start_time": "2024-09-12T08:38:17.987580Z"
    }
   },
   "source": [
    "import numpy as np\n",
    "import torch\n",
    "import torchvision\n",
    "from tqdm import tqdm\n",
    "from torchmetrics.functional import structural_similarity_index_measure as ssim\n",
    "from official_api.facepp import face_compare\n",
    "\n",
    "from AdvFaceGAN import Generator\n",
    "from utils.dataset import Dataset\n",
    "\n",
    "print(\"------------------------加载测试集-------------------------\")\n",
    "test_set = Dataset(\"C:/yy/datasets/lfw/lfw-aligned-112x112/\", \"target\")\n",
    "print(\"-----------------------启动分批队列------------------------\")\n",
    "batch_size = 8\n",
    "test_set.start_batch_queue(\n",
    "    batch_size=batch_size,\n",
    "    batch_format=\"random_samples\",\n",
    "    transforms=torchvision.transforms.Compose([\n",
    "        torchvision.transforms.Resize((112,112)),  # 调整图片大小\n",
    "        torchvision.transforms.ToTensor(),  # 图片转为Tensor [0,1]\n",
    "        torchvision.transforms.Normalize(mean=[0.5, 0.5, 0.5], std=[0.5, 0.5, 0.5]),  # 归一化\n",
    "    ]),\n",
    "    num_threads=2,\n",
    ")\n",
    "print(\"-----------------------加载生成器------------------------\")\n",
    "fake_generator = Generator(is_target=True).eval().cuda()\n",
    "model_generator_dict = torch.load(r\"C:\\yy\\source\\Desktop\\读研是一条艰苦的道路\\1. 论文\\做实验\\myCode\\myCode\\4 FrAdv\\AdvFaceGAN\\save_dir\\target 3 8白盒 奇怪ssim\\model\\00850_generator.pth\")\n",
    "fake_generator.load_state_dict(model_generator_dict)\n",
    "\n",
    "print(\"-----------------------开始api测试------------------------\")\n",
    "with torch.no_grad():\n",
    "    epoch = 750\n",
    "    after = []\n",
    "    x=0\n",
    "    for i in tqdm(range(0, epoch), total=epoch):\n",
    "        batch = test_set.pop_batch_queue()\n",
    "        source_faces = batch['sources'].cuda()\n",
    "        target_faces = batch['targets'].cuda()\n",
    "        perts, fake_afters = fake_generator.forward(source_faces, target_faces)\n",
    "        for j in range(0, batch_size):\n",
    "            torchvision.utils.save_image([target_faces[j] * 0.5 + 0.5], './test/target.png', nrow=1)\n",
    "            torchvision.utils.save_image([fake_afters[j] * 0.5 + 0.5], './test/fake.png', nrow=1)\n",
    "            res = face_compare(face1_path='./test/target.png', face2_path='./test/fake.png')\n",
    "            if res is None:\n",
    "                x = x+1\n",
    "                torchvision.utils.save_image([source_faces[j] * 0.5 + 0.5], './wrong/facepp/source{}_{}.png'.format(x, batch['sources_name'][j]), nrow=1)\n",
    "                torchvision.utils.save_image([target_faces[j] * 0.5 + 0.5], './wrong/facepp/target{}_{}.png'.format(x, batch['targets_name'][j]), nrow=1)\n",
    "                continue\n",
    "            if res is not None:\n",
    "                after.append(res)\n",
    "    \n",
    "    print(np.mean(after))\n",
    "    after = np.array(after)\n",
    "    print(np.sum(after > 62.327) / len(after))\n",
    "    print(np.sum(after > 69.101) / len(after))\n",
    "    print(np.sum(after > 73.975) / len(after))\n",
    "    \n",
    "\n",
    "'''\n",
    "lfw ：\n",
    "target 3 8白盒 无stloss\n",
    "73.76157870060281\n",
    "0.8590087073007368\n",
    "0.7168452779638312\n",
    "0.5611185532484929\n",
    "\n",
    "target 4 8白盒 无stloss\n",
    "77.8469291931704\n",
    "0.9323736190157349\n",
    "0.8421493136926682\n",
    "0.7216270505523937\n",
    "\n",
    "target 4 8白盒 奇怪ssim 97ssim\n",
    "74.95894014623363\n",
    "0.8831831321203877\n",
    "0.7616051691889134\n",
    "0.6107804795102874\n",
    "\n",
    "celeba_hq \n",
    "target 4 8白盒 无stloss\n",
    "77.13664204545454\n",
    "0.9116161616161617\n",
    "0.7916666666666666\n",
    "0.6698232323232324\n",
    "0.9243806028366088\n",
    "\n",
    "target 4 8白盒 奇怪ssim\n",
    "75.88352572145546\n",
    "0.8795483061480552\n",
    "0.7641154328732748\n",
    "0.6398996235884568\n",
    "0.9430139261484146\n",
    "\n",
    "target 3 8白盒 无stloss\n",
    "72.95020372545729\n",
    "0.8234603121329082\n",
    "0.6746098338647424\n",
    "0.527437489511663\n",
    "0.949701600710551\n",
    "\n",
    "target 3 8白盒 奇怪ssim\n",
    "70.33600285762313\n",
    "0.7599596570852244\n",
    "0.5878298873760296\n",
    "0.4390653891410321\n",
    "0.9642939462661743\n",
    "\n",
    "'''"
   ],
   "outputs": [
    {
     "name": "stdout",
     "output_type": "stream",
     "text": [
      "------------------------加载测试集-------------------------\n",
      "13233 images of 5749 classes loaded\n",
      "-----------------------启动分批队列------------------------\n",
      "-----------------------加载生成器------------------------\n"
     ]
    },
    {
     "name": "stderr",
     "output_type": "stream",
     "text": [
      "C:\\Users\\28769\\AppData\\Local\\Temp\\ipykernel_16532\\548654313.py:27: FutureWarning: You are using `torch.load` with `weights_only=False` (the current default value), which uses the default pickle module implicitly. It is possible to construct malicious pickle data which will execute arbitrary code during unpickling (See https://github.com/pytorch/pytorch/blob/main/SECURITY.md#untrusted-models for more details). In a future release, the default value for `weights_only` will be flipped to `True`. This limits the functions that could be executed during unpickling. Arbitrary objects will no longer be allowed to be loaded via this mode unless they are explicitly allowlisted by the user via `torch.serialization.add_safe_globals`. We recommend you start setting `weights_only=True` for any use case where you don't have full control of the loaded file. Please open an issue on GitHub for any issues related to this experimental feature.\n",
      "  model_generator_dict = torch.load(r\"C:\\yy\\source\\Desktop\\读研是一条艰苦的道路\\1. 论文\\做实验\\myCode\\myCode\\4 FrAdv\\AdvFaceGAN\\save_dir\\target 3 8白盒 奇怪ssim\\model\\00850_generator.pth\")\n"
     ]
    },
    {
     "name": "stdout",
     "output_type": "stream",
     "text": [
      "-----------------------开始api测试------------------------\n"
     ]
    },
    {
     "name": "stderr",
     "output_type": "stream",
     "text": [
      "  0%|          | 0/750 [00:00<?, ?it/s]C:\\yy\\installed_software\\Anaconda3\\envs\\AdvFaceGAN\\Lib\\site-packages\\torch\\storage.py:414: FutureWarning: You are using `torch.load` with `weights_only=False` (the current default value), which uses the default pickle module implicitly. It is possible to construct malicious pickle data which will execute arbitrary code during unpickling (See https://github.com/pytorch/pytorch/blob/main/SECURITY.md#untrusted-models for more details). In a future release, the default value for `weights_only` will be flipped to `True`. This limits the functions that could be executed during unpickling. Arbitrary objects will no longer be allowed to be loaded via this mode unless they are explicitly allowlisted by the user via `torch.serialization.add_safe_globals`. We recommend you start setting `weights_only=True` for any use case where you don't have full control of the loaded file. Please open an issue on GitHub for any issues related to this experimental feature.\n",
      "  return torch.load(io.BytesIO(b))\n"
     ]
    },
    {
     "name": "stdout",
     "output_type": "stream",
     "text": [
      "error: code=401\n",
      "url=https://api-us.faceplusplus.com/facepp/v3/compare\n",
      "b'{\"error_message\":\"AUTHENTICATION_ERROR\"}\\n'\n",
      "error: code=401\n",
      "url=https://api-us.faceplusplus.com/facepp/v3/compare\n",
      "b'{\"error_message\":\"AUTHENTICATION_ERROR\"}\\n'\n",
      "error: code=401\n",
      "url=https://api-us.faceplusplus.com/facepp/v3/compare\n",
      "b'{\"error_message\":\"AUTHENTICATION_ERROR\"}\\n'\n",
      "error: code=401\n",
      "url=https://api-us.faceplusplus.com/facepp/v3/compare\n",
      "b'{\"error_message\":\"AUTHENTICATION_ERROR\"}\\n'\n",
      "error: code=401\n",
      "url=https://api-us.faceplusplus.com/facepp/v3/compare\n",
      "b'{\"error_message\":\"AUTHENTICATION_ERROR\"}\\n'\n",
      "error: code=401\n",
      "url=https://api-us.faceplusplus.com/facepp/v3/compare\n",
      "b'{\"error_message\":\"AUTHENTICATION_ERROR\"}\\n'\n",
      "error: code=401\n",
      "url=https://api-us.faceplusplus.com/facepp/v3/compare\n",
      "b'{\"error_message\":\"AUTHENTICATION_ERROR\"}\\n'\n"
     ]
    },
    {
     "name": "stderr",
     "output_type": "stream",
     "text": [
      "  0%|          | 1/750 [00:12<2:34:58, 12.41s/it]"
     ]
    },
    {
     "name": "stdout",
     "output_type": "stream",
     "text": [
      "error: code=401\n",
      "url=https://api-us.faceplusplus.com/facepp/v3/compare\n",
      "b'{\"error_message\":\"AUTHENTICATION_ERROR\"}\\n'\n",
      "error: code=401\n",
      "url=https://api-us.faceplusplus.com/facepp/v3/compare\n",
      "b'{\"error_message\":\"AUTHENTICATION_ERROR\"}\\n'\n",
      "error: code=401\n",
      "url=https://api-us.faceplusplus.com/facepp/v3/compare\n",
      "b'{\"error_message\":\"AUTHENTICATION_ERROR\"}\\n'\n",
      "error: code=401\n",
      "url=https://api-us.faceplusplus.com/facepp/v3/compare\n",
      "b'{\"error_message\":\"AUTHENTICATION_ERROR\"}\\n'\n",
      "error: code=401\n",
      "url=https://api-us.faceplusplus.com/facepp/v3/compare\n",
      "b'{\"error_message\":\"AUTHENTICATION_ERROR\"}\\n'\n",
      "error: code=401\n",
      "url=https://api-us.faceplusplus.com/facepp/v3/compare\n",
      "b'{\"error_message\":\"AUTHENTICATION_ERROR\"}\\n'\n",
      "error: code=401\n",
      "url=https://api-us.faceplusplus.com/facepp/v3/compare\n",
      "b'{\"error_message\":\"AUTHENTICATION_ERROR\"}\\n'\n",
      "error: code=401\n",
      "url=https://api-us.faceplusplus.com/facepp/v3/compare\n",
      "b'{\"error_message\":\"AUTHENTICATION_ERROR\"}\\n'\n"
     ]
    },
    {
     "name": "stderr",
     "output_type": "stream",
     "text": [
      "  0%|          | 2/750 [00:24<2:35:03, 12.44s/it]"
     ]
    },
    {
     "name": "stdout",
     "output_type": "stream",
     "text": [
      "error: code=401\n",
      "url=https://api-us.faceplusplus.com/facepp/v3/compare\n",
      "b'{\"error_message\":\"AUTHENTICATION_ERROR\"}\\n'\n",
      "error: code=401\n",
      "url=https://api-us.faceplusplus.com/facepp/v3/compare\n",
      "b'{\"error_message\":\"AUTHENTICATION_ERROR\"}\\n'\n",
      "error: code=401\n",
      "url=https://api-us.faceplusplus.com/facepp/v3/compare\n",
      "b'{\"error_message\":\"AUTHENTICATION_ERROR\"}\\n'\n",
      "error: code=401\n",
      "url=https://api-us.faceplusplus.com/facepp/v3/compare\n",
      "b'{\"error_message\":\"AUTHENTICATION_ERROR\"}\\n'\n",
      "error: code=401\n",
      "url=https://api-us.faceplusplus.com/facepp/v3/compare\n",
      "b'{\"error_message\":\"AUTHENTICATION_ERROR\"}\\n'\n",
      "error: code=401\n",
      "url=https://api-us.faceplusplus.com/facepp/v3/compare\n",
      "b'{\"error_message\":\"AUTHENTICATION_ERROR\"}\\n'\n",
      "error: code=401\n",
      "url=https://api-us.faceplusplus.com/facepp/v3/compare\n",
      "b'{\"error_message\":\"AUTHENTICATION_ERROR\"}\\n'\n",
      "error: code=401\n",
      "url=https://api-us.faceplusplus.com/facepp/v3/compare\n",
      "b'{\"error_message\":\"AUTHENTICATION_ERROR\"}\\n'\n"
     ]
    },
    {
     "name": "stderr",
     "output_type": "stream",
     "text": [
      "  0%|          | 3/750 [00:36<2:32:30, 12.25s/it]"
     ]
    },
    {
     "name": "stdout",
     "output_type": "stream",
     "text": [
      "error: code=401\n",
      "url=https://api-us.faceplusplus.com/facepp/v3/compare\n",
      "b'{\"error_message\":\"AUTHENTICATION_ERROR\"}\\n'\n",
      "error: code=401\n",
      "url=https://api-us.faceplusplus.com/facepp/v3/compare\n",
      "b'{\"error_message\":\"AUTHENTICATION_ERROR\"}\\n'\n",
      "error: code=401\n",
      "url=https://api-us.faceplusplus.com/facepp/v3/compare\n",
      "b'{\"error_message\":\"AUTHENTICATION_ERROR\"}\\n'\n",
      "error: code=401\n",
      "url=https://api-us.faceplusplus.com/facepp/v3/compare\n",
      "b'{\"error_message\":\"AUTHENTICATION_ERROR\"}\\n'\n",
      "error: code=401\n",
      "url=https://api-us.faceplusplus.com/facepp/v3/compare\n",
      "b'{\"error_message\":\"AUTHENTICATION_ERROR\"}\\n'\n",
      "error: code=401\n",
      "url=https://api-us.faceplusplus.com/facepp/v3/compare\n",
      "b'{\"error_message\":\"AUTHENTICATION_ERROR\"}\\n'\n",
      "error: code=401\n",
      "url=https://api-us.faceplusplus.com/facepp/v3/compare\n",
      "b'{\"error_message\":\"AUTHENTICATION_ERROR\"}\\n'\n",
      "error: code=401\n",
      "url=https://api-us.faceplusplus.com/facepp/v3/compare\n",
      "b'{\"error_message\":\"AUTHENTICATION_ERROR\"}\\n'\n"
     ]
    },
    {
     "name": "stderr",
     "output_type": "stream",
     "text": [
      "  1%|          | 4/750 [00:48<2:31:29, 12.18s/it]"
     ]
    },
    {
     "name": "stdout",
     "output_type": "stream",
     "text": [
      "error: code=401\n",
      "url=https://api-us.faceplusplus.com/facepp/v3/compare\n",
      "b'{\"error_message\":\"AUTHENTICATION_ERROR\"}\\n'\n",
      "error: code=401\n",
      "url=https://api-us.faceplusplus.com/facepp/v3/compare\n",
      "b'{\"error_message\":\"AUTHENTICATION_ERROR\"}\\n'\n",
      "error: code=401\n",
      "url=https://api-us.faceplusplus.com/facepp/v3/compare\n",
      "b'{\"error_message\":\"AUTHENTICATION_ERROR\"}\\n'\n",
      "error: code=401\n",
      "url=https://api-us.faceplusplus.com/facepp/v3/compare\n",
      "b'{\"error_message\":\"AUTHENTICATION_ERROR\"}\\n'\n",
      "error: code=401\n",
      "url=https://api-us.faceplusplus.com/facepp/v3/compare\n",
      "b'{\"error_message\":\"AUTHENTICATION_ERROR\"}\\n'\n",
      "error: code=401\n",
      "url=https://api-us.faceplusplus.com/facepp/v3/compare\n",
      "b'{\"error_message\":\"AUTHENTICATION_ERROR\"}\\n'\n",
      "error: code=401\n",
      "url=https://api-us.faceplusplus.com/facepp/v3/compare\n",
      "b'{\"error_message\":\"AUTHENTICATION_ERROR\"}\\n'\n",
      "error: code=401\n",
      "url=https://api-us.faceplusplus.com/facepp/v3/compare\n",
      "b'{\"error_message\":\"AUTHENTICATION_ERROR\"}\\n'\n"
     ]
    },
    {
     "name": "stderr",
     "output_type": "stream",
     "text": [
      "  1%|          | 5/750 [01:00<2:30:23, 12.11s/it]"
     ]
    },
    {
     "name": "stdout",
     "output_type": "stream",
     "text": [
      "error: code=401\n",
      "url=https://api-us.faceplusplus.com/facepp/v3/compare\n",
      "b'{\"error_message\":\"AUTHENTICATION_ERROR\"}\\n'\n",
      "error: code=401\n",
      "url=https://api-us.faceplusplus.com/facepp/v3/compare\n",
      "b'{\"error_message\":\"AUTHENTICATION_ERROR\"}\\n'\n",
      "error: code=401\n",
      "url=https://api-us.faceplusplus.com/facepp/v3/compare\n",
      "b'{\"error_message\":\"AUTHENTICATION_ERROR\"}\\n'\n",
      "error: code=401\n",
      "url=https://api-us.faceplusplus.com/facepp/v3/compare\n",
      "b'{\"error_message\":\"AUTHENTICATION_ERROR\"}\\n'\n",
      "error: code=401\n",
      "url=https://api-us.faceplusplus.com/facepp/v3/compare\n",
      "b'{\"error_message\":\"AUTHENTICATION_ERROR\"}\\n'\n",
      "error: code=401\n",
      "url=https://api-us.faceplusplus.com/facepp/v3/compare\n",
      "b'{\"error_message\":\"AUTHENTICATION_ERROR\"}\\n'\n",
      "error: code=401\n",
      "url=https://api-us.faceplusplus.com/facepp/v3/compare\n",
      "b'{\"error_message\":\"AUTHENTICATION_ERROR\"}\\n'\n",
      "error: code=401\n",
      "url=https://api-us.faceplusplus.com/facepp/v3/compare\n",
      "b'{\"error_message\":\"AUTHENTICATION_ERROR\"}\\n'\n"
     ]
    },
    {
     "name": "stderr",
     "output_type": "stream",
     "text": [
      "  1%|          | 6/750 [01:13<2:30:47, 12.16s/it]"
     ]
    },
    {
     "name": "stdout",
     "output_type": "stream",
     "text": [
      "error: code=401\n",
      "url=https://api-us.faceplusplus.com/facepp/v3/compare\n",
      "b'{\"error_message\":\"AUTHENTICATION_ERROR\"}\\n'\n",
      "error: code=401\n",
      "url=https://api-us.faceplusplus.com/facepp/v3/compare\n",
      "b'{\"error_message\":\"AUTHENTICATION_ERROR\"}\\n'\n",
      "error: code=401\n",
      "url=https://api-us.faceplusplus.com/facepp/v3/compare\n",
      "b'{\"error_message\":\"AUTHENTICATION_ERROR\"}\\n'\n",
      "error: code=401\n",
      "url=https://api-us.faceplusplus.com/facepp/v3/compare\n",
      "b'{\"error_message\":\"AUTHENTICATION_ERROR\"}\\n'\n",
      "error: code=401\n",
      "url=https://api-us.faceplusplus.com/facepp/v3/compare\n",
      "b'{\"error_message\":\"AUTHENTICATION_ERROR\"}\\n'\n",
      "error: code=401\n",
      "url=https://api-us.faceplusplus.com/facepp/v3/compare\n",
      "b'{\"error_message\":\"AUTHENTICATION_ERROR\"}\\n'\n",
      "error: code=401\n",
      "url=https://api-us.faceplusplus.com/facepp/v3/compare\n",
      "b'{\"error_message\":\"AUTHENTICATION_ERROR\"}\\n'\n",
      "error: code=401\n",
      "url=https://api-us.faceplusplus.com/facepp/v3/compare\n",
      "b'{\"error_message\":\"AUTHENTICATION_ERROR\"}\\n'\n"
     ]
    },
    {
     "name": "stderr",
     "output_type": "stream",
     "text": [
      "  1%|          | 7/750 [01:25<2:30:12, 12.13s/it]"
     ]
    },
    {
     "name": "stdout",
     "output_type": "stream",
     "text": [
      "error: code=401\n",
      "url=https://api-us.faceplusplus.com/facepp/v3/compare\n",
      "b'{\"error_message\":\"AUTHENTICATION_ERROR\"}\\n'\n",
      "error: code=401\n",
      "url=https://api-us.faceplusplus.com/facepp/v3/compare\n",
      "b'{\"error_message\":\"AUTHENTICATION_ERROR\"}\\n'\n",
      "error: code=401\n",
      "url=https://api-us.faceplusplus.com/facepp/v3/compare\n",
      "b'{\"error_message\":\"AUTHENTICATION_ERROR\"}\\n'\n",
      "error: code=401\n",
      "url=https://api-us.faceplusplus.com/facepp/v3/compare\n",
      "b'{\"error_message\":\"AUTHENTICATION_ERROR\"}\\n'\n",
      "error: code=401\n",
      "url=https://api-us.faceplusplus.com/facepp/v3/compare\n",
      "b'{\"error_message\":\"AUTHENTICATION_ERROR\"}\\n'\n",
      "error: code=401\n",
      "url=https://api-us.faceplusplus.com/facepp/v3/compare\n",
      "b'{\"error_message\":\"AUTHENTICATION_ERROR\"}\\n'\n",
      "error: code=401\n",
      "url=https://api-us.faceplusplus.com/facepp/v3/compare\n",
      "b'{\"error_message\":\"AUTHENTICATION_ERROR\"}\\n'\n",
      "error: code=401\n",
      "url=https://api-us.faceplusplus.com/facepp/v3/compare\n",
      "b'{\"error_message\":\"AUTHENTICATION_ERROR\"}\\n'\n"
     ]
    },
    {
     "name": "stderr",
     "output_type": "stream",
     "text": [
      "  1%|          | 8/750 [01:37<2:30:39, 12.18s/it]"
     ]
    },
    {
     "name": "stdout",
     "output_type": "stream",
     "text": [
      "error: code=401\n",
      "url=https://api-us.faceplusplus.com/facepp/v3/compare\n",
      "b'{\"error_message\":\"AUTHENTICATION_ERROR\"}\\n'\n",
      "error: code=401\n",
      "url=https://api-us.faceplusplus.com/facepp/v3/compare\n",
      "b'{\"error_message\":\"AUTHENTICATION_ERROR\"}\\n'\n",
      "error: code=401\n",
      "url=https://api-us.faceplusplus.com/facepp/v3/compare\n",
      "b'{\"error_message\":\"AUTHENTICATION_ERROR\"}\\n'\n",
      "error: code=401\n",
      "url=https://api-us.faceplusplus.com/facepp/v3/compare\n",
      "b'{\"error_message\":\"AUTHENTICATION_ERROR\"}\\n'\n",
      "error: code=401\n",
      "url=https://api-us.faceplusplus.com/facepp/v3/compare\n",
      "b'{\"error_message\":\"AUTHENTICATION_ERROR\"}\\n'\n",
      "error: code=401\n",
      "url=https://api-us.faceplusplus.com/facepp/v3/compare\n",
      "b'{\"error_message\":\"AUTHENTICATION_ERROR\"}\\n'\n",
      "error: code=401\n",
      "url=https://api-us.faceplusplus.com/facepp/v3/compare\n",
      "b'{\"error_message\":\"AUTHENTICATION_ERROR\"}\\n'\n",
      "error: code=401\n",
      "url=https://api-us.faceplusplus.com/facepp/v3/compare\n",
      "b'{\"error_message\":\"AUTHENTICATION_ERROR\"}\\n'\n"
     ]
    },
    {
     "name": "stderr",
     "output_type": "stream",
     "text": [
      "  1%|          | 9/750 [01:50<2:31:25, 12.26s/it]"
     ]
    },
    {
     "name": "stdout",
     "output_type": "stream",
     "text": [
      "error: code=401\n",
      "url=https://api-us.faceplusplus.com/facepp/v3/compare\n",
      "b'{\"error_message\":\"AUTHENTICATION_ERROR\"}\\n'\n",
      "error: code=401\n",
      "url=https://api-us.faceplusplus.com/facepp/v3/compare\n",
      "b'{\"error_message\":\"AUTHENTICATION_ERROR\"}\\n'\n",
      "error: code=401\n",
      "url=https://api-us.faceplusplus.com/facepp/v3/compare\n",
      "b'{\"error_message\":\"AUTHENTICATION_ERROR\"}\\n'\n",
      "error: code=401\n",
      "url=https://api-us.faceplusplus.com/facepp/v3/compare\n",
      "b'{\"error_message\":\"AUTHENTICATION_ERROR\"}\\n'\n",
      "error: code=401\n",
      "url=https://api-us.faceplusplus.com/facepp/v3/compare\n",
      "b'{\"error_message\":\"AUTHENTICATION_ERROR\"}\\n'\n",
      "error: code=401\n",
      "url=https://api-us.faceplusplus.com/facepp/v3/compare\n",
      "b'{\"error_message\":\"AUTHENTICATION_ERROR\"}\\n'\n",
      "error: code=401\n",
      "url=https://api-us.faceplusplus.com/facepp/v3/compare\n",
      "b'{\"error_message\":\"AUTHENTICATION_ERROR\"}\\n'\n",
      "error: code=401\n",
      "url=https://api-us.faceplusplus.com/facepp/v3/compare\n",
      "b'{\"error_message\":\"AUTHENTICATION_ERROR\"}\\n'\n"
     ]
    },
    {
     "name": "stderr",
     "output_type": "stream",
     "text": [
      "  1%|▏         | 10/750 [02:02<2:30:42, 12.22s/it]"
     ]
    },
    {
     "name": "stdout",
     "output_type": "stream",
     "text": [
      "error: code=401\n",
      "url=https://api-us.faceplusplus.com/facepp/v3/compare\n",
      "b'{\"error_message\":\"AUTHENTICATION_ERROR\"}\\n'\n",
      "error: code=401\n",
      "url=https://api-us.faceplusplus.com/facepp/v3/compare\n",
      "b'{\"error_message\":\"AUTHENTICATION_ERROR\"}\\n'\n",
      "error: code=401\n",
      "url=https://api-us.faceplusplus.com/facepp/v3/compare\n",
      "b'{\"error_message\":\"AUTHENTICATION_ERROR\"}\\n'\n",
      "error: code=401\n",
      "url=https://api-us.faceplusplus.com/facepp/v3/compare\n",
      "b'{\"error_message\":\"AUTHENTICATION_ERROR\"}\\n'\n",
      "error: code=401\n",
      "url=https://api-us.faceplusplus.com/facepp/v3/compare\n",
      "b'{\"error_message\":\"AUTHENTICATION_ERROR\"}\\n'\n",
      "error: code=401\n",
      "url=https://api-us.faceplusplus.com/facepp/v3/compare\n",
      "b'{\"error_message\":\"AUTHENTICATION_ERROR\"}\\n'\n",
      "error: code=401\n",
      "url=https://api-us.faceplusplus.com/facepp/v3/compare\n",
      "b'{\"error_message\":\"AUTHENTICATION_ERROR\"}\\n'\n",
      "error: code=401\n",
      "url=https://api-us.faceplusplus.com/facepp/v3/compare\n",
      "b'{\"error_message\":\"AUTHENTICATION_ERROR\"}\\n'\n"
     ]
    },
    {
     "name": "stderr",
     "output_type": "stream",
     "text": [
      "  1%|▏         | 11/750 [02:14<2:29:27, 12.13s/it]"
     ]
    },
    {
     "name": "stdout",
     "output_type": "stream",
     "text": [
      "error: code=401\n",
      "url=https://api-us.faceplusplus.com/facepp/v3/compare\n",
      "b'{\"error_message\":\"AUTHENTICATION_ERROR\"}\\n'\n",
      "error: code=401\n",
      "url=https://api-us.faceplusplus.com/facepp/v3/compare\n",
      "b'{\"error_message\":\"AUTHENTICATION_ERROR\"}\\n'\n",
      "error: code=401\n",
      "url=https://api-us.faceplusplus.com/facepp/v3/compare\n",
      "b'{\"error_message\":\"AUTHENTICATION_ERROR\"}\\n'\n",
      "error: code=401\n",
      "url=https://api-us.faceplusplus.com/facepp/v3/compare\n",
      "b'{\"error_message\":\"AUTHENTICATION_ERROR\"}\\n'\n",
      "error: code=401\n",
      "url=https://api-us.faceplusplus.com/facepp/v3/compare\n",
      "b'{\"error_message\":\"AUTHENTICATION_ERROR\"}\\n'\n",
      "error: code=401\n",
      "url=https://api-us.faceplusplus.com/facepp/v3/compare\n",
      "b'{\"error_message\":\"AUTHENTICATION_ERROR\"}\\n'\n",
      "error: code=401\n",
      "url=https://api-us.faceplusplus.com/facepp/v3/compare\n",
      "b'{\"error_message\":\"AUTHENTICATION_ERROR\"}\\n'\n",
      "error: code=401\n",
      "url=https://api-us.faceplusplus.com/facepp/v3/compare\n",
      "b'{\"error_message\":\"AUTHENTICATION_ERROR\"}\\n'\n"
     ]
    },
    {
     "name": "stderr",
     "output_type": "stream",
     "text": [
      "  2%|▏         | 12/750 [02:25<2:28:02, 12.04s/it]"
     ]
    },
    {
     "name": "stdout",
     "output_type": "stream",
     "text": [
      "error: code=401\n",
      "url=https://api-us.faceplusplus.com/facepp/v3/compare\n",
      "b'{\"error_message\":\"AUTHENTICATION_ERROR\"}\\n'\n",
      "error: code=401\n",
      "url=https://api-us.faceplusplus.com/facepp/v3/compare\n",
      "b'{\"error_message\":\"AUTHENTICATION_ERROR\"}\\n'\n",
      "error: code=401\n",
      "url=https://api-us.faceplusplus.com/facepp/v3/compare\n",
      "b'{\"error_message\":\"AUTHENTICATION_ERROR\"}\\n'\n",
      "error: code=401\n",
      "url=https://api-us.faceplusplus.com/facepp/v3/compare\n",
      "b'{\"error_message\":\"AUTHENTICATION_ERROR\"}\\n'\n",
      "error: code=401\n",
      "url=https://api-us.faceplusplus.com/facepp/v3/compare\n",
      "b'{\"error_message\":\"AUTHENTICATION_ERROR\"}\\n'\n",
      "error: code=401\n",
      "url=https://api-us.faceplusplus.com/facepp/v3/compare\n",
      "b'{\"error_message\":\"AUTHENTICATION_ERROR\"}\\n'\n",
      "error: code=401\n",
      "url=https://api-us.faceplusplus.com/facepp/v3/compare\n",
      "b'{\"error_message\":\"AUTHENTICATION_ERROR\"}\\n'\n",
      "error: code=401\n",
      "url=https://api-us.faceplusplus.com/facepp/v3/compare\n",
      "b'{\"error_message\":\"AUTHENTICATION_ERROR\"}\\n'\n"
     ]
    },
    {
     "name": "stderr",
     "output_type": "stream",
     "text": [
      "  2%|▏         | 13/750 [02:38<2:28:25, 12.08s/it]"
     ]
    },
    {
     "name": "stdout",
     "output_type": "stream",
     "text": [
      "error: code=401\n",
      "url=https://api-us.faceplusplus.com/facepp/v3/compare\n",
      "b'{\"error_message\":\"AUTHENTICATION_ERROR\"}\\n'\n",
      "error: code=401\n",
      "url=https://api-us.faceplusplus.com/facepp/v3/compare\n",
      "b'{\"error_message\":\"AUTHENTICATION_ERROR\"}\\n'\n",
      "error: code=401\n",
      "url=https://api-us.faceplusplus.com/facepp/v3/compare\n",
      "b'{\"error_message\":\"AUTHENTICATION_ERROR\"}\\n'\n",
      "error: code=401\n",
      "url=https://api-us.faceplusplus.com/facepp/v3/compare\n",
      "b'{\"error_message\":\"AUTHENTICATION_ERROR\"}\\n'\n",
      "error: code=401\n",
      "url=https://api-us.faceplusplus.com/facepp/v3/compare\n",
      "b'{\"error_message\":\"AUTHENTICATION_ERROR\"}\\n'\n",
      "error: code=401\n",
      "url=https://api-us.faceplusplus.com/facepp/v3/compare\n",
      "b'{\"error_message\":\"AUTHENTICATION_ERROR\"}\\n'\n",
      "error: code=401\n",
      "url=https://api-us.faceplusplus.com/facepp/v3/compare\n",
      "b'{\"error_message\":\"AUTHENTICATION_ERROR\"}\\n'\n",
      "error: code=401\n",
      "url=https://api-us.faceplusplus.com/facepp/v3/compare\n",
      "b'{\"error_message\":\"AUTHENTICATION_ERROR\"}\\n'\n"
     ]
    },
    {
     "name": "stderr",
     "output_type": "stream",
     "text": [
      "  2%|▏         | 14/750 [02:50<2:29:39, 12.20s/it]"
     ]
    },
    {
     "name": "stdout",
     "output_type": "stream",
     "text": [
      "error: code=401\n",
      "url=https://api-us.faceplusplus.com/facepp/v3/compare\n",
      "b'{\"error_message\":\"AUTHENTICATION_ERROR\"}\\n'\n",
      "error: code=401\n",
      "url=https://api-us.faceplusplus.com/facepp/v3/compare\n",
      "b'{\"error_message\":\"AUTHENTICATION_ERROR\"}\\n'\n",
      "error: code=401\n",
      "url=https://api-us.faceplusplus.com/facepp/v3/compare\n",
      "b'{\"error_message\":\"AUTHENTICATION_ERROR\"}\\n'\n",
      "error: code=401\n",
      "url=https://api-us.faceplusplus.com/facepp/v3/compare\n",
      "b'{\"error_message\":\"AUTHENTICATION_ERROR\"}\\n'\n",
      "error: code=401\n",
      "url=https://api-us.faceplusplus.com/facepp/v3/compare\n",
      "b'{\"error_message\":\"AUTHENTICATION_ERROR\"}\\n'\n",
      "error: code=401\n",
      "url=https://api-us.faceplusplus.com/facepp/v3/compare\n",
      "b'{\"error_message\":\"AUTHENTICATION_ERROR\"}\\n'\n",
      "error: code=401\n",
      "url=https://api-us.faceplusplus.com/facepp/v3/compare\n",
      "b'{\"error_message\":\"AUTHENTICATION_ERROR\"}\\n'\n",
      "error: code=401\n",
      "url=https://api-us.faceplusplus.com/facepp/v3/compare\n",
      "b'{\"error_message\":\"AUTHENTICATION_ERROR\"}\\n'\n"
     ]
    },
    {
     "name": "stderr",
     "output_type": "stream",
     "text": [
      "  2%|▏         | 15/750 [03:02<2:30:03, 12.25s/it]"
     ]
    },
    {
     "name": "stdout",
     "output_type": "stream",
     "text": [
      "error: code=401\n",
      "url=https://api-us.faceplusplus.com/facepp/v3/compare\n",
      "b'{\"error_message\":\"AUTHENTICATION_ERROR\"}\\n'\n",
      "error: code=401\n",
      "url=https://api-us.faceplusplus.com/facepp/v3/compare\n",
      "b'{\"error_message\":\"AUTHENTICATION_ERROR\"}\\n'\n",
      "error: code=401\n",
      "url=https://api-us.faceplusplus.com/facepp/v3/compare\n",
      "b'{\"error_message\":\"AUTHENTICATION_ERROR\"}\\n'\n",
      "error: code=401\n",
      "url=https://api-us.faceplusplus.com/facepp/v3/compare\n",
      "b'{\"error_message\":\"AUTHENTICATION_ERROR\"}\\n'\n",
      "error: code=401\n",
      "url=https://api-us.faceplusplus.com/facepp/v3/compare\n",
      "b'{\"error_message\":\"AUTHENTICATION_ERROR\"}\\n'\n",
      "error: code=401\n",
      "url=https://api-us.faceplusplus.com/facepp/v3/compare\n",
      "b'{\"error_message\":\"AUTHENTICATION_ERROR\"}\\n'\n",
      "error: code=401\n",
      "url=https://api-us.faceplusplus.com/facepp/v3/compare\n",
      "b'{\"error_message\":\"AUTHENTICATION_ERROR\"}\\n'\n",
      "error: code=401\n",
      "url=https://api-us.faceplusplus.com/facepp/v3/compare\n",
      "b'{\"error_message\":\"AUTHENTICATION_ERROR\"}\\n'\n"
     ]
    },
    {
     "name": "stderr",
     "output_type": "stream",
     "text": [
      "  2%|▏         | 16/750 [03:15<2:30:23, 12.29s/it]"
     ]
    },
    {
     "name": "stdout",
     "output_type": "stream",
     "text": [
      "error: code=401\n",
      "url=https://api-us.faceplusplus.com/facepp/v3/compare\n",
      "b'{\"error_message\":\"AUTHENTICATION_ERROR\"}\\n'\n",
      "error: code=401\n",
      "url=https://api-us.faceplusplus.com/facepp/v3/compare\n",
      "b'{\"error_message\":\"AUTHENTICATION_ERROR\"}\\n'\n",
      "error: code=401\n",
      "url=https://api-us.faceplusplus.com/facepp/v3/compare\n",
      "b'{\"error_message\":\"AUTHENTICATION_ERROR\"}\\n'\n",
      "error: code=401\n",
      "url=https://api-us.faceplusplus.com/facepp/v3/compare\n",
      "b'{\"error_message\":\"AUTHENTICATION_ERROR\"}\\n'\n",
      "error: code=401\n",
      "url=https://api-us.faceplusplus.com/facepp/v3/compare\n",
      "b'{\"error_message\":\"AUTHENTICATION_ERROR\"}\\n'\n",
      "error: code=401\n",
      "url=https://api-us.faceplusplus.com/facepp/v3/compare\n",
      "b'{\"error_message\":\"AUTHENTICATION_ERROR\"}\\n'\n",
      "error: code=401\n",
      "url=https://api-us.faceplusplus.com/facepp/v3/compare\n",
      "b'{\"error_message\":\"AUTHENTICATION_ERROR\"}\\n'\n",
      "error: code=401\n",
      "url=https://api-us.faceplusplus.com/facepp/v3/compare\n",
      "b'{\"error_message\":\"AUTHENTICATION_ERROR\"}\\n'\n"
     ]
    },
    {
     "name": "stderr",
     "output_type": "stream",
     "text": [
      "  2%|▏         | 17/750 [03:27<2:29:25, 12.23s/it]"
     ]
    },
    {
     "name": "stdout",
     "output_type": "stream",
     "text": [
      "error: code=401\n",
      "url=https://api-us.faceplusplus.com/facepp/v3/compare\n",
      "b'{\"error_message\":\"AUTHENTICATION_ERROR\"}\\n'\n",
      "error: code=401\n",
      "url=https://api-us.faceplusplus.com/facepp/v3/compare\n",
      "b'{\"error_message\":\"AUTHENTICATION_ERROR\"}\\n'\n",
      "error: code=401\n",
      "url=https://api-us.faceplusplus.com/facepp/v3/compare\n",
      "b'{\"error_message\":\"AUTHENTICATION_ERROR\"}\\n'\n",
      "error: code=401\n",
      "url=https://api-us.faceplusplus.com/facepp/v3/compare\n",
      "b'{\"error_message\":\"AUTHENTICATION_ERROR\"}\\n'\n",
      "error: code=401\n",
      "url=https://api-us.faceplusplus.com/facepp/v3/compare\n",
      "b'{\"error_message\":\"AUTHENTICATION_ERROR\"}\\n'\n",
      "error: code=401\n",
      "url=https://api-us.faceplusplus.com/facepp/v3/compare\n",
      "b'{\"error_message\":\"AUTHENTICATION_ERROR\"}\\n'\n",
      "error: code=401\n",
      "url=https://api-us.faceplusplus.com/facepp/v3/compare\n",
      "b'{\"error_message\":\"AUTHENTICATION_ERROR\"}\\n'\n",
      "error: code=401\n",
      "url=https://api-us.faceplusplus.com/facepp/v3/compare\n",
      "b'{\"error_message\":\"AUTHENTICATION_ERROR\"}\\n'\n"
     ]
    },
    {
     "name": "stderr",
     "output_type": "stream",
     "text": [
      "  2%|▏         | 18/750 [03:39<2:28:17, 12.16s/it]"
     ]
    },
    {
     "name": "stdout",
     "output_type": "stream",
     "text": [
      "error: code=401\n",
      "url=https://api-us.faceplusplus.com/facepp/v3/compare\n",
      "b'{\"error_message\":\"AUTHENTICATION_ERROR\"}\\n'\n",
      "error: code=401\n",
      "url=https://api-us.faceplusplus.com/facepp/v3/compare\n",
      "b'{\"error_message\":\"AUTHENTICATION_ERROR\"}\\n'\n",
      "error: code=401\n",
      "url=https://api-us.faceplusplus.com/facepp/v3/compare\n",
      "b'{\"error_message\":\"AUTHENTICATION_ERROR\"}\\n'\n",
      "error: code=401\n",
      "url=https://api-us.faceplusplus.com/facepp/v3/compare\n",
      "b'{\"error_message\":\"AUTHENTICATION_ERROR\"}\\n'\n",
      "error: code=401\n",
      "url=https://api-us.faceplusplus.com/facepp/v3/compare\n",
      "b'{\"error_message\":\"AUTHENTICATION_ERROR\"}\\n'\n",
      "error: code=401\n",
      "url=https://api-us.faceplusplus.com/facepp/v3/compare\n",
      "b'{\"error_message\":\"AUTHENTICATION_ERROR\"}\\n'\n",
      "error: code=401\n",
      "url=https://api-us.faceplusplus.com/facepp/v3/compare\n",
      "b'{\"error_message\":\"AUTHENTICATION_ERROR\"}\\n'\n",
      "error: code=401\n",
      "url=https://api-us.faceplusplus.com/facepp/v3/compare\n",
      "b'{\"error_message\":\"AUTHENTICATION_ERROR\"}\\n'\n"
     ]
    },
    {
     "name": "stderr",
     "output_type": "stream",
     "text": [
      "  3%|▎         | 19/750 [03:51<2:29:13, 12.25s/it]"
     ]
    },
    {
     "name": "stdout",
     "output_type": "stream",
     "text": [
      "error: code=401\n",
      "url=https://api-us.faceplusplus.com/facepp/v3/compare\n",
      "b'{\"error_message\":\"AUTHENTICATION_ERROR\"}\\n'\n",
      "error: code=401\n",
      "url=https://api-us.faceplusplus.com/facepp/v3/compare\n",
      "b'{\"error_message\":\"AUTHENTICATION_ERROR\"}\\n'\n",
      "error: code=401\n",
      "url=https://api-us.faceplusplus.com/facepp/v3/compare\n",
      "b'{\"error_message\":\"AUTHENTICATION_ERROR\"}\\n'\n",
      "error: code=401\n",
      "url=https://api-us.faceplusplus.com/facepp/v3/compare\n",
      "b'{\"error_message\":\"AUTHENTICATION_ERROR\"}\\n'\n",
      "error: code=401\n",
      "url=https://api-us.faceplusplus.com/facepp/v3/compare\n",
      "b'{\"error_message\":\"AUTHENTICATION_ERROR\"}\\n'\n",
      "error: code=401\n",
      "url=https://api-us.faceplusplus.com/facepp/v3/compare\n",
      "b'{\"error_message\":\"AUTHENTICATION_ERROR\"}\\n'\n",
      "error: code=401\n",
      "url=https://api-us.faceplusplus.com/facepp/v3/compare\n",
      "b'{\"error_message\":\"AUTHENTICATION_ERROR\"}\\n'\n",
      "error: code=401\n",
      "url=https://api-us.faceplusplus.com/facepp/v3/compare\n",
      "b'{\"error_message\":\"AUTHENTICATION_ERROR\"}\\n'\n"
     ]
    },
    {
     "name": "stderr",
     "output_type": "stream",
     "text": [
      "  3%|▎         | 20/750 [04:04<2:30:14, 12.35s/it]"
     ]
    },
    {
     "name": "stdout",
     "output_type": "stream",
     "text": [
      "error: code=401\n",
      "url=https://api-us.faceplusplus.com/facepp/v3/compare\n",
      "b'{\"error_message\":\"AUTHENTICATION_ERROR\"}\\n'\n",
      "error: code=401\n",
      "url=https://api-us.faceplusplus.com/facepp/v3/compare\n",
      "b'{\"error_message\":\"AUTHENTICATION_ERROR\"}\\n'\n",
      "error: code=401\n",
      "url=https://api-us.faceplusplus.com/facepp/v3/compare\n",
      "b'{\"error_message\":\"AUTHENTICATION_ERROR\"}\\n'\n",
      "error: code=401\n",
      "url=https://api-us.faceplusplus.com/facepp/v3/compare\n",
      "b'{\"error_message\":\"AUTHENTICATION_ERROR\"}\\n'\n",
      "error: code=401\n",
      "url=https://api-us.faceplusplus.com/facepp/v3/compare\n",
      "b'{\"error_message\":\"AUTHENTICATION_ERROR\"}\\n'\n",
      "error: code=401\n",
      "url=https://api-us.faceplusplus.com/facepp/v3/compare\n",
      "b'{\"error_message\":\"AUTHENTICATION_ERROR\"}\\n'\n",
      "error: code=401\n",
      "url=https://api-us.faceplusplus.com/facepp/v3/compare\n",
      "b'{\"error_message\":\"AUTHENTICATION_ERROR\"}\\n'\n",
      "error: code=401\n",
      "url=https://api-us.faceplusplus.com/facepp/v3/compare\n",
      "b'{\"error_message\":\"AUTHENTICATION_ERROR\"}\\n'\n"
     ]
    },
    {
     "name": "stderr",
     "output_type": "stream",
     "text": [
      "  3%|▎         | 21/750 [04:16<2:30:08, 12.36s/it]"
     ]
    },
    {
     "name": "stdout",
     "output_type": "stream",
     "text": [
      "error: code=401\n",
      "url=https://api-us.faceplusplus.com/facepp/v3/compare\n",
      "b'{\"error_message\":\"AUTHENTICATION_ERROR\"}\\n'\n",
      "error: code=401\n",
      "url=https://api-us.faceplusplus.com/facepp/v3/compare\n",
      "b'{\"error_message\":\"AUTHENTICATION_ERROR\"}\\n'\n",
      "error: code=401\n",
      "url=https://api-us.faceplusplus.com/facepp/v3/compare\n",
      "b'{\"error_message\":\"AUTHENTICATION_ERROR\"}\\n'\n",
      "error: code=401\n",
      "url=https://api-us.faceplusplus.com/facepp/v3/compare\n",
      "b'{\"error_message\":\"AUTHENTICATION_ERROR\"}\\n'\n",
      "error: code=401\n",
      "url=https://api-us.faceplusplus.com/facepp/v3/compare\n",
      "b'{\"error_message\":\"AUTHENTICATION_ERROR\"}\\n'\n",
      "error: code=401\n",
      "url=https://api-us.faceplusplus.com/facepp/v3/compare\n",
      "b'{\"error_message\":\"AUTHENTICATION_ERROR\"}\\n'\n",
      "error: code=401\n",
      "url=https://api-us.faceplusplus.com/facepp/v3/compare\n",
      "b'{\"error_message\":\"AUTHENTICATION_ERROR\"}\\n'\n",
      "error: code=401\n",
      "url=https://api-us.faceplusplus.com/facepp/v3/compare\n",
      "b'{\"error_message\":\"AUTHENTICATION_ERROR\"}\\n'\n"
     ]
    },
    {
     "name": "stderr",
     "output_type": "stream",
     "text": [
      "  3%|▎         | 22/750 [04:29<2:29:44, 12.34s/it]"
     ]
    },
    {
     "name": "stdout",
     "output_type": "stream",
     "text": [
      "error: code=401\n",
      "url=https://api-us.faceplusplus.com/facepp/v3/compare\n",
      "b'{\"error_message\":\"AUTHENTICATION_ERROR\"}\\n'\n",
      "error: code=401\n",
      "url=https://api-us.faceplusplus.com/facepp/v3/compare\n",
      "b'{\"error_message\":\"AUTHENTICATION_ERROR\"}\\n'\n",
      "error: code=401\n",
      "url=https://api-us.faceplusplus.com/facepp/v3/compare\n",
      "b'{\"error_message\":\"AUTHENTICATION_ERROR\"}\\n'\n",
      "error: code=401\n",
      "url=https://api-us.faceplusplus.com/facepp/v3/compare\n",
      "b'{\"error_message\":\"AUTHENTICATION_ERROR\"}\\n'\n",
      "error: code=401\n",
      "url=https://api-us.faceplusplus.com/facepp/v3/compare\n",
      "b'{\"error_message\":\"AUTHENTICATION_ERROR\"}\\n'\n",
      "error: code=401\n",
      "url=https://api-us.faceplusplus.com/facepp/v3/compare\n",
      "b'{\"error_message\":\"AUTHENTICATION_ERROR\"}\\n'\n",
      "error: code=401\n",
      "url=https://api-us.faceplusplus.com/facepp/v3/compare\n",
      "b'{\"error_message\":\"AUTHENTICATION_ERROR\"}\\n'\n",
      "error: code=401\n",
      "url=https://api-us.faceplusplus.com/facepp/v3/compare\n",
      "b'{\"error_message\":\"AUTHENTICATION_ERROR\"}\\n'\n"
     ]
    },
    {
     "name": "stderr",
     "output_type": "stream",
     "text": [
      "  3%|▎         | 23/750 [04:41<2:28:42, 12.27s/it]"
     ]
    },
    {
     "name": "stdout",
     "output_type": "stream",
     "text": [
      "error: code=401\n",
      "url=https://api-us.faceplusplus.com/facepp/v3/compare\n",
      "b'{\"error_message\":\"AUTHENTICATION_ERROR\"}\\n'\n",
      "error: code=401\n",
      "url=https://api-us.faceplusplus.com/facepp/v3/compare\n",
      "b'{\"error_message\":\"AUTHENTICATION_ERROR\"}\\n'\n",
      "error: code=401\n",
      "url=https://api-us.faceplusplus.com/facepp/v3/compare\n",
      "b'{\"error_message\":\"AUTHENTICATION_ERROR\"}\\n'\n",
      "error: code=401\n",
      "url=https://api-us.faceplusplus.com/facepp/v3/compare\n",
      "b'{\"error_message\":\"AUTHENTICATION_ERROR\"}\\n'\n",
      "error: code=401\n",
      "url=https://api-us.faceplusplus.com/facepp/v3/compare\n",
      "b'{\"error_message\":\"AUTHENTICATION_ERROR\"}\\n'\n",
      "error: code=401\n",
      "url=https://api-us.faceplusplus.com/facepp/v3/compare\n",
      "b'{\"error_message\":\"AUTHENTICATION_ERROR\"}\\n'\n",
      "error: code=401\n",
      "url=https://api-us.faceplusplus.com/facepp/v3/compare\n",
      "b'{\"error_message\":\"AUTHENTICATION_ERROR\"}\\n'\n",
      "error: code=401\n",
      "url=https://api-us.faceplusplus.com/facepp/v3/compare\n",
      "b'{\"error_message\":\"AUTHENTICATION_ERROR\"}\\n'\n"
     ]
    },
    {
     "name": "stderr",
     "output_type": "stream",
     "text": [
      "  3%|▎         | 24/750 [04:53<2:28:50, 12.30s/it]"
     ]
    },
    {
     "name": "stdout",
     "output_type": "stream",
     "text": [
      "error: code=401\n",
      "url=https://api-us.faceplusplus.com/facepp/v3/compare\n",
      "b'{\"error_message\":\"AUTHENTICATION_ERROR\"}\\n'\n",
      "error: code=401\n",
      "url=https://api-us.faceplusplus.com/facepp/v3/compare\n",
      "b'{\"error_message\":\"AUTHENTICATION_ERROR\"}\\n'\n",
      "error: code=401\n",
      "url=https://api-us.faceplusplus.com/facepp/v3/compare\n",
      "b'{\"error_message\":\"AUTHENTICATION_ERROR\"}\\n'\n",
      "error: code=401\n",
      "url=https://api-us.faceplusplus.com/facepp/v3/compare\n",
      "b'{\"error_message\":\"AUTHENTICATION_ERROR\"}\\n'\n",
      "error: code=401\n",
      "url=https://api-us.faceplusplus.com/facepp/v3/compare\n",
      "b'{\"error_message\":\"AUTHENTICATION_ERROR\"}\\n'\n",
      "error: code=401\n",
      "url=https://api-us.faceplusplus.com/facepp/v3/compare\n",
      "b'{\"error_message\":\"AUTHENTICATION_ERROR\"}\\n'\n",
      "error: code=401\n",
      "url=https://api-us.faceplusplus.com/facepp/v3/compare\n",
      "b'{\"error_message\":\"AUTHENTICATION_ERROR\"}\\n'\n",
      "error: code=401\n",
      "url=https://api-us.faceplusplus.com/facepp/v3/compare\n",
      "b'{\"error_message\":\"AUTHENTICATION_ERROR\"}\\n'\n"
     ]
    },
    {
     "name": "stderr",
     "output_type": "stream",
     "text": [
      "  3%|▎         | 25/750 [05:05<2:28:42, 12.31s/it]"
     ]
    },
    {
     "name": "stdout",
     "output_type": "stream",
     "text": [
      "error: code=401\n",
      "url=https://api-us.faceplusplus.com/facepp/v3/compare\n",
      "b'{\"error_message\":\"AUTHENTICATION_ERROR\"}\\n'\n",
      "error: code=401\n",
      "url=https://api-us.faceplusplus.com/facepp/v3/compare\n",
      "b'{\"error_message\":\"AUTHENTICATION_ERROR\"}\\n'\n",
      "error: code=401\n",
      "url=https://api-us.faceplusplus.com/facepp/v3/compare\n",
      "b'{\"error_message\":\"AUTHENTICATION_ERROR\"}\\n'\n",
      "error: code=401\n",
      "url=https://api-us.faceplusplus.com/facepp/v3/compare\n",
      "b'{\"error_message\":\"AUTHENTICATION_ERROR\"}\\n'\n",
      "error: code=401\n",
      "url=https://api-us.faceplusplus.com/facepp/v3/compare\n",
      "b'{\"error_message\":\"AUTHENTICATION_ERROR\"}\\n'\n",
      "error: code=401\n",
      "url=https://api-us.faceplusplus.com/facepp/v3/compare\n",
      "b'{\"error_message\":\"AUTHENTICATION_ERROR\"}\\n'\n",
      "error: code=401\n",
      "url=https://api-us.faceplusplus.com/facepp/v3/compare\n",
      "b'{\"error_message\":\"AUTHENTICATION_ERROR\"}\\n'\n",
      "error: code=401\n",
      "url=https://api-us.faceplusplus.com/facepp/v3/compare\n",
      "b'{\"error_message\":\"AUTHENTICATION_ERROR\"}\\n'\n"
     ]
    },
    {
     "name": "stderr",
     "output_type": "stream",
     "text": [
      "  3%|▎         | 26/750 [05:18<2:27:46, 12.25s/it]"
     ]
    },
    {
     "name": "stdout",
     "output_type": "stream",
     "text": [
      "error: code=401\n",
      "url=https://api-us.faceplusplus.com/facepp/v3/compare\n",
      "b'{\"error_message\":\"AUTHENTICATION_ERROR\"}\\n'\n",
      "error: code=401\n",
      "url=https://api-us.faceplusplus.com/facepp/v3/compare\n",
      "b'{\"error_message\":\"AUTHENTICATION_ERROR\"}\\n'\n",
      "error: code=401\n",
      "url=https://api-us.faceplusplus.com/facepp/v3/compare\n",
      "b'{\"error_message\":\"AUTHENTICATION_ERROR\"}\\n'\n",
      "error: code=401\n",
      "url=https://api-us.faceplusplus.com/facepp/v3/compare\n",
      "b'{\"error_message\":\"AUTHENTICATION_ERROR\"}\\n'\n",
      "error: code=401\n",
      "url=https://api-us.faceplusplus.com/facepp/v3/compare\n",
      "b'{\"error_message\":\"AUTHENTICATION_ERROR\"}\\n'\n",
      "error: code=401\n",
      "url=https://api-us.faceplusplus.com/facepp/v3/compare\n",
      "b'{\"error_message\":\"AUTHENTICATION_ERROR\"}\\n'\n",
      "error: code=401\n",
      "url=https://api-us.faceplusplus.com/facepp/v3/compare\n",
      "b'{\"error_message\":\"AUTHENTICATION_ERROR\"}\\n'\n",
      "error: code=401\n",
      "url=https://api-us.faceplusplus.com/facepp/v3/compare\n",
      "b'{\"error_message\":\"AUTHENTICATION_ERROR\"}\\n'\n"
     ]
    },
    {
     "name": "stderr",
     "output_type": "stream",
     "text": [
      "  4%|▎         | 27/750 [05:30<2:28:03, 12.29s/it]"
     ]
    },
    {
     "name": "stdout",
     "output_type": "stream",
     "text": [
      "error: code=401\n",
      "url=https://api-us.faceplusplus.com/facepp/v3/compare\n",
      "b'{\"error_message\":\"AUTHENTICATION_ERROR\"}\\n'\n",
      "error: code=401\n",
      "url=https://api-us.faceplusplus.com/facepp/v3/compare\n",
      "b'{\"error_message\":\"AUTHENTICATION_ERROR\"}\\n'\n",
      "error: code=401\n",
      "url=https://api-us.faceplusplus.com/facepp/v3/compare\n",
      "b'{\"error_message\":\"AUTHENTICATION_ERROR\"}\\n'\n",
      "error: code=401\n",
      "url=https://api-us.faceplusplus.com/facepp/v3/compare\n",
      "b'{\"error_message\":\"AUTHENTICATION_ERROR\"}\\n'\n",
      "error: code=401\n",
      "url=https://api-us.faceplusplus.com/facepp/v3/compare\n",
      "b'{\"error_message\":\"AUTHENTICATION_ERROR\"}\\n'\n",
      "error: code=401\n",
      "url=https://api-us.faceplusplus.com/facepp/v3/compare\n",
      "b'{\"error_message\":\"AUTHENTICATION_ERROR\"}\\n'\n",
      "error: code=401\n",
      "url=https://api-us.faceplusplus.com/facepp/v3/compare\n",
      "b'{\"error_message\":\"AUTHENTICATION_ERROR\"}\\n'\n",
      "error: code=401\n",
      "url=https://api-us.faceplusplus.com/facepp/v3/compare\n",
      "b'{\"error_message\":\"AUTHENTICATION_ERROR\"}\\n'\n"
     ]
    },
    {
     "name": "stderr",
     "output_type": "stream",
     "text": [
      "  4%|▎         | 28/750 [05:42<2:27:28, 12.26s/it]"
     ]
    },
    {
     "name": "stdout",
     "output_type": "stream",
     "text": [
      "error: code=401\n",
      "url=https://api-us.faceplusplus.com/facepp/v3/compare\n",
      "b'{\"error_message\":\"AUTHENTICATION_ERROR\"}\\n'\n",
      "error: code=401\n",
      "url=https://api-us.faceplusplus.com/facepp/v3/compare\n",
      "b'{\"error_message\":\"AUTHENTICATION_ERROR\"}\\n'\n",
      "error: code=401\n",
      "url=https://api-us.faceplusplus.com/facepp/v3/compare\n",
      "b'{\"error_message\":\"AUTHENTICATION_ERROR\"}\\n'\n",
      "error: code=401\n",
      "url=https://api-us.faceplusplus.com/facepp/v3/compare\n",
      "b'{\"error_message\":\"AUTHENTICATION_ERROR\"}\\n'\n",
      "error: code=401\n",
      "url=https://api-us.faceplusplus.com/facepp/v3/compare\n",
      "b'{\"error_message\":\"AUTHENTICATION_ERROR\"}\\n'\n",
      "error: code=401\n",
      "url=https://api-us.faceplusplus.com/facepp/v3/compare\n",
      "b'{\"error_message\":\"AUTHENTICATION_ERROR\"}\\n'\n",
      "error: code=401\n",
      "url=https://api-us.faceplusplus.com/facepp/v3/compare\n",
      "b'{\"error_message\":\"AUTHENTICATION_ERROR\"}\\n'\n",
      "error: code=401\n",
      "url=https://api-us.faceplusplus.com/facepp/v3/compare\n",
      "b'{\"error_message\":\"AUTHENTICATION_ERROR\"}\\n'\n"
     ]
    },
    {
     "name": "stderr",
     "output_type": "stream",
     "text": [
      "  4%|▍         | 29/750 [05:54<2:26:24, 12.18s/it]"
     ]
    },
    {
     "name": "stdout",
     "output_type": "stream",
     "text": [
      "error: code=401\n",
      "url=https://api-us.faceplusplus.com/facepp/v3/compare\n",
      "b'{\"error_message\":\"AUTHENTICATION_ERROR\"}\\n'\n",
      "error: code=401\n",
      "url=https://api-us.faceplusplus.com/facepp/v3/compare\n",
      "b'{\"error_message\":\"AUTHENTICATION_ERROR\"}\\n'\n",
      "error: code=401\n",
      "url=https://api-us.faceplusplus.com/facepp/v3/compare\n",
      "b'{\"error_message\":\"AUTHENTICATION_ERROR\"}\\n'\n",
      "error: code=401\n",
      "url=https://api-us.faceplusplus.com/facepp/v3/compare\n",
      "b'{\"error_message\":\"AUTHENTICATION_ERROR\"}\\n'\n",
      "error: code=401\n",
      "url=https://api-us.faceplusplus.com/facepp/v3/compare\n",
      "b'{\"error_message\":\"AUTHENTICATION_ERROR\"}\\n'\n",
      "error: code=401\n",
      "url=https://api-us.faceplusplus.com/facepp/v3/compare\n",
      "b'{\"error_message\":\"AUTHENTICATION_ERROR\"}\\n'\n",
      "error: code=401\n",
      "url=https://api-us.faceplusplus.com/facepp/v3/compare\n",
      "b'{\"error_message\":\"AUTHENTICATION_ERROR\"}\\n'\n",
      "error: code=401\n",
      "url=https://api-us.faceplusplus.com/facepp/v3/compare\n",
      "b'{\"error_message\":\"AUTHENTICATION_ERROR\"}\\n'\n"
     ]
    },
    {
     "name": "stderr",
     "output_type": "stream",
     "text": [
      "  4%|▍         | 30/750 [06:06<2:25:52, 12.16s/it]"
     ]
    },
    {
     "name": "stdout",
     "output_type": "stream",
     "text": [
      "error: code=401\n",
      "url=https://api-us.faceplusplus.com/facepp/v3/compare\n",
      "b'{\"error_message\":\"AUTHENTICATION_ERROR\"}\\n'\n",
      "error: code=401\n",
      "url=https://api-us.faceplusplus.com/facepp/v3/compare\n",
      "b'{\"error_message\":\"AUTHENTICATION_ERROR\"}\\n'\n",
      "error: code=401\n",
      "url=https://api-us.faceplusplus.com/facepp/v3/compare\n",
      "b'{\"error_message\":\"AUTHENTICATION_ERROR\"}\\n'\n",
      "error: code=401\n",
      "url=https://api-us.faceplusplus.com/facepp/v3/compare\n",
      "b'{\"error_message\":\"AUTHENTICATION_ERROR\"}\\n'\n",
      "error: code=401\n",
      "url=https://api-us.faceplusplus.com/facepp/v3/compare\n",
      "b'{\"error_message\":\"AUTHENTICATION_ERROR\"}\\n'\n",
      "error: code=401\n",
      "url=https://api-us.faceplusplus.com/facepp/v3/compare\n",
      "b'{\"error_message\":\"AUTHENTICATION_ERROR\"}\\n'\n",
      "error: code=401\n",
      "url=https://api-us.faceplusplus.com/facepp/v3/compare\n",
      "b'{\"error_message\":\"AUTHENTICATION_ERROR\"}\\n'\n",
      "error: code=401\n",
      "url=https://api-us.faceplusplus.com/facepp/v3/compare\n",
      "b'{\"error_message\":\"AUTHENTICATION_ERROR\"}\\n'\n"
     ]
    },
    {
     "name": "stderr",
     "output_type": "stream",
     "text": [
      "  4%|▍         | 31/750 [06:19<2:27:13, 12.29s/it]"
     ]
    },
    {
     "name": "stdout",
     "output_type": "stream",
     "text": [
      "error: code=401\n",
      "url=https://api-us.faceplusplus.com/facepp/v3/compare\n",
      "b'{\"error_message\":\"AUTHENTICATION_ERROR\"}\\n'\n",
      "error: code=401\n",
      "url=https://api-us.faceplusplus.com/facepp/v3/compare\n",
      "b'{\"error_message\":\"AUTHENTICATION_ERROR\"}\\n'\n",
      "error: code=401\n",
      "url=https://api-us.faceplusplus.com/facepp/v3/compare\n",
      "b'{\"error_message\":\"AUTHENTICATION_ERROR\"}\\n'\n",
      "error: code=401\n",
      "url=https://api-us.faceplusplus.com/facepp/v3/compare\n",
      "b'{\"error_message\":\"AUTHENTICATION_ERROR\"}\\n'\n",
      "error: code=401\n",
      "url=https://api-us.faceplusplus.com/facepp/v3/compare\n",
      "b'{\"error_message\":\"AUTHENTICATION_ERROR\"}\\n'\n",
      "error: code=401\n",
      "url=https://api-us.faceplusplus.com/facepp/v3/compare\n",
      "b'{\"error_message\":\"AUTHENTICATION_ERROR\"}\\n'\n",
      "error: code=401\n",
      "url=https://api-us.faceplusplus.com/facepp/v3/compare\n",
      "b'{\"error_message\":\"AUTHENTICATION_ERROR\"}\\n'\n",
      "error: code=401\n",
      "url=https://api-us.faceplusplus.com/facepp/v3/compare\n",
      "b'{\"error_message\":\"AUTHENTICATION_ERROR\"}\\n'\n"
     ]
    },
    {
     "name": "stderr",
     "output_type": "stream",
     "text": [
      "  4%|▍         | 32/750 [06:31<2:25:31, 12.16s/it]"
     ]
    },
    {
     "name": "stdout",
     "output_type": "stream",
     "text": [
      "error: code=401\n",
      "url=https://api-us.faceplusplus.com/facepp/v3/compare\n",
      "b'{\"error_message\":\"AUTHENTICATION_ERROR\"}\\n'\n",
      "error: code=401\n",
      "url=https://api-us.faceplusplus.com/facepp/v3/compare\n",
      "b'{\"error_message\":\"AUTHENTICATION_ERROR\"}\\n'\n",
      "error: code=401\n",
      "url=https://api-us.faceplusplus.com/facepp/v3/compare\n",
      "b'{\"error_message\":\"AUTHENTICATION_ERROR\"}\\n'\n",
      "error: code=401\n",
      "url=https://api-us.faceplusplus.com/facepp/v3/compare\n",
      "b'{\"error_message\":\"AUTHENTICATION_ERROR\"}\\n'\n",
      "error: code=401\n",
      "url=https://api-us.faceplusplus.com/facepp/v3/compare\n",
      "b'{\"error_message\":\"AUTHENTICATION_ERROR\"}\\n'\n",
      "error: code=401\n",
      "url=https://api-us.faceplusplus.com/facepp/v3/compare\n",
      "b'{\"error_message\":\"AUTHENTICATION_ERROR\"}\\n'\n",
      "error: code=401\n",
      "url=https://api-us.faceplusplus.com/facepp/v3/compare\n",
      "b'{\"error_message\":\"AUTHENTICATION_ERROR\"}\\n'\n",
      "error: code=401\n",
      "url=https://api-us.faceplusplus.com/facepp/v3/compare\n",
      "b'{\"error_message\":\"AUTHENTICATION_ERROR\"}\\n'\n"
     ]
    },
    {
     "name": "stderr",
     "output_type": "stream",
     "text": [
      "  4%|▍         | 33/750 [06:43<2:25:06, 12.14s/it]"
     ]
    },
    {
     "name": "stdout",
     "output_type": "stream",
     "text": [
      "error: code=401\n",
      "url=https://api-us.faceplusplus.com/facepp/v3/compare\n",
      "b'{\"error_message\":\"AUTHENTICATION_ERROR\"}\\n'\n",
      "error: code=401\n",
      "url=https://api-us.faceplusplus.com/facepp/v3/compare\n",
      "b'{\"error_message\":\"AUTHENTICATION_ERROR\"}\\n'\n",
      "error: code=401\n",
      "url=https://api-us.faceplusplus.com/facepp/v3/compare\n",
      "b'{\"error_message\":\"AUTHENTICATION_ERROR\"}\\n'\n",
      "error: code=401\n",
      "url=https://api-us.faceplusplus.com/facepp/v3/compare\n",
      "b'{\"error_message\":\"AUTHENTICATION_ERROR\"}\\n'\n",
      "error: code=401\n",
      "url=https://api-us.faceplusplus.com/facepp/v3/compare\n",
      "b'{\"error_message\":\"AUTHENTICATION_ERROR\"}\\n'\n",
      "error: code=401\n",
      "url=https://api-us.faceplusplus.com/facepp/v3/compare\n",
      "b'{\"error_message\":\"AUTHENTICATION_ERROR\"}\\n'\n",
      "error: code=401\n",
      "url=https://api-us.faceplusplus.com/facepp/v3/compare\n",
      "b'{\"error_message\":\"AUTHENTICATION_ERROR\"}\\n'\n",
      "error: code=401\n",
      "url=https://api-us.faceplusplus.com/facepp/v3/compare\n",
      "b'{\"error_message\":\"AUTHENTICATION_ERROR\"}\\n'\n"
     ]
    },
    {
     "name": "stderr",
     "output_type": "stream",
     "text": [
      "  5%|▍         | 34/750 [06:55<2:24:49, 12.14s/it]"
     ]
    },
    {
     "name": "stdout",
     "output_type": "stream",
     "text": [
      "error: code=401\n",
      "url=https://api-us.faceplusplus.com/facepp/v3/compare\n",
      "b'{\"error_message\":\"AUTHENTICATION_ERROR\"}\\n'\n",
      "error: code=401\n",
      "url=https://api-us.faceplusplus.com/facepp/v3/compare\n",
      "b'{\"error_message\":\"AUTHENTICATION_ERROR\"}\\n'\n",
      "error: code=401\n",
      "url=https://api-us.faceplusplus.com/facepp/v3/compare\n",
      "b'{\"error_message\":\"AUTHENTICATION_ERROR\"}\\n'\n",
      "error: code=401\n",
      "url=https://api-us.faceplusplus.com/facepp/v3/compare\n",
      "b'{\"error_message\":\"AUTHENTICATION_ERROR\"}\\n'\n",
      "error: code=401\n",
      "url=https://api-us.faceplusplus.com/facepp/v3/compare\n",
      "b'{\"error_message\":\"AUTHENTICATION_ERROR\"}\\n'\n",
      "error: code=401\n",
      "url=https://api-us.faceplusplus.com/facepp/v3/compare\n",
      "b'{\"error_message\":\"AUTHENTICATION_ERROR\"}\\n'\n",
      "error: code=401\n",
      "url=https://api-us.faceplusplus.com/facepp/v3/compare\n",
      "b'{\"error_message\":\"AUTHENTICATION_ERROR\"}\\n'\n",
      "error: code=401\n",
      "url=https://api-us.faceplusplus.com/facepp/v3/compare\n",
      "b'{\"error_message\":\"AUTHENTICATION_ERROR\"}\\n'\n"
     ]
    },
    {
     "name": "stderr",
     "output_type": "stream",
     "text": [
      "  5%|▍         | 35/750 [07:07<2:25:35, 12.22s/it]"
     ]
    },
    {
     "name": "stdout",
     "output_type": "stream",
     "text": [
      "error: code=401\n",
      "url=https://api-us.faceplusplus.com/facepp/v3/compare\n",
      "b'{\"error_message\":\"AUTHENTICATION_ERROR\"}\\n'\n",
      "error: code=401\n",
      "url=https://api-us.faceplusplus.com/facepp/v3/compare\n",
      "b'{\"error_message\":\"AUTHENTICATION_ERROR\"}\\n'\n",
      "error: code=401\n",
      "url=https://api-us.faceplusplus.com/facepp/v3/compare\n",
      "b'{\"error_message\":\"AUTHENTICATION_ERROR\"}\\n'\n",
      "error: code=401\n",
      "url=https://api-us.faceplusplus.com/facepp/v3/compare\n",
      "b'{\"error_message\":\"AUTHENTICATION_ERROR\"}\\n'\n",
      "error: code=401\n",
      "url=https://api-us.faceplusplus.com/facepp/v3/compare\n",
      "b'{\"error_message\":\"AUTHENTICATION_ERROR\"}\\n'\n",
      "error: code=401\n",
      "url=https://api-us.faceplusplus.com/facepp/v3/compare\n",
      "b'{\"error_message\":\"AUTHENTICATION_ERROR\"}\\n'\n",
      "error: code=401\n",
      "url=https://api-us.faceplusplus.com/facepp/v3/compare\n",
      "b'{\"error_message\":\"AUTHENTICATION_ERROR\"}\\n'\n",
      "error: code=401\n",
      "url=https://api-us.faceplusplus.com/facepp/v3/compare\n",
      "b'{\"error_message\":\"AUTHENTICATION_ERROR\"}\\n'\n"
     ]
    },
    {
     "name": "stderr",
     "output_type": "stream",
     "text": [
      "  5%|▍         | 36/750 [07:19<2:25:04, 12.19s/it]"
     ]
    },
    {
     "name": "stdout",
     "output_type": "stream",
     "text": [
      "error: code=401\n",
      "url=https://api-us.faceplusplus.com/facepp/v3/compare\n",
      "b'{\"error_message\":\"AUTHENTICATION_ERROR\"}\\n'\n",
      "error: code=401\n",
      "url=https://api-us.faceplusplus.com/facepp/v3/compare\n",
      "b'{\"error_message\":\"AUTHENTICATION_ERROR\"}\\n'\n",
      "error: code=401\n",
      "url=https://api-us.faceplusplus.com/facepp/v3/compare\n",
      "b'{\"error_message\":\"AUTHENTICATION_ERROR\"}\\n'\n",
      "error: code=401\n",
      "url=https://api-us.faceplusplus.com/facepp/v3/compare\n",
      "b'{\"error_message\":\"AUTHENTICATION_ERROR\"}\\n'\n",
      "error: code=401\n",
      "url=https://api-us.faceplusplus.com/facepp/v3/compare\n",
      "b'{\"error_message\":\"AUTHENTICATION_ERROR\"}\\n'\n",
      "error: code=401\n",
      "url=https://api-us.faceplusplus.com/facepp/v3/compare\n",
      "b'{\"error_message\":\"AUTHENTICATION_ERROR\"}\\n'\n",
      "error: code=401\n",
      "url=https://api-us.faceplusplus.com/facepp/v3/compare\n",
      "b'{\"error_message\":\"AUTHENTICATION_ERROR\"}\\n'\n",
      "error: code=401\n",
      "url=https://api-us.faceplusplus.com/facepp/v3/compare\n",
      "b'{\"error_message\":\"AUTHENTICATION_ERROR\"}\\n'\n"
     ]
    },
    {
     "name": "stderr",
     "output_type": "stream",
     "text": [
      "  5%|▍         | 37/750 [07:32<2:25:27, 12.24s/it]"
     ]
    },
    {
     "name": "stdout",
     "output_type": "stream",
     "text": [
      "error: code=401\n",
      "url=https://api-us.faceplusplus.com/facepp/v3/compare\n",
      "b'{\"error_message\":\"AUTHENTICATION_ERROR\"}\\n'\n",
      "error: code=401\n",
      "url=https://api-us.faceplusplus.com/facepp/v3/compare\n",
      "b'{\"error_message\":\"AUTHENTICATION_ERROR\"}\\n'\n",
      "error: code=401\n",
      "url=https://api-us.faceplusplus.com/facepp/v3/compare\n",
      "b'{\"error_message\":\"AUTHENTICATION_ERROR\"}\\n'\n",
      "error: code=401\n",
      "url=https://api-us.faceplusplus.com/facepp/v3/compare\n",
      "b'{\"error_message\":\"AUTHENTICATION_ERROR\"}\\n'\n",
      "error: code=401\n",
      "url=https://api-us.faceplusplus.com/facepp/v3/compare\n",
      "b'{\"error_message\":\"AUTHENTICATION_ERROR\"}\\n'\n",
      "error: code=401\n",
      "url=https://api-us.faceplusplus.com/facepp/v3/compare\n",
      "b'{\"error_message\":\"AUTHENTICATION_ERROR\"}\\n'\n",
      "error: code=401\n",
      "url=https://api-us.faceplusplus.com/facepp/v3/compare\n",
      "b'{\"error_message\":\"AUTHENTICATION_ERROR\"}\\n'\n",
      "error: code=401\n",
      "url=https://api-us.faceplusplus.com/facepp/v3/compare\n",
      "b'{\"error_message\":\"AUTHENTICATION_ERROR\"}\\n'\n"
     ]
    },
    {
     "name": "stderr",
     "output_type": "stream",
     "text": [
      "  5%|▌         | 38/750 [07:44<2:24:27, 12.17s/it]"
     ]
    },
    {
     "name": "stdout",
     "output_type": "stream",
     "text": [
      "error: code=401\n",
      "url=https://api-us.faceplusplus.com/facepp/v3/compare\n",
      "b'{\"error_message\":\"AUTHENTICATION_ERROR\"}\\n'\n",
      "error: code=401\n",
      "url=https://api-us.faceplusplus.com/facepp/v3/compare\n",
      "b'{\"error_message\":\"AUTHENTICATION_ERROR\"}\\n'\n",
      "error: code=401\n",
      "url=https://api-us.faceplusplus.com/facepp/v3/compare\n",
      "b'{\"error_message\":\"AUTHENTICATION_ERROR\"}\\n'\n",
      "error: code=401\n",
      "url=https://api-us.faceplusplus.com/facepp/v3/compare\n",
      "b'{\"error_message\":\"AUTHENTICATION_ERROR\"}\\n'\n",
      "error: code=401\n",
      "url=https://api-us.faceplusplus.com/facepp/v3/compare\n",
      "b'{\"error_message\":\"AUTHENTICATION_ERROR\"}\\n'\n",
      "error: code=401\n",
      "url=https://api-us.faceplusplus.com/facepp/v3/compare\n",
      "b'{\"error_message\":\"AUTHENTICATION_ERROR\"}\\n'\n",
      "error: code=401\n",
      "url=https://api-us.faceplusplus.com/facepp/v3/compare\n",
      "b'{\"error_message\":\"AUTHENTICATION_ERROR\"}\\n'\n",
      "error: code=401\n",
      "url=https://api-us.faceplusplus.com/facepp/v3/compare\n",
      "b'{\"error_message\":\"AUTHENTICATION_ERROR\"}\\n'\n"
     ]
    },
    {
     "name": "stderr",
     "output_type": "stream",
     "text": [
      "  5%|▌         | 39/750 [07:56<2:24:08, 12.16s/it]"
     ]
    },
    {
     "name": "stdout",
     "output_type": "stream",
     "text": [
      "error: code=401\n",
      "url=https://api-us.faceplusplus.com/facepp/v3/compare\n",
      "b'{\"error_message\":\"AUTHENTICATION_ERROR\"}\\n'\n",
      "error: code=401\n",
      "url=https://api-us.faceplusplus.com/facepp/v3/compare\n",
      "b'{\"error_message\":\"AUTHENTICATION_ERROR\"}\\n'\n",
      "error: code=401\n",
      "url=https://api-us.faceplusplus.com/facepp/v3/compare\n",
      "b'{\"error_message\":\"AUTHENTICATION_ERROR\"}\\n'\n",
      "error: code=401\n",
      "url=https://api-us.faceplusplus.com/facepp/v3/compare\n",
      "b'{\"error_message\":\"AUTHENTICATION_ERROR\"}\\n'\n",
      "error: code=401\n",
      "url=https://api-us.faceplusplus.com/facepp/v3/compare\n",
      "b'{\"error_message\":\"AUTHENTICATION_ERROR\"}\\n'\n",
      "error: code=401\n",
      "url=https://api-us.faceplusplus.com/facepp/v3/compare\n",
      "b'{\"error_message\":\"AUTHENTICATION_ERROR\"}\\n'\n",
      "error: code=401\n",
      "url=https://api-us.faceplusplus.com/facepp/v3/compare\n",
      "b'{\"error_message\":\"AUTHENTICATION_ERROR\"}\\n'\n",
      "error: code=401\n",
      "url=https://api-us.faceplusplus.com/facepp/v3/compare\n",
      "b'{\"error_message\":\"AUTHENTICATION_ERROR\"}\\n'\n"
     ]
    },
    {
     "name": "stderr",
     "output_type": "stream",
     "text": [
      "  5%|▌         | 40/750 [08:08<2:24:22, 12.20s/it]"
     ]
    },
    {
     "name": "stdout",
     "output_type": "stream",
     "text": [
      "error: code=401\n",
      "url=https://api-us.faceplusplus.com/facepp/v3/compare\n",
      "b'{\"error_message\":\"AUTHENTICATION_ERROR\"}\\n'\n",
      "error: code=401\n",
      "url=https://api-us.faceplusplus.com/facepp/v3/compare\n",
      "b'{\"error_message\":\"AUTHENTICATION_ERROR\"}\\n'\n",
      "error: code=401\n",
      "url=https://api-us.faceplusplus.com/facepp/v3/compare\n",
      "b'{\"error_message\":\"AUTHENTICATION_ERROR\"}\\n'\n",
      "error: code=401\n",
      "url=https://api-us.faceplusplus.com/facepp/v3/compare\n",
      "b'{\"error_message\":\"AUTHENTICATION_ERROR\"}\\n'\n",
      "error: code=401\n",
      "url=https://api-us.faceplusplus.com/facepp/v3/compare\n",
      "b'{\"error_message\":\"AUTHENTICATION_ERROR\"}\\n'\n",
      "error: code=401\n",
      "url=https://api-us.faceplusplus.com/facepp/v3/compare\n",
      "b'{\"error_message\":\"AUTHENTICATION_ERROR\"}\\n'\n",
      "error: code=401\n",
      "url=https://api-us.faceplusplus.com/facepp/v3/compare\n",
      "b'{\"error_message\":\"AUTHENTICATION_ERROR\"}\\n'\n",
      "error: code=401\n",
      "url=https://api-us.faceplusplus.com/facepp/v3/compare\n",
      "b'{\"error_message\":\"AUTHENTICATION_ERROR\"}\\n'\n"
     ]
    },
    {
     "name": "stderr",
     "output_type": "stream",
     "text": [
      "  5%|▌         | 41/750 [08:20<2:23:50, 12.17s/it]"
     ]
    },
    {
     "name": "stdout",
     "output_type": "stream",
     "text": [
      "error: code=401\n",
      "url=https://api-us.faceplusplus.com/facepp/v3/compare\n",
      "b'{\"error_message\":\"AUTHENTICATION_ERROR\"}\\n'\n",
      "error: code=401\n",
      "url=https://api-us.faceplusplus.com/facepp/v3/compare\n",
      "b'{\"error_message\":\"AUTHENTICATION_ERROR\"}\\n'\n",
      "error: code=401\n",
      "url=https://api-us.faceplusplus.com/facepp/v3/compare\n",
      "b'{\"error_message\":\"AUTHENTICATION_ERROR\"}\\n'\n",
      "error: code=401\n",
      "url=https://api-us.faceplusplus.com/facepp/v3/compare\n",
      "b'{\"error_message\":\"AUTHENTICATION_ERROR\"}\\n'\n",
      "error: code=401\n",
      "url=https://api-us.faceplusplus.com/facepp/v3/compare\n",
      "b'{\"error_message\":\"AUTHENTICATION_ERROR\"}\\n'\n",
      "error: code=401\n",
      "url=https://api-us.faceplusplus.com/facepp/v3/compare\n",
      "b'{\"error_message\":\"AUTHENTICATION_ERROR\"}\\n'\n",
      "error: code=401\n",
      "url=https://api-us.faceplusplus.com/facepp/v3/compare\n",
      "b'{\"error_message\":\"AUTHENTICATION_ERROR\"}\\n'\n",
      "error: code=401\n",
      "url=https://api-us.faceplusplus.com/facepp/v3/compare\n",
      "b'{\"error_message\":\"AUTHENTICATION_ERROR\"}\\n'\n"
     ]
    },
    {
     "name": "stderr",
     "output_type": "stream",
     "text": [
      "  6%|▌         | 42/750 [08:32<2:22:26, 12.07s/it]"
     ]
    },
    {
     "name": "stdout",
     "output_type": "stream",
     "text": [
      "error: code=401\n",
      "url=https://api-us.faceplusplus.com/facepp/v3/compare\n",
      "b'{\"error_message\":\"AUTHENTICATION_ERROR\"}\\n'\n",
      "error: code=401\n",
      "url=https://api-us.faceplusplus.com/facepp/v3/compare\n",
      "b'{\"error_message\":\"AUTHENTICATION_ERROR\"}\\n'\n",
      "error: code=401\n",
      "url=https://api-us.faceplusplus.com/facepp/v3/compare\n",
      "b'{\"error_message\":\"AUTHENTICATION_ERROR\"}\\n'\n",
      "error: code=401\n",
      "url=https://api-us.faceplusplus.com/facepp/v3/compare\n",
      "b'{\"error_message\":\"AUTHENTICATION_ERROR\"}\\n'\n",
      "error: code=401\n",
      "url=https://api-us.faceplusplus.com/facepp/v3/compare\n",
      "b'{\"error_message\":\"AUTHENTICATION_ERROR\"}\\n'\n",
      "error: code=401\n",
      "url=https://api-us.faceplusplus.com/facepp/v3/compare\n",
      "b'{\"error_message\":\"AUTHENTICATION_ERROR\"}\\n'\n",
      "error: code=401\n",
      "url=https://api-us.faceplusplus.com/facepp/v3/compare\n",
      "b'{\"error_message\":\"AUTHENTICATION_ERROR\"}\\n'\n",
      "error: code=401\n",
      "url=https://api-us.faceplusplus.com/facepp/v3/compare\n",
      "b'{\"error_message\":\"AUTHENTICATION_ERROR\"}\\n'\n"
     ]
    },
    {
     "name": "stderr",
     "output_type": "stream",
     "text": [
      "  6%|▌         | 43/750 [08:44<2:23:12, 12.15s/it]"
     ]
    },
    {
     "name": "stdout",
     "output_type": "stream",
     "text": [
      "error: code=401\n",
      "url=https://api-us.faceplusplus.com/facepp/v3/compare\n",
      "b'{\"error_message\":\"AUTHENTICATION_ERROR\"}\\n'\n",
      "error: code=401\n",
      "url=https://api-us.faceplusplus.com/facepp/v3/compare\n",
      "b'{\"error_message\":\"AUTHENTICATION_ERROR\"}\\n'\n",
      "error: code=401\n",
      "url=https://api-us.faceplusplus.com/facepp/v3/compare\n",
      "b'{\"error_message\":\"AUTHENTICATION_ERROR\"}\\n'\n",
      "error: code=401\n",
      "url=https://api-us.faceplusplus.com/facepp/v3/compare\n",
      "b'{\"error_message\":\"AUTHENTICATION_ERROR\"}\\n'\n",
      "error: code=401\n",
      "url=https://api-us.faceplusplus.com/facepp/v3/compare\n",
      "b'{\"error_message\":\"AUTHENTICATION_ERROR\"}\\n'\n",
      "error: code=401\n",
      "url=https://api-us.faceplusplus.com/facepp/v3/compare\n",
      "b'{\"error_message\":\"AUTHENTICATION_ERROR\"}\\n'\n",
      "error: code=401\n",
      "url=https://api-us.faceplusplus.com/facepp/v3/compare\n",
      "b'{\"error_message\":\"AUTHENTICATION_ERROR\"}\\n'\n",
      "error: code=401\n",
      "url=https://api-us.faceplusplus.com/facepp/v3/compare\n",
      "b'{\"error_message\":\"AUTHENTICATION_ERROR\"}\\n'\n"
     ]
    },
    {
     "name": "stderr",
     "output_type": "stream",
     "text": [
      "  6%|▌         | 44/750 [08:57<2:23:43, 12.21s/it]"
     ]
    },
    {
     "name": "stdout",
     "output_type": "stream",
     "text": [
      "error: code=401\n",
      "url=https://api-us.faceplusplus.com/facepp/v3/compare\n",
      "b'{\"error_message\":\"AUTHENTICATION_ERROR\"}\\n'\n",
      "error: code=401\n",
      "url=https://api-us.faceplusplus.com/facepp/v3/compare\n",
      "b'{\"error_message\":\"AUTHENTICATION_ERROR\"}\\n'\n",
      "error: code=401\n",
      "url=https://api-us.faceplusplus.com/facepp/v3/compare\n",
      "b'{\"error_message\":\"AUTHENTICATION_ERROR\"}\\n'\n",
      "error: code=401\n",
      "url=https://api-us.faceplusplus.com/facepp/v3/compare\n",
      "b'{\"error_message\":\"AUTHENTICATION_ERROR\"}\\n'\n",
      "error: code=401\n",
      "url=https://api-us.faceplusplus.com/facepp/v3/compare\n",
      "b'{\"error_message\":\"AUTHENTICATION_ERROR\"}\\n'\n",
      "error: code=401\n",
      "url=https://api-us.faceplusplus.com/facepp/v3/compare\n",
      "b'{\"error_message\":\"AUTHENTICATION_ERROR\"}\\n'\n",
      "error: code=401\n",
      "url=https://api-us.faceplusplus.com/facepp/v3/compare\n",
      "b'{\"error_message\":\"AUTHENTICATION_ERROR\"}\\n'\n",
      "error: code=401\n",
      "url=https://api-us.faceplusplus.com/facepp/v3/compare\n",
      "b'{\"error_message\":\"AUTHENTICATION_ERROR\"}\\n'\n"
     ]
    },
    {
     "name": "stderr",
     "output_type": "stream",
     "text": [
      "  6%|▌         | 45/750 [09:09<2:22:15, 12.11s/it]"
     ]
    },
    {
     "name": "stdout",
     "output_type": "stream",
     "text": [
      "error: code=401\n",
      "url=https://api-us.faceplusplus.com/facepp/v3/compare\n",
      "b'{\"error_message\":\"AUTHENTICATION_ERROR\"}\\n'\n",
      "error: code=401\n",
      "url=https://api-us.faceplusplus.com/facepp/v3/compare\n",
      "b'{\"error_message\":\"AUTHENTICATION_ERROR\"}\\n'\n",
      "error: code=401\n",
      "url=https://api-us.faceplusplus.com/facepp/v3/compare\n",
      "b'{\"error_message\":\"AUTHENTICATION_ERROR\"}\\n'\n",
      "error: code=401\n",
      "url=https://api-us.faceplusplus.com/facepp/v3/compare\n",
      "b'{\"error_message\":\"AUTHENTICATION_ERROR\"}\\n'\n",
      "error: code=401\n",
      "url=https://api-us.faceplusplus.com/facepp/v3/compare\n",
      "b'{\"error_message\":\"AUTHENTICATION_ERROR\"}\\n'\n",
      "error: code=401\n",
      "url=https://api-us.faceplusplus.com/facepp/v3/compare\n",
      "b'{\"error_message\":\"AUTHENTICATION_ERROR\"}\\n'\n",
      "error: code=401\n",
      "url=https://api-us.faceplusplus.com/facepp/v3/compare\n",
      "b'{\"error_message\":\"AUTHENTICATION_ERROR\"}\\n'\n",
      "error: code=401\n",
      "url=https://api-us.faceplusplus.com/facepp/v3/compare\n",
      "b'{\"error_message\":\"AUTHENTICATION_ERROR\"}\\n'\n"
     ]
    },
    {
     "name": "stderr",
     "output_type": "stream",
     "text": [
      "  6%|▌         | 46/750 [09:21<2:22:18, 12.13s/it]"
     ]
    },
    {
     "name": "stdout",
     "output_type": "stream",
     "text": [
      "error: code=401\n",
      "url=https://api-us.faceplusplus.com/facepp/v3/compare\n",
      "b'{\"error_message\":\"AUTHENTICATION_ERROR\"}\\n'\n",
      "error: code=401\n",
      "url=https://api-us.faceplusplus.com/facepp/v3/compare\n",
      "b'{\"error_message\":\"AUTHENTICATION_ERROR\"}\\n'\n",
      "error: code=401\n",
      "url=https://api-us.faceplusplus.com/facepp/v3/compare\n",
      "b'{\"error_message\":\"AUTHENTICATION_ERROR\"}\\n'\n",
      "error: code=401\n",
      "url=https://api-us.faceplusplus.com/facepp/v3/compare\n",
      "b'{\"error_message\":\"AUTHENTICATION_ERROR\"}\\n'\n",
      "error: code=401\n",
      "url=https://api-us.faceplusplus.com/facepp/v3/compare\n",
      "b'{\"error_message\":\"AUTHENTICATION_ERROR\"}\\n'\n",
      "error: code=401\n",
      "url=https://api-us.faceplusplus.com/facepp/v3/compare\n",
      "b'{\"error_message\":\"AUTHENTICATION_ERROR\"}\\n'\n",
      "error: code=401\n",
      "url=https://api-us.faceplusplus.com/facepp/v3/compare\n",
      "b'{\"error_message\":\"AUTHENTICATION_ERROR\"}\\n'\n",
      "error: code=401\n",
      "url=https://api-us.faceplusplus.com/facepp/v3/compare\n",
      "b'{\"error_message\":\"AUTHENTICATION_ERROR\"}\\n'\n"
     ]
    },
    {
     "name": "stderr",
     "output_type": "stream",
     "text": [
      "  6%|▋         | 47/750 [09:33<2:22:42, 12.18s/it]"
     ]
    },
    {
     "name": "stdout",
     "output_type": "stream",
     "text": [
      "error: code=401\n",
      "url=https://api-us.faceplusplus.com/facepp/v3/compare\n",
      "b'{\"error_message\":\"AUTHENTICATION_ERROR\"}\\n'\n",
      "error: code=401\n",
      "url=https://api-us.faceplusplus.com/facepp/v3/compare\n",
      "b'{\"error_message\":\"AUTHENTICATION_ERROR\"}\\n'\n",
      "error: code=401\n",
      "url=https://api-us.faceplusplus.com/facepp/v3/compare\n",
      "b'{\"error_message\":\"AUTHENTICATION_ERROR\"}\\n'\n",
      "error: code=401\n",
      "url=https://api-us.faceplusplus.com/facepp/v3/compare\n",
      "b'{\"error_message\":\"AUTHENTICATION_ERROR\"}\\n'\n",
      "error: code=401\n",
      "url=https://api-us.faceplusplus.com/facepp/v3/compare\n",
      "b'{\"error_message\":\"AUTHENTICATION_ERROR\"}\\n'\n",
      "error: code=401\n",
      "url=https://api-us.faceplusplus.com/facepp/v3/compare\n",
      "b'{\"error_message\":\"AUTHENTICATION_ERROR\"}\\n'\n",
      "error: code=401\n",
      "url=https://api-us.faceplusplus.com/facepp/v3/compare\n",
      "b'{\"error_message\":\"AUTHENTICATION_ERROR\"}\\n'\n",
      "error: code=401\n",
      "url=https://api-us.faceplusplus.com/facepp/v3/compare\n",
      "b'{\"error_message\":\"AUTHENTICATION_ERROR\"}\\n'\n"
     ]
    },
    {
     "name": "stderr",
     "output_type": "stream",
     "text": [
      "  6%|▋         | 48/750 [09:45<2:21:43, 12.11s/it]"
     ]
    },
    {
     "name": "stdout",
     "output_type": "stream",
     "text": [
      "error: code=401\n",
      "url=https://api-us.faceplusplus.com/facepp/v3/compare\n",
      "b'{\"error_message\":\"AUTHENTICATION_ERROR\"}\\n'\n",
      "error: code=401\n",
      "url=https://api-us.faceplusplus.com/facepp/v3/compare\n",
      "b'{\"error_message\":\"AUTHENTICATION_ERROR\"}\\n'\n",
      "error: code=401\n",
      "url=https://api-us.faceplusplus.com/facepp/v3/compare\n",
      "b'{\"error_message\":\"AUTHENTICATION_ERROR\"}\\n'\n",
      "error: code=401\n",
      "url=https://api-us.faceplusplus.com/facepp/v3/compare\n",
      "b'{\"error_message\":\"AUTHENTICATION_ERROR\"}\\n'\n",
      "error: code=401\n",
      "url=https://api-us.faceplusplus.com/facepp/v3/compare\n",
      "b'{\"error_message\":\"AUTHENTICATION_ERROR\"}\\n'\n",
      "error: code=401\n",
      "url=https://api-us.faceplusplus.com/facepp/v3/compare\n",
      "b'{\"error_message\":\"AUTHENTICATION_ERROR\"}\\n'\n",
      "error: code=401\n",
      "url=https://api-us.faceplusplus.com/facepp/v3/compare\n",
      "b'{\"error_message\":\"AUTHENTICATION_ERROR\"}\\n'\n",
      "error: code=401\n",
      "url=https://api-us.faceplusplus.com/facepp/v3/compare\n",
      "b'{\"error_message\":\"AUTHENTICATION_ERROR\"}\\n'\n"
     ]
    },
    {
     "name": "stderr",
     "output_type": "stream",
     "text": [
      "  7%|▋         | 49/750 [09:57<2:21:24, 12.10s/it]"
     ]
    },
    {
     "name": "stdout",
     "output_type": "stream",
     "text": [
      "error: code=401\n",
      "url=https://api-us.faceplusplus.com/facepp/v3/compare\n",
      "b'{\"error_message\":\"AUTHENTICATION_ERROR\"}\\n'\n",
      "error: code=401\n",
      "url=https://api-us.faceplusplus.com/facepp/v3/compare\n",
      "b'{\"error_message\":\"AUTHENTICATION_ERROR\"}\\n'\n",
      "error: code=401\n",
      "url=https://api-us.faceplusplus.com/facepp/v3/compare\n",
      "b'{\"error_message\":\"AUTHENTICATION_ERROR\"}\\n'\n",
      "error: code=401\n",
      "url=https://api-us.faceplusplus.com/facepp/v3/compare\n",
      "b'{\"error_message\":\"AUTHENTICATION_ERROR\"}\\n'\n",
      "error: code=401\n",
      "url=https://api-us.faceplusplus.com/facepp/v3/compare\n",
      "b'{\"error_message\":\"AUTHENTICATION_ERROR\"}\\n'\n",
      "error: code=401\n",
      "url=https://api-us.faceplusplus.com/facepp/v3/compare\n",
      "b'{\"error_message\":\"AUTHENTICATION_ERROR\"}\\n'\n",
      "error: code=401\n",
      "url=https://api-us.faceplusplus.com/facepp/v3/compare\n",
      "b'{\"error_message\":\"AUTHENTICATION_ERROR\"}\\n'\n",
      "error: code=401\n",
      "url=https://api-us.faceplusplus.com/facepp/v3/compare\n",
      "b'{\"error_message\":\"AUTHENTICATION_ERROR\"}\\n'\n"
     ]
    },
    {
     "name": "stderr",
     "output_type": "stream",
     "text": [
      "  7%|▋         | 50/750 [10:09<2:20:53, 12.08s/it]"
     ]
    },
    {
     "name": "stdout",
     "output_type": "stream",
     "text": [
      "error: code=401\n",
      "url=https://api-us.faceplusplus.com/facepp/v3/compare\n",
      "b'{\"error_message\":\"AUTHENTICATION_ERROR\"}\\n'\n",
      "error: code=401\n",
      "url=https://api-us.faceplusplus.com/facepp/v3/compare\n",
      "b'{\"error_message\":\"AUTHENTICATION_ERROR\"}\\n'\n",
      "error: code=401\n",
      "url=https://api-us.faceplusplus.com/facepp/v3/compare\n",
      "b'{\"error_message\":\"AUTHENTICATION_ERROR\"}\\n'\n",
      "error: code=401\n",
      "url=https://api-us.faceplusplus.com/facepp/v3/compare\n",
      "b'{\"error_message\":\"AUTHENTICATION_ERROR\"}\\n'\n",
      "error: code=401\n",
      "url=https://api-us.faceplusplus.com/facepp/v3/compare\n",
      "b'{\"error_message\":\"AUTHENTICATION_ERROR\"}\\n'\n",
      "error: code=401\n",
      "url=https://api-us.faceplusplus.com/facepp/v3/compare\n",
      "b'{\"error_message\":\"AUTHENTICATION_ERROR\"}\\n'\n",
      "error: code=401\n",
      "url=https://api-us.faceplusplus.com/facepp/v3/compare\n",
      "b'{\"error_message\":\"AUTHENTICATION_ERROR\"}\\n'\n",
      "error: code=401\n",
      "url=https://api-us.faceplusplus.com/facepp/v3/compare\n",
      "b'{\"error_message\":\"AUTHENTICATION_ERROR\"}\\n'\n"
     ]
    },
    {
     "name": "stderr",
     "output_type": "stream",
     "text": [
      "  7%|▋         | 51/750 [10:22<2:22:26, 12.23s/it]"
     ]
    },
    {
     "name": "stdout",
     "output_type": "stream",
     "text": [
      "error: code=401\n",
      "url=https://api-us.faceplusplus.com/facepp/v3/compare\n",
      "b'{\"error_message\":\"AUTHENTICATION_ERROR\"}\\n'\n",
      "error: code=401\n",
      "url=https://api-us.faceplusplus.com/facepp/v3/compare\n",
      "b'{\"error_message\":\"AUTHENTICATION_ERROR\"}\\n'\n",
      "error: code=401\n",
      "url=https://api-us.faceplusplus.com/facepp/v3/compare\n",
      "b'{\"error_message\":\"AUTHENTICATION_ERROR\"}\\n'\n",
      "error: code=401\n",
      "url=https://api-us.faceplusplus.com/facepp/v3/compare\n",
      "b'{\"error_message\":\"AUTHENTICATION_ERROR\"}\\n'\n",
      "error: code=401\n",
      "url=https://api-us.faceplusplus.com/facepp/v3/compare\n",
      "b'{\"error_message\":\"AUTHENTICATION_ERROR\"}\\n'\n",
      "error: code=401\n",
      "url=https://api-us.faceplusplus.com/facepp/v3/compare\n",
      "b'{\"error_message\":\"AUTHENTICATION_ERROR\"}\\n'\n",
      "error: code=401\n",
      "url=https://api-us.faceplusplus.com/facepp/v3/compare\n",
      "b'{\"error_message\":\"AUTHENTICATION_ERROR\"}\\n'\n",
      "error: code=401\n",
      "url=https://api-us.faceplusplus.com/facepp/v3/compare\n",
      "b'{\"error_message\":\"AUTHENTICATION_ERROR\"}\\n'\n"
     ]
    },
    {
     "name": "stderr",
     "output_type": "stream",
     "text": [
      "  7%|▋         | 52/750 [10:34<2:21:51, 12.19s/it]"
     ]
    },
    {
     "name": "stdout",
     "output_type": "stream",
     "text": [
      "error: code=401\n",
      "url=https://api-us.faceplusplus.com/facepp/v3/compare\n",
      "b'{\"error_message\":\"AUTHENTICATION_ERROR\"}\\n'\n",
      "error: code=401\n",
      "url=https://api-us.faceplusplus.com/facepp/v3/compare\n",
      "b'{\"error_message\":\"AUTHENTICATION_ERROR\"}\\n'\n",
      "error: code=401\n",
      "url=https://api-us.faceplusplus.com/facepp/v3/compare\n",
      "b'{\"error_message\":\"AUTHENTICATION_ERROR\"}\\n'\n",
      "error: code=401\n",
      "url=https://api-us.faceplusplus.com/facepp/v3/compare\n",
      "b'{\"error_message\":\"AUTHENTICATION_ERROR\"}\\n'\n",
      "error: code=401\n",
      "url=https://api-us.faceplusplus.com/facepp/v3/compare\n",
      "b'{\"error_message\":\"AUTHENTICATION_ERROR\"}\\n'\n",
      "error: code=401\n",
      "url=https://api-us.faceplusplus.com/facepp/v3/compare\n",
      "b'{\"error_message\":\"AUTHENTICATION_ERROR\"}\\n'\n",
      "error: code=401\n",
      "url=https://api-us.faceplusplus.com/facepp/v3/compare\n",
      "b'{\"error_message\":\"AUTHENTICATION_ERROR\"}\\n'\n",
      "error: code=401\n",
      "url=https://api-us.faceplusplus.com/facepp/v3/compare\n",
      "b'{\"error_message\":\"AUTHENTICATION_ERROR\"}\\n'\n"
     ]
    },
    {
     "name": "stderr",
     "output_type": "stream",
     "text": [
      "  7%|▋         | 53/750 [10:46<2:21:24, 12.17s/it]"
     ]
    },
    {
     "name": "stdout",
     "output_type": "stream",
     "text": [
      "error: code=401\n",
      "url=https://api-us.faceplusplus.com/facepp/v3/compare\n",
      "b'{\"error_message\":\"AUTHENTICATION_ERROR\"}\\n'\n",
      "error: code=401\n",
      "url=https://api-us.faceplusplus.com/facepp/v3/compare\n",
      "b'{\"error_message\":\"AUTHENTICATION_ERROR\"}\\n'\n",
      "error: code=401\n",
      "url=https://api-us.faceplusplus.com/facepp/v3/compare\n",
      "b'{\"error_message\":\"AUTHENTICATION_ERROR\"}\\n'\n",
      "error: code=401\n",
      "url=https://api-us.faceplusplus.com/facepp/v3/compare\n",
      "b'{\"error_message\":\"AUTHENTICATION_ERROR\"}\\n'\n",
      "error: code=401\n",
      "url=https://api-us.faceplusplus.com/facepp/v3/compare\n",
      "b'{\"error_message\":\"AUTHENTICATION_ERROR\"}\\n'\n",
      "error: code=401\n",
      "url=https://api-us.faceplusplus.com/facepp/v3/compare\n",
      "b'{\"error_message\":\"AUTHENTICATION_ERROR\"}\\n'\n",
      "error: code=401\n",
      "url=https://api-us.faceplusplus.com/facepp/v3/compare\n",
      "b'{\"error_message\":\"AUTHENTICATION_ERROR\"}\\n'\n",
      "error: code=401\n",
      "url=https://api-us.faceplusplus.com/facepp/v3/compare\n",
      "b'{\"error_message\":\"AUTHENTICATION_ERROR\"}\\n'\n"
     ]
    },
    {
     "name": "stderr",
     "output_type": "stream",
     "text": [
      "  7%|▋         | 54/750 [10:58<2:20:26, 12.11s/it]"
     ]
    },
    {
     "name": "stdout",
     "output_type": "stream",
     "text": [
      "error: code=401\n",
      "url=https://api-us.faceplusplus.com/facepp/v3/compare\n",
      "b'{\"error_message\":\"AUTHENTICATION_ERROR\"}\\n'\n",
      "error: code=401\n",
      "url=https://api-us.faceplusplus.com/facepp/v3/compare\n",
      "b'{\"error_message\":\"AUTHENTICATION_ERROR\"}\\n'\n",
      "error: code=401\n",
      "url=https://api-us.faceplusplus.com/facepp/v3/compare\n",
      "b'{\"error_message\":\"AUTHENTICATION_ERROR\"}\\n'\n",
      "error: code=401\n",
      "url=https://api-us.faceplusplus.com/facepp/v3/compare\n",
      "b'{\"error_message\":\"AUTHENTICATION_ERROR\"}\\n'\n",
      "error: code=401\n",
      "url=https://api-us.faceplusplus.com/facepp/v3/compare\n",
      "b'{\"error_message\":\"AUTHENTICATION_ERROR\"}\\n'\n",
      "error: code=401\n",
      "url=https://api-us.faceplusplus.com/facepp/v3/compare\n",
      "b'{\"error_message\":\"AUTHENTICATION_ERROR\"}\\n'\n",
      "error: code=401\n",
      "url=https://api-us.faceplusplus.com/facepp/v3/compare\n",
      "b'{\"error_message\":\"AUTHENTICATION_ERROR\"}\\n'\n",
      "error: code=401\n",
      "url=https://api-us.faceplusplus.com/facepp/v3/compare\n",
      "b'{\"error_message\":\"AUTHENTICATION_ERROR\"}\\n'\n"
     ]
    },
    {
     "name": "stderr",
     "output_type": "stream",
     "text": [
      "  7%|▋         | 55/750 [11:10<2:20:01, 12.09s/it]"
     ]
    },
    {
     "name": "stdout",
     "output_type": "stream",
     "text": [
      "error: code=401\n",
      "url=https://api-us.faceplusplus.com/facepp/v3/compare\n",
      "b'{\"error_message\":\"AUTHENTICATION_ERROR\"}\\n'\n",
      "error: code=401\n",
      "url=https://api-us.faceplusplus.com/facepp/v3/compare\n",
      "b'{\"error_message\":\"AUTHENTICATION_ERROR\"}\\n'\n",
      "error: code=401\n",
      "url=https://api-us.faceplusplus.com/facepp/v3/compare\n",
      "b'{\"error_message\":\"AUTHENTICATION_ERROR\"}\\n'\n",
      "error: code=401\n",
      "url=https://api-us.faceplusplus.com/facepp/v3/compare\n",
      "b'{\"error_message\":\"AUTHENTICATION_ERROR\"}\\n'\n",
      "error: code=401\n",
      "url=https://api-us.faceplusplus.com/facepp/v3/compare\n",
      "b'{\"error_message\":\"AUTHENTICATION_ERROR\"}\\n'\n",
      "error: code=401\n",
      "url=https://api-us.faceplusplus.com/facepp/v3/compare\n",
      "b'{\"error_message\":\"AUTHENTICATION_ERROR\"}\\n'\n",
      "error: code=401\n",
      "url=https://api-us.faceplusplus.com/facepp/v3/compare\n",
      "b'{\"error_message\":\"AUTHENTICATION_ERROR\"}\\n'\n",
      "error: code=401\n",
      "url=https://api-us.faceplusplus.com/facepp/v3/compare\n",
      "b'{\"error_message\":\"AUTHENTICATION_ERROR\"}\\n'\n"
     ]
    },
    {
     "name": "stderr",
     "output_type": "stream",
     "text": [
      "  7%|▋         | 56/750 [11:22<2:20:20, 12.13s/it]"
     ]
    },
    {
     "name": "stdout",
     "output_type": "stream",
     "text": [
      "error: code=401\n",
      "url=https://api-us.faceplusplus.com/facepp/v3/compare\n",
      "b'{\"error_message\":\"AUTHENTICATION_ERROR\"}\\n'\n",
      "error: code=401\n",
      "url=https://api-us.faceplusplus.com/facepp/v3/compare\n",
      "b'{\"error_message\":\"AUTHENTICATION_ERROR\"}\\n'\n",
      "error: code=401\n",
      "url=https://api-us.faceplusplus.com/facepp/v3/compare\n",
      "b'{\"error_message\":\"AUTHENTICATION_ERROR\"}\\n'\n",
      "error: code=401\n",
      "url=https://api-us.faceplusplus.com/facepp/v3/compare\n",
      "b'{\"error_message\":\"AUTHENTICATION_ERROR\"}\\n'\n",
      "error: code=401\n",
      "url=https://api-us.faceplusplus.com/facepp/v3/compare\n",
      "b'{\"error_message\":\"AUTHENTICATION_ERROR\"}\\n'\n",
      "error: code=401\n",
      "url=https://api-us.faceplusplus.com/facepp/v3/compare\n",
      "b'{\"error_message\":\"AUTHENTICATION_ERROR\"}\\n'\n",
      "error: code=401\n",
      "url=https://api-us.faceplusplus.com/facepp/v3/compare\n",
      "b'{\"error_message\":\"AUTHENTICATION_ERROR\"}\\n'\n",
      "error: code=401\n",
      "url=https://api-us.faceplusplus.com/facepp/v3/compare\n",
      "b'{\"error_message\":\"AUTHENTICATION_ERROR\"}\\n'\n"
     ]
    },
    {
     "name": "stderr",
     "output_type": "stream",
     "text": [
      "  8%|▊         | 57/750 [11:35<2:21:10, 12.22s/it]"
     ]
    },
    {
     "name": "stdout",
     "output_type": "stream",
     "text": [
      "error: code=401\n",
      "url=https://api-us.faceplusplus.com/facepp/v3/compare\n",
      "b'{\"error_message\":\"AUTHENTICATION_ERROR\"}\\n'\n",
      "error: code=401\n",
      "url=https://api-us.faceplusplus.com/facepp/v3/compare\n",
      "b'{\"error_message\":\"AUTHENTICATION_ERROR\"}\\n'\n",
      "error: code=401\n",
      "url=https://api-us.faceplusplus.com/facepp/v3/compare\n",
      "b'{\"error_message\":\"AUTHENTICATION_ERROR\"}\\n'\n",
      "error: code=401\n",
      "url=https://api-us.faceplusplus.com/facepp/v3/compare\n",
      "b'{\"error_message\":\"AUTHENTICATION_ERROR\"}\\n'\n",
      "error: code=401\n",
      "url=https://api-us.faceplusplus.com/facepp/v3/compare\n",
      "b'{\"error_message\":\"AUTHENTICATION_ERROR\"}\\n'\n",
      "error: code=401\n",
      "url=https://api-us.faceplusplus.com/facepp/v3/compare\n",
      "b'{\"error_message\":\"AUTHENTICATION_ERROR\"}\\n'\n",
      "error: code=401\n",
      "url=https://api-us.faceplusplus.com/facepp/v3/compare\n",
      "b'{\"error_message\":\"AUTHENTICATION_ERROR\"}\\n'\n",
      "error: code=401\n",
      "url=https://api-us.faceplusplus.com/facepp/v3/compare\n",
      "b'{\"error_message\":\"AUTHENTICATION_ERROR\"}\\n'\n"
     ]
    },
    {
     "name": "stderr",
     "output_type": "stream",
     "text": [
      "  8%|▊         | 58/750 [11:47<2:20:25, 12.18s/it]"
     ]
    },
    {
     "name": "stdout",
     "output_type": "stream",
     "text": [
      "error: code=401\n",
      "url=https://api-us.faceplusplus.com/facepp/v3/compare\n",
      "b'{\"error_message\":\"AUTHENTICATION_ERROR\"}\\n'\n",
      "error: code=401\n",
      "url=https://api-us.faceplusplus.com/facepp/v3/compare\n",
      "b'{\"error_message\":\"AUTHENTICATION_ERROR\"}\\n'\n",
      "error: code=401\n",
      "url=https://api-us.faceplusplus.com/facepp/v3/compare\n",
      "b'{\"error_message\":\"AUTHENTICATION_ERROR\"}\\n'\n",
      "error: code=401\n",
      "url=https://api-us.faceplusplus.com/facepp/v3/compare\n",
      "b'{\"error_message\":\"AUTHENTICATION_ERROR\"}\\n'\n",
      "error: code=401\n",
      "url=https://api-us.faceplusplus.com/facepp/v3/compare\n",
      "b'{\"error_message\":\"AUTHENTICATION_ERROR\"}\\n'\n",
      "error: code=401\n",
      "url=https://api-us.faceplusplus.com/facepp/v3/compare\n",
      "b'{\"error_message\":\"AUTHENTICATION_ERROR\"}\\n'\n",
      "error: code=401\n",
      "url=https://api-us.faceplusplus.com/facepp/v3/compare\n",
      "b'{\"error_message\":\"AUTHENTICATION_ERROR\"}\\n'\n",
      "error: code=401\n",
      "url=https://api-us.faceplusplus.com/facepp/v3/compare\n",
      "b'{\"error_message\":\"AUTHENTICATION_ERROR\"}\\n'\n"
     ]
    },
    {
     "name": "stderr",
     "output_type": "stream",
     "text": [
      "  8%|▊         | 59/750 [11:59<2:19:01, 12.07s/it]"
     ]
    },
    {
     "name": "stdout",
     "output_type": "stream",
     "text": [
      "error: code=401\n",
      "url=https://api-us.faceplusplus.com/facepp/v3/compare\n",
      "b'{\"error_message\":\"AUTHENTICATION_ERROR\"}\\n'\n",
      "error: code=401\n",
      "url=https://api-us.faceplusplus.com/facepp/v3/compare\n",
      "b'{\"error_message\":\"AUTHENTICATION_ERROR\"}\\n'\n",
      "error: code=401\n",
      "url=https://api-us.faceplusplus.com/facepp/v3/compare\n",
      "b'{\"error_message\":\"AUTHENTICATION_ERROR\"}\\n'\n",
      "error: code=401\n",
      "url=https://api-us.faceplusplus.com/facepp/v3/compare\n",
      "b'{\"error_message\":\"AUTHENTICATION_ERROR\"}\\n'\n",
      "error: code=401\n",
      "url=https://api-us.faceplusplus.com/facepp/v3/compare\n",
      "b'{\"error_message\":\"AUTHENTICATION_ERROR\"}\\n'\n",
      "error: code=401\n",
      "url=https://api-us.faceplusplus.com/facepp/v3/compare\n",
      "b'{\"error_message\":\"AUTHENTICATION_ERROR\"}\\n'\n",
      "error: code=401\n",
      "url=https://api-us.faceplusplus.com/facepp/v3/compare\n",
      "b'{\"error_message\":\"AUTHENTICATION_ERROR\"}\\n'\n",
      "error: code=401\n",
      "url=https://api-us.faceplusplus.com/facepp/v3/compare\n",
      "b'{\"error_message\":\"AUTHENTICATION_ERROR\"}\\n'\n"
     ]
    },
    {
     "name": "stderr",
     "output_type": "stream",
     "text": [
      "  8%|▊         | 60/750 [12:11<2:20:18, 12.20s/it]"
     ]
    },
    {
     "name": "stdout",
     "output_type": "stream",
     "text": [
      "error: code=401\n",
      "url=https://api-us.faceplusplus.com/facepp/v3/compare\n",
      "b'{\"error_message\":\"AUTHENTICATION_ERROR\"}\\n'\n",
      "error: code=401\n",
      "url=https://api-us.faceplusplus.com/facepp/v3/compare\n",
      "b'{\"error_message\":\"AUTHENTICATION_ERROR\"}\\n'\n",
      "error: code=401\n",
      "url=https://api-us.faceplusplus.com/facepp/v3/compare\n",
      "b'{\"error_message\":\"AUTHENTICATION_ERROR\"}\\n'\n",
      "error: code=401\n",
      "url=https://api-us.faceplusplus.com/facepp/v3/compare\n",
      "b'{\"error_message\":\"AUTHENTICATION_ERROR\"}\\n'\n",
      "error: code=401\n",
      "url=https://api-us.faceplusplus.com/facepp/v3/compare\n",
      "b'{\"error_message\":\"AUTHENTICATION_ERROR\"}\\n'\n",
      "error: code=401\n",
      "url=https://api-us.faceplusplus.com/facepp/v3/compare\n",
      "b'{\"error_message\":\"AUTHENTICATION_ERROR\"}\\n'\n",
      "error: code=401\n",
      "url=https://api-us.faceplusplus.com/facepp/v3/compare\n",
      "b'{\"error_message\":\"AUTHENTICATION_ERROR\"}\\n'\n",
      "error: code=401\n",
      "url=https://api-us.faceplusplus.com/facepp/v3/compare\n",
      "b'{\"error_message\":\"AUTHENTICATION_ERROR\"}\\n'\n"
     ]
    },
    {
     "name": "stderr",
     "output_type": "stream",
     "text": [
      "  8%|▊         | 61/750 [12:23<2:20:00, 12.19s/it]"
     ]
    },
    {
     "name": "stdout",
     "output_type": "stream",
     "text": [
      "error: code=401\n",
      "url=https://api-us.faceplusplus.com/facepp/v3/compare\n",
      "b'{\"error_message\":\"AUTHENTICATION_ERROR\"}\\n'\n",
      "error: code=401\n",
      "url=https://api-us.faceplusplus.com/facepp/v3/compare\n",
      "b'{\"error_message\":\"AUTHENTICATION_ERROR\"}\\n'\n",
      "error: code=401\n",
      "url=https://api-us.faceplusplus.com/facepp/v3/compare\n",
      "b'{\"error_message\":\"AUTHENTICATION_ERROR\"}\\n'\n",
      "error: code=401\n",
      "url=https://api-us.faceplusplus.com/facepp/v3/compare\n",
      "b'{\"error_message\":\"AUTHENTICATION_ERROR\"}\\n'\n",
      "error: code=401\n",
      "url=https://api-us.faceplusplus.com/facepp/v3/compare\n",
      "b'{\"error_message\":\"AUTHENTICATION_ERROR\"}\\n'\n",
      "error: code=401\n",
      "url=https://api-us.faceplusplus.com/facepp/v3/compare\n",
      "b'{\"error_message\":\"AUTHENTICATION_ERROR\"}\\n'\n",
      "error: code=401\n",
      "url=https://api-us.faceplusplus.com/facepp/v3/compare\n",
      "b'{\"error_message\":\"AUTHENTICATION_ERROR\"}\\n'\n",
      "error: code=401\n",
      "url=https://api-us.faceplusplus.com/facepp/v3/compare\n",
      "b'{\"error_message\":\"AUTHENTICATION_ERROR\"}\\n'\n"
     ]
    },
    {
     "name": "stderr",
     "output_type": "stream",
     "text": [
      "  8%|▊         | 62/750 [12:36<2:20:23, 12.24s/it]"
     ]
    },
    {
     "name": "stdout",
     "output_type": "stream",
     "text": [
      "error: code=401\n",
      "url=https://api-us.faceplusplus.com/facepp/v3/compare\n",
      "b'{\"error_message\":\"AUTHENTICATION_ERROR\"}\\n'\n",
      "error: code=401\n",
      "url=https://api-us.faceplusplus.com/facepp/v3/compare\n",
      "b'{\"error_message\":\"AUTHENTICATION_ERROR\"}\\n'\n",
      "error: code=401\n",
      "url=https://api-us.faceplusplus.com/facepp/v3/compare\n",
      "b'{\"error_message\":\"AUTHENTICATION_ERROR\"}\\n'\n",
      "error: code=401\n",
      "url=https://api-us.faceplusplus.com/facepp/v3/compare\n",
      "b'{\"error_message\":\"AUTHENTICATION_ERROR\"}\\n'\n",
      "error: code=401\n",
      "url=https://api-us.faceplusplus.com/facepp/v3/compare\n",
      "b'{\"error_message\":\"AUTHENTICATION_ERROR\"}\\n'\n",
      "error: code=401\n",
      "url=https://api-us.faceplusplus.com/facepp/v3/compare\n",
      "b'{\"error_message\":\"AUTHENTICATION_ERROR\"}\\n'\n",
      "error: code=401\n",
      "url=https://api-us.faceplusplus.com/facepp/v3/compare\n",
      "b'{\"error_message\":\"AUTHENTICATION_ERROR\"}\\n'\n",
      "error: code=401\n",
      "url=https://api-us.faceplusplus.com/facepp/v3/compare\n",
      "b'{\"error_message\":\"AUTHENTICATION_ERROR\"}\\n'\n"
     ]
    },
    {
     "name": "stderr",
     "output_type": "stream",
     "text": [
      "  8%|▊         | 63/750 [12:48<2:20:22, 12.26s/it]"
     ]
    },
    {
     "name": "stdout",
     "output_type": "stream",
     "text": [
      "error: code=401\n",
      "url=https://api-us.faceplusplus.com/facepp/v3/compare\n",
      "b'{\"error_message\":\"AUTHENTICATION_ERROR\"}\\n'\n",
      "error: code=401\n",
      "url=https://api-us.faceplusplus.com/facepp/v3/compare\n",
      "b'{\"error_message\":\"AUTHENTICATION_ERROR\"}\\n'\n",
      "error: code=401\n",
      "url=https://api-us.faceplusplus.com/facepp/v3/compare\n",
      "b'{\"error_message\":\"AUTHENTICATION_ERROR\"}\\n'\n",
      "error: code=401\n",
      "url=https://api-us.faceplusplus.com/facepp/v3/compare\n",
      "b'{\"error_message\":\"AUTHENTICATION_ERROR\"}\\n'\n",
      "error: code=401\n",
      "url=https://api-us.faceplusplus.com/facepp/v3/compare\n",
      "b'{\"error_message\":\"AUTHENTICATION_ERROR\"}\\n'\n",
      "error: code=401\n",
      "url=https://api-us.faceplusplus.com/facepp/v3/compare\n",
      "b'{\"error_message\":\"AUTHENTICATION_ERROR\"}\\n'\n",
      "error: code=401\n",
      "url=https://api-us.faceplusplus.com/facepp/v3/compare\n",
      "b'{\"error_message\":\"AUTHENTICATION_ERROR\"}\\n'\n",
      "error: code=401\n",
      "url=https://api-us.faceplusplus.com/facepp/v3/compare\n",
      "b'{\"error_message\":\"AUTHENTICATION_ERROR\"}\\n'\n"
     ]
    },
    {
     "name": "stderr",
     "output_type": "stream",
     "text": [
      "  9%|▊         | 64/750 [13:00<2:20:12, 12.26s/it]"
     ]
    },
    {
     "name": "stdout",
     "output_type": "stream",
     "text": [
      "error: code=401\n",
      "url=https://api-us.faceplusplus.com/facepp/v3/compare\n",
      "b'{\"error_message\":\"AUTHENTICATION_ERROR\"}\\n'\n",
      "error: code=401\n",
      "url=https://api-us.faceplusplus.com/facepp/v3/compare\n",
      "b'{\"error_message\":\"AUTHENTICATION_ERROR\"}\\n'\n",
      "error: code=401\n",
      "url=https://api-us.faceplusplus.com/facepp/v3/compare\n",
      "b'{\"error_message\":\"AUTHENTICATION_ERROR\"}\\n'\n",
      "error: code=401\n",
      "url=https://api-us.faceplusplus.com/facepp/v3/compare\n",
      "b'{\"error_message\":\"AUTHENTICATION_ERROR\"}\\n'\n",
      "error: code=401\n",
      "url=https://api-us.faceplusplus.com/facepp/v3/compare\n",
      "b'{\"error_message\":\"AUTHENTICATION_ERROR\"}\\n'\n",
      "error: code=401\n",
      "url=https://api-us.faceplusplus.com/facepp/v3/compare\n",
      "b'{\"error_message\":\"AUTHENTICATION_ERROR\"}\\n'\n",
      "error: code=401\n",
      "url=https://api-us.faceplusplus.com/facepp/v3/compare\n",
      "b'{\"error_message\":\"AUTHENTICATION_ERROR\"}\\n'\n",
      "error: code=401\n",
      "url=https://api-us.faceplusplus.com/facepp/v3/compare\n",
      "b'{\"error_message\":\"AUTHENTICATION_ERROR\"}\\n'\n"
     ]
    },
    {
     "name": "stderr",
     "output_type": "stream",
     "text": [
      "  9%|▊         | 65/750 [13:13<2:20:30, 12.31s/it]"
     ]
    },
    {
     "name": "stdout",
     "output_type": "stream",
     "text": [
      "error: code=401\n",
      "url=https://api-us.faceplusplus.com/facepp/v3/compare\n",
      "b'{\"error_message\":\"AUTHENTICATION_ERROR\"}\\n'\n",
      "error: code=401\n",
      "url=https://api-us.faceplusplus.com/facepp/v3/compare\n",
      "b'{\"error_message\":\"AUTHENTICATION_ERROR\"}\\n'\n",
      "error: code=401\n",
      "url=https://api-us.faceplusplus.com/facepp/v3/compare\n",
      "b'{\"error_message\":\"AUTHENTICATION_ERROR\"}\\n'\n",
      "error: code=401\n",
      "url=https://api-us.faceplusplus.com/facepp/v3/compare\n",
      "b'{\"error_message\":\"AUTHENTICATION_ERROR\"}\\n'\n",
      "error: code=401\n",
      "url=https://api-us.faceplusplus.com/facepp/v3/compare\n",
      "b'{\"error_message\":\"AUTHENTICATION_ERROR\"}\\n'\n",
      "error: code=401\n",
      "url=https://api-us.faceplusplus.com/facepp/v3/compare\n",
      "b'{\"error_message\":\"AUTHENTICATION_ERROR\"}\\n'\n",
      "error: code=401\n",
      "url=https://api-us.faceplusplus.com/facepp/v3/compare\n",
      "b'{\"error_message\":\"AUTHENTICATION_ERROR\"}\\n'\n",
      "error: code=401\n",
      "url=https://api-us.faceplusplus.com/facepp/v3/compare\n",
      "b'{\"error_message\":\"AUTHENTICATION_ERROR\"}\\n'\n"
     ]
    },
    {
     "name": "stderr",
     "output_type": "stream",
     "text": [
      "  9%|▉         | 66/750 [13:25<2:19:28, 12.23s/it]"
     ]
    },
    {
     "name": "stdout",
     "output_type": "stream",
     "text": [
      "error: code=401\n",
      "url=https://api-us.faceplusplus.com/facepp/v3/compare\n",
      "b'{\"error_message\":\"AUTHENTICATION_ERROR\"}\\n'\n",
      "error: code=401\n",
      "url=https://api-us.faceplusplus.com/facepp/v3/compare\n",
      "b'{\"error_message\":\"AUTHENTICATION_ERROR\"}\\n'\n",
      "error: code=401\n",
      "url=https://api-us.faceplusplus.com/facepp/v3/compare\n",
      "b'{\"error_message\":\"AUTHENTICATION_ERROR\"}\\n'\n",
      "error: code=401\n",
      "url=https://api-us.faceplusplus.com/facepp/v3/compare\n",
      "b'{\"error_message\":\"AUTHENTICATION_ERROR\"}\\n'\n",
      "error: code=401\n",
      "url=https://api-us.faceplusplus.com/facepp/v3/compare\n",
      "b'{\"error_message\":\"AUTHENTICATION_ERROR\"}\\n'\n",
      "error: code=401\n",
      "url=https://api-us.faceplusplus.com/facepp/v3/compare\n",
      "b'{\"error_message\":\"AUTHENTICATION_ERROR\"}\\n'\n",
      "error: code=401\n",
      "url=https://api-us.faceplusplus.com/facepp/v3/compare\n",
      "b'{\"error_message\":\"AUTHENTICATION_ERROR\"}\\n'\n",
      "error: code=401\n",
      "url=https://api-us.faceplusplus.com/facepp/v3/compare\n",
      "b'{\"error_message\":\"AUTHENTICATION_ERROR\"}\\n'\n"
     ]
    },
    {
     "name": "stderr",
     "output_type": "stream",
     "text": [
      "  9%|▉         | 67/750 [13:37<2:18:35, 12.17s/it]"
     ]
    },
    {
     "name": "stdout",
     "output_type": "stream",
     "text": [
      "error: code=401\n",
      "url=https://api-us.faceplusplus.com/facepp/v3/compare\n",
      "b'{\"error_message\":\"AUTHENTICATION_ERROR\"}\\n'\n",
      "error: code=401\n",
      "url=https://api-us.faceplusplus.com/facepp/v3/compare\n",
      "b'{\"error_message\":\"AUTHENTICATION_ERROR\"}\\n'\n",
      "error: code=401\n",
      "url=https://api-us.faceplusplus.com/facepp/v3/compare\n",
      "b'{\"error_message\":\"AUTHENTICATION_ERROR\"}\\n'\n",
      "error: code=401\n",
      "url=https://api-us.faceplusplus.com/facepp/v3/compare\n",
      "b'{\"error_message\":\"AUTHENTICATION_ERROR\"}\\n'\n",
      "error: code=401\n",
      "url=https://api-us.faceplusplus.com/facepp/v3/compare\n",
      "b'{\"error_message\":\"AUTHENTICATION_ERROR\"}\\n'\n",
      "error: code=401\n",
      "url=https://api-us.faceplusplus.com/facepp/v3/compare\n",
      "b'{\"error_message\":\"AUTHENTICATION_ERROR\"}\\n'\n",
      "error: code=401\n",
      "url=https://api-us.faceplusplus.com/facepp/v3/compare\n",
      "b'{\"error_message\":\"AUTHENTICATION_ERROR\"}\\n'\n",
      "error: code=401\n",
      "url=https://api-us.faceplusplus.com/facepp/v3/compare\n",
      "b'{\"error_message\":\"AUTHENTICATION_ERROR\"}\\n'\n"
     ]
    },
    {
     "name": "stderr",
     "output_type": "stream",
     "text": [
      "  9%|▉         | 68/750 [13:49<2:18:55, 12.22s/it]"
     ]
    },
    {
     "name": "stdout",
     "output_type": "stream",
     "text": [
      "error: code=401\n",
      "url=https://api-us.faceplusplus.com/facepp/v3/compare\n",
      "b'{\"error_message\":\"AUTHENTICATION_ERROR\"}\\n'\n",
      "error: code=401\n",
      "url=https://api-us.faceplusplus.com/facepp/v3/compare\n",
      "b'{\"error_message\":\"AUTHENTICATION_ERROR\"}\\n'\n",
      "error: code=401\n",
      "url=https://api-us.faceplusplus.com/facepp/v3/compare\n",
      "b'{\"error_message\":\"AUTHENTICATION_ERROR\"}\\n'\n",
      "error: code=401\n",
      "url=https://api-us.faceplusplus.com/facepp/v3/compare\n",
      "b'{\"error_message\":\"AUTHENTICATION_ERROR\"}\\n'\n",
      "error: code=401\n",
      "url=https://api-us.faceplusplus.com/facepp/v3/compare\n",
      "b'{\"error_message\":\"AUTHENTICATION_ERROR\"}\\n'\n",
      "error: code=401\n",
      "url=https://api-us.faceplusplus.com/facepp/v3/compare\n",
      "b'{\"error_message\":\"AUTHENTICATION_ERROR\"}\\n'\n",
      "error: code=401\n",
      "url=https://api-us.faceplusplus.com/facepp/v3/compare\n",
      "b'{\"error_message\":\"AUTHENTICATION_ERROR\"}\\n'\n",
      "error: code=401\n",
      "url=https://api-us.faceplusplus.com/facepp/v3/compare\n",
      "b'{\"error_message\":\"AUTHENTICATION_ERROR\"}\\n'\n"
     ]
    },
    {
     "name": "stderr",
     "output_type": "stream",
     "text": [
      "  9%|▉         | 69/750 [14:02<2:20:23, 12.37s/it]"
     ]
    },
    {
     "name": "stdout",
     "output_type": "stream",
     "text": [
      "error: code=401\n",
      "url=https://api-us.faceplusplus.com/facepp/v3/compare\n",
      "b'{\"error_message\":\"AUTHENTICATION_ERROR\"}\\n'\n",
      "error: code=401\n",
      "url=https://api-us.faceplusplus.com/facepp/v3/compare\n",
      "b'{\"error_message\":\"AUTHENTICATION_ERROR\"}\\n'\n",
      "error: code=401\n",
      "url=https://api-us.faceplusplus.com/facepp/v3/compare\n",
      "b'{\"error_message\":\"AUTHENTICATION_ERROR\"}\\n'\n",
      "error: code=401\n",
      "url=https://api-us.faceplusplus.com/facepp/v3/compare\n",
      "b'{\"error_message\":\"AUTHENTICATION_ERROR\"}\\n'\n",
      "error: code=401\n",
      "url=https://api-us.faceplusplus.com/facepp/v3/compare\n",
      "b'{\"error_message\":\"AUTHENTICATION_ERROR\"}\\n'\n",
      "error: code=401\n",
      "url=https://api-us.faceplusplus.com/facepp/v3/compare\n",
      "b'{\"error_message\":\"AUTHENTICATION_ERROR\"}\\n'\n",
      "error: code=401\n",
      "url=https://api-us.faceplusplus.com/facepp/v3/compare\n",
      "b'{\"error_message\":\"AUTHENTICATION_ERROR\"}\\n'\n",
      "error: code=401\n",
      "url=https://api-us.faceplusplus.com/facepp/v3/compare\n",
      "b'{\"error_message\":\"AUTHENTICATION_ERROR\"}\\n'\n"
     ]
    },
    {
     "name": "stderr",
     "output_type": "stream",
     "text": [
      "  9%|▉         | 70/750 [14:14<2:18:53, 12.26s/it]"
     ]
    },
    {
     "name": "stdout",
     "output_type": "stream",
     "text": [
      "error: code=401\n",
      "url=https://api-us.faceplusplus.com/facepp/v3/compare\n",
      "b'{\"error_message\":\"AUTHENTICATION_ERROR\"}\\n'\n",
      "error: code=401\n",
      "url=https://api-us.faceplusplus.com/facepp/v3/compare\n",
      "b'{\"error_message\":\"AUTHENTICATION_ERROR\"}\\n'\n",
      "error: code=401\n",
      "url=https://api-us.faceplusplus.com/facepp/v3/compare\n",
      "b'{\"error_message\":\"AUTHENTICATION_ERROR\"}\\n'\n",
      "error: code=401\n",
      "url=https://api-us.faceplusplus.com/facepp/v3/compare\n",
      "b'{\"error_message\":\"AUTHENTICATION_ERROR\"}\\n'\n",
      "error: code=401\n",
      "url=https://api-us.faceplusplus.com/facepp/v3/compare\n",
      "b'{\"error_message\":\"AUTHENTICATION_ERROR\"}\\n'\n",
      "error: code=401\n",
      "url=https://api-us.faceplusplus.com/facepp/v3/compare\n",
      "b'{\"error_message\":\"AUTHENTICATION_ERROR\"}\\n'\n",
      "error: code=401\n",
      "url=https://api-us.faceplusplus.com/facepp/v3/compare\n",
      "b'{\"error_message\":\"AUTHENTICATION_ERROR\"}\\n'\n",
      "error: code=401\n",
      "url=https://api-us.faceplusplus.com/facepp/v3/compare\n",
      "b'{\"error_message\":\"AUTHENTICATION_ERROR\"}\\n'\n"
     ]
    },
    {
     "name": "stderr",
     "output_type": "stream",
     "text": [
      "  9%|▉         | 71/750 [14:26<2:18:25, 12.23s/it]"
     ]
    },
    {
     "name": "stdout",
     "output_type": "stream",
     "text": [
      "error: code=401\n",
      "url=https://api-us.faceplusplus.com/facepp/v3/compare\n",
      "b'{\"error_message\":\"AUTHENTICATION_ERROR\"}\\n'\n",
      "error: code=401\n",
      "url=https://api-us.faceplusplus.com/facepp/v3/compare\n",
      "b'{\"error_message\":\"AUTHENTICATION_ERROR\"}\\n'\n",
      "error: code=401\n",
      "url=https://api-us.faceplusplus.com/facepp/v3/compare\n",
      "b'{\"error_message\":\"AUTHENTICATION_ERROR\"}\\n'\n",
      "error: code=401\n",
      "url=https://api-us.faceplusplus.com/facepp/v3/compare\n",
      "b'{\"error_message\":\"AUTHENTICATION_ERROR\"}\\n'\n",
      "error: code=401\n",
      "url=https://api-us.faceplusplus.com/facepp/v3/compare\n",
      "b'{\"error_message\":\"AUTHENTICATION_ERROR\"}\\n'\n",
      "error: code=401\n",
      "url=https://api-us.faceplusplus.com/facepp/v3/compare\n",
      "b'{\"error_message\":\"AUTHENTICATION_ERROR\"}\\n'\n",
      "error: code=401\n",
      "url=https://api-us.faceplusplus.com/facepp/v3/compare\n",
      "b'{\"error_message\":\"AUTHENTICATION_ERROR\"}\\n'\n",
      "error: code=401\n",
      "url=https://api-us.faceplusplus.com/facepp/v3/compare\n",
      "b'{\"error_message\":\"AUTHENTICATION_ERROR\"}\\n'\n"
     ]
    },
    {
     "name": "stderr",
     "output_type": "stream",
     "text": [
      " 10%|▉         | 72/750 [14:38<2:17:24, 12.16s/it]"
     ]
    },
    {
     "name": "stdout",
     "output_type": "stream",
     "text": [
      "error: code=401\n",
      "url=https://api-us.faceplusplus.com/facepp/v3/compare\n",
      "b'{\"error_message\":\"AUTHENTICATION_ERROR\"}\\n'\n",
      "error: code=401\n",
      "url=https://api-us.faceplusplus.com/facepp/v3/compare\n",
      "b'{\"error_message\":\"AUTHENTICATION_ERROR\"}\\n'\n",
      "error: code=401\n",
      "url=https://api-us.faceplusplus.com/facepp/v3/compare\n",
      "b'{\"error_message\":\"AUTHENTICATION_ERROR\"}\\n'\n",
      "error: code=401\n",
      "url=https://api-us.faceplusplus.com/facepp/v3/compare\n",
      "b'{\"error_message\":\"AUTHENTICATION_ERROR\"}\\n'\n",
      "error: code=401\n",
      "url=https://api-us.faceplusplus.com/facepp/v3/compare\n",
      "b'{\"error_message\":\"AUTHENTICATION_ERROR\"}\\n'\n",
      "error: code=401\n",
      "url=https://api-us.faceplusplus.com/facepp/v3/compare\n",
      "b'{\"error_message\":\"AUTHENTICATION_ERROR\"}\\n'\n",
      "error: code=401\n",
      "url=https://api-us.faceplusplus.com/facepp/v3/compare\n",
      "b'{\"error_message\":\"AUTHENTICATION_ERROR\"}\\n'\n",
      "error: code=401\n",
      "url=https://api-us.faceplusplus.com/facepp/v3/compare\n",
      "b'{\"error_message\":\"AUTHENTICATION_ERROR\"}\\n'\n"
     ]
    },
    {
     "name": "stderr",
     "output_type": "stream",
     "text": [
      " 10%|▉         | 73/750 [14:50<2:16:59, 12.14s/it]"
     ]
    },
    {
     "name": "stdout",
     "output_type": "stream",
     "text": [
      "error: code=401\n",
      "url=https://api-us.faceplusplus.com/facepp/v3/compare\n",
      "b'{\"error_message\":\"AUTHENTICATION_ERROR\"}\\n'\n",
      "error: code=401\n",
      "url=https://api-us.faceplusplus.com/facepp/v3/compare\n",
      "b'{\"error_message\":\"AUTHENTICATION_ERROR\"}\\n'\n",
      "error: code=401\n",
      "url=https://api-us.faceplusplus.com/facepp/v3/compare\n",
      "b'{\"error_message\":\"AUTHENTICATION_ERROR\"}\\n'\n",
      "error: code=401\n",
      "url=https://api-us.faceplusplus.com/facepp/v3/compare\n",
      "b'{\"error_message\":\"AUTHENTICATION_ERROR\"}\\n'\n",
      "error: code=401\n",
      "url=https://api-us.faceplusplus.com/facepp/v3/compare\n",
      "b'{\"error_message\":\"AUTHENTICATION_ERROR\"}\\n'\n",
      "error: code=401\n",
      "url=https://api-us.faceplusplus.com/facepp/v3/compare\n",
      "b'{\"error_message\":\"AUTHENTICATION_ERROR\"}\\n'\n",
      "error: code=401\n",
      "url=https://api-us.faceplusplus.com/facepp/v3/compare\n",
      "b'{\"error_message\":\"AUTHENTICATION_ERROR\"}\\n'\n",
      "error: code=401\n",
      "url=https://api-us.faceplusplus.com/facepp/v3/compare\n",
      "b'{\"error_message\":\"AUTHENTICATION_ERROR\"}\\n'\n"
     ]
    },
    {
     "name": "stderr",
     "output_type": "stream",
     "text": [
      " 10%|▉         | 74/750 [15:02<2:15:31, 12.03s/it]"
     ]
    },
    {
     "name": "stdout",
     "output_type": "stream",
     "text": [
      "error: code=401\n",
      "url=https://api-us.faceplusplus.com/facepp/v3/compare\n",
      "b'{\"error_message\":\"AUTHENTICATION_ERROR\"}\\n'\n",
      "error: code=401\n",
      "url=https://api-us.faceplusplus.com/facepp/v3/compare\n",
      "b'{\"error_message\":\"AUTHENTICATION_ERROR\"}\\n'\n",
      "error: code=401\n",
      "url=https://api-us.faceplusplus.com/facepp/v3/compare\n",
      "b'{\"error_message\":\"AUTHENTICATION_ERROR\"}\\n'\n",
      "error: code=401\n",
      "url=https://api-us.faceplusplus.com/facepp/v3/compare\n",
      "b'{\"error_message\":\"AUTHENTICATION_ERROR\"}\\n'\n",
      "error: code=401\n",
      "url=https://api-us.faceplusplus.com/facepp/v3/compare\n",
      "b'{\"error_message\":\"AUTHENTICATION_ERROR\"}\\n'\n",
      "error: code=401\n",
      "url=https://api-us.faceplusplus.com/facepp/v3/compare\n",
      "b'{\"error_message\":\"AUTHENTICATION_ERROR\"}\\n'\n",
      "error: code=401\n",
      "url=https://api-us.faceplusplus.com/facepp/v3/compare\n",
      "b'{\"error_message\":\"AUTHENTICATION_ERROR\"}\\n'\n",
      "error: code=401\n",
      "url=https://api-us.faceplusplus.com/facepp/v3/compare\n",
      "b'{\"error_message\":\"AUTHENTICATION_ERROR\"}\\n'\n"
     ]
    },
    {
     "name": "stderr",
     "output_type": "stream",
     "text": [
      " 10%|█         | 75/750 [15:14<2:16:47, 12.16s/it]"
     ]
    },
    {
     "name": "stdout",
     "output_type": "stream",
     "text": [
      "error: code=401\n",
      "url=https://api-us.faceplusplus.com/facepp/v3/compare\n",
      "b'{\"error_message\":\"AUTHENTICATION_ERROR\"}\\n'\n",
      "error: code=401\n",
      "url=https://api-us.faceplusplus.com/facepp/v3/compare\n",
      "b'{\"error_message\":\"AUTHENTICATION_ERROR\"}\\n'\n",
      "error: code=401\n",
      "url=https://api-us.faceplusplus.com/facepp/v3/compare\n",
      "b'{\"error_message\":\"AUTHENTICATION_ERROR\"}\\n'\n",
      "error: code=401\n",
      "url=https://api-us.faceplusplus.com/facepp/v3/compare\n",
      "b'{\"error_message\":\"AUTHENTICATION_ERROR\"}\\n'\n",
      "error: code=401\n",
      "url=https://api-us.faceplusplus.com/facepp/v3/compare\n",
      "b'{\"error_message\":\"AUTHENTICATION_ERROR\"}\\n'\n",
      "error: code=401\n",
      "url=https://api-us.faceplusplus.com/facepp/v3/compare\n",
      "b'{\"error_message\":\"AUTHENTICATION_ERROR\"}\\n'\n",
      "error: code=401\n",
      "url=https://api-us.faceplusplus.com/facepp/v3/compare\n",
      "b'{\"error_message\":\"AUTHENTICATION_ERROR\"}\\n'\n",
      "error: code=401\n",
      "url=https://api-us.faceplusplus.com/facepp/v3/compare\n",
      "b'{\"error_message\":\"AUTHENTICATION_ERROR\"}\\n'\n"
     ]
    },
    {
     "name": "stderr",
     "output_type": "stream",
     "text": [
      " 10%|█         | 76/750 [15:26<2:16:41, 12.17s/it]"
     ]
    },
    {
     "name": "stdout",
     "output_type": "stream",
     "text": [
      "error: code=401\n",
      "url=https://api-us.faceplusplus.com/facepp/v3/compare\n",
      "b'{\"error_message\":\"AUTHENTICATION_ERROR\"}\\n'\n",
      "error: code=401\n",
      "url=https://api-us.faceplusplus.com/facepp/v3/compare\n",
      "b'{\"error_message\":\"AUTHENTICATION_ERROR\"}\\n'\n",
      "error: code=401\n",
      "url=https://api-us.faceplusplus.com/facepp/v3/compare\n",
      "b'{\"error_message\":\"AUTHENTICATION_ERROR\"}\\n'\n",
      "error: code=401\n",
      "url=https://api-us.faceplusplus.com/facepp/v3/compare\n",
      "b'{\"error_message\":\"AUTHENTICATION_ERROR\"}\\n'\n",
      "error: code=401\n",
      "url=https://api-us.faceplusplus.com/facepp/v3/compare\n",
      "b'{\"error_message\":\"AUTHENTICATION_ERROR\"}\\n'\n",
      "error: code=401\n",
      "url=https://api-us.faceplusplus.com/facepp/v3/compare\n",
      "b'{\"error_message\":\"AUTHENTICATION_ERROR\"}\\n'\n",
      "error: code=401\n",
      "url=https://api-us.faceplusplus.com/facepp/v3/compare\n",
      "b'{\"error_message\":\"AUTHENTICATION_ERROR\"}\\n'\n",
      "error: code=401\n",
      "url=https://api-us.faceplusplus.com/facepp/v3/compare\n",
      "b'{\"error_message\":\"AUTHENTICATION_ERROR\"}\\n'\n"
     ]
    },
    {
     "name": "stderr",
     "output_type": "stream",
     "text": [
      " 10%|█         | 77/750 [15:38<2:15:33, 12.09s/it]"
     ]
    },
    {
     "name": "stdout",
     "output_type": "stream",
     "text": [
      "error: code=401\n",
      "url=https://api-us.faceplusplus.com/facepp/v3/compare\n",
      "b'{\"error_message\":\"AUTHENTICATION_ERROR\"}\\n'\n",
      "error: code=401\n",
      "url=https://api-us.faceplusplus.com/facepp/v3/compare\n",
      "b'{\"error_message\":\"AUTHENTICATION_ERROR\"}\\n'\n",
      "error: code=401\n",
      "url=https://api-us.faceplusplus.com/facepp/v3/compare\n",
      "b'{\"error_message\":\"AUTHENTICATION_ERROR\"}\\n'\n",
      "error: code=401\n",
      "url=https://api-us.faceplusplus.com/facepp/v3/compare\n",
      "b'{\"error_message\":\"AUTHENTICATION_ERROR\"}\\n'\n",
      "error: code=401\n",
      "url=https://api-us.faceplusplus.com/facepp/v3/compare\n",
      "b'{\"error_message\":\"AUTHENTICATION_ERROR\"}\\n'\n",
      "error: code=401\n",
      "url=https://api-us.faceplusplus.com/facepp/v3/compare\n",
      "b'{\"error_message\":\"AUTHENTICATION_ERROR\"}\\n'\n",
      "error: code=401\n",
      "url=https://api-us.faceplusplus.com/facepp/v3/compare\n",
      "b'{\"error_message\":\"AUTHENTICATION_ERROR\"}\\n'\n",
      "error: code=401\n",
      "url=https://api-us.faceplusplus.com/facepp/v3/compare\n",
      "b'{\"error_message\":\"AUTHENTICATION_ERROR\"}\\n'\n"
     ]
    },
    {
     "name": "stderr",
     "output_type": "stream",
     "text": [
      " 10%|█         | 78/750 [15:50<2:14:53, 12.04s/it]"
     ]
    },
    {
     "name": "stdout",
     "output_type": "stream",
     "text": [
      "error: code=401\n",
      "url=https://api-us.faceplusplus.com/facepp/v3/compare\n",
      "b'{\"error_message\":\"AUTHENTICATION_ERROR\"}\\n'\n",
      "error: code=401\n",
      "url=https://api-us.faceplusplus.com/facepp/v3/compare\n",
      "b'{\"error_message\":\"AUTHENTICATION_ERROR\"}\\n'\n",
      "error: code=401\n",
      "url=https://api-us.faceplusplus.com/facepp/v3/compare\n",
      "b'{\"error_message\":\"AUTHENTICATION_ERROR\"}\\n'\n",
      "error: code=401\n",
      "url=https://api-us.faceplusplus.com/facepp/v3/compare\n",
      "b'{\"error_message\":\"AUTHENTICATION_ERROR\"}\\n'\n",
      "error: code=401\n",
      "url=https://api-us.faceplusplus.com/facepp/v3/compare\n",
      "b'{\"error_message\":\"AUTHENTICATION_ERROR\"}\\n'\n",
      "error: code=401\n",
      "url=https://api-us.faceplusplus.com/facepp/v3/compare\n",
      "b'{\"error_message\":\"AUTHENTICATION_ERROR\"}\\n'\n",
      "error: code=401\n",
      "url=https://api-us.faceplusplus.com/facepp/v3/compare\n",
      "b'{\"error_message\":\"AUTHENTICATION_ERROR\"}\\n'\n",
      "error: code=401\n",
      "url=https://api-us.faceplusplus.com/facepp/v3/compare\n",
      "b'{\"error_message\":\"AUTHENTICATION_ERROR\"}\\n'\n"
     ]
    },
    {
     "name": "stderr",
     "output_type": "stream",
     "text": [
      " 11%|█         | 79/750 [16:03<2:15:27, 12.11s/it]"
     ]
    },
    {
     "name": "stdout",
     "output_type": "stream",
     "text": [
      "error: code=401\n",
      "url=https://api-us.faceplusplus.com/facepp/v3/compare\n",
      "b'{\"error_message\":\"AUTHENTICATION_ERROR\"}\\n'\n",
      "error: code=401\n",
      "url=https://api-us.faceplusplus.com/facepp/v3/compare\n",
      "b'{\"error_message\":\"AUTHENTICATION_ERROR\"}\\n'\n",
      "error: code=401\n",
      "url=https://api-us.faceplusplus.com/facepp/v3/compare\n",
      "b'{\"error_message\":\"AUTHENTICATION_ERROR\"}\\n'\n",
      "error: code=401\n",
      "url=https://api-us.faceplusplus.com/facepp/v3/compare\n",
      "b'{\"error_message\":\"AUTHENTICATION_ERROR\"}\\n'\n",
      "error: code=401\n",
      "url=https://api-us.faceplusplus.com/facepp/v3/compare\n",
      "b'{\"error_message\":\"AUTHENTICATION_ERROR\"}\\n'\n",
      "error: code=401\n",
      "url=https://api-us.faceplusplus.com/facepp/v3/compare\n",
      "b'{\"error_message\":\"AUTHENTICATION_ERROR\"}\\n'\n",
      "error: code=401\n",
      "url=https://api-us.faceplusplus.com/facepp/v3/compare\n",
      "b'{\"error_message\":\"AUTHENTICATION_ERROR\"}\\n'\n",
      "error: code=401\n",
      "url=https://api-us.faceplusplus.com/facepp/v3/compare\n",
      "b'{\"error_message\":\"AUTHENTICATION_ERROR\"}\\n'\n"
     ]
    },
    {
     "name": "stderr",
     "output_type": "stream",
     "text": [
      " 11%|█         | 80/750 [16:15<2:17:38, 12.33s/it]"
     ]
    },
    {
     "name": "stdout",
     "output_type": "stream",
     "text": [
      "error: code=401\n",
      "url=https://api-us.faceplusplus.com/facepp/v3/compare\n",
      "b'{\"error_message\":\"AUTHENTICATION_ERROR\"}\\n'\n",
      "error: code=401\n",
      "url=https://api-us.faceplusplus.com/facepp/v3/compare\n",
      "b'{\"error_message\":\"AUTHENTICATION_ERROR\"}\\n'\n",
      "error: code=401\n",
      "url=https://api-us.faceplusplus.com/facepp/v3/compare\n",
      "b'{\"error_message\":\"AUTHENTICATION_ERROR\"}\\n'\n",
      "error: code=401\n",
      "url=https://api-us.faceplusplus.com/facepp/v3/compare\n",
      "b'{\"error_message\":\"AUTHENTICATION_ERROR\"}\\n'\n",
      "error: code=401\n",
      "url=https://api-us.faceplusplus.com/facepp/v3/compare\n",
      "b'{\"error_message\":\"AUTHENTICATION_ERROR\"}\\n'\n",
      "error: code=401\n",
      "url=https://api-us.faceplusplus.com/facepp/v3/compare\n",
      "b'{\"error_message\":\"AUTHENTICATION_ERROR\"}\\n'\n",
      "error: code=401\n",
      "url=https://api-us.faceplusplus.com/facepp/v3/compare\n",
      "b'{\"error_message\":\"AUTHENTICATION_ERROR\"}\\n'\n",
      "error: code=401\n",
      "url=https://api-us.faceplusplus.com/facepp/v3/compare\n",
      "b'{\"error_message\":\"AUTHENTICATION_ERROR\"}\\n'\n"
     ]
    },
    {
     "name": "stderr",
     "output_type": "stream",
     "text": [
      " 11%|█         | 81/750 [16:27<2:16:12, 12.22s/it]"
     ]
    },
    {
     "name": "stdout",
     "output_type": "stream",
     "text": [
      "error: code=401\n",
      "url=https://api-us.faceplusplus.com/facepp/v3/compare\n",
      "b'{\"error_message\":\"AUTHENTICATION_ERROR\"}\\n'\n",
      "error: code=401\n",
      "url=https://api-us.faceplusplus.com/facepp/v3/compare\n",
      "b'{\"error_message\":\"AUTHENTICATION_ERROR\"}\\n'\n",
      "error: code=401\n",
      "url=https://api-us.faceplusplus.com/facepp/v3/compare\n",
      "b'{\"error_message\":\"AUTHENTICATION_ERROR\"}\\n'\n",
      "error: code=401\n",
      "url=https://api-us.faceplusplus.com/facepp/v3/compare\n",
      "b'{\"error_message\":\"AUTHENTICATION_ERROR\"}\\n'\n",
      "error: code=401\n",
      "url=https://api-us.faceplusplus.com/facepp/v3/compare\n",
      "b'{\"error_message\":\"AUTHENTICATION_ERROR\"}\\n'\n",
      "error: code=401\n",
      "url=https://api-us.faceplusplus.com/facepp/v3/compare\n",
      "b'{\"error_message\":\"AUTHENTICATION_ERROR\"}\\n'\n",
      "error: code=401\n",
      "url=https://api-us.faceplusplus.com/facepp/v3/compare\n",
      "b'{\"error_message\":\"AUTHENTICATION_ERROR\"}\\n'\n",
      "error: code=401\n",
      "url=https://api-us.faceplusplus.com/facepp/v3/compare\n",
      "b'{\"error_message\":\"AUTHENTICATION_ERROR\"}\\n'\n"
     ]
    },
    {
     "name": "stderr",
     "output_type": "stream",
     "text": [
      " 11%|█         | 82/750 [16:39<2:15:40, 12.19s/it]"
     ]
    },
    {
     "name": "stdout",
     "output_type": "stream",
     "text": [
      "error: code=401\n",
      "url=https://api-us.faceplusplus.com/facepp/v3/compare\n",
      "b'{\"error_message\":\"AUTHENTICATION_ERROR\"}\\n'\n",
      "error: code=401\n",
      "url=https://api-us.faceplusplus.com/facepp/v3/compare\n",
      "b'{\"error_message\":\"AUTHENTICATION_ERROR\"}\\n'\n",
      "error: code=401\n",
      "url=https://api-us.faceplusplus.com/facepp/v3/compare\n",
      "b'{\"error_message\":\"AUTHENTICATION_ERROR\"}\\n'\n",
      "error: code=401\n",
      "url=https://api-us.faceplusplus.com/facepp/v3/compare\n",
      "b'{\"error_message\":\"AUTHENTICATION_ERROR\"}\\n'\n",
      "error: code=401\n",
      "url=https://api-us.faceplusplus.com/facepp/v3/compare\n",
      "b'{\"error_message\":\"AUTHENTICATION_ERROR\"}\\n'\n",
      "error: code=401\n",
      "url=https://api-us.faceplusplus.com/facepp/v3/compare\n",
      "b'{\"error_message\":\"AUTHENTICATION_ERROR\"}\\n'\n",
      "error: code=401\n",
      "url=https://api-us.faceplusplus.com/facepp/v3/compare\n",
      "b'{\"error_message\":\"AUTHENTICATION_ERROR\"}\\n'\n",
      "error: code=401\n",
      "url=https://api-us.faceplusplus.com/facepp/v3/compare\n",
      "b'{\"error_message\":\"AUTHENTICATION_ERROR\"}\\n'\n"
     ]
    },
    {
     "name": "stderr",
     "output_type": "stream",
     "text": [
      " 11%|█         | 83/750 [16:52<2:16:04, 12.24s/it]"
     ]
    },
    {
     "name": "stdout",
     "output_type": "stream",
     "text": [
      "error: code=401\n",
      "url=https://api-us.faceplusplus.com/facepp/v3/compare\n",
      "b'{\"error_message\":\"AUTHENTICATION_ERROR\"}\\n'\n",
      "error: code=401\n",
      "url=https://api-us.faceplusplus.com/facepp/v3/compare\n",
      "b'{\"error_message\":\"AUTHENTICATION_ERROR\"}\\n'\n",
      "error: code=401\n",
      "url=https://api-us.faceplusplus.com/facepp/v3/compare\n",
      "b'{\"error_message\":\"AUTHENTICATION_ERROR\"}\\n'\n",
      "error: code=401\n",
      "url=https://api-us.faceplusplus.com/facepp/v3/compare\n",
      "b'{\"error_message\":\"AUTHENTICATION_ERROR\"}\\n'\n",
      "error: code=401\n",
      "url=https://api-us.faceplusplus.com/facepp/v3/compare\n",
      "b'{\"error_message\":\"AUTHENTICATION_ERROR\"}\\n'\n",
      "error: code=401\n",
      "url=https://api-us.faceplusplus.com/facepp/v3/compare\n",
      "b'{\"error_message\":\"AUTHENTICATION_ERROR\"}\\n'\n",
      "error: code=401\n",
      "url=https://api-us.faceplusplus.com/facepp/v3/compare\n",
      "b'{\"error_message\":\"AUTHENTICATION_ERROR\"}\\n'\n",
      "error: code=401\n",
      "url=https://api-us.faceplusplus.com/facepp/v3/compare\n",
      "b'{\"error_message\":\"AUTHENTICATION_ERROR\"}\\n'\n"
     ]
    },
    {
     "name": "stderr",
     "output_type": "stream",
     "text": [
      " 11%|█         | 84/750 [17:04<2:15:41, 12.22s/it]"
     ]
    },
    {
     "name": "stdout",
     "output_type": "stream",
     "text": [
      "error: code=401\n",
      "url=https://api-us.faceplusplus.com/facepp/v3/compare\n",
      "b'{\"error_message\":\"AUTHENTICATION_ERROR\"}\\n'\n",
      "error: code=401\n",
      "url=https://api-us.faceplusplus.com/facepp/v3/compare\n",
      "b'{\"error_message\":\"AUTHENTICATION_ERROR\"}\\n'\n",
      "error: code=401\n",
      "url=https://api-us.faceplusplus.com/facepp/v3/compare\n",
      "b'{\"error_message\":\"AUTHENTICATION_ERROR\"}\\n'\n",
      "error: code=401\n",
      "url=https://api-us.faceplusplus.com/facepp/v3/compare\n",
      "b'{\"error_message\":\"AUTHENTICATION_ERROR\"}\\n'\n",
      "error: code=401\n",
      "url=https://api-us.faceplusplus.com/facepp/v3/compare\n",
      "b'{\"error_message\":\"AUTHENTICATION_ERROR\"}\\n'\n",
      "error: code=401\n",
      "url=https://api-us.faceplusplus.com/facepp/v3/compare\n",
      "b'{\"error_message\":\"AUTHENTICATION_ERROR\"}\\n'\n",
      "error: code=401\n",
      "url=https://api-us.faceplusplus.com/facepp/v3/compare\n",
      "b'{\"error_message\":\"AUTHENTICATION_ERROR\"}\\n'\n",
      "error: code=401\n",
      "url=https://api-us.faceplusplus.com/facepp/v3/compare\n",
      "b'{\"error_message\":\"AUTHENTICATION_ERROR\"}\\n'\n"
     ]
    },
    {
     "name": "stderr",
     "output_type": "stream",
     "text": [
      " 11%|█▏        | 85/750 [17:16<2:16:18, 12.30s/it]"
     ]
    },
    {
     "name": "stdout",
     "output_type": "stream",
     "text": [
      "error: code=401\n",
      "url=https://api-us.faceplusplus.com/facepp/v3/compare\n",
      "b'{\"error_message\":\"AUTHENTICATION_ERROR\"}\\n'\n",
      "error: code=401\n",
      "url=https://api-us.faceplusplus.com/facepp/v3/compare\n",
      "b'{\"error_message\":\"AUTHENTICATION_ERROR\"}\\n'\n",
      "error: code=401\n",
      "url=https://api-us.faceplusplus.com/facepp/v3/compare\n",
      "b'{\"error_message\":\"AUTHENTICATION_ERROR\"}\\n'\n",
      "error: code=401\n",
      "url=https://api-us.faceplusplus.com/facepp/v3/compare\n",
      "b'{\"error_message\":\"AUTHENTICATION_ERROR\"}\\n'\n",
      "error: code=401\n",
      "url=https://api-us.faceplusplus.com/facepp/v3/compare\n",
      "b'{\"error_message\":\"AUTHENTICATION_ERROR\"}\\n'\n",
      "error: code=401\n",
      "url=https://api-us.faceplusplus.com/facepp/v3/compare\n",
      "b'{\"error_message\":\"AUTHENTICATION_ERROR\"}\\n'\n",
      "error: code=401\n",
      "url=https://api-us.faceplusplus.com/facepp/v3/compare\n",
      "b'{\"error_message\":\"AUTHENTICATION_ERROR\"}\\n'\n",
      "error: code=401\n",
      "url=https://api-us.faceplusplus.com/facepp/v3/compare\n",
      "b'{\"error_message\":\"AUTHENTICATION_ERROR\"}\\n'\n"
     ]
    },
    {
     "name": "stderr",
     "output_type": "stream",
     "text": [
      " 11%|█▏        | 86/750 [17:28<2:14:26, 12.15s/it]"
     ]
    },
    {
     "name": "stdout",
     "output_type": "stream",
     "text": [
      "error: code=401\n",
      "url=https://api-us.faceplusplus.com/facepp/v3/compare\n",
      "b'{\"error_message\":\"AUTHENTICATION_ERROR\"}\\n'\n",
      "error: code=401\n",
      "url=https://api-us.faceplusplus.com/facepp/v3/compare\n",
      "b'{\"error_message\":\"AUTHENTICATION_ERROR\"}\\n'\n",
      "error: code=401\n",
      "url=https://api-us.faceplusplus.com/facepp/v3/compare\n",
      "b'{\"error_message\":\"AUTHENTICATION_ERROR\"}\\n'\n",
      "error: code=401\n",
      "url=https://api-us.faceplusplus.com/facepp/v3/compare\n",
      "b'{\"error_message\":\"AUTHENTICATION_ERROR\"}\\n'\n",
      "error: code=401\n",
      "url=https://api-us.faceplusplus.com/facepp/v3/compare\n",
      "b'{\"error_message\":\"AUTHENTICATION_ERROR\"}\\n'\n",
      "error: code=401\n",
      "url=https://api-us.faceplusplus.com/facepp/v3/compare\n",
      "b'{\"error_message\":\"AUTHENTICATION_ERROR\"}\\n'\n",
      "error: code=401\n",
      "url=https://api-us.faceplusplus.com/facepp/v3/compare\n",
      "b'{\"error_message\":\"AUTHENTICATION_ERROR\"}\\n'\n",
      "error: code=401\n",
      "url=https://api-us.faceplusplus.com/facepp/v3/compare\n",
      "b'{\"error_message\":\"AUTHENTICATION_ERROR\"}\\n'\n"
     ]
    },
    {
     "name": "stderr",
     "output_type": "stream",
     "text": [
      " 12%|█▏        | 87/750 [17:40<2:13:24, 12.07s/it]"
     ]
    },
    {
     "name": "stdout",
     "output_type": "stream",
     "text": [
      "error: code=401\n",
      "url=https://api-us.faceplusplus.com/facepp/v3/compare\n",
      "b'{\"error_message\":\"AUTHENTICATION_ERROR\"}\\n'\n",
      "error: code=401\n",
      "url=https://api-us.faceplusplus.com/facepp/v3/compare\n",
      "b'{\"error_message\":\"AUTHENTICATION_ERROR\"}\\n'\n",
      "error: code=401\n",
      "url=https://api-us.faceplusplus.com/facepp/v3/compare\n",
      "b'{\"error_message\":\"AUTHENTICATION_ERROR\"}\\n'\n",
      "error: code=401\n",
      "url=https://api-us.faceplusplus.com/facepp/v3/compare\n",
      "b'{\"error_message\":\"AUTHENTICATION_ERROR\"}\\n'\n",
      "error: code=401\n",
      "url=https://api-us.faceplusplus.com/facepp/v3/compare\n",
      "b'{\"error_message\":\"AUTHENTICATION_ERROR\"}\\n'\n",
      "error: code=401\n",
      "url=https://api-us.faceplusplus.com/facepp/v3/compare\n",
      "b'{\"error_message\":\"AUTHENTICATION_ERROR\"}\\n'\n",
      "error: code=401\n",
      "url=https://api-us.faceplusplus.com/facepp/v3/compare\n",
      "b'{\"error_message\":\"AUTHENTICATION_ERROR\"}\\n'\n",
      "error: code=401\n",
      "url=https://api-us.faceplusplus.com/facepp/v3/compare\n",
      "b'{\"error_message\":\"AUTHENTICATION_ERROR\"}\\n'\n"
     ]
    },
    {
     "name": "stderr",
     "output_type": "stream",
     "text": [
      " 12%|█▏        | 88/750 [17:53<2:14:46, 12.21s/it]"
     ]
    },
    {
     "name": "stdout",
     "output_type": "stream",
     "text": [
      "error: code=401\n",
      "url=https://api-us.faceplusplus.com/facepp/v3/compare\n",
      "b'{\"error_message\":\"AUTHENTICATION_ERROR\"}\\n'\n",
      "error: code=401\n",
      "url=https://api-us.faceplusplus.com/facepp/v3/compare\n",
      "b'{\"error_message\":\"AUTHENTICATION_ERROR\"}\\n'\n",
      "error: code=401\n",
      "url=https://api-us.faceplusplus.com/facepp/v3/compare\n",
      "b'{\"error_message\":\"AUTHENTICATION_ERROR\"}\\n'\n",
      "error: code=401\n",
      "url=https://api-us.faceplusplus.com/facepp/v3/compare\n",
      "b'{\"error_message\":\"AUTHENTICATION_ERROR\"}\\n'\n",
      "error: code=401\n",
      "url=https://api-us.faceplusplus.com/facepp/v3/compare\n",
      "b'{\"error_message\":\"AUTHENTICATION_ERROR\"}\\n'\n",
      "error: code=401\n",
      "url=https://api-us.faceplusplus.com/facepp/v3/compare\n",
      "b'{\"error_message\":\"AUTHENTICATION_ERROR\"}\\n'\n",
      "error: code=401\n",
      "url=https://api-us.faceplusplus.com/facepp/v3/compare\n",
      "b'{\"error_message\":\"AUTHENTICATION_ERROR\"}\\n'\n",
      "error: code=401\n",
      "url=https://api-us.faceplusplus.com/facepp/v3/compare\n",
      "b'{\"error_message\":\"AUTHENTICATION_ERROR\"}\\n'\n"
     ]
    },
    {
     "name": "stderr",
     "output_type": "stream",
     "text": [
      " 12%|█▏        | 89/750 [18:05<2:13:33, 12.12s/it]"
     ]
    },
    {
     "name": "stdout",
     "output_type": "stream",
     "text": [
      "error: code=401\n",
      "url=https://api-us.faceplusplus.com/facepp/v3/compare\n",
      "b'{\"error_message\":\"AUTHENTICATION_ERROR\"}\\n'\n",
      "error: code=401\n",
      "url=https://api-us.faceplusplus.com/facepp/v3/compare\n",
      "b'{\"error_message\":\"AUTHENTICATION_ERROR\"}\\n'\n",
      "error: code=401\n",
      "url=https://api-us.faceplusplus.com/facepp/v3/compare\n",
      "b'{\"error_message\":\"AUTHENTICATION_ERROR\"}\\n'\n",
      "error: code=401\n",
      "url=https://api-us.faceplusplus.com/facepp/v3/compare\n",
      "b'{\"error_message\":\"AUTHENTICATION_ERROR\"}\\n'\n",
      "error: code=401\n",
      "url=https://api-us.faceplusplus.com/facepp/v3/compare\n",
      "b'{\"error_message\":\"AUTHENTICATION_ERROR\"}\\n'\n",
      "error: code=401\n",
      "url=https://api-us.faceplusplus.com/facepp/v3/compare\n",
      "b'{\"error_message\":\"AUTHENTICATION_ERROR\"}\\n'\n",
      "error: code=401\n",
      "url=https://api-us.faceplusplus.com/facepp/v3/compare\n",
      "b'{\"error_message\":\"AUTHENTICATION_ERROR\"}\\n'\n",
      "error: code=401\n",
      "url=https://api-us.faceplusplus.com/facepp/v3/compare\n",
      "b'{\"error_message\":\"AUTHENTICATION_ERROR\"}\\n'\n"
     ]
    },
    {
     "name": "stderr",
     "output_type": "stream",
     "text": [
      " 12%|█▏        | 90/750 [18:17<2:13:01, 12.09s/it]"
     ]
    },
    {
     "name": "stdout",
     "output_type": "stream",
     "text": [
      "error: code=401\n",
      "url=https://api-us.faceplusplus.com/facepp/v3/compare\n",
      "b'{\"error_message\":\"AUTHENTICATION_ERROR\"}\\n'\n",
      "error: code=401\n",
      "url=https://api-us.faceplusplus.com/facepp/v3/compare\n",
      "b'{\"error_message\":\"AUTHENTICATION_ERROR\"}\\n'\n",
      "error: code=401\n",
      "url=https://api-us.faceplusplus.com/facepp/v3/compare\n",
      "b'{\"error_message\":\"AUTHENTICATION_ERROR\"}\\n'\n",
      "error: code=401\n",
      "url=https://api-us.faceplusplus.com/facepp/v3/compare\n",
      "b'{\"error_message\":\"AUTHENTICATION_ERROR\"}\\n'\n",
      "error: code=401\n",
      "url=https://api-us.faceplusplus.com/facepp/v3/compare\n",
      "b'{\"error_message\":\"AUTHENTICATION_ERROR\"}\\n'\n",
      "error: code=401\n",
      "url=https://api-us.faceplusplus.com/facepp/v3/compare\n",
      "b'{\"error_message\":\"AUTHENTICATION_ERROR\"}\\n'\n",
      "error: code=401\n",
      "url=https://api-us.faceplusplus.com/facepp/v3/compare\n",
      "b'{\"error_message\":\"AUTHENTICATION_ERROR\"}\\n'\n",
      "error: code=401\n",
      "url=https://api-us.faceplusplus.com/facepp/v3/compare\n",
      "b'{\"error_message\":\"AUTHENTICATION_ERROR\"}\\n'\n"
     ]
    },
    {
     "name": "stderr",
     "output_type": "stream",
     "text": [
      " 12%|█▏        | 91/750 [18:29<2:12:40, 12.08s/it]"
     ]
    },
    {
     "name": "stdout",
     "output_type": "stream",
     "text": [
      "error: code=401\n",
      "url=https://api-us.faceplusplus.com/facepp/v3/compare\n",
      "b'{\"error_message\":\"AUTHENTICATION_ERROR\"}\\n'\n",
      "error: code=401\n",
      "url=https://api-us.faceplusplus.com/facepp/v3/compare\n",
      "b'{\"error_message\":\"AUTHENTICATION_ERROR\"}\\n'\n",
      "error: code=401\n",
      "url=https://api-us.faceplusplus.com/facepp/v3/compare\n",
      "b'{\"error_message\":\"AUTHENTICATION_ERROR\"}\\n'\n",
      "error: code=401\n",
      "url=https://api-us.faceplusplus.com/facepp/v3/compare\n",
      "b'{\"error_message\":\"AUTHENTICATION_ERROR\"}\\n'\n",
      "error: code=401\n",
      "url=https://api-us.faceplusplus.com/facepp/v3/compare\n",
      "b'{\"error_message\":\"AUTHENTICATION_ERROR\"}\\n'\n",
      "error: code=401\n",
      "url=https://api-us.faceplusplus.com/facepp/v3/compare\n",
      "b'{\"error_message\":\"AUTHENTICATION_ERROR\"}\\n'\n",
      "error: code=401\n",
      "url=https://api-us.faceplusplus.com/facepp/v3/compare\n",
      "b'{\"error_message\":\"AUTHENTICATION_ERROR\"}\\n'\n",
      "error: code=401\n",
      "url=https://api-us.faceplusplus.com/facepp/v3/compare\n",
      "b'{\"error_message\":\"AUTHENTICATION_ERROR\"}\\n'\n"
     ]
    },
    {
     "name": "stderr",
     "output_type": "stream",
     "text": [
      " 12%|█▏        | 92/750 [18:42<2:17:46, 12.56s/it]"
     ]
    },
    {
     "name": "stdout",
     "output_type": "stream",
     "text": [
      "error: code=401\n",
      "url=https://api-us.faceplusplus.com/facepp/v3/compare\n",
      "b'{\"error_message\":\"AUTHENTICATION_ERROR\"}\\n'\n",
      "error: code=401\n",
      "url=https://api-us.faceplusplus.com/facepp/v3/compare\n",
      "b'{\"error_message\":\"AUTHENTICATION_ERROR\"}\\n'\n",
      "error: code=401\n",
      "url=https://api-us.faceplusplus.com/facepp/v3/compare\n",
      "b'{\"error_message\":\"AUTHENTICATION_ERROR\"}\\n'\n",
      "error: code=401\n",
      "url=https://api-us.faceplusplus.com/facepp/v3/compare\n",
      "b'{\"error_message\":\"AUTHENTICATION_ERROR\"}\\n'\n",
      "error: code=401\n",
      "url=https://api-us.faceplusplus.com/facepp/v3/compare\n",
      "b'{\"error_message\":\"AUTHENTICATION_ERROR\"}\\n'\n",
      "error: code=401\n",
      "url=https://api-us.faceplusplus.com/facepp/v3/compare\n",
      "b'{\"error_message\":\"AUTHENTICATION_ERROR\"}\\n'\n",
      "error: code=401\n",
      "url=https://api-us.faceplusplus.com/facepp/v3/compare\n",
      "b'{\"error_message\":\"AUTHENTICATION_ERROR\"}\\n'\n",
      "error: code=401\n",
      "url=https://api-us.faceplusplus.com/facepp/v3/compare\n",
      "b'{\"error_message\":\"AUTHENTICATION_ERROR\"}\\n'\n"
     ]
    },
    {
     "name": "stderr",
     "output_type": "stream",
     "text": [
      " 12%|█▏        | 93/750 [18:55<2:16:17, 12.45s/it]"
     ]
    },
    {
     "name": "stdout",
     "output_type": "stream",
     "text": [
      "error: code=401\n",
      "url=https://api-us.faceplusplus.com/facepp/v3/compare\n",
      "b'{\"error_message\":\"AUTHENTICATION_ERROR\"}\\n'\n",
      "error: code=401\n",
      "url=https://api-us.faceplusplus.com/facepp/v3/compare\n",
      "b'{\"error_message\":\"AUTHENTICATION_ERROR\"}\\n'\n",
      "error: code=401\n",
      "url=https://api-us.faceplusplus.com/facepp/v3/compare\n",
      "b'{\"error_message\":\"AUTHENTICATION_ERROR\"}\\n'\n",
      "error: code=401\n",
      "url=https://api-us.faceplusplus.com/facepp/v3/compare\n",
      "b'{\"error_message\":\"AUTHENTICATION_ERROR\"}\\n'\n",
      "error: code=401\n",
      "url=https://api-us.faceplusplus.com/facepp/v3/compare\n",
      "b'{\"error_message\":\"AUTHENTICATION_ERROR\"}\\n'\n",
      "error: code=401\n",
      "url=https://api-us.faceplusplus.com/facepp/v3/compare\n",
      "b'{\"error_message\":\"AUTHENTICATION_ERROR\"}\\n'\n",
      "error: code=401\n",
      "url=https://api-us.faceplusplus.com/facepp/v3/compare\n",
      "b'{\"error_message\":\"AUTHENTICATION_ERROR\"}\\n'\n",
      "error: code=401\n",
      "url=https://api-us.faceplusplus.com/facepp/v3/compare\n",
      "b'{\"error_message\":\"AUTHENTICATION_ERROR\"}\\n'\n"
     ]
    },
    {
     "name": "stderr",
     "output_type": "stream",
     "text": [
      " 13%|█▎        | 94/750 [19:07<2:14:55, 12.34s/it]"
     ]
    },
    {
     "name": "stdout",
     "output_type": "stream",
     "text": [
      "error: code=401\n",
      "url=https://api-us.faceplusplus.com/facepp/v3/compare\n",
      "b'{\"error_message\":\"AUTHENTICATION_ERROR\"}\\n'\n",
      "error: code=401\n",
      "url=https://api-us.faceplusplus.com/facepp/v3/compare\n",
      "b'{\"error_message\":\"AUTHENTICATION_ERROR\"}\\n'\n",
      "error: code=401\n",
      "url=https://api-us.faceplusplus.com/facepp/v3/compare\n",
      "b'{\"error_message\":\"AUTHENTICATION_ERROR\"}\\n'\n",
      "error: code=401\n",
      "url=https://api-us.faceplusplus.com/facepp/v3/compare\n",
      "b'{\"error_message\":\"AUTHENTICATION_ERROR\"}\\n'\n",
      "error: code=401\n",
      "url=https://api-us.faceplusplus.com/facepp/v3/compare\n",
      "b'{\"error_message\":\"AUTHENTICATION_ERROR\"}\\n'\n",
      "error: code=401\n",
      "url=https://api-us.faceplusplus.com/facepp/v3/compare\n",
      "b'{\"error_message\":\"AUTHENTICATION_ERROR\"}\\n'\n",
      "error: code=401\n",
      "url=https://api-us.faceplusplus.com/facepp/v3/compare\n",
      "b'{\"error_message\":\"AUTHENTICATION_ERROR\"}\\n'\n",
      "error: code=401\n",
      "url=https://api-us.faceplusplus.com/facepp/v3/compare\n",
      "b'{\"error_message\":\"AUTHENTICATION_ERROR\"}\\n'\n"
     ]
    },
    {
     "name": "stderr",
     "output_type": "stream",
     "text": [
      " 13%|█▎        | 95/750 [19:19<2:13:23, 12.22s/it]"
     ]
    },
    {
     "name": "stdout",
     "output_type": "stream",
     "text": [
      "error: code=401\n",
      "url=https://api-us.faceplusplus.com/facepp/v3/compare\n",
      "b'{\"error_message\":\"AUTHENTICATION_ERROR\"}\\n'\n",
      "error: code=401\n",
      "url=https://api-us.faceplusplus.com/facepp/v3/compare\n",
      "b'{\"error_message\":\"AUTHENTICATION_ERROR\"}\\n'\n",
      "error: code=401\n",
      "url=https://api-us.faceplusplus.com/facepp/v3/compare\n",
      "b'{\"error_message\":\"AUTHENTICATION_ERROR\"}\\n'\n",
      "error: code=401\n",
      "url=https://api-us.faceplusplus.com/facepp/v3/compare\n",
      "b'{\"error_message\":\"AUTHENTICATION_ERROR\"}\\n'\n",
      "error: code=401\n",
      "url=https://api-us.faceplusplus.com/facepp/v3/compare\n",
      "b'{\"error_message\":\"AUTHENTICATION_ERROR\"}\\n'\n",
      "error: code=401\n",
      "url=https://api-us.faceplusplus.com/facepp/v3/compare\n",
      "b'{\"error_message\":\"AUTHENTICATION_ERROR\"}\\n'\n",
      "error: code=401\n",
      "url=https://api-us.faceplusplus.com/facepp/v3/compare\n",
      "b'{\"error_message\":\"AUTHENTICATION_ERROR\"}\\n'\n",
      "error: code=401\n",
      "url=https://api-us.faceplusplus.com/facepp/v3/compare\n",
      "b'{\"error_message\":\"AUTHENTICATION_ERROR\"}\\n'\n"
     ]
    },
    {
     "name": "stderr",
     "output_type": "stream",
     "text": [
      " 13%|█▎        | 96/750 [19:31<2:13:54, 12.29s/it]"
     ]
    },
    {
     "name": "stdout",
     "output_type": "stream",
     "text": [
      "error: code=401\n",
      "url=https://api-us.faceplusplus.com/facepp/v3/compare\n",
      "b'{\"error_message\":\"AUTHENTICATION_ERROR\"}\\n'\n",
      "error: code=401\n",
      "url=https://api-us.faceplusplus.com/facepp/v3/compare\n",
      "b'{\"error_message\":\"AUTHENTICATION_ERROR\"}\\n'\n",
      "error: code=401\n",
      "url=https://api-us.faceplusplus.com/facepp/v3/compare\n",
      "b'{\"error_message\":\"AUTHENTICATION_ERROR\"}\\n'\n",
      "error: code=401\n",
      "url=https://api-us.faceplusplus.com/facepp/v3/compare\n",
      "b'{\"error_message\":\"AUTHENTICATION_ERROR\"}\\n'\n",
      "error: code=401\n",
      "url=https://api-us.faceplusplus.com/facepp/v3/compare\n",
      "b'{\"error_message\":\"AUTHENTICATION_ERROR\"}\\n'\n",
      "error: code=401\n",
      "url=https://api-us.faceplusplus.com/facepp/v3/compare\n",
      "b'{\"error_message\":\"AUTHENTICATION_ERROR\"}\\n'\n",
      "error: code=401\n",
      "url=https://api-us.faceplusplus.com/facepp/v3/compare\n",
      "b'{\"error_message\":\"AUTHENTICATION_ERROR\"}\\n'\n",
      "error: code=401\n",
      "url=https://api-us.faceplusplus.com/facepp/v3/compare\n",
      "b'{\"error_message\":\"AUTHENTICATION_ERROR\"}\\n'\n"
     ]
    },
    {
     "name": "stderr",
     "output_type": "stream",
     "text": [
      " 13%|█▎        | 97/750 [19:43<2:13:57, 12.31s/it]"
     ]
    },
    {
     "name": "stdout",
     "output_type": "stream",
     "text": [
      "error: code=401\n",
      "url=https://api-us.faceplusplus.com/facepp/v3/compare\n",
      "b'{\"error_message\":\"AUTHENTICATION_ERROR\"}\\n'\n",
      "error: code=401\n",
      "url=https://api-us.faceplusplus.com/facepp/v3/compare\n",
      "b'{\"error_message\":\"AUTHENTICATION_ERROR\"}\\n'\n",
      "error: code=401\n",
      "url=https://api-us.faceplusplus.com/facepp/v3/compare\n",
      "b'{\"error_message\":\"AUTHENTICATION_ERROR\"}\\n'\n",
      "error: code=401\n",
      "url=https://api-us.faceplusplus.com/facepp/v3/compare\n",
      "b'{\"error_message\":\"AUTHENTICATION_ERROR\"}\\n'\n",
      "error: code=401\n",
      "url=https://api-us.faceplusplus.com/facepp/v3/compare\n",
      "b'{\"error_message\":\"AUTHENTICATION_ERROR\"}\\n'\n",
      "error: code=401\n",
      "url=https://api-us.faceplusplus.com/facepp/v3/compare\n",
      "b'{\"error_message\":\"AUTHENTICATION_ERROR\"}\\n'\n",
      "error: code=401\n",
      "url=https://api-us.faceplusplus.com/facepp/v3/compare\n",
      "b'{\"error_message\":\"AUTHENTICATION_ERROR\"}\\n'\n",
      "error: code=401\n",
      "url=https://api-us.faceplusplus.com/facepp/v3/compare\n",
      "b'{\"error_message\":\"AUTHENTICATION_ERROR\"}\\n'\n"
     ]
    },
    {
     "name": "stderr",
     "output_type": "stream",
     "text": [
      " 13%|█▎        | 98/750 [19:55<2:12:52, 12.23s/it]"
     ]
    },
    {
     "name": "stdout",
     "output_type": "stream",
     "text": [
      "error: code=401\n",
      "url=https://api-us.faceplusplus.com/facepp/v3/compare\n",
      "b'{\"error_message\":\"AUTHENTICATION_ERROR\"}\\n'\n",
      "error: code=401\n",
      "url=https://api-us.faceplusplus.com/facepp/v3/compare\n",
      "b'{\"error_message\":\"AUTHENTICATION_ERROR\"}\\n'\n",
      "error: code=401\n",
      "url=https://api-us.faceplusplus.com/facepp/v3/compare\n",
      "b'{\"error_message\":\"AUTHENTICATION_ERROR\"}\\n'\n",
      "error: code=401\n",
      "url=https://api-us.faceplusplus.com/facepp/v3/compare\n",
      "b'{\"error_message\":\"AUTHENTICATION_ERROR\"}\\n'\n",
      "error: code=401\n",
      "url=https://api-us.faceplusplus.com/facepp/v3/compare\n",
      "b'{\"error_message\":\"AUTHENTICATION_ERROR\"}\\n'\n",
      "error: code=401\n",
      "url=https://api-us.faceplusplus.com/facepp/v3/compare\n",
      "b'{\"error_message\":\"AUTHENTICATION_ERROR\"}\\n'\n",
      "error: code=401\n",
      "url=https://api-us.faceplusplus.com/facepp/v3/compare\n",
      "b'{\"error_message\":\"AUTHENTICATION_ERROR\"}\\n'\n",
      "error: code=401\n",
      "url=https://api-us.faceplusplus.com/facepp/v3/compare\n",
      "b'{\"error_message\":\"AUTHENTICATION_ERROR\"}\\n'\n"
     ]
    },
    {
     "name": "stderr",
     "output_type": "stream",
     "text": [
      " 13%|█▎        | 99/750 [20:08<2:13:00, 12.26s/it]"
     ]
    },
    {
     "name": "stdout",
     "output_type": "stream",
     "text": [
      "error: code=401\n",
      "url=https://api-us.faceplusplus.com/facepp/v3/compare\n",
      "b'{\"error_message\":\"AUTHENTICATION_ERROR\"}\\n'\n",
      "error: code=401\n",
      "url=https://api-us.faceplusplus.com/facepp/v3/compare\n",
      "b'{\"error_message\":\"AUTHENTICATION_ERROR\"}\\n'\n",
      "error: code=401\n",
      "url=https://api-us.faceplusplus.com/facepp/v3/compare\n",
      "b'{\"error_message\":\"AUTHENTICATION_ERROR\"}\\n'\n",
      "error: code=401\n",
      "url=https://api-us.faceplusplus.com/facepp/v3/compare\n",
      "b'{\"error_message\":\"AUTHENTICATION_ERROR\"}\\n'\n",
      "error: code=401\n",
      "url=https://api-us.faceplusplus.com/facepp/v3/compare\n",
      "b'{\"error_message\":\"AUTHENTICATION_ERROR\"}\\n'\n",
      "error: code=401\n",
      "url=https://api-us.faceplusplus.com/facepp/v3/compare\n",
      "b'{\"error_message\":\"AUTHENTICATION_ERROR\"}\\n'\n",
      "error: code=401\n",
      "url=https://api-us.faceplusplus.com/facepp/v3/compare\n",
      "b'{\"error_message\":\"AUTHENTICATION_ERROR\"}\\n'\n",
      "error: code=401\n",
      "url=https://api-us.faceplusplus.com/facepp/v3/compare\n",
      "b'{\"error_message\":\"AUTHENTICATION_ERROR\"}\\n'\n"
     ]
    },
    {
     "name": "stderr",
     "output_type": "stream",
     "text": [
      " 13%|█▎        | 100/750 [20:20<2:12:41, 12.25s/it]"
     ]
    },
    {
     "name": "stdout",
     "output_type": "stream",
     "text": [
      "error: code=401\n",
      "url=https://api-us.faceplusplus.com/facepp/v3/compare\n",
      "b'{\"error_message\":\"AUTHENTICATION_ERROR\"}\\n'\n",
      "error: code=401\n",
      "url=https://api-us.faceplusplus.com/facepp/v3/compare\n",
      "b'{\"error_message\":\"AUTHENTICATION_ERROR\"}\\n'\n",
      "error: code=401\n",
      "url=https://api-us.faceplusplus.com/facepp/v3/compare\n",
      "b'{\"error_message\":\"AUTHENTICATION_ERROR\"}\\n'\n",
      "error: code=401\n",
      "url=https://api-us.faceplusplus.com/facepp/v3/compare\n",
      "b'{\"error_message\":\"AUTHENTICATION_ERROR\"}\\n'\n",
      "error: code=401\n",
      "url=https://api-us.faceplusplus.com/facepp/v3/compare\n",
      "b'{\"error_message\":\"AUTHENTICATION_ERROR\"}\\n'\n",
      "error: code=401\n",
      "url=https://api-us.faceplusplus.com/facepp/v3/compare\n",
      "b'{\"error_message\":\"AUTHENTICATION_ERROR\"}\\n'\n",
      "error: code=401\n",
      "url=https://api-us.faceplusplus.com/facepp/v3/compare\n",
      "b'{\"error_message\":\"AUTHENTICATION_ERROR\"}\\n'\n",
      "error: code=401\n",
      "url=https://api-us.faceplusplus.com/facepp/v3/compare\n",
      "b'{\"error_message\":\"AUTHENTICATION_ERROR\"}\\n'\n"
     ]
    },
    {
     "name": "stderr",
     "output_type": "stream",
     "text": [
      " 13%|█▎        | 101/750 [20:33<2:13:35, 12.35s/it]"
     ]
    },
    {
     "name": "stdout",
     "output_type": "stream",
     "text": [
      "error: code=401\n",
      "url=https://api-us.faceplusplus.com/facepp/v3/compare\n",
      "b'{\"error_message\":\"AUTHENTICATION_ERROR\"}\\n'\n",
      "error: code=401\n",
      "url=https://api-us.faceplusplus.com/facepp/v3/compare\n",
      "b'{\"error_message\":\"AUTHENTICATION_ERROR\"}\\n'\n",
      "error: code=401\n",
      "url=https://api-us.faceplusplus.com/facepp/v3/compare\n",
      "b'{\"error_message\":\"AUTHENTICATION_ERROR\"}\\n'\n",
      "error: code=401\n",
      "url=https://api-us.faceplusplus.com/facepp/v3/compare\n",
      "b'{\"error_message\":\"AUTHENTICATION_ERROR\"}\\n'\n",
      "error: code=401\n",
      "url=https://api-us.faceplusplus.com/facepp/v3/compare\n",
      "b'{\"error_message\":\"AUTHENTICATION_ERROR\"}\\n'\n",
      "error: code=401\n",
      "url=https://api-us.faceplusplus.com/facepp/v3/compare\n",
      "b'{\"error_message\":\"AUTHENTICATION_ERROR\"}\\n'\n",
      "error: code=401\n",
      "url=https://api-us.faceplusplus.com/facepp/v3/compare\n",
      "b'{\"error_message\":\"AUTHENTICATION_ERROR\"}\\n'\n",
      "error: code=401\n",
      "url=https://api-us.faceplusplus.com/facepp/v3/compare\n",
      "b'{\"error_message\":\"AUTHENTICATION_ERROR\"}\\n'\n"
     ]
    },
    {
     "name": "stderr",
     "output_type": "stream",
     "text": [
      " 14%|█▎        | 102/750 [20:45<2:12:14, 12.24s/it]"
     ]
    },
    {
     "name": "stdout",
     "output_type": "stream",
     "text": [
      "error: code=401\n",
      "url=https://api-us.faceplusplus.com/facepp/v3/compare\n",
      "b'{\"error_message\":\"AUTHENTICATION_ERROR\"}\\n'\n",
      "error: code=401\n",
      "url=https://api-us.faceplusplus.com/facepp/v3/compare\n",
      "b'{\"error_message\":\"AUTHENTICATION_ERROR\"}\\n'\n",
      "error: code=401\n",
      "url=https://api-us.faceplusplus.com/facepp/v3/compare\n",
      "b'{\"error_message\":\"AUTHENTICATION_ERROR\"}\\n'\n",
      "error: code=401\n",
      "url=https://api-us.faceplusplus.com/facepp/v3/compare\n",
      "b'{\"error_message\":\"AUTHENTICATION_ERROR\"}\\n'\n",
      "error: code=401\n",
      "url=https://api-us.faceplusplus.com/facepp/v3/compare\n",
      "b'{\"error_message\":\"AUTHENTICATION_ERROR\"}\\n'\n",
      "error: code=401\n",
      "url=https://api-us.faceplusplus.com/facepp/v3/compare\n",
      "b'{\"error_message\":\"AUTHENTICATION_ERROR\"}\\n'\n",
      "error: code=401\n",
      "url=https://api-us.faceplusplus.com/facepp/v3/compare\n",
      "b'{\"error_message\":\"AUTHENTICATION_ERROR\"}\\n'\n",
      "error: code=401\n",
      "url=https://api-us.faceplusplus.com/facepp/v3/compare\n",
      "b'{\"error_message\":\"AUTHENTICATION_ERROR\"}\\n'\n"
     ]
    },
    {
     "name": "stderr",
     "output_type": "stream",
     "text": [
      " 14%|█▎        | 103/750 [20:57<2:11:44, 12.22s/it]"
     ]
    },
    {
     "name": "stdout",
     "output_type": "stream",
     "text": [
      "error: code=401\n",
      "url=https://api-us.faceplusplus.com/facepp/v3/compare\n",
      "b'{\"error_message\":\"AUTHENTICATION_ERROR\"}\\n'\n",
      "error: code=401\n",
      "url=https://api-us.faceplusplus.com/facepp/v3/compare\n",
      "b'{\"error_message\":\"AUTHENTICATION_ERROR\"}\\n'\n",
      "error: code=401\n",
      "url=https://api-us.faceplusplus.com/facepp/v3/compare\n",
      "b'{\"error_message\":\"AUTHENTICATION_ERROR\"}\\n'\n",
      "error: code=401\n",
      "url=https://api-us.faceplusplus.com/facepp/v3/compare\n",
      "b'{\"error_message\":\"AUTHENTICATION_ERROR\"}\\n'\n",
      "error: code=401\n",
      "url=https://api-us.faceplusplus.com/facepp/v3/compare\n",
      "b'{\"error_message\":\"AUTHENTICATION_ERROR\"}\\n'\n",
      "error: code=401\n",
      "url=https://api-us.faceplusplus.com/facepp/v3/compare\n",
      "b'{\"error_message\":\"AUTHENTICATION_ERROR\"}\\n'\n",
      "error: code=401\n",
      "url=https://api-us.faceplusplus.com/facepp/v3/compare\n",
      "b'{\"error_message\":\"AUTHENTICATION_ERROR\"}\\n'\n",
      "error: code=401\n",
      "url=https://api-us.faceplusplus.com/facepp/v3/compare\n",
      "b'{\"error_message\":\"AUTHENTICATION_ERROR\"}\\n'\n"
     ]
    },
    {
     "name": "stderr",
     "output_type": "stream",
     "text": [
      " 14%|█▍        | 104/750 [21:09<2:11:07, 12.18s/it]"
     ]
    },
    {
     "name": "stdout",
     "output_type": "stream",
     "text": [
      "error: code=401\n",
      "url=https://api-us.faceplusplus.com/facepp/v3/compare\n",
      "b'{\"error_message\":\"AUTHENTICATION_ERROR\"}\\n'\n",
      "error: code=401\n",
      "url=https://api-us.faceplusplus.com/facepp/v3/compare\n",
      "b'{\"error_message\":\"AUTHENTICATION_ERROR\"}\\n'\n",
      "error: code=401\n",
      "url=https://api-us.faceplusplus.com/facepp/v3/compare\n",
      "b'{\"error_message\":\"AUTHENTICATION_ERROR\"}\\n'\n",
      "error: code=401\n",
      "url=https://api-us.faceplusplus.com/facepp/v3/compare\n",
      "b'{\"error_message\":\"AUTHENTICATION_ERROR\"}\\n'\n",
      "error: code=401\n",
      "url=https://api-us.faceplusplus.com/facepp/v3/compare\n",
      "b'{\"error_message\":\"AUTHENTICATION_ERROR\"}\\n'\n",
      "error: code=401\n",
      "url=https://api-us.faceplusplus.com/facepp/v3/compare\n",
      "b'{\"error_message\":\"AUTHENTICATION_ERROR\"}\\n'\n",
      "error: code=401\n",
      "url=https://api-us.faceplusplus.com/facepp/v3/compare\n",
      "b'{\"error_message\":\"AUTHENTICATION_ERROR\"}\\n'\n",
      "error: code=401\n",
      "url=https://api-us.faceplusplus.com/facepp/v3/compare\n",
      "b'{\"error_message\":\"AUTHENTICATION_ERROR\"}\\n'\n"
     ]
    },
    {
     "name": "stderr",
     "output_type": "stream",
     "text": [
      " 14%|█▍        | 105/750 [21:21<2:11:27, 12.23s/it]"
     ]
    },
    {
     "name": "stdout",
     "output_type": "stream",
     "text": [
      "error: code=401\n",
      "url=https://api-us.faceplusplus.com/facepp/v3/compare\n",
      "b'{\"error_message\":\"AUTHENTICATION_ERROR\"}\\n'\n",
      "error: code=401\n",
      "url=https://api-us.faceplusplus.com/facepp/v3/compare\n",
      "b'{\"error_message\":\"AUTHENTICATION_ERROR\"}\\n'\n",
      "error: code=401\n",
      "url=https://api-us.faceplusplus.com/facepp/v3/compare\n",
      "b'{\"error_message\":\"AUTHENTICATION_ERROR\"}\\n'\n",
      "error: code=401\n",
      "url=https://api-us.faceplusplus.com/facepp/v3/compare\n",
      "b'{\"error_message\":\"AUTHENTICATION_ERROR\"}\\n'\n",
      "error: code=401\n",
      "url=https://api-us.faceplusplus.com/facepp/v3/compare\n",
      "b'{\"error_message\":\"AUTHENTICATION_ERROR\"}\\n'\n",
      "error: code=401\n",
      "url=https://api-us.faceplusplus.com/facepp/v3/compare\n",
      "b'{\"error_message\":\"AUTHENTICATION_ERROR\"}\\n'\n",
      "error: code=401\n",
      "url=https://api-us.faceplusplus.com/facepp/v3/compare\n",
      "b'{\"error_message\":\"AUTHENTICATION_ERROR\"}\\n'\n",
      "error: code=401\n",
      "url=https://api-us.faceplusplus.com/facepp/v3/compare\n",
      "b'{\"error_message\":\"AUTHENTICATION_ERROR\"}\\n'\n"
     ]
    },
    {
     "name": "stderr",
     "output_type": "stream",
     "text": [
      " 14%|█▍        | 106/750 [21:33<2:10:29, 12.16s/it]"
     ]
    },
    {
     "name": "stdout",
     "output_type": "stream",
     "text": [
      "error: code=401\n",
      "url=https://api-us.faceplusplus.com/facepp/v3/compare\n",
      "b'{\"error_message\":\"AUTHENTICATION_ERROR\"}\\n'\n",
      "error: code=401\n",
      "url=https://api-us.faceplusplus.com/facepp/v3/compare\n",
      "b'{\"error_message\":\"AUTHENTICATION_ERROR\"}\\n'\n",
      "error: code=401\n",
      "url=https://api-us.faceplusplus.com/facepp/v3/compare\n",
      "b'{\"error_message\":\"AUTHENTICATION_ERROR\"}\\n'\n",
      "error: code=401\n",
      "url=https://api-us.faceplusplus.com/facepp/v3/compare\n",
      "b'{\"error_message\":\"AUTHENTICATION_ERROR\"}\\n'\n",
      "error: code=401\n",
      "url=https://api-us.faceplusplus.com/facepp/v3/compare\n",
      "b'{\"error_message\":\"AUTHENTICATION_ERROR\"}\\n'\n",
      "error: code=401\n",
      "url=https://api-us.faceplusplus.com/facepp/v3/compare\n",
      "b'{\"error_message\":\"AUTHENTICATION_ERROR\"}\\n'\n",
      "error: code=401\n",
      "url=https://api-us.faceplusplus.com/facepp/v3/compare\n",
      "b'{\"error_message\":\"AUTHENTICATION_ERROR\"}\\n'\n",
      "error: code=401\n",
      "url=https://api-us.faceplusplus.com/facepp/v3/compare\n",
      "b'{\"error_message\":\"AUTHENTICATION_ERROR\"}\\n'\n"
     ]
    },
    {
     "name": "stderr",
     "output_type": "stream",
     "text": [
      " 14%|█▍        | 107/750 [21:45<2:10:01, 12.13s/it]"
     ]
    },
    {
     "name": "stdout",
     "output_type": "stream",
     "text": [
      "error: code=401\n",
      "url=https://api-us.faceplusplus.com/facepp/v3/compare\n",
      "b'{\"error_message\":\"AUTHENTICATION_ERROR\"}\\n'\n",
      "error: code=401\n",
      "url=https://api-us.faceplusplus.com/facepp/v3/compare\n",
      "b'{\"error_message\":\"AUTHENTICATION_ERROR\"}\\n'\n",
      "error: code=401\n",
      "url=https://api-us.faceplusplus.com/facepp/v3/compare\n",
      "b'{\"error_message\":\"AUTHENTICATION_ERROR\"}\\n'\n",
      "error: code=401\n",
      "url=https://api-us.faceplusplus.com/facepp/v3/compare\n",
      "b'{\"error_message\":\"AUTHENTICATION_ERROR\"}\\n'\n",
      "error: code=401\n",
      "url=https://api-us.faceplusplus.com/facepp/v3/compare\n",
      "b'{\"error_message\":\"AUTHENTICATION_ERROR\"}\\n'\n",
      "error: code=401\n",
      "url=https://api-us.faceplusplus.com/facepp/v3/compare\n",
      "b'{\"error_message\":\"AUTHENTICATION_ERROR\"}\\n'\n",
      "error: code=401\n",
      "url=https://api-us.faceplusplus.com/facepp/v3/compare\n",
      "b'{\"error_message\":\"AUTHENTICATION_ERROR\"}\\n'\n",
      "error: code=401\n",
      "url=https://api-us.faceplusplus.com/facepp/v3/compare\n",
      "b'{\"error_message\":\"AUTHENTICATION_ERROR\"}\\n'\n"
     ]
    },
    {
     "name": "stderr",
     "output_type": "stream",
     "text": [
      " 14%|█▍        | 108/750 [21:58<2:10:14, 12.17s/it]"
     ]
    },
    {
     "name": "stdout",
     "output_type": "stream",
     "text": [
      "error: code=401\n",
      "url=https://api-us.faceplusplus.com/facepp/v3/compare\n",
      "b'{\"error_message\":\"AUTHENTICATION_ERROR\"}\\n'\n",
      "error: code=401\n",
      "url=https://api-us.faceplusplus.com/facepp/v3/compare\n",
      "b'{\"error_message\":\"AUTHENTICATION_ERROR\"}\\n'\n",
      "error: code=401\n",
      "url=https://api-us.faceplusplus.com/facepp/v3/compare\n",
      "b'{\"error_message\":\"AUTHENTICATION_ERROR\"}\\n'\n",
      "error: code=401\n",
      "url=https://api-us.faceplusplus.com/facepp/v3/compare\n",
      "b'{\"error_message\":\"AUTHENTICATION_ERROR\"}\\n'\n",
      "error: code=401\n",
      "url=https://api-us.faceplusplus.com/facepp/v3/compare\n",
      "b'{\"error_message\":\"AUTHENTICATION_ERROR\"}\\n'\n",
      "error: code=401\n",
      "url=https://api-us.faceplusplus.com/facepp/v3/compare\n",
      "b'{\"error_message\":\"AUTHENTICATION_ERROR\"}\\n'\n",
      "error: code=401\n",
      "url=https://api-us.faceplusplus.com/facepp/v3/compare\n",
      "b'{\"error_message\":\"AUTHENTICATION_ERROR\"}\\n'\n",
      "error: code=401\n",
      "url=https://api-us.faceplusplus.com/facepp/v3/compare\n",
      "b'{\"error_message\":\"AUTHENTICATION_ERROR\"}\\n'\n"
     ]
    },
    {
     "name": "stderr",
     "output_type": "stream",
     "text": [
      " 15%|█▍        | 109/750 [22:10<2:09:45, 12.15s/it]"
     ]
    },
    {
     "name": "stdout",
     "output_type": "stream",
     "text": [
      "error: code=401\n",
      "url=https://api-us.faceplusplus.com/facepp/v3/compare\n",
      "b'{\"error_message\":\"AUTHENTICATION_ERROR\"}\\n'\n",
      "error: code=401\n",
      "url=https://api-us.faceplusplus.com/facepp/v3/compare\n",
      "b'{\"error_message\":\"AUTHENTICATION_ERROR\"}\\n'\n",
      "error: code=401\n",
      "url=https://api-us.faceplusplus.com/facepp/v3/compare\n",
      "b'{\"error_message\":\"AUTHENTICATION_ERROR\"}\\n'\n",
      "error: code=401\n",
      "url=https://api-us.faceplusplus.com/facepp/v3/compare\n",
      "b'{\"error_message\":\"AUTHENTICATION_ERROR\"}\\n'\n",
      "error: code=401\n",
      "url=https://api-us.faceplusplus.com/facepp/v3/compare\n",
      "b'{\"error_message\":\"AUTHENTICATION_ERROR\"}\\n'\n",
      "error: code=401\n",
      "url=https://api-us.faceplusplus.com/facepp/v3/compare\n",
      "b'{\"error_message\":\"AUTHENTICATION_ERROR\"}\\n'\n",
      "error: code=401\n",
      "url=https://api-us.faceplusplus.com/facepp/v3/compare\n",
      "b'{\"error_message\":\"AUTHENTICATION_ERROR\"}\\n'\n",
      "error: code=401\n",
      "url=https://api-us.faceplusplus.com/facepp/v3/compare\n",
      "b'{\"error_message\":\"AUTHENTICATION_ERROR\"}\\n'\n"
     ]
    },
    {
     "name": "stderr",
     "output_type": "stream",
     "text": [
      " 15%|█▍        | 110/750 [22:21<2:08:26, 12.04s/it]"
     ]
    },
    {
     "name": "stdout",
     "output_type": "stream",
     "text": [
      "error: code=401\n",
      "url=https://api-us.faceplusplus.com/facepp/v3/compare\n",
      "b'{\"error_message\":\"AUTHENTICATION_ERROR\"}\\n'\n",
      "error: code=401\n",
      "url=https://api-us.faceplusplus.com/facepp/v3/compare\n",
      "b'{\"error_message\":\"AUTHENTICATION_ERROR\"}\\n'\n",
      "error: code=401\n",
      "url=https://api-us.faceplusplus.com/facepp/v3/compare\n",
      "b'{\"error_message\":\"AUTHENTICATION_ERROR\"}\\n'\n",
      "error: code=401\n",
      "url=https://api-us.faceplusplus.com/facepp/v3/compare\n",
      "b'{\"error_message\":\"AUTHENTICATION_ERROR\"}\\n'\n",
      "error: code=401\n",
      "url=https://api-us.faceplusplus.com/facepp/v3/compare\n",
      "b'{\"error_message\":\"AUTHENTICATION_ERROR\"}\\n'\n",
      "error: code=401\n",
      "url=https://api-us.faceplusplus.com/facepp/v3/compare\n",
      "b'{\"error_message\":\"AUTHENTICATION_ERROR\"}\\n'\n",
      "error: code=401\n",
      "url=https://api-us.faceplusplus.com/facepp/v3/compare\n",
      "b'{\"error_message\":\"AUTHENTICATION_ERROR\"}\\n'\n",
      "error: code=401\n",
      "url=https://api-us.faceplusplus.com/facepp/v3/compare\n",
      "b'{\"error_message\":\"AUTHENTICATION_ERROR\"}\\n'\n"
     ]
    },
    {
     "name": "stderr",
     "output_type": "stream",
     "text": [
      " 15%|█▍        | 111/750 [22:34<2:08:42, 12.09s/it]"
     ]
    },
    {
     "name": "stdout",
     "output_type": "stream",
     "text": [
      "error: code=401\n",
      "url=https://api-us.faceplusplus.com/facepp/v3/compare\n",
      "b'{\"error_message\":\"AUTHENTICATION_ERROR\"}\\n'\n",
      "error: code=401\n",
      "url=https://api-us.faceplusplus.com/facepp/v3/compare\n",
      "b'{\"error_message\":\"AUTHENTICATION_ERROR\"}\\n'\n",
      "error: code=401\n",
      "url=https://api-us.faceplusplus.com/facepp/v3/compare\n",
      "b'{\"error_message\":\"AUTHENTICATION_ERROR\"}\\n'\n",
      "error: code=401\n",
      "url=https://api-us.faceplusplus.com/facepp/v3/compare\n",
      "b'{\"error_message\":\"AUTHENTICATION_ERROR\"}\\n'\n",
      "error: code=401\n",
      "url=https://api-us.faceplusplus.com/facepp/v3/compare\n",
      "b'{\"error_message\":\"AUTHENTICATION_ERROR\"}\\n'\n",
      "error: code=401\n",
      "url=https://api-us.faceplusplus.com/facepp/v3/compare\n",
      "b'{\"error_message\":\"AUTHENTICATION_ERROR\"}\\n'\n",
      "error: code=401\n",
      "url=https://api-us.faceplusplus.com/facepp/v3/compare\n",
      "b'{\"error_message\":\"AUTHENTICATION_ERROR\"}\\n'\n",
      "error: code=401\n",
      "url=https://api-us.faceplusplus.com/facepp/v3/compare\n",
      "b'{\"error_message\":\"AUTHENTICATION_ERROR\"}\\n'\n"
     ]
    },
    {
     "name": "stderr",
     "output_type": "stream",
     "text": [
      " 15%|█▍        | 112/750 [22:46<2:08:10, 12.05s/it]"
     ]
    },
    {
     "name": "stdout",
     "output_type": "stream",
     "text": [
      "error: code=401\n",
      "url=https://api-us.faceplusplus.com/facepp/v3/compare\n",
      "b'{\"error_message\":\"AUTHENTICATION_ERROR\"}\\n'\n",
      "error: code=401\n",
      "url=https://api-us.faceplusplus.com/facepp/v3/compare\n",
      "b'{\"error_message\":\"AUTHENTICATION_ERROR\"}\\n'\n",
      "error: code=401\n",
      "url=https://api-us.faceplusplus.com/facepp/v3/compare\n",
      "b'{\"error_message\":\"AUTHENTICATION_ERROR\"}\\n'\n",
      "error: code=401\n",
      "url=https://api-us.faceplusplus.com/facepp/v3/compare\n",
      "b'{\"error_message\":\"AUTHENTICATION_ERROR\"}\\n'\n",
      "error: code=401\n",
      "url=https://api-us.faceplusplus.com/facepp/v3/compare\n",
      "b'{\"error_message\":\"AUTHENTICATION_ERROR\"}\\n'\n",
      "error: code=401\n",
      "url=https://api-us.faceplusplus.com/facepp/v3/compare\n",
      "b'{\"error_message\":\"AUTHENTICATION_ERROR\"}\\n'\n",
      "error: code=401\n",
      "url=https://api-us.faceplusplus.com/facepp/v3/compare\n",
      "b'{\"error_message\":\"AUTHENTICATION_ERROR\"}\\n'\n",
      "error: code=401\n",
      "url=https://api-us.faceplusplus.com/facepp/v3/compare\n",
      "b'{\"error_message\":\"AUTHENTICATION_ERROR\"}\\n'\n"
     ]
    },
    {
     "name": "stderr",
     "output_type": "stream",
     "text": [
      " 15%|█▌        | 113/750 [22:58<2:08:13, 12.08s/it]"
     ]
    },
    {
     "name": "stdout",
     "output_type": "stream",
     "text": [
      "error: code=401\n",
      "url=https://api-us.faceplusplus.com/facepp/v3/compare\n",
      "b'{\"error_message\":\"AUTHENTICATION_ERROR\"}\\n'\n",
      "error: code=401\n",
      "url=https://api-us.faceplusplus.com/facepp/v3/compare\n",
      "b'{\"error_message\":\"AUTHENTICATION_ERROR\"}\\n'\n",
      "error: code=401\n",
      "url=https://api-us.faceplusplus.com/facepp/v3/compare\n",
      "b'{\"error_message\":\"AUTHENTICATION_ERROR\"}\\n'\n",
      "error: code=401\n",
      "url=https://api-us.faceplusplus.com/facepp/v3/compare\n",
      "b'{\"error_message\":\"AUTHENTICATION_ERROR\"}\\n'\n",
      "error: code=401\n",
      "url=https://api-us.faceplusplus.com/facepp/v3/compare\n",
      "b'{\"error_message\":\"AUTHENTICATION_ERROR\"}\\n'\n",
      "error: code=401\n",
      "url=https://api-us.faceplusplus.com/facepp/v3/compare\n",
      "b'{\"error_message\":\"AUTHENTICATION_ERROR\"}\\n'\n",
      "error: code=401\n",
      "url=https://api-us.faceplusplus.com/facepp/v3/compare\n",
      "b'{\"error_message\":\"AUTHENTICATION_ERROR\"}\\n'\n",
      "error: code=401\n",
      "url=https://api-us.faceplusplus.com/facepp/v3/compare\n",
      "b'{\"error_message\":\"AUTHENTICATION_ERROR\"}\\n'\n"
     ]
    },
    {
     "name": "stderr",
     "output_type": "stream",
     "text": [
      " 15%|█▌        | 114/750 [23:10<2:07:24, 12.02s/it]"
     ]
    },
    {
     "name": "stdout",
     "output_type": "stream",
     "text": [
      "error: code=401\n",
      "url=https://api-us.faceplusplus.com/facepp/v3/compare\n",
      "b'{\"error_message\":\"AUTHENTICATION_ERROR\"}\\n'\n",
      "error: code=401\n",
      "url=https://api-us.faceplusplus.com/facepp/v3/compare\n",
      "b'{\"error_message\":\"AUTHENTICATION_ERROR\"}\\n'\n",
      "error: code=401\n",
      "url=https://api-us.faceplusplus.com/facepp/v3/compare\n",
      "b'{\"error_message\":\"AUTHENTICATION_ERROR\"}\\n'\n",
      "error: code=401\n",
      "url=https://api-us.faceplusplus.com/facepp/v3/compare\n",
      "b'{\"error_message\":\"AUTHENTICATION_ERROR\"}\\n'\n",
      "error: code=401\n",
      "url=https://api-us.faceplusplus.com/facepp/v3/compare\n",
      "b'{\"error_message\":\"AUTHENTICATION_ERROR\"}\\n'\n",
      "error: code=401\n",
      "url=https://api-us.faceplusplus.com/facepp/v3/compare\n",
      "b'{\"error_message\":\"AUTHENTICATION_ERROR\"}\\n'\n",
      "error: code=401\n",
      "url=https://api-us.faceplusplus.com/facepp/v3/compare\n",
      "b'{\"error_message\":\"AUTHENTICATION_ERROR\"}\\n'\n",
      "error: code=401\n",
      "url=https://api-us.faceplusplus.com/facepp/v3/compare\n",
      "b'{\"error_message\":\"AUTHENTICATION_ERROR\"}\\n'\n"
     ]
    },
    {
     "name": "stderr",
     "output_type": "stream",
     "text": [
      " 15%|█▌        | 115/750 [23:22<2:06:58, 12.00s/it]"
     ]
    },
    {
     "name": "stdout",
     "output_type": "stream",
     "text": [
      "error: code=401\n",
      "url=https://api-us.faceplusplus.com/facepp/v3/compare\n",
      "b'{\"error_message\":\"AUTHENTICATION_ERROR\"}\\n'\n",
      "error: code=401\n",
      "url=https://api-us.faceplusplus.com/facepp/v3/compare\n",
      "b'{\"error_message\":\"AUTHENTICATION_ERROR\"}\\n'\n",
      "error: code=401\n",
      "url=https://api-us.faceplusplus.com/facepp/v3/compare\n",
      "b'{\"error_message\":\"AUTHENTICATION_ERROR\"}\\n'\n",
      "error: code=401\n",
      "url=https://api-us.faceplusplus.com/facepp/v3/compare\n",
      "b'{\"error_message\":\"AUTHENTICATION_ERROR\"}\\n'\n",
      "error: code=401\n",
      "url=https://api-us.faceplusplus.com/facepp/v3/compare\n",
      "b'{\"error_message\":\"AUTHENTICATION_ERROR\"}\\n'\n",
      "error: code=401\n",
      "url=https://api-us.faceplusplus.com/facepp/v3/compare\n",
      "b'{\"error_message\":\"AUTHENTICATION_ERROR\"}\\n'\n",
      "error: code=401\n",
      "url=https://api-us.faceplusplus.com/facepp/v3/compare\n",
      "b'{\"error_message\":\"AUTHENTICATION_ERROR\"}\\n'\n",
      "error: code=401\n",
      "url=https://api-us.faceplusplus.com/facepp/v3/compare\n",
      "b'{\"error_message\":\"AUTHENTICATION_ERROR\"}\\n'\n"
     ]
    },
    {
     "name": "stderr",
     "output_type": "stream",
     "text": [
      " 15%|█▌        | 116/750 [23:34<2:08:54, 12.20s/it]"
     ]
    },
    {
     "name": "stdout",
     "output_type": "stream",
     "text": [
      "error: code=401\n",
      "url=https://api-us.faceplusplus.com/facepp/v3/compare\n",
      "b'{\"error_message\":\"AUTHENTICATION_ERROR\"}\\n'\n",
      "error: code=401\n",
      "url=https://api-us.faceplusplus.com/facepp/v3/compare\n",
      "b'{\"error_message\":\"AUTHENTICATION_ERROR\"}\\n'\n",
      "error: code=401\n",
      "url=https://api-us.faceplusplus.com/facepp/v3/compare\n",
      "b'{\"error_message\":\"AUTHENTICATION_ERROR\"}\\n'\n",
      "error: code=401\n",
      "url=https://api-us.faceplusplus.com/facepp/v3/compare\n",
      "b'{\"error_message\":\"AUTHENTICATION_ERROR\"}\\n'\n",
      "error: code=401\n",
      "url=https://api-us.faceplusplus.com/facepp/v3/compare\n",
      "b'{\"error_message\":\"AUTHENTICATION_ERROR\"}\\n'\n",
      "error: code=401\n",
      "url=https://api-us.faceplusplus.com/facepp/v3/compare\n",
      "b'{\"error_message\":\"AUTHENTICATION_ERROR\"}\\n'\n",
      "error: code=401\n",
      "url=https://api-us.faceplusplus.com/facepp/v3/compare\n",
      "b'{\"error_message\":\"AUTHENTICATION_ERROR\"}\\n'\n",
      "error: code=401\n",
      "url=https://api-us.faceplusplus.com/facepp/v3/compare\n",
      "b'{\"error_message\":\"AUTHENTICATION_ERROR\"}\\n'\n"
     ]
    },
    {
     "name": "stderr",
     "output_type": "stream",
     "text": [
      " 16%|█▌        | 117/750 [23:46<2:08:32, 12.18s/it]"
     ]
    },
    {
     "name": "stdout",
     "output_type": "stream",
     "text": [
      "error: code=401\n",
      "url=https://api-us.faceplusplus.com/facepp/v3/compare\n",
      "b'{\"error_message\":\"AUTHENTICATION_ERROR\"}\\n'\n",
      "error: code=401\n",
      "url=https://api-us.faceplusplus.com/facepp/v3/compare\n",
      "b'{\"error_message\":\"AUTHENTICATION_ERROR\"}\\n'\n",
      "error: code=401\n",
      "url=https://api-us.faceplusplus.com/facepp/v3/compare\n",
      "b'{\"error_message\":\"AUTHENTICATION_ERROR\"}\\n'\n",
      "error: code=401\n",
      "url=https://api-us.faceplusplus.com/facepp/v3/compare\n",
      "b'{\"error_message\":\"AUTHENTICATION_ERROR\"}\\n'\n",
      "error: code=401\n",
      "url=https://api-us.faceplusplus.com/facepp/v3/compare\n",
      "b'{\"error_message\":\"AUTHENTICATION_ERROR\"}\\n'\n",
      "error: code=401\n",
      "url=https://api-us.faceplusplus.com/facepp/v3/compare\n",
      "b'{\"error_message\":\"AUTHENTICATION_ERROR\"}\\n'\n",
      "error: code=401\n",
      "url=https://api-us.faceplusplus.com/facepp/v3/compare\n",
      "b'{\"error_message\":\"AUTHENTICATION_ERROR\"}\\n'\n",
      "error: code=401\n",
      "url=https://api-us.faceplusplus.com/facepp/v3/compare\n",
      "b'{\"error_message\":\"AUTHENTICATION_ERROR\"}\\n'\n"
     ]
    },
    {
     "name": "stderr",
     "output_type": "stream",
     "text": [
      " 16%|█▌        | 118/750 [23:59<2:08:30, 12.20s/it]"
     ]
    },
    {
     "name": "stdout",
     "output_type": "stream",
     "text": [
      "error: code=401\n",
      "url=https://api-us.faceplusplus.com/facepp/v3/compare\n",
      "b'{\"error_message\":\"AUTHENTICATION_ERROR\"}\\n'\n",
      "error: code=401\n",
      "url=https://api-us.faceplusplus.com/facepp/v3/compare\n",
      "b'{\"error_message\":\"AUTHENTICATION_ERROR\"}\\n'\n",
      "error: code=401\n",
      "url=https://api-us.faceplusplus.com/facepp/v3/compare\n",
      "b'{\"error_message\":\"AUTHENTICATION_ERROR\"}\\n'\n",
      "error: code=401\n",
      "url=https://api-us.faceplusplus.com/facepp/v3/compare\n",
      "b'{\"error_message\":\"AUTHENTICATION_ERROR\"}\\n'\n",
      "error: code=401\n",
      "url=https://api-us.faceplusplus.com/facepp/v3/compare\n",
      "b'{\"error_message\":\"AUTHENTICATION_ERROR\"}\\n'\n",
      "error: code=401\n",
      "url=https://api-us.faceplusplus.com/facepp/v3/compare\n",
      "b'{\"error_message\":\"AUTHENTICATION_ERROR\"}\\n'\n",
      "error: code=401\n",
      "url=https://api-us.faceplusplus.com/facepp/v3/compare\n",
      "b'{\"error_message\":\"AUTHENTICATION_ERROR\"}\\n'\n",
      "error: code=401\n",
      "url=https://api-us.faceplusplus.com/facepp/v3/compare\n",
      "b'{\"error_message\":\"AUTHENTICATION_ERROR\"}\\n'\n"
     ]
    },
    {
     "name": "stderr",
     "output_type": "stream",
     "text": [
      " 16%|█▌        | 119/750 [24:11<2:08:04, 12.18s/it]"
     ]
    },
    {
     "name": "stdout",
     "output_type": "stream",
     "text": [
      "error: code=401\n",
      "url=https://api-us.faceplusplus.com/facepp/v3/compare\n",
      "b'{\"error_message\":\"AUTHENTICATION_ERROR\"}\\n'\n",
      "error: code=401\n",
      "url=https://api-us.faceplusplus.com/facepp/v3/compare\n",
      "b'{\"error_message\":\"AUTHENTICATION_ERROR\"}\\n'\n",
      "error: code=401\n",
      "url=https://api-us.faceplusplus.com/facepp/v3/compare\n",
      "b'{\"error_message\":\"AUTHENTICATION_ERROR\"}\\n'\n",
      "error: code=401\n",
      "url=https://api-us.faceplusplus.com/facepp/v3/compare\n",
      "b'{\"error_message\":\"AUTHENTICATION_ERROR\"}\\n'\n",
      "error: code=401\n",
      "url=https://api-us.faceplusplus.com/facepp/v3/compare\n",
      "b'{\"error_message\":\"AUTHENTICATION_ERROR\"}\\n'\n",
      "error: code=401\n",
      "url=https://api-us.faceplusplus.com/facepp/v3/compare\n",
      "b'{\"error_message\":\"AUTHENTICATION_ERROR\"}\\n'\n",
      "error: code=401\n",
      "url=https://api-us.faceplusplus.com/facepp/v3/compare\n",
      "b'{\"error_message\":\"AUTHENTICATION_ERROR\"}\\n'\n",
      "error: code=401\n",
      "url=https://api-us.faceplusplus.com/facepp/v3/compare\n",
      "b'{\"error_message\":\"AUTHENTICATION_ERROR\"}\\n'\n"
     ]
    },
    {
     "name": "stderr",
     "output_type": "stream",
     "text": [
      " 16%|█▌        | 120/750 [24:23<2:06:46, 12.07s/it]"
     ]
    },
    {
     "name": "stdout",
     "output_type": "stream",
     "text": [
      "error: code=401\n",
      "url=https://api-us.faceplusplus.com/facepp/v3/compare\n",
      "b'{\"error_message\":\"AUTHENTICATION_ERROR\"}\\n'\n",
      "error: code=401\n",
      "url=https://api-us.faceplusplus.com/facepp/v3/compare\n",
      "b'{\"error_message\":\"AUTHENTICATION_ERROR\"}\\n'\n",
      "error: code=401\n",
      "url=https://api-us.faceplusplus.com/facepp/v3/compare\n",
      "b'{\"error_message\":\"AUTHENTICATION_ERROR\"}\\n'\n",
      "error: code=401\n",
      "url=https://api-us.faceplusplus.com/facepp/v3/compare\n",
      "b'{\"error_message\":\"AUTHENTICATION_ERROR\"}\\n'\n",
      "error: code=401\n",
      "url=https://api-us.faceplusplus.com/facepp/v3/compare\n",
      "b'{\"error_message\":\"AUTHENTICATION_ERROR\"}\\n'\n",
      "error: code=401\n",
      "url=https://api-us.faceplusplus.com/facepp/v3/compare\n",
      "b'{\"error_message\":\"AUTHENTICATION_ERROR\"}\\n'\n",
      "error: code=401\n",
      "url=https://api-us.faceplusplus.com/facepp/v3/compare\n",
      "b'{\"error_message\":\"AUTHENTICATION_ERROR\"}\\n'\n",
      "error: code=401\n",
      "url=https://api-us.faceplusplus.com/facepp/v3/compare\n",
      "b'{\"error_message\":\"AUTHENTICATION_ERROR\"}\\n'\n"
     ]
    },
    {
     "name": "stderr",
     "output_type": "stream",
     "text": [
      " 16%|█▌        | 121/750 [24:35<2:07:17, 12.14s/it]"
     ]
    },
    {
     "name": "stdout",
     "output_type": "stream",
     "text": [
      "error: code=401\n",
      "url=https://api-us.faceplusplus.com/facepp/v3/compare\n",
      "b'{\"error_message\":\"AUTHENTICATION_ERROR\"}\\n'\n",
      "error: code=401\n",
      "url=https://api-us.faceplusplus.com/facepp/v3/compare\n",
      "b'{\"error_message\":\"AUTHENTICATION_ERROR\"}\\n'\n",
      "error: code=401\n",
      "url=https://api-us.faceplusplus.com/facepp/v3/compare\n",
      "b'{\"error_message\":\"AUTHENTICATION_ERROR\"}\\n'\n",
      "error: code=401\n",
      "url=https://api-us.faceplusplus.com/facepp/v3/compare\n",
      "b'{\"error_message\":\"AUTHENTICATION_ERROR\"}\\n'\n",
      "error: code=401\n",
      "url=https://api-us.faceplusplus.com/facepp/v3/compare\n",
      "b'{\"error_message\":\"AUTHENTICATION_ERROR\"}\\n'\n",
      "error: code=401\n",
      "url=https://api-us.faceplusplus.com/facepp/v3/compare\n",
      "b'{\"error_message\":\"AUTHENTICATION_ERROR\"}\\n'\n",
      "error: code=401\n",
      "url=https://api-us.faceplusplus.com/facepp/v3/compare\n",
      "b'{\"error_message\":\"AUTHENTICATION_ERROR\"}\\n'\n",
      "error: code=401\n",
      "url=https://api-us.faceplusplus.com/facepp/v3/compare\n",
      "b'{\"error_message\":\"AUTHENTICATION_ERROR\"}\\n'\n"
     ]
    },
    {
     "name": "stderr",
     "output_type": "stream",
     "text": [
      " 16%|█▋        | 122/750 [24:47<2:07:11, 12.15s/it]"
     ]
    },
    {
     "name": "stdout",
     "output_type": "stream",
     "text": [
      "error: code=401\n",
      "url=https://api-us.faceplusplus.com/facepp/v3/compare\n",
      "b'{\"error_message\":\"AUTHENTICATION_ERROR\"}\\n'\n",
      "error: code=401\n",
      "url=https://api-us.faceplusplus.com/facepp/v3/compare\n",
      "b'{\"error_message\":\"AUTHENTICATION_ERROR\"}\\n'\n",
      "error: code=401\n",
      "url=https://api-us.faceplusplus.com/facepp/v3/compare\n",
      "b'{\"error_message\":\"AUTHENTICATION_ERROR\"}\\n'\n",
      "error: code=401\n",
      "url=https://api-us.faceplusplus.com/facepp/v3/compare\n",
      "b'{\"error_message\":\"AUTHENTICATION_ERROR\"}\\n'\n",
      "error: code=401\n",
      "url=https://api-us.faceplusplus.com/facepp/v3/compare\n",
      "b'{\"error_message\":\"AUTHENTICATION_ERROR\"}\\n'\n",
      "error: code=401\n",
      "url=https://api-us.faceplusplus.com/facepp/v3/compare\n",
      "b'{\"error_message\":\"AUTHENTICATION_ERROR\"}\\n'\n",
      "error: code=401\n",
      "url=https://api-us.faceplusplus.com/facepp/v3/compare\n",
      "b'{\"error_message\":\"AUTHENTICATION_ERROR\"}\\n'\n",
      "error: code=401\n",
      "url=https://api-us.faceplusplus.com/facepp/v3/compare\n",
      "b'{\"error_message\":\"AUTHENTICATION_ERROR\"}\\n'\n"
     ]
    },
    {
     "name": "stderr",
     "output_type": "stream",
     "text": [
      " 16%|█▋        | 123/750 [24:59<2:07:22, 12.19s/it]"
     ]
    },
    {
     "name": "stdout",
     "output_type": "stream",
     "text": [
      "error: code=401\n",
      "url=https://api-us.faceplusplus.com/facepp/v3/compare\n",
      "b'{\"error_message\":\"AUTHENTICATION_ERROR\"}\\n'\n",
      "error: code=401\n",
      "url=https://api-us.faceplusplus.com/facepp/v3/compare\n",
      "b'{\"error_message\":\"AUTHENTICATION_ERROR\"}\\n'\n",
      "error: code=401\n",
      "url=https://api-us.faceplusplus.com/facepp/v3/compare\n",
      "b'{\"error_message\":\"AUTHENTICATION_ERROR\"}\\n'\n",
      "error: code=401\n",
      "url=https://api-us.faceplusplus.com/facepp/v3/compare\n",
      "b'{\"error_message\":\"AUTHENTICATION_ERROR\"}\\n'\n",
      "error: code=401\n",
      "url=https://api-us.faceplusplus.com/facepp/v3/compare\n",
      "b'{\"error_message\":\"AUTHENTICATION_ERROR\"}\\n'\n",
      "error: code=401\n",
      "url=https://api-us.faceplusplus.com/facepp/v3/compare\n",
      "b'{\"error_message\":\"AUTHENTICATION_ERROR\"}\\n'\n",
      "error: code=401\n",
      "url=https://api-us.faceplusplus.com/facepp/v3/compare\n",
      "b'{\"error_message\":\"AUTHENTICATION_ERROR\"}\\n'\n",
      "error: code=401\n",
      "url=https://api-us.faceplusplus.com/facepp/v3/compare\n",
      "b'{\"error_message\":\"AUTHENTICATION_ERROR\"}\\n'\n"
     ]
    },
    {
     "name": "stderr",
     "output_type": "stream",
     "text": [
      " 17%|█▋        | 124/750 [25:12<2:08:11, 12.29s/it]"
     ]
    },
    {
     "name": "stdout",
     "output_type": "stream",
     "text": [
      "error: code=401\n",
      "url=https://api-us.faceplusplus.com/facepp/v3/compare\n",
      "b'{\"error_message\":\"AUTHENTICATION_ERROR\"}\\n'\n",
      "error: code=401\n",
      "url=https://api-us.faceplusplus.com/facepp/v3/compare\n",
      "b'{\"error_message\":\"AUTHENTICATION_ERROR\"}\\n'\n",
      "error: code=401\n",
      "url=https://api-us.faceplusplus.com/facepp/v3/compare\n",
      "b'{\"error_message\":\"AUTHENTICATION_ERROR\"}\\n'\n",
      "error: code=401\n",
      "url=https://api-us.faceplusplus.com/facepp/v3/compare\n",
      "b'{\"error_message\":\"AUTHENTICATION_ERROR\"}\\n'\n",
      "error: code=401\n",
      "url=https://api-us.faceplusplus.com/facepp/v3/compare\n",
      "b'{\"error_message\":\"AUTHENTICATION_ERROR\"}\\n'\n",
      "error: code=401\n",
      "url=https://api-us.faceplusplus.com/facepp/v3/compare\n",
      "b'{\"error_message\":\"AUTHENTICATION_ERROR\"}\\n'\n",
      "error: code=401\n",
      "url=https://api-us.faceplusplus.com/facepp/v3/compare\n",
      "b'{\"error_message\":\"AUTHENTICATION_ERROR\"}\\n'\n",
      "error: code=401\n",
      "url=https://api-us.faceplusplus.com/facepp/v3/compare\n",
      "b'{\"error_message\":\"AUTHENTICATION_ERROR\"}\\n'\n"
     ]
    },
    {
     "name": "stderr",
     "output_type": "stream",
     "text": [
      " 17%|█▋        | 125/750 [25:24<2:07:07, 12.20s/it]"
     ]
    },
    {
     "name": "stdout",
     "output_type": "stream",
     "text": [
      "error: code=401\n",
      "url=https://api-us.faceplusplus.com/facepp/v3/compare\n",
      "b'{\"error_message\":\"AUTHENTICATION_ERROR\"}\\n'\n",
      "error: code=401\n",
      "url=https://api-us.faceplusplus.com/facepp/v3/compare\n",
      "b'{\"error_message\":\"AUTHENTICATION_ERROR\"}\\n'\n",
      "error: code=401\n",
      "url=https://api-us.faceplusplus.com/facepp/v3/compare\n",
      "b'{\"error_message\":\"AUTHENTICATION_ERROR\"}\\n'\n",
      "error: code=401\n",
      "url=https://api-us.faceplusplus.com/facepp/v3/compare\n",
      "b'{\"error_message\":\"AUTHENTICATION_ERROR\"}\\n'\n",
      "error: code=401\n",
      "url=https://api-us.faceplusplus.com/facepp/v3/compare\n",
      "b'{\"error_message\":\"AUTHENTICATION_ERROR\"}\\n'\n",
      "error: code=401\n",
      "url=https://api-us.faceplusplus.com/facepp/v3/compare\n",
      "b'{\"error_message\":\"AUTHENTICATION_ERROR\"}\\n'\n",
      "error: code=401\n",
      "url=https://api-us.faceplusplus.com/facepp/v3/compare\n",
      "b'{\"error_message\":\"AUTHENTICATION_ERROR\"}\\n'\n",
      "error: code=401\n",
      "url=https://api-us.faceplusplus.com/facepp/v3/compare\n",
      "b'{\"error_message\":\"AUTHENTICATION_ERROR\"}\\n'\n"
     ]
    },
    {
     "name": "stderr",
     "output_type": "stream",
     "text": [
      " 17%|█▋        | 126/750 [25:36<2:06:49, 12.19s/it]"
     ]
    },
    {
     "name": "stdout",
     "output_type": "stream",
     "text": [
      "error: code=401\n",
      "url=https://api-us.faceplusplus.com/facepp/v3/compare\n",
      "b'{\"error_message\":\"AUTHENTICATION_ERROR\"}\\n'\n",
      "error: code=401\n",
      "url=https://api-us.faceplusplus.com/facepp/v3/compare\n",
      "b'{\"error_message\":\"AUTHENTICATION_ERROR\"}\\n'\n",
      "error: code=401\n",
      "url=https://api-us.faceplusplus.com/facepp/v3/compare\n",
      "b'{\"error_message\":\"AUTHENTICATION_ERROR\"}\\n'\n",
      "error: code=401\n",
      "url=https://api-us.faceplusplus.com/facepp/v3/compare\n",
      "b'{\"error_message\":\"AUTHENTICATION_ERROR\"}\\n'\n",
      "error: code=401\n",
      "url=https://api-us.faceplusplus.com/facepp/v3/compare\n",
      "b'{\"error_message\":\"AUTHENTICATION_ERROR\"}\\n'\n",
      "error: code=401\n",
      "url=https://api-us.faceplusplus.com/facepp/v3/compare\n",
      "b'{\"error_message\":\"AUTHENTICATION_ERROR\"}\\n'\n",
      "error: code=401\n",
      "url=https://api-us.faceplusplus.com/facepp/v3/compare\n",
      "b'{\"error_message\":\"AUTHENTICATION_ERROR\"}\\n'\n",
      "error: code=401\n",
      "url=https://api-us.faceplusplus.com/facepp/v3/compare\n",
      "b'{\"error_message\":\"AUTHENTICATION_ERROR\"}\\n'\n"
     ]
    },
    {
     "name": "stderr",
     "output_type": "stream",
     "text": [
      " 17%|█▋        | 127/750 [25:48<2:06:02, 12.14s/it]"
     ]
    },
    {
     "name": "stdout",
     "output_type": "stream",
     "text": [
      "error: code=401\n",
      "url=https://api-us.faceplusplus.com/facepp/v3/compare\n",
      "b'{\"error_message\":\"AUTHENTICATION_ERROR\"}\\n'\n",
      "error: code=401\n",
      "url=https://api-us.faceplusplus.com/facepp/v3/compare\n",
      "b'{\"error_message\":\"AUTHENTICATION_ERROR\"}\\n'\n",
      "error: code=401\n",
      "url=https://api-us.faceplusplus.com/facepp/v3/compare\n",
      "b'{\"error_message\":\"AUTHENTICATION_ERROR\"}\\n'\n",
      "error: code=401\n",
      "url=https://api-us.faceplusplus.com/facepp/v3/compare\n",
      "b'{\"error_message\":\"AUTHENTICATION_ERROR\"}\\n'\n",
      "error: code=401\n",
      "url=https://api-us.faceplusplus.com/facepp/v3/compare\n",
      "b'{\"error_message\":\"AUTHENTICATION_ERROR\"}\\n'\n",
      "error: code=401\n",
      "url=https://api-us.faceplusplus.com/facepp/v3/compare\n",
      "b'{\"error_message\":\"AUTHENTICATION_ERROR\"}\\n'\n",
      "error: code=401\n",
      "url=https://api-us.faceplusplus.com/facepp/v3/compare\n",
      "b'{\"error_message\":\"AUTHENTICATION_ERROR\"}\\n'\n",
      "error: code=401\n",
      "url=https://api-us.faceplusplus.com/facepp/v3/compare\n",
      "b'{\"error_message\":\"AUTHENTICATION_ERROR\"}\\n'\n"
     ]
    },
    {
     "name": "stderr",
     "output_type": "stream",
     "text": [
      " 17%|█▋        | 128/750 [26:01<2:07:14, 12.27s/it]"
     ]
    },
    {
     "name": "stdout",
     "output_type": "stream",
     "text": [
      "error: code=401\n",
      "url=https://api-us.faceplusplus.com/facepp/v3/compare\n",
      "b'{\"error_message\":\"AUTHENTICATION_ERROR\"}\\n'\n",
      "error: code=401\n",
      "url=https://api-us.faceplusplus.com/facepp/v3/compare\n",
      "b'{\"error_message\":\"AUTHENTICATION_ERROR\"}\\n'\n",
      "error: code=401\n",
      "url=https://api-us.faceplusplus.com/facepp/v3/compare\n",
      "b'{\"error_message\":\"AUTHENTICATION_ERROR\"}\\n'\n",
      "error: code=401\n",
      "url=https://api-us.faceplusplus.com/facepp/v3/compare\n",
      "b'{\"error_message\":\"AUTHENTICATION_ERROR\"}\\n'\n",
      "error: code=401\n",
      "url=https://api-us.faceplusplus.com/facepp/v3/compare\n",
      "b'{\"error_message\":\"AUTHENTICATION_ERROR\"}\\n'\n",
      "error: code=401\n",
      "url=https://api-us.faceplusplus.com/facepp/v3/compare\n",
      "b'{\"error_message\":\"AUTHENTICATION_ERROR\"}\\n'\n",
      "error: code=401\n",
      "url=https://api-us.faceplusplus.com/facepp/v3/compare\n",
      "b'{\"error_message\":\"AUTHENTICATION_ERROR\"}\\n'\n",
      "error: code=401\n",
      "url=https://api-us.faceplusplus.com/facepp/v3/compare\n",
      "b'{\"error_message\":\"AUTHENTICATION_ERROR\"}\\n'\n"
     ]
    },
    {
     "name": "stderr",
     "output_type": "stream",
     "text": [
      " 17%|█▋        | 129/750 [26:12<2:05:52, 12.16s/it]"
     ]
    },
    {
     "name": "stdout",
     "output_type": "stream",
     "text": [
      "error: code=401\n",
      "url=https://api-us.faceplusplus.com/facepp/v3/compare\n",
      "b'{\"error_message\":\"AUTHENTICATION_ERROR\"}\\n'\n",
      "error: code=401\n",
      "url=https://api-us.faceplusplus.com/facepp/v3/compare\n",
      "b'{\"error_message\":\"AUTHENTICATION_ERROR\"}\\n'\n",
      "error: code=401\n",
      "url=https://api-us.faceplusplus.com/facepp/v3/compare\n",
      "b'{\"error_message\":\"AUTHENTICATION_ERROR\"}\\n'\n",
      "error: code=401\n",
      "url=https://api-us.faceplusplus.com/facepp/v3/compare\n",
      "b'{\"error_message\":\"AUTHENTICATION_ERROR\"}\\n'\n",
      "error: code=401\n",
      "url=https://api-us.faceplusplus.com/facepp/v3/compare\n",
      "b'{\"error_message\":\"AUTHENTICATION_ERROR\"}\\n'\n",
      "error: code=401\n",
      "url=https://api-us.faceplusplus.com/facepp/v3/compare\n",
      "b'{\"error_message\":\"AUTHENTICATION_ERROR\"}\\n'\n",
      "error: code=401\n",
      "url=https://api-us.faceplusplus.com/facepp/v3/compare\n",
      "b'{\"error_message\":\"AUTHENTICATION_ERROR\"}\\n'\n",
      "error: code=401\n",
      "url=https://api-us.faceplusplus.com/facepp/v3/compare\n",
      "b'{\"error_message\":\"AUTHENTICATION_ERROR\"}\\n'\n"
     ]
    },
    {
     "name": "stderr",
     "output_type": "stream",
     "text": [
      " 17%|█▋        | 130/750 [26:25<2:07:00, 12.29s/it]"
     ]
    },
    {
     "name": "stdout",
     "output_type": "stream",
     "text": [
      "error: code=401\n",
      "url=https://api-us.faceplusplus.com/facepp/v3/compare\n",
      "b'{\"error_message\":\"AUTHENTICATION_ERROR\"}\\n'\n",
      "error: code=401\n",
      "url=https://api-us.faceplusplus.com/facepp/v3/compare\n",
      "b'{\"error_message\":\"AUTHENTICATION_ERROR\"}\\n'\n",
      "error: code=401\n",
      "url=https://api-us.faceplusplus.com/facepp/v3/compare\n",
      "b'{\"error_message\":\"AUTHENTICATION_ERROR\"}\\n'\n",
      "error: code=401\n",
      "url=https://api-us.faceplusplus.com/facepp/v3/compare\n",
      "b'{\"error_message\":\"AUTHENTICATION_ERROR\"}\\n'\n",
      "error: code=401\n",
      "url=https://api-us.faceplusplus.com/facepp/v3/compare\n",
      "b'{\"error_message\":\"AUTHENTICATION_ERROR\"}\\n'\n",
      "error: code=401\n",
      "url=https://api-us.faceplusplus.com/facepp/v3/compare\n",
      "b'{\"error_message\":\"AUTHENTICATION_ERROR\"}\\n'\n",
      "error: code=401\n",
      "url=https://api-us.faceplusplus.com/facepp/v3/compare\n",
      "b'{\"error_message\":\"AUTHENTICATION_ERROR\"}\\n'\n",
      "error: code=401\n",
      "url=https://api-us.faceplusplus.com/facepp/v3/compare\n",
      "b'{\"error_message\":\"AUTHENTICATION_ERROR\"}\\n'\n"
     ]
    },
    {
     "name": "stderr",
     "output_type": "stream",
     "text": [
      " 17%|█▋        | 131/750 [26:37<2:06:01, 12.21s/it]"
     ]
    },
    {
     "name": "stdout",
     "output_type": "stream",
     "text": [
      "error: code=401\n",
      "url=https://api-us.faceplusplus.com/facepp/v3/compare\n",
      "b'{\"error_message\":\"AUTHENTICATION_ERROR\"}\\n'\n",
      "error: code=401\n",
      "url=https://api-us.faceplusplus.com/facepp/v3/compare\n",
      "b'{\"error_message\":\"AUTHENTICATION_ERROR\"}\\n'\n",
      "error: code=401\n",
      "url=https://api-us.faceplusplus.com/facepp/v3/compare\n",
      "b'{\"error_message\":\"AUTHENTICATION_ERROR\"}\\n'\n",
      "error: code=401\n",
      "url=https://api-us.faceplusplus.com/facepp/v3/compare\n",
      "b'{\"error_message\":\"AUTHENTICATION_ERROR\"}\\n'\n",
      "error: code=401\n",
      "url=https://api-us.faceplusplus.com/facepp/v3/compare\n",
      "b'{\"error_message\":\"AUTHENTICATION_ERROR\"}\\n'\n",
      "error: code=401\n",
      "url=https://api-us.faceplusplus.com/facepp/v3/compare\n",
      "b'{\"error_message\":\"AUTHENTICATION_ERROR\"}\\n'\n",
      "error: code=401\n",
      "url=https://api-us.faceplusplus.com/facepp/v3/compare\n",
      "b'{\"error_message\":\"AUTHENTICATION_ERROR\"}\\n'\n",
      "error: code=401\n",
      "url=https://api-us.faceplusplus.com/facepp/v3/compare\n",
      "b'{\"error_message\":\"AUTHENTICATION_ERROR\"}\\n'\n"
     ]
    },
    {
     "name": "stderr",
     "output_type": "stream",
     "text": [
      " 18%|█▊        | 132/750 [26:49<2:05:27, 12.18s/it]"
     ]
    },
    {
     "name": "stdout",
     "output_type": "stream",
     "text": [
      "error: code=401\n",
      "url=https://api-us.faceplusplus.com/facepp/v3/compare\n",
      "b'{\"error_message\":\"AUTHENTICATION_ERROR\"}\\n'\n",
      "error: code=401\n",
      "url=https://api-us.faceplusplus.com/facepp/v3/compare\n",
      "b'{\"error_message\":\"AUTHENTICATION_ERROR\"}\\n'\n",
      "error: code=401\n",
      "url=https://api-us.faceplusplus.com/facepp/v3/compare\n",
      "b'{\"error_message\":\"AUTHENTICATION_ERROR\"}\\n'\n",
      "error: code=401\n",
      "url=https://api-us.faceplusplus.com/facepp/v3/compare\n",
      "b'{\"error_message\":\"AUTHENTICATION_ERROR\"}\\n'\n",
      "error: code=401\n",
      "url=https://api-us.faceplusplus.com/facepp/v3/compare\n",
      "b'{\"error_message\":\"AUTHENTICATION_ERROR\"}\\n'\n",
      "error: code=401\n",
      "url=https://api-us.faceplusplus.com/facepp/v3/compare\n",
      "b'{\"error_message\":\"AUTHENTICATION_ERROR\"}\\n'\n",
      "error: code=401\n",
      "url=https://api-us.faceplusplus.com/facepp/v3/compare\n",
      "b'{\"error_message\":\"AUTHENTICATION_ERROR\"}\\n'\n",
      "error: code=401\n",
      "url=https://api-us.faceplusplus.com/facepp/v3/compare\n",
      "b'{\"error_message\":\"AUTHENTICATION_ERROR\"}\\n'\n"
     ]
    },
    {
     "name": "stderr",
     "output_type": "stream",
     "text": [
      " 18%|█▊        | 133/750 [27:01<2:04:35, 12.12s/it]"
     ]
    },
    {
     "name": "stdout",
     "output_type": "stream",
     "text": [
      "error: code=401\n",
      "url=https://api-us.faceplusplus.com/facepp/v3/compare\n",
      "b'{\"error_message\":\"AUTHENTICATION_ERROR\"}\\n'\n",
      "error: code=401\n",
      "url=https://api-us.faceplusplus.com/facepp/v3/compare\n",
      "b'{\"error_message\":\"AUTHENTICATION_ERROR\"}\\n'\n",
      "error: code=401\n",
      "url=https://api-us.faceplusplus.com/facepp/v3/compare\n",
      "b'{\"error_message\":\"AUTHENTICATION_ERROR\"}\\n'\n",
      "error: code=401\n",
      "url=https://api-us.faceplusplus.com/facepp/v3/compare\n",
      "b'{\"error_message\":\"AUTHENTICATION_ERROR\"}\\n'\n",
      "error: code=401\n",
      "url=https://api-us.faceplusplus.com/facepp/v3/compare\n",
      "b'{\"error_message\":\"AUTHENTICATION_ERROR\"}\\n'\n",
      "error: code=401\n",
      "url=https://api-us.faceplusplus.com/facepp/v3/compare\n",
      "b'{\"error_message\":\"AUTHENTICATION_ERROR\"}\\n'\n",
      "error: code=401\n",
      "url=https://api-us.faceplusplus.com/facepp/v3/compare\n",
      "b'{\"error_message\":\"AUTHENTICATION_ERROR\"}\\n'\n",
      "error: code=401\n",
      "url=https://api-us.faceplusplus.com/facepp/v3/compare\n",
      "b'{\"error_message\":\"AUTHENTICATION_ERROR\"}\\n'\n"
     ]
    },
    {
     "name": "stderr",
     "output_type": "stream",
     "text": [
      " 18%|█▊        | 134/750 [27:13<2:03:43, 12.05s/it]"
     ]
    },
    {
     "name": "stdout",
     "output_type": "stream",
     "text": [
      "error: code=401\n",
      "url=https://api-us.faceplusplus.com/facepp/v3/compare\n",
      "b'{\"error_message\":\"AUTHENTICATION_ERROR\"}\\n'\n",
      "error: code=401\n",
      "url=https://api-us.faceplusplus.com/facepp/v3/compare\n",
      "b'{\"error_message\":\"AUTHENTICATION_ERROR\"}\\n'\n",
      "error: code=401\n",
      "url=https://api-us.faceplusplus.com/facepp/v3/compare\n",
      "b'{\"error_message\":\"AUTHENTICATION_ERROR\"}\\n'\n",
      "error: code=401\n",
      "url=https://api-us.faceplusplus.com/facepp/v3/compare\n",
      "b'{\"error_message\":\"AUTHENTICATION_ERROR\"}\\n'\n",
      "error: code=401\n",
      "url=https://api-us.faceplusplus.com/facepp/v3/compare\n",
      "b'{\"error_message\":\"AUTHENTICATION_ERROR\"}\\n'\n",
      "error: code=401\n",
      "url=https://api-us.faceplusplus.com/facepp/v3/compare\n",
      "b'{\"error_message\":\"AUTHENTICATION_ERROR\"}\\n'\n",
      "error: code=401\n",
      "url=https://api-us.faceplusplus.com/facepp/v3/compare\n",
      "b'{\"error_message\":\"AUTHENTICATION_ERROR\"}\\n'\n",
      "error: code=401\n",
      "url=https://api-us.faceplusplus.com/facepp/v3/compare\n",
      "b'{\"error_message\":\"AUTHENTICATION_ERROR\"}\\n'\n"
     ]
    },
    {
     "name": "stderr",
     "output_type": "stream",
     "text": [
      " 18%|█▊        | 135/750 [27:25<2:03:40, 12.07s/it]"
     ]
    },
    {
     "name": "stdout",
     "output_type": "stream",
     "text": [
      "error: code=401\n",
      "url=https://api-us.faceplusplus.com/facepp/v3/compare\n",
      "b'{\"error_message\":\"AUTHENTICATION_ERROR\"}\\n'\n",
      "error: code=401\n",
      "url=https://api-us.faceplusplus.com/facepp/v3/compare\n",
      "b'{\"error_message\":\"AUTHENTICATION_ERROR\"}\\n'\n",
      "error: code=401\n",
      "url=https://api-us.faceplusplus.com/facepp/v3/compare\n",
      "b'{\"error_message\":\"AUTHENTICATION_ERROR\"}\\n'\n",
      "error: code=401\n",
      "url=https://api-us.faceplusplus.com/facepp/v3/compare\n",
      "b'{\"error_message\":\"AUTHENTICATION_ERROR\"}\\n'\n",
      "error: code=401\n",
      "url=https://api-us.faceplusplus.com/facepp/v3/compare\n",
      "b'{\"error_message\":\"AUTHENTICATION_ERROR\"}\\n'\n",
      "error: code=401\n",
      "url=https://api-us.faceplusplus.com/facepp/v3/compare\n",
      "b'{\"error_message\":\"AUTHENTICATION_ERROR\"}\\n'\n",
      "error: code=401\n",
      "url=https://api-us.faceplusplus.com/facepp/v3/compare\n",
      "b'{\"error_message\":\"AUTHENTICATION_ERROR\"}\\n'\n",
      "error: code=401\n",
      "url=https://api-us.faceplusplus.com/facepp/v3/compare\n",
      "b'{\"error_message\":\"AUTHENTICATION_ERROR\"}\\n'\n"
     ]
    },
    {
     "name": "stderr",
     "output_type": "stream",
     "text": [
      " 18%|█▊        | 136/750 [27:37<2:03:30, 12.07s/it]"
     ]
    },
    {
     "name": "stdout",
     "output_type": "stream",
     "text": [
      "error: code=401\n",
      "url=https://api-us.faceplusplus.com/facepp/v3/compare\n",
      "b'{\"error_message\":\"AUTHENTICATION_ERROR\"}\\n'\n",
      "error: code=401\n",
      "url=https://api-us.faceplusplus.com/facepp/v3/compare\n",
      "b'{\"error_message\":\"AUTHENTICATION_ERROR\"}\\n'\n",
      "error: code=401\n",
      "url=https://api-us.faceplusplus.com/facepp/v3/compare\n",
      "b'{\"error_message\":\"AUTHENTICATION_ERROR\"}\\n'\n",
      "error: code=401\n",
      "url=https://api-us.faceplusplus.com/facepp/v3/compare\n",
      "b'{\"error_message\":\"AUTHENTICATION_ERROR\"}\\n'\n",
      "error: code=401\n",
      "url=https://api-us.faceplusplus.com/facepp/v3/compare\n",
      "b'{\"error_message\":\"AUTHENTICATION_ERROR\"}\\n'\n",
      "error: code=401\n",
      "url=https://api-us.faceplusplus.com/facepp/v3/compare\n",
      "b'{\"error_message\":\"AUTHENTICATION_ERROR\"}\\n'\n",
      "error: code=401\n",
      "url=https://api-us.faceplusplus.com/facepp/v3/compare\n",
      "b'{\"error_message\":\"AUTHENTICATION_ERROR\"}\\n'\n",
      "error: code=401\n",
      "url=https://api-us.faceplusplus.com/facepp/v3/compare\n",
      "b'{\"error_message\":\"AUTHENTICATION_ERROR\"}\\n'\n"
     ]
    },
    {
     "name": "stderr",
     "output_type": "stream",
     "text": [
      " 18%|█▊        | 137/750 [27:49<2:03:36, 12.10s/it]"
     ]
    },
    {
     "name": "stdout",
     "output_type": "stream",
     "text": [
      "error: code=401\n",
      "url=https://api-us.faceplusplus.com/facepp/v3/compare\n",
      "b'{\"error_message\":\"AUTHENTICATION_ERROR\"}\\n'\n",
      "error: code=401\n",
      "url=https://api-us.faceplusplus.com/facepp/v3/compare\n",
      "b'{\"error_message\":\"AUTHENTICATION_ERROR\"}\\n'\n",
      "error: code=401\n",
      "url=https://api-us.faceplusplus.com/facepp/v3/compare\n",
      "b'{\"error_message\":\"AUTHENTICATION_ERROR\"}\\n'\n",
      "error: code=401\n",
      "url=https://api-us.faceplusplus.com/facepp/v3/compare\n",
      "b'{\"error_message\":\"AUTHENTICATION_ERROR\"}\\n'\n",
      "error: code=401\n",
      "url=https://api-us.faceplusplus.com/facepp/v3/compare\n",
      "b'{\"error_message\":\"AUTHENTICATION_ERROR\"}\\n'\n",
      "error: code=401\n",
      "url=https://api-us.faceplusplus.com/facepp/v3/compare\n",
      "b'{\"error_message\":\"AUTHENTICATION_ERROR\"}\\n'\n",
      "error: code=401\n",
      "url=https://api-us.faceplusplus.com/facepp/v3/compare\n",
      "b'{\"error_message\":\"AUTHENTICATION_ERROR\"}\\n'\n",
      "error: code=401\n",
      "url=https://api-us.faceplusplus.com/facepp/v3/compare\n",
      "b'{\"error_message\":\"AUTHENTICATION_ERROR\"}\\n'\n"
     ]
    },
    {
     "name": "stderr",
     "output_type": "stream",
     "text": [
      " 18%|█▊        | 138/750 [28:02<2:03:59, 12.16s/it]"
     ]
    },
    {
     "name": "stdout",
     "output_type": "stream",
     "text": [
      "error: code=401\n",
      "url=https://api-us.faceplusplus.com/facepp/v3/compare\n",
      "b'{\"error_message\":\"AUTHENTICATION_ERROR\"}\\n'\n",
      "error: code=401\n",
      "url=https://api-us.faceplusplus.com/facepp/v3/compare\n",
      "b'{\"error_message\":\"AUTHENTICATION_ERROR\"}\\n'\n",
      "error: code=401\n",
      "url=https://api-us.faceplusplus.com/facepp/v3/compare\n",
      "b'{\"error_message\":\"AUTHENTICATION_ERROR\"}\\n'\n",
      "error: code=401\n",
      "url=https://api-us.faceplusplus.com/facepp/v3/compare\n",
      "b'{\"error_message\":\"AUTHENTICATION_ERROR\"}\\n'\n",
      "error: code=401\n",
      "url=https://api-us.faceplusplus.com/facepp/v3/compare\n",
      "b'{\"error_message\":\"AUTHENTICATION_ERROR\"}\\n'\n",
      "error: code=401\n",
      "url=https://api-us.faceplusplus.com/facepp/v3/compare\n",
      "b'{\"error_message\":\"AUTHENTICATION_ERROR\"}\\n'\n",
      "error: code=401\n",
      "url=https://api-us.faceplusplus.com/facepp/v3/compare\n",
      "b'{\"error_message\":\"AUTHENTICATION_ERROR\"}\\n'\n",
      "error: code=401\n",
      "url=https://api-us.faceplusplus.com/facepp/v3/compare\n",
      "b'{\"error_message\":\"AUTHENTICATION_ERROR\"}\\n'\n"
     ]
    },
    {
     "name": "stderr",
     "output_type": "stream",
     "text": [
      " 19%|█▊        | 139/750 [28:14<2:03:32, 12.13s/it]"
     ]
    },
    {
     "name": "stdout",
     "output_type": "stream",
     "text": [
      "error: code=401\n",
      "url=https://api-us.faceplusplus.com/facepp/v3/compare\n",
      "b'{\"error_message\":\"AUTHENTICATION_ERROR\"}\\n'\n",
      "error: code=401\n",
      "url=https://api-us.faceplusplus.com/facepp/v3/compare\n",
      "b'{\"error_message\":\"AUTHENTICATION_ERROR\"}\\n'\n",
      "error: code=401\n",
      "url=https://api-us.faceplusplus.com/facepp/v3/compare\n",
      "b'{\"error_message\":\"AUTHENTICATION_ERROR\"}\\n'\n",
      "error: code=401\n",
      "url=https://api-us.faceplusplus.com/facepp/v3/compare\n",
      "b'{\"error_message\":\"AUTHENTICATION_ERROR\"}\\n'\n",
      "error: code=401\n",
      "url=https://api-us.faceplusplus.com/facepp/v3/compare\n",
      "b'{\"error_message\":\"AUTHENTICATION_ERROR\"}\\n'\n",
      "error: code=401\n",
      "url=https://api-us.faceplusplus.com/facepp/v3/compare\n",
      "b'{\"error_message\":\"AUTHENTICATION_ERROR\"}\\n'\n",
      "error: code=401\n",
      "url=https://api-us.faceplusplus.com/facepp/v3/compare\n",
      "b'{\"error_message\":\"AUTHENTICATION_ERROR\"}\\n'\n",
      "error: code=401\n",
      "url=https://api-us.faceplusplus.com/facepp/v3/compare\n",
      "b'{\"error_message\":\"AUTHENTICATION_ERROR\"}\\n'\n"
     ]
    },
    {
     "name": "stderr",
     "output_type": "stream",
     "text": [
      " 19%|█▊        | 140/750 [28:26<2:03:15, 12.12s/it]"
     ]
    },
    {
     "name": "stdout",
     "output_type": "stream",
     "text": [
      "error: code=401\n",
      "url=https://api-us.faceplusplus.com/facepp/v3/compare\n",
      "b'{\"error_message\":\"AUTHENTICATION_ERROR\"}\\n'\n",
      "error: code=401\n",
      "url=https://api-us.faceplusplus.com/facepp/v3/compare\n",
      "b'{\"error_message\":\"AUTHENTICATION_ERROR\"}\\n'\n",
      "error: code=401\n",
      "url=https://api-us.faceplusplus.com/facepp/v3/compare\n",
      "b'{\"error_message\":\"AUTHENTICATION_ERROR\"}\\n'\n",
      "error: code=401\n",
      "url=https://api-us.faceplusplus.com/facepp/v3/compare\n",
      "b'{\"error_message\":\"AUTHENTICATION_ERROR\"}\\n'\n",
      "error: code=401\n",
      "url=https://api-us.faceplusplus.com/facepp/v3/compare\n",
      "b'{\"error_message\":\"AUTHENTICATION_ERROR\"}\\n'\n",
      "error: code=401\n",
      "url=https://api-us.faceplusplus.com/facepp/v3/compare\n",
      "b'{\"error_message\":\"AUTHENTICATION_ERROR\"}\\n'\n",
      "error: code=401\n",
      "url=https://api-us.faceplusplus.com/facepp/v3/compare\n",
      "b'{\"error_message\":\"AUTHENTICATION_ERROR\"}\\n'\n",
      "error: code=401\n",
      "url=https://api-us.faceplusplus.com/facepp/v3/compare\n",
      "b'{\"error_message\":\"AUTHENTICATION_ERROR\"}\\n'\n"
     ]
    },
    {
     "name": "stderr",
     "output_type": "stream",
     "text": [
      " 19%|█▉        | 141/750 [28:38<2:03:15, 12.14s/it]"
     ]
    },
    {
     "name": "stdout",
     "output_type": "stream",
     "text": [
      "error: code=401\n",
      "url=https://api-us.faceplusplus.com/facepp/v3/compare\n",
      "b'{\"error_message\":\"AUTHENTICATION_ERROR\"}\\n'\n",
      "error: code=401\n",
      "url=https://api-us.faceplusplus.com/facepp/v3/compare\n",
      "b'{\"error_message\":\"AUTHENTICATION_ERROR\"}\\n'\n",
      "error: code=401\n",
      "url=https://api-us.faceplusplus.com/facepp/v3/compare\n",
      "b'{\"error_message\":\"AUTHENTICATION_ERROR\"}\\n'\n",
      "error: code=401\n",
      "url=https://api-us.faceplusplus.com/facepp/v3/compare\n",
      "b'{\"error_message\":\"AUTHENTICATION_ERROR\"}\\n'\n",
      "error: code=401\n",
      "url=https://api-us.faceplusplus.com/facepp/v3/compare\n",
      "b'{\"error_message\":\"AUTHENTICATION_ERROR\"}\\n'\n",
      "error: code=401\n",
      "url=https://api-us.faceplusplus.com/facepp/v3/compare\n",
      "b'{\"error_message\":\"AUTHENTICATION_ERROR\"}\\n'\n",
      "error: code=401\n",
      "url=https://api-us.faceplusplus.com/facepp/v3/compare\n",
      "b'{\"error_message\":\"AUTHENTICATION_ERROR\"}\\n'\n",
      "error: code=401\n",
      "url=https://api-us.faceplusplus.com/facepp/v3/compare\n",
      "b'{\"error_message\":\"AUTHENTICATION_ERROR\"}\\n'\n"
     ]
    },
    {
     "name": "stderr",
     "output_type": "stream",
     "text": [
      " 19%|█▉        | 142/750 [28:50<2:02:59, 12.14s/it]"
     ]
    },
    {
     "name": "stdout",
     "output_type": "stream",
     "text": [
      "error: code=401\n",
      "url=https://api-us.faceplusplus.com/facepp/v3/compare\n",
      "b'{\"error_message\":\"AUTHENTICATION_ERROR\"}\\n'\n",
      "error: code=401\n",
      "url=https://api-us.faceplusplus.com/facepp/v3/compare\n",
      "b'{\"error_message\":\"AUTHENTICATION_ERROR\"}\\n'\n",
      "error: code=401\n",
      "url=https://api-us.faceplusplus.com/facepp/v3/compare\n",
      "b'{\"error_message\":\"AUTHENTICATION_ERROR\"}\\n'\n",
      "error: code=401\n",
      "url=https://api-us.faceplusplus.com/facepp/v3/compare\n",
      "b'{\"error_message\":\"AUTHENTICATION_ERROR\"}\\n'\n",
      "error: code=401\n",
      "url=https://api-us.faceplusplus.com/facepp/v3/compare\n",
      "b'{\"error_message\":\"AUTHENTICATION_ERROR\"}\\n'\n",
      "error: code=401\n",
      "url=https://api-us.faceplusplus.com/facepp/v3/compare\n",
      "b'{\"error_message\":\"AUTHENTICATION_ERROR\"}\\n'\n",
      "error: code=401\n",
      "url=https://api-us.faceplusplus.com/facepp/v3/compare\n",
      "b'{\"error_message\":\"AUTHENTICATION_ERROR\"}\\n'\n",
      "error: code=401\n",
      "url=https://api-us.faceplusplus.com/facepp/v3/compare\n",
      "b'{\"error_message\":\"AUTHENTICATION_ERROR\"}\\n'\n"
     ]
    },
    {
     "name": "stderr",
     "output_type": "stream",
     "text": [
      " 19%|█▉        | 143/750 [29:02<2:02:42, 12.13s/it]"
     ]
    },
    {
     "name": "stdout",
     "output_type": "stream",
     "text": [
      "error: code=401\n",
      "url=https://api-us.faceplusplus.com/facepp/v3/compare\n",
      "b'{\"error_message\":\"AUTHENTICATION_ERROR\"}\\n'\n",
      "error: code=401\n",
      "url=https://api-us.faceplusplus.com/facepp/v3/compare\n",
      "b'{\"error_message\":\"AUTHENTICATION_ERROR\"}\\n'\n",
      "error: code=401\n",
      "url=https://api-us.faceplusplus.com/facepp/v3/compare\n",
      "b'{\"error_message\":\"AUTHENTICATION_ERROR\"}\\n'\n",
      "error: code=401\n",
      "url=https://api-us.faceplusplus.com/facepp/v3/compare\n",
      "b'{\"error_message\":\"AUTHENTICATION_ERROR\"}\\n'\n",
      "error: code=401\n",
      "url=https://api-us.faceplusplus.com/facepp/v3/compare\n",
      "b'{\"error_message\":\"AUTHENTICATION_ERROR\"}\\n'\n",
      "error: code=401\n",
      "url=https://api-us.faceplusplus.com/facepp/v3/compare\n",
      "b'{\"error_message\":\"AUTHENTICATION_ERROR\"}\\n'\n",
      "error: code=401\n",
      "url=https://api-us.faceplusplus.com/facepp/v3/compare\n",
      "b'{\"error_message\":\"AUTHENTICATION_ERROR\"}\\n'\n",
      "error: code=401\n",
      "url=https://api-us.faceplusplus.com/facepp/v3/compare\n",
      "b'{\"error_message\":\"AUTHENTICATION_ERROR\"}\\n'\n"
     ]
    },
    {
     "name": "stderr",
     "output_type": "stream",
     "text": [
      " 19%|█▉        | 144/750 [29:14<2:02:09, 12.09s/it]"
     ]
    },
    {
     "name": "stdout",
     "output_type": "stream",
     "text": [
      "error: code=401\n",
      "url=https://api-us.faceplusplus.com/facepp/v3/compare\n",
      "b'{\"error_message\":\"AUTHENTICATION_ERROR\"}\\n'\n",
      "error: code=401\n",
      "url=https://api-us.faceplusplus.com/facepp/v3/compare\n",
      "b'{\"error_message\":\"AUTHENTICATION_ERROR\"}\\n'\n",
      "error: code=401\n",
      "url=https://api-us.faceplusplus.com/facepp/v3/compare\n",
      "b'{\"error_message\":\"AUTHENTICATION_ERROR\"}\\n'\n",
      "error: code=401\n",
      "url=https://api-us.faceplusplus.com/facepp/v3/compare\n",
      "b'{\"error_message\":\"AUTHENTICATION_ERROR\"}\\n'\n",
      "error: code=401\n",
      "url=https://api-us.faceplusplus.com/facepp/v3/compare\n",
      "b'{\"error_message\":\"AUTHENTICATION_ERROR\"}\\n'\n",
      "error: code=401\n",
      "url=https://api-us.faceplusplus.com/facepp/v3/compare\n",
      "b'{\"error_message\":\"AUTHENTICATION_ERROR\"}\\n'\n",
      "error: code=401\n",
      "url=https://api-us.faceplusplus.com/facepp/v3/compare\n",
      "b'{\"error_message\":\"AUTHENTICATION_ERROR\"}\\n'\n",
      "error: code=401\n",
      "url=https://api-us.faceplusplus.com/facepp/v3/compare\n",
      "b'{\"error_message\":\"AUTHENTICATION_ERROR\"}\\n'\n"
     ]
    },
    {
     "name": "stderr",
     "output_type": "stream",
     "text": [
      " 19%|█▉        | 145/750 [29:26<2:02:06, 12.11s/it]"
     ]
    },
    {
     "name": "stdout",
     "output_type": "stream",
     "text": [
      "error: code=401\n",
      "url=https://api-us.faceplusplus.com/facepp/v3/compare\n",
      "b'{\"error_message\":\"AUTHENTICATION_ERROR\"}\\n'\n",
      "error: code=401\n",
      "url=https://api-us.faceplusplus.com/facepp/v3/compare\n",
      "b'{\"error_message\":\"AUTHENTICATION_ERROR\"}\\n'\n",
      "error: code=401\n",
      "url=https://api-us.faceplusplus.com/facepp/v3/compare\n",
      "b'{\"error_message\":\"AUTHENTICATION_ERROR\"}\\n'\n",
      "error: code=401\n",
      "url=https://api-us.faceplusplus.com/facepp/v3/compare\n",
      "b'{\"error_message\":\"AUTHENTICATION_ERROR\"}\\n'\n",
      "error: code=401\n",
      "url=https://api-us.faceplusplus.com/facepp/v3/compare\n",
      "b'{\"error_message\":\"AUTHENTICATION_ERROR\"}\\n'\n",
      "error: code=401\n",
      "url=https://api-us.faceplusplus.com/facepp/v3/compare\n",
      "b'{\"error_message\":\"AUTHENTICATION_ERROR\"}\\n'\n",
      "error: code=401\n",
      "url=https://api-us.faceplusplus.com/facepp/v3/compare\n",
      "b'{\"error_message\":\"AUTHENTICATION_ERROR\"}\\n'\n",
      "error: code=401\n",
      "url=https://api-us.faceplusplus.com/facepp/v3/compare\n",
      "b'{\"error_message\":\"AUTHENTICATION_ERROR\"}\\n'\n"
     ]
    },
    {
     "name": "stderr",
     "output_type": "stream",
     "text": [
      " 19%|█▉        | 146/750 [29:39<2:02:35, 12.18s/it]"
     ]
    },
    {
     "name": "stdout",
     "output_type": "stream",
     "text": [
      "error: code=401\n",
      "url=https://api-us.faceplusplus.com/facepp/v3/compare\n",
      "b'{\"error_message\":\"AUTHENTICATION_ERROR\"}\\n'\n",
      "error: code=401\n",
      "url=https://api-us.faceplusplus.com/facepp/v3/compare\n",
      "b'{\"error_message\":\"AUTHENTICATION_ERROR\"}\\n'\n",
      "error: code=401\n",
      "url=https://api-us.faceplusplus.com/facepp/v3/compare\n",
      "b'{\"error_message\":\"AUTHENTICATION_ERROR\"}\\n'\n",
      "error: code=401\n",
      "url=https://api-us.faceplusplus.com/facepp/v3/compare\n",
      "b'{\"error_message\":\"AUTHENTICATION_ERROR\"}\\n'\n",
      "error: code=401\n",
      "url=https://api-us.faceplusplus.com/facepp/v3/compare\n",
      "b'{\"error_message\":\"AUTHENTICATION_ERROR\"}\\n'\n",
      "error: code=401\n",
      "url=https://api-us.faceplusplus.com/facepp/v3/compare\n",
      "b'{\"error_message\":\"AUTHENTICATION_ERROR\"}\\n'\n",
      "error: code=401\n",
      "url=https://api-us.faceplusplus.com/facepp/v3/compare\n",
      "b'{\"error_message\":\"AUTHENTICATION_ERROR\"}\\n'\n",
      "error: code=401\n",
      "url=https://api-us.faceplusplus.com/facepp/v3/compare\n",
      "b'{\"error_message\":\"AUTHENTICATION_ERROR\"}\\n'\n"
     ]
    },
    {
     "name": "stderr",
     "output_type": "stream",
     "text": [
      " 20%|█▉        | 147/750 [29:51<2:01:51, 12.12s/it]"
     ]
    },
    {
     "name": "stdout",
     "output_type": "stream",
     "text": [
      "error: code=401\n",
      "url=https://api-us.faceplusplus.com/facepp/v3/compare\n",
      "b'{\"error_message\":\"AUTHENTICATION_ERROR\"}\\n'\n",
      "error: code=401\n",
      "url=https://api-us.faceplusplus.com/facepp/v3/compare\n",
      "b'{\"error_message\":\"AUTHENTICATION_ERROR\"}\\n'\n",
      "error: code=401\n",
      "url=https://api-us.faceplusplus.com/facepp/v3/compare\n",
      "b'{\"error_message\":\"AUTHENTICATION_ERROR\"}\\n'\n",
      "error: code=401\n",
      "url=https://api-us.faceplusplus.com/facepp/v3/compare\n",
      "b'{\"error_message\":\"AUTHENTICATION_ERROR\"}\\n'\n",
      "error: code=401\n",
      "url=https://api-us.faceplusplus.com/facepp/v3/compare\n",
      "b'{\"error_message\":\"AUTHENTICATION_ERROR\"}\\n'\n",
      "error: code=401\n",
      "url=https://api-us.faceplusplus.com/facepp/v3/compare\n",
      "b'{\"error_message\":\"AUTHENTICATION_ERROR\"}\\n'\n",
      "error: code=401\n",
      "url=https://api-us.faceplusplus.com/facepp/v3/compare\n",
      "b'{\"error_message\":\"AUTHENTICATION_ERROR\"}\\n'\n",
      "error: code=401\n",
      "url=https://api-us.faceplusplus.com/facepp/v3/compare\n",
      "b'{\"error_message\":\"AUTHENTICATION_ERROR\"}\\n'\n"
     ]
    },
    {
     "name": "stderr",
     "output_type": "stream",
     "text": [
      " 20%|█▉        | 148/750 [30:03<2:01:21, 12.10s/it]"
     ]
    },
    {
     "name": "stdout",
     "output_type": "stream",
     "text": [
      "error: code=401\n",
      "url=https://api-us.faceplusplus.com/facepp/v3/compare\n",
      "b'{\"error_message\":\"AUTHENTICATION_ERROR\"}\\n'\n",
      "error: code=401\n",
      "url=https://api-us.faceplusplus.com/facepp/v3/compare\n",
      "b'{\"error_message\":\"AUTHENTICATION_ERROR\"}\\n'\n",
      "error: code=401\n",
      "url=https://api-us.faceplusplus.com/facepp/v3/compare\n",
      "b'{\"error_message\":\"AUTHENTICATION_ERROR\"}\\n'\n",
      "error: code=401\n",
      "url=https://api-us.faceplusplus.com/facepp/v3/compare\n",
      "b'{\"error_message\":\"AUTHENTICATION_ERROR\"}\\n'\n",
      "error: code=401\n",
      "url=https://api-us.faceplusplus.com/facepp/v3/compare\n",
      "b'{\"error_message\":\"AUTHENTICATION_ERROR\"}\\n'\n",
      "error: code=401\n",
      "url=https://api-us.faceplusplus.com/facepp/v3/compare\n",
      "b'{\"error_message\":\"AUTHENTICATION_ERROR\"}\\n'\n",
      "error: code=401\n",
      "url=https://api-us.faceplusplus.com/facepp/v3/compare\n",
      "b'{\"error_message\":\"AUTHENTICATION_ERROR\"}\\n'\n",
      "error: code=401\n",
      "url=https://api-us.faceplusplus.com/facepp/v3/compare\n",
      "b'{\"error_message\":\"AUTHENTICATION_ERROR\"}\\n'\n"
     ]
    },
    {
     "name": "stderr",
     "output_type": "stream",
     "text": [
      " 20%|█▉        | 149/750 [30:15<2:01:43, 12.15s/it]"
     ]
    },
    {
     "name": "stdout",
     "output_type": "stream",
     "text": [
      "error: code=401\n",
      "url=https://api-us.faceplusplus.com/facepp/v3/compare\n",
      "b'{\"error_message\":\"AUTHENTICATION_ERROR\"}\\n'\n",
      "error: code=401\n",
      "url=https://api-us.faceplusplus.com/facepp/v3/compare\n",
      "b'{\"error_message\":\"AUTHENTICATION_ERROR\"}\\n'\n",
      "error: code=401\n",
      "url=https://api-us.faceplusplus.com/facepp/v3/compare\n",
      "b'{\"error_message\":\"AUTHENTICATION_ERROR\"}\\n'\n",
      "error: code=401\n",
      "url=https://api-us.faceplusplus.com/facepp/v3/compare\n",
      "b'{\"error_message\":\"AUTHENTICATION_ERROR\"}\\n'\n",
      "error: code=401\n",
      "url=https://api-us.faceplusplus.com/facepp/v3/compare\n",
      "b'{\"error_message\":\"AUTHENTICATION_ERROR\"}\\n'\n",
      "error: code=401\n",
      "url=https://api-us.faceplusplus.com/facepp/v3/compare\n",
      "b'{\"error_message\":\"AUTHENTICATION_ERROR\"}\\n'\n",
      "error: code=401\n",
      "url=https://api-us.faceplusplus.com/facepp/v3/compare\n",
      "b'{\"error_message\":\"AUTHENTICATION_ERROR\"}\\n'\n",
      "error: code=401\n",
      "url=https://api-us.faceplusplus.com/facepp/v3/compare\n",
      "b'{\"error_message\":\"AUTHENTICATION_ERROR\"}\\n'\n"
     ]
    },
    {
     "name": "stderr",
     "output_type": "stream",
     "text": [
      " 20%|██        | 150/750 [30:27<2:01:45, 12.18s/it]"
     ]
    },
    {
     "name": "stdout",
     "output_type": "stream",
     "text": [
      "error: code=401\n",
      "url=https://api-us.faceplusplus.com/facepp/v3/compare\n",
      "b'{\"error_message\":\"AUTHENTICATION_ERROR\"}\\n'\n",
      "error: code=401\n",
      "url=https://api-us.faceplusplus.com/facepp/v3/compare\n",
      "b'{\"error_message\":\"AUTHENTICATION_ERROR\"}\\n'\n",
      "error: code=401\n",
      "url=https://api-us.faceplusplus.com/facepp/v3/compare\n",
      "b'{\"error_message\":\"AUTHENTICATION_ERROR\"}\\n'\n",
      "error: code=401\n",
      "url=https://api-us.faceplusplus.com/facepp/v3/compare\n",
      "b'{\"error_message\":\"AUTHENTICATION_ERROR\"}\\n'\n",
      "error: code=401\n",
      "url=https://api-us.faceplusplus.com/facepp/v3/compare\n",
      "b'{\"error_message\":\"AUTHENTICATION_ERROR\"}\\n'\n",
      "error: code=401\n",
      "url=https://api-us.faceplusplus.com/facepp/v3/compare\n",
      "b'{\"error_message\":\"AUTHENTICATION_ERROR\"}\\n'\n",
      "error: code=401\n",
      "url=https://api-us.faceplusplus.com/facepp/v3/compare\n",
      "b'{\"error_message\":\"AUTHENTICATION_ERROR\"}\\n'\n",
      "error: code=401\n",
      "url=https://api-us.faceplusplus.com/facepp/v3/compare\n",
      "b'{\"error_message\":\"AUTHENTICATION_ERROR\"}\\n'\n"
     ]
    },
    {
     "name": "stderr",
     "output_type": "stream",
     "text": [
      " 20%|██        | 151/750 [30:40<2:01:40, 12.19s/it]"
     ]
    },
    {
     "name": "stdout",
     "output_type": "stream",
     "text": [
      "error: code=401\n",
      "url=https://api-us.faceplusplus.com/facepp/v3/compare\n",
      "b'{\"error_message\":\"AUTHENTICATION_ERROR\"}\\n'\n",
      "error: code=401\n",
      "url=https://api-us.faceplusplus.com/facepp/v3/compare\n",
      "b'{\"error_message\":\"AUTHENTICATION_ERROR\"}\\n'\n",
      "error: code=401\n",
      "url=https://api-us.faceplusplus.com/facepp/v3/compare\n",
      "b'{\"error_message\":\"AUTHENTICATION_ERROR\"}\\n'\n",
      "error: code=401\n",
      "url=https://api-us.faceplusplus.com/facepp/v3/compare\n",
      "b'{\"error_message\":\"AUTHENTICATION_ERROR\"}\\n'\n",
      "error: code=401\n",
      "url=https://api-us.faceplusplus.com/facepp/v3/compare\n",
      "b'{\"error_message\":\"AUTHENTICATION_ERROR\"}\\n'\n",
      "error: code=401\n",
      "url=https://api-us.faceplusplus.com/facepp/v3/compare\n",
      "b'{\"error_message\":\"AUTHENTICATION_ERROR\"}\\n'\n",
      "error: code=401\n",
      "url=https://api-us.faceplusplus.com/facepp/v3/compare\n",
      "b'{\"error_message\":\"AUTHENTICATION_ERROR\"}\\n'\n",
      "error: code=401\n",
      "url=https://api-us.faceplusplus.com/facepp/v3/compare\n",
      "b'{\"error_message\":\"AUTHENTICATION_ERROR\"}\\n'\n"
     ]
    },
    {
     "name": "stderr",
     "output_type": "stream",
     "text": [
      " 20%|██        | 152/750 [30:52<2:01:21, 12.18s/it]"
     ]
    },
    {
     "name": "stdout",
     "output_type": "stream",
     "text": [
      "error: code=401\n",
      "url=https://api-us.faceplusplus.com/facepp/v3/compare\n",
      "b'{\"error_message\":\"AUTHENTICATION_ERROR\"}\\n'\n",
      "error: code=401\n",
      "url=https://api-us.faceplusplus.com/facepp/v3/compare\n",
      "b'{\"error_message\":\"AUTHENTICATION_ERROR\"}\\n'\n",
      "error: code=401\n",
      "url=https://api-us.faceplusplus.com/facepp/v3/compare\n",
      "b'{\"error_message\":\"AUTHENTICATION_ERROR\"}\\n'\n",
      "error: code=401\n",
      "url=https://api-us.faceplusplus.com/facepp/v3/compare\n",
      "b'{\"error_message\":\"AUTHENTICATION_ERROR\"}\\n'\n",
      "error: code=401\n",
      "url=https://api-us.faceplusplus.com/facepp/v3/compare\n",
      "b'{\"error_message\":\"AUTHENTICATION_ERROR\"}\\n'\n",
      "error: code=401\n",
      "url=https://api-us.faceplusplus.com/facepp/v3/compare\n",
      "b'{\"error_message\":\"AUTHENTICATION_ERROR\"}\\n'\n",
      "error: code=401\n",
      "url=https://api-us.faceplusplus.com/facepp/v3/compare\n",
      "b'{\"error_message\":\"AUTHENTICATION_ERROR\"}\\n'\n",
      "error: code=401\n",
      "url=https://api-us.faceplusplus.com/facepp/v3/compare\n",
      "b'{\"error_message\":\"AUTHENTICATION_ERROR\"}\\n'\n"
     ]
    },
    {
     "name": "stderr",
     "output_type": "stream",
     "text": [
      " 20%|██        | 153/750 [31:04<2:01:34, 12.22s/it]"
     ]
    },
    {
     "name": "stdout",
     "output_type": "stream",
     "text": [
      "error: code=401\n",
      "url=https://api-us.faceplusplus.com/facepp/v3/compare\n",
      "b'{\"error_message\":\"AUTHENTICATION_ERROR\"}\\n'\n",
      "error: code=401\n",
      "url=https://api-us.faceplusplus.com/facepp/v3/compare\n",
      "b'{\"error_message\":\"AUTHENTICATION_ERROR\"}\\n'\n",
      "error: code=401\n",
      "url=https://api-us.faceplusplus.com/facepp/v3/compare\n",
      "b'{\"error_message\":\"AUTHENTICATION_ERROR\"}\\n'\n",
      "error: code=401\n",
      "url=https://api-us.faceplusplus.com/facepp/v3/compare\n",
      "b'{\"error_message\":\"AUTHENTICATION_ERROR\"}\\n'\n",
      "error: code=401\n",
      "url=https://api-us.faceplusplus.com/facepp/v3/compare\n",
      "b'{\"error_message\":\"AUTHENTICATION_ERROR\"}\\n'\n",
      "error: code=401\n",
      "url=https://api-us.faceplusplus.com/facepp/v3/compare\n",
      "b'{\"error_message\":\"AUTHENTICATION_ERROR\"}\\n'\n",
      "error: code=401\n",
      "url=https://api-us.faceplusplus.com/facepp/v3/compare\n",
      "b'{\"error_message\":\"AUTHENTICATION_ERROR\"}\\n'\n",
      "error: code=401\n",
      "url=https://api-us.faceplusplus.com/facepp/v3/compare\n",
      "b'{\"error_message\":\"AUTHENTICATION_ERROR\"}\\n'\n"
     ]
    },
    {
     "name": "stderr",
     "output_type": "stream",
     "text": [
      " 21%|██        | 154/750 [31:16<2:01:30, 12.23s/it]"
     ]
    },
    {
     "name": "stdout",
     "output_type": "stream",
     "text": [
      "error: code=401\n",
      "url=https://api-us.faceplusplus.com/facepp/v3/compare\n",
      "b'{\"error_message\":\"AUTHENTICATION_ERROR\"}\\n'\n",
      "error: code=401\n",
      "url=https://api-us.faceplusplus.com/facepp/v3/compare\n",
      "b'{\"error_message\":\"AUTHENTICATION_ERROR\"}\\n'\n",
      "error: code=401\n",
      "url=https://api-us.faceplusplus.com/facepp/v3/compare\n",
      "b'{\"error_message\":\"AUTHENTICATION_ERROR\"}\\n'\n",
      "error: code=401\n",
      "url=https://api-us.faceplusplus.com/facepp/v3/compare\n",
      "b'{\"error_message\":\"AUTHENTICATION_ERROR\"}\\n'\n",
      "error: code=401\n",
      "url=https://api-us.faceplusplus.com/facepp/v3/compare\n",
      "b'{\"error_message\":\"AUTHENTICATION_ERROR\"}\\n'\n",
      "error: code=401\n",
      "url=https://api-us.faceplusplus.com/facepp/v3/compare\n",
      "b'{\"error_message\":\"AUTHENTICATION_ERROR\"}\\n'\n",
      "error: code=401\n",
      "url=https://api-us.faceplusplus.com/facepp/v3/compare\n",
      "b'{\"error_message\":\"AUTHENTICATION_ERROR\"}\\n'\n",
      "error: code=401\n",
      "url=https://api-us.faceplusplus.com/facepp/v3/compare\n",
      "b'{\"error_message\":\"AUTHENTICATION_ERROR\"}\\n'\n"
     ]
    },
    {
     "name": "stderr",
     "output_type": "stream",
     "text": [
      " 21%|██        | 155/750 [31:28<2:00:33, 12.16s/it]"
     ]
    },
    {
     "name": "stdout",
     "output_type": "stream",
     "text": [
      "error: code=401\n",
      "url=https://api-us.faceplusplus.com/facepp/v3/compare\n",
      "b'{\"error_message\":\"AUTHENTICATION_ERROR\"}\\n'\n",
      "error: code=401\n",
      "url=https://api-us.faceplusplus.com/facepp/v3/compare\n",
      "b'{\"error_message\":\"AUTHENTICATION_ERROR\"}\\n'\n",
      "error: code=401\n",
      "url=https://api-us.faceplusplus.com/facepp/v3/compare\n",
      "b'{\"error_message\":\"AUTHENTICATION_ERROR\"}\\n'\n",
      "error: code=401\n",
      "url=https://api-us.faceplusplus.com/facepp/v3/compare\n",
      "b'{\"error_message\":\"AUTHENTICATION_ERROR\"}\\n'\n",
      "error: code=401\n",
      "url=https://api-us.faceplusplus.com/facepp/v3/compare\n",
      "b'{\"error_message\":\"AUTHENTICATION_ERROR\"}\\n'\n",
      "error: code=401\n",
      "url=https://api-us.faceplusplus.com/facepp/v3/compare\n",
      "b'{\"error_message\":\"AUTHENTICATION_ERROR\"}\\n'\n",
      "error: code=401\n",
      "url=https://api-us.faceplusplus.com/facepp/v3/compare\n",
      "b'{\"error_message\":\"AUTHENTICATION_ERROR\"}\\n'\n",
      "error: code=401\n",
      "url=https://api-us.faceplusplus.com/facepp/v3/compare\n",
      "b'{\"error_message\":\"AUTHENTICATION_ERROR\"}\\n'\n"
     ]
    },
    {
     "name": "stderr",
     "output_type": "stream",
     "text": [
      " 21%|██        | 156/750 [31:40<2:00:25, 12.16s/it]"
     ]
    },
    {
     "name": "stdout",
     "output_type": "stream",
     "text": [
      "error: code=401\n",
      "url=https://api-us.faceplusplus.com/facepp/v3/compare\n",
      "b'{\"error_message\":\"AUTHENTICATION_ERROR\"}\\n'\n",
      "error: code=401\n",
      "url=https://api-us.faceplusplus.com/facepp/v3/compare\n",
      "b'{\"error_message\":\"AUTHENTICATION_ERROR\"}\\n'\n",
      "error: code=401\n",
      "url=https://api-us.faceplusplus.com/facepp/v3/compare\n",
      "b'{\"error_message\":\"AUTHENTICATION_ERROR\"}\\n'\n",
      "error: code=401\n",
      "url=https://api-us.faceplusplus.com/facepp/v3/compare\n",
      "b'{\"error_message\":\"AUTHENTICATION_ERROR\"}\\n'\n",
      "error: code=401\n",
      "url=https://api-us.faceplusplus.com/facepp/v3/compare\n",
      "b'{\"error_message\":\"AUTHENTICATION_ERROR\"}\\n'\n",
      "error: code=401\n",
      "url=https://api-us.faceplusplus.com/facepp/v3/compare\n",
      "b'{\"error_message\":\"AUTHENTICATION_ERROR\"}\\n'\n",
      "error: code=401\n",
      "url=https://api-us.faceplusplus.com/facepp/v3/compare\n",
      "b'{\"error_message\":\"AUTHENTICATION_ERROR\"}\\n'\n",
      "error: code=401\n",
      "url=https://api-us.faceplusplus.com/facepp/v3/compare\n",
      "b'{\"error_message\":\"AUTHENTICATION_ERROR\"}\\n'\n"
     ]
    },
    {
     "name": "stderr",
     "output_type": "stream",
     "text": [
      " 21%|██        | 157/750 [31:53<2:00:08, 12.16s/it]"
     ]
    },
    {
     "name": "stdout",
     "output_type": "stream",
     "text": [
      "error: code=401\n",
      "url=https://api-us.faceplusplus.com/facepp/v3/compare\n",
      "b'{\"error_message\":\"AUTHENTICATION_ERROR\"}\\n'\n",
      "error: code=401\n",
      "url=https://api-us.faceplusplus.com/facepp/v3/compare\n",
      "b'{\"error_message\":\"AUTHENTICATION_ERROR\"}\\n'\n",
      "error: code=401\n",
      "url=https://api-us.faceplusplus.com/facepp/v3/compare\n",
      "b'{\"error_message\":\"AUTHENTICATION_ERROR\"}\\n'\n",
      "error: code=401\n",
      "url=https://api-us.faceplusplus.com/facepp/v3/compare\n",
      "b'{\"error_message\":\"AUTHENTICATION_ERROR\"}\\n'\n",
      "error: code=401\n",
      "url=https://api-us.faceplusplus.com/facepp/v3/compare\n",
      "b'{\"error_message\":\"AUTHENTICATION_ERROR\"}\\n'\n",
      "error: code=401\n",
      "url=https://api-us.faceplusplus.com/facepp/v3/compare\n",
      "b'{\"error_message\":\"AUTHENTICATION_ERROR\"}\\n'\n",
      "error: code=401\n",
      "url=https://api-us.faceplusplus.com/facepp/v3/compare\n",
      "b'{\"error_message\":\"AUTHENTICATION_ERROR\"}\\n'\n",
      "error: code=401\n",
      "url=https://api-us.faceplusplus.com/facepp/v3/compare\n",
      "b'{\"error_message\":\"AUTHENTICATION_ERROR\"}\\n'\n"
     ]
    },
    {
     "name": "stderr",
     "output_type": "stream",
     "text": [
      " 21%|██        | 158/750 [32:05<1:59:15, 12.09s/it]"
     ]
    },
    {
     "name": "stdout",
     "output_type": "stream",
     "text": [
      "error: code=401\n",
      "url=https://api-us.faceplusplus.com/facepp/v3/compare\n",
      "b'{\"error_message\":\"AUTHENTICATION_ERROR\"}\\n'\n",
      "error: code=401\n",
      "url=https://api-us.faceplusplus.com/facepp/v3/compare\n",
      "b'{\"error_message\":\"AUTHENTICATION_ERROR\"}\\n'\n",
      "error: code=401\n",
      "url=https://api-us.faceplusplus.com/facepp/v3/compare\n",
      "b'{\"error_message\":\"AUTHENTICATION_ERROR\"}\\n'\n",
      "error: code=401\n",
      "url=https://api-us.faceplusplus.com/facepp/v3/compare\n",
      "b'{\"error_message\":\"AUTHENTICATION_ERROR\"}\\n'\n",
      "error: code=401\n",
      "url=https://api-us.faceplusplus.com/facepp/v3/compare\n",
      "b'{\"error_message\":\"AUTHENTICATION_ERROR\"}\\n'\n",
      "error: code=401\n",
      "url=https://api-us.faceplusplus.com/facepp/v3/compare\n",
      "b'{\"error_message\":\"AUTHENTICATION_ERROR\"}\\n'\n",
      "error: code=401\n",
      "url=https://api-us.faceplusplus.com/facepp/v3/compare\n",
      "b'{\"error_message\":\"AUTHENTICATION_ERROR\"}\\n'\n",
      "error: code=401\n",
      "url=https://api-us.faceplusplus.com/facepp/v3/compare\n",
      "b'{\"error_message\":\"AUTHENTICATION_ERROR\"}\\n'\n"
     ]
    },
    {
     "name": "stderr",
     "output_type": "stream",
     "text": [
      " 21%|██        | 159/750 [32:17<1:59:53, 12.17s/it]"
     ]
    },
    {
     "name": "stdout",
     "output_type": "stream",
     "text": [
      "error: code=401\n",
      "url=https://api-us.faceplusplus.com/facepp/v3/compare\n",
      "b'{\"error_message\":\"AUTHENTICATION_ERROR\"}\\n'\n",
      "error: code=401\n",
      "url=https://api-us.faceplusplus.com/facepp/v3/compare\n",
      "b'{\"error_message\":\"AUTHENTICATION_ERROR\"}\\n'\n",
      "error: code=401\n",
      "url=https://api-us.faceplusplus.com/facepp/v3/compare\n",
      "b'{\"error_message\":\"AUTHENTICATION_ERROR\"}\\n'\n",
      "error: code=401\n",
      "url=https://api-us.faceplusplus.com/facepp/v3/compare\n",
      "b'{\"error_message\":\"AUTHENTICATION_ERROR\"}\\n'\n",
      "error: code=401\n",
      "url=https://api-us.faceplusplus.com/facepp/v3/compare\n",
      "b'{\"error_message\":\"AUTHENTICATION_ERROR\"}\\n'\n",
      "error: code=401\n",
      "url=https://api-us.faceplusplus.com/facepp/v3/compare\n",
      "b'{\"error_message\":\"AUTHENTICATION_ERROR\"}\\n'\n",
      "error: code=401\n",
      "url=https://api-us.faceplusplus.com/facepp/v3/compare\n",
      "b'{\"error_message\":\"AUTHENTICATION_ERROR\"}\\n'\n",
      "error: code=401\n",
      "url=https://api-us.faceplusplus.com/facepp/v3/compare\n",
      "b'{\"error_message\":\"AUTHENTICATION_ERROR\"}\\n'\n"
     ]
    },
    {
     "name": "stderr",
     "output_type": "stream",
     "text": [
      " 21%|██▏       | 160/750 [32:29<1:59:12, 12.12s/it]"
     ]
    },
    {
     "name": "stdout",
     "output_type": "stream",
     "text": [
      "error: code=401\n",
      "url=https://api-us.faceplusplus.com/facepp/v3/compare\n",
      "b'{\"error_message\":\"AUTHENTICATION_ERROR\"}\\n'\n",
      "error: code=401\n",
      "url=https://api-us.faceplusplus.com/facepp/v3/compare\n",
      "b'{\"error_message\":\"AUTHENTICATION_ERROR\"}\\n'\n",
      "error: code=401\n",
      "url=https://api-us.faceplusplus.com/facepp/v3/compare\n",
      "b'{\"error_message\":\"AUTHENTICATION_ERROR\"}\\n'\n",
      "error: code=401\n",
      "url=https://api-us.faceplusplus.com/facepp/v3/compare\n",
      "b'{\"error_message\":\"AUTHENTICATION_ERROR\"}\\n'\n",
      "error: code=401\n",
      "url=https://api-us.faceplusplus.com/facepp/v3/compare\n",
      "b'{\"error_message\":\"AUTHENTICATION_ERROR\"}\\n'\n",
      "error: code=401\n",
      "url=https://api-us.faceplusplus.com/facepp/v3/compare\n",
      "b'{\"error_message\":\"AUTHENTICATION_ERROR\"}\\n'\n",
      "error: code=401\n",
      "url=https://api-us.faceplusplus.com/facepp/v3/compare\n",
      "b'{\"error_message\":\"AUTHENTICATION_ERROR\"}\\n'\n",
      "error: code=401\n",
      "url=https://api-us.faceplusplus.com/facepp/v3/compare\n",
      "b'{\"error_message\":\"AUTHENTICATION_ERROR\"}\\n'\n"
     ]
    },
    {
     "name": "stderr",
     "output_type": "stream",
     "text": [
      " 21%|██▏       | 161/750 [32:41<1:59:12, 12.14s/it]"
     ]
    },
    {
     "name": "stdout",
     "output_type": "stream",
     "text": [
      "error: code=401\n",
      "url=https://api-us.faceplusplus.com/facepp/v3/compare\n",
      "b'{\"error_message\":\"AUTHENTICATION_ERROR\"}\\n'\n",
      "error: code=401\n",
      "url=https://api-us.faceplusplus.com/facepp/v3/compare\n",
      "b'{\"error_message\":\"AUTHENTICATION_ERROR\"}\\n'\n",
      "error: code=401\n",
      "url=https://api-us.faceplusplus.com/facepp/v3/compare\n",
      "b'{\"error_message\":\"AUTHENTICATION_ERROR\"}\\n'\n",
      "error: code=401\n",
      "url=https://api-us.faceplusplus.com/facepp/v3/compare\n",
      "b'{\"error_message\":\"AUTHENTICATION_ERROR\"}\\n'\n",
      "error: code=401\n",
      "url=https://api-us.faceplusplus.com/facepp/v3/compare\n",
      "b'{\"error_message\":\"AUTHENTICATION_ERROR\"}\\n'\n",
      "error: code=401\n",
      "url=https://api-us.faceplusplus.com/facepp/v3/compare\n",
      "b'{\"error_message\":\"AUTHENTICATION_ERROR\"}\\n'\n",
      "error: code=401\n",
      "url=https://api-us.faceplusplus.com/facepp/v3/compare\n",
      "b'{\"error_message\":\"AUTHENTICATION_ERROR\"}\\n'\n",
      "error: code=401\n",
      "url=https://api-us.faceplusplus.com/facepp/v3/compare\n",
      "b'{\"error_message\":\"AUTHENTICATION_ERROR\"}\\n'\n"
     ]
    },
    {
     "name": "stderr",
     "output_type": "stream",
     "text": [
      " 22%|██▏       | 162/750 [32:53<1:59:17, 12.17s/it]"
     ]
    },
    {
     "name": "stdout",
     "output_type": "stream",
     "text": [
      "error: code=401\n",
      "url=https://api-us.faceplusplus.com/facepp/v3/compare\n",
      "b'{\"error_message\":\"AUTHENTICATION_ERROR\"}\\n'\n",
      "error: code=401\n",
      "url=https://api-us.faceplusplus.com/facepp/v3/compare\n",
      "b'{\"error_message\":\"AUTHENTICATION_ERROR\"}\\n'\n",
      "error: code=401\n",
      "url=https://api-us.faceplusplus.com/facepp/v3/compare\n",
      "b'{\"error_message\":\"AUTHENTICATION_ERROR\"}\\n'\n",
      "error: code=401\n",
      "url=https://api-us.faceplusplus.com/facepp/v3/compare\n",
      "b'{\"error_message\":\"AUTHENTICATION_ERROR\"}\\n'\n",
      "error: code=401\n",
      "url=https://api-us.faceplusplus.com/facepp/v3/compare\n",
      "b'{\"error_message\":\"AUTHENTICATION_ERROR\"}\\n'\n",
      "error: code=401\n",
      "url=https://api-us.faceplusplus.com/facepp/v3/compare\n",
      "b'{\"error_message\":\"AUTHENTICATION_ERROR\"}\\n'\n",
      "error: code=401\n",
      "url=https://api-us.faceplusplus.com/facepp/v3/compare\n",
      "b'{\"error_message\":\"AUTHENTICATION_ERROR\"}\\n'\n",
      "error: code=401\n",
      "url=https://api-us.faceplusplus.com/facepp/v3/compare\n",
      "b'{\"error_message\":\"AUTHENTICATION_ERROR\"}\\n'\n"
     ]
    },
    {
     "name": "stderr",
     "output_type": "stream",
     "text": [
      " 22%|██▏       | 163/750 [33:05<1:58:52, 12.15s/it]"
     ]
    },
    {
     "name": "stdout",
     "output_type": "stream",
     "text": [
      "error: code=401\n",
      "url=https://api-us.faceplusplus.com/facepp/v3/compare\n",
      "b'{\"error_message\":\"AUTHENTICATION_ERROR\"}\\n'\n",
      "error: code=401\n",
      "url=https://api-us.faceplusplus.com/facepp/v3/compare\n",
      "b'{\"error_message\":\"AUTHENTICATION_ERROR\"}\\n'\n",
      "error: code=401\n",
      "url=https://api-us.faceplusplus.com/facepp/v3/compare\n",
      "b'{\"error_message\":\"AUTHENTICATION_ERROR\"}\\n'\n",
      "error: code=401\n",
      "url=https://api-us.faceplusplus.com/facepp/v3/compare\n",
      "b'{\"error_message\":\"AUTHENTICATION_ERROR\"}\\n'\n",
      "error: code=401\n",
      "url=https://api-us.faceplusplus.com/facepp/v3/compare\n",
      "b'{\"error_message\":\"AUTHENTICATION_ERROR\"}\\n'\n",
      "error: code=401\n",
      "url=https://api-us.faceplusplus.com/facepp/v3/compare\n",
      "b'{\"error_message\":\"AUTHENTICATION_ERROR\"}\\n'\n",
      "error: code=401\n",
      "url=https://api-us.faceplusplus.com/facepp/v3/compare\n",
      "b'{\"error_message\":\"AUTHENTICATION_ERROR\"}\\n'\n",
      "error: code=401\n",
      "url=https://api-us.faceplusplus.com/facepp/v3/compare\n",
      "b'{\"error_message\":\"AUTHENTICATION_ERROR\"}\\n'\n"
     ]
    },
    {
     "name": "stderr",
     "output_type": "stream",
     "text": [
      " 22%|██▏       | 164/750 [33:18<1:59:15, 12.21s/it]"
     ]
    },
    {
     "name": "stdout",
     "output_type": "stream",
     "text": [
      "error: code=401\n",
      "url=https://api-us.faceplusplus.com/facepp/v3/compare\n",
      "b'{\"error_message\":\"AUTHENTICATION_ERROR\"}\\n'\n",
      "error: code=401\n",
      "url=https://api-us.faceplusplus.com/facepp/v3/compare\n",
      "b'{\"error_message\":\"AUTHENTICATION_ERROR\"}\\n'\n",
      "error: code=401\n",
      "url=https://api-us.faceplusplus.com/facepp/v3/compare\n",
      "b'{\"error_message\":\"AUTHENTICATION_ERROR\"}\\n'\n",
      "error: code=401\n",
      "url=https://api-us.faceplusplus.com/facepp/v3/compare\n",
      "b'{\"error_message\":\"AUTHENTICATION_ERROR\"}\\n'\n",
      "error: code=401\n",
      "url=https://api-us.faceplusplus.com/facepp/v3/compare\n",
      "b'{\"error_message\":\"AUTHENTICATION_ERROR\"}\\n'\n",
      "error: code=401\n",
      "url=https://api-us.faceplusplus.com/facepp/v3/compare\n",
      "b'{\"error_message\":\"AUTHENTICATION_ERROR\"}\\n'\n",
      "error: code=401\n",
      "url=https://api-us.faceplusplus.com/facepp/v3/compare\n",
      "b'{\"error_message\":\"AUTHENTICATION_ERROR\"}\\n'\n",
      "error: code=401\n",
      "url=https://api-us.faceplusplus.com/facepp/v3/compare\n",
      "b'{\"error_message\":\"AUTHENTICATION_ERROR\"}\\n'\n"
     ]
    },
    {
     "name": "stderr",
     "output_type": "stream",
     "text": [
      " 22%|██▏       | 165/750 [33:30<1:59:05, 12.22s/it]"
     ]
    },
    {
     "name": "stdout",
     "output_type": "stream",
     "text": [
      "error: code=401\n",
      "url=https://api-us.faceplusplus.com/facepp/v3/compare\n",
      "b'{\"error_message\":\"AUTHENTICATION_ERROR\"}\\n'\n",
      "error: code=401\n",
      "url=https://api-us.faceplusplus.com/facepp/v3/compare\n",
      "b'{\"error_message\":\"AUTHENTICATION_ERROR\"}\\n'\n",
      "error: code=401\n",
      "url=https://api-us.faceplusplus.com/facepp/v3/compare\n",
      "b'{\"error_message\":\"AUTHENTICATION_ERROR\"}\\n'\n",
      "error: code=401\n",
      "url=https://api-us.faceplusplus.com/facepp/v3/compare\n",
      "b'{\"error_message\":\"AUTHENTICATION_ERROR\"}\\n'\n",
      "error: code=401\n",
      "url=https://api-us.faceplusplus.com/facepp/v3/compare\n",
      "b'{\"error_message\":\"AUTHENTICATION_ERROR\"}\\n'\n",
      "error: code=401\n",
      "url=https://api-us.faceplusplus.com/facepp/v3/compare\n",
      "b'{\"error_message\":\"AUTHENTICATION_ERROR\"}\\n'\n",
      "error: code=401\n",
      "url=https://api-us.faceplusplus.com/facepp/v3/compare\n",
      "b'{\"error_message\":\"AUTHENTICATION_ERROR\"}\\n'\n",
      "error: code=401\n",
      "url=https://api-us.faceplusplus.com/facepp/v3/compare\n",
      "b'{\"error_message\":\"AUTHENTICATION_ERROR\"}\\n'\n"
     ]
    },
    {
     "name": "stderr",
     "output_type": "stream",
     "text": [
      " 22%|██▏       | 166/750 [33:42<1:58:29, 12.17s/it]"
     ]
    },
    {
     "name": "stdout",
     "output_type": "stream",
     "text": [
      "error: code=401\n",
      "url=https://api-us.faceplusplus.com/facepp/v3/compare\n",
      "b'{\"error_message\":\"AUTHENTICATION_ERROR\"}\\n'\n",
      "error: code=401\n",
      "url=https://api-us.faceplusplus.com/facepp/v3/compare\n",
      "b'{\"error_message\":\"AUTHENTICATION_ERROR\"}\\n'\n",
      "error: code=401\n",
      "url=https://api-us.faceplusplus.com/facepp/v3/compare\n",
      "b'{\"error_message\":\"AUTHENTICATION_ERROR\"}\\n'\n",
      "error: code=401\n",
      "url=https://api-us.faceplusplus.com/facepp/v3/compare\n",
      "b'{\"error_message\":\"AUTHENTICATION_ERROR\"}\\n'\n",
      "error: code=401\n",
      "url=https://api-us.faceplusplus.com/facepp/v3/compare\n",
      "b'{\"error_message\":\"AUTHENTICATION_ERROR\"}\\n'\n",
      "error: code=401\n",
      "url=https://api-us.faceplusplus.com/facepp/v3/compare\n",
      "b'{\"error_message\":\"AUTHENTICATION_ERROR\"}\\n'\n",
      "error: code=401\n",
      "url=https://api-us.faceplusplus.com/facepp/v3/compare\n",
      "b'{\"error_message\":\"AUTHENTICATION_ERROR\"}\\n'\n",
      "error: code=401\n",
      "url=https://api-us.faceplusplus.com/facepp/v3/compare\n",
      "b'{\"error_message\":\"AUTHENTICATION_ERROR\"}\\n'\n"
     ]
    },
    {
     "name": "stderr",
     "output_type": "stream",
     "text": [
      " 22%|██▏       | 167/750 [33:54<1:58:30, 12.20s/it]"
     ]
    },
    {
     "name": "stdout",
     "output_type": "stream",
     "text": [
      "error: code=401\n",
      "url=https://api-us.faceplusplus.com/facepp/v3/compare\n",
      "b'{\"error_message\":\"AUTHENTICATION_ERROR\"}\\n'\n",
      "error: code=401\n",
      "url=https://api-us.faceplusplus.com/facepp/v3/compare\n",
      "b'{\"error_message\":\"AUTHENTICATION_ERROR\"}\\n'\n",
      "error: code=401\n",
      "url=https://api-us.faceplusplus.com/facepp/v3/compare\n",
      "b'{\"error_message\":\"AUTHENTICATION_ERROR\"}\\n'\n",
      "error: code=401\n",
      "url=https://api-us.faceplusplus.com/facepp/v3/compare\n",
      "b'{\"error_message\":\"AUTHENTICATION_ERROR\"}\\n'\n",
      "error: code=401\n",
      "url=https://api-us.faceplusplus.com/facepp/v3/compare\n",
      "b'{\"error_message\":\"AUTHENTICATION_ERROR\"}\\n'\n",
      "error: code=401\n",
      "url=https://api-us.faceplusplus.com/facepp/v3/compare\n",
      "b'{\"error_message\":\"AUTHENTICATION_ERROR\"}\\n'\n",
      "error: code=401\n",
      "url=https://api-us.faceplusplus.com/facepp/v3/compare\n",
      "b'{\"error_message\":\"AUTHENTICATION_ERROR\"}\\n'\n",
      "error: code=401\n",
      "url=https://api-us.faceplusplus.com/facepp/v3/compare\n",
      "b'{\"error_message\":\"AUTHENTICATION_ERROR\"}\\n'\n"
     ]
    },
    {
     "name": "stderr",
     "output_type": "stream",
     "text": [
      " 22%|██▏       | 168/750 [34:07<1:58:32, 12.22s/it]"
     ]
    },
    {
     "name": "stdout",
     "output_type": "stream",
     "text": [
      "error: code=401\n",
      "url=https://api-us.faceplusplus.com/facepp/v3/compare\n",
      "b'{\"error_message\":\"AUTHENTICATION_ERROR\"}\\n'\n",
      "error: code=401\n",
      "url=https://api-us.faceplusplus.com/facepp/v3/compare\n",
      "b'{\"error_message\":\"AUTHENTICATION_ERROR\"}\\n'\n",
      "error: code=401\n",
      "url=https://api-us.faceplusplus.com/facepp/v3/compare\n",
      "b'{\"error_message\":\"AUTHENTICATION_ERROR\"}\\n'\n",
      "error: code=401\n",
      "url=https://api-us.faceplusplus.com/facepp/v3/compare\n",
      "b'{\"error_message\":\"AUTHENTICATION_ERROR\"}\\n'\n",
      "error: code=401\n",
      "url=https://api-us.faceplusplus.com/facepp/v3/compare\n",
      "b'{\"error_message\":\"AUTHENTICATION_ERROR\"}\\n'\n",
      "error: code=401\n",
      "url=https://api-us.faceplusplus.com/facepp/v3/compare\n",
      "b'{\"error_message\":\"AUTHENTICATION_ERROR\"}\\n'\n",
      "error: code=401\n",
      "url=https://api-us.faceplusplus.com/facepp/v3/compare\n",
      "b'{\"error_message\":\"AUTHENTICATION_ERROR\"}\\n'\n",
      "error: code=401\n",
      "url=https://api-us.faceplusplus.com/facepp/v3/compare\n",
      "b'{\"error_message\":\"AUTHENTICATION_ERROR\"}\\n'\n"
     ]
    },
    {
     "name": "stderr",
     "output_type": "stream",
     "text": [
      " 23%|██▎       | 169/750 [34:18<1:57:14, 12.11s/it]"
     ]
    },
    {
     "name": "stdout",
     "output_type": "stream",
     "text": [
      "error: code=401\n",
      "url=https://api-us.faceplusplus.com/facepp/v3/compare\n",
      "b'{\"error_message\":\"AUTHENTICATION_ERROR\"}\\n'\n",
      "error: code=401\n",
      "url=https://api-us.faceplusplus.com/facepp/v3/compare\n",
      "b'{\"error_message\":\"AUTHENTICATION_ERROR\"}\\n'\n",
      "error: code=401\n",
      "url=https://api-us.faceplusplus.com/facepp/v3/compare\n",
      "b'{\"error_message\":\"AUTHENTICATION_ERROR\"}\\n'\n",
      "error: code=401\n",
      "url=https://api-us.faceplusplus.com/facepp/v3/compare\n",
      "b'{\"error_message\":\"AUTHENTICATION_ERROR\"}\\n'\n",
      "error: code=401\n",
      "url=https://api-us.faceplusplus.com/facepp/v3/compare\n",
      "b'{\"error_message\":\"AUTHENTICATION_ERROR\"}\\n'\n",
      "error: code=401\n",
      "url=https://api-us.faceplusplus.com/facepp/v3/compare\n",
      "b'{\"error_message\":\"AUTHENTICATION_ERROR\"}\\n'\n",
      "error: code=401\n",
      "url=https://api-us.faceplusplus.com/facepp/v3/compare\n",
      "b'{\"error_message\":\"AUTHENTICATION_ERROR\"}\\n'\n",
      "error: code=401\n",
      "url=https://api-us.faceplusplus.com/facepp/v3/compare\n",
      "b'{\"error_message\":\"AUTHENTICATION_ERROR\"}\\n'\n"
     ]
    },
    {
     "name": "stderr",
     "output_type": "stream",
     "text": [
      " 23%|██▎       | 170/750 [34:31<1:57:19, 12.14s/it]"
     ]
    },
    {
     "name": "stdout",
     "output_type": "stream",
     "text": [
      "error: code=401\n",
      "url=https://api-us.faceplusplus.com/facepp/v3/compare\n",
      "b'{\"error_message\":\"AUTHENTICATION_ERROR\"}\\n'\n",
      "error: code=401\n",
      "url=https://api-us.faceplusplus.com/facepp/v3/compare\n",
      "b'{\"error_message\":\"AUTHENTICATION_ERROR\"}\\n'\n",
      "error: code=401\n",
      "url=https://api-us.faceplusplus.com/facepp/v3/compare\n",
      "b'{\"error_message\":\"AUTHENTICATION_ERROR\"}\\n'\n",
      "error: code=401\n",
      "url=https://api-us.faceplusplus.com/facepp/v3/compare\n",
      "b'{\"error_message\":\"AUTHENTICATION_ERROR\"}\\n'\n",
      "error: code=401\n",
      "url=https://api-us.faceplusplus.com/facepp/v3/compare\n",
      "b'{\"error_message\":\"AUTHENTICATION_ERROR\"}\\n'\n",
      "error: code=401\n",
      "url=https://api-us.faceplusplus.com/facepp/v3/compare\n",
      "b'{\"error_message\":\"AUTHENTICATION_ERROR\"}\\n'\n",
      "error: code=401\n",
      "url=https://api-us.faceplusplus.com/facepp/v3/compare\n",
      "b'{\"error_message\":\"AUTHENTICATION_ERROR\"}\\n'\n",
      "error: code=401\n",
      "url=https://api-us.faceplusplus.com/facepp/v3/compare\n",
      "b'{\"error_message\":\"AUTHENTICATION_ERROR\"}\\n'\n"
     ]
    },
    {
     "name": "stderr",
     "output_type": "stream",
     "text": [
      " 23%|██▎       | 171/750 [34:43<1:58:20, 12.26s/it]"
     ]
    },
    {
     "name": "stdout",
     "output_type": "stream",
     "text": [
      "error: code=401\n",
      "url=https://api-us.faceplusplus.com/facepp/v3/compare\n",
      "b'{\"error_message\":\"AUTHENTICATION_ERROR\"}\\n'\n",
      "error: code=401\n",
      "url=https://api-us.faceplusplus.com/facepp/v3/compare\n",
      "b'{\"error_message\":\"AUTHENTICATION_ERROR\"}\\n'\n",
      "error: code=401\n",
      "url=https://api-us.faceplusplus.com/facepp/v3/compare\n",
      "b'{\"error_message\":\"AUTHENTICATION_ERROR\"}\\n'\n",
      "error: code=401\n",
      "url=https://api-us.faceplusplus.com/facepp/v3/compare\n",
      "b'{\"error_message\":\"AUTHENTICATION_ERROR\"}\\n'\n",
      "error: code=401\n",
      "url=https://api-us.faceplusplus.com/facepp/v3/compare\n",
      "b'{\"error_message\":\"AUTHENTICATION_ERROR\"}\\n'\n",
      "error: code=401\n",
      "url=https://api-us.faceplusplus.com/facepp/v3/compare\n",
      "b'{\"error_message\":\"AUTHENTICATION_ERROR\"}\\n'\n",
      "error: code=401\n",
      "url=https://api-us.faceplusplus.com/facepp/v3/compare\n",
      "b'{\"error_message\":\"AUTHENTICATION_ERROR\"}\\n'\n",
      "error: code=401\n",
      "url=https://api-us.faceplusplus.com/facepp/v3/compare\n",
      "b'{\"error_message\":\"AUTHENTICATION_ERROR\"}\\n'\n"
     ]
    },
    {
     "name": "stderr",
     "output_type": "stream",
     "text": [
      " 23%|██▎       | 172/750 [34:55<1:57:18, 12.18s/it]"
     ]
    },
    {
     "name": "stdout",
     "output_type": "stream",
     "text": [
      "error: code=401\n",
      "url=https://api-us.faceplusplus.com/facepp/v3/compare\n",
      "b'{\"error_message\":\"AUTHENTICATION_ERROR\"}\\n'\n",
      "error: code=401\n",
      "url=https://api-us.faceplusplus.com/facepp/v3/compare\n",
      "b'{\"error_message\":\"AUTHENTICATION_ERROR\"}\\n'\n",
      "error: code=401\n",
      "url=https://api-us.faceplusplus.com/facepp/v3/compare\n",
      "b'{\"error_message\":\"AUTHENTICATION_ERROR\"}\\n'\n",
      "error: code=401\n",
      "url=https://api-us.faceplusplus.com/facepp/v3/compare\n",
      "b'{\"error_message\":\"AUTHENTICATION_ERROR\"}\\n'\n",
      "error: code=401\n",
      "url=https://api-us.faceplusplus.com/facepp/v3/compare\n",
      "b'{\"error_message\":\"AUTHENTICATION_ERROR\"}\\n'\n",
      "error: code=401\n",
      "url=https://api-us.faceplusplus.com/facepp/v3/compare\n",
      "b'{\"error_message\":\"AUTHENTICATION_ERROR\"}\\n'\n",
      "error: code=401\n",
      "url=https://api-us.faceplusplus.com/facepp/v3/compare\n",
      "b'{\"error_message\":\"AUTHENTICATION_ERROR\"}\\n'\n",
      "error: code=401\n",
      "url=https://api-us.faceplusplus.com/facepp/v3/compare\n",
      "b'{\"error_message\":\"AUTHENTICATION_ERROR\"}\\n'\n"
     ]
    },
    {
     "name": "stderr",
     "output_type": "stream",
     "text": [
      " 23%|██▎       | 173/750 [35:08<1:57:39, 12.24s/it]"
     ]
    },
    {
     "name": "stdout",
     "output_type": "stream",
     "text": [
      "error: code=401\n",
      "url=https://api-us.faceplusplus.com/facepp/v3/compare\n",
      "b'{\"error_message\":\"AUTHENTICATION_ERROR\"}\\n'\n",
      "error: code=401\n",
      "url=https://api-us.faceplusplus.com/facepp/v3/compare\n",
      "b'{\"error_message\":\"AUTHENTICATION_ERROR\"}\\n'\n",
      "error: code=401\n",
      "url=https://api-us.faceplusplus.com/facepp/v3/compare\n",
      "b'{\"error_message\":\"AUTHENTICATION_ERROR\"}\\n'\n",
      "error: code=401\n",
      "url=https://api-us.faceplusplus.com/facepp/v3/compare\n",
      "b'{\"error_message\":\"AUTHENTICATION_ERROR\"}\\n'\n",
      "error: code=401\n",
      "url=https://api-us.faceplusplus.com/facepp/v3/compare\n",
      "b'{\"error_message\":\"AUTHENTICATION_ERROR\"}\\n'\n",
      "error: code=401\n",
      "url=https://api-us.faceplusplus.com/facepp/v3/compare\n",
      "b'{\"error_message\":\"AUTHENTICATION_ERROR\"}\\n'\n",
      "error: code=401\n",
      "url=https://api-us.faceplusplus.com/facepp/v3/compare\n",
      "b'{\"error_message\":\"AUTHENTICATION_ERROR\"}\\n'\n",
      "error: code=401\n",
      "url=https://api-us.faceplusplus.com/facepp/v3/compare\n",
      "b'{\"error_message\":\"AUTHENTICATION_ERROR\"}\\n'\n"
     ]
    },
    {
     "name": "stderr",
     "output_type": "stream",
     "text": [
      " 23%|██▎       | 174/750 [35:20<1:57:13, 12.21s/it]"
     ]
    },
    {
     "name": "stdout",
     "output_type": "stream",
     "text": [
      "error: code=401\n",
      "url=https://api-us.faceplusplus.com/facepp/v3/compare\n",
      "b'{\"error_message\":\"AUTHENTICATION_ERROR\"}\\n'\n",
      "error: code=401\n",
      "url=https://api-us.faceplusplus.com/facepp/v3/compare\n",
      "b'{\"error_message\":\"AUTHENTICATION_ERROR\"}\\n'\n",
      "error: code=401\n",
      "url=https://api-us.faceplusplus.com/facepp/v3/compare\n",
      "b'{\"error_message\":\"AUTHENTICATION_ERROR\"}\\n'\n",
      "error: code=401\n",
      "url=https://api-us.faceplusplus.com/facepp/v3/compare\n",
      "b'{\"error_message\":\"AUTHENTICATION_ERROR\"}\\n'\n",
      "error: code=401\n",
      "url=https://api-us.faceplusplus.com/facepp/v3/compare\n",
      "b'{\"error_message\":\"AUTHENTICATION_ERROR\"}\\n'\n",
      "error: code=401\n",
      "url=https://api-us.faceplusplus.com/facepp/v3/compare\n",
      "b'{\"error_message\":\"AUTHENTICATION_ERROR\"}\\n'\n",
      "error: code=401\n",
      "url=https://api-us.faceplusplus.com/facepp/v3/compare\n",
      "b'{\"error_message\":\"AUTHENTICATION_ERROR\"}\\n'\n",
      "error: code=401\n",
      "url=https://api-us.faceplusplus.com/facepp/v3/compare\n",
      "b'{\"error_message\":\"AUTHENTICATION_ERROR\"}\\n'\n"
     ]
    },
    {
     "name": "stderr",
     "output_type": "stream",
     "text": [
      " 23%|██▎       | 175/750 [35:32<1:56:17, 12.13s/it]"
     ]
    },
    {
     "name": "stdout",
     "output_type": "stream",
     "text": [
      "error: code=401\n",
      "url=https://api-us.faceplusplus.com/facepp/v3/compare\n",
      "b'{\"error_message\":\"AUTHENTICATION_ERROR\"}\\n'\n",
      "error: code=401\n",
      "url=https://api-us.faceplusplus.com/facepp/v3/compare\n",
      "b'{\"error_message\":\"AUTHENTICATION_ERROR\"}\\n'\n",
      "error: code=401\n",
      "url=https://api-us.faceplusplus.com/facepp/v3/compare\n",
      "b'{\"error_message\":\"AUTHENTICATION_ERROR\"}\\n'\n",
      "error: code=401\n",
      "url=https://api-us.faceplusplus.com/facepp/v3/compare\n",
      "b'{\"error_message\":\"AUTHENTICATION_ERROR\"}\\n'\n",
      "error: code=401\n",
      "url=https://api-us.faceplusplus.com/facepp/v3/compare\n",
      "b'{\"error_message\":\"AUTHENTICATION_ERROR\"}\\n'\n",
      "error: code=401\n",
      "url=https://api-us.faceplusplus.com/facepp/v3/compare\n",
      "b'{\"error_message\":\"AUTHENTICATION_ERROR\"}\\n'\n",
      "error: code=401\n",
      "url=https://api-us.faceplusplus.com/facepp/v3/compare\n",
      "b'{\"error_message\":\"AUTHENTICATION_ERROR\"}\\n'\n",
      "error: code=401\n",
      "url=https://api-us.faceplusplus.com/facepp/v3/compare\n",
      "b'{\"error_message\":\"AUTHENTICATION_ERROR\"}\\n'\n"
     ]
    },
    {
     "name": "stderr",
     "output_type": "stream",
     "text": [
      " 23%|██▎       | 176/750 [35:44<1:55:40, 12.09s/it]"
     ]
    },
    {
     "name": "stdout",
     "output_type": "stream",
     "text": [
      "error: code=401\n",
      "url=https://api-us.faceplusplus.com/facepp/v3/compare\n",
      "b'{\"error_message\":\"AUTHENTICATION_ERROR\"}\\n'\n",
      "error: code=401\n",
      "url=https://api-us.faceplusplus.com/facepp/v3/compare\n",
      "b'{\"error_message\":\"AUTHENTICATION_ERROR\"}\\n'\n",
      "error: code=401\n",
      "url=https://api-us.faceplusplus.com/facepp/v3/compare\n",
      "b'{\"error_message\":\"AUTHENTICATION_ERROR\"}\\n'\n",
      "error: code=401\n",
      "url=https://api-us.faceplusplus.com/facepp/v3/compare\n",
      "b'{\"error_message\":\"AUTHENTICATION_ERROR\"}\\n'\n",
      "error: code=401\n",
      "url=https://api-us.faceplusplus.com/facepp/v3/compare\n",
      "b'{\"error_message\":\"AUTHENTICATION_ERROR\"}\\n'\n",
      "error: code=401\n",
      "url=https://api-us.faceplusplus.com/facepp/v3/compare\n",
      "b'{\"error_message\":\"AUTHENTICATION_ERROR\"}\\n'\n",
      "error: code=401\n",
      "url=https://api-us.faceplusplus.com/facepp/v3/compare\n",
      "b'{\"error_message\":\"AUTHENTICATION_ERROR\"}\\n'\n",
      "error: code=401\n",
      "url=https://api-us.faceplusplus.com/facepp/v3/compare\n",
      "b'{\"error_message\":\"AUTHENTICATION_ERROR\"}\\n'\n"
     ]
    },
    {
     "name": "stderr",
     "output_type": "stream",
     "text": [
      " 24%|██▎       | 177/750 [35:56<1:55:32, 12.10s/it]"
     ]
    },
    {
     "name": "stdout",
     "output_type": "stream",
     "text": [
      "error: code=401\n",
      "url=https://api-us.faceplusplus.com/facepp/v3/compare\n",
      "b'{\"error_message\":\"AUTHENTICATION_ERROR\"}\\n'\n",
      "error: code=401\n",
      "url=https://api-us.faceplusplus.com/facepp/v3/compare\n",
      "b'{\"error_message\":\"AUTHENTICATION_ERROR\"}\\n'\n",
      "error: code=401\n",
      "url=https://api-us.faceplusplus.com/facepp/v3/compare\n",
      "b'{\"error_message\":\"AUTHENTICATION_ERROR\"}\\n'\n",
      "error: code=401\n",
      "url=https://api-us.faceplusplus.com/facepp/v3/compare\n",
      "b'{\"error_message\":\"AUTHENTICATION_ERROR\"}\\n'\n",
      "error: code=401\n",
      "url=https://api-us.faceplusplus.com/facepp/v3/compare\n",
      "b'{\"error_message\":\"AUTHENTICATION_ERROR\"}\\n'\n",
      "error: code=401\n",
      "url=https://api-us.faceplusplus.com/facepp/v3/compare\n",
      "b'{\"error_message\":\"AUTHENTICATION_ERROR\"}\\n'\n",
      "error: code=401\n",
      "url=https://api-us.faceplusplus.com/facepp/v3/compare\n",
      "b'{\"error_message\":\"AUTHENTICATION_ERROR\"}\\n'\n",
      "error: code=401\n",
      "url=https://api-us.faceplusplus.com/facepp/v3/compare\n",
      "b'{\"error_message\":\"AUTHENTICATION_ERROR\"}\\n'\n"
     ]
    },
    {
     "name": "stderr",
     "output_type": "stream",
     "text": [
      " 24%|██▎       | 178/750 [36:08<1:55:10, 12.08s/it]"
     ]
    },
    {
     "name": "stdout",
     "output_type": "stream",
     "text": [
      "error: code=401\n",
      "url=https://api-us.faceplusplus.com/facepp/v3/compare\n",
      "b'{\"error_message\":\"AUTHENTICATION_ERROR\"}\\n'\n",
      "error: code=401\n",
      "url=https://api-us.faceplusplus.com/facepp/v3/compare\n",
      "b'{\"error_message\":\"AUTHENTICATION_ERROR\"}\\n'\n",
      "error: code=401\n",
      "url=https://api-us.faceplusplus.com/facepp/v3/compare\n",
      "b'{\"error_message\":\"AUTHENTICATION_ERROR\"}\\n'\n",
      "error: code=401\n",
      "url=https://api-us.faceplusplus.com/facepp/v3/compare\n",
      "b'{\"error_message\":\"AUTHENTICATION_ERROR\"}\\n'\n",
      "error: code=401\n",
      "url=https://api-us.faceplusplus.com/facepp/v3/compare\n",
      "b'{\"error_message\":\"AUTHENTICATION_ERROR\"}\\n'\n",
      "error: code=401\n",
      "url=https://api-us.faceplusplus.com/facepp/v3/compare\n",
      "b'{\"error_message\":\"AUTHENTICATION_ERROR\"}\\n'\n",
      "error: code=401\n",
      "url=https://api-us.faceplusplus.com/facepp/v3/compare\n",
      "b'{\"error_message\":\"AUTHENTICATION_ERROR\"}\\n'\n",
      "error: code=401\n",
      "url=https://api-us.faceplusplus.com/facepp/v3/compare\n",
      "b'{\"error_message\":\"AUTHENTICATION_ERROR\"}\\n'\n"
     ]
    },
    {
     "name": "stderr",
     "output_type": "stream",
     "text": [
      " 24%|██▍       | 179/750 [36:20<1:55:48, 12.17s/it]"
     ]
    },
    {
     "name": "stdout",
     "output_type": "stream",
     "text": [
      "error: code=401\n",
      "url=https://api-us.faceplusplus.com/facepp/v3/compare\n",
      "b'{\"error_message\":\"AUTHENTICATION_ERROR\"}\\n'\n",
      "error: code=401\n",
      "url=https://api-us.faceplusplus.com/facepp/v3/compare\n",
      "b'{\"error_message\":\"AUTHENTICATION_ERROR\"}\\n'\n",
      "error: code=401\n",
      "url=https://api-us.faceplusplus.com/facepp/v3/compare\n",
      "b'{\"error_message\":\"AUTHENTICATION_ERROR\"}\\n'\n",
      "error: code=401\n",
      "url=https://api-us.faceplusplus.com/facepp/v3/compare\n",
      "b'{\"error_message\":\"AUTHENTICATION_ERROR\"}\\n'\n",
      "error: code=401\n",
      "url=https://api-us.faceplusplus.com/facepp/v3/compare\n",
      "b'{\"error_message\":\"AUTHENTICATION_ERROR\"}\\n'\n",
      "error: code=401\n",
      "url=https://api-us.faceplusplus.com/facepp/v3/compare\n",
      "b'{\"error_message\":\"AUTHENTICATION_ERROR\"}\\n'\n",
      "error: code=401\n",
      "url=https://api-us.faceplusplus.com/facepp/v3/compare\n",
      "b'{\"error_message\":\"AUTHENTICATION_ERROR\"}\\n'\n",
      "error: code=401\n",
      "url=https://api-us.faceplusplus.com/facepp/v3/compare\n",
      "b'{\"error_message\":\"AUTHENTICATION_ERROR\"}\\n'\n"
     ]
    },
    {
     "name": "stderr",
     "output_type": "stream",
     "text": [
      " 24%|██▍       | 180/750 [36:32<1:55:03, 12.11s/it]"
     ]
    },
    {
     "name": "stdout",
     "output_type": "stream",
     "text": [
      "error: code=401\n",
      "url=https://api-us.faceplusplus.com/facepp/v3/compare\n",
      "b'{\"error_message\":\"AUTHENTICATION_ERROR\"}\\n'\n",
      "error: code=401\n",
      "url=https://api-us.faceplusplus.com/facepp/v3/compare\n",
      "b'{\"error_message\":\"AUTHENTICATION_ERROR\"}\\n'\n",
      "error: code=401\n",
      "url=https://api-us.faceplusplus.com/facepp/v3/compare\n",
      "b'{\"error_message\":\"AUTHENTICATION_ERROR\"}\\n'\n",
      "error: code=401\n",
      "url=https://api-us.faceplusplus.com/facepp/v3/compare\n",
      "b'{\"error_message\":\"AUTHENTICATION_ERROR\"}\\n'\n",
      "error: code=401\n",
      "url=https://api-us.faceplusplus.com/facepp/v3/compare\n",
      "b'{\"error_message\":\"AUTHENTICATION_ERROR\"}\\n'\n",
      "error: code=401\n",
      "url=https://api-us.faceplusplus.com/facepp/v3/compare\n",
      "b'{\"error_message\":\"AUTHENTICATION_ERROR\"}\\n'\n",
      "error: code=401\n",
      "url=https://api-us.faceplusplus.com/facepp/v3/compare\n",
      "b'{\"error_message\":\"AUTHENTICATION_ERROR\"}\\n'\n",
      "error: code=401\n",
      "url=https://api-us.faceplusplus.com/facepp/v3/compare\n",
      "b'{\"error_message\":\"AUTHENTICATION_ERROR\"}\\n'\n"
     ]
    },
    {
     "name": "stderr",
     "output_type": "stream",
     "text": [
      " 24%|██▍       | 181/750 [36:45<1:55:44, 12.21s/it]"
     ]
    },
    {
     "name": "stdout",
     "output_type": "stream",
     "text": [
      "error: code=401\n",
      "url=https://api-us.faceplusplus.com/facepp/v3/compare\n",
      "b'{\"error_message\":\"AUTHENTICATION_ERROR\"}\\n'\n",
      "error: code=401\n",
      "url=https://api-us.faceplusplus.com/facepp/v3/compare\n",
      "b'{\"error_message\":\"AUTHENTICATION_ERROR\"}\\n'\n",
      "error: code=401\n",
      "url=https://api-us.faceplusplus.com/facepp/v3/compare\n",
      "b'{\"error_message\":\"AUTHENTICATION_ERROR\"}\\n'\n",
      "error: code=401\n",
      "url=https://api-us.faceplusplus.com/facepp/v3/compare\n",
      "b'{\"error_message\":\"AUTHENTICATION_ERROR\"}\\n'\n",
      "error: code=401\n",
      "url=https://api-us.faceplusplus.com/facepp/v3/compare\n",
      "b'{\"error_message\":\"AUTHENTICATION_ERROR\"}\\n'\n",
      "error: code=401\n",
      "url=https://api-us.faceplusplus.com/facepp/v3/compare\n",
      "b'{\"error_message\":\"AUTHENTICATION_ERROR\"}\\n'\n",
      "error: code=401\n",
      "url=https://api-us.faceplusplus.com/facepp/v3/compare\n",
      "b'{\"error_message\":\"AUTHENTICATION_ERROR\"}\\n'\n",
      "error: code=401\n",
      "url=https://api-us.faceplusplus.com/facepp/v3/compare\n",
      "b'{\"error_message\":\"AUTHENTICATION_ERROR\"}\\n'\n"
     ]
    },
    {
     "name": "stderr",
     "output_type": "stream",
     "text": [
      " 24%|██▍       | 182/750 [36:57<1:55:56, 12.25s/it]"
     ]
    },
    {
     "name": "stdout",
     "output_type": "stream",
     "text": [
      "error: code=401\n",
      "url=https://api-us.faceplusplus.com/facepp/v3/compare\n",
      "b'{\"error_message\":\"AUTHENTICATION_ERROR\"}\\n'\n",
      "error: code=401\n",
      "url=https://api-us.faceplusplus.com/facepp/v3/compare\n",
      "b'{\"error_message\":\"AUTHENTICATION_ERROR\"}\\n'\n",
      "error: code=401\n",
      "url=https://api-us.faceplusplus.com/facepp/v3/compare\n",
      "b'{\"error_message\":\"AUTHENTICATION_ERROR\"}\\n'\n",
      "error: code=401\n",
      "url=https://api-us.faceplusplus.com/facepp/v3/compare\n",
      "b'{\"error_message\":\"AUTHENTICATION_ERROR\"}\\n'\n",
      "error: code=401\n",
      "url=https://api-us.faceplusplus.com/facepp/v3/compare\n",
      "b'{\"error_message\":\"AUTHENTICATION_ERROR\"}\\n'\n",
      "error: code=401\n",
      "url=https://api-us.faceplusplus.com/facepp/v3/compare\n",
      "b'{\"error_message\":\"AUTHENTICATION_ERROR\"}\\n'\n",
      "error: code=401\n",
      "url=https://api-us.faceplusplus.com/facepp/v3/compare\n",
      "b'{\"error_message\":\"AUTHENTICATION_ERROR\"}\\n'\n",
      "error: code=401\n",
      "url=https://api-us.faceplusplus.com/facepp/v3/compare\n",
      "b'{\"error_message\":\"AUTHENTICATION_ERROR\"}\\n'\n"
     ]
    },
    {
     "name": "stderr",
     "output_type": "stream",
     "text": [
      " 24%|██▍       | 183/750 [37:09<1:54:38, 12.13s/it]"
     ]
    },
    {
     "name": "stdout",
     "output_type": "stream",
     "text": [
      "error: code=401\n",
      "url=https://api-us.faceplusplus.com/facepp/v3/compare\n",
      "b'{\"error_message\":\"AUTHENTICATION_ERROR\"}\\n'\n",
      "error: code=401\n",
      "url=https://api-us.faceplusplus.com/facepp/v3/compare\n",
      "b'{\"error_message\":\"AUTHENTICATION_ERROR\"}\\n'\n",
      "error: code=401\n",
      "url=https://api-us.faceplusplus.com/facepp/v3/compare\n",
      "b'{\"error_message\":\"AUTHENTICATION_ERROR\"}\\n'\n",
      "error: code=401\n",
      "url=https://api-us.faceplusplus.com/facepp/v3/compare\n",
      "b'{\"error_message\":\"AUTHENTICATION_ERROR\"}\\n'\n",
      "error: code=401\n",
      "url=https://api-us.faceplusplus.com/facepp/v3/compare\n",
      "b'{\"error_message\":\"AUTHENTICATION_ERROR\"}\\n'\n",
      "error: code=401\n",
      "url=https://api-us.faceplusplus.com/facepp/v3/compare\n",
      "b'{\"error_message\":\"AUTHENTICATION_ERROR\"}\\n'\n",
      "error: code=401\n",
      "url=https://api-us.faceplusplus.com/facepp/v3/compare\n",
      "b'{\"error_message\":\"AUTHENTICATION_ERROR\"}\\n'\n",
      "error: code=401\n",
      "url=https://api-us.faceplusplus.com/facepp/v3/compare\n",
      "b'{\"error_message\":\"AUTHENTICATION_ERROR\"}\\n'\n"
     ]
    },
    {
     "name": "stderr",
     "output_type": "stream",
     "text": [
      " 25%|██▍       | 184/750 [37:21<1:55:05, 12.20s/it]"
     ]
    },
    {
     "name": "stdout",
     "output_type": "stream",
     "text": [
      "error: code=401\n",
      "url=https://api-us.faceplusplus.com/facepp/v3/compare\n",
      "b'{\"error_message\":\"AUTHENTICATION_ERROR\"}\\n'\n",
      "error: code=401\n",
      "url=https://api-us.faceplusplus.com/facepp/v3/compare\n",
      "b'{\"error_message\":\"AUTHENTICATION_ERROR\"}\\n'\n",
      "error: code=401\n",
      "url=https://api-us.faceplusplus.com/facepp/v3/compare\n",
      "b'{\"error_message\":\"AUTHENTICATION_ERROR\"}\\n'\n",
      "error: code=401\n",
      "url=https://api-us.faceplusplus.com/facepp/v3/compare\n",
      "b'{\"error_message\":\"AUTHENTICATION_ERROR\"}\\n'\n",
      "error: code=401\n",
      "url=https://api-us.faceplusplus.com/facepp/v3/compare\n",
      "b'{\"error_message\":\"AUTHENTICATION_ERROR\"}\\n'\n",
      "error: code=401\n",
      "url=https://api-us.faceplusplus.com/facepp/v3/compare\n",
      "b'{\"error_message\":\"AUTHENTICATION_ERROR\"}\\n'\n",
      "error: code=401\n",
      "url=https://api-us.faceplusplus.com/facepp/v3/compare\n",
      "b'{\"error_message\":\"AUTHENTICATION_ERROR\"}\\n'\n",
      "error: code=401\n",
      "url=https://api-us.faceplusplus.com/facepp/v3/compare\n",
      "b'{\"error_message\":\"AUTHENTICATION_ERROR\"}\\n'\n"
     ]
    },
    {
     "name": "stderr",
     "output_type": "stream",
     "text": [
      " 25%|██▍       | 185/750 [37:33<1:55:09, 12.23s/it]"
     ]
    },
    {
     "name": "stdout",
     "output_type": "stream",
     "text": [
      "error: code=401\n",
      "url=https://api-us.faceplusplus.com/facepp/v3/compare\n",
      "b'{\"error_message\":\"AUTHENTICATION_ERROR\"}\\n'\n",
      "error: code=401\n",
      "url=https://api-us.faceplusplus.com/facepp/v3/compare\n",
      "b'{\"error_message\":\"AUTHENTICATION_ERROR\"}\\n'\n",
      "error: code=401\n",
      "url=https://api-us.faceplusplus.com/facepp/v3/compare\n",
      "b'{\"error_message\":\"AUTHENTICATION_ERROR\"}\\n'\n",
      "error: code=401\n",
      "url=https://api-us.faceplusplus.com/facepp/v3/compare\n",
      "b'{\"error_message\":\"AUTHENTICATION_ERROR\"}\\n'\n",
      "error: code=401\n",
      "url=https://api-us.faceplusplus.com/facepp/v3/compare\n",
      "b'{\"error_message\":\"AUTHENTICATION_ERROR\"}\\n'\n",
      "error: code=401\n",
      "url=https://api-us.faceplusplus.com/facepp/v3/compare\n",
      "b'{\"error_message\":\"AUTHENTICATION_ERROR\"}\\n'\n",
      "error: code=401\n",
      "url=https://api-us.faceplusplus.com/facepp/v3/compare\n",
      "b'{\"error_message\":\"AUTHENTICATION_ERROR\"}\\n'\n",
      "error: code=401\n",
      "url=https://api-us.faceplusplus.com/facepp/v3/compare\n",
      "b'{\"error_message\":\"AUTHENTICATION_ERROR\"}\\n'\n"
     ]
    },
    {
     "name": "stderr",
     "output_type": "stream",
     "text": [
      " 25%|██▍       | 186/750 [37:45<1:54:20, 12.16s/it]"
     ]
    },
    {
     "name": "stdout",
     "output_type": "stream",
     "text": [
      "error: code=401\n",
      "url=https://api-us.faceplusplus.com/facepp/v3/compare\n",
      "b'{\"error_message\":\"AUTHENTICATION_ERROR\"}\\n'\n",
      "error: code=401\n",
      "url=https://api-us.faceplusplus.com/facepp/v3/compare\n",
      "b'{\"error_message\":\"AUTHENTICATION_ERROR\"}\\n'\n",
      "error: code=401\n",
      "url=https://api-us.faceplusplus.com/facepp/v3/compare\n",
      "b'{\"error_message\":\"AUTHENTICATION_ERROR\"}\\n'\n",
      "error: code=401\n",
      "url=https://api-us.faceplusplus.com/facepp/v3/compare\n",
      "b'{\"error_message\":\"AUTHENTICATION_ERROR\"}\\n'\n",
      "error: code=401\n",
      "url=https://api-us.faceplusplus.com/facepp/v3/compare\n",
      "b'{\"error_message\":\"AUTHENTICATION_ERROR\"}\\n'\n",
      "error: code=401\n",
      "url=https://api-us.faceplusplus.com/facepp/v3/compare\n",
      "b'{\"error_message\":\"AUTHENTICATION_ERROR\"}\\n'\n",
      "error: code=401\n",
      "url=https://api-us.faceplusplus.com/facepp/v3/compare\n",
      "b'{\"error_message\":\"AUTHENTICATION_ERROR\"}\\n'\n",
      "error: code=401\n",
      "url=https://api-us.faceplusplus.com/facepp/v3/compare\n",
      "b'{\"error_message\":\"AUTHENTICATION_ERROR\"}\\n'\n"
     ]
    },
    {
     "name": "stderr",
     "output_type": "stream",
     "text": [
      " 25%|██▍       | 187/750 [37:58<1:55:10, 12.27s/it]"
     ]
    },
    {
     "name": "stdout",
     "output_type": "stream",
     "text": [
      "error: code=401\n",
      "url=https://api-us.faceplusplus.com/facepp/v3/compare\n",
      "b'{\"error_message\":\"AUTHENTICATION_ERROR\"}\\n'\n",
      "error: code=401\n",
      "url=https://api-us.faceplusplus.com/facepp/v3/compare\n",
      "b'{\"error_message\":\"AUTHENTICATION_ERROR\"}\\n'\n",
      "error: code=401\n",
      "url=https://api-us.faceplusplus.com/facepp/v3/compare\n",
      "b'{\"error_message\":\"AUTHENTICATION_ERROR\"}\\n'\n",
      "error: code=401\n",
      "url=https://api-us.faceplusplus.com/facepp/v3/compare\n",
      "b'{\"error_message\":\"AUTHENTICATION_ERROR\"}\\n'\n",
      "error: code=401\n",
      "url=https://api-us.faceplusplus.com/facepp/v3/compare\n",
      "b'{\"error_message\":\"AUTHENTICATION_ERROR\"}\\n'\n",
      "error: code=401\n",
      "url=https://api-us.faceplusplus.com/facepp/v3/compare\n",
      "b'{\"error_message\":\"AUTHENTICATION_ERROR\"}\\n'\n",
      "error: code=401\n",
      "url=https://api-us.faceplusplus.com/facepp/v3/compare\n",
      "b'{\"error_message\":\"AUTHENTICATION_ERROR\"}\\n'\n",
      "error: code=401\n",
      "url=https://api-us.faceplusplus.com/facepp/v3/compare\n",
      "b'{\"error_message\":\"AUTHENTICATION_ERROR\"}\\n'\n"
     ]
    },
    {
     "name": "stderr",
     "output_type": "stream",
     "text": [
      " 25%|██▌       | 188/750 [38:10<1:54:54, 12.27s/it]"
     ]
    },
    {
     "name": "stdout",
     "output_type": "stream",
     "text": [
      "error: code=401\n",
      "url=https://api-us.faceplusplus.com/facepp/v3/compare\n",
      "b'{\"error_message\":\"AUTHENTICATION_ERROR\"}\\n'\n",
      "error: code=401\n",
      "url=https://api-us.faceplusplus.com/facepp/v3/compare\n",
      "b'{\"error_message\":\"AUTHENTICATION_ERROR\"}\\n'\n",
      "error: code=401\n",
      "url=https://api-us.faceplusplus.com/facepp/v3/compare\n",
      "b'{\"error_message\":\"AUTHENTICATION_ERROR\"}\\n'\n",
      "error: code=401\n",
      "url=https://api-us.faceplusplus.com/facepp/v3/compare\n",
      "b'{\"error_message\":\"AUTHENTICATION_ERROR\"}\\n'\n",
      "error: code=401\n",
      "url=https://api-us.faceplusplus.com/facepp/v3/compare\n",
      "b'{\"error_message\":\"AUTHENTICATION_ERROR\"}\\n'\n",
      "error: code=401\n",
      "url=https://api-us.faceplusplus.com/facepp/v3/compare\n",
      "b'{\"error_message\":\"AUTHENTICATION_ERROR\"}\\n'\n",
      "error: code=401\n",
      "url=https://api-us.faceplusplus.com/facepp/v3/compare\n",
      "b'{\"error_message\":\"AUTHENTICATION_ERROR\"}\\n'\n",
      "error: code=401\n",
      "url=https://api-us.faceplusplus.com/facepp/v3/compare\n",
      "b'{\"error_message\":\"AUTHENTICATION_ERROR\"}\\n'\n"
     ]
    },
    {
     "name": "stderr",
     "output_type": "stream",
     "text": [
      " 25%|██▌       | 189/750 [38:23<1:55:12, 12.32s/it]"
     ]
    },
    {
     "name": "stdout",
     "output_type": "stream",
     "text": [
      "error: code=401\n",
      "url=https://api-us.faceplusplus.com/facepp/v3/compare\n",
      "b'{\"error_message\":\"AUTHENTICATION_ERROR\"}\\n'\n",
      "error: code=401\n",
      "url=https://api-us.faceplusplus.com/facepp/v3/compare\n",
      "b'{\"error_message\":\"AUTHENTICATION_ERROR\"}\\n'\n",
      "error: code=401\n",
      "url=https://api-us.faceplusplus.com/facepp/v3/compare\n",
      "b'{\"error_message\":\"AUTHENTICATION_ERROR\"}\\n'\n",
      "error: code=401\n",
      "url=https://api-us.faceplusplus.com/facepp/v3/compare\n",
      "b'{\"error_message\":\"AUTHENTICATION_ERROR\"}\\n'\n",
      "error: code=401\n",
      "url=https://api-us.faceplusplus.com/facepp/v3/compare\n",
      "b'{\"error_message\":\"AUTHENTICATION_ERROR\"}\\n'\n",
      "error: code=401\n",
      "url=https://api-us.faceplusplus.com/facepp/v3/compare\n",
      "b'{\"error_message\":\"AUTHENTICATION_ERROR\"}\\n'\n",
      "error: code=401\n",
      "url=https://api-us.faceplusplus.com/facepp/v3/compare\n",
      "b'{\"error_message\":\"AUTHENTICATION_ERROR\"}\\n'\n",
      "error: code=401\n",
      "url=https://api-us.faceplusplus.com/facepp/v3/compare\n",
      "b'{\"error_message\":\"AUTHENTICATION_ERROR\"}\\n'\n"
     ]
    },
    {
     "name": "stderr",
     "output_type": "stream",
     "text": [
      " 25%|██▌       | 190/750 [38:35<1:54:37, 12.28s/it]"
     ]
    },
    {
     "name": "stdout",
     "output_type": "stream",
     "text": [
      "error: code=401\n",
      "url=https://api-us.faceplusplus.com/facepp/v3/compare\n",
      "b'{\"error_message\":\"AUTHENTICATION_ERROR\"}\\n'\n",
      "error: code=401\n",
      "url=https://api-us.faceplusplus.com/facepp/v3/compare\n",
      "b'{\"error_message\":\"AUTHENTICATION_ERROR\"}\\n'\n",
      "error: code=401\n",
      "url=https://api-us.faceplusplus.com/facepp/v3/compare\n",
      "b'{\"error_message\":\"AUTHENTICATION_ERROR\"}\\n'\n",
      "error: code=401\n",
      "url=https://api-us.faceplusplus.com/facepp/v3/compare\n",
      "b'{\"error_message\":\"AUTHENTICATION_ERROR\"}\\n'\n",
      "error: code=401\n",
      "url=https://api-us.faceplusplus.com/facepp/v3/compare\n",
      "b'{\"error_message\":\"AUTHENTICATION_ERROR\"}\\n'\n",
      "error: code=401\n",
      "url=https://api-us.faceplusplus.com/facepp/v3/compare\n",
      "b'{\"error_message\":\"AUTHENTICATION_ERROR\"}\\n'\n",
      "error: code=401\n",
      "url=https://api-us.faceplusplus.com/facepp/v3/compare\n",
      "b'{\"error_message\":\"AUTHENTICATION_ERROR\"}\\n'\n",
      "error: code=401\n",
      "url=https://api-us.faceplusplus.com/facepp/v3/compare\n",
      "b'{\"error_message\":\"AUTHENTICATION_ERROR\"}\\n'\n"
     ]
    },
    {
     "name": "stderr",
     "output_type": "stream",
     "text": [
      " 25%|██▌       | 191/750 [38:48<1:56:47, 12.54s/it]"
     ]
    },
    {
     "name": "stdout",
     "output_type": "stream",
     "text": [
      "error: code=401\n",
      "url=https://api-us.faceplusplus.com/facepp/v3/compare\n",
      "b'{\"error_message\":\"AUTHENTICATION_ERROR\"}\\n'\n",
      "error: code=401\n",
      "url=https://api-us.faceplusplus.com/facepp/v3/compare\n",
      "b'{\"error_message\":\"AUTHENTICATION_ERROR\"}\\n'\n",
      "error: code=401\n",
      "url=https://api-us.faceplusplus.com/facepp/v3/compare\n",
      "b'{\"error_message\":\"AUTHENTICATION_ERROR\"}\\n'\n",
      "error: code=401\n",
      "url=https://api-us.faceplusplus.com/facepp/v3/compare\n",
      "b'{\"error_message\":\"AUTHENTICATION_ERROR\"}\\n'\n",
      "error: code=401\n",
      "url=https://api-us.faceplusplus.com/facepp/v3/compare\n",
      "b'{\"error_message\":\"AUTHENTICATION_ERROR\"}\\n'\n",
      "error: code=401\n",
      "url=https://api-us.faceplusplus.com/facepp/v3/compare\n",
      "b'{\"error_message\":\"AUTHENTICATION_ERROR\"}\\n'\n",
      "error: code=401\n",
      "url=https://api-us.faceplusplus.com/facepp/v3/compare\n",
      "b'{\"error_message\":\"AUTHENTICATION_ERROR\"}\\n'\n",
      "error: code=401\n",
      "url=https://api-us.faceplusplus.com/facepp/v3/compare\n",
      "b'{\"error_message\":\"AUTHENTICATION_ERROR\"}\\n'\n"
     ]
    },
    {
     "name": "stderr",
     "output_type": "stream",
     "text": [
      " 26%|██▌       | 192/750 [39:01<1:56:29, 12.53s/it]"
     ]
    },
    {
     "name": "stdout",
     "output_type": "stream",
     "text": [
      "error: code=401\n",
      "url=https://api-us.faceplusplus.com/facepp/v3/compare\n",
      "b'{\"error_message\":\"AUTHENTICATION_ERROR\"}\\n'\n",
      "error: code=401\n",
      "url=https://api-us.faceplusplus.com/facepp/v3/compare\n",
      "b'{\"error_message\":\"AUTHENTICATION_ERROR\"}\\n'\n",
      "error: code=401\n",
      "url=https://api-us.faceplusplus.com/facepp/v3/compare\n",
      "b'{\"error_message\":\"AUTHENTICATION_ERROR\"}\\n'\n",
      "error: code=401\n",
      "url=https://api-us.faceplusplus.com/facepp/v3/compare\n",
      "b'{\"error_message\":\"AUTHENTICATION_ERROR\"}\\n'\n",
      "error: code=401\n",
      "url=https://api-us.faceplusplus.com/facepp/v3/compare\n",
      "b'{\"error_message\":\"AUTHENTICATION_ERROR\"}\\n'\n",
      "error: code=401\n",
      "url=https://api-us.faceplusplus.com/facepp/v3/compare\n",
      "b'{\"error_message\":\"AUTHENTICATION_ERROR\"}\\n'\n",
      "error: code=401\n",
      "url=https://api-us.faceplusplus.com/facepp/v3/compare\n",
      "b'{\"error_message\":\"AUTHENTICATION_ERROR\"}\\n'\n",
      "error: code=401\n",
      "url=https://api-us.faceplusplus.com/facepp/v3/compare\n",
      "b'{\"error_message\":\"AUTHENTICATION_ERROR\"}\\n'\n"
     ]
    },
    {
     "name": "stderr",
     "output_type": "stream",
     "text": [
      " 26%|██▌       | 193/750 [39:13<1:55:15, 12.41s/it]"
     ]
    },
    {
     "name": "stdout",
     "output_type": "stream",
     "text": [
      "error: code=401\n",
      "url=https://api-us.faceplusplus.com/facepp/v3/compare\n",
      "b'{\"error_message\":\"AUTHENTICATION_ERROR\"}\\n'\n",
      "error: code=401\n",
      "url=https://api-us.faceplusplus.com/facepp/v3/compare\n",
      "b'{\"error_message\":\"AUTHENTICATION_ERROR\"}\\n'\n",
      "error: code=401\n",
      "url=https://api-us.faceplusplus.com/facepp/v3/compare\n",
      "b'{\"error_message\":\"AUTHENTICATION_ERROR\"}\\n'\n",
      "error: code=401\n",
      "url=https://api-us.faceplusplus.com/facepp/v3/compare\n",
      "b'{\"error_message\":\"AUTHENTICATION_ERROR\"}\\n'\n",
      "error: code=401\n",
      "url=https://api-us.faceplusplus.com/facepp/v3/compare\n",
      "b'{\"error_message\":\"AUTHENTICATION_ERROR\"}\\n'\n",
      "error: code=401\n",
      "url=https://api-us.faceplusplus.com/facepp/v3/compare\n",
      "b'{\"error_message\":\"AUTHENTICATION_ERROR\"}\\n'\n",
      "error: code=401\n",
      "url=https://api-us.faceplusplus.com/facepp/v3/compare\n",
      "b'{\"error_message\":\"AUTHENTICATION_ERROR\"}\\n'\n",
      "error: code=401\n",
      "url=https://api-us.faceplusplus.com/facepp/v3/compare\n",
      "b'{\"error_message\":\"AUTHENTICATION_ERROR\"}\\n'\n"
     ]
    },
    {
     "name": "stderr",
     "output_type": "stream",
     "text": [
      " 26%|██▌       | 194/750 [39:25<1:55:44, 12.49s/it]"
     ]
    },
    {
     "name": "stdout",
     "output_type": "stream",
     "text": [
      "error: code=401\n",
      "url=https://api-us.faceplusplus.com/facepp/v3/compare\n",
      "b'{\"error_message\":\"AUTHENTICATION_ERROR\"}\\n'\n",
      "error: code=401\n",
      "url=https://api-us.faceplusplus.com/facepp/v3/compare\n",
      "b'{\"error_message\":\"AUTHENTICATION_ERROR\"}\\n'\n",
      "error: code=401\n",
      "url=https://api-us.faceplusplus.com/facepp/v3/compare\n",
      "b'{\"error_message\":\"AUTHENTICATION_ERROR\"}\\n'\n",
      "error: code=401\n",
      "url=https://api-us.faceplusplus.com/facepp/v3/compare\n",
      "b'{\"error_message\":\"AUTHENTICATION_ERROR\"}\\n'\n",
      "error: code=401\n",
      "url=https://api-us.faceplusplus.com/facepp/v3/compare\n",
      "b'{\"error_message\":\"AUTHENTICATION_ERROR\"}\\n'\n",
      "error: code=401\n",
      "url=https://api-us.faceplusplus.com/facepp/v3/compare\n",
      "b'{\"error_message\":\"AUTHENTICATION_ERROR\"}\\n'\n",
      "error: code=401\n",
      "url=https://api-us.faceplusplus.com/facepp/v3/compare\n",
      "b'{\"error_message\":\"AUTHENTICATION_ERROR\"}\\n'\n",
      "error: code=401\n",
      "url=https://api-us.faceplusplus.com/facepp/v3/compare\n",
      "b'{\"error_message\":\"AUTHENTICATION_ERROR\"}\\n'\n"
     ]
    },
    {
     "name": "stderr",
     "output_type": "stream",
     "text": [
      " 26%|██▌       | 195/750 [39:38<1:55:19, 12.47s/it]"
     ]
    },
    {
     "name": "stdout",
     "output_type": "stream",
     "text": [
      "error: code=401\n",
      "url=https://api-us.faceplusplus.com/facepp/v3/compare\n",
      "b'{\"error_message\":\"AUTHENTICATION_ERROR\"}\\n'\n",
      "error: code=401\n",
      "url=https://api-us.faceplusplus.com/facepp/v3/compare\n",
      "b'{\"error_message\":\"AUTHENTICATION_ERROR\"}\\n'\n",
      "error: code=401\n",
      "url=https://api-us.faceplusplus.com/facepp/v3/compare\n",
      "b'{\"error_message\":\"AUTHENTICATION_ERROR\"}\\n'\n",
      "error: code=401\n",
      "url=https://api-us.faceplusplus.com/facepp/v3/compare\n",
      "b'{\"error_message\":\"AUTHENTICATION_ERROR\"}\\n'\n",
      "error: code=401\n",
      "url=https://api-us.faceplusplus.com/facepp/v3/compare\n",
      "b'{\"error_message\":\"AUTHENTICATION_ERROR\"}\\n'\n",
      "error: code=401\n",
      "url=https://api-us.faceplusplus.com/facepp/v3/compare\n",
      "b'{\"error_message\":\"AUTHENTICATION_ERROR\"}\\n'\n",
      "error: code=401\n",
      "url=https://api-us.faceplusplus.com/facepp/v3/compare\n",
      "b'{\"error_message\":\"AUTHENTICATION_ERROR\"}\\n'\n",
      "error: code=401\n",
      "url=https://api-us.faceplusplus.com/facepp/v3/compare\n",
      "b'{\"error_message\":\"AUTHENTICATION_ERROR\"}\\n'\n"
     ]
    },
    {
     "name": "stderr",
     "output_type": "stream",
     "text": [
      " 26%|██▌       | 196/750 [39:50<1:55:11, 12.47s/it]"
     ]
    },
    {
     "name": "stdout",
     "output_type": "stream",
     "text": [
      "error: code=401\n",
      "url=https://api-us.faceplusplus.com/facepp/v3/compare\n",
      "b'{\"error_message\":\"AUTHENTICATION_ERROR\"}\\n'\n",
      "error: code=401\n",
      "url=https://api-us.faceplusplus.com/facepp/v3/compare\n",
      "b'{\"error_message\":\"AUTHENTICATION_ERROR\"}\\n'\n",
      "error: code=401\n",
      "url=https://api-us.faceplusplus.com/facepp/v3/compare\n",
      "b'{\"error_message\":\"AUTHENTICATION_ERROR\"}\\n'\n",
      "error: code=401\n",
      "url=https://api-us.faceplusplus.com/facepp/v3/compare\n",
      "b'{\"error_message\":\"AUTHENTICATION_ERROR\"}\\n'\n",
      "error: code=401\n",
      "url=https://api-us.faceplusplus.com/facepp/v3/compare\n",
      "b'{\"error_message\":\"AUTHENTICATION_ERROR\"}\\n'\n",
      "error: code=401\n",
      "url=https://api-us.faceplusplus.com/facepp/v3/compare\n",
      "b'{\"error_message\":\"AUTHENTICATION_ERROR\"}\\n'\n",
      "error: code=401\n",
      "url=https://api-us.faceplusplus.com/facepp/v3/compare\n",
      "b'{\"error_message\":\"AUTHENTICATION_ERROR\"}\\n'\n",
      "error: code=401\n",
      "url=https://api-us.faceplusplus.com/facepp/v3/compare\n",
      "b'{\"error_message\":\"AUTHENTICATION_ERROR\"}\\n'\n"
     ]
    },
    {
     "name": "stderr",
     "output_type": "stream",
     "text": [
      " 26%|██▋       | 197/750 [40:02<1:53:38, 12.33s/it]"
     ]
    },
    {
     "name": "stdout",
     "output_type": "stream",
     "text": [
      "error: code=401\n",
      "url=https://api-us.faceplusplus.com/facepp/v3/compare\n",
      "b'{\"error_message\":\"AUTHENTICATION_ERROR\"}\\n'\n",
      "error: code=401\n",
      "url=https://api-us.faceplusplus.com/facepp/v3/compare\n",
      "b'{\"error_message\":\"AUTHENTICATION_ERROR\"}\\n'\n",
      "error: code=401\n",
      "url=https://api-us.faceplusplus.com/facepp/v3/compare\n",
      "b'{\"error_message\":\"AUTHENTICATION_ERROR\"}\\n'\n",
      "error: code=401\n",
      "url=https://api-us.faceplusplus.com/facepp/v3/compare\n",
      "b'{\"error_message\":\"AUTHENTICATION_ERROR\"}\\n'\n",
      "error: code=401\n",
      "url=https://api-us.faceplusplus.com/facepp/v3/compare\n",
      "b'{\"error_message\":\"AUTHENTICATION_ERROR\"}\\n'\n",
      "error: code=401\n",
      "url=https://api-us.faceplusplus.com/facepp/v3/compare\n",
      "b'{\"error_message\":\"AUTHENTICATION_ERROR\"}\\n'\n",
      "error: code=401\n",
      "url=https://api-us.faceplusplus.com/facepp/v3/compare\n",
      "b'{\"error_message\":\"AUTHENTICATION_ERROR\"}\\n'\n",
      "error: code=401\n",
      "url=https://api-us.faceplusplus.com/facepp/v3/compare\n",
      "b'{\"error_message\":\"AUTHENTICATION_ERROR\"}\\n'\n"
     ]
    },
    {
     "name": "stderr",
     "output_type": "stream",
     "text": [
      " 26%|██▋       | 198/750 [40:15<1:53:29, 12.34s/it]"
     ]
    },
    {
     "name": "stdout",
     "output_type": "stream",
     "text": [
      "error: code=401\n",
      "url=https://api-us.faceplusplus.com/facepp/v3/compare\n",
      "b'{\"error_message\":\"AUTHENTICATION_ERROR\"}\\n'\n",
      "error: code=401\n",
      "url=https://api-us.faceplusplus.com/facepp/v3/compare\n",
      "b'{\"error_message\":\"AUTHENTICATION_ERROR\"}\\n'\n",
      "error: code=401\n",
      "url=https://api-us.faceplusplus.com/facepp/v3/compare\n",
      "b'{\"error_message\":\"AUTHENTICATION_ERROR\"}\\n'\n",
      "error: code=401\n",
      "url=https://api-us.faceplusplus.com/facepp/v3/compare\n",
      "b'{\"error_message\":\"AUTHENTICATION_ERROR\"}\\n'\n",
      "error: code=401\n",
      "url=https://api-us.faceplusplus.com/facepp/v3/compare\n",
      "b'{\"error_message\":\"AUTHENTICATION_ERROR\"}\\n'\n",
      "error: code=401\n",
      "url=https://api-us.faceplusplus.com/facepp/v3/compare\n",
      "b'{\"error_message\":\"AUTHENTICATION_ERROR\"}\\n'\n",
      "error: code=401\n",
      "url=https://api-us.faceplusplus.com/facepp/v3/compare\n",
      "b'{\"error_message\":\"AUTHENTICATION_ERROR\"}\\n'\n",
      "error: code=401\n",
      "url=https://api-us.faceplusplus.com/facepp/v3/compare\n",
      "b'{\"error_message\":\"AUTHENTICATION_ERROR\"}\\n'\n"
     ]
    },
    {
     "name": "stderr",
     "output_type": "stream",
     "text": [
      " 27%|██▋       | 199/750 [40:27<1:52:20, 12.23s/it]"
     ]
    },
    {
     "name": "stdout",
     "output_type": "stream",
     "text": [
      "error: code=401\n",
      "url=https://api-us.faceplusplus.com/facepp/v3/compare\n",
      "b'{\"error_message\":\"AUTHENTICATION_ERROR\"}\\n'\n",
      "error: code=401\n",
      "url=https://api-us.faceplusplus.com/facepp/v3/compare\n",
      "b'{\"error_message\":\"AUTHENTICATION_ERROR\"}\\n'\n",
      "error: code=401\n",
      "url=https://api-us.faceplusplus.com/facepp/v3/compare\n",
      "b'{\"error_message\":\"AUTHENTICATION_ERROR\"}\\n'\n",
      "error: code=401\n",
      "url=https://api-us.faceplusplus.com/facepp/v3/compare\n",
      "b'{\"error_message\":\"AUTHENTICATION_ERROR\"}\\n'\n",
      "error: code=401\n",
      "url=https://api-us.faceplusplus.com/facepp/v3/compare\n",
      "b'{\"error_message\":\"AUTHENTICATION_ERROR\"}\\n'\n",
      "error: code=401\n",
      "url=https://api-us.faceplusplus.com/facepp/v3/compare\n",
      "b'{\"error_message\":\"AUTHENTICATION_ERROR\"}\\n'\n",
      "error: code=401\n",
      "url=https://api-us.faceplusplus.com/facepp/v3/compare\n",
      "b'{\"error_message\":\"AUTHENTICATION_ERROR\"}\\n'\n",
      "error: code=401\n",
      "url=https://api-us.faceplusplus.com/facepp/v3/compare\n",
      "b'{\"error_message\":\"AUTHENTICATION_ERROR\"}\\n'\n"
     ]
    },
    {
     "name": "stderr",
     "output_type": "stream",
     "text": [
      " 27%|██▋       | 200/750 [40:39<1:51:39, 12.18s/it]"
     ]
    },
    {
     "name": "stdout",
     "output_type": "stream",
     "text": [
      "error: code=401\n",
      "url=https://api-us.faceplusplus.com/facepp/v3/compare\n",
      "b'{\"error_message\":\"AUTHENTICATION_ERROR\"}\\n'\n",
      "error: code=401\n",
      "url=https://api-us.faceplusplus.com/facepp/v3/compare\n",
      "b'{\"error_message\":\"AUTHENTICATION_ERROR\"}\\n'\n",
      "error: code=401\n",
      "url=https://api-us.faceplusplus.com/facepp/v3/compare\n",
      "b'{\"error_message\":\"AUTHENTICATION_ERROR\"}\\n'\n",
      "error: code=401\n",
      "url=https://api-us.faceplusplus.com/facepp/v3/compare\n",
      "b'{\"error_message\":\"AUTHENTICATION_ERROR\"}\\n'\n",
      "error: code=401\n",
      "url=https://api-us.faceplusplus.com/facepp/v3/compare\n",
      "b'{\"error_message\":\"AUTHENTICATION_ERROR\"}\\n'\n",
      "error: code=401\n",
      "url=https://api-us.faceplusplus.com/facepp/v3/compare\n",
      "b'{\"error_message\":\"AUTHENTICATION_ERROR\"}\\n'\n",
      "error: code=401\n",
      "url=https://api-us.faceplusplus.com/facepp/v3/compare\n",
      "b'{\"error_message\":\"AUTHENTICATION_ERROR\"}\\n'\n",
      "error: code=401\n",
      "url=https://api-us.faceplusplus.com/facepp/v3/compare\n",
      "b'{\"error_message\":\"AUTHENTICATION_ERROR\"}\\n'\n"
     ]
    },
    {
     "name": "stderr",
     "output_type": "stream",
     "text": [
      " 27%|██▋       | 201/750 [40:51<1:51:58, 12.24s/it]"
     ]
    },
    {
     "name": "stdout",
     "output_type": "stream",
     "text": [
      "error: code=401\n",
      "url=https://api-us.faceplusplus.com/facepp/v3/compare\n",
      "b'{\"error_message\":\"AUTHENTICATION_ERROR\"}\\n'\n",
      "error: code=401\n",
      "url=https://api-us.faceplusplus.com/facepp/v3/compare\n",
      "b'{\"error_message\":\"AUTHENTICATION_ERROR\"}\\n'\n",
      "error: code=401\n",
      "url=https://api-us.faceplusplus.com/facepp/v3/compare\n",
      "b'{\"error_message\":\"AUTHENTICATION_ERROR\"}\\n'\n",
      "error: code=401\n",
      "url=https://api-us.faceplusplus.com/facepp/v3/compare\n",
      "b'{\"error_message\":\"AUTHENTICATION_ERROR\"}\\n'\n",
      "error: code=401\n",
      "url=https://api-us.faceplusplus.com/facepp/v3/compare\n",
      "b'{\"error_message\":\"AUTHENTICATION_ERROR\"}\\n'\n",
      "error: code=401\n",
      "url=https://api-us.faceplusplus.com/facepp/v3/compare\n",
      "b'{\"error_message\":\"AUTHENTICATION_ERROR\"}\\n'\n",
      "error: code=401\n",
      "url=https://api-us.faceplusplus.com/facepp/v3/compare\n",
      "b'{\"error_message\":\"AUTHENTICATION_ERROR\"}\\n'\n",
      "error: code=401\n",
      "url=https://api-us.faceplusplus.com/facepp/v3/compare\n",
      "b'{\"error_message\":\"AUTHENTICATION_ERROR\"}\\n'\n"
     ]
    },
    {
     "name": "stderr",
     "output_type": "stream",
     "text": [
      " 27%|██▋       | 202/750 [41:03<1:52:15, 12.29s/it]"
     ]
    },
    {
     "name": "stdout",
     "output_type": "stream",
     "text": [
      "error: code=401\n",
      "url=https://api-us.faceplusplus.com/facepp/v3/compare\n",
      "b'{\"error_message\":\"AUTHENTICATION_ERROR\"}\\n'\n",
      "error: code=401\n",
      "url=https://api-us.faceplusplus.com/facepp/v3/compare\n",
      "b'{\"error_message\":\"AUTHENTICATION_ERROR\"}\\n'\n",
      "error: code=401\n",
      "url=https://api-us.faceplusplus.com/facepp/v3/compare\n",
      "b'{\"error_message\":\"AUTHENTICATION_ERROR\"}\\n'\n",
      "error: code=401\n",
      "url=https://api-us.faceplusplus.com/facepp/v3/compare\n",
      "b'{\"error_message\":\"AUTHENTICATION_ERROR\"}\\n'\n",
      "error: code=401\n",
      "url=https://api-us.faceplusplus.com/facepp/v3/compare\n",
      "b'{\"error_message\":\"AUTHENTICATION_ERROR\"}\\n'\n",
      "error: code=401\n",
      "url=https://api-us.faceplusplus.com/facepp/v3/compare\n",
      "b'{\"error_message\":\"AUTHENTICATION_ERROR\"}\\n'\n",
      "error: code=401\n",
      "url=https://api-us.faceplusplus.com/facepp/v3/compare\n",
      "b'{\"error_message\":\"AUTHENTICATION_ERROR\"}\\n'\n",
      "error: code=401\n",
      "url=https://api-us.faceplusplus.com/facepp/v3/compare\n",
      "b'{\"error_message\":\"AUTHENTICATION_ERROR\"}\\n'\n"
     ]
    },
    {
     "name": "stderr",
     "output_type": "stream",
     "text": [
      " 27%|██▋       | 203/750 [41:16<1:51:48, 12.26s/it]"
     ]
    },
    {
     "name": "stdout",
     "output_type": "stream",
     "text": [
      "error: code=401\n",
      "url=https://api-us.faceplusplus.com/facepp/v3/compare\n",
      "b'{\"error_message\":\"AUTHENTICATION_ERROR\"}\\n'\n",
      "error: code=401\n",
      "url=https://api-us.faceplusplus.com/facepp/v3/compare\n",
      "b'{\"error_message\":\"AUTHENTICATION_ERROR\"}\\n'\n",
      "error: code=401\n",
      "url=https://api-us.faceplusplus.com/facepp/v3/compare\n",
      "b'{\"error_message\":\"AUTHENTICATION_ERROR\"}\\n'\n",
      "error: code=401\n",
      "url=https://api-us.faceplusplus.com/facepp/v3/compare\n",
      "b'{\"error_message\":\"AUTHENTICATION_ERROR\"}\\n'\n",
      "error: code=401\n",
      "url=https://api-us.faceplusplus.com/facepp/v3/compare\n",
      "b'{\"error_message\":\"AUTHENTICATION_ERROR\"}\\n'\n",
      "error: code=401\n",
      "url=https://api-us.faceplusplus.com/facepp/v3/compare\n",
      "b'{\"error_message\":\"AUTHENTICATION_ERROR\"}\\n'\n",
      "error: code=401\n",
      "url=https://api-us.faceplusplus.com/facepp/v3/compare\n",
      "b'{\"error_message\":\"AUTHENTICATION_ERROR\"}\\n'\n",
      "error: code=401\n",
      "url=https://api-us.faceplusplus.com/facepp/v3/compare\n",
      "b'{\"error_message\":\"AUTHENTICATION_ERROR\"}\\n'\n"
     ]
    },
    {
     "name": "stderr",
     "output_type": "stream",
     "text": [
      " 27%|██▋       | 204/750 [41:28<1:51:21, 12.24s/it]"
     ]
    },
    {
     "name": "stdout",
     "output_type": "stream",
     "text": [
      "error: code=401\n",
      "url=https://api-us.faceplusplus.com/facepp/v3/compare\n",
      "b'{\"error_message\":\"AUTHENTICATION_ERROR\"}\\n'\n",
      "error: code=401\n",
      "url=https://api-us.faceplusplus.com/facepp/v3/compare\n",
      "b'{\"error_message\":\"AUTHENTICATION_ERROR\"}\\n'\n",
      "error: code=401\n",
      "url=https://api-us.faceplusplus.com/facepp/v3/compare\n",
      "b'{\"error_message\":\"AUTHENTICATION_ERROR\"}\\n'\n",
      "error: code=401\n",
      "url=https://api-us.faceplusplus.com/facepp/v3/compare\n",
      "b'{\"error_message\":\"AUTHENTICATION_ERROR\"}\\n'\n",
      "error: code=401\n",
      "url=https://api-us.faceplusplus.com/facepp/v3/compare\n",
      "b'{\"error_message\":\"AUTHENTICATION_ERROR\"}\\n'\n",
      "error: code=401\n",
      "url=https://api-us.faceplusplus.com/facepp/v3/compare\n",
      "b'{\"error_message\":\"AUTHENTICATION_ERROR\"}\\n'\n",
      "error: code=401\n",
      "url=https://api-us.faceplusplus.com/facepp/v3/compare\n",
      "b'{\"error_message\":\"AUTHENTICATION_ERROR\"}\\n'\n",
      "error: code=401\n",
      "url=https://api-us.faceplusplus.com/facepp/v3/compare\n",
      "b'{\"error_message\":\"AUTHENTICATION_ERROR\"}\\n'\n"
     ]
    },
    {
     "name": "stderr",
     "output_type": "stream",
     "text": [
      " 27%|██▋       | 205/750 [41:40<1:51:50, 12.31s/it]"
     ]
    },
    {
     "name": "stdout",
     "output_type": "stream",
     "text": [
      "error: code=401\n",
      "url=https://api-us.faceplusplus.com/facepp/v3/compare\n",
      "b'{\"error_message\":\"AUTHENTICATION_ERROR\"}\\n'\n",
      "error: code=401\n",
      "url=https://api-us.faceplusplus.com/facepp/v3/compare\n",
      "b'{\"error_message\":\"AUTHENTICATION_ERROR\"}\\n'\n",
      "error: code=401\n",
      "url=https://api-us.faceplusplus.com/facepp/v3/compare\n",
      "b'{\"error_message\":\"AUTHENTICATION_ERROR\"}\\n'\n",
      "error: code=401\n",
      "url=https://api-us.faceplusplus.com/facepp/v3/compare\n",
      "b'{\"error_message\":\"AUTHENTICATION_ERROR\"}\\n'\n",
      "error: code=401\n",
      "url=https://api-us.faceplusplus.com/facepp/v3/compare\n",
      "b'{\"error_message\":\"AUTHENTICATION_ERROR\"}\\n'\n",
      "error: code=401\n",
      "url=https://api-us.faceplusplus.com/facepp/v3/compare\n",
      "b'{\"error_message\":\"AUTHENTICATION_ERROR\"}\\n'\n",
      "error: code=401\n",
      "url=https://api-us.faceplusplus.com/facepp/v3/compare\n",
      "b'{\"error_message\":\"AUTHENTICATION_ERROR\"}\\n'\n",
      "error: code=401\n",
      "url=https://api-us.faceplusplus.com/facepp/v3/compare\n",
      "b'{\"error_message\":\"AUTHENTICATION_ERROR\"}\\n'\n"
     ]
    },
    {
     "name": "stderr",
     "output_type": "stream",
     "text": [
      " 27%|██▋       | 206/750 [41:53<1:52:01, 12.36s/it]"
     ]
    },
    {
     "name": "stdout",
     "output_type": "stream",
     "text": [
      "error: code=401\n",
      "url=https://api-us.faceplusplus.com/facepp/v3/compare\n",
      "b'{\"error_message\":\"AUTHENTICATION_ERROR\"}\\n'\n",
      "error: code=401\n",
      "url=https://api-us.faceplusplus.com/facepp/v3/compare\n",
      "b'{\"error_message\":\"AUTHENTICATION_ERROR\"}\\n'\n",
      "error: code=401\n",
      "url=https://api-us.faceplusplus.com/facepp/v3/compare\n",
      "b'{\"error_message\":\"AUTHENTICATION_ERROR\"}\\n'\n",
      "error: code=401\n",
      "url=https://api-us.faceplusplus.com/facepp/v3/compare\n",
      "b'{\"error_message\":\"AUTHENTICATION_ERROR\"}\\n'\n",
      "error: code=401\n",
      "url=https://api-us.faceplusplus.com/facepp/v3/compare\n",
      "b'{\"error_message\":\"AUTHENTICATION_ERROR\"}\\n'\n",
      "error: code=401\n",
      "url=https://api-us.faceplusplus.com/facepp/v3/compare\n",
      "b'{\"error_message\":\"AUTHENTICATION_ERROR\"}\\n'\n",
      "error: code=401\n",
      "url=https://api-us.faceplusplus.com/facepp/v3/compare\n",
      "b'{\"error_message\":\"AUTHENTICATION_ERROR\"}\\n'\n",
      "error: code=401\n",
      "url=https://api-us.faceplusplus.com/facepp/v3/compare\n",
      "b'{\"error_message\":\"AUTHENTICATION_ERROR\"}\\n'\n"
     ]
    },
    {
     "name": "stderr",
     "output_type": "stream",
     "text": [
      " 28%|██▊       | 207/750 [42:05<1:50:56, 12.26s/it]"
     ]
    },
    {
     "name": "stdout",
     "output_type": "stream",
     "text": [
      "error: code=401\n",
      "url=https://api-us.faceplusplus.com/facepp/v3/compare\n",
      "b'{\"error_message\":\"AUTHENTICATION_ERROR\"}\\n'\n",
      "error: code=401\n",
      "url=https://api-us.faceplusplus.com/facepp/v3/compare\n",
      "b'{\"error_message\":\"AUTHENTICATION_ERROR\"}\\n'\n",
      "error: code=401\n",
      "url=https://api-us.faceplusplus.com/facepp/v3/compare\n",
      "b'{\"error_message\":\"AUTHENTICATION_ERROR\"}\\n'\n",
      "error: code=401\n",
      "url=https://api-us.faceplusplus.com/facepp/v3/compare\n",
      "b'{\"error_message\":\"AUTHENTICATION_ERROR\"}\\n'\n",
      "error: code=401\n",
      "url=https://api-us.faceplusplus.com/facepp/v3/compare\n",
      "b'{\"error_message\":\"AUTHENTICATION_ERROR\"}\\n'\n",
      "error: code=401\n",
      "url=https://api-us.faceplusplus.com/facepp/v3/compare\n",
      "b'{\"error_message\":\"AUTHENTICATION_ERROR\"}\\n'\n",
      "error: code=401\n",
      "url=https://api-us.faceplusplus.com/facepp/v3/compare\n",
      "b'{\"error_message\":\"AUTHENTICATION_ERROR\"}\\n'\n",
      "error: code=401\n",
      "url=https://api-us.faceplusplus.com/facepp/v3/compare\n",
      "b'{\"error_message\":\"AUTHENTICATION_ERROR\"}\\n'\n"
     ]
    },
    {
     "name": "stderr",
     "output_type": "stream",
     "text": [
      " 28%|██▊       | 208/750 [42:17<1:50:33, 12.24s/it]"
     ]
    },
    {
     "name": "stdout",
     "output_type": "stream",
     "text": [
      "error: code=401\n",
      "url=https://api-us.faceplusplus.com/facepp/v3/compare\n",
      "b'{\"error_message\":\"AUTHENTICATION_ERROR\"}\\n'\n",
      "error: code=401\n",
      "url=https://api-us.faceplusplus.com/facepp/v3/compare\n",
      "b'{\"error_message\":\"AUTHENTICATION_ERROR\"}\\n'\n",
      "error: code=401\n",
      "url=https://api-us.faceplusplus.com/facepp/v3/compare\n",
      "b'{\"error_message\":\"AUTHENTICATION_ERROR\"}\\n'\n",
      "error: code=401\n",
      "url=https://api-us.faceplusplus.com/facepp/v3/compare\n",
      "b'{\"error_message\":\"AUTHENTICATION_ERROR\"}\\n'\n",
      "error: code=401\n",
      "url=https://api-us.faceplusplus.com/facepp/v3/compare\n",
      "b'{\"error_message\":\"AUTHENTICATION_ERROR\"}\\n'\n",
      "error: code=401\n",
      "url=https://api-us.faceplusplus.com/facepp/v3/compare\n",
      "b'{\"error_message\":\"AUTHENTICATION_ERROR\"}\\n'\n",
      "error: code=401\n",
      "url=https://api-us.faceplusplus.com/facepp/v3/compare\n",
      "b'{\"error_message\":\"AUTHENTICATION_ERROR\"}\\n'\n",
      "error: code=401\n",
      "url=https://api-us.faceplusplus.com/facepp/v3/compare\n",
      "b'{\"error_message\":\"AUTHENTICATION_ERROR\"}\\n'\n"
     ]
    },
    {
     "name": "stderr",
     "output_type": "stream",
     "text": [
      " 28%|██▊       | 209/750 [42:29<1:50:34, 12.26s/it]"
     ]
    },
    {
     "name": "stdout",
     "output_type": "stream",
     "text": [
      "error: code=401\n",
      "url=https://api-us.faceplusplus.com/facepp/v3/compare\n",
      "b'{\"error_message\":\"AUTHENTICATION_ERROR\"}\\n'\n",
      "error: code=401\n",
      "url=https://api-us.faceplusplus.com/facepp/v3/compare\n",
      "b'{\"error_message\":\"AUTHENTICATION_ERROR\"}\\n'\n",
      "error: code=401\n",
      "url=https://api-us.faceplusplus.com/facepp/v3/compare\n",
      "b'{\"error_message\":\"AUTHENTICATION_ERROR\"}\\n'\n",
      "error: code=401\n",
      "url=https://api-us.faceplusplus.com/facepp/v3/compare\n",
      "b'{\"error_message\":\"AUTHENTICATION_ERROR\"}\\n'\n",
      "error: code=401\n",
      "url=https://api-us.faceplusplus.com/facepp/v3/compare\n",
      "b'{\"error_message\":\"AUTHENTICATION_ERROR\"}\\n'\n",
      "error: code=401\n",
      "url=https://api-us.faceplusplus.com/facepp/v3/compare\n",
      "b'{\"error_message\":\"AUTHENTICATION_ERROR\"}\\n'\n",
      "error: code=401\n",
      "url=https://api-us.faceplusplus.com/facepp/v3/compare\n",
      "b'{\"error_message\":\"AUTHENTICATION_ERROR\"}\\n'\n",
      "error: code=401\n",
      "url=https://api-us.faceplusplus.com/facepp/v3/compare\n",
      "b'{\"error_message\":\"AUTHENTICATION_ERROR\"}\\n'\n"
     ]
    },
    {
     "name": "stderr",
     "output_type": "stream",
     "text": [
      " 28%|██▊       | 210/750 [42:41<1:49:29, 12.17s/it]"
     ]
    },
    {
     "name": "stdout",
     "output_type": "stream",
     "text": [
      "error: code=401\n",
      "url=https://api-us.faceplusplus.com/facepp/v3/compare\n",
      "b'{\"error_message\":\"AUTHENTICATION_ERROR\"}\\n'\n",
      "error: code=401\n",
      "url=https://api-us.faceplusplus.com/facepp/v3/compare\n",
      "b'{\"error_message\":\"AUTHENTICATION_ERROR\"}\\n'\n",
      "error: code=401\n",
      "url=https://api-us.faceplusplus.com/facepp/v3/compare\n",
      "b'{\"error_message\":\"AUTHENTICATION_ERROR\"}\\n'\n",
      "error: code=401\n",
      "url=https://api-us.faceplusplus.com/facepp/v3/compare\n",
      "b'{\"error_message\":\"AUTHENTICATION_ERROR\"}\\n'\n",
      "error: code=401\n",
      "url=https://api-us.faceplusplus.com/facepp/v3/compare\n",
      "b'{\"error_message\":\"AUTHENTICATION_ERROR\"}\\n'\n",
      "error: code=401\n",
      "url=https://api-us.faceplusplus.com/facepp/v3/compare\n",
      "b'{\"error_message\":\"AUTHENTICATION_ERROR\"}\\n'\n",
      "error: code=401\n",
      "url=https://api-us.faceplusplus.com/facepp/v3/compare\n",
      "b'{\"error_message\":\"AUTHENTICATION_ERROR\"}\\n'\n",
      "error: code=401\n",
      "url=https://api-us.faceplusplus.com/facepp/v3/compare\n",
      "b'{\"error_message\":\"AUTHENTICATION_ERROR\"}\\n'\n"
     ]
    },
    {
     "name": "stderr",
     "output_type": "stream",
     "text": [
      " 28%|██▊       | 211/750 [42:53<1:49:06, 12.15s/it]"
     ]
    },
    {
     "name": "stdout",
     "output_type": "stream",
     "text": [
      "error: code=401\n",
      "url=https://api-us.faceplusplus.com/facepp/v3/compare\n",
      "b'{\"error_message\":\"AUTHENTICATION_ERROR\"}\\n'\n",
      "error: code=401\n",
      "url=https://api-us.faceplusplus.com/facepp/v3/compare\n",
      "b'{\"error_message\":\"AUTHENTICATION_ERROR\"}\\n'\n",
      "error: code=401\n",
      "url=https://api-us.faceplusplus.com/facepp/v3/compare\n",
      "b'{\"error_message\":\"AUTHENTICATION_ERROR\"}\\n'\n",
      "error: code=401\n",
      "url=https://api-us.faceplusplus.com/facepp/v3/compare\n",
      "b'{\"error_message\":\"AUTHENTICATION_ERROR\"}\\n'\n",
      "error: code=401\n",
      "url=https://api-us.faceplusplus.com/facepp/v3/compare\n",
      "b'{\"error_message\":\"AUTHENTICATION_ERROR\"}\\n'\n",
      "error: code=401\n",
      "url=https://api-us.faceplusplus.com/facepp/v3/compare\n",
      "b'{\"error_message\":\"AUTHENTICATION_ERROR\"}\\n'\n",
      "error: code=401\n",
      "url=https://api-us.faceplusplus.com/facepp/v3/compare\n",
      "b'{\"error_message\":\"AUTHENTICATION_ERROR\"}\\n'\n",
      "error: code=401\n",
      "url=https://api-us.faceplusplus.com/facepp/v3/compare\n",
      "b'{\"error_message\":\"AUTHENTICATION_ERROR\"}\\n'\n"
     ]
    },
    {
     "name": "stderr",
     "output_type": "stream",
     "text": [
      " 28%|██▊       | 212/750 [43:06<1:49:13, 12.18s/it]"
     ]
    },
    {
     "name": "stdout",
     "output_type": "stream",
     "text": [
      "error: code=401\n",
      "url=https://api-us.faceplusplus.com/facepp/v3/compare\n",
      "b'{\"error_message\":\"AUTHENTICATION_ERROR\"}\\n'\n",
      "error: code=401\n",
      "url=https://api-us.faceplusplus.com/facepp/v3/compare\n",
      "b'{\"error_message\":\"AUTHENTICATION_ERROR\"}\\n'\n",
      "error: code=401\n",
      "url=https://api-us.faceplusplus.com/facepp/v3/compare\n",
      "b'{\"error_message\":\"AUTHENTICATION_ERROR\"}\\n'\n",
      "error: code=401\n",
      "url=https://api-us.faceplusplus.com/facepp/v3/compare\n",
      "b'{\"error_message\":\"AUTHENTICATION_ERROR\"}\\n'\n",
      "error: code=401\n",
      "url=https://api-us.faceplusplus.com/facepp/v3/compare\n",
      "b'{\"error_message\":\"AUTHENTICATION_ERROR\"}\\n'\n",
      "error: code=401\n",
      "url=https://api-us.faceplusplus.com/facepp/v3/compare\n",
      "b'{\"error_message\":\"AUTHENTICATION_ERROR\"}\\n'\n",
      "error: code=401\n",
      "url=https://api-us.faceplusplus.com/facepp/v3/compare\n",
      "b'{\"error_message\":\"AUTHENTICATION_ERROR\"}\\n'\n",
      "error: code=401\n",
      "url=https://api-us.faceplusplus.com/facepp/v3/compare\n",
      "b'{\"error_message\":\"AUTHENTICATION_ERROR\"}\\n'\n"
     ]
    },
    {
     "name": "stderr",
     "output_type": "stream",
     "text": [
      " 28%|██▊       | 213/750 [43:18<1:50:17, 12.32s/it]"
     ]
    },
    {
     "name": "stdout",
     "output_type": "stream",
     "text": [
      "error: code=401\n",
      "url=https://api-us.faceplusplus.com/facepp/v3/compare\n",
      "b'{\"error_message\":\"AUTHENTICATION_ERROR\"}\\n'\n",
      "error: code=401\n",
      "url=https://api-us.faceplusplus.com/facepp/v3/compare\n",
      "b'{\"error_message\":\"AUTHENTICATION_ERROR\"}\\n'\n",
      "error: code=401\n",
      "url=https://api-us.faceplusplus.com/facepp/v3/compare\n",
      "b'{\"error_message\":\"AUTHENTICATION_ERROR\"}\\n'\n",
      "error: code=401\n",
      "url=https://api-us.faceplusplus.com/facepp/v3/compare\n",
      "b'{\"error_message\":\"AUTHENTICATION_ERROR\"}\\n'\n",
      "error: code=401\n",
      "url=https://api-us.faceplusplus.com/facepp/v3/compare\n",
      "b'{\"error_message\":\"AUTHENTICATION_ERROR\"}\\n'\n",
      "error: code=401\n",
      "url=https://api-us.faceplusplus.com/facepp/v3/compare\n",
      "b'{\"error_message\":\"AUTHENTICATION_ERROR\"}\\n'\n",
      "error: code=401\n",
      "url=https://api-us.faceplusplus.com/facepp/v3/compare\n",
      "b'{\"error_message\":\"AUTHENTICATION_ERROR\"}\\n'\n",
      "error: code=401\n",
      "url=https://api-us.faceplusplus.com/facepp/v3/compare\n",
      "b'{\"error_message\":\"AUTHENTICATION_ERROR\"}\\n'\n"
     ]
    },
    {
     "name": "stderr",
     "output_type": "stream",
     "text": [
      " 29%|██▊       | 214/750 [43:30<1:49:35, 12.27s/it]"
     ]
    },
    {
     "name": "stdout",
     "output_type": "stream",
     "text": [
      "error: code=401\n",
      "url=https://api-us.faceplusplus.com/facepp/v3/compare\n",
      "b'{\"error_message\":\"AUTHENTICATION_ERROR\"}\\n'\n",
      "error: code=401\n",
      "url=https://api-us.faceplusplus.com/facepp/v3/compare\n",
      "b'{\"error_message\":\"AUTHENTICATION_ERROR\"}\\n'\n",
      "error: code=401\n",
      "url=https://api-us.faceplusplus.com/facepp/v3/compare\n",
      "b'{\"error_message\":\"AUTHENTICATION_ERROR\"}\\n'\n",
      "error: code=401\n",
      "url=https://api-us.faceplusplus.com/facepp/v3/compare\n",
      "b'{\"error_message\":\"AUTHENTICATION_ERROR\"}\\n'\n",
      "error: code=401\n",
      "url=https://api-us.faceplusplus.com/facepp/v3/compare\n",
      "b'{\"error_message\":\"AUTHENTICATION_ERROR\"}\\n'\n",
      "error: code=401\n",
      "url=https://api-us.faceplusplus.com/facepp/v3/compare\n",
      "b'{\"error_message\":\"AUTHENTICATION_ERROR\"}\\n'\n",
      "error: code=401\n",
      "url=https://api-us.faceplusplus.com/facepp/v3/compare\n",
      "b'{\"error_message\":\"AUTHENTICATION_ERROR\"}\\n'\n",
      "error: code=401\n",
      "url=https://api-us.faceplusplus.com/facepp/v3/compare\n",
      "b'{\"error_message\":\"AUTHENTICATION_ERROR\"}\\n'\n"
     ]
    },
    {
     "name": "stderr",
     "output_type": "stream",
     "text": [
      " 29%|██▊       | 215/750 [43:43<1:49:51, 12.32s/it]"
     ]
    },
    {
     "name": "stdout",
     "output_type": "stream",
     "text": [
      "error: code=401\n",
      "url=https://api-us.faceplusplus.com/facepp/v3/compare\n",
      "b'{\"error_message\":\"AUTHENTICATION_ERROR\"}\\n'\n",
      "error: code=401\n",
      "url=https://api-us.faceplusplus.com/facepp/v3/compare\n",
      "b'{\"error_message\":\"AUTHENTICATION_ERROR\"}\\n'\n",
      "error: code=401\n",
      "url=https://api-us.faceplusplus.com/facepp/v3/compare\n",
      "b'{\"error_message\":\"AUTHENTICATION_ERROR\"}\\n'\n",
      "error: code=401\n",
      "url=https://api-us.faceplusplus.com/facepp/v3/compare\n",
      "b'{\"error_message\":\"AUTHENTICATION_ERROR\"}\\n'\n",
      "error: code=401\n",
      "url=https://api-us.faceplusplus.com/facepp/v3/compare\n",
      "b'{\"error_message\":\"AUTHENTICATION_ERROR\"}\\n'\n",
      "error: code=401\n",
      "url=https://api-us.faceplusplus.com/facepp/v3/compare\n",
      "b'{\"error_message\":\"AUTHENTICATION_ERROR\"}\\n'\n",
      "error: code=401\n",
      "url=https://api-us.faceplusplus.com/facepp/v3/compare\n",
      "b'{\"error_message\":\"AUTHENTICATION_ERROR\"}\\n'\n",
      "error: code=401\n",
      "url=https://api-us.faceplusplus.com/facepp/v3/compare\n",
      "b'{\"error_message\":\"AUTHENTICATION_ERROR\"}\\n'\n"
     ]
    },
    {
     "name": "stderr",
     "output_type": "stream",
     "text": [
      " 29%|██▉       | 216/750 [43:55<1:48:54, 12.24s/it]"
     ]
    },
    {
     "name": "stdout",
     "output_type": "stream",
     "text": [
      "error: code=401\n",
      "url=https://api-us.faceplusplus.com/facepp/v3/compare\n",
      "b'{\"error_message\":\"AUTHENTICATION_ERROR\"}\\n'\n",
      "error: code=401\n",
      "url=https://api-us.faceplusplus.com/facepp/v3/compare\n",
      "b'{\"error_message\":\"AUTHENTICATION_ERROR\"}\\n'\n",
      "error: code=401\n",
      "url=https://api-us.faceplusplus.com/facepp/v3/compare\n",
      "b'{\"error_message\":\"AUTHENTICATION_ERROR\"}\\n'\n",
      "error: code=401\n",
      "url=https://api-us.faceplusplus.com/facepp/v3/compare\n",
      "b'{\"error_message\":\"AUTHENTICATION_ERROR\"}\\n'\n",
      "error: code=401\n",
      "url=https://api-us.faceplusplus.com/facepp/v3/compare\n",
      "b'{\"error_message\":\"AUTHENTICATION_ERROR\"}\\n'\n",
      "error: code=401\n",
      "url=https://api-us.faceplusplus.com/facepp/v3/compare\n",
      "b'{\"error_message\":\"AUTHENTICATION_ERROR\"}\\n'\n",
      "error: code=401\n",
      "url=https://api-us.faceplusplus.com/facepp/v3/compare\n",
      "b'{\"error_message\":\"AUTHENTICATION_ERROR\"}\\n'\n",
      "error: code=401\n",
      "url=https://api-us.faceplusplus.com/facepp/v3/compare\n",
      "b'{\"error_message\":\"AUTHENTICATION_ERROR\"}\\n'\n"
     ]
    },
    {
     "name": "stderr",
     "output_type": "stream",
     "text": [
      " 29%|██▉       | 217/750 [44:07<1:48:54, 12.26s/it]"
     ]
    },
    {
     "name": "stdout",
     "output_type": "stream",
     "text": [
      "error: code=401\n",
      "url=https://api-us.faceplusplus.com/facepp/v3/compare\n",
      "b'{\"error_message\":\"AUTHENTICATION_ERROR\"}\\n'\n",
      "error: code=401\n",
      "url=https://api-us.faceplusplus.com/facepp/v3/compare\n",
      "b'{\"error_message\":\"AUTHENTICATION_ERROR\"}\\n'\n",
      "error: code=401\n",
      "url=https://api-us.faceplusplus.com/facepp/v3/compare\n",
      "b'{\"error_message\":\"AUTHENTICATION_ERROR\"}\\n'\n",
      "error: code=401\n",
      "url=https://api-us.faceplusplus.com/facepp/v3/compare\n",
      "b'{\"error_message\":\"AUTHENTICATION_ERROR\"}\\n'\n",
      "error: code=401\n",
      "url=https://api-us.faceplusplus.com/facepp/v3/compare\n",
      "b'{\"error_message\":\"AUTHENTICATION_ERROR\"}\\n'\n",
      "error: code=401\n",
      "url=https://api-us.faceplusplus.com/facepp/v3/compare\n",
      "b'{\"error_message\":\"AUTHENTICATION_ERROR\"}\\n'\n",
      "error: code=401\n",
      "url=https://api-us.faceplusplus.com/facepp/v3/compare\n",
      "b'{\"error_message\":\"AUTHENTICATION_ERROR\"}\\n'\n",
      "error: code=401\n",
      "url=https://api-us.faceplusplus.com/facepp/v3/compare\n",
      "b'{\"error_message\":\"AUTHENTICATION_ERROR\"}\\n'\n"
     ]
    },
    {
     "name": "stderr",
     "output_type": "stream",
     "text": [
      " 29%|██▉       | 218/750 [44:19<1:48:33, 12.24s/it]"
     ]
    },
    {
     "name": "stdout",
     "output_type": "stream",
     "text": [
      "error: code=401\n",
      "url=https://api-us.faceplusplus.com/facepp/v3/compare\n",
      "b'{\"error_message\":\"AUTHENTICATION_ERROR\"}\\n'\n",
      "error: code=401\n",
      "url=https://api-us.faceplusplus.com/facepp/v3/compare\n",
      "b'{\"error_message\":\"AUTHENTICATION_ERROR\"}\\n'\n",
      "error: code=401\n",
      "url=https://api-us.faceplusplus.com/facepp/v3/compare\n",
      "b'{\"error_message\":\"AUTHENTICATION_ERROR\"}\\n'\n",
      "error: code=401\n",
      "url=https://api-us.faceplusplus.com/facepp/v3/compare\n",
      "b'{\"error_message\":\"AUTHENTICATION_ERROR\"}\\n'\n",
      "error: code=401\n",
      "url=https://api-us.faceplusplus.com/facepp/v3/compare\n",
      "b'{\"error_message\":\"AUTHENTICATION_ERROR\"}\\n'\n",
      "error: code=401\n",
      "url=https://api-us.faceplusplus.com/facepp/v3/compare\n",
      "b'{\"error_message\":\"AUTHENTICATION_ERROR\"}\\n'\n",
      "error: code=401\n",
      "url=https://api-us.faceplusplus.com/facepp/v3/compare\n",
      "b'{\"error_message\":\"AUTHENTICATION_ERROR\"}\\n'\n",
      "error: code=401\n",
      "url=https://api-us.faceplusplus.com/facepp/v3/compare\n",
      "b'{\"error_message\":\"AUTHENTICATION_ERROR\"}\\n'\n"
     ]
    },
    {
     "name": "stderr",
     "output_type": "stream",
     "text": [
      " 29%|██▉       | 219/750 [44:32<1:48:03, 12.21s/it]"
     ]
    },
    {
     "name": "stdout",
     "output_type": "stream",
     "text": [
      "error: code=401\n",
      "url=https://api-us.faceplusplus.com/facepp/v3/compare\n",
      "b'{\"error_message\":\"AUTHENTICATION_ERROR\"}\\n'\n",
      "error: code=401\n",
      "url=https://api-us.faceplusplus.com/facepp/v3/compare\n",
      "b'{\"error_message\":\"AUTHENTICATION_ERROR\"}\\n'\n",
      "error: code=401\n",
      "url=https://api-us.faceplusplus.com/facepp/v3/compare\n",
      "b'{\"error_message\":\"AUTHENTICATION_ERROR\"}\\n'\n",
      "error: code=401\n",
      "url=https://api-us.faceplusplus.com/facepp/v3/compare\n",
      "b'{\"error_message\":\"AUTHENTICATION_ERROR\"}\\n'\n",
      "error: code=401\n",
      "url=https://api-us.faceplusplus.com/facepp/v3/compare\n",
      "b'{\"error_message\":\"AUTHENTICATION_ERROR\"}\\n'\n",
      "error: code=401\n",
      "url=https://api-us.faceplusplus.com/facepp/v3/compare\n",
      "b'{\"error_message\":\"AUTHENTICATION_ERROR\"}\\n'\n",
      "error: code=401\n",
      "url=https://api-us.faceplusplus.com/facepp/v3/compare\n",
      "b'{\"error_message\":\"AUTHENTICATION_ERROR\"}\\n'\n",
      "error: code=401\n",
      "url=https://api-us.faceplusplus.com/facepp/v3/compare\n",
      "b'{\"error_message\":\"AUTHENTICATION_ERROR\"}\\n'\n"
     ]
    },
    {
     "name": "stderr",
     "output_type": "stream",
     "text": [
      " 29%|██▉       | 220/750 [44:44<1:48:03, 12.23s/it]"
     ]
    },
    {
     "name": "stdout",
     "output_type": "stream",
     "text": [
      "error: code=401\n",
      "url=https://api-us.faceplusplus.com/facepp/v3/compare\n",
      "b'{\"error_message\":\"AUTHENTICATION_ERROR\"}\\n'\n",
      "error: code=401\n",
      "url=https://api-us.faceplusplus.com/facepp/v3/compare\n",
      "b'{\"error_message\":\"AUTHENTICATION_ERROR\"}\\n'\n",
      "error: code=401\n",
      "url=https://api-us.faceplusplus.com/facepp/v3/compare\n",
      "b'{\"error_message\":\"AUTHENTICATION_ERROR\"}\\n'\n",
      "error: code=401\n",
      "url=https://api-us.faceplusplus.com/facepp/v3/compare\n",
      "b'{\"error_message\":\"AUTHENTICATION_ERROR\"}\\n'\n",
      "error: code=401\n",
      "url=https://api-us.faceplusplus.com/facepp/v3/compare\n",
      "b'{\"error_message\":\"AUTHENTICATION_ERROR\"}\\n'\n",
      "error: code=401\n",
      "url=https://api-us.faceplusplus.com/facepp/v3/compare\n",
      "b'{\"error_message\":\"AUTHENTICATION_ERROR\"}\\n'\n",
      "error: code=401\n",
      "url=https://api-us.faceplusplus.com/facepp/v3/compare\n",
      "b'{\"error_message\":\"AUTHENTICATION_ERROR\"}\\n'\n",
      "error: code=401\n",
      "url=https://api-us.faceplusplus.com/facepp/v3/compare\n",
      "b'{\"error_message\":\"AUTHENTICATION_ERROR\"}\\n'\n"
     ]
    },
    {
     "name": "stderr",
     "output_type": "stream",
     "text": [
      " 29%|██▉       | 221/750 [44:56<1:47:00, 12.14s/it]"
     ]
    },
    {
     "name": "stdout",
     "output_type": "stream",
     "text": [
      "error: code=401\n",
      "url=https://api-us.faceplusplus.com/facepp/v3/compare\n",
      "b'{\"error_message\":\"AUTHENTICATION_ERROR\"}\\n'\n",
      "error: code=401\n",
      "url=https://api-us.faceplusplus.com/facepp/v3/compare\n",
      "b'{\"error_message\":\"AUTHENTICATION_ERROR\"}\\n'\n",
      "error: code=401\n",
      "url=https://api-us.faceplusplus.com/facepp/v3/compare\n",
      "b'{\"error_message\":\"AUTHENTICATION_ERROR\"}\\n'\n",
      "error: code=401\n",
      "url=https://api-us.faceplusplus.com/facepp/v3/compare\n",
      "b'{\"error_message\":\"AUTHENTICATION_ERROR\"}\\n'\n",
      "error: code=401\n",
      "url=https://api-us.faceplusplus.com/facepp/v3/compare\n",
      "b'{\"error_message\":\"AUTHENTICATION_ERROR\"}\\n'\n",
      "error: code=401\n",
      "url=https://api-us.faceplusplus.com/facepp/v3/compare\n",
      "b'{\"error_message\":\"AUTHENTICATION_ERROR\"}\\n'\n",
      "error: code=401\n",
      "url=https://api-us.faceplusplus.com/facepp/v3/compare\n",
      "b'{\"error_message\":\"AUTHENTICATION_ERROR\"}\\n'\n",
      "error: code=401\n",
      "url=https://api-us.faceplusplus.com/facepp/v3/compare\n",
      "b'{\"error_message\":\"AUTHENTICATION_ERROR\"}\\n'\n"
     ]
    },
    {
     "name": "stderr",
     "output_type": "stream",
     "text": [
      " 30%|██▉       | 222/750 [45:08<1:46:34, 12.11s/it]"
     ]
    },
    {
     "name": "stdout",
     "output_type": "stream",
     "text": [
      "error: code=401\n",
      "url=https://api-us.faceplusplus.com/facepp/v3/compare\n",
      "b'{\"error_message\":\"AUTHENTICATION_ERROR\"}\\n'\n",
      "error: code=401\n",
      "url=https://api-us.faceplusplus.com/facepp/v3/compare\n",
      "b'{\"error_message\":\"AUTHENTICATION_ERROR\"}\\n'\n",
      "error: code=401\n",
      "url=https://api-us.faceplusplus.com/facepp/v3/compare\n",
      "b'{\"error_message\":\"AUTHENTICATION_ERROR\"}\\n'\n",
      "error: code=401\n",
      "url=https://api-us.faceplusplus.com/facepp/v3/compare\n",
      "b'{\"error_message\":\"AUTHENTICATION_ERROR\"}\\n'\n",
      "error: code=401\n",
      "url=https://api-us.faceplusplus.com/facepp/v3/compare\n",
      "b'{\"error_message\":\"AUTHENTICATION_ERROR\"}\\n'\n",
      "error: code=401\n",
      "url=https://api-us.faceplusplus.com/facepp/v3/compare\n",
      "b'{\"error_message\":\"AUTHENTICATION_ERROR\"}\\n'\n",
      "error: code=401\n",
      "url=https://api-us.faceplusplus.com/facepp/v3/compare\n",
      "b'{\"error_message\":\"AUTHENTICATION_ERROR\"}\\n'\n",
      "error: code=401\n",
      "url=https://api-us.faceplusplus.com/facepp/v3/compare\n",
      "b'{\"error_message\":\"AUTHENTICATION_ERROR\"}\\n'\n"
     ]
    },
    {
     "name": "stderr",
     "output_type": "stream",
     "text": [
      " 30%|██▉       | 223/750 [45:20<1:46:26, 12.12s/it]"
     ]
    },
    {
     "name": "stdout",
     "output_type": "stream",
     "text": [
      "error: code=401\n",
      "url=https://api-us.faceplusplus.com/facepp/v3/compare\n",
      "b'{\"error_message\":\"AUTHENTICATION_ERROR\"}\\n'\n",
      "error: code=401\n",
      "url=https://api-us.faceplusplus.com/facepp/v3/compare\n",
      "b'{\"error_message\":\"AUTHENTICATION_ERROR\"}\\n'\n",
      "error: code=401\n",
      "url=https://api-us.faceplusplus.com/facepp/v3/compare\n",
      "b'{\"error_message\":\"AUTHENTICATION_ERROR\"}\\n'\n",
      "error: code=401\n",
      "url=https://api-us.faceplusplus.com/facepp/v3/compare\n",
      "b'{\"error_message\":\"AUTHENTICATION_ERROR\"}\\n'\n",
      "error: code=401\n",
      "url=https://api-us.faceplusplus.com/facepp/v3/compare\n",
      "b'{\"error_message\":\"AUTHENTICATION_ERROR\"}\\n'\n",
      "error: code=401\n",
      "url=https://api-us.faceplusplus.com/facepp/v3/compare\n",
      "b'{\"error_message\":\"AUTHENTICATION_ERROR\"}\\n'\n",
      "error: code=401\n",
      "url=https://api-us.faceplusplus.com/facepp/v3/compare\n",
      "b'{\"error_message\":\"AUTHENTICATION_ERROR\"}\\n'\n",
      "error: code=401\n",
      "url=https://api-us.faceplusplus.com/facepp/v3/compare\n",
      "b'{\"error_message\":\"AUTHENTICATION_ERROR\"}\\n'\n"
     ]
    },
    {
     "name": "stderr",
     "output_type": "stream",
     "text": [
      " 30%|██▉       | 224/750 [45:32<1:45:55, 12.08s/it]"
     ]
    },
    {
     "name": "stdout",
     "output_type": "stream",
     "text": [
      "error: code=401\n",
      "url=https://api-us.faceplusplus.com/facepp/v3/compare\n",
      "b'{\"error_message\":\"AUTHENTICATION_ERROR\"}\\n'\n",
      "error: code=401\n",
      "url=https://api-us.faceplusplus.com/facepp/v3/compare\n",
      "b'{\"error_message\":\"AUTHENTICATION_ERROR\"}\\n'\n",
      "error: code=401\n",
      "url=https://api-us.faceplusplus.com/facepp/v3/compare\n",
      "b'{\"error_message\":\"AUTHENTICATION_ERROR\"}\\n'\n",
      "error: code=401\n",
      "url=https://api-us.faceplusplus.com/facepp/v3/compare\n",
      "b'{\"error_message\":\"AUTHENTICATION_ERROR\"}\\n'\n",
      "error: code=401\n",
      "url=https://api-us.faceplusplus.com/facepp/v3/compare\n",
      "b'{\"error_message\":\"AUTHENTICATION_ERROR\"}\\n'\n",
      "error: code=401\n",
      "url=https://api-us.faceplusplus.com/facepp/v3/compare\n",
      "b'{\"error_message\":\"AUTHENTICATION_ERROR\"}\\n'\n",
      "error: code=401\n",
      "url=https://api-us.faceplusplus.com/facepp/v3/compare\n",
      "b'{\"error_message\":\"AUTHENTICATION_ERROR\"}\\n'\n",
      "error: code=401\n",
      "url=https://api-us.faceplusplus.com/facepp/v3/compare\n",
      "b'{\"error_message\":\"AUTHENTICATION_ERROR\"}\\n'\n"
     ]
    },
    {
     "name": "stderr",
     "output_type": "stream",
     "text": [
      " 30%|███       | 225/750 [45:44<1:46:01, 12.12s/it]"
     ]
    },
    {
     "name": "stdout",
     "output_type": "stream",
     "text": [
      "error: code=401\n",
      "url=https://api-us.faceplusplus.com/facepp/v3/compare\n",
      "b'{\"error_message\":\"AUTHENTICATION_ERROR\"}\\n'\n",
      "error: code=401\n",
      "url=https://api-us.faceplusplus.com/facepp/v3/compare\n",
      "b'{\"error_message\":\"AUTHENTICATION_ERROR\"}\\n'\n",
      "error: code=401\n",
      "url=https://api-us.faceplusplus.com/facepp/v3/compare\n",
      "b'{\"error_message\":\"AUTHENTICATION_ERROR\"}\\n'\n",
      "error: code=401\n",
      "url=https://api-us.faceplusplus.com/facepp/v3/compare\n",
      "b'{\"error_message\":\"AUTHENTICATION_ERROR\"}\\n'\n",
      "error: code=401\n",
      "url=https://api-us.faceplusplus.com/facepp/v3/compare\n",
      "b'{\"error_message\":\"AUTHENTICATION_ERROR\"}\\n'\n",
      "error: code=401\n",
      "url=https://api-us.faceplusplus.com/facepp/v3/compare\n",
      "b'{\"error_message\":\"AUTHENTICATION_ERROR\"}\\n'\n",
      "error: code=401\n",
      "url=https://api-us.faceplusplus.com/facepp/v3/compare\n",
      "b'{\"error_message\":\"AUTHENTICATION_ERROR\"}\\n'\n",
      "error: code=401\n",
      "url=https://api-us.faceplusplus.com/facepp/v3/compare\n",
      "b'{\"error_message\":\"AUTHENTICATION_ERROR\"}\\n'\n"
     ]
    },
    {
     "name": "stderr",
     "output_type": "stream",
     "text": [
      " 30%|███       | 226/750 [45:56<1:46:15, 12.17s/it]"
     ]
    },
    {
     "name": "stdout",
     "output_type": "stream",
     "text": [
      "error: code=401\n",
      "url=https://api-us.faceplusplus.com/facepp/v3/compare\n",
      "b'{\"error_message\":\"AUTHENTICATION_ERROR\"}\\n'\n",
      "error: code=401\n",
      "url=https://api-us.faceplusplus.com/facepp/v3/compare\n",
      "b'{\"error_message\":\"AUTHENTICATION_ERROR\"}\\n'\n",
      "error: code=401\n",
      "url=https://api-us.faceplusplus.com/facepp/v3/compare\n",
      "b'{\"error_message\":\"AUTHENTICATION_ERROR\"}\\n'\n",
      "error: code=401\n",
      "url=https://api-us.faceplusplus.com/facepp/v3/compare\n",
      "b'{\"error_message\":\"AUTHENTICATION_ERROR\"}\\n'\n",
      "error: code=401\n",
      "url=https://api-us.faceplusplus.com/facepp/v3/compare\n",
      "b'{\"error_message\":\"AUTHENTICATION_ERROR\"}\\n'\n",
      "error: code=401\n",
      "url=https://api-us.faceplusplus.com/facepp/v3/compare\n",
      "b'{\"error_message\":\"AUTHENTICATION_ERROR\"}\\n'\n",
      "error: code=401\n",
      "url=https://api-us.faceplusplus.com/facepp/v3/compare\n",
      "b'{\"error_message\":\"AUTHENTICATION_ERROR\"}\\n'\n",
      "error: code=401\n",
      "url=https://api-us.faceplusplus.com/facepp/v3/compare\n",
      "b'{\"error_message\":\"AUTHENTICATION_ERROR\"}\\n'\n"
     ]
    },
    {
     "name": "stderr",
     "output_type": "stream",
     "text": [
      " 30%|███       | 227/750 [46:08<1:45:29, 12.10s/it]"
     ]
    },
    {
     "name": "stdout",
     "output_type": "stream",
     "text": [
      "error: code=401\n",
      "url=https://api-us.faceplusplus.com/facepp/v3/compare\n",
      "b'{\"error_message\":\"AUTHENTICATION_ERROR\"}\\n'\n",
      "error: code=401\n",
      "url=https://api-us.faceplusplus.com/facepp/v3/compare\n",
      "b'{\"error_message\":\"AUTHENTICATION_ERROR\"}\\n'\n",
      "error: code=401\n",
      "url=https://api-us.faceplusplus.com/facepp/v3/compare\n",
      "b'{\"error_message\":\"AUTHENTICATION_ERROR\"}\\n'\n",
      "error: code=401\n",
      "url=https://api-us.faceplusplus.com/facepp/v3/compare\n",
      "b'{\"error_message\":\"AUTHENTICATION_ERROR\"}\\n'\n",
      "error: code=401\n",
      "url=https://api-us.faceplusplus.com/facepp/v3/compare\n",
      "b'{\"error_message\":\"AUTHENTICATION_ERROR\"}\\n'\n",
      "error: code=401\n",
      "url=https://api-us.faceplusplus.com/facepp/v3/compare\n",
      "b'{\"error_message\":\"AUTHENTICATION_ERROR\"}\\n'\n",
      "error: code=401\n",
      "url=https://api-us.faceplusplus.com/facepp/v3/compare\n",
      "b'{\"error_message\":\"AUTHENTICATION_ERROR\"}\\n'\n",
      "error: code=401\n",
      "url=https://api-us.faceplusplus.com/facepp/v3/compare\n",
      "b'{\"error_message\":\"AUTHENTICATION_ERROR\"}\\n'\n"
     ]
    },
    {
     "name": "stderr",
     "output_type": "stream",
     "text": [
      " 30%|███       | 228/750 [46:21<1:45:28, 12.12s/it]"
     ]
    },
    {
     "name": "stdout",
     "output_type": "stream",
     "text": [
      "error: code=401\n",
      "url=https://api-us.faceplusplus.com/facepp/v3/compare\n",
      "b'{\"error_message\":\"AUTHENTICATION_ERROR\"}\\n'\n",
      "error: code=401\n",
      "url=https://api-us.faceplusplus.com/facepp/v3/compare\n",
      "b'{\"error_message\":\"AUTHENTICATION_ERROR\"}\\n'\n",
      "error: code=401\n",
      "url=https://api-us.faceplusplus.com/facepp/v3/compare\n",
      "b'{\"error_message\":\"AUTHENTICATION_ERROR\"}\\n'\n",
      "error: code=401\n",
      "url=https://api-us.faceplusplus.com/facepp/v3/compare\n",
      "b'{\"error_message\":\"AUTHENTICATION_ERROR\"}\\n'\n",
      "error: code=401\n",
      "url=https://api-us.faceplusplus.com/facepp/v3/compare\n",
      "b'{\"error_message\":\"AUTHENTICATION_ERROR\"}\\n'\n",
      "error: code=401\n",
      "url=https://api-us.faceplusplus.com/facepp/v3/compare\n",
      "b'{\"error_message\":\"AUTHENTICATION_ERROR\"}\\n'\n",
      "error: code=401\n",
      "url=https://api-us.faceplusplus.com/facepp/v3/compare\n",
      "b'{\"error_message\":\"AUTHENTICATION_ERROR\"}\\n'\n",
      "error: code=401\n",
      "url=https://api-us.faceplusplus.com/facepp/v3/compare\n",
      "b'{\"error_message\":\"AUTHENTICATION_ERROR\"}\\n'\n"
     ]
    },
    {
     "name": "stderr",
     "output_type": "stream",
     "text": [
      " 31%|███       | 229/750 [46:32<1:44:46, 12.07s/it]"
     ]
    },
    {
     "name": "stdout",
     "output_type": "stream",
     "text": [
      "error: code=401\n",
      "url=https://api-us.faceplusplus.com/facepp/v3/compare\n",
      "b'{\"error_message\":\"AUTHENTICATION_ERROR\"}\\n'\n",
      "error: code=401\n",
      "url=https://api-us.faceplusplus.com/facepp/v3/compare\n",
      "b'{\"error_message\":\"AUTHENTICATION_ERROR\"}\\n'\n",
      "error: code=401\n",
      "url=https://api-us.faceplusplus.com/facepp/v3/compare\n",
      "b'{\"error_message\":\"AUTHENTICATION_ERROR\"}\\n'\n",
      "error: code=401\n",
      "url=https://api-us.faceplusplus.com/facepp/v3/compare\n",
      "b'{\"error_message\":\"AUTHENTICATION_ERROR\"}\\n'\n",
      "error: code=401\n",
      "url=https://api-us.faceplusplus.com/facepp/v3/compare\n",
      "b'{\"error_message\":\"AUTHENTICATION_ERROR\"}\\n'\n",
      "error: code=401\n",
      "url=https://api-us.faceplusplus.com/facepp/v3/compare\n",
      "b'{\"error_message\":\"AUTHENTICATION_ERROR\"}\\n'\n",
      "error: code=401\n",
      "url=https://api-us.faceplusplus.com/facepp/v3/compare\n",
      "b'{\"error_message\":\"AUTHENTICATION_ERROR\"}\\n'\n",
      "error: code=401\n",
      "url=https://api-us.faceplusplus.com/facepp/v3/compare\n",
      "b'{\"error_message\":\"AUTHENTICATION_ERROR\"}\\n'\n"
     ]
    },
    {
     "name": "stderr",
     "output_type": "stream",
     "text": [
      " 31%|███       | 230/750 [46:45<1:45:29, 12.17s/it]"
     ]
    },
    {
     "name": "stdout",
     "output_type": "stream",
     "text": [
      "error: code=401\n",
      "url=https://api-us.faceplusplus.com/facepp/v3/compare\n",
      "b'{\"error_message\":\"AUTHENTICATION_ERROR\"}\\n'\n",
      "error: code=401\n",
      "url=https://api-us.faceplusplus.com/facepp/v3/compare\n",
      "b'{\"error_message\":\"AUTHENTICATION_ERROR\"}\\n'\n",
      "error: code=401\n",
      "url=https://api-us.faceplusplus.com/facepp/v3/compare\n",
      "b'{\"error_message\":\"AUTHENTICATION_ERROR\"}\\n'\n",
      "error: code=401\n",
      "url=https://api-us.faceplusplus.com/facepp/v3/compare\n",
      "b'{\"error_message\":\"AUTHENTICATION_ERROR\"}\\n'\n",
      "error: code=401\n",
      "url=https://api-us.faceplusplus.com/facepp/v3/compare\n",
      "b'{\"error_message\":\"AUTHENTICATION_ERROR\"}\\n'\n",
      "error: code=401\n",
      "url=https://api-us.faceplusplus.com/facepp/v3/compare\n",
      "b'{\"error_message\":\"AUTHENTICATION_ERROR\"}\\n'\n",
      "error: code=401\n",
      "url=https://api-us.faceplusplus.com/facepp/v3/compare\n",
      "b'{\"error_message\":\"AUTHENTICATION_ERROR\"}\\n'\n",
      "error: code=401\n",
      "url=https://api-us.faceplusplus.com/facepp/v3/compare\n",
      "b'{\"error_message\":\"AUTHENTICATION_ERROR\"}\\n'\n"
     ]
    },
    {
     "name": "stderr",
     "output_type": "stream",
     "text": [
      " 31%|███       | 231/750 [46:57<1:44:55, 12.13s/it]"
     ]
    },
    {
     "name": "stdout",
     "output_type": "stream",
     "text": [
      "error: code=401\n",
      "url=https://api-us.faceplusplus.com/facepp/v3/compare\n",
      "b'{\"error_message\":\"AUTHENTICATION_ERROR\"}\\n'\n",
      "error: code=401\n",
      "url=https://api-us.faceplusplus.com/facepp/v3/compare\n",
      "b'{\"error_message\":\"AUTHENTICATION_ERROR\"}\\n'\n",
      "error: code=401\n",
      "url=https://api-us.faceplusplus.com/facepp/v3/compare\n",
      "b'{\"error_message\":\"AUTHENTICATION_ERROR\"}\\n'\n",
      "error: code=401\n",
      "url=https://api-us.faceplusplus.com/facepp/v3/compare\n",
      "b'{\"error_message\":\"AUTHENTICATION_ERROR\"}\\n'\n",
      "error: code=401\n",
      "url=https://api-us.faceplusplus.com/facepp/v3/compare\n",
      "b'{\"error_message\":\"AUTHENTICATION_ERROR\"}\\n'\n",
      "error: code=401\n",
      "url=https://api-us.faceplusplus.com/facepp/v3/compare\n",
      "b'{\"error_message\":\"AUTHENTICATION_ERROR\"}\\n'\n",
      "error: code=401\n",
      "url=https://api-us.faceplusplus.com/facepp/v3/compare\n",
      "b'{\"error_message\":\"AUTHENTICATION_ERROR\"}\\n'\n",
      "error: code=401\n",
      "url=https://api-us.faceplusplus.com/facepp/v3/compare\n",
      "b'{\"error_message\":\"AUTHENTICATION_ERROR\"}\\n'\n"
     ]
    },
    {
     "name": "stderr",
     "output_type": "stream",
     "text": [
      " 31%|███       | 232/750 [47:10<1:47:30, 12.45s/it]"
     ]
    },
    {
     "name": "stdout",
     "output_type": "stream",
     "text": [
      "error: code=401\n",
      "url=https://api-us.faceplusplus.com/facepp/v3/compare\n",
      "b'{\"error_message\":\"AUTHENTICATION_ERROR\"}\\n'\n",
      "error: code=401\n",
      "url=https://api-us.faceplusplus.com/facepp/v3/compare\n",
      "b'{\"error_message\":\"AUTHENTICATION_ERROR\"}\\n'\n",
      "error: code=401\n",
      "url=https://api-us.faceplusplus.com/facepp/v3/compare\n",
      "b'{\"error_message\":\"AUTHENTICATION_ERROR\"}\\n'\n",
      "error: code=401\n",
      "url=https://api-us.faceplusplus.com/facepp/v3/compare\n",
      "b'{\"error_message\":\"AUTHENTICATION_ERROR\"}\\n'\n",
      "error: code=401\n",
      "url=https://api-us.faceplusplus.com/facepp/v3/compare\n",
      "b'{\"error_message\":\"AUTHENTICATION_ERROR\"}\\n'\n",
      "error: code=401\n",
      "url=https://api-us.faceplusplus.com/facepp/v3/compare\n",
      "b'{\"error_message\":\"AUTHENTICATION_ERROR\"}\\n'\n",
      "error: code=401\n",
      "url=https://api-us.faceplusplus.com/facepp/v3/compare\n",
      "b'{\"error_message\":\"AUTHENTICATION_ERROR\"}\\n'\n",
      "error: code=401\n",
      "url=https://api-us.faceplusplus.com/facepp/v3/compare\n",
      "b'{\"error_message\":\"AUTHENTICATION_ERROR\"}\\n'\n"
     ]
    },
    {
     "name": "stderr",
     "output_type": "stream",
     "text": [
      " 31%|███       | 233/750 [47:25<1:54:40, 13.31s/it]"
     ]
    },
    {
     "name": "stdout",
     "output_type": "stream",
     "text": [
      "error: code=401\n",
      "url=https://api-us.faceplusplus.com/facepp/v3/compare\n",
      "b'{\"error_message\":\"AUTHENTICATION_ERROR\"}\\n'\n",
      "error: code=401\n",
      "url=https://api-us.faceplusplus.com/facepp/v3/compare\n",
      "b'{\"error_message\":\"AUTHENTICATION_ERROR\"}\\n'\n",
      "error: code=401\n",
      "url=https://api-us.faceplusplus.com/facepp/v3/compare\n",
      "b'{\"error_message\":\"AUTHENTICATION_ERROR\"}\\n'\n",
      "error: code=401\n",
      "url=https://api-us.faceplusplus.com/facepp/v3/compare\n",
      "b'{\"error_message\":\"AUTHENTICATION_ERROR\"}\\n'\n",
      "error: code=401\n",
      "url=https://api-us.faceplusplus.com/facepp/v3/compare\n",
      "b'{\"error_message\":\"AUTHENTICATION_ERROR\"}\\n'\n",
      "error: code=401\n",
      "url=https://api-us.faceplusplus.com/facepp/v3/compare\n",
      "b'{\"error_message\":\"AUTHENTICATION_ERROR\"}\\n'\n",
      "error: code=401\n",
      "url=https://api-us.faceplusplus.com/facepp/v3/compare\n",
      "b'{\"error_message\":\"AUTHENTICATION_ERROR\"}\\n'\n",
      "error: code=401\n",
      "url=https://api-us.faceplusplus.com/facepp/v3/compare\n",
      "b'{\"error_message\":\"AUTHENTICATION_ERROR\"}\\n'\n"
     ]
    },
    {
     "name": "stderr",
     "output_type": "stream",
     "text": [
      " 31%|███       | 234/750 [47:40<1:56:48, 13.58s/it]"
     ]
    },
    {
     "name": "stdout",
     "output_type": "stream",
     "text": [
      "error: code=401\n",
      "url=https://api-us.faceplusplus.com/facepp/v3/compare\n",
      "b'{\"error_message\":\"AUTHENTICATION_ERROR\"}\\n'\n",
      "error: code=401\n",
      "url=https://api-us.faceplusplus.com/facepp/v3/compare\n",
      "b'{\"error_message\":\"AUTHENTICATION_ERROR\"}\\n'\n",
      "error: code=401\n",
      "url=https://api-us.faceplusplus.com/facepp/v3/compare\n",
      "b'{\"error_message\":\"AUTHENTICATION_ERROR\"}\\n'\n",
      "error: code=401\n",
      "url=https://api-us.faceplusplus.com/facepp/v3/compare\n",
      "b'{\"error_message\":\"AUTHENTICATION_ERROR\"}\\n'\n",
      "error: code=401\n",
      "url=https://api-us.faceplusplus.com/facepp/v3/compare\n",
      "b'{\"error_message\":\"AUTHENTICATION_ERROR\"}\\n'\n",
      "error: code=401\n",
      "url=https://api-us.faceplusplus.com/facepp/v3/compare\n",
      "b'{\"error_message\":\"AUTHENTICATION_ERROR\"}\\n'\n",
      "error: code=401\n",
      "url=https://api-us.faceplusplus.com/facepp/v3/compare\n",
      "b'{\"error_message\":\"AUTHENTICATION_ERROR\"}\\n'\n",
      "error: code=401\n",
      "url=https://api-us.faceplusplus.com/facepp/v3/compare\n",
      "b'{\"error_message\":\"AUTHENTICATION_ERROR\"}\\n'\n"
     ]
    },
    {
     "name": "stderr",
     "output_type": "stream",
     "text": [
      " 31%|███▏      | 235/750 [47:52<1:53:47, 13.26s/it]"
     ]
    },
    {
     "name": "stdout",
     "output_type": "stream",
     "text": [
      "error: code=401\n",
      "url=https://api-us.faceplusplus.com/facepp/v3/compare\n",
      "b'{\"error_message\":\"AUTHENTICATION_ERROR\"}\\n'\n",
      "error: code=401\n",
      "url=https://api-us.faceplusplus.com/facepp/v3/compare\n",
      "b'{\"error_message\":\"AUTHENTICATION_ERROR\"}\\n'\n",
      "error: code=401\n",
      "url=https://api-us.faceplusplus.com/facepp/v3/compare\n",
      "b'{\"error_message\":\"AUTHENTICATION_ERROR\"}\\n'\n",
      "error: code=401\n",
      "url=https://api-us.faceplusplus.com/facepp/v3/compare\n",
      "b'{\"error_message\":\"AUTHENTICATION_ERROR\"}\\n'\n",
      "error: code=401\n",
      "url=https://api-us.faceplusplus.com/facepp/v3/compare\n",
      "b'{\"error_message\":\"AUTHENTICATION_ERROR\"}\\n'\n",
      "error: code=401\n",
      "url=https://api-us.faceplusplus.com/facepp/v3/compare\n",
      "b'{\"error_message\":\"AUTHENTICATION_ERROR\"}\\n'\n",
      "error: code=401\n",
      "url=https://api-us.faceplusplus.com/facepp/v3/compare\n",
      "b'{\"error_message\":\"AUTHENTICATION_ERROR\"}\\n'\n",
      "error: code=401\n",
      "url=https://api-us.faceplusplus.com/facepp/v3/compare\n",
      "b'{\"error_message\":\"AUTHENTICATION_ERROR\"}\\n'\n"
     ]
    },
    {
     "name": "stderr",
     "output_type": "stream",
     "text": [
      " 31%|███▏      | 236/750 [48:04<1:50:40, 12.92s/it]"
     ]
    },
    {
     "name": "stdout",
     "output_type": "stream",
     "text": [
      "error: code=401\n",
      "url=https://api-us.faceplusplus.com/facepp/v3/compare\n",
      "b'{\"error_message\":\"AUTHENTICATION_ERROR\"}\\n'\n",
      "error: code=401\n",
      "url=https://api-us.faceplusplus.com/facepp/v3/compare\n",
      "b'{\"error_message\":\"AUTHENTICATION_ERROR\"}\\n'\n",
      "error: code=401\n",
      "url=https://api-us.faceplusplus.com/facepp/v3/compare\n",
      "b'{\"error_message\":\"AUTHENTICATION_ERROR\"}\\n'\n",
      "error: code=401\n",
      "url=https://api-us.faceplusplus.com/facepp/v3/compare\n",
      "b'{\"error_message\":\"AUTHENTICATION_ERROR\"}\\n'\n",
      "error: code=401\n",
      "url=https://api-us.faceplusplus.com/facepp/v3/compare\n",
      "b'{\"error_message\":\"AUTHENTICATION_ERROR\"}\\n'\n",
      "error: code=401\n",
      "url=https://api-us.faceplusplus.com/facepp/v3/compare\n",
      "b'{\"error_message\":\"AUTHENTICATION_ERROR\"}\\n'\n",
      "error: code=401\n",
      "url=https://api-us.faceplusplus.com/facepp/v3/compare\n",
      "b'{\"error_message\":\"AUTHENTICATION_ERROR\"}\\n'\n",
      "error: code=401\n",
      "url=https://api-us.faceplusplus.com/facepp/v3/compare\n",
      "b'{\"error_message\":\"AUTHENTICATION_ERROR\"}\\n'\n"
     ]
    },
    {
     "name": "stderr",
     "output_type": "stream",
     "text": [
      " 32%|███▏      | 237/750 [48:16<1:48:21, 12.67s/it]"
     ]
    },
    {
     "name": "stdout",
     "output_type": "stream",
     "text": [
      "error: code=401\n",
      "url=https://api-us.faceplusplus.com/facepp/v3/compare\n",
      "b'{\"error_message\":\"AUTHENTICATION_ERROR\"}\\n'\n",
      "error: code=401\n",
      "url=https://api-us.faceplusplus.com/facepp/v3/compare\n",
      "b'{\"error_message\":\"AUTHENTICATION_ERROR\"}\\n'\n",
      "error: code=401\n",
      "url=https://api-us.faceplusplus.com/facepp/v3/compare\n",
      "b'{\"error_message\":\"AUTHENTICATION_ERROR\"}\\n'\n",
      "error: code=401\n",
      "url=https://api-us.faceplusplus.com/facepp/v3/compare\n",
      "b'{\"error_message\":\"AUTHENTICATION_ERROR\"}\\n'\n",
      "error: code=401\n",
      "url=https://api-us.faceplusplus.com/facepp/v3/compare\n",
      "b'{\"error_message\":\"AUTHENTICATION_ERROR\"}\\n'\n",
      "error: code=401\n",
      "url=https://api-us.faceplusplus.com/facepp/v3/compare\n",
      "b'{\"error_message\":\"AUTHENTICATION_ERROR\"}\\n'\n",
      "error: code=401\n",
      "url=https://api-us.faceplusplus.com/facepp/v3/compare\n",
      "b'{\"error_message\":\"AUTHENTICATION_ERROR\"}\\n'\n",
      "error: code=401\n",
      "url=https://api-us.faceplusplus.com/facepp/v3/compare\n",
      "b'{\"error_message\":\"AUTHENTICATION_ERROR\"}\\n'\n"
     ]
    },
    {
     "name": "stderr",
     "output_type": "stream",
     "text": [
      " 32%|███▏      | 238/750 [48:29<1:47:28, 12.59s/it]"
     ]
    },
    {
     "name": "stdout",
     "output_type": "stream",
     "text": [
      "error: code=401\n",
      "url=https://api-us.faceplusplus.com/facepp/v3/compare\n",
      "b'{\"error_message\":\"AUTHENTICATION_ERROR\"}\\n'\n",
      "error: code=401\n",
      "url=https://api-us.faceplusplus.com/facepp/v3/compare\n",
      "b'{\"error_message\":\"AUTHENTICATION_ERROR\"}\\n'\n",
      "error: code=401\n",
      "url=https://api-us.faceplusplus.com/facepp/v3/compare\n",
      "b'{\"error_message\":\"AUTHENTICATION_ERROR\"}\\n'\n",
      "error: code=401\n",
      "url=https://api-us.faceplusplus.com/facepp/v3/compare\n",
      "b'{\"error_message\":\"AUTHENTICATION_ERROR\"}\\n'\n",
      "error: code=401\n",
      "url=https://api-us.faceplusplus.com/facepp/v3/compare\n",
      "b'{\"error_message\":\"AUTHENTICATION_ERROR\"}\\n'\n",
      "error: code=401\n",
      "url=https://api-us.faceplusplus.com/facepp/v3/compare\n",
      "b'{\"error_message\":\"AUTHENTICATION_ERROR\"}\\n'\n",
      "error: code=401\n",
      "url=https://api-us.faceplusplus.com/facepp/v3/compare\n",
      "b'{\"error_message\":\"AUTHENTICATION_ERROR\"}\\n'\n",
      "error: code=401\n",
      "url=https://api-us.faceplusplus.com/facepp/v3/compare\n",
      "b'{\"error_message\":\"AUTHENTICATION_ERROR\"}\\n'\n"
     ]
    },
    {
     "name": "stderr",
     "output_type": "stream",
     "text": [
      " 32%|███▏      | 239/750 [48:41<1:46:06, 12.46s/it]"
     ]
    },
    {
     "name": "stdout",
     "output_type": "stream",
     "text": [
      "error: code=401\n",
      "url=https://api-us.faceplusplus.com/facepp/v3/compare\n",
      "b'{\"error_message\":\"AUTHENTICATION_ERROR\"}\\n'\n",
      "error: code=401\n",
      "url=https://api-us.faceplusplus.com/facepp/v3/compare\n",
      "b'{\"error_message\":\"AUTHENTICATION_ERROR\"}\\n'\n",
      "error: code=401\n",
      "url=https://api-us.faceplusplus.com/facepp/v3/compare\n",
      "b'{\"error_message\":\"AUTHENTICATION_ERROR\"}\\n'\n",
      "error: code=401\n",
      "url=https://api-us.faceplusplus.com/facepp/v3/compare\n",
      "b'{\"error_message\":\"AUTHENTICATION_ERROR\"}\\n'\n",
      "error: code=401\n",
      "url=https://api-us.faceplusplus.com/facepp/v3/compare\n",
      "b'{\"error_message\":\"AUTHENTICATION_ERROR\"}\\n'\n",
      "error: code=401\n",
      "url=https://api-us.faceplusplus.com/facepp/v3/compare\n",
      "b'{\"error_message\":\"AUTHENTICATION_ERROR\"}\\n'\n",
      "error: code=401\n",
      "url=https://api-us.faceplusplus.com/facepp/v3/compare\n",
      "b'{\"error_message\":\"AUTHENTICATION_ERROR\"}\\n'\n",
      "error: code=401\n",
      "url=https://api-us.faceplusplus.com/facepp/v3/compare\n",
      "b'{\"error_message\":\"AUTHENTICATION_ERROR\"}\\n'\n"
     ]
    },
    {
     "name": "stderr",
     "output_type": "stream",
     "text": [
      " 32%|███▏      | 240/750 [48:53<1:44:47, 12.33s/it]"
     ]
    },
    {
     "name": "stdout",
     "output_type": "stream",
     "text": [
      "error: code=401\n",
      "url=https://api-us.faceplusplus.com/facepp/v3/compare\n",
      "b'{\"error_message\":\"AUTHENTICATION_ERROR\"}\\n'\n",
      "error: code=401\n",
      "url=https://api-us.faceplusplus.com/facepp/v3/compare\n",
      "b'{\"error_message\":\"AUTHENTICATION_ERROR\"}\\n'\n",
      "error: code=401\n",
      "url=https://api-us.faceplusplus.com/facepp/v3/compare\n",
      "b'{\"error_message\":\"AUTHENTICATION_ERROR\"}\\n'\n",
      "error: code=401\n",
      "url=https://api-us.faceplusplus.com/facepp/v3/compare\n",
      "b'{\"error_message\":\"AUTHENTICATION_ERROR\"}\\n'\n",
      "error: code=401\n",
      "url=https://api-us.faceplusplus.com/facepp/v3/compare\n",
      "b'{\"error_message\":\"AUTHENTICATION_ERROR\"}\\n'\n",
      "error: code=401\n",
      "url=https://api-us.faceplusplus.com/facepp/v3/compare\n",
      "b'{\"error_message\":\"AUTHENTICATION_ERROR\"}\\n'\n",
      "error: code=401\n",
      "url=https://api-us.faceplusplus.com/facepp/v3/compare\n",
      "b'{\"error_message\":\"AUTHENTICATION_ERROR\"}\\n'\n",
      "error: code=401\n",
      "url=https://api-us.faceplusplus.com/facepp/v3/compare\n",
      "b'{\"error_message\":\"AUTHENTICATION_ERROR\"}\\n'\n"
     ]
    },
    {
     "name": "stderr",
     "output_type": "stream",
     "text": [
      " 32%|███▏      | 241/750 [49:05<1:44:29, 12.32s/it]"
     ]
    },
    {
     "name": "stdout",
     "output_type": "stream",
     "text": [
      "error: code=401\n",
      "url=https://api-us.faceplusplus.com/facepp/v3/compare\n",
      "b'{\"error_message\":\"AUTHENTICATION_ERROR\"}\\n'\n",
      "error: code=401\n",
      "url=https://api-us.faceplusplus.com/facepp/v3/compare\n",
      "b'{\"error_message\":\"AUTHENTICATION_ERROR\"}\\n'\n",
      "error: code=401\n",
      "url=https://api-us.faceplusplus.com/facepp/v3/compare\n",
      "b'{\"error_message\":\"AUTHENTICATION_ERROR\"}\\n'\n",
      "error: code=401\n",
      "url=https://api-us.faceplusplus.com/facepp/v3/compare\n",
      "b'{\"error_message\":\"AUTHENTICATION_ERROR\"}\\n'\n",
      "error: code=401\n",
      "url=https://api-us.faceplusplus.com/facepp/v3/compare\n",
      "b'{\"error_message\":\"AUTHENTICATION_ERROR\"}\\n'\n",
      "error: code=401\n",
      "url=https://api-us.faceplusplus.com/facepp/v3/compare\n",
      "b'{\"error_message\":\"AUTHENTICATION_ERROR\"}\\n'\n",
      "error: code=401\n",
      "url=https://api-us.faceplusplus.com/facepp/v3/compare\n",
      "b'{\"error_message\":\"AUTHENTICATION_ERROR\"}\\n'\n",
      "error: code=401\n",
      "url=https://api-us.faceplusplus.com/facepp/v3/compare\n",
      "b'{\"error_message\":\"AUTHENTICATION_ERROR\"}\\n'\n"
     ]
    },
    {
     "name": "stderr",
     "output_type": "stream",
     "text": [
      " 32%|███▏      | 242/750 [49:17<1:43:54, 12.27s/it]"
     ]
    },
    {
     "name": "stdout",
     "output_type": "stream",
     "text": [
      "error: code=401\n",
      "url=https://api-us.faceplusplus.com/facepp/v3/compare\n",
      "b'{\"error_message\":\"AUTHENTICATION_ERROR\"}\\n'\n",
      "error: code=401\n",
      "url=https://api-us.faceplusplus.com/facepp/v3/compare\n",
      "b'{\"error_message\":\"AUTHENTICATION_ERROR\"}\\n'\n",
      "error: code=401\n",
      "url=https://api-us.faceplusplus.com/facepp/v3/compare\n",
      "b'{\"error_message\":\"AUTHENTICATION_ERROR\"}\\n'\n",
      "error: code=401\n",
      "url=https://api-us.faceplusplus.com/facepp/v3/compare\n",
      "b'{\"error_message\":\"AUTHENTICATION_ERROR\"}\\n'\n",
      "error: code=401\n",
      "url=https://api-us.faceplusplus.com/facepp/v3/compare\n",
      "b'{\"error_message\":\"AUTHENTICATION_ERROR\"}\\n'\n",
      "error: code=401\n",
      "url=https://api-us.faceplusplus.com/facepp/v3/compare\n",
      "b'{\"error_message\":\"AUTHENTICATION_ERROR\"}\\n'\n",
      "error: code=401\n",
      "url=https://api-us.faceplusplus.com/facepp/v3/compare\n",
      "b'{\"error_message\":\"AUTHENTICATION_ERROR\"}\\n'\n",
      "error: code=401\n",
      "url=https://api-us.faceplusplus.com/facepp/v3/compare\n",
      "b'{\"error_message\":\"AUTHENTICATION_ERROR\"}\\n'\n"
     ]
    },
    {
     "name": "stderr",
     "output_type": "stream",
     "text": [
      " 32%|███▏      | 243/750 [49:29<1:42:55, 12.18s/it]"
     ]
    },
    {
     "name": "stdout",
     "output_type": "stream",
     "text": [
      "error: code=401\n",
      "url=https://api-us.faceplusplus.com/facepp/v3/compare\n",
      "b'{\"error_message\":\"AUTHENTICATION_ERROR\"}\\n'\n",
      "error: code=401\n",
      "url=https://api-us.faceplusplus.com/facepp/v3/compare\n",
      "b'{\"error_message\":\"AUTHENTICATION_ERROR\"}\\n'\n",
      "error: code=401\n",
      "url=https://api-us.faceplusplus.com/facepp/v3/compare\n",
      "b'{\"error_message\":\"AUTHENTICATION_ERROR\"}\\n'\n",
      "error: code=401\n",
      "url=https://api-us.faceplusplus.com/facepp/v3/compare\n",
      "b'{\"error_message\":\"AUTHENTICATION_ERROR\"}\\n'\n",
      "error: code=401\n",
      "url=https://api-us.faceplusplus.com/facepp/v3/compare\n",
      "b'{\"error_message\":\"AUTHENTICATION_ERROR\"}\\n'\n",
      "error: code=401\n",
      "url=https://api-us.faceplusplus.com/facepp/v3/compare\n",
      "b'{\"error_message\":\"AUTHENTICATION_ERROR\"}\\n'\n",
      "error: code=401\n",
      "url=https://api-us.faceplusplus.com/facepp/v3/compare\n",
      "b'{\"error_message\":\"AUTHENTICATION_ERROR\"}\\n'\n",
      "error: code=401\n",
      "url=https://api-us.faceplusplus.com/facepp/v3/compare\n",
      "b'{\"error_message\":\"AUTHENTICATION_ERROR\"}\\n'\n"
     ]
    },
    {
     "name": "stderr",
     "output_type": "stream",
     "text": [
      " 33%|███▎      | 244/750 [49:42<1:43:19, 12.25s/it]"
     ]
    },
    {
     "name": "stdout",
     "output_type": "stream",
     "text": [
      "error: code=401\n",
      "url=https://api-us.faceplusplus.com/facepp/v3/compare\n",
      "b'{\"error_message\":\"AUTHENTICATION_ERROR\"}\\n'\n",
      "error: code=401\n",
      "url=https://api-us.faceplusplus.com/facepp/v3/compare\n",
      "b'{\"error_message\":\"AUTHENTICATION_ERROR\"}\\n'\n",
      "error: code=401\n",
      "url=https://api-us.faceplusplus.com/facepp/v3/compare\n",
      "b'{\"error_message\":\"AUTHENTICATION_ERROR\"}\\n'\n",
      "error: code=401\n",
      "url=https://api-us.faceplusplus.com/facepp/v3/compare\n",
      "b'{\"error_message\":\"AUTHENTICATION_ERROR\"}\\n'\n",
      "error: code=401\n",
      "url=https://api-us.faceplusplus.com/facepp/v3/compare\n",
      "b'{\"error_message\":\"AUTHENTICATION_ERROR\"}\\n'\n",
      "error: code=401\n",
      "url=https://api-us.faceplusplus.com/facepp/v3/compare\n",
      "b'{\"error_message\":\"AUTHENTICATION_ERROR\"}\\n'\n",
      "error: code=401\n",
      "url=https://api-us.faceplusplus.com/facepp/v3/compare\n",
      "b'{\"error_message\":\"AUTHENTICATION_ERROR\"}\\n'\n",
      "error: code=401\n",
      "url=https://api-us.faceplusplus.com/facepp/v3/compare\n",
      "b'{\"error_message\":\"AUTHENTICATION_ERROR\"}\\n'\n"
     ]
    },
    {
     "name": "stderr",
     "output_type": "stream",
     "text": [
      " 33%|███▎      | 245/750 [49:54<1:42:59, 12.24s/it]"
     ]
    },
    {
     "name": "stdout",
     "output_type": "stream",
     "text": [
      "error: code=401\n",
      "url=https://api-us.faceplusplus.com/facepp/v3/compare\n",
      "b'{\"error_message\":\"AUTHENTICATION_ERROR\"}\\n'\n",
      "error: code=401\n",
      "url=https://api-us.faceplusplus.com/facepp/v3/compare\n",
      "b'{\"error_message\":\"AUTHENTICATION_ERROR\"}\\n'\n",
      "error: code=401\n",
      "url=https://api-us.faceplusplus.com/facepp/v3/compare\n",
      "b'{\"error_message\":\"AUTHENTICATION_ERROR\"}\\n'\n",
      "error: code=401\n",
      "url=https://api-us.faceplusplus.com/facepp/v3/compare\n",
      "b'{\"error_message\":\"AUTHENTICATION_ERROR\"}\\n'\n",
      "error: code=401\n",
      "url=https://api-us.faceplusplus.com/facepp/v3/compare\n",
      "b'{\"error_message\":\"AUTHENTICATION_ERROR\"}\\n'\n",
      "error: code=401\n",
      "url=https://api-us.faceplusplus.com/facepp/v3/compare\n",
      "b'{\"error_message\":\"AUTHENTICATION_ERROR\"}\\n'\n",
      "error: code=401\n",
      "url=https://api-us.faceplusplus.com/facepp/v3/compare\n",
      "b'{\"error_message\":\"AUTHENTICATION_ERROR\"}\\n'\n",
      "error: code=401\n",
      "url=https://api-us.faceplusplus.com/facepp/v3/compare\n",
      "b'{\"error_message\":\"AUTHENTICATION_ERROR\"}\\n'\n"
     ]
    },
    {
     "name": "stderr",
     "output_type": "stream",
     "text": [
      " 33%|███▎      | 246/750 [50:06<1:41:58, 12.14s/it]"
     ]
    },
    {
     "name": "stdout",
     "output_type": "stream",
     "text": [
      "error: code=401\n",
      "url=https://api-us.faceplusplus.com/facepp/v3/compare\n",
      "b'{\"error_message\":\"AUTHENTICATION_ERROR\"}\\n'\n",
      "error: code=401\n",
      "url=https://api-us.faceplusplus.com/facepp/v3/compare\n",
      "b'{\"error_message\":\"AUTHENTICATION_ERROR\"}\\n'\n",
      "error: code=401\n",
      "url=https://api-us.faceplusplus.com/facepp/v3/compare\n",
      "b'{\"error_message\":\"AUTHENTICATION_ERROR\"}\\n'\n",
      "error: code=401\n",
      "url=https://api-us.faceplusplus.com/facepp/v3/compare\n",
      "b'{\"error_message\":\"AUTHENTICATION_ERROR\"}\\n'\n",
      "error: code=401\n",
      "url=https://api-us.faceplusplus.com/facepp/v3/compare\n",
      "b'{\"error_message\":\"AUTHENTICATION_ERROR\"}\\n'\n",
      "error: code=401\n",
      "url=https://api-us.faceplusplus.com/facepp/v3/compare\n",
      "b'{\"error_message\":\"AUTHENTICATION_ERROR\"}\\n'\n",
      "error: code=401\n",
      "url=https://api-us.faceplusplus.com/facepp/v3/compare\n",
      "b'{\"error_message\":\"AUTHENTICATION_ERROR\"}\\n'\n",
      "error: code=401\n",
      "url=https://api-us.faceplusplus.com/facepp/v3/compare\n",
      "b'{\"error_message\":\"AUTHENTICATION_ERROR\"}\\n'\n"
     ]
    },
    {
     "name": "stderr",
     "output_type": "stream",
     "text": [
      " 33%|███▎      | 247/750 [50:18<1:41:24, 12.10s/it]"
     ]
    },
    {
     "name": "stdout",
     "output_type": "stream",
     "text": [
      "error: code=401\n",
      "url=https://api-us.faceplusplus.com/facepp/v3/compare\n",
      "b'{\"error_message\":\"AUTHENTICATION_ERROR\"}\\n'\n",
      "error: code=401\n",
      "url=https://api-us.faceplusplus.com/facepp/v3/compare\n",
      "b'{\"error_message\":\"AUTHENTICATION_ERROR\"}\\n'\n",
      "error: code=401\n",
      "url=https://api-us.faceplusplus.com/facepp/v3/compare\n",
      "b'{\"error_message\":\"AUTHENTICATION_ERROR\"}\\n'\n",
      "error: code=401\n",
      "url=https://api-us.faceplusplus.com/facepp/v3/compare\n",
      "b'{\"error_message\":\"AUTHENTICATION_ERROR\"}\\n'\n",
      "error: code=401\n",
      "url=https://api-us.faceplusplus.com/facepp/v3/compare\n",
      "b'{\"error_message\":\"AUTHENTICATION_ERROR\"}\\n'\n",
      "error: code=401\n",
      "url=https://api-us.faceplusplus.com/facepp/v3/compare\n",
      "b'{\"error_message\":\"AUTHENTICATION_ERROR\"}\\n'\n",
      "error: code=401\n",
      "url=https://api-us.faceplusplus.com/facepp/v3/compare\n",
      "b'{\"error_message\":\"AUTHENTICATION_ERROR\"}\\n'\n",
      "error: code=401\n",
      "url=https://api-us.faceplusplus.com/facepp/v3/compare\n",
      "b'{\"error_message\":\"AUTHENTICATION_ERROR\"}\\n'\n"
     ]
    },
    {
     "name": "stderr",
     "output_type": "stream",
     "text": [
      " 33%|███▎      | 248/750 [50:30<1:42:13, 12.22s/it]"
     ]
    },
    {
     "name": "stdout",
     "output_type": "stream",
     "text": [
      "error: code=401\n",
      "url=https://api-us.faceplusplus.com/facepp/v3/compare\n",
      "b'{\"error_message\":\"AUTHENTICATION_ERROR\"}\\n'\n",
      "error: code=401\n",
      "url=https://api-us.faceplusplus.com/facepp/v3/compare\n",
      "b'{\"error_message\":\"AUTHENTICATION_ERROR\"}\\n'\n",
      "error: code=401\n",
      "url=https://api-us.faceplusplus.com/facepp/v3/compare\n",
      "b'{\"error_message\":\"AUTHENTICATION_ERROR\"}\\n'\n",
      "error: code=401\n",
      "url=https://api-us.faceplusplus.com/facepp/v3/compare\n",
      "b'{\"error_message\":\"AUTHENTICATION_ERROR\"}\\n'\n",
      "error: code=401\n",
      "url=https://api-us.faceplusplus.com/facepp/v3/compare\n",
      "b'{\"error_message\":\"AUTHENTICATION_ERROR\"}\\n'\n",
      "error: code=401\n",
      "url=https://api-us.faceplusplus.com/facepp/v3/compare\n",
      "b'{\"error_message\":\"AUTHENTICATION_ERROR\"}\\n'\n",
      "error: code=401\n",
      "url=https://api-us.faceplusplus.com/facepp/v3/compare\n",
      "b'{\"error_message\":\"AUTHENTICATION_ERROR\"}\\n'\n",
      "error: code=401\n",
      "url=https://api-us.faceplusplus.com/facepp/v3/compare\n",
      "b'{\"error_message\":\"AUTHENTICATION_ERROR\"}\\n'\n"
     ]
    },
    {
     "name": "stderr",
     "output_type": "stream",
     "text": [
      " 33%|███▎      | 249/750 [50:42<1:41:21, 12.14s/it]"
     ]
    },
    {
     "name": "stdout",
     "output_type": "stream",
     "text": [
      "error: code=401\n",
      "url=https://api-us.faceplusplus.com/facepp/v3/compare\n",
      "b'{\"error_message\":\"AUTHENTICATION_ERROR\"}\\n'\n",
      "error: code=401\n",
      "url=https://api-us.faceplusplus.com/facepp/v3/compare\n",
      "b'{\"error_message\":\"AUTHENTICATION_ERROR\"}\\n'\n",
      "error: code=401\n",
      "url=https://api-us.faceplusplus.com/facepp/v3/compare\n",
      "b'{\"error_message\":\"AUTHENTICATION_ERROR\"}\\n'\n",
      "error: code=401\n",
      "url=https://api-us.faceplusplus.com/facepp/v3/compare\n",
      "b'{\"error_message\":\"AUTHENTICATION_ERROR\"}\\n'\n",
      "error: code=401\n",
      "url=https://api-us.faceplusplus.com/facepp/v3/compare\n",
      "b'{\"error_message\":\"AUTHENTICATION_ERROR\"}\\n'\n",
      "error: code=401\n",
      "url=https://api-us.faceplusplus.com/facepp/v3/compare\n",
      "b'{\"error_message\":\"AUTHENTICATION_ERROR\"}\\n'\n",
      "error: code=401\n",
      "url=https://api-us.faceplusplus.com/facepp/v3/compare\n",
      "b'{\"error_message\":\"AUTHENTICATION_ERROR\"}\\n'\n",
      "error: code=401\n",
      "url=https://api-us.faceplusplus.com/facepp/v3/compare\n",
      "b'{\"error_message\":\"AUTHENTICATION_ERROR\"}\\n'\n"
     ]
    },
    {
     "name": "stderr",
     "output_type": "stream",
     "text": [
      " 33%|███▎      | 250/750 [50:55<1:42:32, 12.31s/it]"
     ]
    },
    {
     "name": "stdout",
     "output_type": "stream",
     "text": [
      "error: code=401\n",
      "url=https://api-us.faceplusplus.com/facepp/v3/compare\n",
      "b'{\"error_message\":\"AUTHENTICATION_ERROR\"}\\n'\n",
      "error: code=401\n",
      "url=https://api-us.faceplusplus.com/facepp/v3/compare\n",
      "b'{\"error_message\":\"AUTHENTICATION_ERROR\"}\\n'\n",
      "error: code=401\n",
      "url=https://api-us.faceplusplus.com/facepp/v3/compare\n",
      "b'{\"error_message\":\"AUTHENTICATION_ERROR\"}\\n'\n",
      "error: code=401\n",
      "url=https://api-us.faceplusplus.com/facepp/v3/compare\n",
      "b'{\"error_message\":\"AUTHENTICATION_ERROR\"}\\n'\n",
      "error: code=401\n",
      "url=https://api-us.faceplusplus.com/facepp/v3/compare\n",
      "b'{\"error_message\":\"AUTHENTICATION_ERROR\"}\\n'\n",
      "error: code=401\n",
      "url=https://api-us.faceplusplus.com/facepp/v3/compare\n",
      "b'{\"error_message\":\"AUTHENTICATION_ERROR\"}\\n'\n",
      "error: code=401\n",
      "url=https://api-us.faceplusplus.com/facepp/v3/compare\n",
      "b'{\"error_message\":\"AUTHENTICATION_ERROR\"}\\n'\n",
      "error: code=401\n",
      "url=https://api-us.faceplusplus.com/facepp/v3/compare\n",
      "b'{\"error_message\":\"AUTHENTICATION_ERROR\"}\\n'\n"
     ]
    },
    {
     "name": "stderr",
     "output_type": "stream",
     "text": [
      " 33%|███▎      | 251/750 [51:07<1:42:00, 12.26s/it]"
     ]
    },
    {
     "name": "stdout",
     "output_type": "stream",
     "text": [
      "error: code=401\n",
      "url=https://api-us.faceplusplus.com/facepp/v3/compare\n",
      "b'{\"error_message\":\"AUTHENTICATION_ERROR\"}\\n'\n",
      "error: code=401\n",
      "url=https://api-us.faceplusplus.com/facepp/v3/compare\n",
      "b'{\"error_message\":\"AUTHENTICATION_ERROR\"}\\n'\n",
      "error: code=401\n",
      "url=https://api-us.faceplusplus.com/facepp/v3/compare\n",
      "b'{\"error_message\":\"AUTHENTICATION_ERROR\"}\\n'\n",
      "error: code=401\n",
      "url=https://api-us.faceplusplus.com/facepp/v3/compare\n",
      "b'{\"error_message\":\"AUTHENTICATION_ERROR\"}\\n'\n",
      "error: code=401\n",
      "url=https://api-us.faceplusplus.com/facepp/v3/compare\n",
      "b'{\"error_message\":\"AUTHENTICATION_ERROR\"}\\n'\n",
      "error: code=401\n",
      "url=https://api-us.faceplusplus.com/facepp/v3/compare\n",
      "b'{\"error_message\":\"AUTHENTICATION_ERROR\"}\\n'\n",
      "error: code=401\n",
      "url=https://api-us.faceplusplus.com/facepp/v3/compare\n",
      "b'{\"error_message\":\"AUTHENTICATION_ERROR\"}\\n'\n",
      "error: code=401\n",
      "url=https://api-us.faceplusplus.com/facepp/v3/compare\n",
      "b'{\"error_message\":\"AUTHENTICATION_ERROR\"}\\n'\n"
     ]
    },
    {
     "name": "stderr",
     "output_type": "stream",
     "text": [
      " 34%|███▎      | 252/750 [51:19<1:41:08, 12.19s/it]"
     ]
    },
    {
     "name": "stdout",
     "output_type": "stream",
     "text": [
      "error: code=401\n",
      "url=https://api-us.faceplusplus.com/facepp/v3/compare\n",
      "b'{\"error_message\":\"AUTHENTICATION_ERROR\"}\\n'\n",
      "error: code=401\n",
      "url=https://api-us.faceplusplus.com/facepp/v3/compare\n",
      "b'{\"error_message\":\"AUTHENTICATION_ERROR\"}\\n'\n",
      "error: code=401\n",
      "url=https://api-us.faceplusplus.com/facepp/v3/compare\n",
      "b'{\"error_message\":\"AUTHENTICATION_ERROR\"}\\n'\n",
      "error: code=401\n",
      "url=https://api-us.faceplusplus.com/facepp/v3/compare\n",
      "b'{\"error_message\":\"AUTHENTICATION_ERROR\"}\\n'\n",
      "error: code=401\n",
      "url=https://api-us.faceplusplus.com/facepp/v3/compare\n",
      "b'{\"error_message\":\"AUTHENTICATION_ERROR\"}\\n'\n",
      "error: code=401\n",
      "url=https://api-us.faceplusplus.com/facepp/v3/compare\n",
      "b'{\"error_message\":\"AUTHENTICATION_ERROR\"}\\n'\n",
      "error: code=401\n",
      "url=https://api-us.faceplusplus.com/facepp/v3/compare\n",
      "b'{\"error_message\":\"AUTHENTICATION_ERROR\"}\\n'\n",
      "error: code=401\n",
      "url=https://api-us.faceplusplus.com/facepp/v3/compare\n",
      "b'{\"error_message\":\"AUTHENTICATION_ERROR\"}\\n'\n"
     ]
    },
    {
     "name": "stderr",
     "output_type": "stream",
     "text": [
      " 34%|███▎      | 253/750 [51:31<1:41:01, 12.20s/it]"
     ]
    },
    {
     "name": "stdout",
     "output_type": "stream",
     "text": [
      "error: code=401\n",
      "url=https://api-us.faceplusplus.com/facepp/v3/compare\n",
      "b'{\"error_message\":\"AUTHENTICATION_ERROR\"}\\n'\n",
      "error: code=401\n",
      "url=https://api-us.faceplusplus.com/facepp/v3/compare\n",
      "b'{\"error_message\":\"AUTHENTICATION_ERROR\"}\\n'\n",
      "error: code=401\n",
      "url=https://api-us.faceplusplus.com/facepp/v3/compare\n",
      "b'{\"error_message\":\"AUTHENTICATION_ERROR\"}\\n'\n",
      "error: code=401\n",
      "url=https://api-us.faceplusplus.com/facepp/v3/compare\n",
      "b'{\"error_message\":\"AUTHENTICATION_ERROR\"}\\n'\n",
      "error: code=401\n",
      "url=https://api-us.faceplusplus.com/facepp/v3/compare\n",
      "b'{\"error_message\":\"AUTHENTICATION_ERROR\"}\\n'\n",
      "error: code=401\n",
      "url=https://api-us.faceplusplus.com/facepp/v3/compare\n",
      "b'{\"error_message\":\"AUTHENTICATION_ERROR\"}\\n'\n",
      "error: code=401\n",
      "url=https://api-us.faceplusplus.com/facepp/v3/compare\n",
      "b'{\"error_message\":\"AUTHENTICATION_ERROR\"}\\n'\n",
      "error: code=401\n",
      "url=https://api-us.faceplusplus.com/facepp/v3/compare\n",
      "b'{\"error_message\":\"AUTHENTICATION_ERROR\"}\\n'\n"
     ]
    },
    {
     "name": "stderr",
     "output_type": "stream",
     "text": [
      " 34%|███▍      | 254/750 [51:44<1:40:37, 12.17s/it]"
     ]
    },
    {
     "name": "stdout",
     "output_type": "stream",
     "text": [
      "error: code=401\n",
      "url=https://api-us.faceplusplus.com/facepp/v3/compare\n",
      "b'{\"error_message\":\"AUTHENTICATION_ERROR\"}\\n'\n",
      "error: code=401\n",
      "url=https://api-us.faceplusplus.com/facepp/v3/compare\n",
      "b'{\"error_message\":\"AUTHENTICATION_ERROR\"}\\n'\n",
      "error: code=401\n",
      "url=https://api-us.faceplusplus.com/facepp/v3/compare\n",
      "b'{\"error_message\":\"AUTHENTICATION_ERROR\"}\\n'\n",
      "error: code=401\n",
      "url=https://api-us.faceplusplus.com/facepp/v3/compare\n",
      "b'{\"error_message\":\"AUTHENTICATION_ERROR\"}\\n'\n",
      "error: code=401\n",
      "url=https://api-us.faceplusplus.com/facepp/v3/compare\n",
      "b'{\"error_message\":\"AUTHENTICATION_ERROR\"}\\n'\n",
      "error: code=401\n",
      "url=https://api-us.faceplusplus.com/facepp/v3/compare\n",
      "b'{\"error_message\":\"AUTHENTICATION_ERROR\"}\\n'\n",
      "error: code=401\n",
      "url=https://api-us.faceplusplus.com/facepp/v3/compare\n",
      "b'{\"error_message\":\"AUTHENTICATION_ERROR\"}\\n'\n",
      "error: code=401\n",
      "url=https://api-us.faceplusplus.com/facepp/v3/compare\n",
      "b'{\"error_message\":\"AUTHENTICATION_ERROR\"}\\n'\n"
     ]
    },
    {
     "name": "stderr",
     "output_type": "stream",
     "text": [
      " 34%|███▍      | 255/750 [51:56<1:40:39, 12.20s/it]"
     ]
    },
    {
     "name": "stdout",
     "output_type": "stream",
     "text": [
      "error: code=401\n",
      "url=https://api-us.faceplusplus.com/facepp/v3/compare\n",
      "b'{\"error_message\":\"AUTHENTICATION_ERROR\"}\\n'\n",
      "error: code=401\n",
      "url=https://api-us.faceplusplus.com/facepp/v3/compare\n",
      "b'{\"error_message\":\"AUTHENTICATION_ERROR\"}\\n'\n",
      "error: code=401\n",
      "url=https://api-us.faceplusplus.com/facepp/v3/compare\n",
      "b'{\"error_message\":\"AUTHENTICATION_ERROR\"}\\n'\n",
      "error: code=401\n",
      "url=https://api-us.faceplusplus.com/facepp/v3/compare\n",
      "b'{\"error_message\":\"AUTHENTICATION_ERROR\"}\\n'\n",
      "error: code=401\n",
      "url=https://api-us.faceplusplus.com/facepp/v3/compare\n",
      "b'{\"error_message\":\"AUTHENTICATION_ERROR\"}\\n'\n",
      "error: code=401\n",
      "url=https://api-us.faceplusplus.com/facepp/v3/compare\n",
      "b'{\"error_message\":\"AUTHENTICATION_ERROR\"}\\n'\n",
      "error: code=401\n",
      "url=https://api-us.faceplusplus.com/facepp/v3/compare\n",
      "b'{\"error_message\":\"AUTHENTICATION_ERROR\"}\\n'\n",
      "error: code=401\n",
      "url=https://api-us.faceplusplus.com/facepp/v3/compare\n",
      "b'{\"error_message\":\"AUTHENTICATION_ERROR\"}\\n'\n"
     ]
    },
    {
     "name": "stderr",
     "output_type": "stream",
     "text": [
      " 34%|███▍      | 256/750 [52:08<1:40:25, 12.20s/it]"
     ]
    },
    {
     "name": "stdout",
     "output_type": "stream",
     "text": [
      "error: code=401\n",
      "url=https://api-us.faceplusplus.com/facepp/v3/compare\n",
      "b'{\"error_message\":\"AUTHENTICATION_ERROR\"}\\n'\n",
      "error: code=401\n",
      "url=https://api-us.faceplusplus.com/facepp/v3/compare\n",
      "b'{\"error_message\":\"AUTHENTICATION_ERROR\"}\\n'\n",
      "error: code=401\n",
      "url=https://api-us.faceplusplus.com/facepp/v3/compare\n",
      "b'{\"error_message\":\"AUTHENTICATION_ERROR\"}\\n'\n",
      "error: code=401\n",
      "url=https://api-us.faceplusplus.com/facepp/v3/compare\n",
      "b'{\"error_message\":\"AUTHENTICATION_ERROR\"}\\n'\n",
      "error: code=401\n",
      "url=https://api-us.faceplusplus.com/facepp/v3/compare\n",
      "b'{\"error_message\":\"AUTHENTICATION_ERROR\"}\\n'\n",
      "error: code=401\n",
      "url=https://api-us.faceplusplus.com/facepp/v3/compare\n",
      "b'{\"error_message\":\"AUTHENTICATION_ERROR\"}\\n'\n",
      "error: code=401\n",
      "url=https://api-us.faceplusplus.com/facepp/v3/compare\n",
      "b'{\"error_message\":\"AUTHENTICATION_ERROR\"}\\n'\n",
      "error: code=401\n",
      "url=https://api-us.faceplusplus.com/facepp/v3/compare\n",
      "b'{\"error_message\":\"AUTHENTICATION_ERROR\"}\\n'\n"
     ]
    },
    {
     "name": "stderr",
     "output_type": "stream",
     "text": [
      " 34%|███▍      | 257/750 [52:20<1:40:12, 12.20s/it]"
     ]
    },
    {
     "name": "stdout",
     "output_type": "stream",
     "text": [
      "error: code=401\n",
      "url=https://api-us.faceplusplus.com/facepp/v3/compare\n",
      "b'{\"error_message\":\"AUTHENTICATION_ERROR\"}\\n'\n",
      "error: code=401\n",
      "url=https://api-us.faceplusplus.com/facepp/v3/compare\n",
      "b'{\"error_message\":\"AUTHENTICATION_ERROR\"}\\n'\n",
      "error: code=401\n",
      "url=https://api-us.faceplusplus.com/facepp/v3/compare\n",
      "b'{\"error_message\":\"AUTHENTICATION_ERROR\"}\\n'\n",
      "error: code=401\n",
      "url=https://api-us.faceplusplus.com/facepp/v3/compare\n",
      "b'{\"error_message\":\"AUTHENTICATION_ERROR\"}\\n'\n",
      "error: code=401\n",
      "url=https://api-us.faceplusplus.com/facepp/v3/compare\n",
      "b'{\"error_message\":\"AUTHENTICATION_ERROR\"}\\n'\n",
      "error: code=401\n",
      "url=https://api-us.faceplusplus.com/facepp/v3/compare\n",
      "b'{\"error_message\":\"AUTHENTICATION_ERROR\"}\\n'\n",
      "error: code=401\n",
      "url=https://api-us.faceplusplus.com/facepp/v3/compare\n",
      "b'{\"error_message\":\"AUTHENTICATION_ERROR\"}\\n'\n",
      "error: code=401\n",
      "url=https://api-us.faceplusplus.com/facepp/v3/compare\n",
      "b'{\"error_message\":\"AUTHENTICATION_ERROR\"}\\n'\n"
     ]
    },
    {
     "name": "stderr",
     "output_type": "stream",
     "text": [
      " 34%|███▍      | 258/750 [52:32<1:39:29, 12.13s/it]"
     ]
    },
    {
     "name": "stdout",
     "output_type": "stream",
     "text": [
      "error: code=401\n",
      "url=https://api-us.faceplusplus.com/facepp/v3/compare\n",
      "b'{\"error_message\":\"AUTHENTICATION_ERROR\"}\\n'\n",
      "error: code=401\n",
      "url=https://api-us.faceplusplus.com/facepp/v3/compare\n",
      "b'{\"error_message\":\"AUTHENTICATION_ERROR\"}\\n'\n",
      "error: code=401\n",
      "url=https://api-us.faceplusplus.com/facepp/v3/compare\n",
      "b'{\"error_message\":\"AUTHENTICATION_ERROR\"}\\n'\n",
      "error: code=401\n",
      "url=https://api-us.faceplusplus.com/facepp/v3/compare\n",
      "b'{\"error_message\":\"AUTHENTICATION_ERROR\"}\\n'\n",
      "error: code=401\n",
      "url=https://api-us.faceplusplus.com/facepp/v3/compare\n",
      "b'{\"error_message\":\"AUTHENTICATION_ERROR\"}\\n'\n",
      "error: code=401\n",
      "url=https://api-us.faceplusplus.com/facepp/v3/compare\n",
      "b'{\"error_message\":\"AUTHENTICATION_ERROR\"}\\n'\n",
      "error: code=401\n",
      "url=https://api-us.faceplusplus.com/facepp/v3/compare\n",
      "b'{\"error_message\":\"AUTHENTICATION_ERROR\"}\\n'\n",
      "error: code=401\n",
      "url=https://api-us.faceplusplus.com/facepp/v3/compare\n",
      "b'{\"error_message\":\"AUTHENTICATION_ERROR\"}\\n'\n"
     ]
    },
    {
     "name": "stderr",
     "output_type": "stream",
     "text": [
      " 35%|███▍      | 259/750 [52:45<1:40:06, 12.23s/it]"
     ]
    },
    {
     "name": "stdout",
     "output_type": "stream",
     "text": [
      "error: code=401\n",
      "url=https://api-us.faceplusplus.com/facepp/v3/compare\n",
      "b'{\"error_message\":\"AUTHENTICATION_ERROR\"}\\n'\n",
      "error: code=401\n",
      "url=https://api-us.faceplusplus.com/facepp/v3/compare\n",
      "b'{\"error_message\":\"AUTHENTICATION_ERROR\"}\\n'\n",
      "error: code=401\n",
      "url=https://api-us.faceplusplus.com/facepp/v3/compare\n",
      "b'{\"error_message\":\"AUTHENTICATION_ERROR\"}\\n'\n",
      "error: code=401\n",
      "url=https://api-us.faceplusplus.com/facepp/v3/compare\n",
      "b'{\"error_message\":\"AUTHENTICATION_ERROR\"}\\n'\n",
      "error: code=401\n",
      "url=https://api-us.faceplusplus.com/facepp/v3/compare\n",
      "b'{\"error_message\":\"AUTHENTICATION_ERROR\"}\\n'\n",
      "error: code=401\n",
      "url=https://api-us.faceplusplus.com/facepp/v3/compare\n",
      "b'{\"error_message\":\"AUTHENTICATION_ERROR\"}\\n'\n",
      "error: code=401\n",
      "url=https://api-us.faceplusplus.com/facepp/v3/compare\n",
      "b'{\"error_message\":\"AUTHENTICATION_ERROR\"}\\n'\n",
      "error: code=401\n",
      "url=https://api-us.faceplusplus.com/facepp/v3/compare\n",
      "b'{\"error_message\":\"AUTHENTICATION_ERROR\"}\\n'\n"
     ]
    },
    {
     "name": "stderr",
     "output_type": "stream",
     "text": [
      " 35%|███▍      | 260/750 [52:57<1:39:16, 12.16s/it]"
     ]
    },
    {
     "name": "stdout",
     "output_type": "stream",
     "text": [
      "error: code=401\n",
      "url=https://api-us.faceplusplus.com/facepp/v3/compare\n",
      "b'{\"error_message\":\"AUTHENTICATION_ERROR\"}\\n'\n",
      "error: code=401\n",
      "url=https://api-us.faceplusplus.com/facepp/v3/compare\n",
      "b'{\"error_message\":\"AUTHENTICATION_ERROR\"}\\n'\n",
      "error: code=401\n",
      "url=https://api-us.faceplusplus.com/facepp/v3/compare\n",
      "b'{\"error_message\":\"AUTHENTICATION_ERROR\"}\\n'\n",
      "error: code=401\n",
      "url=https://api-us.faceplusplus.com/facepp/v3/compare\n",
      "b'{\"error_message\":\"AUTHENTICATION_ERROR\"}\\n'\n",
      "error: code=401\n",
      "url=https://api-us.faceplusplus.com/facepp/v3/compare\n",
      "b'{\"error_message\":\"AUTHENTICATION_ERROR\"}\\n'\n",
      "error: code=401\n",
      "url=https://api-us.faceplusplus.com/facepp/v3/compare\n",
      "b'{\"error_message\":\"AUTHENTICATION_ERROR\"}\\n'\n",
      "error: code=401\n",
      "url=https://api-us.faceplusplus.com/facepp/v3/compare\n",
      "b'{\"error_message\":\"AUTHENTICATION_ERROR\"}\\n'\n",
      "error: code=401\n",
      "url=https://api-us.faceplusplus.com/facepp/v3/compare\n",
      "b'{\"error_message\":\"AUTHENTICATION_ERROR\"}\\n'\n"
     ]
    },
    {
     "name": "stderr",
     "output_type": "stream",
     "text": [
      " 35%|███▍      | 261/750 [53:09<1:39:46, 12.24s/it]"
     ]
    },
    {
     "name": "stdout",
     "output_type": "stream",
     "text": [
      "error: code=401\n",
      "url=https://api-us.faceplusplus.com/facepp/v3/compare\n",
      "b'{\"error_message\":\"AUTHENTICATION_ERROR\"}\\n'\n",
      "error: code=401\n",
      "url=https://api-us.faceplusplus.com/facepp/v3/compare\n",
      "b'{\"error_message\":\"AUTHENTICATION_ERROR\"}\\n'\n",
      "error: code=401\n",
      "url=https://api-us.faceplusplus.com/facepp/v3/compare\n",
      "b'{\"error_message\":\"AUTHENTICATION_ERROR\"}\\n'\n",
      "error: code=401\n",
      "url=https://api-us.faceplusplus.com/facepp/v3/compare\n",
      "b'{\"error_message\":\"AUTHENTICATION_ERROR\"}\\n'\n",
      "error: code=401\n",
      "url=https://api-us.faceplusplus.com/facepp/v3/compare\n",
      "b'{\"error_message\":\"AUTHENTICATION_ERROR\"}\\n'\n",
      "error: code=401\n",
      "url=https://api-us.faceplusplus.com/facepp/v3/compare\n",
      "b'{\"error_message\":\"AUTHENTICATION_ERROR\"}\\n'\n",
      "error: code=401\n",
      "url=https://api-us.faceplusplus.com/facepp/v3/compare\n",
      "b'{\"error_message\":\"AUTHENTICATION_ERROR\"}\\n'\n",
      "error: code=401\n",
      "url=https://api-us.faceplusplus.com/facepp/v3/compare\n",
      "b'{\"error_message\":\"AUTHENTICATION_ERROR\"}\\n'\n"
     ]
    },
    {
     "name": "stderr",
     "output_type": "stream",
     "text": [
      " 35%|███▍      | 262/750 [53:21<1:39:06, 12.18s/it]"
     ]
    },
    {
     "name": "stdout",
     "output_type": "stream",
     "text": [
      "error: code=401\n",
      "url=https://api-us.faceplusplus.com/facepp/v3/compare\n",
      "b'{\"error_message\":\"AUTHENTICATION_ERROR\"}\\n'\n",
      "error: code=401\n",
      "url=https://api-us.faceplusplus.com/facepp/v3/compare\n",
      "b'{\"error_message\":\"AUTHENTICATION_ERROR\"}\\n'\n",
      "error: code=401\n",
      "url=https://api-us.faceplusplus.com/facepp/v3/compare\n",
      "b'{\"error_message\":\"AUTHENTICATION_ERROR\"}\\n'\n",
      "error: code=401\n",
      "url=https://api-us.faceplusplus.com/facepp/v3/compare\n",
      "b'{\"error_message\":\"AUTHENTICATION_ERROR\"}\\n'\n",
      "error: code=401\n",
      "url=https://api-us.faceplusplus.com/facepp/v3/compare\n",
      "b'{\"error_message\":\"AUTHENTICATION_ERROR\"}\\n'\n",
      "error: code=401\n",
      "url=https://api-us.faceplusplus.com/facepp/v3/compare\n",
      "b'{\"error_message\":\"AUTHENTICATION_ERROR\"}\\n'\n",
      "error: code=401\n",
      "url=https://api-us.faceplusplus.com/facepp/v3/compare\n",
      "b'{\"error_message\":\"AUTHENTICATION_ERROR\"}\\n'\n",
      "error: code=401\n",
      "url=https://api-us.faceplusplus.com/facepp/v3/compare\n",
      "b'{\"error_message\":\"AUTHENTICATION_ERROR\"}\\n'\n"
     ]
    },
    {
     "name": "stderr",
     "output_type": "stream",
     "text": [
      " 35%|███▌      | 263/750 [53:34<1:40:05, 12.33s/it]"
     ]
    },
    {
     "name": "stdout",
     "output_type": "stream",
     "text": [
      "error: code=401\n",
      "url=https://api-us.faceplusplus.com/facepp/v3/compare\n",
      "b'{\"error_message\":\"AUTHENTICATION_ERROR\"}\\n'\n",
      "error: code=401\n",
      "url=https://api-us.faceplusplus.com/facepp/v3/compare\n",
      "b'{\"error_message\":\"AUTHENTICATION_ERROR\"}\\n'\n",
      "error: code=401\n",
      "url=https://api-us.faceplusplus.com/facepp/v3/compare\n",
      "b'{\"error_message\":\"AUTHENTICATION_ERROR\"}\\n'\n",
      "error: code=401\n",
      "url=https://api-us.faceplusplus.com/facepp/v3/compare\n",
      "b'{\"error_message\":\"AUTHENTICATION_ERROR\"}\\n'\n",
      "error: code=401\n",
      "url=https://api-us.faceplusplus.com/facepp/v3/compare\n",
      "b'{\"error_message\":\"AUTHENTICATION_ERROR\"}\\n'\n",
      "error: code=401\n",
      "url=https://api-us.faceplusplus.com/facepp/v3/compare\n",
      "b'{\"error_message\":\"AUTHENTICATION_ERROR\"}\\n'\n",
      "error: code=401\n",
      "url=https://api-us.faceplusplus.com/facepp/v3/compare\n",
      "b'{\"error_message\":\"AUTHENTICATION_ERROR\"}\\n'\n",
      "error: code=401\n",
      "url=https://api-us.faceplusplus.com/facepp/v3/compare\n",
      "b'{\"error_message\":\"AUTHENTICATION_ERROR\"}\\n'\n"
     ]
    },
    {
     "name": "stderr",
     "output_type": "stream",
     "text": [
      " 35%|███▌      | 264/750 [53:46<1:39:24, 12.27s/it]"
     ]
    },
    {
     "name": "stdout",
     "output_type": "stream",
     "text": [
      "error: code=401\n",
      "url=https://api-us.faceplusplus.com/facepp/v3/compare\n",
      "b'{\"error_message\":\"AUTHENTICATION_ERROR\"}\\n'\n",
      "error: code=401\n",
      "url=https://api-us.faceplusplus.com/facepp/v3/compare\n",
      "b'{\"error_message\":\"AUTHENTICATION_ERROR\"}\\n'\n",
      "error: code=401\n",
      "url=https://api-us.faceplusplus.com/facepp/v3/compare\n",
      "b'{\"error_message\":\"AUTHENTICATION_ERROR\"}\\n'\n",
      "error: code=401\n",
      "url=https://api-us.faceplusplus.com/facepp/v3/compare\n",
      "b'{\"error_message\":\"AUTHENTICATION_ERROR\"}\\n'\n",
      "error: code=401\n",
      "url=https://api-us.faceplusplus.com/facepp/v3/compare\n",
      "b'{\"error_message\":\"AUTHENTICATION_ERROR\"}\\n'\n",
      "error: code=401\n",
      "url=https://api-us.faceplusplus.com/facepp/v3/compare\n",
      "b'{\"error_message\":\"AUTHENTICATION_ERROR\"}\\n'\n",
      "error: code=401\n",
      "url=https://api-us.faceplusplus.com/facepp/v3/compare\n",
      "b'{\"error_message\":\"AUTHENTICATION_ERROR\"}\\n'\n",
      "error: code=401\n",
      "url=https://api-us.faceplusplus.com/facepp/v3/compare\n",
      "b'{\"error_message\":\"AUTHENTICATION_ERROR\"}\\n'\n"
     ]
    },
    {
     "name": "stderr",
     "output_type": "stream",
     "text": [
      " 35%|███▌      | 265/750 [53:58<1:38:52, 12.23s/it]"
     ]
    },
    {
     "name": "stdout",
     "output_type": "stream",
     "text": [
      "error: code=401\n",
      "url=https://api-us.faceplusplus.com/facepp/v3/compare\n",
      "b'{\"error_message\":\"AUTHENTICATION_ERROR\"}\\n'\n",
      "error: code=401\n",
      "url=https://api-us.faceplusplus.com/facepp/v3/compare\n",
      "b'{\"error_message\":\"AUTHENTICATION_ERROR\"}\\n'\n",
      "error: code=401\n",
      "url=https://api-us.faceplusplus.com/facepp/v3/compare\n",
      "b'{\"error_message\":\"AUTHENTICATION_ERROR\"}\\n'\n",
      "error: code=401\n",
      "url=https://api-us.faceplusplus.com/facepp/v3/compare\n",
      "b'{\"error_message\":\"AUTHENTICATION_ERROR\"}\\n'\n",
      "error: code=401\n",
      "url=https://api-us.faceplusplus.com/facepp/v3/compare\n",
      "b'{\"error_message\":\"AUTHENTICATION_ERROR\"}\\n'\n",
      "error: code=401\n",
      "url=https://api-us.faceplusplus.com/facepp/v3/compare\n",
      "b'{\"error_message\":\"AUTHENTICATION_ERROR\"}\\n'\n",
      "error: code=401\n",
      "url=https://api-us.faceplusplus.com/facepp/v3/compare\n",
      "b'{\"error_message\":\"AUTHENTICATION_ERROR\"}\\n'\n",
      "error: code=401\n",
      "url=https://api-us.faceplusplus.com/facepp/v3/compare\n",
      "b'{\"error_message\":\"AUTHENTICATION_ERROR\"}\\n'\n"
     ]
    },
    {
     "name": "stderr",
     "output_type": "stream",
     "text": [
      " 35%|███▌      | 266/750 [54:10<1:38:12, 12.17s/it]"
     ]
    },
    {
     "name": "stdout",
     "output_type": "stream",
     "text": [
      "error: code=401\n",
      "url=https://api-us.faceplusplus.com/facepp/v3/compare\n",
      "b'{\"error_message\":\"AUTHENTICATION_ERROR\"}\\n'\n",
      "error: code=401\n",
      "url=https://api-us.faceplusplus.com/facepp/v3/compare\n",
      "b'{\"error_message\":\"AUTHENTICATION_ERROR\"}\\n'\n",
      "error: code=401\n",
      "url=https://api-us.faceplusplus.com/facepp/v3/compare\n",
      "b'{\"error_message\":\"AUTHENTICATION_ERROR\"}\\n'\n",
      "error: code=401\n",
      "url=https://api-us.faceplusplus.com/facepp/v3/compare\n",
      "b'{\"error_message\":\"AUTHENTICATION_ERROR\"}\\n'\n",
      "error: code=401\n",
      "url=https://api-us.faceplusplus.com/facepp/v3/compare\n",
      "b'{\"error_message\":\"AUTHENTICATION_ERROR\"}\\n'\n",
      "error: code=401\n",
      "url=https://api-us.faceplusplus.com/facepp/v3/compare\n",
      "b'{\"error_message\":\"AUTHENTICATION_ERROR\"}\\n'\n",
      "error: code=401\n",
      "url=https://api-us.faceplusplus.com/facepp/v3/compare\n",
      "b'{\"error_message\":\"AUTHENTICATION_ERROR\"}\\n'\n",
      "error: code=401\n",
      "url=https://api-us.faceplusplus.com/facepp/v3/compare\n",
      "b'{\"error_message\":\"AUTHENTICATION_ERROR\"}\\n'\n"
     ]
    },
    {
     "name": "stderr",
     "output_type": "stream",
     "text": [
      " 36%|███▌      | 267/750 [54:22<1:37:23, 12.10s/it]"
     ]
    },
    {
     "name": "stdout",
     "output_type": "stream",
     "text": [
      "error: code=401\n",
      "url=https://api-us.faceplusplus.com/facepp/v3/compare\n",
      "b'{\"error_message\":\"AUTHENTICATION_ERROR\"}\\n'\n",
      "error: code=401\n",
      "url=https://api-us.faceplusplus.com/facepp/v3/compare\n",
      "b'{\"error_message\":\"AUTHENTICATION_ERROR\"}\\n'\n",
      "error: code=401\n",
      "url=https://api-us.faceplusplus.com/facepp/v3/compare\n",
      "b'{\"error_message\":\"AUTHENTICATION_ERROR\"}\\n'\n",
      "error: code=401\n",
      "url=https://api-us.faceplusplus.com/facepp/v3/compare\n",
      "b'{\"error_message\":\"AUTHENTICATION_ERROR\"}\\n'\n",
      "error: code=401\n",
      "url=https://api-us.faceplusplus.com/facepp/v3/compare\n",
      "b'{\"error_message\":\"AUTHENTICATION_ERROR\"}\\n'\n",
      "error: code=401\n",
      "url=https://api-us.faceplusplus.com/facepp/v3/compare\n",
      "b'{\"error_message\":\"AUTHENTICATION_ERROR\"}\\n'\n",
      "error: code=401\n",
      "url=https://api-us.faceplusplus.com/facepp/v3/compare\n",
      "b'{\"error_message\":\"AUTHENTICATION_ERROR\"}\\n'\n",
      "error: code=401\n",
      "url=https://api-us.faceplusplus.com/facepp/v3/compare\n",
      "b'{\"error_message\":\"AUTHENTICATION_ERROR\"}\\n'\n"
     ]
    },
    {
     "name": "stderr",
     "output_type": "stream",
     "text": [
      " 36%|███▌      | 268/750 [54:34<1:37:10, 12.10s/it]"
     ]
    },
    {
     "name": "stdout",
     "output_type": "stream",
     "text": [
      "error: code=401\n",
      "url=https://api-us.faceplusplus.com/facepp/v3/compare\n",
      "b'{\"error_message\":\"AUTHENTICATION_ERROR\"}\\n'\n",
      "error: code=401\n",
      "url=https://api-us.faceplusplus.com/facepp/v3/compare\n",
      "b'{\"error_message\":\"AUTHENTICATION_ERROR\"}\\n'\n",
      "error: code=401\n",
      "url=https://api-us.faceplusplus.com/facepp/v3/compare\n",
      "b'{\"error_message\":\"AUTHENTICATION_ERROR\"}\\n'\n",
      "error: code=401\n",
      "url=https://api-us.faceplusplus.com/facepp/v3/compare\n",
      "b'{\"error_message\":\"AUTHENTICATION_ERROR\"}\\n'\n",
      "error: code=401\n",
      "url=https://api-us.faceplusplus.com/facepp/v3/compare\n",
      "b'{\"error_message\":\"AUTHENTICATION_ERROR\"}\\n'\n",
      "error: code=401\n",
      "url=https://api-us.faceplusplus.com/facepp/v3/compare\n",
      "b'{\"error_message\":\"AUTHENTICATION_ERROR\"}\\n'\n",
      "error: code=401\n",
      "url=https://api-us.faceplusplus.com/facepp/v3/compare\n",
      "b'{\"error_message\":\"AUTHENTICATION_ERROR\"}\\n'\n",
      "error: code=401\n",
      "url=https://api-us.faceplusplus.com/facepp/v3/compare\n",
      "b'{\"error_message\":\"AUTHENTICATION_ERROR\"}\\n'\n"
     ]
    },
    {
     "name": "stderr",
     "output_type": "stream",
     "text": [
      " 36%|███▌      | 269/750 [54:47<1:37:40, 12.18s/it]"
     ]
    },
    {
     "name": "stdout",
     "output_type": "stream",
     "text": [
      "error: code=401\n",
      "url=https://api-us.faceplusplus.com/facepp/v3/compare\n",
      "b'{\"error_message\":\"AUTHENTICATION_ERROR\"}\\n'\n",
      "error: code=401\n",
      "url=https://api-us.faceplusplus.com/facepp/v3/compare\n",
      "b'{\"error_message\":\"AUTHENTICATION_ERROR\"}\\n'\n",
      "error: code=401\n",
      "url=https://api-us.faceplusplus.com/facepp/v3/compare\n",
      "b'{\"error_message\":\"AUTHENTICATION_ERROR\"}\\n'\n",
      "error: code=401\n",
      "url=https://api-us.faceplusplus.com/facepp/v3/compare\n",
      "b'{\"error_message\":\"AUTHENTICATION_ERROR\"}\\n'\n",
      "error: code=401\n",
      "url=https://api-us.faceplusplus.com/facepp/v3/compare\n",
      "b'{\"error_message\":\"AUTHENTICATION_ERROR\"}\\n'\n",
      "error: code=401\n",
      "url=https://api-us.faceplusplus.com/facepp/v3/compare\n",
      "b'{\"error_message\":\"AUTHENTICATION_ERROR\"}\\n'\n",
      "error: code=401\n",
      "url=https://api-us.faceplusplus.com/facepp/v3/compare\n",
      "b'{\"error_message\":\"AUTHENTICATION_ERROR\"}\\n'\n",
      "error: code=401\n",
      "url=https://api-us.faceplusplus.com/facepp/v3/compare\n",
      "b'{\"error_message\":\"AUTHENTICATION_ERROR\"}\\n'\n"
     ]
    },
    {
     "name": "stderr",
     "output_type": "stream",
     "text": [
      " 36%|███▌      | 270/750 [54:59<1:37:20, 12.17s/it]"
     ]
    },
    {
     "name": "stdout",
     "output_type": "stream",
     "text": [
      "error: code=401\n",
      "url=https://api-us.faceplusplus.com/facepp/v3/compare\n",
      "b'{\"error_message\":\"AUTHENTICATION_ERROR\"}\\n'\n",
      "error: code=401\n",
      "url=https://api-us.faceplusplus.com/facepp/v3/compare\n",
      "b'{\"error_message\":\"AUTHENTICATION_ERROR\"}\\n'\n",
      "error: code=401\n",
      "url=https://api-us.faceplusplus.com/facepp/v3/compare\n",
      "b'{\"error_message\":\"AUTHENTICATION_ERROR\"}\\n'\n",
      "error: code=401\n",
      "url=https://api-us.faceplusplus.com/facepp/v3/compare\n",
      "b'{\"error_message\":\"AUTHENTICATION_ERROR\"}\\n'\n",
      "error: code=401\n",
      "url=https://api-us.faceplusplus.com/facepp/v3/compare\n",
      "b'{\"error_message\":\"AUTHENTICATION_ERROR\"}\\n'\n",
      "error: code=401\n",
      "url=https://api-us.faceplusplus.com/facepp/v3/compare\n",
      "b'{\"error_message\":\"AUTHENTICATION_ERROR\"}\\n'\n",
      "error: code=401\n",
      "url=https://api-us.faceplusplus.com/facepp/v3/compare\n",
      "b'{\"error_message\":\"AUTHENTICATION_ERROR\"}\\n'\n",
      "error: code=401\n",
      "url=https://api-us.faceplusplus.com/facepp/v3/compare\n",
      "b'{\"error_message\":\"AUTHENTICATION_ERROR\"}\\n'\n"
     ]
    },
    {
     "name": "stderr",
     "output_type": "stream",
     "text": [
      " 36%|███▌      | 271/750 [55:11<1:36:50, 12.13s/it]"
     ]
    },
    {
     "name": "stdout",
     "output_type": "stream",
     "text": [
      "error: code=401\n",
      "url=https://api-us.faceplusplus.com/facepp/v3/compare\n",
      "b'{\"error_message\":\"AUTHENTICATION_ERROR\"}\\n'\n",
      "error: code=401\n",
      "url=https://api-us.faceplusplus.com/facepp/v3/compare\n",
      "b'{\"error_message\":\"AUTHENTICATION_ERROR\"}\\n'\n",
      "error: code=401\n",
      "url=https://api-us.faceplusplus.com/facepp/v3/compare\n",
      "b'{\"error_message\":\"AUTHENTICATION_ERROR\"}\\n'\n",
      "error: code=401\n",
      "url=https://api-us.faceplusplus.com/facepp/v3/compare\n",
      "b'{\"error_message\":\"AUTHENTICATION_ERROR\"}\\n'\n",
      "error: code=401\n",
      "url=https://api-us.faceplusplus.com/facepp/v3/compare\n",
      "b'{\"error_message\":\"AUTHENTICATION_ERROR\"}\\n'\n",
      "error: code=401\n",
      "url=https://api-us.faceplusplus.com/facepp/v3/compare\n",
      "b'{\"error_message\":\"AUTHENTICATION_ERROR\"}\\n'\n",
      "error: code=401\n",
      "url=https://api-us.faceplusplus.com/facepp/v3/compare\n",
      "b'{\"error_message\":\"AUTHENTICATION_ERROR\"}\\n'\n",
      "error: code=401\n",
      "url=https://api-us.faceplusplus.com/facepp/v3/compare\n",
      "b'{\"error_message\":\"AUTHENTICATION_ERROR\"}\\n'\n"
     ]
    },
    {
     "name": "stderr",
     "output_type": "stream",
     "text": [
      " 36%|███▋      | 272/750 [55:23<1:37:06, 12.19s/it]"
     ]
    },
    {
     "name": "stdout",
     "output_type": "stream",
     "text": [
      "error: code=401\n",
      "url=https://api-us.faceplusplus.com/facepp/v3/compare\n",
      "b'{\"error_message\":\"AUTHENTICATION_ERROR\"}\\n'\n",
      "error: code=401\n",
      "url=https://api-us.faceplusplus.com/facepp/v3/compare\n",
      "b'{\"error_message\":\"AUTHENTICATION_ERROR\"}\\n'\n",
      "error: code=401\n",
      "url=https://api-us.faceplusplus.com/facepp/v3/compare\n",
      "b'{\"error_message\":\"AUTHENTICATION_ERROR\"}\\n'\n",
      "error: code=401\n",
      "url=https://api-us.faceplusplus.com/facepp/v3/compare\n",
      "b'{\"error_message\":\"AUTHENTICATION_ERROR\"}\\n'\n",
      "error: code=401\n",
      "url=https://api-us.faceplusplus.com/facepp/v3/compare\n",
      "b'{\"error_message\":\"AUTHENTICATION_ERROR\"}\\n'\n",
      "error: code=401\n",
      "url=https://api-us.faceplusplus.com/facepp/v3/compare\n",
      "b'{\"error_message\":\"AUTHENTICATION_ERROR\"}\\n'\n",
      "error: code=401\n",
      "url=https://api-us.faceplusplus.com/facepp/v3/compare\n",
      "b'{\"error_message\":\"AUTHENTICATION_ERROR\"}\\n'\n",
      "error: code=401\n",
      "url=https://api-us.faceplusplus.com/facepp/v3/compare\n",
      "b'{\"error_message\":\"AUTHENTICATION_ERROR\"}\\n'\n"
     ]
    },
    {
     "name": "stderr",
     "output_type": "stream",
     "text": [
      " 36%|███▋      | 273/750 [55:35<1:37:23, 12.25s/it]"
     ]
    },
    {
     "name": "stdout",
     "output_type": "stream",
     "text": [
      "error: code=401\n",
      "url=https://api-us.faceplusplus.com/facepp/v3/compare\n",
      "b'{\"error_message\":\"AUTHENTICATION_ERROR\"}\\n'\n",
      "error: code=401\n",
      "url=https://api-us.faceplusplus.com/facepp/v3/compare\n",
      "b'{\"error_message\":\"AUTHENTICATION_ERROR\"}\\n'\n",
      "error: code=401\n",
      "url=https://api-us.faceplusplus.com/facepp/v3/compare\n",
      "b'{\"error_message\":\"AUTHENTICATION_ERROR\"}\\n'\n",
      "error: code=401\n",
      "url=https://api-us.faceplusplus.com/facepp/v3/compare\n",
      "b'{\"error_message\":\"AUTHENTICATION_ERROR\"}\\n'\n",
      "error: code=401\n",
      "url=https://api-us.faceplusplus.com/facepp/v3/compare\n",
      "b'{\"error_message\":\"AUTHENTICATION_ERROR\"}\\n'\n",
      "error: code=401\n",
      "url=https://api-us.faceplusplus.com/facepp/v3/compare\n",
      "b'{\"error_message\":\"AUTHENTICATION_ERROR\"}\\n'\n",
      "error: code=401\n",
      "url=https://api-us.faceplusplus.com/facepp/v3/compare\n",
      "b'{\"error_message\":\"AUTHENTICATION_ERROR\"}\\n'\n",
      "error: code=401\n",
      "url=https://api-us.faceplusplus.com/facepp/v3/compare\n",
      "b'{\"error_message\":\"AUTHENTICATION_ERROR\"}\\n'\n"
     ]
    },
    {
     "name": "stderr",
     "output_type": "stream",
     "text": [
      " 37%|███▋      | 274/750 [55:47<1:36:13, 12.13s/it]"
     ]
    },
    {
     "name": "stdout",
     "output_type": "stream",
     "text": [
      "error: code=401\n",
      "url=https://api-us.faceplusplus.com/facepp/v3/compare\n",
      "b'{\"error_message\":\"AUTHENTICATION_ERROR\"}\\n'\n",
      "error: code=401\n",
      "url=https://api-us.faceplusplus.com/facepp/v3/compare\n",
      "b'{\"error_message\":\"AUTHENTICATION_ERROR\"}\\n'\n",
      "error: code=401\n",
      "url=https://api-us.faceplusplus.com/facepp/v3/compare\n",
      "b'{\"error_message\":\"AUTHENTICATION_ERROR\"}\\n'\n",
      "error: code=401\n",
      "url=https://api-us.faceplusplus.com/facepp/v3/compare\n",
      "b'{\"error_message\":\"AUTHENTICATION_ERROR\"}\\n'\n",
      "error: code=401\n",
      "url=https://api-us.faceplusplus.com/facepp/v3/compare\n",
      "b'{\"error_message\":\"AUTHENTICATION_ERROR\"}\\n'\n",
      "error: code=401\n",
      "url=https://api-us.faceplusplus.com/facepp/v3/compare\n",
      "b'{\"error_message\":\"AUTHENTICATION_ERROR\"}\\n'\n",
      "error: code=401\n",
      "url=https://api-us.faceplusplus.com/facepp/v3/compare\n",
      "b'{\"error_message\":\"AUTHENTICATION_ERROR\"}\\n'\n",
      "error: code=401\n",
      "url=https://api-us.faceplusplus.com/facepp/v3/compare\n",
      "b'{\"error_message\":\"AUTHENTICATION_ERROR\"}\\n'\n"
     ]
    },
    {
     "name": "stderr",
     "output_type": "stream",
     "text": [
      " 37%|███▋      | 275/750 [55:59<1:35:41, 12.09s/it]"
     ]
    },
    {
     "name": "stdout",
     "output_type": "stream",
     "text": [
      "error: code=401\n",
      "url=https://api-us.faceplusplus.com/facepp/v3/compare\n",
      "b'{\"error_message\":\"AUTHENTICATION_ERROR\"}\\n'\n",
      "error: code=401\n",
      "url=https://api-us.faceplusplus.com/facepp/v3/compare\n",
      "b'{\"error_message\":\"AUTHENTICATION_ERROR\"}\\n'\n",
      "error: code=401\n",
      "url=https://api-us.faceplusplus.com/facepp/v3/compare\n",
      "b'{\"error_message\":\"AUTHENTICATION_ERROR\"}\\n'\n",
      "error: code=401\n",
      "url=https://api-us.faceplusplus.com/facepp/v3/compare\n",
      "b'{\"error_message\":\"AUTHENTICATION_ERROR\"}\\n'\n",
      "error: code=401\n",
      "url=https://api-us.faceplusplus.com/facepp/v3/compare\n",
      "b'{\"error_message\":\"AUTHENTICATION_ERROR\"}\\n'\n",
      "error: code=401\n",
      "url=https://api-us.faceplusplus.com/facepp/v3/compare\n",
      "b'{\"error_message\":\"AUTHENTICATION_ERROR\"}\\n'\n",
      "error: code=401\n",
      "url=https://api-us.faceplusplus.com/facepp/v3/compare\n",
      "b'{\"error_message\":\"AUTHENTICATION_ERROR\"}\\n'\n",
      "error: code=401\n",
      "url=https://api-us.faceplusplus.com/facepp/v3/compare\n",
      "b'{\"error_message\":\"AUTHENTICATION_ERROR\"}\\n'\n"
     ]
    },
    {
     "name": "stderr",
     "output_type": "stream",
     "text": [
      " 37%|███▋      | 276/750 [56:12<1:36:06, 12.17s/it]"
     ]
    },
    {
     "name": "stdout",
     "output_type": "stream",
     "text": [
      "error: code=401\n",
      "url=https://api-us.faceplusplus.com/facepp/v3/compare\n",
      "b'{\"error_message\":\"AUTHENTICATION_ERROR\"}\\n'\n",
      "error: code=401\n",
      "url=https://api-us.faceplusplus.com/facepp/v3/compare\n",
      "b'{\"error_message\":\"AUTHENTICATION_ERROR\"}\\n'\n",
      "error: code=401\n",
      "url=https://api-us.faceplusplus.com/facepp/v3/compare\n",
      "b'{\"error_message\":\"AUTHENTICATION_ERROR\"}\\n'\n",
      "error: code=401\n",
      "url=https://api-us.faceplusplus.com/facepp/v3/compare\n",
      "b'{\"error_message\":\"AUTHENTICATION_ERROR\"}\\n'\n",
      "error: code=401\n",
      "url=https://api-us.faceplusplus.com/facepp/v3/compare\n",
      "b'{\"error_message\":\"AUTHENTICATION_ERROR\"}\\n'\n",
      "error: code=401\n",
      "url=https://api-us.faceplusplus.com/facepp/v3/compare\n",
      "b'{\"error_message\":\"AUTHENTICATION_ERROR\"}\\n'\n",
      "error: code=401\n",
      "url=https://api-us.faceplusplus.com/facepp/v3/compare\n",
      "b'{\"error_message\":\"AUTHENTICATION_ERROR\"}\\n'\n",
      "error: code=401\n",
      "url=https://api-us.faceplusplus.com/facepp/v3/compare\n",
      "b'{\"error_message\":\"AUTHENTICATION_ERROR\"}\\n'\n"
     ]
    },
    {
     "name": "stderr",
     "output_type": "stream",
     "text": [
      " 37%|███▋      | 277/750 [56:24<1:35:58, 12.18s/it]"
     ]
    },
    {
     "name": "stdout",
     "output_type": "stream",
     "text": [
      "error: code=401\n",
      "url=https://api-us.faceplusplus.com/facepp/v3/compare\n",
      "b'{\"error_message\":\"AUTHENTICATION_ERROR\"}\\n'\n",
      "error: code=401\n",
      "url=https://api-us.faceplusplus.com/facepp/v3/compare\n",
      "b'{\"error_message\":\"AUTHENTICATION_ERROR\"}\\n'\n",
      "error: code=401\n",
      "url=https://api-us.faceplusplus.com/facepp/v3/compare\n",
      "b'{\"error_message\":\"AUTHENTICATION_ERROR\"}\\n'\n",
      "error: code=401\n",
      "url=https://api-us.faceplusplus.com/facepp/v3/compare\n",
      "b'{\"error_message\":\"AUTHENTICATION_ERROR\"}\\n'\n",
      "error: code=401\n",
      "url=https://api-us.faceplusplus.com/facepp/v3/compare\n",
      "b'{\"error_message\":\"AUTHENTICATION_ERROR\"}\\n'\n",
      "error: code=401\n",
      "url=https://api-us.faceplusplus.com/facepp/v3/compare\n",
      "b'{\"error_message\":\"AUTHENTICATION_ERROR\"}\\n'\n",
      "error: code=401\n",
      "url=https://api-us.faceplusplus.com/facepp/v3/compare\n",
      "b'{\"error_message\":\"AUTHENTICATION_ERROR\"}\\n'\n",
      "error: code=401\n",
      "url=https://api-us.faceplusplus.com/facepp/v3/compare\n",
      "b'{\"error_message\":\"AUTHENTICATION_ERROR\"}\\n'\n"
     ]
    },
    {
     "name": "stderr",
     "output_type": "stream",
     "text": [
      " 37%|███▋      | 278/750 [56:36<1:35:46, 12.17s/it]"
     ]
    },
    {
     "name": "stdout",
     "output_type": "stream",
     "text": [
      "error: code=401\n",
      "url=https://api-us.faceplusplus.com/facepp/v3/compare\n",
      "b'{\"error_message\":\"AUTHENTICATION_ERROR\"}\\n'\n",
      "error: code=401\n",
      "url=https://api-us.faceplusplus.com/facepp/v3/compare\n",
      "b'{\"error_message\":\"AUTHENTICATION_ERROR\"}\\n'\n",
      "error: code=401\n",
      "url=https://api-us.faceplusplus.com/facepp/v3/compare\n",
      "b'{\"error_message\":\"AUTHENTICATION_ERROR\"}\\n'\n",
      "error: code=401\n",
      "url=https://api-us.faceplusplus.com/facepp/v3/compare\n",
      "b'{\"error_message\":\"AUTHENTICATION_ERROR\"}\\n'\n",
      "error: code=401\n",
      "url=https://api-us.faceplusplus.com/facepp/v3/compare\n",
      "b'{\"error_message\":\"AUTHENTICATION_ERROR\"}\\n'\n",
      "error: code=401\n",
      "url=https://api-us.faceplusplus.com/facepp/v3/compare\n",
      "b'{\"error_message\":\"AUTHENTICATION_ERROR\"}\\n'\n",
      "error: code=401\n",
      "url=https://api-us.faceplusplus.com/facepp/v3/compare\n",
      "b'{\"error_message\":\"AUTHENTICATION_ERROR\"}\\n'\n",
      "error: code=401\n",
      "url=https://api-us.faceplusplus.com/facepp/v3/compare\n",
      "b'{\"error_message\":\"AUTHENTICATION_ERROR\"}\\n'\n"
     ]
    },
    {
     "name": "stderr",
     "output_type": "stream",
     "text": [
      " 37%|███▋      | 279/750 [56:48<1:35:06, 12.11s/it]"
     ]
    },
    {
     "name": "stdout",
     "output_type": "stream",
     "text": [
      "error: code=401\n",
      "url=https://api-us.faceplusplus.com/facepp/v3/compare\n",
      "b'{\"error_message\":\"AUTHENTICATION_ERROR\"}\\n'\n",
      "error: code=401\n",
      "url=https://api-us.faceplusplus.com/facepp/v3/compare\n",
      "b'{\"error_message\":\"AUTHENTICATION_ERROR\"}\\n'\n",
      "error: code=401\n",
      "url=https://api-us.faceplusplus.com/facepp/v3/compare\n",
      "b'{\"error_message\":\"AUTHENTICATION_ERROR\"}\\n'\n",
      "error: code=401\n",
      "url=https://api-us.faceplusplus.com/facepp/v3/compare\n",
      "b'{\"error_message\":\"AUTHENTICATION_ERROR\"}\\n'\n",
      "error: code=401\n",
      "url=https://api-us.faceplusplus.com/facepp/v3/compare\n",
      "b'{\"error_message\":\"AUTHENTICATION_ERROR\"}\\n'\n",
      "error: code=401\n",
      "url=https://api-us.faceplusplus.com/facepp/v3/compare\n",
      "b'{\"error_message\":\"AUTHENTICATION_ERROR\"}\\n'\n",
      "error: code=401\n",
      "url=https://api-us.faceplusplus.com/facepp/v3/compare\n",
      "b'{\"error_message\":\"AUTHENTICATION_ERROR\"}\\n'\n",
      "error: code=401\n",
      "url=https://api-us.faceplusplus.com/facepp/v3/compare\n",
      "b'{\"error_message\":\"AUTHENTICATION_ERROR\"}\\n'\n"
     ]
    },
    {
     "name": "stderr",
     "output_type": "stream",
     "text": [
      " 37%|███▋      | 280/750 [57:00<1:35:07, 12.14s/it]"
     ]
    },
    {
     "name": "stdout",
     "output_type": "stream",
     "text": [
      "error: code=401\n",
      "url=https://api-us.faceplusplus.com/facepp/v3/compare\n",
      "b'{\"error_message\":\"AUTHENTICATION_ERROR\"}\\n'\n",
      "error: code=401\n",
      "url=https://api-us.faceplusplus.com/facepp/v3/compare\n",
      "b'{\"error_message\":\"AUTHENTICATION_ERROR\"}\\n'\n",
      "error: code=401\n",
      "url=https://api-us.faceplusplus.com/facepp/v3/compare\n",
      "b'{\"error_message\":\"AUTHENTICATION_ERROR\"}\\n'\n",
      "error: code=401\n",
      "url=https://api-us.faceplusplus.com/facepp/v3/compare\n",
      "b'{\"error_message\":\"AUTHENTICATION_ERROR\"}\\n'\n",
      "error: code=401\n",
      "url=https://api-us.faceplusplus.com/facepp/v3/compare\n",
      "b'{\"error_message\":\"AUTHENTICATION_ERROR\"}\\n'\n",
      "error: code=401\n",
      "url=https://api-us.faceplusplus.com/facepp/v3/compare\n",
      "b'{\"error_message\":\"AUTHENTICATION_ERROR\"}\\n'\n",
      "error: code=401\n",
      "url=https://api-us.faceplusplus.com/facepp/v3/compare\n",
      "b'{\"error_message\":\"AUTHENTICATION_ERROR\"}\\n'\n",
      "error: code=401\n",
      "url=https://api-us.faceplusplus.com/facepp/v3/compare\n",
      "b'{\"error_message\":\"AUTHENTICATION_ERROR\"}\\n'\n"
     ]
    },
    {
     "name": "stderr",
     "output_type": "stream",
     "text": [
      " 37%|███▋      | 281/750 [57:12<1:35:00, 12.15s/it]"
     ]
    },
    {
     "name": "stdout",
     "output_type": "stream",
     "text": [
      "error: code=401\n",
      "url=https://api-us.faceplusplus.com/facepp/v3/compare\n",
      "b'{\"error_message\":\"AUTHENTICATION_ERROR\"}\\n'\n",
      "error: code=401\n",
      "url=https://api-us.faceplusplus.com/facepp/v3/compare\n",
      "b'{\"error_message\":\"AUTHENTICATION_ERROR\"}\\n'\n",
      "error: code=401\n",
      "url=https://api-us.faceplusplus.com/facepp/v3/compare\n",
      "b'{\"error_message\":\"AUTHENTICATION_ERROR\"}\\n'\n",
      "error: code=401\n",
      "url=https://api-us.faceplusplus.com/facepp/v3/compare\n",
      "b'{\"error_message\":\"AUTHENTICATION_ERROR\"}\\n'\n",
      "error: code=401\n",
      "url=https://api-us.faceplusplus.com/facepp/v3/compare\n",
      "b'{\"error_message\":\"AUTHENTICATION_ERROR\"}\\n'\n",
      "error: code=401\n",
      "url=https://api-us.faceplusplus.com/facepp/v3/compare\n",
      "b'{\"error_message\":\"AUTHENTICATION_ERROR\"}\\n'\n",
      "error: code=401\n",
      "url=https://api-us.faceplusplus.com/facepp/v3/compare\n",
      "b'{\"error_message\":\"AUTHENTICATION_ERROR\"}\\n'\n",
      "error: code=401\n",
      "url=https://api-us.faceplusplus.com/facepp/v3/compare\n",
      "b'{\"error_message\":\"AUTHENTICATION_ERROR\"}\\n'\n"
     ]
    },
    {
     "name": "stderr",
     "output_type": "stream",
     "text": [
      " 38%|███▊      | 282/750 [57:24<1:34:22, 12.10s/it]"
     ]
    },
    {
     "name": "stdout",
     "output_type": "stream",
     "text": [
      "error: code=401\n",
      "url=https://api-us.faceplusplus.com/facepp/v3/compare\n",
      "b'{\"error_message\":\"AUTHENTICATION_ERROR\"}\\n'\n",
      "error: code=401\n",
      "url=https://api-us.faceplusplus.com/facepp/v3/compare\n",
      "b'{\"error_message\":\"AUTHENTICATION_ERROR\"}\\n'\n",
      "error: code=401\n",
      "url=https://api-us.faceplusplus.com/facepp/v3/compare\n",
      "b'{\"error_message\":\"AUTHENTICATION_ERROR\"}\\n'\n",
      "error: code=401\n",
      "url=https://api-us.faceplusplus.com/facepp/v3/compare\n",
      "b'{\"error_message\":\"AUTHENTICATION_ERROR\"}\\n'\n",
      "error: code=401\n",
      "url=https://api-us.faceplusplus.com/facepp/v3/compare\n",
      "b'{\"error_message\":\"AUTHENTICATION_ERROR\"}\\n'\n",
      "error: code=401\n",
      "url=https://api-us.faceplusplus.com/facepp/v3/compare\n",
      "b'{\"error_message\":\"AUTHENTICATION_ERROR\"}\\n'\n",
      "error: code=401\n",
      "url=https://api-us.faceplusplus.com/facepp/v3/compare\n",
      "b'{\"error_message\":\"AUTHENTICATION_ERROR\"}\\n'\n",
      "error: code=401\n",
      "url=https://api-us.faceplusplus.com/facepp/v3/compare\n",
      "b'{\"error_message\":\"AUTHENTICATION_ERROR\"}\\n'\n"
     ]
    },
    {
     "name": "stderr",
     "output_type": "stream",
     "text": [
      " 38%|███▊      | 283/750 [57:37<1:34:33, 12.15s/it]"
     ]
    },
    {
     "name": "stdout",
     "output_type": "stream",
     "text": [
      "error: code=401\n",
      "url=https://api-us.faceplusplus.com/facepp/v3/compare\n",
      "b'{\"error_message\":\"AUTHENTICATION_ERROR\"}\\n'\n",
      "error: code=401\n",
      "url=https://api-us.faceplusplus.com/facepp/v3/compare\n",
      "b'{\"error_message\":\"AUTHENTICATION_ERROR\"}\\n'\n",
      "error: code=401\n",
      "url=https://api-us.faceplusplus.com/facepp/v3/compare\n",
      "b'{\"error_message\":\"AUTHENTICATION_ERROR\"}\\n'\n",
      "error: code=401\n",
      "url=https://api-us.faceplusplus.com/facepp/v3/compare\n",
      "b'{\"error_message\":\"AUTHENTICATION_ERROR\"}\\n'\n",
      "error: code=401\n",
      "url=https://api-us.faceplusplus.com/facepp/v3/compare\n",
      "b'{\"error_message\":\"AUTHENTICATION_ERROR\"}\\n'\n",
      "error: code=401\n",
      "url=https://api-us.faceplusplus.com/facepp/v3/compare\n",
      "b'{\"error_message\":\"AUTHENTICATION_ERROR\"}\\n'\n",
      "error: code=401\n",
      "url=https://api-us.faceplusplus.com/facepp/v3/compare\n",
      "b'{\"error_message\":\"AUTHENTICATION_ERROR\"}\\n'\n",
      "error: code=401\n",
      "url=https://api-us.faceplusplus.com/facepp/v3/compare\n",
      "b'{\"error_message\":\"AUTHENTICATION_ERROR\"}\\n'\n"
     ]
    },
    {
     "name": "stderr",
     "output_type": "stream",
     "text": [
      " 38%|███▊      | 284/750 [57:49<1:34:07, 12.12s/it]"
     ]
    },
    {
     "name": "stdout",
     "output_type": "stream",
     "text": [
      "error: code=401\n",
      "url=https://api-us.faceplusplus.com/facepp/v3/compare\n",
      "b'{\"error_message\":\"AUTHENTICATION_ERROR\"}\\n'\n",
      "error: code=401\n",
      "url=https://api-us.faceplusplus.com/facepp/v3/compare\n",
      "b'{\"error_message\":\"AUTHENTICATION_ERROR\"}\\n'\n",
      "error: code=401\n",
      "url=https://api-us.faceplusplus.com/facepp/v3/compare\n",
      "b'{\"error_message\":\"AUTHENTICATION_ERROR\"}\\n'\n",
      "error: code=401\n",
      "url=https://api-us.faceplusplus.com/facepp/v3/compare\n",
      "b'{\"error_message\":\"AUTHENTICATION_ERROR\"}\\n'\n",
      "error: code=401\n",
      "url=https://api-us.faceplusplus.com/facepp/v3/compare\n",
      "b'{\"error_message\":\"AUTHENTICATION_ERROR\"}\\n'\n",
      "error: code=401\n",
      "url=https://api-us.faceplusplus.com/facepp/v3/compare\n",
      "b'{\"error_message\":\"AUTHENTICATION_ERROR\"}\\n'\n",
      "error: code=401\n",
      "url=https://api-us.faceplusplus.com/facepp/v3/compare\n",
      "b'{\"error_message\":\"AUTHENTICATION_ERROR\"}\\n'\n",
      "error: code=401\n",
      "url=https://api-us.faceplusplus.com/facepp/v3/compare\n",
      "b'{\"error_message\":\"AUTHENTICATION_ERROR\"}\\n'\n"
     ]
    },
    {
     "name": "stderr",
     "output_type": "stream",
     "text": [
      " 38%|███▊      | 285/750 [58:01<1:34:35, 12.21s/it]"
     ]
    },
    {
     "name": "stdout",
     "output_type": "stream",
     "text": [
      "error: code=401\n",
      "url=https://api-us.faceplusplus.com/facepp/v3/compare\n",
      "b'{\"error_message\":\"AUTHENTICATION_ERROR\"}\\n'\n",
      "error: code=401\n",
      "url=https://api-us.faceplusplus.com/facepp/v3/compare\n",
      "b'{\"error_message\":\"AUTHENTICATION_ERROR\"}\\n'\n",
      "error: code=401\n",
      "url=https://api-us.faceplusplus.com/facepp/v3/compare\n",
      "b'{\"error_message\":\"AUTHENTICATION_ERROR\"}\\n'\n",
      "error: code=401\n",
      "url=https://api-us.faceplusplus.com/facepp/v3/compare\n",
      "b'{\"error_message\":\"AUTHENTICATION_ERROR\"}\\n'\n",
      "error: code=401\n",
      "url=https://api-us.faceplusplus.com/facepp/v3/compare\n",
      "b'{\"error_message\":\"AUTHENTICATION_ERROR\"}\\n'\n",
      "error: code=401\n",
      "url=https://api-us.faceplusplus.com/facepp/v3/compare\n",
      "b'{\"error_message\":\"AUTHENTICATION_ERROR\"}\\n'\n",
      "error: code=401\n",
      "url=https://api-us.faceplusplus.com/facepp/v3/compare\n",
      "b'{\"error_message\":\"AUTHENTICATION_ERROR\"}\\n'\n",
      "error: code=401\n",
      "url=https://api-us.faceplusplus.com/facepp/v3/compare\n",
      "b'{\"error_message\":\"AUTHENTICATION_ERROR\"}\\n'\n"
     ]
    },
    {
     "name": "stderr",
     "output_type": "stream",
     "text": [
      " 38%|███▊      | 286/750 [58:13<1:33:47, 12.13s/it]"
     ]
    },
    {
     "name": "stdout",
     "output_type": "stream",
     "text": [
      "error: code=401\n",
      "url=https://api-us.faceplusplus.com/facepp/v3/compare\n",
      "b'{\"error_message\":\"AUTHENTICATION_ERROR\"}\\n'\n",
      "error: code=401\n",
      "url=https://api-us.faceplusplus.com/facepp/v3/compare\n",
      "b'{\"error_message\":\"AUTHENTICATION_ERROR\"}\\n'\n",
      "error: code=401\n",
      "url=https://api-us.faceplusplus.com/facepp/v3/compare\n",
      "b'{\"error_message\":\"AUTHENTICATION_ERROR\"}\\n'\n",
      "error: code=401\n",
      "url=https://api-us.faceplusplus.com/facepp/v3/compare\n",
      "b'{\"error_message\":\"AUTHENTICATION_ERROR\"}\\n'\n",
      "error: code=401\n",
      "url=https://api-us.faceplusplus.com/facepp/v3/compare\n",
      "b'{\"error_message\":\"AUTHENTICATION_ERROR\"}\\n'\n",
      "error: code=401\n",
      "url=https://api-us.faceplusplus.com/facepp/v3/compare\n",
      "b'{\"error_message\":\"AUTHENTICATION_ERROR\"}\\n'\n",
      "error: code=401\n",
      "url=https://api-us.faceplusplus.com/facepp/v3/compare\n",
      "b'{\"error_message\":\"AUTHENTICATION_ERROR\"}\\n'\n",
      "error: code=401\n",
      "url=https://api-us.faceplusplus.com/facepp/v3/compare\n",
      "b'{\"error_message\":\"AUTHENTICATION_ERROR\"}\\n'\n"
     ]
    },
    {
     "name": "stderr",
     "output_type": "stream",
     "text": [
      " 38%|███▊      | 287/750 [58:25<1:33:53, 12.17s/it]"
     ]
    },
    {
     "name": "stdout",
     "output_type": "stream",
     "text": [
      "error: code=401\n",
      "url=https://api-us.faceplusplus.com/facepp/v3/compare\n",
      "b'{\"error_message\":\"AUTHENTICATION_ERROR\"}\\n'\n",
      "error: code=401\n",
      "url=https://api-us.faceplusplus.com/facepp/v3/compare\n",
      "b'{\"error_message\":\"AUTHENTICATION_ERROR\"}\\n'\n",
      "error: code=401\n",
      "url=https://api-us.faceplusplus.com/facepp/v3/compare\n",
      "b'{\"error_message\":\"AUTHENTICATION_ERROR\"}\\n'\n",
      "error: code=401\n",
      "url=https://api-us.faceplusplus.com/facepp/v3/compare\n",
      "b'{\"error_message\":\"AUTHENTICATION_ERROR\"}\\n'\n",
      "error: code=401\n",
      "url=https://api-us.faceplusplus.com/facepp/v3/compare\n",
      "b'{\"error_message\":\"AUTHENTICATION_ERROR\"}\\n'\n",
      "error: code=401\n",
      "url=https://api-us.faceplusplus.com/facepp/v3/compare\n",
      "b'{\"error_message\":\"AUTHENTICATION_ERROR\"}\\n'\n",
      "error: code=401\n",
      "url=https://api-us.faceplusplus.com/facepp/v3/compare\n",
      "b'{\"error_message\":\"AUTHENTICATION_ERROR\"}\\n'\n",
      "error: code=401\n",
      "url=https://api-us.faceplusplus.com/facepp/v3/compare\n",
      "b'{\"error_message\":\"AUTHENTICATION_ERROR\"}\\n'\n"
     ]
    },
    {
     "name": "stderr",
     "output_type": "stream",
     "text": [
      " 38%|███▊      | 288/750 [58:37<1:33:33, 12.15s/it]"
     ]
    },
    {
     "name": "stdout",
     "output_type": "stream",
     "text": [
      "error: code=401\n",
      "url=https://api-us.faceplusplus.com/facepp/v3/compare\n",
      "b'{\"error_message\":\"AUTHENTICATION_ERROR\"}\\n'\n",
      "error: code=401\n",
      "url=https://api-us.faceplusplus.com/facepp/v3/compare\n",
      "b'{\"error_message\":\"AUTHENTICATION_ERROR\"}\\n'\n",
      "error: code=401\n",
      "url=https://api-us.faceplusplus.com/facepp/v3/compare\n",
      "b'{\"error_message\":\"AUTHENTICATION_ERROR\"}\\n'\n",
      "error: code=401\n",
      "url=https://api-us.faceplusplus.com/facepp/v3/compare\n",
      "b'{\"error_message\":\"AUTHENTICATION_ERROR\"}\\n'\n",
      "error: code=401\n",
      "url=https://api-us.faceplusplus.com/facepp/v3/compare\n",
      "b'{\"error_message\":\"AUTHENTICATION_ERROR\"}\\n'\n",
      "error: code=401\n",
      "url=https://api-us.faceplusplus.com/facepp/v3/compare\n",
      "b'{\"error_message\":\"AUTHENTICATION_ERROR\"}\\n'\n",
      "error: code=401\n",
      "url=https://api-us.faceplusplus.com/facepp/v3/compare\n",
      "b'{\"error_message\":\"AUTHENTICATION_ERROR\"}\\n'\n",
      "error: code=401\n",
      "url=https://api-us.faceplusplus.com/facepp/v3/compare\n",
      "b'{\"error_message\":\"AUTHENTICATION_ERROR\"}\\n'\n"
     ]
    },
    {
     "name": "stderr",
     "output_type": "stream",
     "text": [
      " 39%|███▊      | 289/750 [58:49<1:33:06, 12.12s/it]"
     ]
    },
    {
     "name": "stdout",
     "output_type": "stream",
     "text": [
      "error: code=401\n",
      "url=https://api-us.faceplusplus.com/facepp/v3/compare\n",
      "b'{\"error_message\":\"AUTHENTICATION_ERROR\"}\\n'\n",
      "error: code=401\n",
      "url=https://api-us.faceplusplus.com/facepp/v3/compare\n",
      "b'{\"error_message\":\"AUTHENTICATION_ERROR\"}\\n'\n",
      "error: code=401\n",
      "url=https://api-us.faceplusplus.com/facepp/v3/compare\n",
      "b'{\"error_message\":\"AUTHENTICATION_ERROR\"}\\n'\n",
      "error: code=401\n",
      "url=https://api-us.faceplusplus.com/facepp/v3/compare\n",
      "b'{\"error_message\":\"AUTHENTICATION_ERROR\"}\\n'\n",
      "error: code=401\n",
      "url=https://api-us.faceplusplus.com/facepp/v3/compare\n",
      "b'{\"error_message\":\"AUTHENTICATION_ERROR\"}\\n'\n",
      "error: code=401\n",
      "url=https://api-us.faceplusplus.com/facepp/v3/compare\n",
      "b'{\"error_message\":\"AUTHENTICATION_ERROR\"}\\n'\n",
      "error: code=401\n",
      "url=https://api-us.faceplusplus.com/facepp/v3/compare\n",
      "b'{\"error_message\":\"AUTHENTICATION_ERROR\"}\\n'\n",
      "error: code=401\n",
      "url=https://api-us.faceplusplus.com/facepp/v3/compare\n",
      "b'{\"error_message\":\"AUTHENTICATION_ERROR\"}\\n'\n"
     ]
    },
    {
     "name": "stderr",
     "output_type": "stream",
     "text": [
      " 39%|███▊      | 290/750 [59:02<1:33:34, 12.21s/it]"
     ]
    },
    {
     "name": "stdout",
     "output_type": "stream",
     "text": [
      "error: code=401\n",
      "url=https://api-us.faceplusplus.com/facepp/v3/compare\n",
      "b'{\"error_message\":\"AUTHENTICATION_ERROR\"}\\n'\n",
      "error: code=401\n",
      "url=https://api-us.faceplusplus.com/facepp/v3/compare\n",
      "b'{\"error_message\":\"AUTHENTICATION_ERROR\"}\\n'\n",
      "error: code=401\n",
      "url=https://api-us.faceplusplus.com/facepp/v3/compare\n",
      "b'{\"error_message\":\"AUTHENTICATION_ERROR\"}\\n'\n",
      "error: code=401\n",
      "url=https://api-us.faceplusplus.com/facepp/v3/compare\n",
      "b'{\"error_message\":\"AUTHENTICATION_ERROR\"}\\n'\n",
      "error: code=401\n",
      "url=https://api-us.faceplusplus.com/facepp/v3/compare\n",
      "b'{\"error_message\":\"AUTHENTICATION_ERROR\"}\\n'\n",
      "error: code=401\n",
      "url=https://api-us.faceplusplus.com/facepp/v3/compare\n",
      "b'{\"error_message\":\"AUTHENTICATION_ERROR\"}\\n'\n",
      "error: code=401\n",
      "url=https://api-us.faceplusplus.com/facepp/v3/compare\n",
      "b'{\"error_message\":\"AUTHENTICATION_ERROR\"}\\n'\n",
      "error: code=401\n",
      "url=https://api-us.faceplusplus.com/facepp/v3/compare\n",
      "b'{\"error_message\":\"AUTHENTICATION_ERROR\"}\\n'\n"
     ]
    },
    {
     "name": "stderr",
     "output_type": "stream",
     "text": [
      " 39%|███▉      | 291/750 [59:14<1:32:58, 12.15s/it]"
     ]
    },
    {
     "name": "stdout",
     "output_type": "stream",
     "text": [
      "error: code=401\n",
      "url=https://api-us.faceplusplus.com/facepp/v3/compare\n",
      "b'{\"error_message\":\"AUTHENTICATION_ERROR\"}\\n'\n",
      "error: code=401\n",
      "url=https://api-us.faceplusplus.com/facepp/v3/compare\n",
      "b'{\"error_message\":\"AUTHENTICATION_ERROR\"}\\n'\n",
      "error: code=401\n",
      "url=https://api-us.faceplusplus.com/facepp/v3/compare\n",
      "b'{\"error_message\":\"AUTHENTICATION_ERROR\"}\\n'\n",
      "error: code=401\n",
      "url=https://api-us.faceplusplus.com/facepp/v3/compare\n",
      "b'{\"error_message\":\"AUTHENTICATION_ERROR\"}\\n'\n",
      "error: code=401\n",
      "url=https://api-us.faceplusplus.com/facepp/v3/compare\n",
      "b'{\"error_message\":\"AUTHENTICATION_ERROR\"}\\n'\n",
      "error: code=401\n",
      "url=https://api-us.faceplusplus.com/facepp/v3/compare\n",
      "b'{\"error_message\":\"AUTHENTICATION_ERROR\"}\\n'\n",
      "error: code=401\n",
      "url=https://api-us.faceplusplus.com/facepp/v3/compare\n",
      "b'{\"error_message\":\"AUTHENTICATION_ERROR\"}\\n'\n",
      "error: code=401\n",
      "url=https://api-us.faceplusplus.com/facepp/v3/compare\n",
      "b'{\"error_message\":\"AUTHENTICATION_ERROR\"}\\n'\n"
     ]
    },
    {
     "name": "stderr",
     "output_type": "stream",
     "text": [
      " 39%|███▉      | 292/750 [59:27<1:34:04, 12.32s/it]"
     ]
    },
    {
     "name": "stdout",
     "output_type": "stream",
     "text": [
      "error: code=401\n",
      "url=https://api-us.faceplusplus.com/facepp/v3/compare\n",
      "b'{\"error_message\":\"AUTHENTICATION_ERROR\"}\\n'\n",
      "error: code=401\n",
      "url=https://api-us.faceplusplus.com/facepp/v3/compare\n",
      "b'{\"error_message\":\"AUTHENTICATION_ERROR\"}\\n'\n",
      "error: code=401\n",
      "url=https://api-us.faceplusplus.com/facepp/v3/compare\n",
      "b'{\"error_message\":\"AUTHENTICATION_ERROR\"}\\n'\n",
      "error: code=401\n",
      "url=https://api-us.faceplusplus.com/facepp/v3/compare\n",
      "b'{\"error_message\":\"AUTHENTICATION_ERROR\"}\\n'\n",
      "error: code=401\n",
      "url=https://api-us.faceplusplus.com/facepp/v3/compare\n",
      "b'{\"error_message\":\"AUTHENTICATION_ERROR\"}\\n'\n",
      "error: code=401\n",
      "url=https://api-us.faceplusplus.com/facepp/v3/compare\n",
      "b'{\"error_message\":\"AUTHENTICATION_ERROR\"}\\n'\n",
      "error: code=401\n",
      "url=https://api-us.faceplusplus.com/facepp/v3/compare\n",
      "b'{\"error_message\":\"AUTHENTICATION_ERROR\"}\\n'\n",
      "error: code=401\n",
      "url=https://api-us.faceplusplus.com/facepp/v3/compare\n",
      "b'{\"error_message\":\"AUTHENTICATION_ERROR\"}\\n'\n"
     ]
    },
    {
     "name": "stderr",
     "output_type": "stream",
     "text": [
      " 39%|███▉      | 293/750 [59:39<1:33:11, 12.24s/it]"
     ]
    },
    {
     "name": "stdout",
     "output_type": "stream",
     "text": [
      "error: code=401\n",
      "url=https://api-us.faceplusplus.com/facepp/v3/compare\n",
      "b'{\"error_message\":\"AUTHENTICATION_ERROR\"}\\n'\n",
      "error: code=401\n",
      "url=https://api-us.faceplusplus.com/facepp/v3/compare\n",
      "b'{\"error_message\":\"AUTHENTICATION_ERROR\"}\\n'\n",
      "error: code=401\n",
      "url=https://api-us.faceplusplus.com/facepp/v3/compare\n",
      "b'{\"error_message\":\"AUTHENTICATION_ERROR\"}\\n'\n",
      "error: code=401\n",
      "url=https://api-us.faceplusplus.com/facepp/v3/compare\n",
      "b'{\"error_message\":\"AUTHENTICATION_ERROR\"}\\n'\n",
      "error: code=401\n",
      "url=https://api-us.faceplusplus.com/facepp/v3/compare\n",
      "b'{\"error_message\":\"AUTHENTICATION_ERROR\"}\\n'\n",
      "error: code=401\n",
      "url=https://api-us.faceplusplus.com/facepp/v3/compare\n",
      "b'{\"error_message\":\"AUTHENTICATION_ERROR\"}\\n'\n",
      "error: code=401\n",
      "url=https://api-us.faceplusplus.com/facepp/v3/compare\n",
      "b'{\"error_message\":\"AUTHENTICATION_ERROR\"}\\n'\n",
      "error: code=401\n",
      "url=https://api-us.faceplusplus.com/facepp/v3/compare\n",
      "b'{\"error_message\":\"AUTHENTICATION_ERROR\"}\\n'\n"
     ]
    },
    {
     "name": "stderr",
     "output_type": "stream",
     "text": [
      " 39%|███▉      | 294/750 [59:51<1:32:43, 12.20s/it]"
     ]
    },
    {
     "name": "stdout",
     "output_type": "stream",
     "text": [
      "error: code=401\n",
      "url=https://api-us.faceplusplus.com/facepp/v3/compare\n",
      "b'{\"error_message\":\"AUTHENTICATION_ERROR\"}\\n'\n",
      "error: code=401\n",
      "url=https://api-us.faceplusplus.com/facepp/v3/compare\n",
      "b'{\"error_message\":\"AUTHENTICATION_ERROR\"}\\n'\n",
      "error: code=401\n",
      "url=https://api-us.faceplusplus.com/facepp/v3/compare\n",
      "b'{\"error_message\":\"AUTHENTICATION_ERROR\"}\\n'\n",
      "error: code=401\n",
      "url=https://api-us.faceplusplus.com/facepp/v3/compare\n",
      "b'{\"error_message\":\"AUTHENTICATION_ERROR\"}\\n'\n",
      "error: code=401\n",
      "url=https://api-us.faceplusplus.com/facepp/v3/compare\n",
      "b'{\"error_message\":\"AUTHENTICATION_ERROR\"}\\n'\n",
      "error: code=401\n",
      "url=https://api-us.faceplusplus.com/facepp/v3/compare\n",
      "b'{\"error_message\":\"AUTHENTICATION_ERROR\"}\\n'\n",
      "error: code=401\n",
      "url=https://api-us.faceplusplus.com/facepp/v3/compare\n",
      "b'{\"error_message\":\"AUTHENTICATION_ERROR\"}\\n'\n",
      "error: code=401\n",
      "url=https://api-us.faceplusplus.com/facepp/v3/compare\n",
      "b'{\"error_message\":\"AUTHENTICATION_ERROR\"}\\n'\n"
     ]
    },
    {
     "name": "stderr",
     "output_type": "stream",
     "text": [
      " 39%|███▉      | 295/750 [1:00:03<1:31:51, 12.11s/it]"
     ]
    },
    {
     "name": "stdout",
     "output_type": "stream",
     "text": [
      "error: code=401\n",
      "url=https://api-us.faceplusplus.com/facepp/v3/compare\n",
      "b'{\"error_message\":\"AUTHENTICATION_ERROR\"}\\n'\n",
      "error: code=401\n",
      "url=https://api-us.faceplusplus.com/facepp/v3/compare\n",
      "b'{\"error_message\":\"AUTHENTICATION_ERROR\"}\\n'\n",
      "error: code=401\n",
      "url=https://api-us.faceplusplus.com/facepp/v3/compare\n",
      "b'{\"error_message\":\"AUTHENTICATION_ERROR\"}\\n'\n",
      "error: code=401\n",
      "url=https://api-us.faceplusplus.com/facepp/v3/compare\n",
      "b'{\"error_message\":\"AUTHENTICATION_ERROR\"}\\n'\n",
      "error: code=401\n",
      "url=https://api-us.faceplusplus.com/facepp/v3/compare\n",
      "b'{\"error_message\":\"AUTHENTICATION_ERROR\"}\\n'\n",
      "error: code=401\n",
      "url=https://api-us.faceplusplus.com/facepp/v3/compare\n",
      "b'{\"error_message\":\"AUTHENTICATION_ERROR\"}\\n'\n",
      "error: code=401\n",
      "url=https://api-us.faceplusplus.com/facepp/v3/compare\n",
      "b'{\"error_message\":\"AUTHENTICATION_ERROR\"}\\n'\n",
      "error: code=401\n",
      "url=https://api-us.faceplusplus.com/facepp/v3/compare\n",
      "b'{\"error_message\":\"AUTHENTICATION_ERROR\"}\\n'\n"
     ]
    },
    {
     "name": "stderr",
     "output_type": "stream",
     "text": [
      " 39%|███▉      | 296/750 [1:00:15<1:32:55, 12.28s/it]"
     ]
    },
    {
     "name": "stdout",
     "output_type": "stream",
     "text": [
      "error: code=401\n",
      "url=https://api-us.faceplusplus.com/facepp/v3/compare\n",
      "b'{\"error_message\":\"AUTHENTICATION_ERROR\"}\\n'\n",
      "error: code=401\n",
      "url=https://api-us.faceplusplus.com/facepp/v3/compare\n",
      "b'{\"error_message\":\"AUTHENTICATION_ERROR\"}\\n'\n",
      "error: code=401\n",
      "url=https://api-us.faceplusplus.com/facepp/v3/compare\n",
      "b'{\"error_message\":\"AUTHENTICATION_ERROR\"}\\n'\n",
      "error: code=401\n",
      "url=https://api-us.faceplusplus.com/facepp/v3/compare\n",
      "b'{\"error_message\":\"AUTHENTICATION_ERROR\"}\\n'\n",
      "error: code=401\n",
      "url=https://api-us.faceplusplus.com/facepp/v3/compare\n",
      "b'{\"error_message\":\"AUTHENTICATION_ERROR\"}\\n'\n",
      "error: code=401\n",
      "url=https://api-us.faceplusplus.com/facepp/v3/compare\n",
      "b'{\"error_message\":\"AUTHENTICATION_ERROR\"}\\n'\n",
      "error: code=401\n",
      "url=https://api-us.faceplusplus.com/facepp/v3/compare\n",
      "b'{\"error_message\":\"AUTHENTICATION_ERROR\"}\\n'\n",
      "error: code=401\n",
      "url=https://api-us.faceplusplus.com/facepp/v3/compare\n",
      "b'{\"error_message\":\"AUTHENTICATION_ERROR\"}\\n'\n"
     ]
    },
    {
     "name": "stderr",
     "output_type": "stream",
     "text": [
      " 40%|███▉      | 297/750 [1:00:27<1:31:43, 12.15s/it]"
     ]
    },
    {
     "name": "stdout",
     "output_type": "stream",
     "text": [
      "error: code=401\n",
      "url=https://api-us.faceplusplus.com/facepp/v3/compare\n",
      "b'{\"error_message\":\"AUTHENTICATION_ERROR\"}\\n'\n",
      "error: code=401\n",
      "url=https://api-us.faceplusplus.com/facepp/v3/compare\n",
      "b'{\"error_message\":\"AUTHENTICATION_ERROR\"}\\n'\n",
      "error: code=401\n",
      "url=https://api-us.faceplusplus.com/facepp/v3/compare\n",
      "b'{\"error_message\":\"AUTHENTICATION_ERROR\"}\\n'\n",
      "error: code=401\n",
      "url=https://api-us.faceplusplus.com/facepp/v3/compare\n",
      "b'{\"error_message\":\"AUTHENTICATION_ERROR\"}\\n'\n",
      "error: code=401\n",
      "url=https://api-us.faceplusplus.com/facepp/v3/compare\n",
      "b'{\"error_message\":\"AUTHENTICATION_ERROR\"}\\n'\n",
      "error: code=401\n",
      "url=https://api-us.faceplusplus.com/facepp/v3/compare\n",
      "b'{\"error_message\":\"AUTHENTICATION_ERROR\"}\\n'\n",
      "error: code=401\n",
      "url=https://api-us.faceplusplus.com/facepp/v3/compare\n",
      "b'{\"error_message\":\"AUTHENTICATION_ERROR\"}\\n'\n",
      "error: code=401\n",
      "url=https://api-us.faceplusplus.com/facepp/v3/compare\n",
      "b'{\"error_message\":\"AUTHENTICATION_ERROR\"}\\n'\n"
     ]
    },
    {
     "name": "stderr",
     "output_type": "stream",
     "text": [
      " 40%|███▉      | 298/750 [1:00:39<1:31:26, 12.14s/it]"
     ]
    },
    {
     "name": "stdout",
     "output_type": "stream",
     "text": [
      "error: code=401\n",
      "url=https://api-us.faceplusplus.com/facepp/v3/compare\n",
      "b'{\"error_message\":\"AUTHENTICATION_ERROR\"}\\n'\n",
      "error: code=401\n",
      "url=https://api-us.faceplusplus.com/facepp/v3/compare\n",
      "b'{\"error_message\":\"AUTHENTICATION_ERROR\"}\\n'\n",
      "error: code=401\n",
      "url=https://api-us.faceplusplus.com/facepp/v3/compare\n",
      "b'{\"error_message\":\"AUTHENTICATION_ERROR\"}\\n'\n",
      "error: code=401\n",
      "url=https://api-us.faceplusplus.com/facepp/v3/compare\n",
      "b'{\"error_message\":\"AUTHENTICATION_ERROR\"}\\n'\n",
      "error: code=401\n",
      "url=https://api-us.faceplusplus.com/facepp/v3/compare\n",
      "b'{\"error_message\":\"AUTHENTICATION_ERROR\"}\\n'\n",
      "error: code=401\n",
      "url=https://api-us.faceplusplus.com/facepp/v3/compare\n",
      "b'{\"error_message\":\"AUTHENTICATION_ERROR\"}\\n'\n",
      "error: code=401\n",
      "url=https://api-us.faceplusplus.com/facepp/v3/compare\n",
      "b'{\"error_message\":\"AUTHENTICATION_ERROR\"}\\n'\n",
      "error: code=401\n",
      "url=https://api-us.faceplusplus.com/facepp/v3/compare\n",
      "b'{\"error_message\":\"AUTHENTICATION_ERROR\"}\\n'\n"
     ]
    },
    {
     "name": "stderr",
     "output_type": "stream",
     "text": [
      " 40%|███▉      | 299/750 [1:00:51<1:30:52, 12.09s/it]"
     ]
    },
    {
     "name": "stdout",
     "output_type": "stream",
     "text": [
      "error: code=401\n",
      "url=https://api-us.faceplusplus.com/facepp/v3/compare\n",
      "b'{\"error_message\":\"AUTHENTICATION_ERROR\"}\\n'\n",
      "error: code=401\n",
      "url=https://api-us.faceplusplus.com/facepp/v3/compare\n",
      "b'{\"error_message\":\"AUTHENTICATION_ERROR\"}\\n'\n",
      "error: code=401\n",
      "url=https://api-us.faceplusplus.com/facepp/v3/compare\n",
      "b'{\"error_message\":\"AUTHENTICATION_ERROR\"}\\n'\n",
      "error: code=401\n",
      "url=https://api-us.faceplusplus.com/facepp/v3/compare\n",
      "b'{\"error_message\":\"AUTHENTICATION_ERROR\"}\\n'\n",
      "error: code=401\n",
      "url=https://api-us.faceplusplus.com/facepp/v3/compare\n",
      "b'{\"error_message\":\"AUTHENTICATION_ERROR\"}\\n'\n",
      "error: code=401\n",
      "url=https://api-us.faceplusplus.com/facepp/v3/compare\n",
      "b'{\"error_message\":\"AUTHENTICATION_ERROR\"}\\n'\n",
      "error: code=401\n",
      "url=https://api-us.faceplusplus.com/facepp/v3/compare\n",
      "b'{\"error_message\":\"AUTHENTICATION_ERROR\"}\\n'\n",
      "error: code=401\n",
      "url=https://api-us.faceplusplus.com/facepp/v3/compare\n",
      "b'{\"error_message\":\"AUTHENTICATION_ERROR\"}\\n'\n"
     ]
    },
    {
     "name": "stderr",
     "output_type": "stream",
     "text": [
      " 40%|████      | 300/750 [1:01:03<1:30:36, 12.08s/it]"
     ]
    },
    {
     "name": "stdout",
     "output_type": "stream",
     "text": [
      "error: code=401\n",
      "url=https://api-us.faceplusplus.com/facepp/v3/compare\n",
      "b'{\"error_message\":\"AUTHENTICATION_ERROR\"}\\n'\n",
      "error: code=401\n",
      "url=https://api-us.faceplusplus.com/facepp/v3/compare\n",
      "b'{\"error_message\":\"AUTHENTICATION_ERROR\"}\\n'\n",
      "error: code=401\n",
      "url=https://api-us.faceplusplus.com/facepp/v3/compare\n",
      "b'{\"error_message\":\"AUTHENTICATION_ERROR\"}\\n'\n",
      "error: code=401\n",
      "url=https://api-us.faceplusplus.com/facepp/v3/compare\n",
      "b'{\"error_message\":\"AUTHENTICATION_ERROR\"}\\n'\n",
      "error: code=401\n",
      "url=https://api-us.faceplusplus.com/facepp/v3/compare\n",
      "b'{\"error_message\":\"AUTHENTICATION_ERROR\"}\\n'\n",
      "error: code=401\n",
      "url=https://api-us.faceplusplus.com/facepp/v3/compare\n",
      "b'{\"error_message\":\"AUTHENTICATION_ERROR\"}\\n'\n",
      "error: code=401\n",
      "url=https://api-us.faceplusplus.com/facepp/v3/compare\n",
      "b'{\"error_message\":\"AUTHENTICATION_ERROR\"}\\n'\n",
      "error: code=401\n",
      "url=https://api-us.faceplusplus.com/facepp/v3/compare\n",
      "b'{\"error_message\":\"AUTHENTICATION_ERROR\"}\\n'\n"
     ]
    },
    {
     "name": "stderr",
     "output_type": "stream",
     "text": [
      " 40%|████      | 301/750 [1:01:15<1:30:23, 12.08s/it]"
     ]
    },
    {
     "name": "stdout",
     "output_type": "stream",
     "text": [
      "error: code=401\n",
      "url=https://api-us.faceplusplus.com/facepp/v3/compare\n",
      "b'{\"error_message\":\"AUTHENTICATION_ERROR\"}\\n'\n",
      "error: code=401\n",
      "url=https://api-us.faceplusplus.com/facepp/v3/compare\n",
      "b'{\"error_message\":\"AUTHENTICATION_ERROR\"}\\n'\n",
      "error: code=401\n",
      "url=https://api-us.faceplusplus.com/facepp/v3/compare\n",
      "b'{\"error_message\":\"AUTHENTICATION_ERROR\"}\\n'\n",
      "error: code=401\n",
      "url=https://api-us.faceplusplus.com/facepp/v3/compare\n",
      "b'{\"error_message\":\"AUTHENTICATION_ERROR\"}\\n'\n",
      "error: code=401\n",
      "url=https://api-us.faceplusplus.com/facepp/v3/compare\n",
      "b'{\"error_message\":\"AUTHENTICATION_ERROR\"}\\n'\n",
      "error: code=401\n",
      "url=https://api-us.faceplusplus.com/facepp/v3/compare\n",
      "b'{\"error_message\":\"AUTHENTICATION_ERROR\"}\\n'\n",
      "error: code=401\n",
      "url=https://api-us.faceplusplus.com/facepp/v3/compare\n",
      "b'{\"error_message\":\"AUTHENTICATION_ERROR\"}\\n'\n",
      "error: code=401\n",
      "url=https://api-us.faceplusplus.com/facepp/v3/compare\n",
      "b'{\"error_message\":\"AUTHENTICATION_ERROR\"}\\n'\n"
     ]
    },
    {
     "name": "stderr",
     "output_type": "stream",
     "text": [
      " 40%|████      | 302/750 [1:01:28<1:30:30, 12.12s/it]"
     ]
    },
    {
     "name": "stdout",
     "output_type": "stream",
     "text": [
      "error: code=401\n",
      "url=https://api-us.faceplusplus.com/facepp/v3/compare\n",
      "b'{\"error_message\":\"AUTHENTICATION_ERROR\"}\\n'\n",
      "error: code=401\n",
      "url=https://api-us.faceplusplus.com/facepp/v3/compare\n",
      "b'{\"error_message\":\"AUTHENTICATION_ERROR\"}\\n'\n",
      "error: code=401\n",
      "url=https://api-us.faceplusplus.com/facepp/v3/compare\n",
      "b'{\"error_message\":\"AUTHENTICATION_ERROR\"}\\n'\n",
      "error: code=401\n",
      "url=https://api-us.faceplusplus.com/facepp/v3/compare\n",
      "b'{\"error_message\":\"AUTHENTICATION_ERROR\"}\\n'\n",
      "error: code=401\n",
      "url=https://api-us.faceplusplus.com/facepp/v3/compare\n",
      "b'{\"error_message\":\"AUTHENTICATION_ERROR\"}\\n'\n",
      "error: code=401\n",
      "url=https://api-us.faceplusplus.com/facepp/v3/compare\n",
      "b'{\"error_message\":\"AUTHENTICATION_ERROR\"}\\n'\n",
      "error: code=401\n",
      "url=https://api-us.faceplusplus.com/facepp/v3/compare\n",
      "b'{\"error_message\":\"AUTHENTICATION_ERROR\"}\\n'\n",
      "error: code=401\n",
      "url=https://api-us.faceplusplus.com/facepp/v3/compare\n",
      "b'{\"error_message\":\"AUTHENTICATION_ERROR\"}\\n'\n"
     ]
    },
    {
     "name": "stderr",
     "output_type": "stream",
     "text": [
      " 40%|████      | 303/750 [1:01:40<1:30:32, 12.15s/it]"
     ]
    },
    {
     "name": "stdout",
     "output_type": "stream",
     "text": [
      "error: code=401\n",
      "url=https://api-us.faceplusplus.com/facepp/v3/compare\n",
      "b'{\"error_message\":\"AUTHENTICATION_ERROR\"}\\n'\n",
      "error: code=401\n",
      "url=https://api-us.faceplusplus.com/facepp/v3/compare\n",
      "b'{\"error_message\":\"AUTHENTICATION_ERROR\"}\\n'\n",
      "error: code=401\n",
      "url=https://api-us.faceplusplus.com/facepp/v3/compare\n",
      "b'{\"error_message\":\"AUTHENTICATION_ERROR\"}\\n'\n",
      "error: code=401\n",
      "url=https://api-us.faceplusplus.com/facepp/v3/compare\n",
      "b'{\"error_message\":\"AUTHENTICATION_ERROR\"}\\n'\n",
      "error: code=401\n",
      "url=https://api-us.faceplusplus.com/facepp/v3/compare\n",
      "b'{\"error_message\":\"AUTHENTICATION_ERROR\"}\\n'\n",
      "error: code=401\n",
      "url=https://api-us.faceplusplus.com/facepp/v3/compare\n",
      "b'{\"error_message\":\"AUTHENTICATION_ERROR\"}\\n'\n",
      "error: code=401\n",
      "url=https://api-us.faceplusplus.com/facepp/v3/compare\n",
      "b'{\"error_message\":\"AUTHENTICATION_ERROR\"}\\n'\n",
      "error: code=401\n",
      "url=https://api-us.faceplusplus.com/facepp/v3/compare\n",
      "b'{\"error_message\":\"AUTHENTICATION_ERROR\"}\\n'\n"
     ]
    },
    {
     "name": "stderr",
     "output_type": "stream",
     "text": [
      " 41%|████      | 304/750 [1:01:52<1:30:07, 12.12s/it]"
     ]
    },
    {
     "name": "stdout",
     "output_type": "stream",
     "text": [
      "error: code=401\n",
      "url=https://api-us.faceplusplus.com/facepp/v3/compare\n",
      "b'{\"error_message\":\"AUTHENTICATION_ERROR\"}\\n'\n",
      "error: code=401\n",
      "url=https://api-us.faceplusplus.com/facepp/v3/compare\n",
      "b'{\"error_message\":\"AUTHENTICATION_ERROR\"}\\n'\n",
      "error: code=401\n",
      "url=https://api-us.faceplusplus.com/facepp/v3/compare\n",
      "b'{\"error_message\":\"AUTHENTICATION_ERROR\"}\\n'\n",
      "error: code=401\n",
      "url=https://api-us.faceplusplus.com/facepp/v3/compare\n",
      "b'{\"error_message\":\"AUTHENTICATION_ERROR\"}\\n'\n",
      "error: code=401\n",
      "url=https://api-us.faceplusplus.com/facepp/v3/compare\n",
      "b'{\"error_message\":\"AUTHENTICATION_ERROR\"}\\n'\n",
      "error: code=401\n",
      "url=https://api-us.faceplusplus.com/facepp/v3/compare\n",
      "b'{\"error_message\":\"AUTHENTICATION_ERROR\"}\\n'\n",
      "error: code=401\n",
      "url=https://api-us.faceplusplus.com/facepp/v3/compare\n",
      "b'{\"error_message\":\"AUTHENTICATION_ERROR\"}\\n'\n",
      "error: code=401\n",
      "url=https://api-us.faceplusplus.com/facepp/v3/compare\n",
      "b'{\"error_message\":\"AUTHENTICATION_ERROR\"}\\n'\n"
     ]
    },
    {
     "name": "stderr",
     "output_type": "stream",
     "text": [
      " 41%|████      | 305/750 [1:02:04<1:30:24, 12.19s/it]"
     ]
    },
    {
     "name": "stdout",
     "output_type": "stream",
     "text": [
      "error: code=401\n",
      "url=https://api-us.faceplusplus.com/facepp/v3/compare\n",
      "b'{\"error_message\":\"AUTHENTICATION_ERROR\"}\\n'\n",
      "error: code=401\n",
      "url=https://api-us.faceplusplus.com/facepp/v3/compare\n",
      "b'{\"error_message\":\"AUTHENTICATION_ERROR\"}\\n'\n",
      "error: code=401\n",
      "url=https://api-us.faceplusplus.com/facepp/v3/compare\n",
      "b'{\"error_message\":\"AUTHENTICATION_ERROR\"}\\n'\n",
      "error: code=401\n",
      "url=https://api-us.faceplusplus.com/facepp/v3/compare\n",
      "b'{\"error_message\":\"AUTHENTICATION_ERROR\"}\\n'\n",
      "error: code=401\n",
      "url=https://api-us.faceplusplus.com/facepp/v3/compare\n",
      "b'{\"error_message\":\"AUTHENTICATION_ERROR\"}\\n'\n",
      "error: code=401\n",
      "url=https://api-us.faceplusplus.com/facepp/v3/compare\n",
      "b'{\"error_message\":\"AUTHENTICATION_ERROR\"}\\n'\n",
      "error: code=401\n",
      "url=https://api-us.faceplusplus.com/facepp/v3/compare\n",
      "b'{\"error_message\":\"AUTHENTICATION_ERROR\"}\\n'\n",
      "error: code=401\n",
      "url=https://api-us.faceplusplus.com/facepp/v3/compare\n",
      "b'{\"error_message\":\"AUTHENTICATION_ERROR\"}\\n'\n"
     ]
    },
    {
     "name": "stderr",
     "output_type": "stream",
     "text": [
      " 41%|████      | 306/750 [1:02:16<1:30:04, 12.17s/it]"
     ]
    },
    {
     "name": "stdout",
     "output_type": "stream",
     "text": [
      "error: code=401\n",
      "url=https://api-us.faceplusplus.com/facepp/v3/compare\n",
      "b'{\"error_message\":\"AUTHENTICATION_ERROR\"}\\n'\n",
      "error: code=401\n",
      "url=https://api-us.faceplusplus.com/facepp/v3/compare\n",
      "b'{\"error_message\":\"AUTHENTICATION_ERROR\"}\\n'\n",
      "error: code=401\n",
      "url=https://api-us.faceplusplus.com/facepp/v3/compare\n",
      "b'{\"error_message\":\"AUTHENTICATION_ERROR\"}\\n'\n",
      "error: code=401\n",
      "url=https://api-us.faceplusplus.com/facepp/v3/compare\n",
      "b'{\"error_message\":\"AUTHENTICATION_ERROR\"}\\n'\n",
      "error: code=401\n",
      "url=https://api-us.faceplusplus.com/facepp/v3/compare\n",
      "b'{\"error_message\":\"AUTHENTICATION_ERROR\"}\\n'\n",
      "error: code=401\n",
      "url=https://api-us.faceplusplus.com/facepp/v3/compare\n",
      "b'{\"error_message\":\"AUTHENTICATION_ERROR\"}\\n'\n",
      "error: code=401\n",
      "url=https://api-us.faceplusplus.com/facepp/v3/compare\n",
      "b'{\"error_message\":\"AUTHENTICATION_ERROR\"}\\n'\n",
      "error: code=401\n",
      "url=https://api-us.faceplusplus.com/facepp/v3/compare\n",
      "b'{\"error_message\":\"AUTHENTICATION_ERROR\"}\\n'\n"
     ]
    },
    {
     "name": "stderr",
     "output_type": "stream",
     "text": [
      " 41%|████      | 307/750 [1:02:29<1:30:24, 12.25s/it]"
     ]
    },
    {
     "name": "stdout",
     "output_type": "stream",
     "text": [
      "error: code=401\n",
      "url=https://api-us.faceplusplus.com/facepp/v3/compare\n",
      "b'{\"error_message\":\"AUTHENTICATION_ERROR\"}\\n'\n",
      "error: code=401\n",
      "url=https://api-us.faceplusplus.com/facepp/v3/compare\n",
      "b'{\"error_message\":\"AUTHENTICATION_ERROR\"}\\n'\n",
      "error: code=401\n",
      "url=https://api-us.faceplusplus.com/facepp/v3/compare\n",
      "b'{\"error_message\":\"AUTHENTICATION_ERROR\"}\\n'\n",
      "error: code=401\n",
      "url=https://api-us.faceplusplus.com/facepp/v3/compare\n",
      "b'{\"error_message\":\"AUTHENTICATION_ERROR\"}\\n'\n",
      "error: code=401\n",
      "url=https://api-us.faceplusplus.com/facepp/v3/compare\n",
      "b'{\"error_message\":\"AUTHENTICATION_ERROR\"}\\n'\n",
      "error: code=401\n",
      "url=https://api-us.faceplusplus.com/facepp/v3/compare\n",
      "b'{\"error_message\":\"AUTHENTICATION_ERROR\"}\\n'\n",
      "error: code=401\n",
      "url=https://api-us.faceplusplus.com/facepp/v3/compare\n",
      "b'{\"error_message\":\"AUTHENTICATION_ERROR\"}\\n'\n",
      "error: code=401\n",
      "url=https://api-us.faceplusplus.com/facepp/v3/compare\n",
      "b'{\"error_message\":\"AUTHENTICATION_ERROR\"}\\n'\n"
     ]
    },
    {
     "name": "stderr",
     "output_type": "stream",
     "text": [
      " 41%|████      | 308/750 [1:02:41<1:30:25, 12.28s/it]"
     ]
    },
    {
     "name": "stdout",
     "output_type": "stream",
     "text": [
      "error: code=401\n",
      "url=https://api-us.faceplusplus.com/facepp/v3/compare\n",
      "b'{\"error_message\":\"AUTHENTICATION_ERROR\"}\\n'\n",
      "error: code=401\n",
      "url=https://api-us.faceplusplus.com/facepp/v3/compare\n",
      "b'{\"error_message\":\"AUTHENTICATION_ERROR\"}\\n'\n",
      "error: code=401\n",
      "url=https://api-us.faceplusplus.com/facepp/v3/compare\n",
      "b'{\"error_message\":\"AUTHENTICATION_ERROR\"}\\n'\n",
      "error: code=401\n",
      "url=https://api-us.faceplusplus.com/facepp/v3/compare\n",
      "b'{\"error_message\":\"AUTHENTICATION_ERROR\"}\\n'\n",
      "error: code=401\n",
      "url=https://api-us.faceplusplus.com/facepp/v3/compare\n",
      "b'{\"error_message\":\"AUTHENTICATION_ERROR\"}\\n'\n",
      "error: code=401\n",
      "url=https://api-us.faceplusplus.com/facepp/v3/compare\n",
      "b'{\"error_message\":\"AUTHENTICATION_ERROR\"}\\n'\n",
      "error: code=401\n",
      "url=https://api-us.faceplusplus.com/facepp/v3/compare\n",
      "b'{\"error_message\":\"AUTHENTICATION_ERROR\"}\\n'\n",
      "error: code=401\n",
      "url=https://api-us.faceplusplus.com/facepp/v3/compare\n",
      "b'{\"error_message\":\"AUTHENTICATION_ERROR\"}\\n'\n"
     ]
    },
    {
     "name": "stderr",
     "output_type": "stream",
     "text": [
      " 41%|████      | 309/750 [1:02:54<1:30:47, 12.35s/it]"
     ]
    },
    {
     "name": "stdout",
     "output_type": "stream",
     "text": [
      "error: code=401\n",
      "url=https://api-us.faceplusplus.com/facepp/v3/compare\n",
      "b'{\"error_message\":\"AUTHENTICATION_ERROR\"}\\n'\n",
      "error: code=401\n",
      "url=https://api-us.faceplusplus.com/facepp/v3/compare\n",
      "b'{\"error_message\":\"AUTHENTICATION_ERROR\"}\\n'\n",
      "error: code=401\n",
      "url=https://api-us.faceplusplus.com/facepp/v3/compare\n",
      "b'{\"error_message\":\"AUTHENTICATION_ERROR\"}\\n'\n",
      "error: code=401\n",
      "url=https://api-us.faceplusplus.com/facepp/v3/compare\n",
      "b'{\"error_message\":\"AUTHENTICATION_ERROR\"}\\n'\n",
      "error: code=401\n",
      "url=https://api-us.faceplusplus.com/facepp/v3/compare\n",
      "b'{\"error_message\":\"AUTHENTICATION_ERROR\"}\\n'\n",
      "error: code=401\n",
      "url=https://api-us.faceplusplus.com/facepp/v3/compare\n",
      "b'{\"error_message\":\"AUTHENTICATION_ERROR\"}\\n'\n",
      "error: code=401\n",
      "url=https://api-us.faceplusplus.com/facepp/v3/compare\n",
      "b'{\"error_message\":\"AUTHENTICATION_ERROR\"}\\n'\n",
      "error: code=401\n",
      "url=https://api-us.faceplusplus.com/facepp/v3/compare\n",
      "b'{\"error_message\":\"AUTHENTICATION_ERROR\"}\\n'\n"
     ]
    },
    {
     "name": "stderr",
     "output_type": "stream",
     "text": [
      " 41%|████▏     | 310/750 [1:03:06<1:30:35, 12.35s/it]"
     ]
    },
    {
     "name": "stdout",
     "output_type": "stream",
     "text": [
      "error: code=401\n",
      "url=https://api-us.faceplusplus.com/facepp/v3/compare\n",
      "b'{\"error_message\":\"AUTHENTICATION_ERROR\"}\\n'\n",
      "error: code=401\n",
      "url=https://api-us.faceplusplus.com/facepp/v3/compare\n",
      "b'{\"error_message\":\"AUTHENTICATION_ERROR\"}\\n'\n",
      "error: code=401\n",
      "url=https://api-us.faceplusplus.com/facepp/v3/compare\n",
      "b'{\"error_message\":\"AUTHENTICATION_ERROR\"}\\n'\n",
      "error: code=401\n",
      "url=https://api-us.faceplusplus.com/facepp/v3/compare\n",
      "b'{\"error_message\":\"AUTHENTICATION_ERROR\"}\\n'\n",
      "error: code=401\n",
      "url=https://api-us.faceplusplus.com/facepp/v3/compare\n",
      "b'{\"error_message\":\"AUTHENTICATION_ERROR\"}\\n'\n",
      "error: code=401\n",
      "url=https://api-us.faceplusplus.com/facepp/v3/compare\n",
      "b'{\"error_message\":\"AUTHENTICATION_ERROR\"}\\n'\n",
      "error: code=401\n",
      "url=https://api-us.faceplusplus.com/facepp/v3/compare\n",
      "b'{\"error_message\":\"AUTHENTICATION_ERROR\"}\\n'\n",
      "error: code=401\n",
      "url=https://api-us.faceplusplus.com/facepp/v3/compare\n",
      "b'{\"error_message\":\"AUTHENTICATION_ERROR\"}\\n'\n"
     ]
    },
    {
     "name": "stderr",
     "output_type": "stream",
     "text": [
      " 41%|████▏     | 311/750 [1:03:19<1:30:53, 12.42s/it]"
     ]
    },
    {
     "name": "stdout",
     "output_type": "stream",
     "text": [
      "error: code=401\n",
      "url=https://api-us.faceplusplus.com/facepp/v3/compare\n",
      "b'{\"error_message\":\"AUTHENTICATION_ERROR\"}\\n'\n",
      "error: code=401\n",
      "url=https://api-us.faceplusplus.com/facepp/v3/compare\n",
      "b'{\"error_message\":\"AUTHENTICATION_ERROR\"}\\n'\n",
      "error: code=401\n",
      "url=https://api-us.faceplusplus.com/facepp/v3/compare\n",
      "b'{\"error_message\":\"AUTHENTICATION_ERROR\"}\\n'\n",
      "error: code=401\n",
      "url=https://api-us.faceplusplus.com/facepp/v3/compare\n",
      "b'{\"error_message\":\"AUTHENTICATION_ERROR\"}\\n'\n",
      "error: code=401\n",
      "url=https://api-us.faceplusplus.com/facepp/v3/compare\n",
      "b'{\"error_message\":\"AUTHENTICATION_ERROR\"}\\n'\n",
      "error: code=401\n",
      "url=https://api-us.faceplusplus.com/facepp/v3/compare\n",
      "b'{\"error_message\":\"AUTHENTICATION_ERROR\"}\\n'\n",
      "error: code=401\n",
      "url=https://api-us.faceplusplus.com/facepp/v3/compare\n",
      "b'{\"error_message\":\"AUTHENTICATION_ERROR\"}\\n'\n",
      "error: code=401\n",
      "url=https://api-us.faceplusplus.com/facepp/v3/compare\n",
      "b'{\"error_message\":\"AUTHENTICATION_ERROR\"}\\n'\n"
     ]
    },
    {
     "name": "stderr",
     "output_type": "stream",
     "text": [
      " 42%|████▏     | 312/750 [1:03:31<1:30:05, 12.34s/it]"
     ]
    },
    {
     "name": "stdout",
     "output_type": "stream",
     "text": [
      "error: code=401\n",
      "url=https://api-us.faceplusplus.com/facepp/v3/compare\n",
      "b'{\"error_message\":\"AUTHENTICATION_ERROR\"}\\n'\n",
      "error: code=401\n",
      "url=https://api-us.faceplusplus.com/facepp/v3/compare\n",
      "b'{\"error_message\":\"AUTHENTICATION_ERROR\"}\\n'\n",
      "error: code=401\n",
      "url=https://api-us.faceplusplus.com/facepp/v3/compare\n",
      "b'{\"error_message\":\"AUTHENTICATION_ERROR\"}\\n'\n",
      "error: code=401\n",
      "url=https://api-us.faceplusplus.com/facepp/v3/compare\n",
      "b'{\"error_message\":\"AUTHENTICATION_ERROR\"}\\n'\n",
      "error: code=401\n",
      "url=https://api-us.faceplusplus.com/facepp/v3/compare\n",
      "b'{\"error_message\":\"AUTHENTICATION_ERROR\"}\\n'\n",
      "error: code=401\n",
      "url=https://api-us.faceplusplus.com/facepp/v3/compare\n",
      "b'{\"error_message\":\"AUTHENTICATION_ERROR\"}\\n'\n",
      "error: code=401\n",
      "url=https://api-us.faceplusplus.com/facepp/v3/compare\n",
      "b'{\"error_message\":\"AUTHENTICATION_ERROR\"}\\n'\n",
      "error: code=401\n",
      "url=https://api-us.faceplusplus.com/facepp/v3/compare\n",
      "b'{\"error_message\":\"AUTHENTICATION_ERROR\"}\\n'\n"
     ]
    },
    {
     "name": "stderr",
     "output_type": "stream",
     "text": [
      " 42%|████▏     | 313/750 [1:03:43<1:29:39, 12.31s/it]"
     ]
    },
    {
     "name": "stdout",
     "output_type": "stream",
     "text": [
      "error: code=401\n",
      "url=https://api-us.faceplusplus.com/facepp/v3/compare\n",
      "b'{\"error_message\":\"AUTHENTICATION_ERROR\"}\\n'\n",
      "error: code=401\n",
      "url=https://api-us.faceplusplus.com/facepp/v3/compare\n",
      "b'{\"error_message\":\"AUTHENTICATION_ERROR\"}\\n'\n",
      "error: code=401\n",
      "url=https://api-us.faceplusplus.com/facepp/v3/compare\n",
      "b'{\"error_message\":\"AUTHENTICATION_ERROR\"}\\n'\n",
      "error: code=401\n",
      "url=https://api-us.faceplusplus.com/facepp/v3/compare\n",
      "b'{\"error_message\":\"AUTHENTICATION_ERROR\"}\\n'\n",
      "error: code=401\n",
      "url=https://api-us.faceplusplus.com/facepp/v3/compare\n",
      "b'{\"error_message\":\"AUTHENTICATION_ERROR\"}\\n'\n",
      "error: code=401\n",
      "url=https://api-us.faceplusplus.com/facepp/v3/compare\n",
      "b'{\"error_message\":\"AUTHENTICATION_ERROR\"}\\n'\n",
      "error: code=401\n",
      "url=https://api-us.faceplusplus.com/facepp/v3/compare\n",
      "b'{\"error_message\":\"AUTHENTICATION_ERROR\"}\\n'\n",
      "error: code=401\n",
      "url=https://api-us.faceplusplus.com/facepp/v3/compare\n",
      "b'{\"error_message\":\"AUTHENTICATION_ERROR\"}\\n'\n"
     ]
    },
    {
     "name": "stderr",
     "output_type": "stream",
     "text": [
      " 42%|████▏     | 314/750 [1:03:55<1:29:06, 12.26s/it]"
     ]
    },
    {
     "name": "stdout",
     "output_type": "stream",
     "text": [
      "error: code=401\n",
      "url=https://api-us.faceplusplus.com/facepp/v3/compare\n",
      "b'{\"error_message\":\"AUTHENTICATION_ERROR\"}\\n'\n",
      "error: code=401\n",
      "url=https://api-us.faceplusplus.com/facepp/v3/compare\n",
      "b'{\"error_message\":\"AUTHENTICATION_ERROR\"}\\n'\n",
      "error: code=401\n",
      "url=https://api-us.faceplusplus.com/facepp/v3/compare\n",
      "b'{\"error_message\":\"AUTHENTICATION_ERROR\"}\\n'\n",
      "error: code=401\n",
      "url=https://api-us.faceplusplus.com/facepp/v3/compare\n",
      "b'{\"error_message\":\"AUTHENTICATION_ERROR\"}\\n'\n",
      "error: code=401\n",
      "url=https://api-us.faceplusplus.com/facepp/v3/compare\n",
      "b'{\"error_message\":\"AUTHENTICATION_ERROR\"}\\n'\n",
      "error: code=401\n",
      "url=https://api-us.faceplusplus.com/facepp/v3/compare\n",
      "b'{\"error_message\":\"AUTHENTICATION_ERROR\"}\\n'\n",
      "error: code=401\n",
      "url=https://api-us.faceplusplus.com/facepp/v3/compare\n",
      "b'{\"error_message\":\"AUTHENTICATION_ERROR\"}\\n'\n",
      "error: code=401\n",
      "url=https://api-us.faceplusplus.com/facepp/v3/compare\n",
      "b'{\"error_message\":\"AUTHENTICATION_ERROR\"}\\n'\n"
     ]
    },
    {
     "name": "stderr",
     "output_type": "stream",
     "text": [
      " 42%|████▏     | 315/750 [1:04:08<1:29:30, 12.35s/it]"
     ]
    },
    {
     "name": "stdout",
     "output_type": "stream",
     "text": [
      "error: code=401\n",
      "url=https://api-us.faceplusplus.com/facepp/v3/compare\n",
      "b'{\"error_message\":\"AUTHENTICATION_ERROR\"}\\n'\n",
      "error: code=401\n",
      "url=https://api-us.faceplusplus.com/facepp/v3/compare\n",
      "b'{\"error_message\":\"AUTHENTICATION_ERROR\"}\\n'\n",
      "error: code=401\n",
      "url=https://api-us.faceplusplus.com/facepp/v3/compare\n",
      "b'{\"error_message\":\"AUTHENTICATION_ERROR\"}\\n'\n",
      "error: code=401\n",
      "url=https://api-us.faceplusplus.com/facepp/v3/compare\n",
      "b'{\"error_message\":\"AUTHENTICATION_ERROR\"}\\n'\n",
      "error: code=401\n",
      "url=https://api-us.faceplusplus.com/facepp/v3/compare\n",
      "b'{\"error_message\":\"AUTHENTICATION_ERROR\"}\\n'\n",
      "error: code=401\n",
      "url=https://api-us.faceplusplus.com/facepp/v3/compare\n",
      "b'{\"error_message\":\"AUTHENTICATION_ERROR\"}\\n'\n",
      "error: code=401\n",
      "url=https://api-us.faceplusplus.com/facepp/v3/compare\n",
      "b'{\"error_message\":\"AUTHENTICATION_ERROR\"}\\n'\n",
      "error: code=401\n",
      "url=https://api-us.faceplusplus.com/facepp/v3/compare\n",
      "b'{\"error_message\":\"AUTHENTICATION_ERROR\"}\\n'\n"
     ]
    },
    {
     "name": "stderr",
     "output_type": "stream",
     "text": [
      " 42%|████▏     | 316/750 [1:04:19<1:28:01, 12.17s/it]"
     ]
    },
    {
     "name": "stdout",
     "output_type": "stream",
     "text": [
      "error: code=401\n",
      "url=https://api-us.faceplusplus.com/facepp/v3/compare\n",
      "b'{\"error_message\":\"AUTHENTICATION_ERROR\"}\\n'\n",
      "error: code=401\n",
      "url=https://api-us.faceplusplus.com/facepp/v3/compare\n",
      "b'{\"error_message\":\"AUTHENTICATION_ERROR\"}\\n'\n",
      "error: code=401\n",
      "url=https://api-us.faceplusplus.com/facepp/v3/compare\n",
      "b'{\"error_message\":\"AUTHENTICATION_ERROR\"}\\n'\n",
      "error: code=401\n",
      "url=https://api-us.faceplusplus.com/facepp/v3/compare\n",
      "b'{\"error_message\":\"AUTHENTICATION_ERROR\"}\\n'\n",
      "error: code=401\n",
      "url=https://api-us.faceplusplus.com/facepp/v3/compare\n",
      "b'{\"error_message\":\"AUTHENTICATION_ERROR\"}\\n'\n",
      "error: code=401\n",
      "url=https://api-us.faceplusplus.com/facepp/v3/compare\n",
      "b'{\"error_message\":\"AUTHENTICATION_ERROR\"}\\n'\n",
      "error: code=401\n",
      "url=https://api-us.faceplusplus.com/facepp/v3/compare\n",
      "b'{\"error_message\":\"AUTHENTICATION_ERROR\"}\\n'\n",
      "error: code=401\n",
      "url=https://api-us.faceplusplus.com/facepp/v3/compare\n",
      "b'{\"error_message\":\"AUTHENTICATION_ERROR\"}\\n'\n"
     ]
    },
    {
     "name": "stderr",
     "output_type": "stream",
     "text": [
      " 42%|████▏     | 317/750 [1:04:32<1:28:18, 12.24s/it]"
     ]
    },
    {
     "name": "stdout",
     "output_type": "stream",
     "text": [
      "error: code=401\n",
      "url=https://api-us.faceplusplus.com/facepp/v3/compare\n",
      "b'{\"error_message\":\"AUTHENTICATION_ERROR\"}\\n'\n",
      "error: code=401\n",
      "url=https://api-us.faceplusplus.com/facepp/v3/compare\n",
      "b'{\"error_message\":\"AUTHENTICATION_ERROR\"}\\n'\n",
      "error: code=401\n",
      "url=https://api-us.faceplusplus.com/facepp/v3/compare\n",
      "b'{\"error_message\":\"AUTHENTICATION_ERROR\"}\\n'\n",
      "error: code=401\n",
      "url=https://api-us.faceplusplus.com/facepp/v3/compare\n",
      "b'{\"error_message\":\"AUTHENTICATION_ERROR\"}\\n'\n",
      "error: code=401\n",
      "url=https://api-us.faceplusplus.com/facepp/v3/compare\n",
      "b'{\"error_message\":\"AUTHENTICATION_ERROR\"}\\n'\n",
      "error: code=401\n",
      "url=https://api-us.faceplusplus.com/facepp/v3/compare\n",
      "b'{\"error_message\":\"AUTHENTICATION_ERROR\"}\\n'\n",
      "error: code=401\n",
      "url=https://api-us.faceplusplus.com/facepp/v3/compare\n",
      "b'{\"error_message\":\"AUTHENTICATION_ERROR\"}\\n'\n",
      "error: code=401\n",
      "url=https://api-us.faceplusplus.com/facepp/v3/compare\n",
      "b'{\"error_message\":\"AUTHENTICATION_ERROR\"}\\n'\n"
     ]
    },
    {
     "name": "stderr",
     "output_type": "stream",
     "text": [
      " 42%|████▏     | 318/750 [1:04:44<1:27:50, 12.20s/it]"
     ]
    },
    {
     "name": "stdout",
     "output_type": "stream",
     "text": [
      "error: code=401\n",
      "url=https://api-us.faceplusplus.com/facepp/v3/compare\n",
      "b'{\"error_message\":\"AUTHENTICATION_ERROR\"}\\n'\n",
      "error: code=401\n",
      "url=https://api-us.faceplusplus.com/facepp/v3/compare\n",
      "b'{\"error_message\":\"AUTHENTICATION_ERROR\"}\\n'\n",
      "error: code=401\n",
      "url=https://api-us.faceplusplus.com/facepp/v3/compare\n",
      "b'{\"error_message\":\"AUTHENTICATION_ERROR\"}\\n'\n",
      "error: code=401\n",
      "url=https://api-us.faceplusplus.com/facepp/v3/compare\n",
      "b'{\"error_message\":\"AUTHENTICATION_ERROR\"}\\n'\n",
      "error: code=401\n",
      "url=https://api-us.faceplusplus.com/facepp/v3/compare\n",
      "b'{\"error_message\":\"AUTHENTICATION_ERROR\"}\\n'\n",
      "error: code=401\n",
      "url=https://api-us.faceplusplus.com/facepp/v3/compare\n",
      "b'{\"error_message\":\"AUTHENTICATION_ERROR\"}\\n'\n",
      "error: code=401\n",
      "url=https://api-us.faceplusplus.com/facepp/v3/compare\n",
      "b'{\"error_message\":\"AUTHENTICATION_ERROR\"}\\n'\n",
      "error: code=401\n",
      "url=https://api-us.faceplusplus.com/facepp/v3/compare\n",
      "b'{\"error_message\":\"AUTHENTICATION_ERROR\"}\\n'\n"
     ]
    },
    {
     "name": "stderr",
     "output_type": "stream",
     "text": [
      " 43%|████▎     | 319/750 [1:04:56<1:27:16, 12.15s/it]"
     ]
    },
    {
     "name": "stdout",
     "output_type": "stream",
     "text": [
      "error: code=401\n",
      "url=https://api-us.faceplusplus.com/facepp/v3/compare\n",
      "b'{\"error_message\":\"AUTHENTICATION_ERROR\"}\\n'\n",
      "error: code=401\n",
      "url=https://api-us.faceplusplus.com/facepp/v3/compare\n",
      "b'{\"error_message\":\"AUTHENTICATION_ERROR\"}\\n'\n",
      "error: code=401\n",
      "url=https://api-us.faceplusplus.com/facepp/v3/compare\n",
      "b'{\"error_message\":\"AUTHENTICATION_ERROR\"}\\n'\n",
      "error: code=401\n",
      "url=https://api-us.faceplusplus.com/facepp/v3/compare\n",
      "b'{\"error_message\":\"AUTHENTICATION_ERROR\"}\\n'\n",
      "error: code=401\n",
      "url=https://api-us.faceplusplus.com/facepp/v3/compare\n",
      "b'{\"error_message\":\"AUTHENTICATION_ERROR\"}\\n'\n",
      "error: code=401\n",
      "url=https://api-us.faceplusplus.com/facepp/v3/compare\n",
      "b'{\"error_message\":\"AUTHENTICATION_ERROR\"}\\n'\n",
      "error: code=401\n",
      "url=https://api-us.faceplusplus.com/facepp/v3/compare\n",
      "b'{\"error_message\":\"AUTHENTICATION_ERROR\"}\\n'\n",
      "error: code=401\n",
      "url=https://api-us.faceplusplus.com/facepp/v3/compare\n",
      "b'{\"error_message\":\"AUTHENTICATION_ERROR\"}\\n'\n"
     ]
    },
    {
     "name": "stderr",
     "output_type": "stream",
     "text": [
      " 43%|████▎     | 320/750 [1:05:08<1:26:51, 12.12s/it]"
     ]
    },
    {
     "name": "stdout",
     "output_type": "stream",
     "text": [
      "error: code=401\n",
      "url=https://api-us.faceplusplus.com/facepp/v3/compare\n",
      "b'{\"error_message\":\"AUTHENTICATION_ERROR\"}\\n'\n",
      "error: code=401\n",
      "url=https://api-us.faceplusplus.com/facepp/v3/compare\n",
      "b'{\"error_message\":\"AUTHENTICATION_ERROR\"}\\n'\n",
      "error: code=401\n",
      "url=https://api-us.faceplusplus.com/facepp/v3/compare\n",
      "b'{\"error_message\":\"AUTHENTICATION_ERROR\"}\\n'\n",
      "error: code=401\n",
      "url=https://api-us.faceplusplus.com/facepp/v3/compare\n",
      "b'{\"error_message\":\"AUTHENTICATION_ERROR\"}\\n'\n",
      "error: code=401\n",
      "url=https://api-us.faceplusplus.com/facepp/v3/compare\n",
      "b'{\"error_message\":\"AUTHENTICATION_ERROR\"}\\n'\n",
      "error: code=401\n",
      "url=https://api-us.faceplusplus.com/facepp/v3/compare\n",
      "b'{\"error_message\":\"AUTHENTICATION_ERROR\"}\\n'\n",
      "error: code=401\n",
      "url=https://api-us.faceplusplus.com/facepp/v3/compare\n",
      "b'{\"error_message\":\"AUTHENTICATION_ERROR\"}\\n'\n",
      "error: code=401\n",
      "url=https://api-us.faceplusplus.com/facepp/v3/compare\n",
      "b'{\"error_message\":\"AUTHENTICATION_ERROR\"}\\n'\n"
     ]
    },
    {
     "name": "stderr",
     "output_type": "stream",
     "text": [
      " 43%|████▎     | 321/750 [1:05:20<1:27:19, 12.21s/it]"
     ]
    },
    {
     "name": "stdout",
     "output_type": "stream",
     "text": [
      "error: code=401\n",
      "url=https://api-us.faceplusplus.com/facepp/v3/compare\n",
      "b'{\"error_message\":\"AUTHENTICATION_ERROR\"}\\n'\n",
      "error: code=401\n",
      "url=https://api-us.faceplusplus.com/facepp/v3/compare\n",
      "b'{\"error_message\":\"AUTHENTICATION_ERROR\"}\\n'\n",
      "error: code=401\n",
      "url=https://api-us.faceplusplus.com/facepp/v3/compare\n",
      "b'{\"error_message\":\"AUTHENTICATION_ERROR\"}\\n'\n",
      "error: code=401\n",
      "url=https://api-us.faceplusplus.com/facepp/v3/compare\n",
      "b'{\"error_message\":\"AUTHENTICATION_ERROR\"}\\n'\n",
      "error: code=401\n",
      "url=https://api-us.faceplusplus.com/facepp/v3/compare\n",
      "b'{\"error_message\":\"AUTHENTICATION_ERROR\"}\\n'\n",
      "error: code=401\n",
      "url=https://api-us.faceplusplus.com/facepp/v3/compare\n",
      "b'{\"error_message\":\"AUTHENTICATION_ERROR\"}\\n'\n",
      "error: code=401\n",
      "url=https://api-us.faceplusplus.com/facepp/v3/compare\n",
      "b'{\"error_message\":\"AUTHENTICATION_ERROR\"}\\n'\n",
      "error: code=401\n",
      "url=https://api-us.faceplusplus.com/facepp/v3/compare\n",
      "b'{\"error_message\":\"AUTHENTICATION_ERROR\"}\\n'\n"
     ]
    },
    {
     "name": "stderr",
     "output_type": "stream",
     "text": [
      " 43%|████▎     | 322/750 [1:05:33<1:27:22, 12.25s/it]"
     ]
    },
    {
     "name": "stdout",
     "output_type": "stream",
     "text": [
      "error: code=401\n",
      "url=https://api-us.faceplusplus.com/facepp/v3/compare\n",
      "b'{\"error_message\":\"AUTHENTICATION_ERROR\"}\\n'\n",
      "error: code=401\n",
      "url=https://api-us.faceplusplus.com/facepp/v3/compare\n",
      "b'{\"error_message\":\"AUTHENTICATION_ERROR\"}\\n'\n",
      "error: code=401\n",
      "url=https://api-us.faceplusplus.com/facepp/v3/compare\n",
      "b'{\"error_message\":\"AUTHENTICATION_ERROR\"}\\n'\n",
      "error: code=401\n",
      "url=https://api-us.faceplusplus.com/facepp/v3/compare\n",
      "b'{\"error_message\":\"AUTHENTICATION_ERROR\"}\\n'\n",
      "error: code=401\n",
      "url=https://api-us.faceplusplus.com/facepp/v3/compare\n",
      "b'{\"error_message\":\"AUTHENTICATION_ERROR\"}\\n'\n",
      "error: code=401\n",
      "url=https://api-us.faceplusplus.com/facepp/v3/compare\n",
      "b'{\"error_message\":\"AUTHENTICATION_ERROR\"}\\n'\n",
      "error: code=401\n",
      "url=https://api-us.faceplusplus.com/facepp/v3/compare\n",
      "b'{\"error_message\":\"AUTHENTICATION_ERROR\"}\\n'\n",
      "error: code=401\n",
      "url=https://api-us.faceplusplus.com/facepp/v3/compare\n",
      "b'{\"error_message\":\"AUTHENTICATION_ERROR\"}\\n'\n"
     ]
    },
    {
     "name": "stderr",
     "output_type": "stream",
     "text": [
      " 43%|████▎     | 323/750 [1:05:45<1:27:00, 12.23s/it]"
     ]
    },
    {
     "name": "stdout",
     "output_type": "stream",
     "text": [
      "error: code=401\n",
      "url=https://api-us.faceplusplus.com/facepp/v3/compare\n",
      "b'{\"error_message\":\"AUTHENTICATION_ERROR\"}\\n'\n",
      "error: code=401\n",
      "url=https://api-us.faceplusplus.com/facepp/v3/compare\n",
      "b'{\"error_message\":\"AUTHENTICATION_ERROR\"}\\n'\n",
      "error: code=401\n",
      "url=https://api-us.faceplusplus.com/facepp/v3/compare\n",
      "b'{\"error_message\":\"AUTHENTICATION_ERROR\"}\\n'\n",
      "error: code=401\n",
      "url=https://api-us.faceplusplus.com/facepp/v3/compare\n",
      "b'{\"error_message\":\"AUTHENTICATION_ERROR\"}\\n'\n",
      "error: code=401\n",
      "url=https://api-us.faceplusplus.com/facepp/v3/compare\n",
      "b'{\"error_message\":\"AUTHENTICATION_ERROR\"}\\n'\n",
      "error: code=401\n",
      "url=https://api-us.faceplusplus.com/facepp/v3/compare\n",
      "b'{\"error_message\":\"AUTHENTICATION_ERROR\"}\\n'\n",
      "error: code=401\n",
      "url=https://api-us.faceplusplus.com/facepp/v3/compare\n",
      "b'{\"error_message\":\"AUTHENTICATION_ERROR\"}\\n'\n",
      "error: code=401\n",
      "url=https://api-us.faceplusplus.com/facepp/v3/compare\n",
      "b'{\"error_message\":\"AUTHENTICATION_ERROR\"}\\n'\n"
     ]
    },
    {
     "name": "stderr",
     "output_type": "stream",
     "text": [
      " 43%|████▎     | 324/750 [1:05:57<1:26:33, 12.19s/it]"
     ]
    },
    {
     "name": "stdout",
     "output_type": "stream",
     "text": [
      "error: code=401\n",
      "url=https://api-us.faceplusplus.com/facepp/v3/compare\n",
      "b'{\"error_message\":\"AUTHENTICATION_ERROR\"}\\n'\n",
      "error: code=401\n",
      "url=https://api-us.faceplusplus.com/facepp/v3/compare\n",
      "b'{\"error_message\":\"AUTHENTICATION_ERROR\"}\\n'\n",
      "error: code=401\n",
      "url=https://api-us.faceplusplus.com/facepp/v3/compare\n",
      "b'{\"error_message\":\"AUTHENTICATION_ERROR\"}\\n'\n",
      "error: code=401\n",
      "url=https://api-us.faceplusplus.com/facepp/v3/compare\n",
      "b'{\"error_message\":\"AUTHENTICATION_ERROR\"}\\n'\n",
      "error: code=401\n",
      "url=https://api-us.faceplusplus.com/facepp/v3/compare\n",
      "b'{\"error_message\":\"AUTHENTICATION_ERROR\"}\\n'\n",
      "error: code=401\n",
      "url=https://api-us.faceplusplus.com/facepp/v3/compare\n",
      "b'{\"error_message\":\"AUTHENTICATION_ERROR\"}\\n'\n",
      "error: code=401\n",
      "url=https://api-us.faceplusplus.com/facepp/v3/compare\n",
      "b'{\"error_message\":\"AUTHENTICATION_ERROR\"}\\n'\n",
      "error: code=401\n",
      "url=https://api-us.faceplusplus.com/facepp/v3/compare\n",
      "b'{\"error_message\":\"AUTHENTICATION_ERROR\"}\\n'\n"
     ]
    },
    {
     "name": "stderr",
     "output_type": "stream",
     "text": [
      " 43%|████▎     | 325/750 [1:06:09<1:26:08, 12.16s/it]"
     ]
    },
    {
     "name": "stdout",
     "output_type": "stream",
     "text": [
      "error: code=401\n",
      "url=https://api-us.faceplusplus.com/facepp/v3/compare\n",
      "b'{\"error_message\":\"AUTHENTICATION_ERROR\"}\\n'\n",
      "error: code=401\n",
      "url=https://api-us.faceplusplus.com/facepp/v3/compare\n",
      "b'{\"error_message\":\"AUTHENTICATION_ERROR\"}\\n'\n",
      "error: code=401\n",
      "url=https://api-us.faceplusplus.com/facepp/v3/compare\n",
      "b'{\"error_message\":\"AUTHENTICATION_ERROR\"}\\n'\n",
      "error: code=401\n",
      "url=https://api-us.faceplusplus.com/facepp/v3/compare\n",
      "b'{\"error_message\":\"AUTHENTICATION_ERROR\"}\\n'\n",
      "error: code=401\n",
      "url=https://api-us.faceplusplus.com/facepp/v3/compare\n",
      "b'{\"error_message\":\"AUTHENTICATION_ERROR\"}\\n'\n",
      "error: code=401\n",
      "url=https://api-us.faceplusplus.com/facepp/v3/compare\n",
      "b'{\"error_message\":\"AUTHENTICATION_ERROR\"}\\n'\n",
      "error: code=401\n",
      "url=https://api-us.faceplusplus.com/facepp/v3/compare\n",
      "b'{\"error_message\":\"AUTHENTICATION_ERROR\"}\\n'\n",
      "error: code=401\n",
      "url=https://api-us.faceplusplus.com/facepp/v3/compare\n",
      "b'{\"error_message\":\"AUTHENTICATION_ERROR\"}\\n'\n"
     ]
    },
    {
     "name": "stderr",
     "output_type": "stream",
     "text": [
      " 43%|████▎     | 326/750 [1:06:21<1:25:59, 12.17s/it]"
     ]
    },
    {
     "name": "stdout",
     "output_type": "stream",
     "text": [
      "error: code=401\n",
      "url=https://api-us.faceplusplus.com/facepp/v3/compare\n",
      "b'{\"error_message\":\"AUTHENTICATION_ERROR\"}\\n'\n",
      "error: code=401\n",
      "url=https://api-us.faceplusplus.com/facepp/v3/compare\n",
      "b'{\"error_message\":\"AUTHENTICATION_ERROR\"}\\n'\n",
      "error: code=401\n",
      "url=https://api-us.faceplusplus.com/facepp/v3/compare\n",
      "b'{\"error_message\":\"AUTHENTICATION_ERROR\"}\\n'\n",
      "error: code=401\n",
      "url=https://api-us.faceplusplus.com/facepp/v3/compare\n",
      "b'{\"error_message\":\"AUTHENTICATION_ERROR\"}\\n'\n",
      "error: code=401\n",
      "url=https://api-us.faceplusplus.com/facepp/v3/compare\n",
      "b'{\"error_message\":\"AUTHENTICATION_ERROR\"}\\n'\n",
      "error: code=401\n",
      "url=https://api-us.faceplusplus.com/facepp/v3/compare\n",
      "b'{\"error_message\":\"AUTHENTICATION_ERROR\"}\\n'\n",
      "error: code=401\n",
      "url=https://api-us.faceplusplus.com/facepp/v3/compare\n",
      "b'{\"error_message\":\"AUTHENTICATION_ERROR\"}\\n'\n",
      "error: code=401\n",
      "url=https://api-us.faceplusplus.com/facepp/v3/compare\n",
      "b'{\"error_message\":\"AUTHENTICATION_ERROR\"}\\n'\n"
     ]
    },
    {
     "name": "stderr",
     "output_type": "stream",
     "text": [
      " 44%|████▎     | 327/750 [1:06:34<1:26:56, 12.33s/it]"
     ]
    },
    {
     "name": "stdout",
     "output_type": "stream",
     "text": [
      "error: code=401\n",
      "url=https://api-us.faceplusplus.com/facepp/v3/compare\n",
      "b'{\"error_message\":\"AUTHENTICATION_ERROR\"}\\n'\n",
      "error: code=401\n",
      "url=https://api-us.faceplusplus.com/facepp/v3/compare\n",
      "b'{\"error_message\":\"AUTHENTICATION_ERROR\"}\\n'\n",
      "error: code=401\n",
      "url=https://api-us.faceplusplus.com/facepp/v3/compare\n",
      "b'{\"error_message\":\"AUTHENTICATION_ERROR\"}\\n'\n",
      "error: code=401\n",
      "url=https://api-us.faceplusplus.com/facepp/v3/compare\n",
      "b'{\"error_message\":\"AUTHENTICATION_ERROR\"}\\n'\n",
      "error: code=401\n",
      "url=https://api-us.faceplusplus.com/facepp/v3/compare\n",
      "b'{\"error_message\":\"AUTHENTICATION_ERROR\"}\\n'\n",
      "error: code=401\n",
      "url=https://api-us.faceplusplus.com/facepp/v3/compare\n",
      "b'{\"error_message\":\"AUTHENTICATION_ERROR\"}\\n'\n",
      "error: code=401\n",
      "url=https://api-us.faceplusplus.com/facepp/v3/compare\n",
      "b'{\"error_message\":\"AUTHENTICATION_ERROR\"}\\n'\n",
      "error: code=401\n",
      "url=https://api-us.faceplusplus.com/facepp/v3/compare\n",
      "b'{\"error_message\":\"AUTHENTICATION_ERROR\"}\\n'\n"
     ]
    },
    {
     "name": "stderr",
     "output_type": "stream",
     "text": [
      " 44%|████▎     | 328/750 [1:06:46<1:25:52, 12.21s/it]"
     ]
    },
    {
     "name": "stdout",
     "output_type": "stream",
     "text": [
      "error: code=401\n",
      "url=https://api-us.faceplusplus.com/facepp/v3/compare\n",
      "b'{\"error_message\":\"AUTHENTICATION_ERROR\"}\\n'\n",
      "error: code=401\n",
      "url=https://api-us.faceplusplus.com/facepp/v3/compare\n",
      "b'{\"error_message\":\"AUTHENTICATION_ERROR\"}\\n'\n",
      "error: code=401\n",
      "url=https://api-us.faceplusplus.com/facepp/v3/compare\n",
      "b'{\"error_message\":\"AUTHENTICATION_ERROR\"}\\n'\n",
      "error: code=401\n",
      "url=https://api-us.faceplusplus.com/facepp/v3/compare\n",
      "b'{\"error_message\":\"AUTHENTICATION_ERROR\"}\\n'\n",
      "error: code=401\n",
      "url=https://api-us.faceplusplus.com/facepp/v3/compare\n",
      "b'{\"error_message\":\"AUTHENTICATION_ERROR\"}\\n'\n",
      "error: code=401\n",
      "url=https://api-us.faceplusplus.com/facepp/v3/compare\n",
      "b'{\"error_message\":\"AUTHENTICATION_ERROR\"}\\n'\n",
      "error: code=401\n",
      "url=https://api-us.faceplusplus.com/facepp/v3/compare\n",
      "b'{\"error_message\":\"AUTHENTICATION_ERROR\"}\\n'\n",
      "error: code=401\n",
      "url=https://api-us.faceplusplus.com/facepp/v3/compare\n",
      "b'{\"error_message\":\"AUTHENTICATION_ERROR\"}\\n'\n"
     ]
    },
    {
     "name": "stderr",
     "output_type": "stream",
     "text": [
      " 44%|████▍     | 329/750 [1:06:58<1:25:58, 12.25s/it]"
     ]
    },
    {
     "name": "stdout",
     "output_type": "stream",
     "text": [
      "error: code=401\n",
      "url=https://api-us.faceplusplus.com/facepp/v3/compare\n",
      "b'{\"error_message\":\"AUTHENTICATION_ERROR\"}\\n'\n",
      "error: code=401\n",
      "url=https://api-us.faceplusplus.com/facepp/v3/compare\n",
      "b'{\"error_message\":\"AUTHENTICATION_ERROR\"}\\n'\n",
      "error: code=401\n",
      "url=https://api-us.faceplusplus.com/facepp/v3/compare\n",
      "b'{\"error_message\":\"AUTHENTICATION_ERROR\"}\\n'\n",
      "error: code=401\n",
      "url=https://api-us.faceplusplus.com/facepp/v3/compare\n",
      "b'{\"error_message\":\"AUTHENTICATION_ERROR\"}\\n'\n",
      "error: code=401\n",
      "url=https://api-us.faceplusplus.com/facepp/v3/compare\n",
      "b'{\"error_message\":\"AUTHENTICATION_ERROR\"}\\n'\n",
      "error: code=401\n",
      "url=https://api-us.faceplusplus.com/facepp/v3/compare\n",
      "b'{\"error_message\":\"AUTHENTICATION_ERROR\"}\\n'\n",
      "error: code=401\n",
      "url=https://api-us.faceplusplus.com/facepp/v3/compare\n",
      "b'{\"error_message\":\"AUTHENTICATION_ERROR\"}\\n'\n",
      "error: code=401\n",
      "url=https://api-us.faceplusplus.com/facepp/v3/compare\n",
      "b'{\"error_message\":\"AUTHENTICATION_ERROR\"}\\n'\n"
     ]
    },
    {
     "name": "stderr",
     "output_type": "stream",
     "text": [
      " 44%|████▍     | 330/750 [1:07:11<1:26:56, 12.42s/it]"
     ]
    },
    {
     "name": "stdout",
     "output_type": "stream",
     "text": [
      "error: code=401\n",
      "url=https://api-us.faceplusplus.com/facepp/v3/compare\n",
      "b'{\"error_message\":\"AUTHENTICATION_ERROR\"}\\n'\n",
      "error: code=401\n",
      "url=https://api-us.faceplusplus.com/facepp/v3/compare\n",
      "b'{\"error_message\":\"AUTHENTICATION_ERROR\"}\\n'\n",
      "error: code=401\n",
      "url=https://api-us.faceplusplus.com/facepp/v3/compare\n",
      "b'{\"error_message\":\"AUTHENTICATION_ERROR\"}\\n'\n",
      "error: code=401\n",
      "url=https://api-us.faceplusplus.com/facepp/v3/compare\n",
      "b'{\"error_message\":\"AUTHENTICATION_ERROR\"}\\n'\n",
      "error: code=401\n",
      "url=https://api-us.faceplusplus.com/facepp/v3/compare\n",
      "b'{\"error_message\":\"AUTHENTICATION_ERROR\"}\\n'\n",
      "error: code=401\n",
      "url=https://api-us.faceplusplus.com/facepp/v3/compare\n",
      "b'{\"error_message\":\"AUTHENTICATION_ERROR\"}\\n'\n",
      "error: code=401\n",
      "url=https://api-us.faceplusplus.com/facepp/v3/compare\n",
      "b'{\"error_message\":\"AUTHENTICATION_ERROR\"}\\n'\n",
      "error: code=401\n",
      "url=https://api-us.faceplusplus.com/facepp/v3/compare\n",
      "b'{\"error_message\":\"AUTHENTICATION_ERROR\"}\\n'\n"
     ]
    },
    {
     "name": "stderr",
     "output_type": "stream",
     "text": [
      " 44%|████▍     | 331/750 [1:07:23<1:26:12, 12.35s/it]"
     ]
    },
    {
     "name": "stdout",
     "output_type": "stream",
     "text": [
      "error: code=401\n",
      "url=https://api-us.faceplusplus.com/facepp/v3/compare\n",
      "b'{\"error_message\":\"AUTHENTICATION_ERROR\"}\\n'\n",
      "error: code=401\n",
      "url=https://api-us.faceplusplus.com/facepp/v3/compare\n",
      "b'{\"error_message\":\"AUTHENTICATION_ERROR\"}\\n'\n",
      "error: code=401\n",
      "url=https://api-us.faceplusplus.com/facepp/v3/compare\n",
      "b'{\"error_message\":\"AUTHENTICATION_ERROR\"}\\n'\n",
      "error: code=401\n",
      "url=https://api-us.faceplusplus.com/facepp/v3/compare\n",
      "b'{\"error_message\":\"AUTHENTICATION_ERROR\"}\\n'\n",
      "error: code=401\n",
      "url=https://api-us.faceplusplus.com/facepp/v3/compare\n",
      "b'{\"error_message\":\"AUTHENTICATION_ERROR\"}\\n'\n",
      "error: code=401\n",
      "url=https://api-us.faceplusplus.com/facepp/v3/compare\n",
      "b'{\"error_message\":\"AUTHENTICATION_ERROR\"}\\n'\n",
      "error: code=401\n",
      "url=https://api-us.faceplusplus.com/facepp/v3/compare\n",
      "b'{\"error_message\":\"AUTHENTICATION_ERROR\"}\\n'\n",
      "error: code=401\n",
      "url=https://api-us.faceplusplus.com/facepp/v3/compare\n",
      "b'{\"error_message\":\"AUTHENTICATION_ERROR\"}\\n'\n"
     ]
    },
    {
     "name": "stderr",
     "output_type": "stream",
     "text": [
      " 44%|████▍     | 332/750 [1:07:35<1:25:30, 12.27s/it]"
     ]
    },
    {
     "name": "stdout",
     "output_type": "stream",
     "text": [
      "error: code=401\n",
      "url=https://api-us.faceplusplus.com/facepp/v3/compare\n",
      "b'{\"error_message\":\"AUTHENTICATION_ERROR\"}\\n'\n",
      "error: code=401\n",
      "url=https://api-us.faceplusplus.com/facepp/v3/compare\n",
      "b'{\"error_message\":\"AUTHENTICATION_ERROR\"}\\n'\n",
      "error: code=401\n",
      "url=https://api-us.faceplusplus.com/facepp/v3/compare\n",
      "b'{\"error_message\":\"AUTHENTICATION_ERROR\"}\\n'\n",
      "error: code=401\n",
      "url=https://api-us.faceplusplus.com/facepp/v3/compare\n",
      "b'{\"error_message\":\"AUTHENTICATION_ERROR\"}\\n'\n",
      "error: code=401\n",
      "url=https://api-us.faceplusplus.com/facepp/v3/compare\n",
      "b'{\"error_message\":\"AUTHENTICATION_ERROR\"}\\n'\n",
      "error: code=401\n",
      "url=https://api-us.faceplusplus.com/facepp/v3/compare\n",
      "b'{\"error_message\":\"AUTHENTICATION_ERROR\"}\\n'\n",
      "error: code=401\n",
      "url=https://api-us.faceplusplus.com/facepp/v3/compare\n",
      "b'{\"error_message\":\"AUTHENTICATION_ERROR\"}\\n'\n",
      "error: code=401\n",
      "url=https://api-us.faceplusplus.com/facepp/v3/compare\n",
      "b'{\"error_message\":\"AUTHENTICATION_ERROR\"}\\n'\n"
     ]
    },
    {
     "name": "stderr",
     "output_type": "stream",
     "text": [
      " 44%|████▍     | 333/750 [1:07:47<1:24:55, 12.22s/it]"
     ]
    },
    {
     "name": "stdout",
     "output_type": "stream",
     "text": [
      "error: code=401\n",
      "url=https://api-us.faceplusplus.com/facepp/v3/compare\n",
      "b'{\"error_message\":\"AUTHENTICATION_ERROR\"}\\n'\n",
      "error: code=401\n",
      "url=https://api-us.faceplusplus.com/facepp/v3/compare\n",
      "b'{\"error_message\":\"AUTHENTICATION_ERROR\"}\\n'\n",
      "error: code=401\n",
      "url=https://api-us.faceplusplus.com/facepp/v3/compare\n",
      "b'{\"error_message\":\"AUTHENTICATION_ERROR\"}\\n'\n",
      "error: code=401\n",
      "url=https://api-us.faceplusplus.com/facepp/v3/compare\n",
      "b'{\"error_message\":\"AUTHENTICATION_ERROR\"}\\n'\n",
      "error: code=401\n",
      "url=https://api-us.faceplusplus.com/facepp/v3/compare\n",
      "b'{\"error_message\":\"AUTHENTICATION_ERROR\"}\\n'\n",
      "error: code=401\n",
      "url=https://api-us.faceplusplus.com/facepp/v3/compare\n",
      "b'{\"error_message\":\"AUTHENTICATION_ERROR\"}\\n'\n",
      "error: code=401\n",
      "url=https://api-us.faceplusplus.com/facepp/v3/compare\n",
      "b'{\"error_message\":\"AUTHENTICATION_ERROR\"}\\n'\n",
      "error: code=401\n",
      "url=https://api-us.faceplusplus.com/facepp/v3/compare\n",
      "b'{\"error_message\":\"AUTHENTICATION_ERROR\"}\\n'\n"
     ]
    },
    {
     "name": "stderr",
     "output_type": "stream",
     "text": [
      " 45%|████▍     | 334/750 [1:08:00<1:24:31, 12.19s/it]"
     ]
    },
    {
     "name": "stdout",
     "output_type": "stream",
     "text": [
      "error: code=401\n",
      "url=https://api-us.faceplusplus.com/facepp/v3/compare\n",
      "b'{\"error_message\":\"AUTHENTICATION_ERROR\"}\\n'\n",
      "error: code=401\n",
      "url=https://api-us.faceplusplus.com/facepp/v3/compare\n",
      "b'{\"error_message\":\"AUTHENTICATION_ERROR\"}\\n'\n",
      "error: code=401\n",
      "url=https://api-us.faceplusplus.com/facepp/v3/compare\n",
      "b'{\"error_message\":\"AUTHENTICATION_ERROR\"}\\n'\n",
      "error: code=401\n",
      "url=https://api-us.faceplusplus.com/facepp/v3/compare\n",
      "b'{\"error_message\":\"AUTHENTICATION_ERROR\"}\\n'\n",
      "error: code=401\n",
      "url=https://api-us.faceplusplus.com/facepp/v3/compare\n",
      "b'{\"error_message\":\"AUTHENTICATION_ERROR\"}\\n'\n",
      "error: code=401\n",
      "url=https://api-us.faceplusplus.com/facepp/v3/compare\n",
      "b'{\"error_message\":\"AUTHENTICATION_ERROR\"}\\n'\n",
      "error: code=401\n",
      "url=https://api-us.faceplusplus.com/facepp/v3/compare\n",
      "b'{\"error_message\":\"AUTHENTICATION_ERROR\"}\\n'\n",
      "error: code=401\n",
      "url=https://api-us.faceplusplus.com/facepp/v3/compare\n",
      "b'{\"error_message\":\"AUTHENTICATION_ERROR\"}\\n'\n"
     ]
    },
    {
     "name": "stderr",
     "output_type": "stream",
     "text": [
      " 45%|████▍     | 335/750 [1:08:12<1:24:24, 12.20s/it]"
     ]
    },
    {
     "name": "stdout",
     "output_type": "stream",
     "text": [
      "error: code=401\n",
      "url=https://api-us.faceplusplus.com/facepp/v3/compare\n",
      "b'{\"error_message\":\"AUTHENTICATION_ERROR\"}\\n'\n",
      "error: code=401\n",
      "url=https://api-us.faceplusplus.com/facepp/v3/compare\n",
      "b'{\"error_message\":\"AUTHENTICATION_ERROR\"}\\n'\n",
      "error: code=401\n",
      "url=https://api-us.faceplusplus.com/facepp/v3/compare\n",
      "b'{\"error_message\":\"AUTHENTICATION_ERROR\"}\\n'\n",
      "error: code=401\n",
      "url=https://api-us.faceplusplus.com/facepp/v3/compare\n",
      "b'{\"error_message\":\"AUTHENTICATION_ERROR\"}\\n'\n",
      "error: code=401\n",
      "url=https://api-us.faceplusplus.com/facepp/v3/compare\n",
      "b'{\"error_message\":\"AUTHENTICATION_ERROR\"}\\n'\n",
      "error: code=401\n",
      "url=https://api-us.faceplusplus.com/facepp/v3/compare\n",
      "b'{\"error_message\":\"AUTHENTICATION_ERROR\"}\\n'\n",
      "error: code=401\n",
      "url=https://api-us.faceplusplus.com/facepp/v3/compare\n",
      "b'{\"error_message\":\"AUTHENTICATION_ERROR\"}\\n'\n",
      "error: code=401\n",
      "url=https://api-us.faceplusplus.com/facepp/v3/compare\n",
      "b'{\"error_message\":\"AUTHENTICATION_ERROR\"}\\n'\n"
     ]
    },
    {
     "name": "stderr",
     "output_type": "stream",
     "text": [
      " 45%|████▍     | 336/750 [1:08:24<1:23:42, 12.13s/it]"
     ]
    },
    {
     "name": "stdout",
     "output_type": "stream",
     "text": [
      "error: code=401\n",
      "url=https://api-us.faceplusplus.com/facepp/v3/compare\n",
      "b'{\"error_message\":\"AUTHENTICATION_ERROR\"}\\n'\n",
      "error: code=401\n",
      "url=https://api-us.faceplusplus.com/facepp/v3/compare\n",
      "b'{\"error_message\":\"AUTHENTICATION_ERROR\"}\\n'\n",
      "error: code=401\n",
      "url=https://api-us.faceplusplus.com/facepp/v3/compare\n",
      "b'{\"error_message\":\"AUTHENTICATION_ERROR\"}\\n'\n",
      "error: code=401\n",
      "url=https://api-us.faceplusplus.com/facepp/v3/compare\n",
      "b'{\"error_message\":\"AUTHENTICATION_ERROR\"}\\n'\n",
      "error: code=401\n",
      "url=https://api-us.faceplusplus.com/facepp/v3/compare\n",
      "b'{\"error_message\":\"AUTHENTICATION_ERROR\"}\\n'\n",
      "error: code=401\n",
      "url=https://api-us.faceplusplus.com/facepp/v3/compare\n",
      "b'{\"error_message\":\"AUTHENTICATION_ERROR\"}\\n'\n",
      "error: code=401\n",
      "url=https://api-us.faceplusplus.com/facepp/v3/compare\n",
      "b'{\"error_message\":\"AUTHENTICATION_ERROR\"}\\n'\n",
      "error: code=401\n",
      "url=https://api-us.faceplusplus.com/facepp/v3/compare\n",
      "b'{\"error_message\":\"AUTHENTICATION_ERROR\"}\\n'\n"
     ]
    },
    {
     "name": "stderr",
     "output_type": "stream",
     "text": [
      " 45%|████▍     | 337/750 [1:08:36<1:23:24, 12.12s/it]"
     ]
    },
    {
     "name": "stdout",
     "output_type": "stream",
     "text": [
      "error: code=401\n",
      "url=https://api-us.faceplusplus.com/facepp/v3/compare\n",
      "b'{\"error_message\":\"AUTHENTICATION_ERROR\"}\\n'\n",
      "error: code=401\n",
      "url=https://api-us.faceplusplus.com/facepp/v3/compare\n",
      "b'{\"error_message\":\"AUTHENTICATION_ERROR\"}\\n'\n",
      "error: code=401\n",
      "url=https://api-us.faceplusplus.com/facepp/v3/compare\n",
      "b'{\"error_message\":\"AUTHENTICATION_ERROR\"}\\n'\n",
      "error: code=401\n",
      "url=https://api-us.faceplusplus.com/facepp/v3/compare\n",
      "b'{\"error_message\":\"AUTHENTICATION_ERROR\"}\\n'\n",
      "error: code=401\n",
      "url=https://api-us.faceplusplus.com/facepp/v3/compare\n",
      "b'{\"error_message\":\"AUTHENTICATION_ERROR\"}\\n'\n",
      "error: code=401\n",
      "url=https://api-us.faceplusplus.com/facepp/v3/compare\n",
      "b'{\"error_message\":\"AUTHENTICATION_ERROR\"}\\n'\n",
      "error: code=401\n",
      "url=https://api-us.faceplusplus.com/facepp/v3/compare\n",
      "b'{\"error_message\":\"AUTHENTICATION_ERROR\"}\\n'\n",
      "error: code=401\n",
      "url=https://api-us.faceplusplus.com/facepp/v3/compare\n",
      "b'{\"error_message\":\"AUTHENTICATION_ERROR\"}\\n'\n"
     ]
    },
    {
     "name": "stderr",
     "output_type": "stream",
     "text": [
      " 45%|████▌     | 338/750 [1:08:49<1:24:17, 12.27s/it]"
     ]
    },
    {
     "name": "stdout",
     "output_type": "stream",
     "text": [
      "error: code=401\n",
      "url=https://api-us.faceplusplus.com/facepp/v3/compare\n",
      "b'{\"error_message\":\"AUTHENTICATION_ERROR\"}\\n'\n",
      "error: code=401\n",
      "url=https://api-us.faceplusplus.com/facepp/v3/compare\n",
      "b'{\"error_message\":\"AUTHENTICATION_ERROR\"}\\n'\n",
      "error: code=401\n",
      "url=https://api-us.faceplusplus.com/facepp/v3/compare\n",
      "b'{\"error_message\":\"AUTHENTICATION_ERROR\"}\\n'\n",
      "error: code=401\n",
      "url=https://api-us.faceplusplus.com/facepp/v3/compare\n",
      "b'{\"error_message\":\"AUTHENTICATION_ERROR\"}\\n'\n",
      "error: code=401\n",
      "url=https://api-us.faceplusplus.com/facepp/v3/compare\n",
      "b'{\"error_message\":\"AUTHENTICATION_ERROR\"}\\n'\n",
      "error: code=401\n",
      "url=https://api-us.faceplusplus.com/facepp/v3/compare\n",
      "b'{\"error_message\":\"AUTHENTICATION_ERROR\"}\\n'\n",
      "error: code=401\n",
      "url=https://api-us.faceplusplus.com/facepp/v3/compare\n",
      "b'{\"error_message\":\"AUTHENTICATION_ERROR\"}\\n'\n",
      "error: code=401\n",
      "url=https://api-us.faceplusplus.com/facepp/v3/compare\n",
      "b'{\"error_message\":\"AUTHENTICATION_ERROR\"}\\n'\n"
     ]
    },
    {
     "name": "stderr",
     "output_type": "stream",
     "text": [
      " 45%|████▌     | 339/750 [1:09:01<1:23:32, 12.20s/it]"
     ]
    },
    {
     "name": "stdout",
     "output_type": "stream",
     "text": [
      "error: code=401\n",
      "url=https://api-us.faceplusplus.com/facepp/v3/compare\n",
      "b'{\"error_message\":\"AUTHENTICATION_ERROR\"}\\n'\n",
      "error: code=401\n",
      "url=https://api-us.faceplusplus.com/facepp/v3/compare\n",
      "b'{\"error_message\":\"AUTHENTICATION_ERROR\"}\\n'\n",
      "error: code=401\n",
      "url=https://api-us.faceplusplus.com/facepp/v3/compare\n",
      "b'{\"error_message\":\"AUTHENTICATION_ERROR\"}\\n'\n",
      "error: code=401\n",
      "url=https://api-us.faceplusplus.com/facepp/v3/compare\n",
      "b'{\"error_message\":\"AUTHENTICATION_ERROR\"}\\n'\n",
      "error: code=401\n",
      "url=https://api-us.faceplusplus.com/facepp/v3/compare\n",
      "b'{\"error_message\":\"AUTHENTICATION_ERROR\"}\\n'\n",
      "error: code=401\n",
      "url=https://api-us.faceplusplus.com/facepp/v3/compare\n",
      "b'{\"error_message\":\"AUTHENTICATION_ERROR\"}\\n'\n",
      "error: code=401\n",
      "url=https://api-us.faceplusplus.com/facepp/v3/compare\n",
      "b'{\"error_message\":\"AUTHENTICATION_ERROR\"}\\n'\n",
      "error: code=401\n",
      "url=https://api-us.faceplusplus.com/facepp/v3/compare\n",
      "b'{\"error_message\":\"AUTHENTICATION_ERROR\"}\\n'\n"
     ]
    },
    {
     "name": "stderr",
     "output_type": "stream",
     "text": [
      " 45%|████▌     | 340/750 [1:09:13<1:23:24, 12.21s/it]"
     ]
    },
    {
     "name": "stdout",
     "output_type": "stream",
     "text": [
      "error: code=401\n",
      "url=https://api-us.faceplusplus.com/facepp/v3/compare\n",
      "b'{\"error_message\":\"AUTHENTICATION_ERROR\"}\\n'\n",
      "error: code=401\n",
      "url=https://api-us.faceplusplus.com/facepp/v3/compare\n",
      "b'{\"error_message\":\"AUTHENTICATION_ERROR\"}\\n'\n",
      "error: code=401\n",
      "url=https://api-us.faceplusplus.com/facepp/v3/compare\n",
      "b'{\"error_message\":\"AUTHENTICATION_ERROR\"}\\n'\n",
      "error: code=401\n",
      "url=https://api-us.faceplusplus.com/facepp/v3/compare\n",
      "b'{\"error_message\":\"AUTHENTICATION_ERROR\"}\\n'\n",
      "error: code=401\n",
      "url=https://api-us.faceplusplus.com/facepp/v3/compare\n",
      "b'{\"error_message\":\"AUTHENTICATION_ERROR\"}\\n'\n",
      "error: code=401\n",
      "url=https://api-us.faceplusplus.com/facepp/v3/compare\n",
      "b'{\"error_message\":\"AUTHENTICATION_ERROR\"}\\n'\n",
      "error: code=401\n",
      "url=https://api-us.faceplusplus.com/facepp/v3/compare\n",
      "b'{\"error_message\":\"AUTHENTICATION_ERROR\"}\\n'\n",
      "error: code=401\n",
      "url=https://api-us.faceplusplus.com/facepp/v3/compare\n",
      "b'{\"error_message\":\"AUTHENTICATION_ERROR\"}\\n'\n"
     ]
    },
    {
     "name": "stderr",
     "output_type": "stream",
     "text": [
      " 45%|████▌     | 341/750 [1:09:25<1:23:28, 12.25s/it]"
     ]
    },
    {
     "name": "stdout",
     "output_type": "stream",
     "text": [
      "error: code=401\n",
      "url=https://api-us.faceplusplus.com/facepp/v3/compare\n",
      "b'{\"error_message\":\"AUTHENTICATION_ERROR\"}\\n'\n",
      "error: code=401\n",
      "url=https://api-us.faceplusplus.com/facepp/v3/compare\n",
      "b'{\"error_message\":\"AUTHENTICATION_ERROR\"}\\n'\n",
      "error: code=401\n",
      "url=https://api-us.faceplusplus.com/facepp/v3/compare\n",
      "b'{\"error_message\":\"AUTHENTICATION_ERROR\"}\\n'\n",
      "error: code=401\n",
      "url=https://api-us.faceplusplus.com/facepp/v3/compare\n",
      "b'{\"error_message\":\"AUTHENTICATION_ERROR\"}\\n'\n",
      "error: code=401\n",
      "url=https://api-us.faceplusplus.com/facepp/v3/compare\n",
      "b'{\"error_message\":\"AUTHENTICATION_ERROR\"}\\n'\n",
      "error: code=401\n",
      "url=https://api-us.faceplusplus.com/facepp/v3/compare\n",
      "b'{\"error_message\":\"AUTHENTICATION_ERROR\"}\\n'\n",
      "error: code=401\n",
      "url=https://api-us.faceplusplus.com/facepp/v3/compare\n",
      "b'{\"error_message\":\"AUTHENTICATION_ERROR\"}\\n'\n",
      "error: code=401\n",
      "url=https://api-us.faceplusplus.com/facepp/v3/compare\n",
      "b'{\"error_message\":\"AUTHENTICATION_ERROR\"}\\n'\n"
     ]
    },
    {
     "name": "stderr",
     "output_type": "stream",
     "text": [
      " 46%|████▌     | 342/750 [1:09:38<1:23:37, 12.30s/it]"
     ]
    },
    {
     "name": "stdout",
     "output_type": "stream",
     "text": [
      "error: code=401\n",
      "url=https://api-us.faceplusplus.com/facepp/v3/compare\n",
      "b'{\"error_message\":\"AUTHENTICATION_ERROR\"}\\n'\n",
      "error: code=401\n",
      "url=https://api-us.faceplusplus.com/facepp/v3/compare\n",
      "b'{\"error_message\":\"AUTHENTICATION_ERROR\"}\\n'\n",
      "error: code=401\n",
      "url=https://api-us.faceplusplus.com/facepp/v3/compare\n",
      "b'{\"error_message\":\"AUTHENTICATION_ERROR\"}\\n'\n",
      "error: code=401\n",
      "url=https://api-us.faceplusplus.com/facepp/v3/compare\n",
      "b'{\"error_message\":\"AUTHENTICATION_ERROR\"}\\n'\n",
      "error: code=401\n",
      "url=https://api-us.faceplusplus.com/facepp/v3/compare\n",
      "b'{\"error_message\":\"AUTHENTICATION_ERROR\"}\\n'\n",
      "error: code=401\n",
      "url=https://api-us.faceplusplus.com/facepp/v3/compare\n",
      "b'{\"error_message\":\"AUTHENTICATION_ERROR\"}\\n'\n",
      "error: code=401\n",
      "url=https://api-us.faceplusplus.com/facepp/v3/compare\n",
      "b'{\"error_message\":\"AUTHENTICATION_ERROR\"}\\n'\n",
      "error: code=401\n",
      "url=https://api-us.faceplusplus.com/facepp/v3/compare\n",
      "b'{\"error_message\":\"AUTHENTICATION_ERROR\"}\\n'\n"
     ]
    },
    {
     "name": "stderr",
     "output_type": "stream",
     "text": [
      " 46%|████▌     | 343/750 [1:09:50<1:23:36, 12.33s/it]"
     ]
    },
    {
     "name": "stdout",
     "output_type": "stream",
     "text": [
      "error: code=401\n",
      "url=https://api-us.faceplusplus.com/facepp/v3/compare\n",
      "b'{\"error_message\":\"AUTHENTICATION_ERROR\"}\\n'\n",
      "error: code=401\n",
      "url=https://api-us.faceplusplus.com/facepp/v3/compare\n",
      "b'{\"error_message\":\"AUTHENTICATION_ERROR\"}\\n'\n",
      "error: code=401\n",
      "url=https://api-us.faceplusplus.com/facepp/v3/compare\n",
      "b'{\"error_message\":\"AUTHENTICATION_ERROR\"}\\n'\n",
      "error: code=401\n",
      "url=https://api-us.faceplusplus.com/facepp/v3/compare\n",
      "b'{\"error_message\":\"AUTHENTICATION_ERROR\"}\\n'\n",
      "error: code=401\n",
      "url=https://api-us.faceplusplus.com/facepp/v3/compare\n",
      "b'{\"error_message\":\"AUTHENTICATION_ERROR\"}\\n'\n",
      "error: code=401\n",
      "url=https://api-us.faceplusplus.com/facepp/v3/compare\n",
      "b'{\"error_message\":\"AUTHENTICATION_ERROR\"}\\n'\n",
      "error: code=401\n",
      "url=https://api-us.faceplusplus.com/facepp/v3/compare\n",
      "b'{\"error_message\":\"AUTHENTICATION_ERROR\"}\\n'\n",
      "error: code=401\n",
      "url=https://api-us.faceplusplus.com/facepp/v3/compare\n",
      "b'{\"error_message\":\"AUTHENTICATION_ERROR\"}\\n'\n"
     ]
    },
    {
     "name": "stderr",
     "output_type": "stream",
     "text": [
      " 46%|████▌     | 344/750 [1:10:02<1:23:26, 12.33s/it]"
     ]
    },
    {
     "name": "stdout",
     "output_type": "stream",
     "text": [
      "error: code=401\n",
      "url=https://api-us.faceplusplus.com/facepp/v3/compare\n",
      "b'{\"error_message\":\"AUTHENTICATION_ERROR\"}\\n'\n",
      "error: code=401\n",
      "url=https://api-us.faceplusplus.com/facepp/v3/compare\n",
      "b'{\"error_message\":\"AUTHENTICATION_ERROR\"}\\n'\n",
      "error: code=401\n",
      "url=https://api-us.faceplusplus.com/facepp/v3/compare\n",
      "b'{\"error_message\":\"AUTHENTICATION_ERROR\"}\\n'\n",
      "error: code=401\n",
      "url=https://api-us.faceplusplus.com/facepp/v3/compare\n",
      "b'{\"error_message\":\"AUTHENTICATION_ERROR\"}\\n'\n",
      "error: code=401\n",
      "url=https://api-us.faceplusplus.com/facepp/v3/compare\n",
      "b'{\"error_message\":\"AUTHENTICATION_ERROR\"}\\n'\n",
      "error: code=401\n",
      "url=https://api-us.faceplusplus.com/facepp/v3/compare\n",
      "b'{\"error_message\":\"AUTHENTICATION_ERROR\"}\\n'\n",
      "error: code=401\n",
      "url=https://api-us.faceplusplus.com/facepp/v3/compare\n",
      "b'{\"error_message\":\"AUTHENTICATION_ERROR\"}\\n'\n",
      "error: code=401\n",
      "url=https://api-us.faceplusplus.com/facepp/v3/compare\n",
      "b'{\"error_message\":\"AUTHENTICATION_ERROR\"}\\n'\n"
     ]
    },
    {
     "name": "stderr",
     "output_type": "stream",
     "text": [
      " 46%|████▌     | 345/750 [1:10:14<1:22:32, 12.23s/it]"
     ]
    },
    {
     "name": "stdout",
     "output_type": "stream",
     "text": [
      "error: code=401\n",
      "url=https://api-us.faceplusplus.com/facepp/v3/compare\n",
      "b'{\"error_message\":\"AUTHENTICATION_ERROR\"}\\n'\n",
      "error: code=401\n",
      "url=https://api-us.faceplusplus.com/facepp/v3/compare\n",
      "b'{\"error_message\":\"AUTHENTICATION_ERROR\"}\\n'\n",
      "error: code=401\n",
      "url=https://api-us.faceplusplus.com/facepp/v3/compare\n",
      "b'{\"error_message\":\"AUTHENTICATION_ERROR\"}\\n'\n",
      "error: code=401\n",
      "url=https://api-us.faceplusplus.com/facepp/v3/compare\n",
      "b'{\"error_message\":\"AUTHENTICATION_ERROR\"}\\n'\n",
      "error: code=401\n",
      "url=https://api-us.faceplusplus.com/facepp/v3/compare\n",
      "b'{\"error_message\":\"AUTHENTICATION_ERROR\"}\\n'\n",
      "error: code=401\n",
      "url=https://api-us.faceplusplus.com/facepp/v3/compare\n",
      "b'{\"error_message\":\"AUTHENTICATION_ERROR\"}\\n'\n",
      "error: code=401\n",
      "url=https://api-us.faceplusplus.com/facepp/v3/compare\n",
      "b'{\"error_message\":\"AUTHENTICATION_ERROR\"}\\n'\n",
      "error: code=401\n",
      "url=https://api-us.faceplusplus.com/facepp/v3/compare\n",
      "b'{\"error_message\":\"AUTHENTICATION_ERROR\"}\\n'\n"
     ]
    },
    {
     "name": "stderr",
     "output_type": "stream",
     "text": [
      " 46%|████▌     | 346/750 [1:10:26<1:22:03, 12.19s/it]"
     ]
    },
    {
     "name": "stdout",
     "output_type": "stream",
     "text": [
      "error: code=401\n",
      "url=https://api-us.faceplusplus.com/facepp/v3/compare\n",
      "b'{\"error_message\":\"AUTHENTICATION_ERROR\"}\\n'\n",
      "error: code=401\n",
      "url=https://api-us.faceplusplus.com/facepp/v3/compare\n",
      "b'{\"error_message\":\"AUTHENTICATION_ERROR\"}\\n'\n",
      "error: code=401\n",
      "url=https://api-us.faceplusplus.com/facepp/v3/compare\n",
      "b'{\"error_message\":\"AUTHENTICATION_ERROR\"}\\n'\n",
      "error: code=401\n",
      "url=https://api-us.faceplusplus.com/facepp/v3/compare\n",
      "b'{\"error_message\":\"AUTHENTICATION_ERROR\"}\\n'\n",
      "error: code=401\n",
      "url=https://api-us.faceplusplus.com/facepp/v3/compare\n",
      "b'{\"error_message\":\"AUTHENTICATION_ERROR\"}\\n'\n",
      "error: code=401\n",
      "url=https://api-us.faceplusplus.com/facepp/v3/compare\n",
      "b'{\"error_message\":\"AUTHENTICATION_ERROR\"}\\n'\n",
      "error: code=401\n",
      "url=https://api-us.faceplusplus.com/facepp/v3/compare\n",
      "b'{\"error_message\":\"AUTHENTICATION_ERROR\"}\\n'\n",
      "error: code=401\n",
      "url=https://api-us.faceplusplus.com/facepp/v3/compare\n",
      "b'{\"error_message\":\"AUTHENTICATION_ERROR\"}\\n'\n"
     ]
    },
    {
     "name": "stderr",
     "output_type": "stream",
     "text": [
      " 46%|████▋     | 347/750 [1:10:39<1:21:48, 12.18s/it]"
     ]
    },
    {
     "name": "stdout",
     "output_type": "stream",
     "text": [
      "error: code=401\n",
      "url=https://api-us.faceplusplus.com/facepp/v3/compare\n",
      "b'{\"error_message\":\"AUTHENTICATION_ERROR\"}\\n'\n",
      "error: code=401\n",
      "url=https://api-us.faceplusplus.com/facepp/v3/compare\n",
      "b'{\"error_message\":\"AUTHENTICATION_ERROR\"}\\n'\n",
      "error: code=401\n",
      "url=https://api-us.faceplusplus.com/facepp/v3/compare\n",
      "b'{\"error_message\":\"AUTHENTICATION_ERROR\"}\\n'\n",
      "error: code=401\n",
      "url=https://api-us.faceplusplus.com/facepp/v3/compare\n",
      "b'{\"error_message\":\"AUTHENTICATION_ERROR\"}\\n'\n",
      "error: code=401\n",
      "url=https://api-us.faceplusplus.com/facepp/v3/compare\n",
      "b'{\"error_message\":\"AUTHENTICATION_ERROR\"}\\n'\n",
      "error: code=401\n",
      "url=https://api-us.faceplusplus.com/facepp/v3/compare\n",
      "b'{\"error_message\":\"AUTHENTICATION_ERROR\"}\\n'\n",
      "error: code=401\n",
      "url=https://api-us.faceplusplus.com/facepp/v3/compare\n",
      "b'{\"error_message\":\"AUTHENTICATION_ERROR\"}\\n'\n",
      "error: code=401\n",
      "url=https://api-us.faceplusplus.com/facepp/v3/compare\n",
      "b'{\"error_message\":\"AUTHENTICATION_ERROR\"}\\n'\n"
     ]
    },
    {
     "name": "stderr",
     "output_type": "stream",
     "text": [
      " 46%|████▋     | 348/750 [1:10:51<1:21:28, 12.16s/it]"
     ]
    },
    {
     "name": "stdout",
     "output_type": "stream",
     "text": [
      "error: code=401\n",
      "url=https://api-us.faceplusplus.com/facepp/v3/compare\n",
      "b'{\"error_message\":\"AUTHENTICATION_ERROR\"}\\n'\n",
      "error: code=401\n",
      "url=https://api-us.faceplusplus.com/facepp/v3/compare\n",
      "b'{\"error_message\":\"AUTHENTICATION_ERROR\"}\\n'\n",
      "error: code=401\n",
      "url=https://api-us.faceplusplus.com/facepp/v3/compare\n",
      "b'{\"error_message\":\"AUTHENTICATION_ERROR\"}\\n'\n",
      "error: code=401\n",
      "url=https://api-us.faceplusplus.com/facepp/v3/compare\n",
      "b'{\"error_message\":\"AUTHENTICATION_ERROR\"}\\n'\n",
      "error: code=401\n",
      "url=https://api-us.faceplusplus.com/facepp/v3/compare\n",
      "b'{\"error_message\":\"AUTHENTICATION_ERROR\"}\\n'\n",
      "error: code=401\n",
      "url=https://api-us.faceplusplus.com/facepp/v3/compare\n",
      "b'{\"error_message\":\"AUTHENTICATION_ERROR\"}\\n'\n",
      "error: code=401\n",
      "url=https://api-us.faceplusplus.com/facepp/v3/compare\n",
      "b'{\"error_message\":\"AUTHENTICATION_ERROR\"}\\n'\n",
      "error: code=401\n",
      "url=https://api-us.faceplusplus.com/facepp/v3/compare\n",
      "b'{\"error_message\":\"AUTHENTICATION_ERROR\"}\\n'\n"
     ]
    },
    {
     "name": "stderr",
     "output_type": "stream",
     "text": [
      " 47%|████▋     | 349/750 [1:11:02<1:20:41, 12.07s/it]"
     ]
    },
    {
     "name": "stdout",
     "output_type": "stream",
     "text": [
      "error: code=401\n",
      "url=https://api-us.faceplusplus.com/facepp/v3/compare\n",
      "b'{\"error_message\":\"AUTHENTICATION_ERROR\"}\\n'\n",
      "error: code=401\n",
      "url=https://api-us.faceplusplus.com/facepp/v3/compare\n",
      "b'{\"error_message\":\"AUTHENTICATION_ERROR\"}\\n'\n",
      "error: code=401\n",
      "url=https://api-us.faceplusplus.com/facepp/v3/compare\n",
      "b'{\"error_message\":\"AUTHENTICATION_ERROR\"}\\n'\n",
      "error: code=401\n",
      "url=https://api-us.faceplusplus.com/facepp/v3/compare\n",
      "b'{\"error_message\":\"AUTHENTICATION_ERROR\"}\\n'\n",
      "error: code=401\n",
      "url=https://api-us.faceplusplus.com/facepp/v3/compare\n",
      "b'{\"error_message\":\"AUTHENTICATION_ERROR\"}\\n'\n",
      "error: code=401\n",
      "url=https://api-us.faceplusplus.com/facepp/v3/compare\n",
      "b'{\"error_message\":\"AUTHENTICATION_ERROR\"}\\n'\n",
      "error: code=401\n",
      "url=https://api-us.faceplusplus.com/facepp/v3/compare\n",
      "b'{\"error_message\":\"AUTHENTICATION_ERROR\"}\\n'\n",
      "error: code=401\n",
      "url=https://api-us.faceplusplus.com/facepp/v3/compare\n",
      "b'{\"error_message\":\"AUTHENTICATION_ERROR\"}\\n'\n"
     ]
    },
    {
     "name": "stderr",
     "output_type": "stream",
     "text": [
      " 47%|████▋     | 350/750 [1:11:15<1:20:32, 12.08s/it]"
     ]
    },
    {
     "name": "stdout",
     "output_type": "stream",
     "text": [
      "error: code=401\n",
      "url=https://api-us.faceplusplus.com/facepp/v3/compare\n",
      "b'{\"error_message\":\"AUTHENTICATION_ERROR\"}\\n'\n",
      "error: code=401\n",
      "url=https://api-us.faceplusplus.com/facepp/v3/compare\n",
      "b'{\"error_message\":\"AUTHENTICATION_ERROR\"}\\n'\n",
      "error: code=401\n",
      "url=https://api-us.faceplusplus.com/facepp/v3/compare\n",
      "b'{\"error_message\":\"AUTHENTICATION_ERROR\"}\\n'\n",
      "error: code=401\n",
      "url=https://api-us.faceplusplus.com/facepp/v3/compare\n",
      "b'{\"error_message\":\"AUTHENTICATION_ERROR\"}\\n'\n",
      "error: code=401\n",
      "url=https://api-us.faceplusplus.com/facepp/v3/compare\n",
      "b'{\"error_message\":\"AUTHENTICATION_ERROR\"}\\n'\n",
      "error: code=401\n",
      "url=https://api-us.faceplusplus.com/facepp/v3/compare\n",
      "b'{\"error_message\":\"AUTHENTICATION_ERROR\"}\\n'\n",
      "error: code=401\n",
      "url=https://api-us.faceplusplus.com/facepp/v3/compare\n",
      "b'{\"error_message\":\"AUTHENTICATION_ERROR\"}\\n'\n",
      "error: code=401\n",
      "url=https://api-us.faceplusplus.com/facepp/v3/compare\n",
      "b'{\"error_message\":\"AUTHENTICATION_ERROR\"}\\n'\n"
     ]
    },
    {
     "name": "stderr",
     "output_type": "stream",
     "text": [
      " 47%|████▋     | 351/750 [1:11:27<1:20:21, 12.08s/it]"
     ]
    },
    {
     "name": "stdout",
     "output_type": "stream",
     "text": [
      "error: code=401\n",
      "url=https://api-us.faceplusplus.com/facepp/v3/compare\n",
      "b'{\"error_message\":\"AUTHENTICATION_ERROR\"}\\n'\n",
      "error: code=401\n",
      "url=https://api-us.faceplusplus.com/facepp/v3/compare\n",
      "b'{\"error_message\":\"AUTHENTICATION_ERROR\"}\\n'\n",
      "error: code=401\n",
      "url=https://api-us.faceplusplus.com/facepp/v3/compare\n",
      "b'{\"error_message\":\"AUTHENTICATION_ERROR\"}\\n'\n",
      "error: code=401\n",
      "url=https://api-us.faceplusplus.com/facepp/v3/compare\n",
      "b'{\"error_message\":\"AUTHENTICATION_ERROR\"}\\n'\n",
      "error: code=401\n",
      "url=https://api-us.faceplusplus.com/facepp/v3/compare\n",
      "b'{\"error_message\":\"AUTHENTICATION_ERROR\"}\\n'\n",
      "error: code=401\n",
      "url=https://api-us.faceplusplus.com/facepp/v3/compare\n",
      "b'{\"error_message\":\"AUTHENTICATION_ERROR\"}\\n'\n",
      "error: code=401\n",
      "url=https://api-us.faceplusplus.com/facepp/v3/compare\n",
      "b'{\"error_message\":\"AUTHENTICATION_ERROR\"}\\n'\n",
      "error: code=401\n",
      "url=https://api-us.faceplusplus.com/facepp/v3/compare\n",
      "b'{\"error_message\":\"AUTHENTICATION_ERROR\"}\\n'\n"
     ]
    },
    {
     "name": "stderr",
     "output_type": "stream",
     "text": [
      " 47%|████▋     | 352/750 [1:11:39<1:20:36, 12.15s/it]"
     ]
    },
    {
     "name": "stdout",
     "output_type": "stream",
     "text": [
      "error: code=401\n",
      "url=https://api-us.faceplusplus.com/facepp/v3/compare\n",
      "b'{\"error_message\":\"AUTHENTICATION_ERROR\"}\\n'\n",
      "error: code=401\n",
      "url=https://api-us.faceplusplus.com/facepp/v3/compare\n",
      "b'{\"error_message\":\"AUTHENTICATION_ERROR\"}\\n'\n",
      "error: code=401\n",
      "url=https://api-us.faceplusplus.com/facepp/v3/compare\n",
      "b'{\"error_message\":\"AUTHENTICATION_ERROR\"}\\n'\n",
      "error: code=401\n",
      "url=https://api-us.faceplusplus.com/facepp/v3/compare\n",
      "b'{\"error_message\":\"AUTHENTICATION_ERROR\"}\\n'\n",
      "error: code=401\n",
      "url=https://api-us.faceplusplus.com/facepp/v3/compare\n",
      "b'{\"error_message\":\"AUTHENTICATION_ERROR\"}\\n'\n",
      "error: code=401\n",
      "url=https://api-us.faceplusplus.com/facepp/v3/compare\n",
      "b'{\"error_message\":\"AUTHENTICATION_ERROR\"}\\n'\n",
      "error: code=401\n",
      "url=https://api-us.faceplusplus.com/facepp/v3/compare\n",
      "b'{\"error_message\":\"AUTHENTICATION_ERROR\"}\\n'\n",
      "error: code=401\n",
      "url=https://api-us.faceplusplus.com/facepp/v3/compare\n",
      "b'{\"error_message\":\"AUTHENTICATION_ERROR\"}\\n'\n"
     ]
    },
    {
     "name": "stderr",
     "output_type": "stream",
     "text": [
      " 47%|████▋     | 353/750 [1:11:51<1:20:13, 12.12s/it]"
     ]
    },
    {
     "name": "stdout",
     "output_type": "stream",
     "text": [
      "error: code=401\n",
      "url=https://api-us.faceplusplus.com/facepp/v3/compare\n",
      "b'{\"error_message\":\"AUTHENTICATION_ERROR\"}\\n'\n",
      "error: code=401\n",
      "url=https://api-us.faceplusplus.com/facepp/v3/compare\n",
      "b'{\"error_message\":\"AUTHENTICATION_ERROR\"}\\n'\n",
      "error: code=401\n",
      "url=https://api-us.faceplusplus.com/facepp/v3/compare\n",
      "b'{\"error_message\":\"AUTHENTICATION_ERROR\"}\\n'\n",
      "error: code=401\n",
      "url=https://api-us.faceplusplus.com/facepp/v3/compare\n",
      "b'{\"error_message\":\"AUTHENTICATION_ERROR\"}\\n'\n",
      "error: code=401\n",
      "url=https://api-us.faceplusplus.com/facepp/v3/compare\n",
      "b'{\"error_message\":\"AUTHENTICATION_ERROR\"}\\n'\n",
      "error: code=401\n",
      "url=https://api-us.faceplusplus.com/facepp/v3/compare\n",
      "b'{\"error_message\":\"AUTHENTICATION_ERROR\"}\\n'\n",
      "error: code=401\n",
      "url=https://api-us.faceplusplus.com/facepp/v3/compare\n",
      "b'{\"error_message\":\"AUTHENTICATION_ERROR\"}\\n'\n",
      "error: code=401\n",
      "url=https://api-us.faceplusplus.com/facepp/v3/compare\n",
      "b'{\"error_message\":\"AUTHENTICATION_ERROR\"}\\n'\n"
     ]
    },
    {
     "name": "stderr",
     "output_type": "stream",
     "text": [
      " 47%|████▋     | 354/750 [1:12:03<1:19:45, 12.09s/it]"
     ]
    },
    {
     "name": "stdout",
     "output_type": "stream",
     "text": [
      "error: code=401\n",
      "url=https://api-us.faceplusplus.com/facepp/v3/compare\n",
      "b'{\"error_message\":\"AUTHENTICATION_ERROR\"}\\n'\n",
      "error: code=401\n",
      "url=https://api-us.faceplusplus.com/facepp/v3/compare\n",
      "b'{\"error_message\":\"AUTHENTICATION_ERROR\"}\\n'\n",
      "error: code=401\n",
      "url=https://api-us.faceplusplus.com/facepp/v3/compare\n",
      "b'{\"error_message\":\"AUTHENTICATION_ERROR\"}\\n'\n",
      "error: code=401\n",
      "url=https://api-us.faceplusplus.com/facepp/v3/compare\n",
      "b'{\"error_message\":\"AUTHENTICATION_ERROR\"}\\n'\n",
      "error: code=401\n",
      "url=https://api-us.faceplusplus.com/facepp/v3/compare\n",
      "b'{\"error_message\":\"AUTHENTICATION_ERROR\"}\\n'\n",
      "error: code=401\n",
      "url=https://api-us.faceplusplus.com/facepp/v3/compare\n",
      "b'{\"error_message\":\"AUTHENTICATION_ERROR\"}\\n'\n",
      "error: code=401\n",
      "url=https://api-us.faceplusplus.com/facepp/v3/compare\n",
      "b'{\"error_message\":\"AUTHENTICATION_ERROR\"}\\n'\n",
      "error: code=401\n",
      "url=https://api-us.faceplusplus.com/facepp/v3/compare\n",
      "b'{\"error_message\":\"AUTHENTICATION_ERROR\"}\\n'\n"
     ]
    },
    {
     "name": "stderr",
     "output_type": "stream",
     "text": [
      " 47%|████▋     | 355/750 [1:12:16<1:20:33, 12.24s/it]"
     ]
    },
    {
     "name": "stdout",
     "output_type": "stream",
     "text": [
      "error: code=401\n",
      "url=https://api-us.faceplusplus.com/facepp/v3/compare\n",
      "b'{\"error_message\":\"AUTHENTICATION_ERROR\"}\\n'\n",
      "error: code=401\n",
      "url=https://api-us.faceplusplus.com/facepp/v3/compare\n",
      "b'{\"error_message\":\"AUTHENTICATION_ERROR\"}\\n'\n",
      "error: code=401\n",
      "url=https://api-us.faceplusplus.com/facepp/v3/compare\n",
      "b'{\"error_message\":\"AUTHENTICATION_ERROR\"}\\n'\n",
      "error: code=401\n",
      "url=https://api-us.faceplusplus.com/facepp/v3/compare\n",
      "b'{\"error_message\":\"AUTHENTICATION_ERROR\"}\\n'\n",
      "error: code=401\n",
      "url=https://api-us.faceplusplus.com/facepp/v3/compare\n",
      "b'{\"error_message\":\"AUTHENTICATION_ERROR\"}\\n'\n",
      "error: code=401\n",
      "url=https://api-us.faceplusplus.com/facepp/v3/compare\n",
      "b'{\"error_message\":\"AUTHENTICATION_ERROR\"}\\n'\n",
      "error: code=401\n",
      "url=https://api-us.faceplusplus.com/facepp/v3/compare\n",
      "b'{\"error_message\":\"AUTHENTICATION_ERROR\"}\\n'\n",
      "error: code=401\n",
      "url=https://api-us.faceplusplus.com/facepp/v3/compare\n",
      "b'{\"error_message\":\"AUTHENTICATION_ERROR\"}\\n'\n"
     ]
    },
    {
     "name": "stderr",
     "output_type": "stream",
     "text": [
      " 47%|████▋     | 356/750 [1:12:28<1:19:49, 12.16s/it]"
     ]
    },
    {
     "name": "stdout",
     "output_type": "stream",
     "text": [
      "error: code=401\n",
      "url=https://api-us.faceplusplus.com/facepp/v3/compare\n",
      "b'{\"error_message\":\"AUTHENTICATION_ERROR\"}\\n'\n",
      "error: code=401\n",
      "url=https://api-us.faceplusplus.com/facepp/v3/compare\n",
      "b'{\"error_message\":\"AUTHENTICATION_ERROR\"}\\n'\n",
      "error: code=401\n",
      "url=https://api-us.faceplusplus.com/facepp/v3/compare\n",
      "b'{\"error_message\":\"AUTHENTICATION_ERROR\"}\\n'\n",
      "error: code=401\n",
      "url=https://api-us.faceplusplus.com/facepp/v3/compare\n",
      "b'{\"error_message\":\"AUTHENTICATION_ERROR\"}\\n'\n",
      "error: code=401\n",
      "url=https://api-us.faceplusplus.com/facepp/v3/compare\n",
      "b'{\"error_message\":\"AUTHENTICATION_ERROR\"}\\n'\n",
      "error: code=401\n",
      "url=https://api-us.faceplusplus.com/facepp/v3/compare\n",
      "b'{\"error_message\":\"AUTHENTICATION_ERROR\"}\\n'\n",
      "error: code=401\n",
      "url=https://api-us.faceplusplus.com/facepp/v3/compare\n",
      "b'{\"error_message\":\"AUTHENTICATION_ERROR\"}\\n'\n",
      "error: code=401\n",
      "url=https://api-us.faceplusplus.com/facepp/v3/compare\n",
      "b'{\"error_message\":\"AUTHENTICATION_ERROR\"}\\n'\n"
     ]
    },
    {
     "name": "stderr",
     "output_type": "stream",
     "text": [
      " 48%|████▊     | 357/750 [1:12:40<1:20:07, 12.23s/it]"
     ]
    },
    {
     "name": "stdout",
     "output_type": "stream",
     "text": [
      "error: code=401\n",
      "url=https://api-us.faceplusplus.com/facepp/v3/compare\n",
      "b'{\"error_message\":\"AUTHENTICATION_ERROR\"}\\n'\n",
      "error: code=401\n",
      "url=https://api-us.faceplusplus.com/facepp/v3/compare\n",
      "b'{\"error_message\":\"AUTHENTICATION_ERROR\"}\\n'\n",
      "error: code=401\n",
      "url=https://api-us.faceplusplus.com/facepp/v3/compare\n",
      "b'{\"error_message\":\"AUTHENTICATION_ERROR\"}\\n'\n",
      "error: code=401\n",
      "url=https://api-us.faceplusplus.com/facepp/v3/compare\n",
      "b'{\"error_message\":\"AUTHENTICATION_ERROR\"}\\n'\n",
      "error: code=401\n",
      "url=https://api-us.faceplusplus.com/facepp/v3/compare\n",
      "b'{\"error_message\":\"AUTHENTICATION_ERROR\"}\\n'\n",
      "error: code=401\n",
      "url=https://api-us.faceplusplus.com/facepp/v3/compare\n",
      "b'{\"error_message\":\"AUTHENTICATION_ERROR\"}\\n'\n",
      "error: code=401\n",
      "url=https://api-us.faceplusplus.com/facepp/v3/compare\n",
      "b'{\"error_message\":\"AUTHENTICATION_ERROR\"}\\n'\n",
      "error: code=401\n",
      "url=https://api-us.faceplusplus.com/facepp/v3/compare\n",
      "b'{\"error_message\":\"AUTHENTICATION_ERROR\"}\\n'\n"
     ]
    },
    {
     "name": "stderr",
     "output_type": "stream",
     "text": [
      " 48%|████▊     | 358/750 [1:12:52<1:20:03, 12.25s/it]"
     ]
    },
    {
     "name": "stdout",
     "output_type": "stream",
     "text": [
      "error: code=401\n",
      "url=https://api-us.faceplusplus.com/facepp/v3/compare\n",
      "b'{\"error_message\":\"AUTHENTICATION_ERROR\"}\\n'\n",
      "error: code=401\n",
      "url=https://api-us.faceplusplus.com/facepp/v3/compare\n",
      "b'{\"error_message\":\"AUTHENTICATION_ERROR\"}\\n'\n",
      "error: code=401\n",
      "url=https://api-us.faceplusplus.com/facepp/v3/compare\n",
      "b'{\"error_message\":\"AUTHENTICATION_ERROR\"}\\n'\n",
      "error: code=401\n",
      "url=https://api-us.faceplusplus.com/facepp/v3/compare\n",
      "b'{\"error_message\":\"AUTHENTICATION_ERROR\"}\\n'\n",
      "error: code=401\n",
      "url=https://api-us.faceplusplus.com/facepp/v3/compare\n",
      "b'{\"error_message\":\"AUTHENTICATION_ERROR\"}\\n'\n",
      "error: code=401\n",
      "url=https://api-us.faceplusplus.com/facepp/v3/compare\n",
      "b'{\"error_message\":\"AUTHENTICATION_ERROR\"}\\n'\n",
      "error: code=401\n",
      "url=https://api-us.faceplusplus.com/facepp/v3/compare\n",
      "b'{\"error_message\":\"AUTHENTICATION_ERROR\"}\\n'\n",
      "error: code=401\n",
      "url=https://api-us.faceplusplus.com/facepp/v3/compare\n",
      "b'{\"error_message\":\"AUTHENTICATION_ERROR\"}\\n'\n"
     ]
    },
    {
     "name": "stderr",
     "output_type": "stream",
     "text": [
      " 48%|████▊     | 359/750 [1:13:05<1:21:02, 12.44s/it]"
     ]
    },
    {
     "name": "stdout",
     "output_type": "stream",
     "text": [
      "error: code=401\n",
      "url=https://api-us.faceplusplus.com/facepp/v3/compare\n",
      "b'{\"error_message\":\"AUTHENTICATION_ERROR\"}\\n'\n",
      "error: code=401\n",
      "url=https://api-us.faceplusplus.com/facepp/v3/compare\n",
      "b'{\"error_message\":\"AUTHENTICATION_ERROR\"}\\n'\n",
      "error: code=401\n",
      "url=https://api-us.faceplusplus.com/facepp/v3/compare\n",
      "b'{\"error_message\":\"AUTHENTICATION_ERROR\"}\\n'\n",
      "error: code=401\n",
      "url=https://api-us.faceplusplus.com/facepp/v3/compare\n",
      "b'{\"error_message\":\"AUTHENTICATION_ERROR\"}\\n'\n",
      "error: code=401\n",
      "url=https://api-us.faceplusplus.com/facepp/v3/compare\n",
      "b'{\"error_message\":\"AUTHENTICATION_ERROR\"}\\n'\n",
      "error: code=401\n",
      "url=https://api-us.faceplusplus.com/facepp/v3/compare\n",
      "b'{\"error_message\":\"AUTHENTICATION_ERROR\"}\\n'\n",
      "error: code=401\n",
      "url=https://api-us.faceplusplus.com/facepp/v3/compare\n",
      "b'{\"error_message\":\"AUTHENTICATION_ERROR\"}\\n'\n",
      "error: code=401\n",
      "url=https://api-us.faceplusplus.com/facepp/v3/compare\n",
      "b'{\"error_message\":\"AUTHENTICATION_ERROR\"}\\n'\n"
     ]
    },
    {
     "name": "stderr",
     "output_type": "stream",
     "text": [
      " 48%|████▊     | 360/750 [1:13:17<1:20:18, 12.35s/it]"
     ]
    },
    {
     "name": "stdout",
     "output_type": "stream",
     "text": [
      "error: code=401\n",
      "url=https://api-us.faceplusplus.com/facepp/v3/compare\n",
      "b'{\"error_message\":\"AUTHENTICATION_ERROR\"}\\n'\n",
      "error: code=401\n",
      "url=https://api-us.faceplusplus.com/facepp/v3/compare\n",
      "b'{\"error_message\":\"AUTHENTICATION_ERROR\"}\\n'\n",
      "error: code=401\n",
      "url=https://api-us.faceplusplus.com/facepp/v3/compare\n",
      "b'{\"error_message\":\"AUTHENTICATION_ERROR\"}\\n'\n",
      "error: code=401\n",
      "url=https://api-us.faceplusplus.com/facepp/v3/compare\n",
      "b'{\"error_message\":\"AUTHENTICATION_ERROR\"}\\n'\n",
      "error: code=401\n",
      "url=https://api-us.faceplusplus.com/facepp/v3/compare\n",
      "b'{\"error_message\":\"AUTHENTICATION_ERROR\"}\\n'\n",
      "error: code=401\n",
      "url=https://api-us.faceplusplus.com/facepp/v3/compare\n",
      "b'{\"error_message\":\"AUTHENTICATION_ERROR\"}\\n'\n",
      "error: code=401\n",
      "url=https://api-us.faceplusplus.com/facepp/v3/compare\n",
      "b'{\"error_message\":\"AUTHENTICATION_ERROR\"}\\n'\n",
      "error: code=401\n",
      "url=https://api-us.faceplusplus.com/facepp/v3/compare\n",
      "b'{\"error_message\":\"AUTHENTICATION_ERROR\"}\\n'\n"
     ]
    },
    {
     "name": "stderr",
     "output_type": "stream",
     "text": [
      " 48%|████▊     | 361/750 [1:13:30<1:20:16, 12.38s/it]"
     ]
    },
    {
     "name": "stdout",
     "output_type": "stream",
     "text": [
      "error: code=401\n",
      "url=https://api-us.faceplusplus.com/facepp/v3/compare\n",
      "b'{\"error_message\":\"AUTHENTICATION_ERROR\"}\\n'\n",
      "error: code=401\n",
      "url=https://api-us.faceplusplus.com/facepp/v3/compare\n",
      "b'{\"error_message\":\"AUTHENTICATION_ERROR\"}\\n'\n",
      "error: code=401\n",
      "url=https://api-us.faceplusplus.com/facepp/v3/compare\n",
      "b'{\"error_message\":\"AUTHENTICATION_ERROR\"}\\n'\n",
      "error: code=401\n",
      "url=https://api-us.faceplusplus.com/facepp/v3/compare\n",
      "b'{\"error_message\":\"AUTHENTICATION_ERROR\"}\\n'\n",
      "error: code=401\n",
      "url=https://api-us.faceplusplus.com/facepp/v3/compare\n",
      "b'{\"error_message\":\"AUTHENTICATION_ERROR\"}\\n'\n",
      "error: code=401\n",
      "url=https://api-us.faceplusplus.com/facepp/v3/compare\n",
      "b'{\"error_message\":\"AUTHENTICATION_ERROR\"}\\n'\n",
      "error: code=401\n",
      "url=https://api-us.faceplusplus.com/facepp/v3/compare\n",
      "b'{\"error_message\":\"AUTHENTICATION_ERROR\"}\\n'\n",
      "error: code=401\n",
      "url=https://api-us.faceplusplus.com/facepp/v3/compare\n",
      "b'{\"error_message\":\"AUTHENTICATION_ERROR\"}\\n'\n"
     ]
    },
    {
     "name": "stderr",
     "output_type": "stream",
     "text": [
      " 48%|████▊     | 362/750 [1:13:43<1:21:21, 12.58s/it]"
     ]
    },
    {
     "name": "stdout",
     "output_type": "stream",
     "text": [
      "error: code=401\n",
      "url=https://api-us.faceplusplus.com/facepp/v3/compare\n",
      "b'{\"error_message\":\"AUTHENTICATION_ERROR\"}\\n'\n",
      "error: code=401\n",
      "url=https://api-us.faceplusplus.com/facepp/v3/compare\n",
      "b'{\"error_message\":\"AUTHENTICATION_ERROR\"}\\n'\n",
      "error: code=401\n",
      "url=https://api-us.faceplusplus.com/facepp/v3/compare\n",
      "b'{\"error_message\":\"AUTHENTICATION_ERROR\"}\\n'\n",
      "error: code=401\n",
      "url=https://api-us.faceplusplus.com/facepp/v3/compare\n",
      "b'{\"error_message\":\"AUTHENTICATION_ERROR\"}\\n'\n",
      "error: code=401\n",
      "url=https://api-us.faceplusplus.com/facepp/v3/compare\n",
      "b'{\"error_message\":\"AUTHENTICATION_ERROR\"}\\n'\n",
      "error: code=401\n",
      "url=https://api-us.faceplusplus.com/facepp/v3/compare\n",
      "b'{\"error_message\":\"AUTHENTICATION_ERROR\"}\\n'\n",
      "error: code=401\n",
      "url=https://api-us.faceplusplus.com/facepp/v3/compare\n",
      "b'{\"error_message\":\"AUTHENTICATION_ERROR\"}\\n'\n",
      "error: code=401\n",
      "url=https://api-us.faceplusplus.com/facepp/v3/compare\n",
      "b'{\"error_message\":\"AUTHENTICATION_ERROR\"}\\n'\n"
     ]
    },
    {
     "name": "stderr",
     "output_type": "stream",
     "text": [
      " 48%|████▊     | 363/750 [1:13:55<1:20:28, 12.48s/it]"
     ]
    },
    {
     "name": "stdout",
     "output_type": "stream",
     "text": [
      "error: code=401\n",
      "url=https://api-us.faceplusplus.com/facepp/v3/compare\n",
      "b'{\"error_message\":\"AUTHENTICATION_ERROR\"}\\n'\n",
      "error: code=401\n",
      "url=https://api-us.faceplusplus.com/facepp/v3/compare\n",
      "b'{\"error_message\":\"AUTHENTICATION_ERROR\"}\\n'\n",
      "error: code=401\n",
      "url=https://api-us.faceplusplus.com/facepp/v3/compare\n",
      "b'{\"error_message\":\"AUTHENTICATION_ERROR\"}\\n'\n",
      "error: code=401\n",
      "url=https://api-us.faceplusplus.com/facepp/v3/compare\n",
      "b'{\"error_message\":\"AUTHENTICATION_ERROR\"}\\n'\n",
      "error: code=401\n",
      "url=https://api-us.faceplusplus.com/facepp/v3/compare\n",
      "b'{\"error_message\":\"AUTHENTICATION_ERROR\"}\\n'\n"
     ]
    },
    {
     "name": "stderr",
     "output_type": "stream",
     "text": [
      " 48%|████▊     | 363/750 [1:14:02<1:18:56, 12.24s/it]\n"
     ]
    },
    {
     "ename": "KeyboardInterrupt",
     "evalue": "",
     "output_type": "error",
     "traceback": [
      "\u001B[1;31m---------------------------------------------------------------------------\u001B[0m",
      "\u001B[1;31mKeyboardInterrupt\u001B[0m                         Traceback (most recent call last)",
      "Cell \u001B[1;32mIn[1], line 43\u001B[0m\n\u001B[0;32m     41\u001B[0m torchvision\u001B[38;5;241m.\u001B[39mutils\u001B[38;5;241m.\u001B[39msave_image([target_faces[j] \u001B[38;5;241m*\u001B[39m \u001B[38;5;241m0.5\u001B[39m \u001B[38;5;241m+\u001B[39m \u001B[38;5;241m0.5\u001B[39m], \u001B[38;5;124m'\u001B[39m\u001B[38;5;124m./test/target.png\u001B[39m\u001B[38;5;124m'\u001B[39m, nrow\u001B[38;5;241m=\u001B[39m\u001B[38;5;241m1\u001B[39m)\n\u001B[0;32m     42\u001B[0m torchvision\u001B[38;5;241m.\u001B[39mutils\u001B[38;5;241m.\u001B[39msave_image([fake_afters[j] \u001B[38;5;241m*\u001B[39m \u001B[38;5;241m0.5\u001B[39m \u001B[38;5;241m+\u001B[39m \u001B[38;5;241m0.5\u001B[39m], \u001B[38;5;124m'\u001B[39m\u001B[38;5;124m./test/fake.png\u001B[39m\u001B[38;5;124m'\u001B[39m, nrow\u001B[38;5;241m=\u001B[39m\u001B[38;5;241m1\u001B[39m)\n\u001B[1;32m---> 43\u001B[0m res \u001B[38;5;241m=\u001B[39m \u001B[43mface_compare\u001B[49m\u001B[43m(\u001B[49m\u001B[43mface1_path\u001B[49m\u001B[38;5;241;43m=\u001B[39;49m\u001B[38;5;124;43m'\u001B[39;49m\u001B[38;5;124;43m./test/target.png\u001B[39;49m\u001B[38;5;124;43m'\u001B[39;49m\u001B[43m,\u001B[49m\u001B[43m \u001B[49m\u001B[43mface2_path\u001B[49m\u001B[38;5;241;43m=\u001B[39;49m\u001B[38;5;124;43m'\u001B[39;49m\u001B[38;5;124;43m./test/fake.png\u001B[39;49m\u001B[38;5;124;43m'\u001B[39;49m\u001B[43m)\u001B[49m\n\u001B[0;32m     44\u001B[0m \u001B[38;5;28;01mif\u001B[39;00m res \u001B[38;5;129;01mis\u001B[39;00m \u001B[38;5;28;01mNone\u001B[39;00m:\n\u001B[0;32m     45\u001B[0m     x \u001B[38;5;241m=\u001B[39m x\u001B[38;5;241m+\u001B[39m\u001B[38;5;241m1\u001B[39m\n",
      "File \u001B[1;32mC:\\yy\\source\\Desktop\\读研是一条艰苦的道路\\1. 论文\\做实验\\myCode\\myCode\\4 FrAdv\\AdvFaceGAN\\official_api\\facepp.py:28\u001B[0m, in \u001B[0;36mface_compare\u001B[1;34m(face1_path, face2_path)\u001B[0m\n\u001B[0;32m     26\u001B[0m confidence \u001B[38;5;241m=\u001B[39m \u001B[38;5;28;01mNone\u001B[39;00m\n\u001B[0;32m     27\u001B[0m \u001B[38;5;28;01mtry\u001B[39;00m:\n\u001B[1;32m---> 28\u001B[0m     resp \u001B[38;5;241m=\u001B[39m \u001B[43mapi\u001B[49m\u001B[38;5;241;43m.\u001B[39;49m\u001B[43mcompare\u001B[49m\u001B[43m(\u001B[49m\u001B[43mimage_file1\u001B[49m\u001B[38;5;241;43m=\u001B[39;49m\u001B[43mFile\u001B[49m\u001B[43m(\u001B[49m\u001B[43mface1_path\u001B[49m\u001B[43m)\u001B[49m\u001B[43m,\u001B[49m\n\u001B[0;32m     29\u001B[0m \u001B[43m                       \u001B[49m\u001B[43mimage_file2\u001B[49m\u001B[38;5;241;43m=\u001B[39;49m\u001B[43mFile\u001B[49m\u001B[43m(\u001B[49m\u001B[43mface2_path\u001B[49m\u001B[43m)\u001B[49m\u001B[43m)\u001B[49m\n\u001B[0;32m     30\u001B[0m     confidence \u001B[38;5;241m=\u001B[39m resp[\u001B[38;5;124m'\u001B[39m\u001B[38;5;124mconfidence\u001B[39m\u001B[38;5;124m'\u001B[39m]\n\u001B[0;32m     31\u001B[0m \u001B[38;5;28;01mexcept\u001B[39;00m \u001B[38;5;167;01mException\u001B[39;00m \u001B[38;5;28;01mas\u001B[39;00m error:\n\u001B[0;32m     32\u001B[0m     \u001B[38;5;66;03m# 获取整体报错信息\u001B[39;00m\n",
      "File \u001B[1;32mC:\\yy\\source\\Desktop\\读研是一条艰苦的道路\\1. 论文\\做实验\\myCode\\myCode\\4 FrAdv\\AdvFaceGAN\\official_api\\FacePPSDK\\facepp.py:167\u001B[0m, in \u001B[0;36m_APIProxy.__call__\u001B[1;34m(self, *args, **kargs)\u001B[0m\n\u001B[0;32m    165\u001B[0m retry \u001B[38;5;241m-\u001B[39m\u001B[38;5;241m=\u001B[39m \u001B[38;5;241m1\u001B[39m\n\u001B[0;32m    166\u001B[0m \u001B[38;5;28;01mtry\u001B[39;00m:\n\u001B[1;32m--> 167\u001B[0m     ret \u001B[38;5;241m=\u001B[39m \u001B[43murlopen\u001B[49m\u001B[43m(\u001B[49m\u001B[43mrequest\u001B[49m\u001B[43m,\u001B[49m\u001B[43m \u001B[49m\u001B[43mtimeout\u001B[49m\u001B[38;5;241;43m=\u001B[39;49m\u001B[38;5;28;43mself\u001B[39;49m\u001B[38;5;241;43m.\u001B[39;49m\u001B[43m_api\u001B[49m\u001B[38;5;241;43m.\u001B[39;49m\u001B[43mtimeout\u001B[49m\u001B[43m)\u001B[49m\u001B[38;5;241m.\u001B[39mread()\n\u001B[0;32m    168\u001B[0m     \u001B[38;5;28;01mbreak\u001B[39;00m\n\u001B[0;32m    169\u001B[0m \u001B[38;5;28;01mexcept\u001B[39;00m HTTPError \u001B[38;5;28;01mas\u001B[39;00m e:\n",
      "File \u001B[1;32mC:\\yy\\installed_software\\Anaconda3\\envs\\AdvFaceGAN\\Lib\\urllib\\request.py:215\u001B[0m, in \u001B[0;36murlopen\u001B[1;34m(url, data, timeout, cafile, capath, cadefault, context)\u001B[0m\n\u001B[0;32m    213\u001B[0m \u001B[38;5;28;01melse\u001B[39;00m:\n\u001B[0;32m    214\u001B[0m     opener \u001B[38;5;241m=\u001B[39m _opener\n\u001B[1;32m--> 215\u001B[0m \u001B[38;5;28;01mreturn\u001B[39;00m \u001B[43mopener\u001B[49m\u001B[38;5;241;43m.\u001B[39;49m\u001B[43mopen\u001B[49m\u001B[43m(\u001B[49m\u001B[43murl\u001B[49m\u001B[43m,\u001B[49m\u001B[43m \u001B[49m\u001B[43mdata\u001B[49m\u001B[43m,\u001B[49m\u001B[43m \u001B[49m\u001B[43mtimeout\u001B[49m\u001B[43m)\u001B[49m\n",
      "File \u001B[1;32mC:\\yy\\installed_software\\Anaconda3\\envs\\AdvFaceGAN\\Lib\\urllib\\request.py:515\u001B[0m, in \u001B[0;36mOpenerDirector.open\u001B[1;34m(self, fullurl, data, timeout)\u001B[0m\n\u001B[0;32m    512\u001B[0m     req \u001B[38;5;241m=\u001B[39m meth(req)\n\u001B[0;32m    514\u001B[0m sys\u001B[38;5;241m.\u001B[39maudit(\u001B[38;5;124m'\u001B[39m\u001B[38;5;124murllib.Request\u001B[39m\u001B[38;5;124m'\u001B[39m, req\u001B[38;5;241m.\u001B[39mfull_url, req\u001B[38;5;241m.\u001B[39mdata, req\u001B[38;5;241m.\u001B[39mheaders, req\u001B[38;5;241m.\u001B[39mget_method())\n\u001B[1;32m--> 515\u001B[0m response \u001B[38;5;241m=\u001B[39m \u001B[38;5;28;43mself\u001B[39;49m\u001B[38;5;241;43m.\u001B[39;49m\u001B[43m_open\u001B[49m\u001B[43m(\u001B[49m\u001B[43mreq\u001B[49m\u001B[43m,\u001B[49m\u001B[43m \u001B[49m\u001B[43mdata\u001B[49m\u001B[43m)\u001B[49m\n\u001B[0;32m    517\u001B[0m \u001B[38;5;66;03m# post-process response\u001B[39;00m\n\u001B[0;32m    518\u001B[0m meth_name \u001B[38;5;241m=\u001B[39m protocol\u001B[38;5;241m+\u001B[39m\u001B[38;5;124m\"\u001B[39m\u001B[38;5;124m_response\u001B[39m\u001B[38;5;124m\"\u001B[39m\n",
      "File \u001B[1;32mC:\\yy\\installed_software\\Anaconda3\\envs\\AdvFaceGAN\\Lib\\urllib\\request.py:532\u001B[0m, in \u001B[0;36mOpenerDirector._open\u001B[1;34m(self, req, data)\u001B[0m\n\u001B[0;32m    529\u001B[0m     \u001B[38;5;28;01mreturn\u001B[39;00m result\n\u001B[0;32m    531\u001B[0m protocol \u001B[38;5;241m=\u001B[39m req\u001B[38;5;241m.\u001B[39mtype\n\u001B[1;32m--> 532\u001B[0m result \u001B[38;5;241m=\u001B[39m \u001B[38;5;28;43mself\u001B[39;49m\u001B[38;5;241;43m.\u001B[39;49m\u001B[43m_call_chain\u001B[49m\u001B[43m(\u001B[49m\u001B[38;5;28;43mself\u001B[39;49m\u001B[38;5;241;43m.\u001B[39;49m\u001B[43mhandle_open\u001B[49m\u001B[43m,\u001B[49m\u001B[43m \u001B[49m\u001B[43mprotocol\u001B[49m\u001B[43m,\u001B[49m\u001B[43m \u001B[49m\u001B[43mprotocol\u001B[49m\u001B[43m \u001B[49m\u001B[38;5;241;43m+\u001B[39;49m\n\u001B[0;32m    533\u001B[0m \u001B[43m                          \u001B[49m\u001B[38;5;124;43m'\u001B[39;49m\u001B[38;5;124;43m_open\u001B[39;49m\u001B[38;5;124;43m'\u001B[39;49m\u001B[43m,\u001B[49m\u001B[43m \u001B[49m\u001B[43mreq\u001B[49m\u001B[43m)\u001B[49m\n\u001B[0;32m    534\u001B[0m \u001B[38;5;28;01mif\u001B[39;00m result:\n\u001B[0;32m    535\u001B[0m     \u001B[38;5;28;01mreturn\u001B[39;00m result\n",
      "File \u001B[1;32mC:\\yy\\installed_software\\Anaconda3\\envs\\AdvFaceGAN\\Lib\\urllib\\request.py:492\u001B[0m, in \u001B[0;36mOpenerDirector._call_chain\u001B[1;34m(self, chain, kind, meth_name, *args)\u001B[0m\n\u001B[0;32m    490\u001B[0m \u001B[38;5;28;01mfor\u001B[39;00m handler \u001B[38;5;129;01min\u001B[39;00m handlers:\n\u001B[0;32m    491\u001B[0m     func \u001B[38;5;241m=\u001B[39m \u001B[38;5;28mgetattr\u001B[39m(handler, meth_name)\n\u001B[1;32m--> 492\u001B[0m     result \u001B[38;5;241m=\u001B[39m \u001B[43mfunc\u001B[49m\u001B[43m(\u001B[49m\u001B[38;5;241;43m*\u001B[39;49m\u001B[43margs\u001B[49m\u001B[43m)\u001B[49m\n\u001B[0;32m    493\u001B[0m     \u001B[38;5;28;01mif\u001B[39;00m result \u001B[38;5;129;01mis\u001B[39;00m \u001B[38;5;129;01mnot\u001B[39;00m \u001B[38;5;28;01mNone\u001B[39;00m:\n\u001B[0;32m    494\u001B[0m         \u001B[38;5;28;01mreturn\u001B[39;00m result\n",
      "File \u001B[1;32mC:\\yy\\installed_software\\Anaconda3\\envs\\AdvFaceGAN\\Lib\\urllib\\request.py:1392\u001B[0m, in \u001B[0;36mHTTPSHandler.https_open\u001B[1;34m(self, req)\u001B[0m\n\u001B[0;32m   1391\u001B[0m \u001B[38;5;28;01mdef\u001B[39;00m \u001B[38;5;21mhttps_open\u001B[39m(\u001B[38;5;28mself\u001B[39m, req):\n\u001B[1;32m-> 1392\u001B[0m     \u001B[38;5;28;01mreturn\u001B[39;00m \u001B[38;5;28;43mself\u001B[39;49m\u001B[38;5;241;43m.\u001B[39;49m\u001B[43mdo_open\u001B[49m\u001B[43m(\u001B[49m\u001B[43mhttp\u001B[49m\u001B[38;5;241;43m.\u001B[39;49m\u001B[43mclient\u001B[49m\u001B[38;5;241;43m.\u001B[39;49m\u001B[43mHTTPSConnection\u001B[49m\u001B[43m,\u001B[49m\u001B[43m \u001B[49m\u001B[43mreq\u001B[49m\u001B[43m,\u001B[49m\n\u001B[0;32m   1393\u001B[0m \u001B[43m                        \u001B[49m\u001B[43mcontext\u001B[49m\u001B[38;5;241;43m=\u001B[39;49m\u001B[38;5;28;43mself\u001B[39;49m\u001B[38;5;241;43m.\u001B[39;49m\u001B[43m_context\u001B[49m\u001B[43m)\u001B[49m\n",
      "File \u001B[1;32mC:\\yy\\installed_software\\Anaconda3\\envs\\AdvFaceGAN\\Lib\\urllib\\request.py:1344\u001B[0m, in \u001B[0;36mAbstractHTTPHandler.do_open\u001B[1;34m(self, http_class, req, **http_conn_args)\u001B[0m\n\u001B[0;32m   1342\u001B[0m \u001B[38;5;28;01mtry\u001B[39;00m:\n\u001B[0;32m   1343\u001B[0m     \u001B[38;5;28;01mtry\u001B[39;00m:\n\u001B[1;32m-> 1344\u001B[0m         \u001B[43mh\u001B[49m\u001B[38;5;241;43m.\u001B[39;49m\u001B[43mrequest\u001B[49m\u001B[43m(\u001B[49m\u001B[43mreq\u001B[49m\u001B[38;5;241;43m.\u001B[39;49m\u001B[43mget_method\u001B[49m\u001B[43m(\u001B[49m\u001B[43m)\u001B[49m\u001B[43m,\u001B[49m\u001B[43m \u001B[49m\u001B[43mreq\u001B[49m\u001B[38;5;241;43m.\u001B[39;49m\u001B[43mselector\u001B[49m\u001B[43m,\u001B[49m\u001B[43m \u001B[49m\u001B[43mreq\u001B[49m\u001B[38;5;241;43m.\u001B[39;49m\u001B[43mdata\u001B[49m\u001B[43m,\u001B[49m\u001B[43m \u001B[49m\u001B[43mheaders\u001B[49m\u001B[43m,\u001B[49m\n\u001B[0;32m   1345\u001B[0m \u001B[43m                  \u001B[49m\u001B[43mencode_chunked\u001B[49m\u001B[38;5;241;43m=\u001B[39;49m\u001B[43mreq\u001B[49m\u001B[38;5;241;43m.\u001B[39;49m\u001B[43mhas_header\u001B[49m\u001B[43m(\u001B[49m\u001B[38;5;124;43m'\u001B[39;49m\u001B[38;5;124;43mTransfer-encoding\u001B[39;49m\u001B[38;5;124;43m'\u001B[39;49m\u001B[43m)\u001B[49m\u001B[43m)\u001B[49m\n\u001B[0;32m   1346\u001B[0m     \u001B[38;5;28;01mexcept\u001B[39;00m \u001B[38;5;167;01mOSError\u001B[39;00m \u001B[38;5;28;01mas\u001B[39;00m err: \u001B[38;5;66;03m# timeout error\u001B[39;00m\n\u001B[0;32m   1347\u001B[0m         \u001B[38;5;28;01mraise\u001B[39;00m URLError(err)\n",
      "File \u001B[1;32mC:\\yy\\installed_software\\Anaconda3\\envs\\AdvFaceGAN\\Lib\\http\\client.py:1336\u001B[0m, in \u001B[0;36mHTTPConnection.request\u001B[1;34m(self, method, url, body, headers, encode_chunked)\u001B[0m\n\u001B[0;32m   1333\u001B[0m \u001B[38;5;28;01mdef\u001B[39;00m \u001B[38;5;21mrequest\u001B[39m(\u001B[38;5;28mself\u001B[39m, method, url, body\u001B[38;5;241m=\u001B[39m\u001B[38;5;28;01mNone\u001B[39;00m, headers\u001B[38;5;241m=\u001B[39m{}, \u001B[38;5;241m*\u001B[39m,\n\u001B[0;32m   1334\u001B[0m             encode_chunked\u001B[38;5;241m=\u001B[39m\u001B[38;5;28;01mFalse\u001B[39;00m):\n\u001B[0;32m   1335\u001B[0m \u001B[38;5;250m    \u001B[39m\u001B[38;5;124;03m\"\"\"Send a complete request to the server.\"\"\"\u001B[39;00m\n\u001B[1;32m-> 1336\u001B[0m     \u001B[38;5;28;43mself\u001B[39;49m\u001B[38;5;241;43m.\u001B[39;49m\u001B[43m_send_request\u001B[49m\u001B[43m(\u001B[49m\u001B[43mmethod\u001B[49m\u001B[43m,\u001B[49m\u001B[43m \u001B[49m\u001B[43murl\u001B[49m\u001B[43m,\u001B[49m\u001B[43m \u001B[49m\u001B[43mbody\u001B[49m\u001B[43m,\u001B[49m\u001B[43m \u001B[49m\u001B[43mheaders\u001B[49m\u001B[43m,\u001B[49m\u001B[43m \u001B[49m\u001B[43mencode_chunked\u001B[49m\u001B[43m)\u001B[49m\n",
      "File \u001B[1;32mC:\\yy\\installed_software\\Anaconda3\\envs\\AdvFaceGAN\\Lib\\http\\client.py:1382\u001B[0m, in \u001B[0;36mHTTPConnection._send_request\u001B[1;34m(self, method, url, body, headers, encode_chunked)\u001B[0m\n\u001B[0;32m   1378\u001B[0m \u001B[38;5;28;01mif\u001B[39;00m \u001B[38;5;28misinstance\u001B[39m(body, \u001B[38;5;28mstr\u001B[39m):\n\u001B[0;32m   1379\u001B[0m     \u001B[38;5;66;03m# RFC 2616 Section 3.7.1 says that text default has a\u001B[39;00m\n\u001B[0;32m   1380\u001B[0m     \u001B[38;5;66;03m# default charset of iso-8859-1.\u001B[39;00m\n\u001B[0;32m   1381\u001B[0m     body \u001B[38;5;241m=\u001B[39m _encode(body, \u001B[38;5;124m'\u001B[39m\u001B[38;5;124mbody\u001B[39m\u001B[38;5;124m'\u001B[39m)\n\u001B[1;32m-> 1382\u001B[0m \u001B[38;5;28;43mself\u001B[39;49m\u001B[38;5;241;43m.\u001B[39;49m\u001B[43mendheaders\u001B[49m\u001B[43m(\u001B[49m\u001B[43mbody\u001B[49m\u001B[43m,\u001B[49m\u001B[43m \u001B[49m\u001B[43mencode_chunked\u001B[49m\u001B[38;5;241;43m=\u001B[39;49m\u001B[43mencode_chunked\u001B[49m\u001B[43m)\u001B[49m\n",
      "File \u001B[1;32mC:\\yy\\installed_software\\Anaconda3\\envs\\AdvFaceGAN\\Lib\\http\\client.py:1331\u001B[0m, in \u001B[0;36mHTTPConnection.endheaders\u001B[1;34m(self, message_body, encode_chunked)\u001B[0m\n\u001B[0;32m   1329\u001B[0m \u001B[38;5;28;01melse\u001B[39;00m:\n\u001B[0;32m   1330\u001B[0m     \u001B[38;5;28;01mraise\u001B[39;00m CannotSendHeader()\n\u001B[1;32m-> 1331\u001B[0m \u001B[38;5;28;43mself\u001B[39;49m\u001B[38;5;241;43m.\u001B[39;49m\u001B[43m_send_output\u001B[49m\u001B[43m(\u001B[49m\u001B[43mmessage_body\u001B[49m\u001B[43m,\u001B[49m\u001B[43m \u001B[49m\u001B[43mencode_chunked\u001B[49m\u001B[38;5;241;43m=\u001B[39;49m\u001B[43mencode_chunked\u001B[49m\u001B[43m)\u001B[49m\n",
      "File \u001B[1;32mC:\\yy\\installed_software\\Anaconda3\\envs\\AdvFaceGAN\\Lib\\http\\client.py:1091\u001B[0m, in \u001B[0;36mHTTPConnection._send_output\u001B[1;34m(self, message_body, encode_chunked)\u001B[0m\n\u001B[0;32m   1089\u001B[0m msg \u001B[38;5;241m=\u001B[39m \u001B[38;5;124mb\u001B[39m\u001B[38;5;124m\"\u001B[39m\u001B[38;5;130;01m\\r\u001B[39;00m\u001B[38;5;130;01m\\n\u001B[39;00m\u001B[38;5;124m\"\u001B[39m\u001B[38;5;241m.\u001B[39mjoin(\u001B[38;5;28mself\u001B[39m\u001B[38;5;241m.\u001B[39m_buffer)\n\u001B[0;32m   1090\u001B[0m \u001B[38;5;28;01mdel\u001B[39;00m \u001B[38;5;28mself\u001B[39m\u001B[38;5;241m.\u001B[39m_buffer[:]\n\u001B[1;32m-> 1091\u001B[0m \u001B[38;5;28;43mself\u001B[39;49m\u001B[38;5;241;43m.\u001B[39;49m\u001B[43msend\u001B[49m\u001B[43m(\u001B[49m\u001B[43mmsg\u001B[49m\u001B[43m)\u001B[49m\n\u001B[0;32m   1093\u001B[0m \u001B[38;5;28;01mif\u001B[39;00m message_body \u001B[38;5;129;01mis\u001B[39;00m \u001B[38;5;129;01mnot\u001B[39;00m \u001B[38;5;28;01mNone\u001B[39;00m:\n\u001B[0;32m   1094\u001B[0m \n\u001B[0;32m   1095\u001B[0m     \u001B[38;5;66;03m# create a consistent interface to message_body\u001B[39;00m\n\u001B[0;32m   1096\u001B[0m     \u001B[38;5;28;01mif\u001B[39;00m \u001B[38;5;28mhasattr\u001B[39m(message_body, \u001B[38;5;124m'\u001B[39m\u001B[38;5;124mread\u001B[39m\u001B[38;5;124m'\u001B[39m):\n\u001B[0;32m   1097\u001B[0m         \u001B[38;5;66;03m# Let file-like take precedence over byte-like.  This\u001B[39;00m\n\u001B[0;32m   1098\u001B[0m         \u001B[38;5;66;03m# is needed to allow the current position of mmap'ed\u001B[39;00m\n\u001B[0;32m   1099\u001B[0m         \u001B[38;5;66;03m# files to be taken into account.\u001B[39;00m\n",
      "File \u001B[1;32mC:\\yy\\installed_software\\Anaconda3\\envs\\AdvFaceGAN\\Lib\\http\\client.py:1035\u001B[0m, in \u001B[0;36mHTTPConnection.send\u001B[1;34m(self, data)\u001B[0m\n\u001B[0;32m   1033\u001B[0m \u001B[38;5;28;01mif\u001B[39;00m \u001B[38;5;28mself\u001B[39m\u001B[38;5;241m.\u001B[39msock \u001B[38;5;129;01mis\u001B[39;00m \u001B[38;5;28;01mNone\u001B[39;00m:\n\u001B[0;32m   1034\u001B[0m     \u001B[38;5;28;01mif\u001B[39;00m \u001B[38;5;28mself\u001B[39m\u001B[38;5;241m.\u001B[39mauto_open:\n\u001B[1;32m-> 1035\u001B[0m         \u001B[38;5;28;43mself\u001B[39;49m\u001B[38;5;241;43m.\u001B[39;49m\u001B[43mconnect\u001B[49m\u001B[43m(\u001B[49m\u001B[43m)\u001B[49m\n\u001B[0;32m   1036\u001B[0m     \u001B[38;5;28;01melse\u001B[39;00m:\n\u001B[0;32m   1037\u001B[0m         \u001B[38;5;28;01mraise\u001B[39;00m NotConnected()\n",
      "File \u001B[1;32mC:\\yy\\installed_software\\Anaconda3\\envs\\AdvFaceGAN\\Lib\\http\\client.py:1470\u001B[0m, in \u001B[0;36mHTTPSConnection.connect\u001B[1;34m(self)\u001B[0m\n\u001B[0;32m   1467\u001B[0m \u001B[38;5;28;01mdef\u001B[39;00m \u001B[38;5;21mconnect\u001B[39m(\u001B[38;5;28mself\u001B[39m):\n\u001B[0;32m   1468\u001B[0m     \u001B[38;5;124m\"\u001B[39m\u001B[38;5;124mConnect to a host on a given (SSL) port.\u001B[39m\u001B[38;5;124m\"\u001B[39m\n\u001B[1;32m-> 1470\u001B[0m     \u001B[38;5;28;43msuper\u001B[39;49m\u001B[43m(\u001B[49m\u001B[43m)\u001B[49m\u001B[38;5;241;43m.\u001B[39;49m\u001B[43mconnect\u001B[49m\u001B[43m(\u001B[49m\u001B[43m)\u001B[49m\n\u001B[0;32m   1472\u001B[0m     \u001B[38;5;28;01mif\u001B[39;00m \u001B[38;5;28mself\u001B[39m\u001B[38;5;241m.\u001B[39m_tunnel_host:\n\u001B[0;32m   1473\u001B[0m         server_hostname \u001B[38;5;241m=\u001B[39m \u001B[38;5;28mself\u001B[39m\u001B[38;5;241m.\u001B[39m_tunnel_host\n",
      "File \u001B[1;32mC:\\yy\\installed_software\\Anaconda3\\envs\\AdvFaceGAN\\Lib\\http\\client.py:1001\u001B[0m, in \u001B[0;36mHTTPConnection.connect\u001B[1;34m(self)\u001B[0m\n\u001B[0;32m    999\u001B[0m \u001B[38;5;250m\u001B[39m\u001B[38;5;124;03m\"\"\"Connect to the host and port specified in __init__.\"\"\"\u001B[39;00m\n\u001B[0;32m   1000\u001B[0m sys\u001B[38;5;241m.\u001B[39maudit(\u001B[38;5;124m\"\u001B[39m\u001B[38;5;124mhttp.client.connect\u001B[39m\u001B[38;5;124m\"\u001B[39m, \u001B[38;5;28mself\u001B[39m, \u001B[38;5;28mself\u001B[39m\u001B[38;5;241m.\u001B[39mhost, \u001B[38;5;28mself\u001B[39m\u001B[38;5;241m.\u001B[39mport)\n\u001B[1;32m-> 1001\u001B[0m \u001B[38;5;28mself\u001B[39m\u001B[38;5;241m.\u001B[39msock \u001B[38;5;241m=\u001B[39m \u001B[38;5;28;43mself\u001B[39;49m\u001B[38;5;241;43m.\u001B[39;49m\u001B[43m_create_connection\u001B[49m\u001B[43m(\u001B[49m\n\u001B[0;32m   1002\u001B[0m \u001B[43m    \u001B[49m\u001B[43m(\u001B[49m\u001B[38;5;28;43mself\u001B[39;49m\u001B[38;5;241;43m.\u001B[39;49m\u001B[43mhost\u001B[49m\u001B[43m,\u001B[49m\u001B[38;5;28;43mself\u001B[39;49m\u001B[38;5;241;43m.\u001B[39;49m\u001B[43mport\u001B[49m\u001B[43m)\u001B[49m\u001B[43m,\u001B[49m\u001B[43m \u001B[49m\u001B[38;5;28;43mself\u001B[39;49m\u001B[38;5;241;43m.\u001B[39;49m\u001B[43mtimeout\u001B[49m\u001B[43m,\u001B[49m\u001B[43m \u001B[49m\u001B[38;5;28;43mself\u001B[39;49m\u001B[38;5;241;43m.\u001B[39;49m\u001B[43msource_address\u001B[49m\u001B[43m)\u001B[49m\n\u001B[0;32m   1003\u001B[0m \u001B[38;5;66;03m# Might fail in OSs that don't implement TCP_NODELAY\u001B[39;00m\n\u001B[0;32m   1004\u001B[0m \u001B[38;5;28;01mtry\u001B[39;00m:\n",
      "File \u001B[1;32mC:\\yy\\installed_software\\Anaconda3\\envs\\AdvFaceGAN\\Lib\\socket.py:838\u001B[0m, in \u001B[0;36mcreate_connection\u001B[1;34m(address, timeout, source_address, all_errors)\u001B[0m\n\u001B[0;32m    836\u001B[0m \u001B[38;5;28;01mif\u001B[39;00m source_address:\n\u001B[0;32m    837\u001B[0m     sock\u001B[38;5;241m.\u001B[39mbind(source_address)\n\u001B[1;32m--> 838\u001B[0m \u001B[43msock\u001B[49m\u001B[38;5;241;43m.\u001B[39;49m\u001B[43mconnect\u001B[49m\u001B[43m(\u001B[49m\u001B[43msa\u001B[49m\u001B[43m)\u001B[49m\n\u001B[0;32m    839\u001B[0m \u001B[38;5;66;03m# Break explicitly a reference cycle\u001B[39;00m\n\u001B[0;32m    840\u001B[0m exceptions\u001B[38;5;241m.\u001B[39mclear()\n",
      "\u001B[1;31mKeyboardInterrupt\u001B[0m: "
     ]
    }
   ],
   "execution_count": 1
  },
  {
   "cell_type": "code",
   "outputs": [
    {
     "name": "stdout",
     "output_type": "stream",
     "text": [
      "------------------------加载测试集-------------------------\n",
      "30000 images of 30000 classes loaded\n",
      "-----------------------启动分批队列------------------------\n",
      "-----------------------加载生成器------------------------\n",
      "-----------------------开始api测试------------------------\n"
     ]
    },
    {
     "name": "stderr",
     "output_type": "stream",
     "text": [
      "  2%|▏         | 16/750 [04:25<3:32:03, 17.33s/it]"
     ]
    },
    {
     "name": "stdout",
     "output_type": "stream",
     "text": [
      "error: 'confidence'\n"
     ]
    },
    {
     "name": "stderr",
     "output_type": "stream",
     "text": [
      "  5%|▍         | 34/750 [09:31<3:26:02, 17.27s/it]"
     ]
    },
    {
     "name": "stdout",
     "output_type": "stream",
     "text": [
      "error: 'confidence'\n"
     ]
    },
    {
     "name": "stderr",
     "output_type": "stream",
     "text": [
      "  5%|▌         | 38/750 [10:36<3:17:18, 16.63s/it]"
     ]
    },
    {
     "name": "stdout",
     "output_type": "stream",
     "text": [
      "error: 'confidence'\n"
     ]
    },
    {
     "name": "stderr",
     "output_type": "stream",
     "text": [
      "  9%|▉         | 67/750 [18:41<3:10:06, 16.70s/it]"
     ]
    },
    {
     "name": "stdout",
     "output_type": "stream",
     "text": [
      "error: 'confidence'\n"
     ]
    },
    {
     "name": "stderr",
     "output_type": "stream",
     "text": [
      " 12%|█▏        | 90/750 [25:13<3:00:34, 16.42s/it]"
     ]
    },
    {
     "name": "stdout",
     "output_type": "stream",
     "text": [
      "error: 'confidence'\n"
     ]
    },
    {
     "name": "stderr",
     "output_type": "stream",
     "text": [
      " 14%|█▍        | 105/750 [29:30<3:01:51, 16.92s/it]"
     ]
    },
    {
     "name": "stdout",
     "output_type": "stream",
     "text": [
      "error: 'confidence'\n"
     ]
    },
    {
     "name": "stderr",
     "output_type": "stream",
     "text": [
      " 25%|██▍       | 187/750 [53:18<2:52:44, 18.41s/it]"
     ]
    },
    {
     "name": "stdout",
     "output_type": "stream",
     "text": [
      "error: 'confidence'\n"
     ]
    },
    {
     "name": "stderr",
     "output_type": "stream",
     "text": [
      " 29%|██▉       | 221/750 [1:03:32<2:33:08, 17.37s/it]"
     ]
    },
    {
     "name": "stdout",
     "output_type": "stream",
     "text": [
      "error: 'confidence'\n"
     ]
    },
    {
     "name": "stderr",
     "output_type": "stream",
     "text": [
      " 30%|██▉       | 222/750 [1:03:51<2:37:13, 17.87s/it]"
     ]
    },
    {
     "name": "stdout",
     "output_type": "stream",
     "text": [
      "error: 'confidence'\n"
     ]
    },
    {
     "name": "stderr",
     "output_type": "stream",
     "text": [
      " 33%|███▎      | 245/750 [1:10:55<2:35:26, 18.47s/it]"
     ]
    },
    {
     "name": "stdout",
     "output_type": "stream",
     "text": [
      "error: 'confidence'\n"
     ]
    },
    {
     "name": "stderr",
     "output_type": "stream",
     "text": [
      " 36%|███▌      | 271/750 [1:18:57<2:24:20, 18.08s/it]"
     ]
    },
    {
     "name": "stdout",
     "output_type": "stream",
     "text": [
      "error: 'confidence'\n"
     ]
    },
    {
     "name": "stderr",
     "output_type": "stream",
     "text": [
      " 38%|███▊      | 287/750 [1:24:04<2:23:49, 18.64s/it]"
     ]
    },
    {
     "name": "stdout",
     "output_type": "stream",
     "text": [
      "error: 'confidence'\n"
     ]
    },
    {
     "name": "stderr",
     "output_type": "stream",
     "text": [
      " 41%|████▏     | 311/750 [1:31:33<2:20:06, 19.15s/it]"
     ]
    },
    {
     "name": "stdout",
     "output_type": "stream",
     "text": [
      "error: 'confidence'\n"
     ]
    },
    {
     "name": "stderr",
     "output_type": "stream",
     "text": [
      " 44%|████▍     | 329/750 [1:37:16<2:12:31, 18.89s/it]"
     ]
    },
    {
     "name": "stdout",
     "output_type": "stream",
     "text": [
      "error: 'confidence'\n"
     ]
    },
    {
     "name": "stderr",
     "output_type": "stream",
     "text": [
      " 48%|████▊     | 362/750 [1:47:37<2:02:14, 18.90s/it]"
     ]
    },
    {
     "name": "stdout",
     "output_type": "stream",
     "text": [
      "error: 'confidence'\n"
     ]
    },
    {
     "name": "stderr",
     "output_type": "stream",
     "text": [
      " 49%|████▉     | 371/750 [1:50:32<2:05:37, 19.89s/it]"
     ]
    },
    {
     "name": "stdout",
     "output_type": "stream",
     "text": [
      "error: 'confidence'\n"
     ]
    },
    {
     "name": "stderr",
     "output_type": "stream",
     "text": [
      " 50%|████▉     | 373/750 [1:51:06<1:54:44, 18.26s/it]"
     ]
    },
    {
     "name": "stdout",
     "output_type": "stream",
     "text": [
      "error: 'confidence'\n",
      "error: 'confidence'\n",
      "error: 'confidence'\n"
     ]
    },
    {
     "name": "stderr",
     "output_type": "stream",
     "text": [
      " 55%|█████▍    | 411/750 [2:02:52<1:43:14, 18.27s/it]"
     ]
    },
    {
     "name": "stdout",
     "output_type": "stream",
     "text": [
      "error: 'confidence'\n"
     ]
    },
    {
     "name": "stderr",
     "output_type": "stream",
     "text": [
      " 57%|█████▋    | 429/750 [2:08:40<1:46:25, 19.89s/it]"
     ]
    },
    {
     "name": "stdout",
     "output_type": "stream",
     "text": [
      "error: 'confidence'\n"
     ]
    },
    {
     "name": "stderr",
     "output_type": "stream",
     "text": [
      " 59%|█████▉    | 441/750 [2:12:41<1:43:51, 20.17s/it]"
     ]
    },
    {
     "name": "stdout",
     "output_type": "stream",
     "text": [
      "error: 'confidence'\n"
     ]
    },
    {
     "name": "stderr",
     "output_type": "stream",
     "text": [
      " 59%|█████▉    | 446/750 [2:14:20<1:43:28, 20.42s/it]"
     ]
    },
    {
     "name": "stdout",
     "output_type": "stream",
     "text": [
      "error: 'confidence'\n"
     ]
    },
    {
     "name": "stderr",
     "output_type": "stream",
     "text": [
      " 63%|██████▎   | 469/750 [2:21:43<1:27:38, 18.71s/it]"
     ]
    },
    {
     "name": "stdout",
     "output_type": "stream",
     "text": [
      "error: 'confidence'\n"
     ]
    },
    {
     "name": "stderr",
     "output_type": "stream",
     "text": [
      " 63%|██████▎   | 472/750 [2:22:41<1:28:55, 19.19s/it]"
     ]
    },
    {
     "name": "stdout",
     "output_type": "stream",
     "text": [
      "error: 'confidence'\n"
     ]
    },
    {
     "name": "stderr",
     "output_type": "stream",
     "text": [
      " 66%|██████▋   | 497/750 [2:30:50<1:21:28, 19.32s/it]"
     ]
    },
    {
     "name": "stdout",
     "output_type": "stream",
     "text": [
      "error: 'confidence'\n"
     ]
    },
    {
     "name": "stderr",
     "output_type": "stream",
     "text": [
      " 68%|██████▊   | 508/750 [2:34:14<1:15:44, 18.78s/it]"
     ]
    },
    {
     "name": "stdout",
     "output_type": "stream",
     "text": [
      "error: 'confidence'\n"
     ]
    },
    {
     "name": "stderr",
     "output_type": "stream",
     "text": [
      " 69%|██████▊   | 514/750 [2:36:07<1:12:24, 18.41s/it]"
     ]
    },
    {
     "name": "stdout",
     "output_type": "stream",
     "text": [
      "error: 'confidence'\n"
     ]
    },
    {
     "name": "stderr",
     "output_type": "stream",
     "text": [
      " 72%|███████▏  | 542/750 [2:45:16<1:08:42, 19.82s/it]"
     ]
    },
    {
     "name": "stdout",
     "output_type": "stream",
     "text": [
      "error: 'confidence'\n"
     ]
    },
    {
     "name": "stderr",
     "output_type": "stream",
     "text": [
      " 73%|███████▎  | 545/750 [2:46:14<1:06:44, 19.53s/it]"
     ]
    },
    {
     "name": "stdout",
     "output_type": "stream",
     "text": [
      "error: 'confidence'\n"
     ]
    },
    {
     "name": "stderr",
     "output_type": "stream",
     "text": [
      " 77%|███████▋  | 577/750 [2:56:58<1:00:07, 20.85s/it]"
     ]
    },
    {
     "name": "stdout",
     "output_type": "stream",
     "text": [
      "error: 'confidence'\n"
     ]
    },
    {
     "name": "stderr",
     "output_type": "stream",
     "text": [
      " 77%|███████▋  | 578/750 [2:57:18<58:47, 20.51s/it]  "
     ]
    }
   ],
   "source": [
    "import numpy as np\n",
    "import torch\n",
    "import torchvision\n",
    "from tqdm import tqdm\n",
    "from torchmetrics.functional import structural_similarity_index_measure as ssim\n",
    "from official_api.facepp import face_compare\n",
    "\n",
    "from AdvFaceGAN import Generator\n",
    "from utils.dataset import Dataset\n",
    "\n",
    "print(\"------------------------加载测试集-------------------------\")\n",
    "test_set = Dataset(\"D:/datasets/celeba-hq/celeba_hq-112x112/\", \"target\")\n",
    "print(\"-----------------------启动分批队列------------------------\")\n",
    "batch_size = 8\n",
    "test_set.start_batch_queue(\n",
    "    batch_size=batch_size,\n",
    "    batch_format=\"random_samples\",\n",
    "    transforms=torchvision.transforms.Compose([\n",
    "        torchvision.transforms.Resize((112,112)),  # 调整图片大小\n",
    "        torchvision.transforms.ToTensor(),  # 图片转为Tensor [0,1]\n",
    "        torchvision.transforms.Normalize(mean=[0.5, 0.5, 0.5], std=[0.5, 0.5, 0.5]),  # 归一化\n",
    "    ]),\n",
    "    num_threads=2,\n",
    ")\n",
    "print(\"-----------------------加载生成器------------------------\")\n",
    "fake_generator = Generator(is_target=True).eval().cuda()\n",
    "model_generator_dict = torch.load(r\"D:\\yy\\source\\Desktop\\读研是一条艰苦的道路\\1. 论文\\做实验\\myCode\\4 FrAdv\\AdvFaceGAN\\save_dir\\target 3 8白盒 正确ssim 无stloss\\model\\00650_generator.pth\")\n",
    "fake_generator.load_state_dict(model_generator_dict)\n",
    "\n",
    "print(\"-----------------------开始api测试------------------------\")\n",
    "with torch.no_grad():\n",
    "    epoch = 750\n",
    "    before = []\n",
    "    after = []\n",
    "    ssim_res = []\n",
    "    x=0\n",
    "    for i in tqdm(range(0, epoch), total=epoch):\n",
    "        batch = test_set.pop_batch_queue()\n",
    "        source_faces = batch['sources'].cuda()\n",
    "        target_faces = batch['targets'].cuda()\n",
    "        perts, fake_afters = fake_generator.forward(source_faces, target_faces)\n",
    "        for j in range(0, batch_size):\n",
    "            torchvision.utils.save_image([target_faces[j] * 0.5 + 0.5], './test/target.png', nrow=1)\n",
    "            torchvision.utils.save_image([fake_afters[j] * 0.5 + 0.5], './test/fake.png', nrow=1)\n",
    "            res = face_compare(face1_path='./test/target.png', face2_path='./test/fake.png')\n",
    "            if res is None:\n",
    "                x = x+1\n",
    "                torchvision.utils.save_image([source_faces[j] * 0.5 + 0.5], './wrong/facepp/source{}_{}.png'.format(x, batch['sources_name'][j]), nrow=1)\n",
    "                torchvision.utils.save_image([target_faces[j] * 0.5 + 0.5], './wrong/facepp/target{}_{}.png'.format(x, batch['targets_name'][j]), nrow=1)\n",
    "                continue\n",
    "            if res is not None:\n",
    "                after.append(res)\n",
    "        ssim_res.append(ssim(source_faces, fake_afters).item())\n",
    "    \n",
    "    print(np.mean(after))\n",
    "    after = np.array(after)\n",
    "    print(np.sum(after > 62.327) / len(after))\n",
    "    print(np.sum(after > 69.101) / len(after))\n",
    "    print(np.sum(after > 73.975) / len(after))\n",
    "    \n",
    "    print(ssim_res)\n",
    "    print(np.mean(ssim_res))\n"
   ],
   "metadata": {
    "collapsed": false,
    "is_executing": true,
    "ExecuteTime": {
     "start_time": "2024-07-25T10:23:35.374977Z"
    }
   },
   "id": "c8e1adc06e710f6d",
   "execution_count": null
  },
  {
   "cell_type": "code",
   "source": [
    "# # 算TAR\n",
    "import numpy as np\n",
    "import torch\n",
    "import torchvision\n",
    "from tqdm import tqdm\n",
    "from official_api.facepp import face_compare\n",
    "\n",
    "from utils.dataset import Dataset\n",
    "\n",
    "print(\"------------------------加载测试集-------------------------\")\n",
    "test_set = Dataset(\"C:/yy/datasets/celeba-hq/celeba_hq-112x112/\", \"target\")\n",
    "print(\"-----------------------启动分批队列------------------------\")\n",
    "batch_size = 8\n",
    "test_set.start_batch_queue(\n",
    "    batch_size=batch_size,\n",
    "    batch_format=\"random_samples\",\n",
    "    transforms=torchvision.transforms.Compose([\n",
    "        torchvision.transforms.Resize((112,112)),  # 调整图片大小\n",
    "        torchvision.transforms.ToTensor(),  # 图片转为Tensor [0,1]\n",
    "        torchvision.transforms.Normalize(mean=[0.5, 0.5, 0.5], std=[0.5, 0.5, 0.5]),  # 归一化\n",
    "    ]),\n",
    "    num_threads=2,\n",
    "    untarget_same=False\n",
    ")\n",
    "\n",
    "print(\"-----------------------开始api测试------------------------\")\n",
    "with torch.no_grad():\n",
    "    epoch = 200\n",
    "    before = []\n",
    "    x=0\n",
    "    for i in tqdm(range(0, epoch), total=epoch):\n",
    "        batch = test_set.pop_batch_queue()\n",
    "        source_faces = batch['sources'].cuda()\n",
    "        target_faces = batch['targets'].cuda()\n",
    "        for j in range(0, batch_size):\n",
    "            torchvision.utils.save_image([source_faces[j] * 0.5 + 0.5], './test/source.png', nrow=1)\n",
    "            torchvision.utils.save_image([target_faces[j] * 0.5 + 0.5], './test/target.png', nrow=1)\n",
    "            res = face_compare(face1_path='./test/target.png', face2_path='./test/source.png')\n",
    "            if res is None:\n",
    "                x = x+1\n",
    "                torchvision.utils.save_image([source_faces[j] * 0.5 + 0.5], './wrong/facepp/source{}_{}.png'.format(x, batch['sources_name'][j]), nrow=1)\n",
    "                torchvision.utils.save_image([target_faces[j] * 0.5 + 0.5], './wrong/facepp/target{}_{}.png'.format(x, batch['targets_name'][j]), nrow=1)\n",
    "            if res is not None:\n",
    "                before.append(res)\n",
    "    print(np.mean(before))\n",
    "    before = np.array(before)\n",
    "    print(np.sum(after < 62.327) / len(before))\n",
    "    print(np.sum(after < 69.101) / len(before))\n",
    "    print(np.sum(after < 73.975) / len(before))"
   ],
   "metadata": {
    "collapsed": false,
    "is_executing": true,
    "jupyter": {
     "is_executing": true
    }
   },
   "id": "90f6ae0fab80e35e",
   "outputs": [],
   "execution_count": null
  },
  {
   "metadata": {
    "jupyter": {
     "is_executing": true
    },
    "ExecuteTime": {
     "start_time": "2024-07-27T12:37:43.885213Z"
    }
   },
   "cell_type": "code",
   "source": [
    "# 算FAR\n",
    "import numpy as np\n",
    "import torch\n",
    "import torchvision\n",
    "from tqdm import tqdm\n",
    "from official_api.aliyun import face_compare\n",
    "\n",
    "from utils.dataset import Dataset\n",
    "\n",
    "print(\"------------------------加载测试集-------------------------\")\n",
    "test_set = Dataset(\"C:/yy/datasets/celeba-hq/celeba_hq-112x112/\", \"target\")\n",
    "print(\"-----------------------启动分批队列------------------------\")\n",
    "batch_size = 8\n",
    "test_set.start_batch_queue(\n",
    "    batch_size=batch_size,\n",
    "    batch_format=\"random_samples\",\n",
    "    transforms=torchvision.transforms.Compose([\n",
    "        torchvision.transforms.Resize((112,112)),  # 调整图片大小\n",
    "        torchvision.transforms.ToTensor(),  # 图片转为Tensor [0,1]\n",
    "        torchvision.transforms.Normalize(mean=[0.5, 0.5, 0.5], std=[0.5, 0.5, 0.5]),  # 归一化\n",
    "    ]),\n",
    "    num_threads=2,\n",
    "    untarget_same=False\n",
    ")\n",
    "\n",
    "print(\"-----------------------开始api测试------------------------\")\n",
    "with torch.no_grad():\n",
    "    epoch = 200\n",
    "    before = []\n",
    "    x=0\n",
    "    for i in tqdm(range(0, epoch), total=epoch):\n",
    "        batch = test_set.pop_batch_queue()\n",
    "        source_faces = batch['sources'].cuda()\n",
    "        target_faces = batch['targets'].cuda()\n",
    "        for j in range(0, batch_size):\n",
    "            torchvision.utils.save_image([source_faces[j] * 0.5 + 0.5], './test/source.png', nrow=1)\n",
    "            torchvision.utils.save_image([target_faces[j] * 0.5 + 0.5], './test/target.png', nrow=1)\n",
    "            res = face_compare(face1_path='./test/target.png', face2_path='./test/source.png')\n",
    "            if res is None:\n",
    "                x = x+1\n",
    "                torchvision.utils.save_image([source_faces[j] * 0.5 + 0.5], './wrong/facepp/source{}_{}.png'.format(x, batch['sources_name'][j]), nrow=1)\n",
    "                torchvision.utils.save_image([target_faces[j] * 0.5 + 0.5], './wrong/facepp/target{}_{}.png'.format(x, batch['targets_name'][j]), nrow=1)\n",
    "            if res is not None:\n",
    "                before.append(res)\n",
    "    print(np.mean(before))\n",
    "    before = np.array(before)\n",
    "    print(np.sum(after > 62.327) / len(before))\n",
    "    print(np.sum(after > 69.101) / len(before))\n",
    "    print(np.sum(after > 73.975) / len(before))"
   ],
   "id": "72c2a76d4e5a1395",
   "outputs": [],
   "execution_count": null
  },
  {
   "cell_type": "code",
   "outputs": [],
   "source": [],
   "metadata": {
    "collapsed": false
   },
   "id": "3cdaef7e9668d0c0",
   "execution_count": null
  }
 ],
 "metadata": {
  "kernelspec": {
   "name": "advfacegan",
   "language": "python",
   "display_name": "AdvFaceGAN"
  },
  "language_info": {
   "codemirror_mode": {
    "name": "ipython",
    "version": 2
   },
   "file_extension": ".py",
   "mimetype": "text/x-python",
   "name": "python",
   "nbconvert_exporter": "python",
   "pygments_lexer": "ipython2",
   "version": "2.7.6"
  }
 },
 "nbformat": 4,
 "nbformat_minor": 5
}
