{
 "cells": [
  {
   "cell_type": "code",
   "outputs": [
    {
     "name": "stdout",
     "output_type": "stream",
     "text": [
      "------------------------加载测试集-------------------------\n",
      "9164 images of 1680 classes loaded\n",
      "-----------------------启动分批队列------------------------\n",
      "-----------------------开始api测试------------------------\n"
     ]
    },
    {
     "name": "stderr",
     "output_type": "stream",
     "text": [
      " 11%|█         | 81/750 [10:01<1:22:32,  7.40s/it]"
     ]
    },
    {
     "name": "stdout",
     "output_type": "stream",
     "text": [
      "Error: InvalidImage.NotFoundFace code: 404, 图像中没找到人脸，请检查您的图像中是否包含人脸或人脸太小 - 没有检测到人脸，可能是输入图片没有人脸、人脸太小(人脸占比应超过64*64像素)、图像中人脸质量较低或图像过度拉伸等导致。请检查是否存在人脸、人脸大小和图像人脸质量后再次尝试。 - EAS_FACE_NOT_EXIST request id: 648A3F8A-4AB7-5908-86BA-B756927A5971 Response: {'RequestId': '648A3F8A-4AB7-5908-86BA-B756927A5971', 'HostId': 'facebody.cn-shanghai.aliyuncs.com', 'Code': 'InvalidImage.NotFoundFace', 'Message': '图像中没找到人脸，请检查您的图像中是否包含人脸或人脸太小 - 没有检测到人脸，可能是输入图片没有人脸、人脸太小(人脸占比应超过64*64像素)、图像中人脸质量较低或图像过度拉伸等导致。请检查是否存在人脸、人脸大小和图像人脸质量后再次尝试。 - EAS_FACE_NOT_EXIST', 'Recommend': 'https://api.aliyun.com/troubleshoot?q=InvalidImage.NotFoundFace&product=facebody&requestId=648A3F8A-4AB7-5908-86BA-B756927A5971', 'statusCode': 404}\n",
      "./test/target.png  和  ./test/source.png\n"
     ]
    },
    {
     "name": "stderr",
     "output_type": "stream",
     "text": [
      " 12%|█▏        | 89/750 [11:03<1:24:50,  7.70s/it]"
     ]
    },
    {
     "name": "stdout",
     "output_type": "stream",
     "text": [
      "Error: InvalidImage.NotFoundFace code: 404, 图像中没找到人脸，请检查您的图像中是否包含人脸或人脸太小 - 没有检测到人脸，可能是输入图片没有人脸、人脸太小(人脸占比应超过64*64像素)、图像中人脸质量较低或图像过度拉伸等导致。请检查是否存在人脸、人脸大小和图像人脸质量后再次尝试。 - EAS_FACE_NOT_EXIST request id: E1899A8D-FD07-5EC2-B2ED-320104CD94E2 Response: {'RequestId': 'E1899A8D-FD07-5EC2-B2ED-320104CD94E2', 'HostId': 'facebody.cn-shanghai.aliyuncs.com', 'Code': 'InvalidImage.NotFoundFace', 'Message': '图像中没找到人脸，请检查您的图像中是否包含人脸或人脸太小 - 没有检测到人脸，可能是输入图片没有人脸、人脸太小(人脸占比应超过64*64像素)、图像中人脸质量较低或图像过度拉伸等导致。请检查是否存在人脸、人脸大小和图像人脸质量后再次尝试。 - EAS_FACE_NOT_EXIST', 'Recommend': 'https://api.aliyun.com/troubleshoot?q=InvalidImage.NotFoundFace&product=facebody&requestId=E1899A8D-FD07-5EC2-B2ED-320104CD94E2', 'statusCode': 404}\n",
      "./test/target.png  和  ./test/source.png\n"
     ]
    },
    {
     "name": "stderr",
     "output_type": "stream",
     "text": [
      " 17%|█▋        | 131/750 [16:13<1:15:51,  7.35s/it]"
     ]
    },
    {
     "name": "stdout",
     "output_type": "stream",
     "text": [
      "Error: InvalidImage.NotFoundFace code: 404, 图像中没找到人脸，请检查您的图像中是否包含人脸或人脸太小 - 没有检测到人脸，可能是输入图片没有人脸、人脸太小(人脸占比应超过64*64像素)、图像中人脸质量较低或图像过度拉伸等导致。请检查是否存在人脸、人脸大小和图像人脸质量后再次尝试。 - EAS_FACE_NOT_EXIST request id: ED46D7C0-B4AF-5033-9811-83BCC5FAA717 Response: {'RequestId': 'ED46D7C0-B4AF-5033-9811-83BCC5FAA717', 'HostId': 'facebody.cn-shanghai.aliyuncs.com', 'Code': 'InvalidImage.NotFoundFace', 'Message': '图像中没找到人脸，请检查您的图像中是否包含人脸或人脸太小 - 没有检测到人脸，可能是输入图片没有人脸、人脸太小(人脸占比应超过64*64像素)、图像中人脸质量较低或图像过度拉伸等导致。请检查是否存在人脸、人脸大小和图像人脸质量后再次尝试。 - EAS_FACE_NOT_EXIST', 'Recommend': 'https://api.aliyun.com/troubleshoot?q=InvalidImage.NotFoundFace&product=facebody&requestId=ED46D7C0-B4AF-5033-9811-83BCC5FAA717', 'statusCode': 404}\n",
      "./test/target.png  和  ./test/source.png\n"
     ]
    },
    {
     "name": "stderr",
     "output_type": "stream",
     "text": [
      " 28%|██▊       | 209/750 [25:54<1:06:38,  7.39s/it]"
     ]
    },
    {
     "name": "stdout",
     "output_type": "stream",
     "text": [
      "Error: InvalidImage.NotFoundFace code: 404, 图像中没找到人脸，请检查您的图像中是否包含人脸或人脸太小 - 没有检测到人脸，可能是输入图片没有人脸、人脸太小(人脸占比应超过64*64像素)、图像中人脸质量较低或图像过度拉伸等导致。请检查是否存在人脸、人脸大小和图像人脸质量后再次尝试。 - EAS_FACE_NOT_EXIST request id: 436FABF8-B560-578F-A4D8-080AF98C52FD Response: {'RequestId': '436FABF8-B560-578F-A4D8-080AF98C52FD', 'HostId': 'facebody.cn-shanghai.aliyuncs.com', 'Code': 'InvalidImage.NotFoundFace', 'Message': '图像中没找到人脸，请检查您的图像中是否包含人脸或人脸太小 - 没有检测到人脸，可能是输入图片没有人脸、人脸太小(人脸占比应超过64*64像素)、图像中人脸质量较低或图像过度拉伸等导致。请检查是否存在人脸、人脸大小和图像人脸质量后再次尝试。 - EAS_FACE_NOT_EXIST', 'Recommend': 'https://api.aliyun.com/troubleshoot?q=InvalidImage.NotFoundFace&product=facebody&requestId=436FABF8-B560-578F-A4D8-080AF98C52FD', 'statusCode': 404}\n",
      "./test/target.png  和  ./test/source.png\n"
     ]
    },
    {
     "name": "stderr",
     "output_type": "stream",
     "text": [
      " 30%|██▉       | 223/750 [27:38<1:04:36,  7.36s/it]"
     ]
    },
    {
     "name": "stdout",
     "output_type": "stream",
     "text": [
      "Error: InvalidImage.NotFoundFace code: 404, 图像中没找到人脸，请检查您的图像中是否包含人脸或人脸太小 - 没有检测到人脸，可能是输入图片没有人脸、人脸太小(人脸占比应超过64*64像素)、图像中人脸质量较低或图像过度拉伸等导致。请检查是否存在人脸、人脸大小和图像人脸质量后再次尝试。 - EAS_FACE_NOT_EXIST request id: 5BCAB56A-CF15-58BC-BE2F-76994DD5BAD9 Response: {'RequestId': '5BCAB56A-CF15-58BC-BE2F-76994DD5BAD9', 'HostId': 'facebody.cn-shanghai.aliyuncs.com', 'Code': 'InvalidImage.NotFoundFace', 'Message': '图像中没找到人脸，请检查您的图像中是否包含人脸或人脸太小 - 没有检测到人脸，可能是输入图片没有人脸、人脸太小(人脸占比应超过64*64像素)、图像中人脸质量较低或图像过度拉伸等导致。请检查是否存在人脸、人脸大小和图像人脸质量后再次尝试。 - EAS_FACE_NOT_EXIST', 'Recommend': 'https://api.aliyun.com/troubleshoot?q=InvalidImage.NotFoundFace&product=facebody&requestId=5BCAB56A-CF15-58BC-BE2F-76994DD5BAD9', 'statusCode': 404}\n",
      "./test/target.png  和  ./test/source.png\n"
     ]
    },
    {
     "name": "stderr",
     "output_type": "stream",
     "text": [
      " 33%|███▎      | 245/750 [30:24<1:04:45,  7.69s/it]"
     ]
    },
    {
     "name": "stdout",
     "output_type": "stream",
     "text": [
      "Error: InvalidImage.NotFoundFace code: 404, 图像中没找到人脸，请检查您的图像中是否包含人脸或人脸太小 - 没有检测到人脸，可能是输入图片没有人脸、人脸太小(人脸占比应超过64*64像素)、图像中人脸质量较低或图像过度拉伸等导致。请检查是否存在人脸、人脸大小和图像人脸质量后再次尝试。 - EAS_FACE_NOT_EXIST request id: 022CEA47-C0F5-5FD7-95C1-6158AA13CD1F Response: {'RequestId': '022CEA47-C0F5-5FD7-95C1-6158AA13CD1F', 'HostId': 'facebody.cn-shanghai.aliyuncs.com', 'Code': 'InvalidImage.NotFoundFace', 'Message': '图像中没找到人脸，请检查您的图像中是否包含人脸或人脸太小 - 没有检测到人脸，可能是输入图片没有人脸、人脸太小(人脸占比应超过64*64像素)、图像中人脸质量较低或图像过度拉伸等导致。请检查是否存在人脸、人脸大小和图像人脸质量后再次尝试。 - EAS_FACE_NOT_EXIST', 'Recommend': 'https://api.aliyun.com/troubleshoot?q=InvalidImage.NotFoundFace&product=facebody&requestId=022CEA47-C0F5-5FD7-95C1-6158AA13CD1F', 'statusCode': 404}\n",
      "./test/target.png  和  ./test/source.png\n"
     ]
    },
    {
     "name": "stderr",
     "output_type": "stream",
     "text": [
      " 40%|███▉      | 298/750 [36:58<54:54,  7.29s/it]  "
     ]
    },
    {
     "name": "stdout",
     "output_type": "stream",
     "text": [
      "Error: InvalidImage.NotFoundFace code: 404, 图像中没找到人脸，请检查您的图像中是否包含人脸或人脸太小 - 没有检测到人脸，可能是输入图片没有人脸、人脸太小(人脸占比应超过64*64像素)、图像中人脸质量较低或图像过度拉伸等导致。请检查是否存在人脸、人脸大小和图像人脸质量后再次尝试。 - EAS_FACE_NOT_EXIST request id: 6169D892-720C-54C0-8892-9117ED72D361 Response: {'RequestId': '6169D892-720C-54C0-8892-9117ED72D361', 'HostId': 'facebody.cn-shanghai.aliyuncs.com', 'Code': 'InvalidImage.NotFoundFace', 'Message': '图像中没找到人脸，请检查您的图像中是否包含人脸或人脸太小 - 没有检测到人脸，可能是输入图片没有人脸、人脸太小(人脸占比应超过64*64像素)、图像中人脸质量较低或图像过度拉伸等导致。请检查是否存在人脸、人脸大小和图像人脸质量后再次尝试。 - EAS_FACE_NOT_EXIST', 'Recommend': 'https://api.aliyun.com/troubleshoot?q=InvalidImage.NotFoundFace&product=facebody&requestId=6169D892-720C-54C0-8892-9117ED72D361', 'statusCode': 404}\n",
      "./test/target.png  和  ./test/source.png\n"
     ]
    },
    {
     "name": "stderr",
     "output_type": "stream",
     "text": [
      " 46%|████▌     | 344/750 [42:40<50:32,  7.47s/it]"
     ]
    },
    {
     "name": "stdout",
     "output_type": "stream",
     "text": [
      "Error: InvalidImage.NotFoundFace code: 404, 图像中没找到人脸，请检查您的图像中是否包含人脸或人脸太小 - 没有检测到人脸，可能是输入图片没有人脸、人脸太小(人脸占比应超过64*64像素)、图像中人脸质量较低或图像过度拉伸等导致。请检查是否存在人脸、人脸大小和图像人脸质量后再次尝试。 - EAS_FACE_NOT_EXIST request id: 64C03E45-2F99-5F84-968E-5F177A718983 Response: {'RequestId': '64C03E45-2F99-5F84-968E-5F177A718983', 'HostId': 'facebody.cn-shanghai.aliyuncs.com', 'Code': 'InvalidImage.NotFoundFace', 'Message': '图像中没找到人脸，请检查您的图像中是否包含人脸或人脸太小 - 没有检测到人脸，可能是输入图片没有人脸、人脸太小(人脸占比应超过64*64像素)、图像中人脸质量较低或图像过度拉伸等导致。请检查是否存在人脸、人脸大小和图像人脸质量后再次尝试。 - EAS_FACE_NOT_EXIST', 'Recommend': 'https://api.aliyun.com/troubleshoot?q=InvalidImage.NotFoundFace&product=facebody&requestId=64C03E45-2F99-5F84-968E-5F177A718983', 'statusCode': 404}\n",
      "./test/target.png  和  ./test/source.png\n"
     ]
    },
    {
     "name": "stderr",
     "output_type": "stream",
     "text": [
      " 50%|█████     | 376/750 [46:35<45:19,  7.27s/it]"
     ]
    },
    {
     "name": "stdout",
     "output_type": "stream",
     "text": [
      "Error: InvalidImage.NotFoundFace code: 404, 图像中没找到人脸，请检查您的图像中是否包含人脸或人脸太小 - 没有检测到人脸，可能是输入图片没有人脸、人脸太小(人脸占比应超过64*64像素)、图像中人脸质量较低或图像过度拉伸等导致。请检查是否存在人脸、人脸大小和图像人脸质量后再次尝试。 - EAS_FACE_NOT_EXIST request id: 78BECF0D-89B2-5E08-BB96-3D2C06608E5F Response: {'RequestId': '78BECF0D-89B2-5E08-BB96-3D2C06608E5F', 'HostId': 'facebody.cn-shanghai.aliyuncs.com', 'Code': 'InvalidImage.NotFoundFace', 'Message': '图像中没找到人脸，请检查您的图像中是否包含人脸或人脸太小 - 没有检测到人脸，可能是输入图片没有人脸、人脸太小(人脸占比应超过64*64像素)、图像中人脸质量较低或图像过度拉伸等导致。请检查是否存在人脸、人脸大小和图像人脸质量后再次尝试。 - EAS_FACE_NOT_EXIST', 'Recommend': 'https://api.aliyun.com/troubleshoot?q=InvalidImage.NotFoundFace&product=facebody&requestId=78BECF0D-89B2-5E08-BB96-3D2C06608E5F', 'statusCode': 404}\n",
      "./test/target.png  和  ./test/source.png\n"
     ]
    },
    {
     "name": "stderr",
     "output_type": "stream",
     "text": [
      " 70%|███████   | 527/750 [1:05:22<27:59,  7.53s/it]"
     ]
    },
    {
     "name": "stdout",
     "output_type": "stream",
     "text": [
      "Error: InvalidImage.NotFoundFace code: 404, 图像中没找到人脸，请检查您的图像中是否包含人脸或人脸太小 - 没有检测到人脸，可能是输入图片没有人脸、人脸太小(人脸占比应超过64*64像素)、图像中人脸质量较低或图像过度拉伸等导致。请检查是否存在人脸、人脸大小和图像人脸质量后再次尝试。 - EAS_FACE_NOT_EXIST request id: 1BB5DB6C-93F3-5BD2-B693-CBB07620EFE7 Response: {'RequestId': '1BB5DB6C-93F3-5BD2-B693-CBB07620EFE7', 'HostId': 'facebody.cn-shanghai.aliyuncs.com', 'Code': 'InvalidImage.NotFoundFace', 'Message': '图像中没找到人脸，请检查您的图像中是否包含人脸或人脸太小 - 没有检测到人脸，可能是输入图片没有人脸、人脸太小(人脸占比应超过64*64像素)、图像中人脸质量较低或图像过度拉伸等导致。请检查是否存在人脸、人脸大小和图像人脸质量后再次尝试。 - EAS_FACE_NOT_EXIST', 'Recommend': 'https://api.aliyun.com/troubleshoot?q=InvalidImage.NotFoundFace&product=facebody&requestId=1BB5DB6C-93F3-5BD2-B693-CBB07620EFE7', 'statusCode': 404}\n",
      "./test/target.png  和  ./test/source.png\n"
     ]
    },
    {
     "name": "stderr",
     "output_type": "stream",
     "text": [
      " 79%|███████▉  | 595/750 [1:13:45<19:20,  7.49s/it]"
     ]
    },
    {
     "name": "stdout",
     "output_type": "stream",
     "text": [
      "Error: InvalidImage.NotFoundFace code: 404, 图像中没找到人脸，请检查您的图像中是否包含人脸或人脸太小 - 没有检测到人脸，可能是输入图片没有人脸、人脸太小(人脸占比应超过64*64像素)、图像中人脸质量较低或图像过度拉伸等导致。请检查是否存在人脸、人脸大小和图像人脸质量后再次尝试。 - EAS_FACE_NOT_EXIST request id: 4671C15B-A32C-52B8-882F-36160949185E Response: {'RequestId': '4671C15B-A32C-52B8-882F-36160949185E', 'HostId': 'facebody.cn-shanghai.aliyuncs.com', 'Code': 'InvalidImage.NotFoundFace', 'Message': '图像中没找到人脸，请检查您的图像中是否包含人脸或人脸太小 - 没有检测到人脸，可能是输入图片没有人脸、人脸太小(人脸占比应超过64*64像素)、图像中人脸质量较低或图像过度拉伸等导致。请检查是否存在人脸、人脸大小和图像人脸质量后再次尝试。 - EAS_FACE_NOT_EXIST', 'Recommend': 'https://api.aliyun.com/troubleshoot?q=InvalidImage.NotFoundFace&product=facebody&requestId=4671C15B-A32C-52B8-882F-36160949185E', 'statusCode': 404}\n",
      "./test/target.png  和  ./test/source.png\n"
     ]
    },
    {
     "name": "stderr",
     "output_type": "stream",
     "text": [
      " 90%|█████████ | 675/750 [1:23:39<09:37,  7.70s/it]"
     ]
    },
    {
     "name": "stdout",
     "output_type": "stream",
     "text": [
      "Error: InvalidImage.NotFoundFace code: 404, 图像中没找到人脸，请检查您的图像中是否包含人脸或人脸太小 - 没有检测到人脸，可能是输入图片没有人脸、人脸太小(人脸占比应超过64*64像素)、图像中人脸质量较低或图像过度拉伸等导致。请检查是否存在人脸、人脸大小和图像人脸质量后再次尝试。 - EAS_FACE_NOT_EXIST request id: E1B8BB57-34F9-5DA8-A16D-048A249005A8 Response: {'RequestId': 'E1B8BB57-34F9-5DA8-A16D-048A249005A8', 'HostId': 'facebody.cn-shanghai.aliyuncs.com', 'Code': 'InvalidImage.NotFoundFace', 'Message': '图像中没找到人脸，请检查您的图像中是否包含人脸或人脸太小 - 没有检测到人脸，可能是输入图片没有人脸、人脸太小(人脸占比应超过64*64像素)、图像中人脸质量较低或图像过度拉伸等导致。请检查是否存在人脸、人脸大小和图像人脸质量后再次尝试。 - EAS_FACE_NOT_EXIST', 'Recommend': 'https://api.aliyun.com/troubleshoot?q=InvalidImage.NotFoundFace&product=facebody&requestId=E1B8BB57-34F9-5DA8-A16D-048A249005A8', 'statusCode': 404}\n",
      "./test/target.png  和  ./test/source.png\n"
     ]
    },
    {
     "name": "stderr",
     "output_type": "stream",
     "text": [
      " 99%|█████████▊| 740/750 [1:31:37<01:13,  7.35s/it]"
     ]
    },
    {
     "name": "stdout",
     "output_type": "stream",
     "text": [
      "Error: InvalidImage.NotFoundFace code: 404, 图像中没找到人脸，请检查您的图像中是否包含人脸或人脸太小 - 没有检测到人脸，可能是输入图片没有人脸、人脸太小(人脸占比应超过64*64像素)、图像中人脸质量较低或图像过度拉伸等导致。请检查是否存在人脸、人脸大小和图像人脸质量后再次尝试。 - EAS_FACE_NOT_EXIST request id: 68D7D286-A2A9-5489-AE63-222E6065B8EF Response: {'RequestId': '68D7D286-A2A9-5489-AE63-222E6065B8EF', 'HostId': 'facebody.cn-shanghai.aliyuncs.com', 'Code': 'InvalidImage.NotFoundFace', 'Message': '图像中没找到人脸，请检查您的图像中是否包含人脸或人脸太小 - 没有检测到人脸，可能是输入图片没有人脸、人脸太小(人脸占比应超过64*64像素)、图像中人脸质量较低或图像过度拉伸等导致。请检查是否存在人脸、人脸大小和图像人脸质量后再次尝试。 - EAS_FACE_NOT_EXIST', 'Recommend': 'https://api.aliyun.com/troubleshoot?q=InvalidImage.NotFoundFace&product=facebody&requestId=68D7D286-A2A9-5489-AE63-222E6065B8EF', 'statusCode': 404}\n",
      "./test/target.png  和  ./test/source.png\n"
     ]
    },
    {
     "name": "stderr",
     "output_type": "stream",
     "text": [
      " 99%|█████████▉| 745/750 [1:32:13<00:35,  7.13s/it]"
     ]
    },
    {
     "name": "stdout",
     "output_type": "stream",
     "text": [
      "Error: InvalidImage.NotFoundFace code: 404, 图像中没找到人脸，请检查您的图像中是否包含人脸或人脸太小 - 没有检测到人脸，可能是输入图片没有人脸、人脸太小(人脸占比应超过64*64像素)、图像中人脸质量较低或图像过度拉伸等导致。请检查是否存在人脸、人脸大小和图像人脸质量后再次尝试。 - EAS_FACE_NOT_EXIST request id: 667B870A-2E5F-5120-8FC9-8473F20A72C1 Response: {'RequestId': '667B870A-2E5F-5120-8FC9-8473F20A72C1', 'HostId': 'facebody.cn-shanghai.aliyuncs.com', 'Code': 'InvalidImage.NotFoundFace', 'Message': '图像中没找到人脸，请检查您的图像中是否包含人脸或人脸太小 - 没有检测到人脸，可能是输入图片没有人脸、人脸太小(人脸占比应超过64*64像素)、图像中人脸质量较低或图像过度拉伸等导致。请检查是否存在人脸、人脸大小和图像人脸质量后再次尝试。 - EAS_FACE_NOT_EXIST', 'Recommend': 'https://api.aliyun.com/troubleshoot?q=InvalidImage.NotFoundFace&product=facebody&requestId=667B870A-2E5F-5120-8FC9-8473F20A72C1', 'statusCode': 404}\n",
      "./test/target.png  和  ./test/source.png\n"
     ]
    },
    {
     "name": "stderr",
     "output_type": "stream",
     "text": [
      "100%|██████████| 750/750 [1:32:49<00:00,  7.43s/it]"
     ]
    },
    {
     "name": "stdout",
     "output_type": "stream",
     "text": [
      "84.91391922461321\n",
      "0.9944871366521885\n",
      "0.9929836284664216\n",
      "0.9924824590711661\n"
     ]
    },
    {
     "name": "stderr",
     "output_type": "stream",
     "text": [
      "\n"
     ]
    }
   ],
   "source": [
    "from official_api.tencent import face_compare\n",
    "import numpy as np\n",
    "import torch\n",
    "import torchvision\n",
    "from tqdm import tqdm\n",
    "from official_api.aliyun import face_compare\n",
    "\n",
    "from utils.dataset import Dataset\n",
    "\n",
    "print(\"------------------------加载测试集-------------------------\")\n",
    "test_set = Dataset(\"D:/datasets/lfw/lfw-aligned-112x112/\", \"untarget\")\n",
    "print(\"-----------------------启动分批队列------------------------\")\n",
    "batch_size = 8\n",
    "test_set.start_batch_queue(\n",
    "    batch_size=batch_size,\n",
    "    batch_format=\"random_samples\",\n",
    "    transforms=torchvision.transforms.Compose([\n",
    "        torchvision.transforms.Resize((112,112)),  # 调整图片大小\n",
    "        torchvision.transforms.ToTensor(),  # 图片转为Tensor [0,1]\n",
    "        torchvision.transforms.Normalize(mean=[0.5, 0.5, 0.5], std=[0.5, 0.5, 0.5]),  # 归一化\n",
    "    ]),\n",
    "    num_threads=3,\n",
    "    untarget_same=False\n",
    ")\n",
    "\n",
    "print(\"-----------------------开始api测试------------------------\")\n",
    "with torch.no_grad():\n",
    "    epoch = 750\n",
    "    before = []\n",
    "    x=0\n",
    "    for i in tqdm(range(0, epoch), total=epoch):\n",
    "        batch = test_set.pop_batch_queue()\n",
    "        source_faces = batch['sources'].cuda()\n",
    "        target_faces = batch['targets'].cuda()\n",
    "        for j in range(0, batch_size):\n",
    "            torchvision.utils.save_image([source_faces[j] * 0.5 + 0.5], './test/source.png', nrow=1)\n",
    "            torchvision.utils.save_image([target_faces[j] * 0.5 + 0.5], './test/target.png', nrow=1)\n",
    "            res = face_compare(face1_path='./test/target.png', face2_path='./test/source.png')\n",
    "            if res is None:\n",
    "                x = x+1\n",
    "                torchvision.utils.save_image([source_faces[j] * 0.5 + 0.5], './wrong/source{}_{}.png'.format(x, batch['sources_name'][j]), nrow=1)\n",
    "                torchvision.utils.save_image([target_faces[j] * 0.5 + 0.5], './wrong/target{}_{}.png'.format(x, batch['targets_name'][j]), nrow=1)\n",
    "            if res is not None:\n",
    "                before.append(res)\n",
    "    print(np.mean(before))\n",
    "    before = np.array(before)\n",
    "    print(np.sum(before > 40) / len(before))\n",
    "    print(np.sum(before > 50) / len(before))\n",
    "    print(np.sum(before > 60) / len(before))\n"
   ],
   "metadata": {
    "collapsed": false,
    "ExecuteTime": {
     "end_time": "2024-06-27T14:22:04.172227Z",
     "start_time": "2024-06-27T12:48:49.475338Z"
    }
   },
   "id": "9cc127aaef8b93ab",
   "execution_count": 7
  },
  {
   "cell_type": "code",
   "outputs": [
    {
     "name": "stdout",
     "output_type": "stream",
     "text": [
      "------------------------加载测试集-------------------------\n",
      "9164 images of 1680 classes loaded\n",
      "-----------------------启动分批队列------------------------\n",
      "-----------------------开始api测试------------------------\n"
     ]
    },
    {
     "name": "stderr",
     "output_type": "stream",
     "text": [
      " 22%|██▏       | 162/750 [28:39<1:44:42, 10.68s/it]"
     ]
    },
    {
     "name": "stdout",
     "output_type": "stream",
     "text": [
      "[TencentCloudSDKException] code:ClientNetworkError message:HTTPSConnectionPool(host='iai.ap-chengdu.tencentcloudapi.com', port=443): Max retries exceeded with url: / (Caused by ProxyError('Unable to connect to proxy', RemoteDisconnected('Remote end closed connection without response'))) requestId:None\n",
      "[TencentCloudSDKException] code:ClientNetworkError message:HTTPSConnectionPool(host='iai.ap-chengdu.tencentcloudapi.com', port=443): Max retries exceeded with url: / (Caused by ProxyError('Unable to connect to proxy', NewConnectionError('<urllib3.connection.HTTPSConnection object at 0x0000028CB73DFC50>: Failed to establish a new connection: [WinError 10061] 由于目标计算机积极拒绝，无法连接。'))) requestId:None\n"
     ]
    },
    {
     "name": "stderr",
     "output_type": "stream",
     "text": [
      " 93%|█████████▎| 701/750 [51:59<02:05,  2.56s/it]  "
     ]
    },
    {
     "name": "stdout",
     "output_type": "stream",
     "text": [
      "[TencentCloudSDKException] code:InvalidParameterValue.NoFaceInPhoto message:图片中没有人脸。 requestId:fae89f8e-0e22-4f04-ae17-a44ab0ea9c5a\n"
     ]
    },
    {
     "name": "stderr",
     "output_type": "stream",
     "text": [
      "100%|██████████| 750/750 [54:06<00:00,  4.33s/it]"
     ]
    },
    {
     "name": "stdout",
     "output_type": "stream",
     "text": [
      "13.128475477526388\n",
      "0.9994997498749375\n",
      "0.9998332499583125\n",
      "1.0\n"
     ]
    },
    {
     "name": "stderr",
     "output_type": "stream",
     "text": [
      "\n"
     ]
    }
   ],
   "source": [
    "import numpy as np\n",
    "import torch\n",
    "import torchvision\n",
    "from tqdm import tqdm\n",
    "from official_api.tencent import face_compare\n",
    "\n",
    "from AdvFaceGAN import Generator\n",
    "from utils.dataset import Dataset\n",
    "\n",
    "print(\"------------------------加载测试集-------------------------\")\n",
    "test_set = Dataset(\"C:/yy/datasets/lfw/lfw-aligned-112x112/\", \"target\")\n",
    "print(\"-----------------------启动分批队列------------------------\")\n",
    "batch_size = 8\n",
    "test_set.start_batch_queue(\n",
    "    batch_size=batch_size,\n",
    "    batch_format=\"random_samples\",\n",
    "    transforms=torchvision.transforms.Compose([\n",
    "        torchvision.transforms.Resize((112,112)),  # 调整图片大小\n",
    "        torchvision.transforms.ToTensor(),  # 图片转为Tensor [0,1]\n",
    "        torchvision.transforms.Normalize(mean=[0.5, 0.5, 0.5], std=[0.5, 0.5, 0.5]),  # 归一化\n",
    "    ]),\n",
    "    num_threads=3,\n",
    "    untarget_same=False\n",
    ")\n",
    "\n",
    "print(\"-----------------------开始api测试------------------------\")\n",
    "with torch.no_grad():\n",
    "    epoch = 750\n",
    "    before = []\n",
    "    x=0\n",
    "    for i in tqdm(range(0, epoch), total=epoch):\n",
    "        batch = test_set.pop_batch_queue()\n",
    "        source_faces = batch['sources'].cuda()\n",
    "        target_faces = batch['targets'].cuda()\n",
    "        for j in range(0, batch_size):\n",
    "            torchvision.utils.save_image([source_faces[j] * 0.5 + 0.5], './test/source.png', nrow=1)\n",
    "            torchvision.utils.save_image([target_faces[j] * 0.5 + 0.5], './test/target.png', nrow=1)\n",
    "            res = face_compare(face1_path='./test/target.png', face2_path='./test/source.png')\n",
    "            if res is None:\n",
    "                x = x+1\n",
    "                torchvision.utils.save_image([source_faces[j] * 0.5 + 0.5], './wrong/source{}_{}.png'.format(x, batch['sources_name'][j]), nrow=1)\n",
    "                torchvision.utils.save_image([target_faces[j] * 0.5 + 0.5], './wrong/target{}_{}.png'.format(x, batch['targets_name'][j]), nrow=1)\n",
    "            if res is not None:\n",
    "                before.append(res)\n",
    "    print(np.mean(before))\n",
    "    before = np.array(before)\n",
    "    print(np.sum(before < 40) / len(before))\n",
    "    print(np.sum(before < 50) / len(before))\n",
    "    print(np.sum(before < 60) / len(before))"
   ],
   "metadata": {
    "collapsed": false,
    "ExecuteTime": {
     "end_time": "2024-06-26T12:04:50.647752Z",
     "start_time": "2024-06-26T11:10:20.376818Z"
    }
   },
   "id": "26be5c595c2e56f5",
   "execution_count": 2
  },
  {
   "cell_type": "code",
   "source": [
    "import numpy as np\n",
    "import torch\n",
    "import torchvision\n",
    "from tqdm import tqdm\n",
    "from official_api.tencent import face_compare\n",
    "\n",
    "from AdvFaceGAN import Generator\n",
    "from utils.dataset import Dataset\n",
    "\n",
    "print(\"------------------------加载测试集-------------------------\")\n",
    "test_set = Dataset(\"C:/yy/datasets/lfw/lfw-aligned-112x112/\", \"target\")\n",
    "print(\"-----------------------启动分批队列------------------------\")\n",
    "batch_size = 8\n",
    "test_set.start_batch_queue(\n",
    "    batch_size=batch_size,\n",
    "    batch_format=\"random_samples\",\n",
    "    transforms=torchvision.transforms.Compose([\n",
    "        torchvision.transforms.Resize((112,112)),  # 调整图片大小\n",
    "        torchvision.transforms.ToTensor(),  # 图片转为Tensor [0,1]\n",
    "        torchvision.transforms.Normalize(mean=[0.5, 0.5, 0.5], std=[0.5, 0.5, 0.5]),  # 归一化\n",
    "    ]),\n",
    "    num_threads=3,\n",
    ")\n",
    "print(\"-----------------------加载生成器------------------------\")\n",
    "fake_generator = Generator(is_target=True).eval().cuda()\n",
    "model_generator_dict = torch.load(r\"C:\\yy\\source\\Desktop\\读研是一条艰苦的道路\\1. 论文\\做实验\\myCode\\myCode\\4 FrAdv\\AdvFaceGAN\\save_dir\\target 4 8白盒 奇怪ssim 97ssim\\model\\00990_generator.pth\")\n",
    "fake_generator.load_state_dict(model_generator_dict)\n",
    "\n",
    "print(\"-----------------------开始api测试------------------------\")\n",
    "with torch.no_grad():\n",
    "    epoch = 750\n",
    "    after = []\n",
    "    x=0\n",
    "    for i in tqdm(range(0, epoch), total=epoch):\n",
    "        batch = test_set.pop_batch_queue()\n",
    "        source_faces = batch['sources'].cuda()\n",
    "        target_faces = batch['targets'].cuda()\n",
    "        perts, fake_afters = fake_generator.forward(source_faces, target_faces)\n",
    "        for j in range(0, batch_size):\n",
    "            torchvision.utils.save_image([target_faces[j] * 0.5 + 0.5], './test/target.png', nrow=1)\n",
    "            torchvision.utils.save_image([fake_afters[j] * 0.5 + 0.5], './test/fake.png', nrow=1)\n",
    "            res = face_compare(face1_path='./test/target.png', face2_path='./test/fake.png')\n",
    "            if res is None:\n",
    "                x = x+1\n",
    "                torchvision.utils.save_image([source_faces[j] * 0.5 + 0.5], './wrong/source{}_{}.png'.format(x, batch['sources_name'][j]), nrow=1)\n",
    "                torchvision.utils.save_image([target_faces[j] * 0.5 + 0.5], './wrong/target{}_{}.png'.format(x, batch['targets_name'][j]), nrow=1)\n",
    "            if res is not None:\n",
    "                after.append(res)\n",
    "    \n",
    "    print(np.mean(after))\n",
    "    after = np.array(after)\n",
    "    print(np.sum(after > 40) / len(after))\n",
    "    print(np.sum(after > 50) / len(after))\n",
    "    print(np.sum(after > 60) / len(after))\n",
    "\n",
    "    \n",
    "'''\n",
    "lfw: \n",
    "同人 TAR\n",
    "84.91391922461321\n",
    "0.9944871366521885\n",
    "0.9929836284664216\n",
    "0.9924824590711661\n",
    "非同人 FAR\n",
    "13.128475477526388\n",
    "0.9994997498749375\n",
    "0.9998332499583125\n",
    "1.0\n",
    "攻击\n",
    "3 650:\n",
    "50.36695955775995\n",
    "0.6575479566305255\n",
    "0.4462051709758132\n",
    "0.2793994995829858\n",
    "4 650:\n",
    "59.967982160591475\n",
    "0.8049065420560748\n",
    "0.625\n",
    "0.4562750333778371\n",
    "0.9075422889391581\n",
    "\n",
    "target 3 8白盒 无stloss\n",
    "51.82696028030897\n",
    "0.686457638425617\n",
    "0.4731487658438959\n",
    "0.3087058038692462\n",
    "\n",
    "target 3 8白盒 奇怪ssim\n",
    "46.59111578590662\n",
    "0.5890502420297112\n",
    "0.3703889167083959\n",
    "0.21732598898347522\n",
    "\n",
    "target 4 8白盒 无stloss\n",
    "61.458156841865986\n",
    "0.8117175763645468\n",
    "0.6521448839926557\n",
    "0.48355867134034386\n",
    "\n",
    "target 4 8白盒 奇怪ssim 97ssim\n",
    "55.66963867486041\n",
    "0.7484979973297731\n",
    "0.5545727636849133\n",
    "0.3821762349799733\n",
    "'''"
   ],
   "metadata": {
    "collapsed": false,
    "ExecuteTime": {
     "end_time": "2024-09-18T03:04:06.120726Z",
     "start_time": "2024-09-18T02:16:46.081370Z"
    }
   },
   "id": "546e8fe1445efa0d",
   "outputs": [
    {
     "name": "stdout",
     "output_type": "stream",
     "text": [
      "------------------------加载测试集-------------------------\n",
      "13233 images of 5749 classes loaded\n",
      "-----------------------启动分批队列------------------------\n",
      "-----------------------加载生成器------------------------\n"
     ]
    },
    {
     "name": "stderr",
     "output_type": "stream",
     "text": [
      "C:\\Users\\28769\\AppData\\Local\\Temp\\ipykernel_24192\\769104974.py:26: FutureWarning: You are using `torch.load` with `weights_only=False` (the current default value), which uses the default pickle module implicitly. It is possible to construct malicious pickle data which will execute arbitrary code during unpickling (See https://github.com/pytorch/pytorch/blob/main/SECURITY.md#untrusted-models for more details). In a future release, the default value for `weights_only` will be flipped to `True`. This limits the functions that could be executed during unpickling. Arbitrary objects will no longer be allowed to be loaded via this mode unless they are explicitly allowlisted by the user via `torch.serialization.add_safe_globals`. We recommend you start setting `weights_only=True` for any use case where you don't have full control of the loaded file. Please open an issue on GitHub for any issues related to this experimental feature.\n",
      "  model_generator_dict = torch.load(r\"C:\\yy\\source\\Desktop\\读研是一条艰苦的道路\\1. 论文\\做实验\\myCode\\myCode\\4 FrAdv\\AdvFaceGAN\\save_dir\\target 4 8白盒 奇怪ssim 97ssim\\model\\00990_generator.pth\")\n"
     ]
    },
    {
     "name": "stdout",
     "output_type": "stream",
     "text": [
      "-----------------------开始api测试------------------------\n"
     ]
    },
    {
     "name": "stderr",
     "output_type": "stream",
     "text": [
      "  0%|          | 0/750 [00:00<?, ?it/s]C:\\yy\\installed_software\\Anaconda3\\envs\\AdvFaceGAN\\Lib\\site-packages\\torch\\storage.py:414: FutureWarning: You are using `torch.load` with `weights_only=False` (the current default value), which uses the default pickle module implicitly. It is possible to construct malicious pickle data which will execute arbitrary code during unpickling (See https://github.com/pytorch/pytorch/blob/main/SECURITY.md#untrusted-models for more details). In a future release, the default value for `weights_only` will be flipped to `True`. This limits the functions that could be executed during unpickling. Arbitrary objects will no longer be allowed to be loaded via this mode unless they are explicitly allowlisted by the user via `torch.serialization.add_safe_globals`. We recommend you start setting `weights_only=True` for any use case where you don't have full control of the loaded file. Please open an issue on GitHub for any issues related to this experimental feature.\n",
      "  return torch.load(io.BytesIO(b))\n",
      " 16%|█▌        | 121/750 [07:27<41:21,  3.94s/it]"
     ]
    },
    {
     "name": "stdout",
     "output_type": "stream",
     "text": [
      "[TencentCloudSDKException] code:InvalidParameterValue.NoFaceInPhoto message:图片中没有人脸。 requestId:9f6ebbe7-7af4-4b72-993c-13f9c8b7aa77\n"
     ]
    },
    {
     "name": "stderr",
     "output_type": "stream",
     "text": [
      " 59%|█████▉    | 445/750 [28:13<18:45,  3.69s/it]"
     ]
    },
    {
     "name": "stdout",
     "output_type": "stream",
     "text": [
      "[TencentCloudSDKException] code:InvalidParameterValue.NoFaceInPhoto message:图片中没有人脸。 requestId:f6d9c9a5-751f-4df6-8f82-0b29d1dfb278\n"
     ]
    },
    {
     "name": "stderr",
     "output_type": "stream",
     "text": [
      " 68%|██████▊   | 507/750 [32:00<15:07,  3.73s/it]"
     ]
    },
    {
     "name": "stdout",
     "output_type": "stream",
     "text": [
      "[TencentCloudSDKException] code:InvalidParameterValue.NoFaceInPhoto message:图片中没有人脸。 requestId:f18bd683-50a1-44e2-b54c-018c4511372b\n"
     ]
    },
    {
     "name": "stderr",
     "output_type": "stream",
     "text": [
      " 75%|███████▍  | 561/750 [35:21<11:40,  3.71s/it]"
     ]
    },
    {
     "name": "stdout",
     "output_type": "stream",
     "text": [
      "[TencentCloudSDKException] code:InvalidParameterValue.NoFaceInPhoto message:图片中没有人脸。 requestId:4efe45bd-1481-4db3-894b-5876f5842860\n"
     ]
    },
    {
     "name": "stderr",
     "output_type": "stream",
     "text": [
      " 78%|███████▊  | 583/750 [36:40<09:59,  3.59s/it]"
     ]
    },
    {
     "name": "stdout",
     "output_type": "stream",
     "text": [
      "[TencentCloudSDKException] code:InvalidParameterValue.NoFaceInPhoto message:图片中没有人脸。 requestId:44fb8ca5-8a9f-4760-8362-8f2d58cfdf04\n"
     ]
    },
    {
     "name": "stderr",
     "output_type": "stream",
     "text": [
      " 82%|████████▏ | 616/750 [38:42<08:44,  3.92s/it]"
     ]
    },
    {
     "name": "stdout",
     "output_type": "stream",
     "text": [
      "[TencentCloudSDKException] code:InvalidParameterValue.NoFaceInPhoto message:图片中没有人脸。 requestId:6ec6268a-e7e4-4172-ade7-29b9c8b1e1ac\n"
     ]
    },
    {
     "name": "stderr",
     "output_type": "stream",
     "text": [
      " 86%|████████▌ | 644/750 [40:24<06:19,  3.58s/it]"
     ]
    },
    {
     "name": "stdout",
     "output_type": "stream",
     "text": [
      "[TencentCloudSDKException] code:InvalidParameterValue.NoFaceInPhoto message:图片中没有人脸。 requestId:535ac1d5-1be5-41ed-951e-36e902458918\n"
     ]
    },
    {
     "name": "stderr",
     "output_type": "stream",
     "text": [
      " 86%|████████▌ | 645/750 [40:28<06:12,  3.55s/it]"
     ]
    },
    {
     "name": "stdout",
     "output_type": "stream",
     "text": [
      "[TencentCloudSDKException] code:InvalidParameterValue.NoFaceInPhoto message:图片中没有人脸。 requestId:b8b797ca-5ce0-409f-b901-1be7cfbbab91\n"
     ]
    },
    {
     "name": "stderr",
     "output_type": "stream",
     "text": [
      "100%|██████████| 750/750 [46:58<00:00,  3.76s/it]"
     ]
    },
    {
     "name": "stdout",
     "output_type": "stream",
     "text": [
      "55.66963867486041\n",
      "0.7484979973297731\n",
      "0.5545727636849133\n",
      "0.3821762349799733\n"
     ]
    },
    {
     "name": "stderr",
     "output_type": "stream",
     "text": [
      "\n"
     ]
    },
    {
     "data": {
      "text/plain": [
       "'\\nlfw: \\n同人 TAR\\n84.91391922461321\\n0.9944871366521885\\n0.9929836284664216\\n0.9924824590711661\\n非同人 FAR\\n13.128475477526388\\n0.9994997498749375\\n0.9998332499583125\\n1.0\\n攻击\\n3 650:\\n50.36695955775995\\n0.6575479566305255\\n0.4462051709758132\\n0.2793994995829858\\n4 650:\\n59.967982160591475\\n0.8049065420560748\\n0.625\\n0.4562750333778371\\n0.9075422889391581\\n\\ntarget 3 8白盒 无stloss\\n51.82696028030897\\n0.686457638425617\\n0.4731487658438959\\n0.3087058038692462\\n\\ntarget 3 8白盒 奇怪ssim\\n46.59111578590662\\n0.5890502420297112\\n0.3703889167083959\\n0.21732598898347522\\n\\ntarget 4 8白盒 无stloss\\n61.458156841865986\\n0.8117175763645468\\n0.6521448839926557\\n0.48355867134034386\\n'"
      ]
     },
     "execution_count": 1,
     "metadata": {},
     "output_type": "execute_result"
    }
   ],
   "execution_count": 1
  },
  {
   "metadata": {
    "ExecuteTime": {
     "end_time": "2024-09-12T06:05:11.471216Z",
     "start_time": "2024-09-12T06:05:11.467323Z"
    }
   },
   "cell_type": "code",
   "source": "",
   "id": "cfa77aaf4e100429",
   "outputs": [],
   "execution_count": 5
  }
 ],
 "metadata": {
  "kernelspec": {
   "name": "advfacegan",
   "language": "python",
   "display_name": "AdvFaceGAN"
  },
  "language_info": {
   "codemirror_mode": {
    "name": "ipython",
    "version": 2
   },
   "file_extension": ".py",
   "mimetype": "text/x-python",
   "name": "python",
   "nbconvert_exporter": "python",
   "pygments_lexer": "ipython2",
   "version": "2.7.6"
  }
 },
 "nbformat": 4,
 "nbformat_minor": 5
}
